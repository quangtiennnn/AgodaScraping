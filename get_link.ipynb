{
 "cells": [
  {
   "cell_type": "code",
   "execution_count": 8,
   "id": "b46dff5d-71c6-4cf8-b1c4-b45a551f7eb9",
   "metadata": {},
   "outputs": [],
   "source": [
    "import pandas as pd\n",
    "import time\n",
    "import os\n",
    "import csv\n",
    "\n",
    "from selenium import webdriver\n",
    "from selenium.webdriver.common.by import By\n",
    "# from seleniumFunction import *\n",
    "from selenium.webdriver.chrome.options import Options\n",
    "from selenium.webdriver.support.ui import WebDriverWait\n",
    "from selenium.webdriver.support import expected_conditions as EC\n",
    "\n",
    "# ==================== GLOBAL VARIABLES\n",
    "# Set Chrome options:\n",
    "chrome_options = Options()\n",
    "# chrome_options.add_argument('--headless')\n",
    "chrome_options.add_argument('--no-sandbox') \n",
    "chrome_options.add_argument(\"--incognito\")\n",
    "chrome_options.add_argument(\"--start-maximized\")\n",
    "chrome_options.add_argument(\"--disable-application-cache\")\n",
    "chrome_options.add_argument(\"--disable-cache\")\n",
    "chrome_options.add_argument(\"--disk-cache-size=0\")"
   ]
  },
  {
   "cell_type": "code",
   "execution_count": 9,
   "id": "a5751ab3-9ae9-4ac9-a321-7db373c9d842",
   "metadata": {},
   "outputs": [],
   "source": [
    "%%capture\n",
    "df = pd.read_csv('vietnam_accommodation.csv')"
   ]
  },
  {
   "cell_type": "code",
   "execution_count": 10,
   "id": "547059b7-2e95-437a-abde-cae0ce2141ec",
   "metadata": {},
   "outputs": [
    {
     "data": {
      "text/plain": [
       "'https://www.agoda.com/partners/partnersearch.aspx?hid=10966'"
      ]
     },
     "execution_count": 10,
     "metadata": {},
     "output_type": "execute_result"
    }
   ],
   "source": [
    "df.url.values[20]"
   ]
  },
  {
   "cell_type": "code",
   "execution_count": 11,
   "id": "86d820df-05b5-4e69-96b5-9b5465757880",
   "metadata": {},
   "outputs": [],
   "source": [
    "def url_edited(url):\n",
    "    try:\n",
    "        parsed_url = urlparse(url)\n",
    "        new_path = \"/vi-vn\" + parsed_url.path\n",
    "        return urlunparse(parsed_url._replace(path=new_path, query=\"\"))\n",
    "    except:\n",
    "        return \"\""
   ]
  },
  {
   "cell_type": "code",
   "execution_count": 12,
   "id": "7e8b98ae-976e-472f-afe0-0514aa89cab3",
   "metadata": {},
   "outputs": [
    {
     "data": {
      "text/plain": [
       "''"
      ]
     },
     "execution_count": 12,
     "metadata": {},
     "output_type": "execute_result"
    }
   ],
   "source": [
    "# import requests\n",
    "# from bs4 import BeautifulSoup\n",
    "\n",
    "# def get_link(url):\n",
    "#     headers = {\n",
    "#         \"User-Agent\": \"Mozilla/5.0 (Windows NT 10.0; Win64; x64) AppleWebKit/537.36 (KHTML, like Gecko) Chrome/86.0.4240.75 Safari/537.36\"\n",
    "#     }\n",
    "#     try:\n",
    "#         response = requests.get(url, headers=headers)\n",
    "#         response.raise_for_status()  # Raises an error for bad responses (e.g., 404)\n",
    "#         soup = BeautifulSoup(response.text, 'html.parser')\n",
    "#         elem = soup.select_one(\"a[data-element-name='property-card-content']\")\n",
    "#         return elem['href'] if elem else \"\"\n",
    "#     except requests.exceptions.RequestException as e:\n",
    "#         return \"\"\n",
    "\n",
    "# # Example usage\n",
    "# url = df.url.values[20]\n",
    "# property_card_url = get_link(url)\n",
    "# property_card_url"
   ]
  },
  {
   "cell_type": "code",
   "execution_count": 16,
   "id": "148a8abf-0bdf-47b8-8264-2a3149f13f95",
   "metadata": {},
   "outputs": [],
   "source": [
    "def url_edited(url):\n",
    "    try:\n",
    "        parsed_url = urlparse(url)\n",
    "        new_path = \"/vi-vn\" + parsed_url.path\n",
    "        return urlunparse(parsed_url._replace(path=new_path, query=\"\"))\n",
    "    except:\n",
    "        return \"\"\n",
    "        \n",
    "def get_url(url):\n",
    "    try:\n",
    "        driver = webdriver.Chrome(chrome_options)\n",
    "        driver.get(url)\n",
    "        elem = driver.find_element(By.CSS_SELECTOR, \"a[data-element-name='property-card-content']\")\n",
    "        href = elem.get_attribute('href')\n",
    "        driver.close()\n",
    "        return href\n",
    "    except:\n",
    "        return \"\"\n"
   ]
  },
  {
   "cell_type": "code",
   "execution_count": 17,
   "id": "cbedb56d-ab8f-4512-b19b-057c94476868",
   "metadata": {},
   "outputs": [
    {
     "data": {
      "text/plain": [
       "'https://www.agoda.com/pan-pacific-hanoi/hotel/hanoi-vn.html?finalPriceView=1&isShowMobileAppPrice=false&cid=-1&numberOfBedrooms=&familyMode=false&adults=1&children=0&rooms=1&maxRooms=0&checkIn=2024-11-21&isCalendarCallout=false&childAges=&numberOfGuest=0&missingChildAges=false&travellerType=-1&showReviewSubmissionEntry=false&currencyCode=VND&isFreeOccSearch=false&tspTypes=16&los=1&searchrequestid=8378b96f-ec7a-42d9-9875-57655195bcd1'"
      ]
     },
     "execution_count": 17,
     "metadata": {},
     "output_type": "execute_result"
    }
   ],
   "source": [
    "get_url('https://www.agoda.com/partners/partnersearch.aspx?hid=10966')"
   ]
  }
 ],
 "metadata": {
  "kernelspec": {
   "display_name": "Python 3 (ipykernel)",
   "language": "python",
   "name": "python3"
  },
  "language_info": {
   "codemirror_mode": {
    "name": "ipython",
    "version": 3
   },
   "file_extension": ".py",
   "mimetype": "text/x-python",
   "name": "python",
   "nbconvert_exporter": "python",
   "pygments_lexer": "ipython3",
   "version": "3.12.7"
  }
 },
 "nbformat": 4,
 "nbformat_minor": 5
}
