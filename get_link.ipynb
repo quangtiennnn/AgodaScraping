{
 "cells": [
  {
   "cell_type": "code",
   "execution_count": 1,
   "id": "b46dff5d-71c6-4cf8-b1c4-b45a551f7eb9",
   "metadata": {},
   "outputs": [],
   "source": [
    "import pandas as pd\n",
    "import time\n",
    "import os\n",
    "import csv\n",
    "\n",
    "from selenium import webdriver\n",
    "from selenium.webdriver.common.by import By\n",
    "# from seleniumFunction import *\n",
    "from selenium.webdriver.chrome.options import Options\n",
    "from selenium.webdriver.support.ui import WebDriverWait\n",
    "from selenium.webdriver.support import expected_conditions as EC\n",
    "from urllib.parse import urlparse, urlunparse\n",
    "\n",
    "# ==================== GLOBAL VARIABLES\n",
    "# Set Chrome options:\n",
    "chrome_options = Options()\n",
    "# chrome_options.add_argument('--headless')\n",
    "chrome_options.add_argument('--no-sandbox') \n",
    "chrome_options.add_argument(\"--incognito\")\n",
    "chrome_options.add_argument(\"--start-maximized\")\n",
    "chrome_options.add_argument(\"--disable-application-cache\")\n",
    "chrome_options.add_argument(\"--disable-cache\")\n",
    "chrome_options.add_argument(\"--disk-cache-size=0\")"
   ]
  },
  {
   "cell_type": "code",
   "execution_count": 2,
   "id": "a5751ab3-9ae9-4ac9-a321-7db373c9d842",
   "metadata": {},
   "outputs": [],
   "source": [
    "%%capture\n",
    "df = pd.read_csv('vietnam_accommodation.csv')"
   ]
  },
  {
   "cell_type": "code",
   "execution_count": 3,
   "id": "4ae127de-72c7-4283-b3fc-98ca53f9d645",
   "metadata": {},
   "outputs": [
    {
     "data": {
      "text/plain": [
       "(29446, 36)"
      ]
     },
     "execution_count": 3,
     "metadata": {},
     "output_type": "execute_result"
    }
   ],
   "source": [
    "df.shape"
   ]
  },
  {
   "cell_type": "code",
   "execution_count": 4,
   "id": "547059b7-2e95-437a-abde-cae0ce2141ec",
   "metadata": {},
   "outputs": [],
   "source": [
    "# df.url.values[:100]"
   ]
  },
  {
   "cell_type": "code",
   "execution_count": 5,
   "id": "86d820df-05b5-4e69-96b5-9b5465757880",
   "metadata": {},
   "outputs": [],
   "source": [
    "def url_edited(url):\n",
    "    try:\n",
    "        parsed_url = urlparse(url)\n",
    "        new_path = \"/vi-vn\" + parsed_url.path\n",
    "        return urlunparse(parsed_url._replace(path=new_path, query=\"\"))\n",
    "    except:\n",
    "        return \"\"\n",
    "        \n",
    "def get_url(url):\n",
    "    try:\n",
    "        driver = webdriver.Chrome(chrome_options)\n",
    "        driver.get(url)\n",
    "        time.sleep(2)\n",
    "        elem = driver.find_element(By.CSS_SELECTOR, \"a[data-element-name='property-card-content']\")\n",
    "        href = elem.get_attribute('href')\n",
    "        return url_edited(href)\n",
    "    except:\n",
    "        return \"\"       "
   ]
  },
  {
   "cell_type": "code",
   "execution_count": 12,
   "id": "cbedb56d-ab8f-4512-b19b-057c94476868",
   "metadata": {},
   "outputs": [
    {
     "data": {
      "text/plain": [
       "'https://www.agoda.com/vi-vn/bamboo-sapa-hotel/hotel/sapa-vn.html'"
      ]
     },
     "execution_count": 12,
     "metadata": {},
     "output_type": "execute_result"
    }
   ],
   "source": [
    "get_url('https://www.agoda.com/partners/partnersearch.aspx?hid=73270')"
   ]
  },
  {
   "cell_type": "code",
   "execution_count": 60,
   "id": "d7c00ad2-db52-4e8c-ab64-f127b2fc632e",
   "metadata": {},
   "outputs": [
    {
     "name": "stdout",
     "output_type": "stream",
     "text": [
      "https://www.agoda.com/vi-vn/saigon-star-hotel/hotel/ho-chi-minh-city-vn.html\n",
      "https://www.agoda.com/vi-vn/vien-dong-hotel/hotel/ho-chi-minh-city-vn.html\n",
      "https://www.agoda.com/vi-vn/hai-yen-hotel/hotel/hoi-an-vn.html\n",
      "https://www.agoda.com/vi-vn/hoi-an-beach-resort/hotel/hoi-an-vn.html\n",
      "https://www.agoda.com/vi-vn/hoi-an-historic-hotel/hotel/hoi-an-vn.html\n",
      "https://www.agoda.com/vi-vn/vinh-hung-2-city-hotel/hotel/hoi-an-vn.html\n",
      "https://www.agoda.com/vi-vn/century-riverside-hue-hotel/hotel/hue-vn.html\n",
      "https://www.agoda.com/vi-vn/saigon-morin-hotel/hotel/hue-vn.html\n",
      "https://www.agoda.com/vi-vn/huong-giang-hotel-resort-spa/hotel/hue-vn.html\n",
      "https://www.agoda.com/vi-vn/ana-mandara-cam-ranh_2/hotel/nha-trang-vn.html\n",
      "https://www.agoda.com/vi-vn/nha-trang-lodge-hotel/hotel/nha-trang-vn.html\n",
      "https://www.agoda.com/vi-vn/tran-vien-dong/hotel/nha-trang-vn.html\n",
      "https://www.agoda.com/vi-vn/yasaka-saigon-resort-hotel-spa/hotel/nha-trang-vn.html\n",
      "https://www.agoda.com/vi-vn/bamboo-village-beach-resort/hotel/phan-thiet-vn.html\n",
      "https://www.agoda.com/vi-vn/phan-thiet-ocean-dunes-resort/hotel/phan-thiet-vn.html\n",
      "https://www.agoda.com/vi-vn/victoria-phan-thiet-beach-resort-and-spa/hotel/phan-thiet-vn.html\n",
      "https://www.agoda.com/vi-vn/saigon-phu-quoc-resort-and-spa/hotel/phu-quoc-island-vn.html\n",
      "https://www.agoda.com/vi-vn/victoria-sapa-resort-spa/hotel/sapa-vn.html\n",
      "https://www.agoda.com/vi-vn/palace-hotel/hotel/vung-tau-vn.html\n",
      "https://www.agoda.com/vi-vn/petro-house-hotel/hotel/vung-tau-vn.html\n"
     ]
    }
   ],
   "source": [
    "for url in df.url.values[40:60]:\n",
    "    print(get_url(url))"
   ]
  },
  {
   "cell_type": "code",
   "execution_count": 4,
   "id": "3ff7f220-b7ad-48aa-a015-e4344a3db4fe",
   "metadata": {},
   "outputs": [
    {
     "ename": "PermissionError",
     "evalue": "[Errno 13] Permission denied: 'crawl_again.csv'",
     "output_type": "error",
     "traceback": [
      "\u001b[1;31m---------------------------------------------------------------------------\u001b[0m",
      "\u001b[1;31mPermissionError\u001b[0m                           Traceback (most recent call last)",
      "Cell \u001b[1;32mIn[4], line 35\u001b[0m\n\u001b[0;32m     31\u001b[0m         \u001b[38;5;28;01mreturn\u001b[39;00m \u001b[38;5;124m\"\u001b[39m\u001b[38;5;124m\"\u001b[39m\n\u001b[0;32m     33\u001b[0m \u001b[38;5;66;03m# Initialize output files\u001b[39;00m\n\u001b[0;32m     34\u001b[0m \u001b[38;5;28;01mwith\u001b[39;00m \u001b[38;5;28mopen\u001b[39m(\u001b[38;5;124m\"\u001b[39m\u001b[38;5;124murl_edited.csv\u001b[39m\u001b[38;5;124m\"\u001b[39m, mode\u001b[38;5;241m=\u001b[39m\u001b[38;5;124m\"\u001b[39m\u001b[38;5;124mw\u001b[39m\u001b[38;5;124m\"\u001b[39m, newline\u001b[38;5;241m=\u001b[39m\u001b[38;5;124m'\u001b[39m\u001b[38;5;124m'\u001b[39m, encoding\u001b[38;5;241m=\u001b[39m\u001b[38;5;124m\"\u001b[39m\u001b[38;5;124mutf-8\u001b[39m\u001b[38;5;124m\"\u001b[39m) \u001b[38;5;28;01mas\u001b[39;00m edited_file, \\\n\u001b[1;32m---> 35\u001b[0m      \u001b[38;5;28;43mopen\u001b[39;49m\u001b[43m(\u001b[49m\u001b[38;5;124;43m\"\u001b[39;49m\u001b[38;5;124;43mcrawl_again.csv\u001b[39;49m\u001b[38;5;124;43m\"\u001b[39;49m\u001b[43m,\u001b[49m\u001b[43m \u001b[49m\u001b[43mmode\u001b[49m\u001b[38;5;241;43m=\u001b[39;49m\u001b[38;5;124;43m\"\u001b[39;49m\u001b[38;5;124;43mw\u001b[39;49m\u001b[38;5;124;43m\"\u001b[39;49m\u001b[43m,\u001b[49m\u001b[43m \u001b[49m\u001b[43mnewline\u001b[49m\u001b[38;5;241;43m=\u001b[39;49m\u001b[38;5;124;43m'\u001b[39;49m\u001b[38;5;124;43m'\u001b[39;49m\u001b[43m,\u001b[49m\u001b[43m \u001b[49m\u001b[43mencoding\u001b[49m\u001b[38;5;241;43m=\u001b[39;49m\u001b[38;5;124;43m\"\u001b[39;49m\u001b[38;5;124;43mutf-8\u001b[39;49m\u001b[38;5;124;43m\"\u001b[39;49m\u001b[43m)\u001b[49m \u001b[38;5;28;01mas\u001b[39;00m error_file:\n\u001b[0;32m     36\u001b[0m \n\u001b[0;32m     37\u001b[0m     \u001b[38;5;66;03m# Define CSV writers\u001b[39;00m\n\u001b[0;32m     38\u001b[0m     edited_writer \u001b[38;5;241m=\u001b[39m csv\u001b[38;5;241m.\u001b[39mDictWriter(edited_file, fieldnames\u001b[38;5;241m=\u001b[39m[\u001b[38;5;124m\"\u001b[39m\u001b[38;5;124murl\u001b[39m\u001b[38;5;124m\"\u001b[39m, \u001b[38;5;124m\"\u001b[39m\u001b[38;5;124murl_edited\u001b[39m\u001b[38;5;124m\"\u001b[39m])\n\u001b[0;32m     39\u001b[0m     error_writer \u001b[38;5;241m=\u001b[39m csv\u001b[38;5;241m.\u001b[39mDictWriter(error_file, fieldnames\u001b[38;5;241m=\u001b[39m[\u001b[38;5;124m\"\u001b[39m\u001b[38;5;124murl\u001b[39m\u001b[38;5;124m\"\u001b[39m])\n",
      "File \u001b[1;32m~\\AppData\\Local\\Programs\\Python\\Python312\\Lib\\site-packages\\IPython\\core\\interactiveshell.py:324\u001b[0m, in \u001b[0;36m_modified_open\u001b[1;34m(file, *args, **kwargs)\u001b[0m\n\u001b[0;32m    317\u001b[0m \u001b[38;5;28;01mif\u001b[39;00m file \u001b[38;5;129;01min\u001b[39;00m {\u001b[38;5;241m0\u001b[39m, \u001b[38;5;241m1\u001b[39m, \u001b[38;5;241m2\u001b[39m}:\n\u001b[0;32m    318\u001b[0m     \u001b[38;5;28;01mraise\u001b[39;00m \u001b[38;5;167;01mValueError\u001b[39;00m(\n\u001b[0;32m    319\u001b[0m         \u001b[38;5;124mf\u001b[39m\u001b[38;5;124m\"\u001b[39m\u001b[38;5;124mIPython won\u001b[39m\u001b[38;5;124m'\u001b[39m\u001b[38;5;124mt let you open fd=\u001b[39m\u001b[38;5;132;01m{\u001b[39;00mfile\u001b[38;5;132;01m}\u001b[39;00m\u001b[38;5;124m by default \u001b[39m\u001b[38;5;124m\"\u001b[39m\n\u001b[0;32m    320\u001b[0m         \u001b[38;5;124m\"\u001b[39m\u001b[38;5;124mas it is likely to crash IPython. If you know what you are doing, \u001b[39m\u001b[38;5;124m\"\u001b[39m\n\u001b[0;32m    321\u001b[0m         \u001b[38;5;124m\"\u001b[39m\u001b[38;5;124myou can use builtins\u001b[39m\u001b[38;5;124m'\u001b[39m\u001b[38;5;124m open.\u001b[39m\u001b[38;5;124m\"\u001b[39m\n\u001b[0;32m    322\u001b[0m     )\n\u001b[1;32m--> 324\u001b[0m \u001b[38;5;28;01mreturn\u001b[39;00m \u001b[43mio_open\u001b[49m\u001b[43m(\u001b[49m\u001b[43mfile\u001b[49m\u001b[43m,\u001b[49m\u001b[43m \u001b[49m\u001b[38;5;241;43m*\u001b[39;49m\u001b[43margs\u001b[49m\u001b[43m,\u001b[49m\u001b[43m \u001b[49m\u001b[38;5;241;43m*\u001b[39;49m\u001b[38;5;241;43m*\u001b[39;49m\u001b[43mkwargs\u001b[49m\u001b[43m)\u001b[49m\n",
      "\u001b[1;31mPermissionError\u001b[0m: [Errno 13] Permission denied: 'crawl_again.csv'"
     ]
    }
   ],
   "source": [
    "import pandas as pd\n",
    "from tqdm import tqdm\n",
    "from selenium import webdriver\n",
    "from selenium.webdriver.common.by import By\n",
    "from urllib.parse import urlparse, urlunparse\n",
    "import time\n",
    "import csv\n",
    "\n",
    "# Define url_edited function\n",
    "def url_edited(url):\n",
    "    try:\n",
    "        parsed_url = urlparse(url)\n",
    "        new_path = \"/vi-vn\" + parsed_url.path\n",
    "        return urlunparse(parsed_url._replace(path=new_path, query=\"\"))\n",
    "    except Exception as e:\n",
    "        print(f\"Error editing URL: {url} - {e}\")\n",
    "        return \"\"\n",
    "\n",
    "# Define get_url function\n",
    "def get_url(url):\n",
    "    try:\n",
    "        driver = webdriver.Chrome(options=chrome_options)\n",
    "        driver.get(url)\n",
    "        time.sleep(2)  # Ensure the page loads\n",
    "        elem = driver.find_element(By.CSS_SELECTOR, \"a[data-element-name='property-card-content']\")\n",
    "        href = elem.get_attribute('href')\n",
    "        driver.close()\n",
    "        return url_edited(href)\n",
    "    except Exception as e:\n",
    "        print(f\"Error fetching URL: {url}\")\n",
    "        return \"\"\n",
    "\n",
    "# Initialize output files\n",
    "with open(\"url_edited.csv\", mode=\"w\", newline='', encoding=\"utf-8\") as edited_file, \\\n",
    "     open(\"crawl_again.csv\", mode=\"w\", newline='', encoding=\"utf-8\") as error_file:\n",
    "\n",
    "    # Define CSV writers\n",
    "    edited_writer = csv.DictWriter(edited_file, fieldnames=[\"url\", \"url_edited\"])\n",
    "    error_writer = csv.DictWriter(error_file, fieldnames=[\"url\"])\n",
    "    \n",
    "    # Write headers\n",
    "    edited_writer.writeheader()\n",
    "    error_writer.writeheader()\n",
    "\n",
    "# Load your DataFrame (replace with actual data source)\n",
    "# Example: df = pd.read_csv(\"input_file.csv\")\n",
    "# df = df.sample(n=100)\n",
    "\n",
    "# Process each URL\n",
    "for url in tqdm(df.url.values, desc=\"Processing URLs\"):\n",
    "    try:\n",
    "        # Fetch the edited URL\n",
    "        url_result = get_url(url)\n",
    "        if url_result:  # Check if the result is not empty\n",
    "            with open(\"url_edited.csv\", mode=\"a\", newline='', encoding=\"utf-8\") as edited_file:\n",
    "                edited_writer = csv.DictWriter(edited_file, fieldnames=[\"url\", \"url_edited\"])\n",
    "                edited_writer.writerow({\"url\": url, \"url_edited\": url_result})\n",
    "        else:\n",
    "            with open(\"crawl_again.csv\", mode=\"a\", newline='', encoding=\"utf-8\") as error_file:\n",
    "                error_writer = csv.DictWriter(error_file, fieldnames=[\"url\"])\n",
    "                error_writer.writerow({\"url\": url})\n",
    "    except Exception as e:\n",
    "        # Log the URL for retry if an exception occurs\n",
    "        with open(\"crawl_again.csv\", mode=\"a\", newline='', encoding=\"utf-8\") as error_file:\n",
    "            error_writer = csv.DictWriter(error_file, fieldnames=[\"url\"])\n",
    "            error_writer.writerow({\"url\": url})\n",
    "        print(f\"Error processing URL: {url}\")\n",
    "\n",
    "print(\"Processing completed. Check 'url_edited.csv' for results and 'crawl_again.csv' for errors.\")\n"
   ]
  },
  {
   "cell_type": "code",
   "execution_count": null,
   "id": "bf39d9ea-445f-42f4-a78a-4c07e025cecb",
   "metadata": {},
   "outputs": [],
   "source": []
  }
 ],
 "metadata": {
  "kernelspec": {
   "display_name": "Python 3 (ipykernel)",
   "language": "python",
   "name": "python3"
  },
  "language_info": {
   "codemirror_mode": {
    "name": "ipython",
    "version": 3
   },
   "file_extension": ".py",
   "mimetype": "text/x-python",
   "name": "python",
   "nbconvert_exporter": "python",
   "pygments_lexer": "ipython3",
   "version": "3.12.6"
  }
 },
 "nbformat": 4,
 "nbformat_minor": 5
}
