{
 "cells": [
  {
   "cell_type": "code",
   "execution_count": 1,
   "id": "9a7f35c3",
   "metadata": {},
   "outputs": [],
   "source": [
    "%%capture\n",
    "\n",
    "from hotelreviewFunction import *"
   ]
  },
  {
   "cell_type": "code",
   "execution_count": 10,
   "id": "d15a0877-18ae-4196-a2e0-a22688045e4d",
   "metadata": {},
   "outputs": [],
   "source": [
    "%%capture\n",
    "\n",
    "df = pd.read_csv('city.csv')\n",
    "df.shape"
   ]
  },
  {
   "cell_type": "code",
   "execution_count": 11,
   "id": "b9e1dec8-26a0-45e5-b8f4-5accd5009224",
   "metadata": {},
   "outputs": [
    {
     "data": {
      "text/html": [
       "<div>\n",
       "<style scoped>\n",
       "    .dataframe tbody tr th:only-of-type {\n",
       "        vertical-align: middle;\n",
       "    }\n",
       "\n",
       "    .dataframe tbody tr th {\n",
       "        vertical-align: top;\n",
       "    }\n",
       "\n",
       "    .dataframe thead th {\n",
       "        text-align: right;\n",
       "    }\n",
       "</style>\n",
       "<table border=\"1\" class=\"dataframe\">\n",
       "  <thead>\n",
       "    <tr style=\"text-align: right;\">\n",
       "      <th></th>\n",
       "      <th>0</th>\n",
       "    </tr>\n",
       "  </thead>\n",
       "  <tbody>\n",
       "    <tr>\n",
       "      <th>hotel_id</th>\n",
       "      <td>163</td>\n",
       "    </tr>\n",
       "    <tr>\n",
       "      <th>chain_id</th>\n",
       "      <td>0</td>\n",
       "    </tr>\n",
       "    <tr>\n",
       "      <th>chain_name</th>\n",
       "      <td>No chain</td>\n",
       "    </tr>\n",
       "    <tr>\n",
       "      <th>brand_id</th>\n",
       "      <td>0</td>\n",
       "    </tr>\n",
       "    <tr>\n",
       "      <th>brand_name</th>\n",
       "      <td>NaN</td>\n",
       "    </tr>\n",
       "    <tr>\n",
       "      <th>hotel_name</th>\n",
       "      <td>Ramana Saigon Hotel</td>\n",
       "    </tr>\n",
       "    <tr>\n",
       "      <th>hotel_formerly_name</th>\n",
       "      <td>Amara Hotel</td>\n",
       "    </tr>\n",
       "    <tr>\n",
       "      <th>hotel_translated_name</th>\n",
       "      <td>Ramana Saigon Hotel</td>\n",
       "    </tr>\n",
       "    <tr>\n",
       "      <th>addressline1</th>\n",
       "      <td>323 Le Van Sy Street, District 3</td>\n",
       "    </tr>\n",
       "    <tr>\n",
       "      <th>addressline2</th>\n",
       "      <td>NaN</td>\n",
       "    </tr>\n",
       "    <tr>\n",
       "      <th>zipcode</th>\n",
       "      <td></td>\n",
       "    </tr>\n",
       "    <tr>\n",
       "      <th>city</th>\n",
       "      <td>Ho Chi Minh City</td>\n",
       "    </tr>\n",
       "    <tr>\n",
       "      <th>state</th>\n",
       "      <td>NaN</td>\n",
       "    </tr>\n",
       "    <tr>\n",
       "      <th>country</th>\n",
       "      <td>Vietnam</td>\n",
       "    </tr>\n",
       "    <tr>\n",
       "      <th>countryisocode</th>\n",
       "      <td>VN</td>\n",
       "    </tr>\n",
       "    <tr>\n",
       "      <th>star_rating</th>\n",
       "      <td>4.0</td>\n",
       "    </tr>\n",
       "    <tr>\n",
       "      <th>longitude</th>\n",
       "      <td>106.678101</td>\n",
       "    </tr>\n",
       "    <tr>\n",
       "      <th>latitude</th>\n",
       "      <td>10.787597</td>\n",
       "    </tr>\n",
       "    <tr>\n",
       "      <th>url</th>\n",
       "      <td>https://www.agoda.com/partners/partnersearch.a...</td>\n",
       "    </tr>\n",
       "    <tr>\n",
       "      <th>checkin</th>\n",
       "      <td>02:00 PM</td>\n",
       "    </tr>\n",
       "    <tr>\n",
       "      <th>checkout</th>\n",
       "      <td>12:00 PM</td>\n",
       "    </tr>\n",
       "    <tr>\n",
       "      <th>numberrooms</th>\n",
       "      <td>296.0</td>\n",
       "    </tr>\n",
       "    <tr>\n",
       "      <th>numberfloors</th>\n",
       "      <td>9.0</td>\n",
       "    </tr>\n",
       "    <tr>\n",
       "      <th>yearopened</th>\n",
       "      <td>1996.0</td>\n",
       "    </tr>\n",
       "    <tr>\n",
       "      <th>yearrenovated</th>\n",
       "      <td>2015.0</td>\n",
       "    </tr>\n",
       "    <tr>\n",
       "      <th>photo1</th>\n",
       "      <td>http://pix5.agoda.net/hotelimages/163/-1/63ac3...</td>\n",
       "    </tr>\n",
       "    <tr>\n",
       "      <th>photo2</th>\n",
       "      <td>http://pix2.agoda.net/hotelimages/163/-1/31514...</td>\n",
       "    </tr>\n",
       "    <tr>\n",
       "      <th>photo3</th>\n",
       "      <td>http://pix5.agoda.net/hotelimages/163/163/163_...</td>\n",
       "    </tr>\n",
       "    <tr>\n",
       "      <th>photo4</th>\n",
       "      <td>http://pix2.agoda.net/hotelimages/163/163/163_...</td>\n",
       "    </tr>\n",
       "    <tr>\n",
       "      <th>photo5</th>\n",
       "      <td>http://pix1.agoda.net/hotelimages/163/163/163_...</td>\n",
       "    </tr>\n",
       "    <tr>\n",
       "      <th>overview</th>\n",
       "      <td>Ideally located in the prime touristic area of...</td>\n",
       "    </tr>\n",
       "    <tr>\n",
       "      <th>rates_from</th>\n",
       "      <td>NaN</td>\n",
       "    </tr>\n",
       "    <tr>\n",
       "      <th>continent_id</th>\n",
       "      <td>2</td>\n",
       "    </tr>\n",
       "    <tr>\n",
       "      <th>continent_name</th>\n",
       "      <td>Asia</td>\n",
       "    </tr>\n",
       "    <tr>\n",
       "      <th>city_id</th>\n",
       "      <td>13170</td>\n",
       "    </tr>\n",
       "    <tr>\n",
       "      <th>country_id</th>\n",
       "      <td>38</td>\n",
       "    </tr>\n",
       "    <tr>\n",
       "      <th>number_of_reviews</th>\n",
       "      <td>1713</td>\n",
       "    </tr>\n",
       "    <tr>\n",
       "      <th>rating_average</th>\n",
       "      <td>8.1</td>\n",
       "    </tr>\n",
       "    <tr>\n",
       "      <th>rates_currency</th>\n",
       "      <td>USD</td>\n",
       "    </tr>\n",
       "    <tr>\n",
       "      <th>rates_from_exclusive</th>\n",
       "      <td>NaN</td>\n",
       "    </tr>\n",
       "    <tr>\n",
       "      <th>accommodation_type</th>\n",
       "      <td>Hotel</td>\n",
       "    </tr>\n",
       "  </tbody>\n",
       "</table>\n",
       "</div>"
      ],
      "text/plain": [
       "                                                                       0\n",
       "hotel_id                                                             163\n",
       "chain_id                                                               0\n",
       "chain_name                                                      No chain\n",
       "brand_id                                                               0\n",
       "brand_name                                                           NaN\n",
       "hotel_name                                           Ramana Saigon Hotel\n",
       "hotel_formerly_name                                          Amara Hotel\n",
       "hotel_translated_name                                Ramana Saigon Hotel\n",
       "addressline1                          323 Le Van Sy Street, District 3  \n",
       "addressline2                                                         NaN\n",
       "zipcode                                                                 \n",
       "city                                                    Ho Chi Minh City\n",
       "state                                                                NaN\n",
       "country                                                          Vietnam\n",
       "countryisocode                                                        VN\n",
       "star_rating                                                          4.0\n",
       "longitude                                                     106.678101\n",
       "latitude                                                       10.787597\n",
       "url                    https://www.agoda.com/partners/partnersearch.a...\n",
       "checkin                                                         02:00 PM\n",
       "checkout                                                        12:00 PM\n",
       "numberrooms                                                        296.0\n",
       "numberfloors                                                         9.0\n",
       "yearopened                                                        1996.0\n",
       "yearrenovated                                                     2015.0\n",
       "photo1                 http://pix5.agoda.net/hotelimages/163/-1/63ac3...\n",
       "photo2                 http://pix2.agoda.net/hotelimages/163/-1/31514...\n",
       "photo3                 http://pix5.agoda.net/hotelimages/163/163/163_...\n",
       "photo4                 http://pix2.agoda.net/hotelimages/163/163/163_...\n",
       "photo5                 http://pix1.agoda.net/hotelimages/163/163/163_...\n",
       "overview               Ideally located in the prime touristic area of...\n",
       "rates_from                                                           NaN\n",
       "continent_id                                                           2\n",
       "continent_name                                                      Asia\n",
       "city_id                                                            13170\n",
       "country_id                                                            38\n",
       "number_of_reviews                                                   1713\n",
       "rating_average                                                       8.1\n",
       "rates_currency                                                       USD\n",
       "rates_from_exclusive                                                 NaN\n",
       "accommodation_type                                                 Hotel"
      ]
     },
     "execution_count": 11,
     "metadata": {},
     "output_type": "execute_result"
    }
   ],
   "source": [
    "df.head(1).T"
   ]
  },
  {
   "cell_type": "code",
   "execution_count": 13,
   "id": "9469ce5e-9da3-4983-99fd-bee681d01b3f",
   "metadata": {},
   "outputs": [
    {
     "data": {
      "text/plain": [
       "(1913, 41)"
      ]
     },
     "execution_count": 13,
     "metadata": {},
     "output_type": "execute_result"
    }
   ],
   "source": [
    "duplicates = df[df['hotel_name'].duplicated(keep=False)]\n",
    "duplicates.shape"
   ]
  },
  {
   "cell_type": "code",
   "execution_count": 20,
   "id": "23f0f230-1dfc-42fd-b52f-c94e6441e882",
   "metadata": {},
   "outputs": [],
   "source": [
    "url = df.head(1).url[0]"
   ]
  },
  {
   "cell_type": "code",
   "execution_count": null,
   "id": "7f96ac54-b471-43e4-b695-37973aa171e3",
   "metadata": {},
   "outputs": [],
   "source": []
  },
  {
   "cell_type": "code",
   "execution_count": 22,
   "id": "b95a3354-c48f-41d4-b5c9-89087aba76db",
   "metadata": {},
   "outputs": [],
   "source": [
    "driver = webdriver.Chrome(chrome_options)\n",
    "new_url = url_edited(url)"
   ]
  },
  {
   "cell_type": "code",
   "execution_count": 23,
   "id": "2be8960e-503a-4394-a888-e0332fccc4b2",
   "metadata": {},
   "outputs": [],
   "source": [
    "driver = webdriver.Chrome(chrome_options)\n",
    "driver.get(url)\n"
   ]
  },
  {
   "cell_type": "code",
   "execution_count": 25,
   "id": "1e725fc0-50ce-4732-a4fb-1f49eb587a77",
   "metadata": {},
   "outputs": [],
   "source": [
    "elem = driver.find_element(By.CSS_SELECTOR, \"a[data-element-name='property-card-content']\")\n",
    "href = elem.get_attribute('href')"
   ]
  },
  {
   "cell_type": "code",
   "execution_count": 26,
   "id": "f15e6636-82bc-45a3-9655-d599a81050e6",
   "metadata": {},
   "outputs": [
    {
     "data": {
      "text/plain": [
       "'https://www.agoda.com/ramana-saigon-hotel/hotel/ho-chi-minh-city-vn.html?finalPriceView=1&isShowMobileAppPrice=false&cid=-1&numberOfBedrooms=&familyMode=false&adults=1&children=0&rooms=1&maxRooms=0&checkIn=2024-11-17&isCalendarCallout=false&childAges=&numberOfGuest=0&missingChildAges=false&travellerType=-1&showReviewSubmissionEntry=false&currencyCode=VND&isFreeOccSearch=false&los=1&searchrequestid=fc3e53ef-19e2-4e2c-8bdd-36798e665ec0'"
      ]
     },
     "execution_count": 26,
     "metadata": {},
     "output_type": "execute_result"
    }
   ],
   "source": [
    "href"
   ]
  },
  {
   "cell_type": "code",
   "execution_count": 24,
   "id": "3b745a30-3fe4-4ee4-8b73-4ed0b73dff20",
   "metadata": {},
   "outputs": [
    {
     "ename": "NoSuchElementException",
     "evalue": "Message: no such element: Unable to locate element: {\"method\":\"css selector\",\"selector\":\"i.ficon.ficon-24.ficon-carrouselarrow-right\"}\n  (Session info: chrome=130.0.6723.117); For documentation on this error, please visit: https://www.selenium.dev/documentation/webdriver/troubleshooting/errors#no-such-element-exception\nStacktrace:\n\tGetHandleVerifier [0x00007FF6F43D38A5+3004357]\n\t(No symbol) [0x00007FF6F4069970]\n\t(No symbol) [0x00007FF6F3F1582A]\n\t(No symbol) [0x00007FF6F3F65B8E]\n\t(No symbol) [0x00007FF6F3F65E7C]\n\t(No symbol) [0x00007FF6F3FAEC27]\n\t(No symbol) [0x00007FF6F3F8BC1F]\n\t(No symbol) [0x00007FF6F3FABA4C]\n\t(No symbol) [0x00007FF6F3F8B983]\n\t(No symbol) [0x00007FF6F3F57628]\n\t(No symbol) [0x00007FF6F3F58791]\n\tGetHandleVerifier [0x00007FF6F43FA00D+3161901]\n\tGetHandleVerifier [0x00007FF6F444E060+3506048]\n\tGetHandleVerifier [0x00007FF6F444400D+3465005]\n\tGetHandleVerifier [0x00007FF6F41C0EEB+830987]\n\t(No symbol) [0x00007FF6F407467F]\n\t(No symbol) [0x00007FF6F40709D4]\n\t(No symbol) [0x00007FF6F4070B6D]\n\t(No symbol) [0x00007FF6F4060149]\n\tBaseThreadInitThunk [0x00007FFF5A7F7374+20]\n\tRtlUserThreadStart [0x00007FFF5AA5CC91+33]\n",
     "output_type": "error",
     "traceback": [
      "\u001b[1;31m---------------------------------------------------------------------------\u001b[0m",
      "\u001b[1;31mNoSuchElementException\u001b[0m                    Traceback (most recent call last)",
      "Cell \u001b[1;32mIn[24], line 1\u001b[0m\n\u001b[1;32m----> 1\u001b[0m button \u001b[38;5;241m=\u001b[39m \u001b[43mdriver\u001b[49m\u001b[38;5;241;43m.\u001b[39;49m\u001b[43mfind_element\u001b[49m\u001b[43m(\u001b[49m\u001b[43mBy\u001b[49m\u001b[38;5;241;43m.\u001b[39;49m\u001b[43mCSS_SELECTOR\u001b[49m\u001b[43m,\u001b[49m\u001b[43m \u001b[49m\u001b[38;5;124;43m'\u001b[39;49m\u001b[38;5;124;43mi.ficon.ficon-24.ficon-carrouselarrow-right\u001b[39;49m\u001b[38;5;124;43m'\u001b[39;49m\u001b[43m)\u001b[49m\n\u001b[0;32m      2\u001b[0m \u001b[38;5;66;03m# Move it to button element to able to click\u001b[39;00m\n\u001b[0;32m      3\u001b[0m driver\u001b[38;5;241m.\u001b[39mexecute_script(\u001b[38;5;124m\"\u001b[39m\u001b[38;5;124marguments[0].scrollIntoView(); window.scrollBy(0, -200);\u001b[39m\u001b[38;5;124m\"\u001b[39m, button)\n",
      "File \u001b[1;32m~\\AppData\\Local\\Programs\\Python\\Python312\\Lib\\site-packages\\selenium\\webdriver\\remote\\webdriver.py:748\u001b[0m, in \u001b[0;36mWebDriver.find_element\u001b[1;34m(self, by, value)\u001b[0m\n\u001b[0;32m    745\u001b[0m     by \u001b[38;5;241m=\u001b[39m By\u001b[38;5;241m.\u001b[39mCSS_SELECTOR\n\u001b[0;32m    746\u001b[0m     value \u001b[38;5;241m=\u001b[39m \u001b[38;5;124mf\u001b[39m\u001b[38;5;124m'\u001b[39m\u001b[38;5;124m[name=\u001b[39m\u001b[38;5;124m\"\u001b[39m\u001b[38;5;132;01m{\u001b[39;00mvalue\u001b[38;5;132;01m}\u001b[39;00m\u001b[38;5;124m\"\u001b[39m\u001b[38;5;124m]\u001b[39m\u001b[38;5;124m'\u001b[39m\n\u001b[1;32m--> 748\u001b[0m \u001b[38;5;28;01mreturn\u001b[39;00m \u001b[38;5;28;43mself\u001b[39;49m\u001b[38;5;241;43m.\u001b[39;49m\u001b[43mexecute\u001b[49m\u001b[43m(\u001b[49m\u001b[43mCommand\u001b[49m\u001b[38;5;241;43m.\u001b[39;49m\u001b[43mFIND_ELEMENT\u001b[49m\u001b[43m,\u001b[49m\u001b[43m \u001b[49m\u001b[43m{\u001b[49m\u001b[38;5;124;43m\"\u001b[39;49m\u001b[38;5;124;43musing\u001b[39;49m\u001b[38;5;124;43m\"\u001b[39;49m\u001b[43m:\u001b[49m\u001b[43m \u001b[49m\u001b[43mby\u001b[49m\u001b[43m,\u001b[49m\u001b[43m \u001b[49m\u001b[38;5;124;43m\"\u001b[39;49m\u001b[38;5;124;43mvalue\u001b[39;49m\u001b[38;5;124;43m\"\u001b[39;49m\u001b[43m:\u001b[49m\u001b[43m \u001b[49m\u001b[43mvalue\u001b[49m\u001b[43m}\u001b[49m\u001b[43m)\u001b[49m[\u001b[38;5;124m\"\u001b[39m\u001b[38;5;124mvalue\u001b[39m\u001b[38;5;124m\"\u001b[39m]\n",
      "File \u001b[1;32m~\\AppData\\Local\\Programs\\Python\\Python312\\Lib\\site-packages\\selenium\\webdriver\\remote\\webdriver.py:354\u001b[0m, in \u001b[0;36mWebDriver.execute\u001b[1;34m(self, driver_command, params)\u001b[0m\n\u001b[0;32m    352\u001b[0m response \u001b[38;5;241m=\u001b[39m \u001b[38;5;28mself\u001b[39m\u001b[38;5;241m.\u001b[39mcommand_executor\u001b[38;5;241m.\u001b[39mexecute(driver_command, params)\n\u001b[0;32m    353\u001b[0m \u001b[38;5;28;01mif\u001b[39;00m response:\n\u001b[1;32m--> 354\u001b[0m     \u001b[38;5;28;43mself\u001b[39;49m\u001b[38;5;241;43m.\u001b[39;49m\u001b[43merror_handler\u001b[49m\u001b[38;5;241;43m.\u001b[39;49m\u001b[43mcheck_response\u001b[49m\u001b[43m(\u001b[49m\u001b[43mresponse\u001b[49m\u001b[43m)\u001b[49m\n\u001b[0;32m    355\u001b[0m     response[\u001b[38;5;124m\"\u001b[39m\u001b[38;5;124mvalue\u001b[39m\u001b[38;5;124m\"\u001b[39m] \u001b[38;5;241m=\u001b[39m \u001b[38;5;28mself\u001b[39m\u001b[38;5;241m.\u001b[39m_unwrap_value(response\u001b[38;5;241m.\u001b[39mget(\u001b[38;5;124m\"\u001b[39m\u001b[38;5;124mvalue\u001b[39m\u001b[38;5;124m\"\u001b[39m, \u001b[38;5;28;01mNone\u001b[39;00m))\n\u001b[0;32m    356\u001b[0m     \u001b[38;5;28;01mreturn\u001b[39;00m response\n",
      "File \u001b[1;32m~\\AppData\\Local\\Programs\\Python\\Python312\\Lib\\site-packages\\selenium\\webdriver\\remote\\errorhandler.py:229\u001b[0m, in \u001b[0;36mErrorHandler.check_response\u001b[1;34m(self, response)\u001b[0m\n\u001b[0;32m    227\u001b[0m         alert_text \u001b[38;5;241m=\u001b[39m value[\u001b[38;5;124m\"\u001b[39m\u001b[38;5;124malert\u001b[39m\u001b[38;5;124m\"\u001b[39m]\u001b[38;5;241m.\u001b[39mget(\u001b[38;5;124m\"\u001b[39m\u001b[38;5;124mtext\u001b[39m\u001b[38;5;124m\"\u001b[39m)\n\u001b[0;32m    228\u001b[0m     \u001b[38;5;28;01mraise\u001b[39;00m exception_class(message, screen, stacktrace, alert_text)  \u001b[38;5;66;03m# type: ignore[call-arg]  # mypy is not smart enough here\u001b[39;00m\n\u001b[1;32m--> 229\u001b[0m \u001b[38;5;28;01mraise\u001b[39;00m exception_class(message, screen, stacktrace)\n",
      "\u001b[1;31mNoSuchElementException\u001b[0m: Message: no such element: Unable to locate element: {\"method\":\"css selector\",\"selector\":\"i.ficon.ficon-24.ficon-carrouselarrow-right\"}\n  (Session info: chrome=130.0.6723.117); For documentation on this error, please visit: https://www.selenium.dev/documentation/webdriver/troubleshooting/errors#no-such-element-exception\nStacktrace:\n\tGetHandleVerifier [0x00007FF6F43D38A5+3004357]\n\t(No symbol) [0x00007FF6F4069970]\n\t(No symbol) [0x00007FF6F3F1582A]\n\t(No symbol) [0x00007FF6F3F65B8E]\n\t(No symbol) [0x00007FF6F3F65E7C]\n\t(No symbol) [0x00007FF6F3FAEC27]\n\t(No symbol) [0x00007FF6F3F8BC1F]\n\t(No symbol) [0x00007FF6F3FABA4C]\n\t(No symbol) [0x00007FF6F3F8B983]\n\t(No symbol) [0x00007FF6F3F57628]\n\t(No symbol) [0x00007FF6F3F58791]\n\tGetHandleVerifier [0x00007FF6F43FA00D+3161901]\n\tGetHandleVerifier [0x00007FF6F444E060+3506048]\n\tGetHandleVerifier [0x00007FF6F444400D+3465005]\n\tGetHandleVerifier [0x00007FF6F41C0EEB+830987]\n\t(No symbol) [0x00007FF6F407467F]\n\t(No symbol) [0x00007FF6F40709D4]\n\t(No symbol) [0x00007FF6F4070B6D]\n\t(No symbol) [0x00007FF6F4060149]\n\tBaseThreadInitThunk [0x00007FFF5A7F7374+20]\n\tRtlUserThreadStart [0x00007FFF5AA5CC91+33]\n"
     ]
    }
   ],
   "source": [
    "button = driver.find_element(By.CSS_SELECTOR, 'i.ficon.ficon-24.ficon-carrouselarrow-right')\n",
    "# Move it to button element to able to click\n",
    "driver.execute_script(\"arguments[0].scrollIntoView(); window.scrollBy(0, -200);\", button)\n",
    "time.sleep(2)\n",
    "while True:\n",
    "    try:\n",
    "        data = revi\\ewInfomation(driver)\n",
    "        with open(filepath, mode='a', newline='',encoding='utf-8-sig') as file:\n",
    "            csv_writer = csv.writer(file)\n",
    "            csv_writer.writerows(data)\n",
    "        time.sleep(2)\n",
    "        button.click()\n",
    "        time.sleep(2)\n",
    "        \n",
    "    except Exception as e:\n",
    "        break"
   ]
  }
 ],
 "metadata": {
  "kernelspec": {
   "display_name": "Python 3 (ipykernel)",
   "language": "python",
   "name": "python3"
  },
  "language_info": {
   "codemirror_mode": {
    "name": "ipython",
    "version": 3
   },
   "file_extension": ".py",
   "mimetype": "text/x-python",
   "name": "python",
   "nbconvert_exporter": "python",
   "pygments_lexer": "ipython3",
   "version": "3.12.7"
  }
 },
 "nbformat": 4,
 "nbformat_minor": 5
}
