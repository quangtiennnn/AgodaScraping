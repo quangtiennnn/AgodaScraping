{
 "cells": [
  {
   "cell_type": "code",
   "execution_count": 1,
   "id": "b46dff5d-71c6-4cf8-b1c4-b45a551f7eb9",
   "metadata": {},
   "outputs": [],
   "source": [
    "import pandas as pd\n",
    "import time\n",
    "import os\n",
    "import csv\n",
    "\n",
    "from selenium import webdriver\n",
    "from selenium.webdriver.common.by import By\n",
    "# from seleniumFunction import *\n",
    "from selenium.webdriver.chrome.options import Options\n",
    "from selenium.webdriver.support.ui import WebDriverWait\n",
    "from selenium.webdriver.support import expected_conditions as EC\n",
    "from urllib.parse import urlparse, urlunparse\n",
    "\n",
    "# ==================== GLOBAL VARIABLES\n",
    "# Set Chrome options:\n",
    "chrome_options = Options()\n",
    "# chrome_options.add_argument('--headless')\n",
    "chrome_options.add_argument('--no-sandbox') \n",
    "chrome_options.add_argument(\"--incognito\")\n",
    "chrome_options.add_argument(\"--start-maximized\")\n",
    "chrome_options.add_argument(\"--disable-application-cache\")\n",
    "chrome_options.add_argument(\"--disable-cache\")\n",
    "chrome_options.add_argument(\"--disk-cache-size=0\")"
   ]
  },
  {
   "cell_type": "code",
   "execution_count": 2,
   "id": "a5751ab3-9ae9-4ac9-a321-7db373c9d842",
   "metadata": {},
   "outputs": [],
   "source": [
    "%%capture\n",
    "df = pd.read_csv('vietnam_accommodation.csv')"
   ]
  },
  {
   "cell_type": "code",
   "execution_count": 3,
   "id": "4ae127de-72c7-4283-b3fc-98ca53f9d645",
   "metadata": {},
   "outputs": [
    {
     "data": {
      "text/plain": [
       "(29446, 36)"
      ]
     },
     "execution_count": 3,
     "metadata": {},
     "output_type": "execute_result"
    }
   ],
   "source": [
    "df.shape"
   ]
  },
  {
   "cell_type": "code",
   "execution_count": 4,
   "id": "547059b7-2e95-437a-abde-cae0ce2141ec",
   "metadata": {},
   "outputs": [],
   "source": [
    "# df.url.values[:100]"
   ]
  },
  {
   "cell_type": "code",
   "execution_count": 5,
   "id": "86d820df-05b5-4e69-96b5-9b5465757880",
   "metadata": {},
   "outputs": [],
   "source": [
    "def url_edited(url):\n",
    "    try:\n",
    "        parsed_url = urlparse(url)\n",
    "        new_path = \"/vi-vn\" + parsed_url.path\n",
    "        return urlunparse(parsed_url._replace(path=new_path, query=\"\"))\n",
    "    except:\n",
    "        return \"\"\n",
    "        \n",
    "def get_url(url):\n",
    "    try:\n",
    "        driver = webdriver.Chrome(chrome_options)\n",
    "        driver.get(url)\n",
    "        time.sleep(2)\n",
    "        elem = driver.find_element(By.CSS_SELECTOR, \"a[data-element-name='property-card-content']\")\n",
    "        href = elem.get_attribute('href')\n",
    "        return url_edited(href)\n",
    "    except:\n",
    "        return \"\"       "
   ]
  },
  {
   "cell_type": "code",
   "execution_count": 57,
   "id": "cbedb56d-ab8f-4512-b19b-057c94476868",
   "metadata": {},
   "outputs": [
    {
     "data": {
      "text/plain": [
       "'https://www.agoda.com/vi-vn/pan-pacific-hanoi/hotel/hanoi-vn.html'"
      ]
     },
     "execution_count": 57,
     "metadata": {},
     "output_type": "execute_result"
    }
   ],
   "source": [
    "get_url('https://www.agoda.com/partners/partnersearch.aspx?hid=10966')"
   ]
  },
  {
   "cell_type": "code",
   "execution_count": 60,
   "id": "d7c00ad2-db52-4e8c-ab64-f127b2fc632e",
   "metadata": {},
   "outputs": [
    {
     "name": "stdout",
     "output_type": "stream",
     "text": [
      "https://www.agoda.com/vi-vn/saigon-star-hotel/hotel/ho-chi-minh-city-vn.html\n",
      "https://www.agoda.com/vi-vn/vien-dong-hotel/hotel/ho-chi-minh-city-vn.html\n",
      "https://www.agoda.com/vi-vn/hai-yen-hotel/hotel/hoi-an-vn.html\n",
      "https://www.agoda.com/vi-vn/hoi-an-beach-resort/hotel/hoi-an-vn.html\n",
      "https://www.agoda.com/vi-vn/hoi-an-historic-hotel/hotel/hoi-an-vn.html\n",
      "https://www.agoda.com/vi-vn/vinh-hung-2-city-hotel/hotel/hoi-an-vn.html\n",
      "https://www.agoda.com/vi-vn/century-riverside-hue-hotel/hotel/hue-vn.html\n",
      "https://www.agoda.com/vi-vn/saigon-morin-hotel/hotel/hue-vn.html\n",
      "https://www.agoda.com/vi-vn/huong-giang-hotel-resort-spa/hotel/hue-vn.html\n",
      "https://www.agoda.com/vi-vn/ana-mandara-cam-ranh_2/hotel/nha-trang-vn.html\n",
      "https://www.agoda.com/vi-vn/nha-trang-lodge-hotel/hotel/nha-trang-vn.html\n",
      "https://www.agoda.com/vi-vn/tran-vien-dong/hotel/nha-trang-vn.html\n",
      "https://www.agoda.com/vi-vn/yasaka-saigon-resort-hotel-spa/hotel/nha-trang-vn.html\n",
      "https://www.agoda.com/vi-vn/bamboo-village-beach-resort/hotel/phan-thiet-vn.html\n",
      "https://www.agoda.com/vi-vn/phan-thiet-ocean-dunes-resort/hotel/phan-thiet-vn.html\n",
      "https://www.agoda.com/vi-vn/victoria-phan-thiet-beach-resort-and-spa/hotel/phan-thiet-vn.html\n",
      "https://www.agoda.com/vi-vn/saigon-phu-quoc-resort-and-spa/hotel/phu-quoc-island-vn.html\n",
      "https://www.agoda.com/vi-vn/victoria-sapa-resort-spa/hotel/sapa-vn.html\n",
      "https://www.agoda.com/vi-vn/palace-hotel/hotel/vung-tau-vn.html\n",
      "https://www.agoda.com/vi-vn/petro-house-hotel/hotel/vung-tau-vn.html\n"
     ]
    }
   ],
   "source": [
    "for url in df.url.values[40:60]:\n",
    "    print(get_url(url))"
   ]
  },
  {
   "cell_type": "code",
   "execution_count": 6,
   "id": "3ff7f220-b7ad-48aa-a015-e4344a3db4fe",
   "metadata": {},
   "outputs": [
    {
     "name": "stderr",
     "output_type": "stream",
     "text": [
      "Processing URLs:   1%|      | 151/29446 [17:19<54:41:56,  6.72s/it]"
     ]
    },
    {
     "name": "stdout",
     "output_type": "stream",
     "text": [
      "Error fetching URL: https://www.agoda.com/partners/partnersearch.aspx?hid=81748 - Message: no such element: Unable to locate element: {\"method\":\"css selector\",\"selector\":\"a[data-element-name='property-card-content']\"}\n",
      "  (Session info: chrome=130.0.6723.117); For documentation on this error, please visit: https://www.selenium.dev/documentation/webdriver/troubleshooting/errors#no-such-element-exception\n",
      "Stacktrace:\n",
      "\tGetHandleVerifier [0x00007FF6FD4338A5+3004357]\n",
      "\t(No symbol) [0x00007FF6FD0C9970]\n",
      "\t(No symbol) [0x00007FF6FCF7582A]\n",
      "\t(No symbol) [0x00007FF6FCFC5B8E]\n",
      "\t(No symbol) [0x00007FF6FCFC5E7C]\n",
      "\t(No symbol) [0x00007FF6FD00EC27]\n",
      "\t(No symbol) [0x00007FF6FCFEBC1F]\n",
      "\t(No symbol) [0x00007FF6FD00BA4C]\n",
      "\t(No symbol) [0x00007FF6FCFEB983]\n",
      "\t(No symbol) [0x00007FF6FCFB7628]\n",
      "\t(No symbol) [0x00007FF6FCFB8791]\n",
      "\tGetHandleVerifier [0x00007FF6FD45A00D+3161901]\n",
      "\tGetHandleVerifier [0x00007FF6FD4AE060+3506048]\n",
      "\tGetHandleVerifier [0x00007FF6FD4A400D+3465005]\n",
      "\tGetHandleVerifier [0x00007FF6FD220EEB+830987]\n",
      "\t(No symbol) [0x00007FF6FD0D467F]\n",
      "\t(No symbol) [0x00007FF6FD0D09D4]\n",
      "\t(No symbol) [0x00007FF6FD0D0B6D]\n",
      "\t(No symbol) [0x00007FF6FD0C0149]\n",
      "\tBaseThreadInitThunk [0x00007FFB7AAA7374+20]\n",
      "\tRtlUserThreadStart [0x00007FFB7C37CC91+33]\n",
      "\n"
     ]
    },
    {
     "name": "stderr",
     "output_type": "stream",
     "text": [
      "Processing URLs:   1%|      | 152/29446 [17:26<53:55:45,  6.63s/it]"
     ]
    },
    {
     "name": "stdout",
     "output_type": "stream",
     "text": [
      "Error fetching URL: https://www.agoda.com/partners/partnersearch.aspx?hid=85643 - Message: no such element: Unable to locate element: {\"method\":\"css selector\",\"selector\":\"a[data-element-name='property-card-content']\"}\n",
      "  (Session info: chrome=130.0.6723.117); For documentation on this error, please visit: https://www.selenium.dev/documentation/webdriver/troubleshooting/errors#no-such-element-exception\n",
      "Stacktrace:\n",
      "\tGetHandleVerifier [0x00007FF6FD4338A5+3004357]\n",
      "\t(No symbol) [0x00007FF6FD0C9970]\n",
      "\t(No symbol) [0x00007FF6FCF7582A]\n",
      "\t(No symbol) [0x00007FF6FCFC5B8E]\n",
      "\t(No symbol) [0x00007FF6FCFC5E7C]\n",
      "\t(No symbol) [0x00007FF6FD00EC27]\n",
      "\t(No symbol) [0x00007FF6FCFEBC1F]\n",
      "\t(No symbol) [0x00007FF6FD00BA4C]\n",
      "\t(No symbol) [0x00007FF6FCFEB983]\n",
      "\t(No symbol) [0x00007FF6FCFB7628]\n",
      "\t(No symbol) [0x00007FF6FCFB8791]\n",
      "\tGetHandleVerifier [0x00007FF6FD45A00D+3161901]\n",
      "\tGetHandleVerifier [0x00007FF6FD4AE060+3506048]\n",
      "\tGetHandleVerifier [0x00007FF6FD4A400D+3465005]\n",
      "\tGetHandleVerifier [0x00007FF6FD220EEB+830987]\n",
      "\t(No symbol) [0x00007FF6FD0D467F]\n",
      "\t(No symbol) [0x00007FF6FD0D09D4]\n",
      "\t(No symbol) [0x00007FF6FD0D0B6D]\n",
      "\t(No symbol) [0x00007FF6FD0C0149]\n",
      "\tBaseThreadInitThunk [0x00007FFB7AAA7374+20]\n",
      "\tRtlUserThreadStart [0x00007FFB7C37CC91+33]\n",
      "\n"
     ]
    },
    {
     "name": "stderr",
     "output_type": "stream",
     "text": [
      "Processing URLs:   1%|      | 153/29446 [17:32<54:21:21,  6.68s/it]"
     ]
    },
    {
     "name": "stdout",
     "output_type": "stream",
     "text": [
      "Error fetching URL: https://www.agoda.com/partners/partnersearch.aspx?hid=90770 - Message: no such element: Unable to locate element: {\"method\":\"css selector\",\"selector\":\"a[data-element-name='property-card-content']\"}\n",
      "  (Session info: chrome=130.0.6723.117); For documentation on this error, please visit: https://www.selenium.dev/documentation/webdriver/troubleshooting/errors#no-such-element-exception\n",
      "Stacktrace:\n",
      "\tGetHandleVerifier [0x00007FF6FD4338A5+3004357]\n",
      "\t(No symbol) [0x00007FF6FD0C9970]\n",
      "\t(No symbol) [0x00007FF6FCF7582A]\n",
      "\t(No symbol) [0x00007FF6FCFC5B8E]\n",
      "\t(No symbol) [0x00007FF6FCFC5E7C]\n",
      "\t(No symbol) [0x00007FF6FD00EC27]\n",
      "\t(No symbol) [0x00007FF6FCFEBC1F]\n",
      "\t(No symbol) [0x00007FF6FD00BA4C]\n",
      "\t(No symbol) [0x00007FF6FCFEB983]\n",
      "\t(No symbol) [0x00007FF6FCFB7628]\n",
      "\t(No symbol) [0x00007FF6FCFB8791]\n",
      "\tGetHandleVerifier [0x00007FF6FD45A00D+3161901]\n",
      "\tGetHandleVerifier [0x00007FF6FD4AE060+3506048]\n",
      "\tGetHandleVerifier [0x00007FF6FD4A400D+3465005]\n",
      "\tGetHandleVerifier [0x00007FF6FD220EEB+830987]\n",
      "\t(No symbol) [0x00007FF6FD0D467F]\n",
      "\t(No symbol) [0x00007FF6FD0D09D4]\n",
      "\t(No symbol) [0x00007FF6FD0D0B6D]\n",
      "\t(No symbol) [0x00007FF6FD0C0149]\n",
      "\tBaseThreadInitThunk [0x00007FFB7AAA7374+20]\n",
      "\tRtlUserThreadStart [0x00007FFB7C37CC91+33]\n",
      "\n"
     ]
    },
    {
     "name": "stderr",
     "output_type": "stream",
     "text": [
      "Processing URLs:   1%|      | 156/29446 [17:52<54:08:54,  6.66s/it]"
     ]
    },
    {
     "name": "stdout",
     "output_type": "stream",
     "text": [
      "Error fetching URL: https://www.agoda.com/partners/partnersearch.aspx?hid=96572 - Message: no such element: Unable to locate element: {\"method\":\"css selector\",\"selector\":\"a[data-element-name='property-card-content']\"}\n",
      "  (Session info: chrome=130.0.6723.117); For documentation on this error, please visit: https://www.selenium.dev/documentation/webdriver/troubleshooting/errors#no-such-element-exception\n",
      "Stacktrace:\n",
      "\tGetHandleVerifier [0x00007FF6FD4338A5+3004357]\n",
      "\t(No symbol) [0x00007FF6FD0C9970]\n",
      "\t(No symbol) [0x00007FF6FCF7582A]\n",
      "\t(No symbol) [0x00007FF6FCFC5B8E]\n",
      "\t(No symbol) [0x00007FF6FCFC5E7C]\n",
      "\t(No symbol) [0x00007FF6FD00EC27]\n",
      "\t(No symbol) [0x00007FF6FCFEBC1F]\n",
      "\t(No symbol) [0x00007FF6FD00BA4C]\n",
      "\t(No symbol) [0x00007FF6FCFEB983]\n",
      "\t(No symbol) [0x00007FF6FCFB7628]\n",
      "\t(No symbol) [0x00007FF6FCFB8791]\n",
      "\tGetHandleVerifier [0x00007FF6FD45A00D+3161901]\n",
      "\tGetHandleVerifier [0x00007FF6FD4AE060+3506048]\n",
      "\tGetHandleVerifier [0x00007FF6FD4A400D+3465005]\n",
      "\tGetHandleVerifier [0x00007FF6FD220EEB+830987]\n",
      "\t(No symbol) [0x00007FF6FD0D467F]\n",
      "\t(No symbol) [0x00007FF6FD0D09D4]\n",
      "\t(No symbol) [0x00007FF6FD0D0B6D]\n",
      "\t(No symbol) [0x00007FF6FD0C0149]\n",
      "\tBaseThreadInitThunk [0x00007FFB7AAA7374+20]\n",
      "\tRtlUserThreadStart [0x00007FFB7C37CC91+33]\n",
      "\n"
     ]
    },
    {
     "name": "stderr",
     "output_type": "stream",
     "text": [
      "Processing URLs:   1%|      | 158/29446 [18:05<52:59:50,  6.51s/it]"
     ]
    },
    {
     "name": "stdout",
     "output_type": "stream",
     "text": [
      "Error fetching URL: https://www.agoda.com/partners/partnersearch.aspx?hid=96578 - Message: no such element: Unable to locate element: {\"method\":\"css selector\",\"selector\":\"a[data-element-name='property-card-content']\"}\n",
      "  (Session info: chrome=130.0.6723.117); For documentation on this error, please visit: https://www.selenium.dev/documentation/webdriver/troubleshooting/errors#no-such-element-exception\n",
      "Stacktrace:\n",
      "\tGetHandleVerifier [0x00007FF6FD4338A5+3004357]\n",
      "\t(No symbol) [0x00007FF6FD0C9970]\n",
      "\t(No symbol) [0x00007FF6FCF7582A]\n",
      "\t(No symbol) [0x00007FF6FCFC5B8E]\n",
      "\t(No symbol) [0x00007FF6FCFC5E7C]\n",
      "\t(No symbol) [0x00007FF6FD00EC27]\n",
      "\t(No symbol) [0x00007FF6FCFEBC1F]\n",
      "\t(No symbol) [0x00007FF6FD00BA4C]\n",
      "\t(No symbol) [0x00007FF6FCFEB983]\n",
      "\t(No symbol) [0x00007FF6FCFB7628]\n",
      "\t(No symbol) [0x00007FF6FCFB8791]\n",
      "\tGetHandleVerifier [0x00007FF6FD45A00D+3161901]\n",
      "\tGetHandleVerifier [0x00007FF6FD4AE060+3506048]\n",
      "\tGetHandleVerifier [0x00007FF6FD4A400D+3465005]\n",
      "\tGetHandleVerifier [0x00007FF6FD220EEB+830987]\n",
      "\t(No symbol) [0x00007FF6FD0D467F]\n",
      "\t(No symbol) [0x00007FF6FD0D09D4]\n",
      "\t(No symbol) [0x00007FF6FD0D0B6D]\n",
      "\t(No symbol) [0x00007FF6FD0C0149]\n",
      "\tBaseThreadInitThunk [0x00007FFB7AAA7374+20]\n",
      "\tRtlUserThreadStart [0x00007FFB7C37CC91+33]\n",
      "\n"
     ]
    },
    {
     "name": "stderr",
     "output_type": "stream",
     "text": [
      "Processing URLs:   1%|      | 159/29446 [18:12<53:10:02,  6.54s/it]"
     ]
    },
    {
     "name": "stdout",
     "output_type": "stream",
     "text": [
      "Error fetching URL: https://www.agoda.com/partners/partnersearch.aspx?hid=96580 - Message: no such element: Unable to locate element: {\"method\":\"css selector\",\"selector\":\"a[data-element-name='property-card-content']\"}\n",
      "  (Session info: chrome=130.0.6723.117); For documentation on this error, please visit: https://www.selenium.dev/documentation/webdriver/troubleshooting/errors#no-such-element-exception\n",
      "Stacktrace:\n",
      "\tGetHandleVerifier [0x00007FF6FD4338A5+3004357]\n",
      "\t(No symbol) [0x00007FF6FD0C9970]\n",
      "\t(No symbol) [0x00007FF6FCF7582A]\n",
      "\t(No symbol) [0x00007FF6FCFC5B8E]\n",
      "\t(No symbol) [0x00007FF6FCFC5E7C]\n",
      "\t(No symbol) [0x00007FF6FD00EC27]\n",
      "\t(No symbol) [0x00007FF6FCFEBC1F]\n",
      "\t(No symbol) [0x00007FF6FD00BA4C]\n",
      "\t(No symbol) [0x00007FF6FCFEB983]\n",
      "\t(No symbol) [0x00007FF6FCFB7628]\n",
      "\t(No symbol) [0x00007FF6FCFB8791]\n",
      "\tGetHandleVerifier [0x00007FF6FD45A00D+3161901]\n",
      "\tGetHandleVerifier [0x00007FF6FD4AE060+3506048]\n",
      "\tGetHandleVerifier [0x00007FF6FD4A400D+3465005]\n",
      "\tGetHandleVerifier [0x00007FF6FD220EEB+830987]\n",
      "\t(No symbol) [0x00007FF6FD0D467F]\n",
      "\t(No symbol) [0x00007FF6FD0D09D4]\n",
      "\t(No symbol) [0x00007FF6FD0D0B6D]\n",
      "\t(No symbol) [0x00007FF6FD0C0149]\n",
      "\tBaseThreadInitThunk [0x00007FFB7AAA7374+20]\n",
      "\tRtlUserThreadStart [0x00007FFB7C37CC91+33]\n",
      "\n"
     ]
    },
    {
     "name": "stderr",
     "output_type": "stream",
     "text": [
      "Processing URLs:   1%|      | 160/29446 [18:18<53:11:37,  6.54s/it]"
     ]
    },
    {
     "name": "stdout",
     "output_type": "stream",
     "text": [
      "Error fetching URL: https://www.agoda.com/partners/partnersearch.aspx?hid=96584 - Message: no such element: Unable to locate element: {\"method\":\"css selector\",\"selector\":\"a[data-element-name='property-card-content']\"}\n",
      "  (Session info: chrome=130.0.6723.117); For documentation on this error, please visit: https://www.selenium.dev/documentation/webdriver/troubleshooting/errors#no-such-element-exception\n",
      "Stacktrace:\n",
      "\tGetHandleVerifier [0x00007FF6FD4338A5+3004357]\n",
      "\t(No symbol) [0x00007FF6FD0C9970]\n",
      "\t(No symbol) [0x00007FF6FCF7582A]\n",
      "\t(No symbol) [0x00007FF6FCFC5B8E]\n",
      "\t(No symbol) [0x00007FF6FCFC5E7C]\n",
      "\t(No symbol) [0x00007FF6FD00EC27]\n",
      "\t(No symbol) [0x00007FF6FCFEBC1F]\n",
      "\t(No symbol) [0x00007FF6FD00BA4C]\n",
      "\t(No symbol) [0x00007FF6FCFEB983]\n",
      "\t(No symbol) [0x00007FF6FCFB7628]\n",
      "\t(No symbol) [0x00007FF6FCFB8791]\n",
      "\tGetHandleVerifier [0x00007FF6FD45A00D+3161901]\n",
      "\tGetHandleVerifier [0x00007FF6FD4AE060+3506048]\n",
      "\tGetHandleVerifier [0x00007FF6FD4A400D+3465005]\n",
      "\tGetHandleVerifier [0x00007FF6FD220EEB+830987]\n",
      "\t(No symbol) [0x00007FF6FD0D467F]\n",
      "\t(No symbol) [0x00007FF6FD0D09D4]\n",
      "\t(No symbol) [0x00007FF6FD0D0B6D]\n",
      "\t(No symbol) [0x00007FF6FD0C0149]\n",
      "\tBaseThreadInitThunk [0x00007FFB7AAA7374+20]\n",
      "\tRtlUserThreadStart [0x00007FFB7C37CC91+33]\n",
      "\n"
     ]
    },
    {
     "name": "stderr",
     "output_type": "stream",
     "text": [
      "Processing URLs:   1%|      | 161/29446 [18:24<52:45:29,  6.49s/it]"
     ]
    },
    {
     "name": "stdout",
     "output_type": "stream",
     "text": [
      "Error fetching URL: https://www.agoda.com/partners/partnersearch.aspx?hid=96585 - Message: no such element: Unable to locate element: {\"method\":\"css selector\",\"selector\":\"a[data-element-name='property-card-content']\"}\n",
      "  (Session info: chrome=130.0.6723.117); For documentation on this error, please visit: https://www.selenium.dev/documentation/webdriver/troubleshooting/errors#no-such-element-exception\n",
      "Stacktrace:\n",
      "\tGetHandleVerifier [0x00007FF6FD4338A5+3004357]\n",
      "\t(No symbol) [0x00007FF6FD0C9970]\n",
      "\t(No symbol) [0x00007FF6FCF7582A]\n",
      "\t(No symbol) [0x00007FF6FCFC5B8E]\n",
      "\t(No symbol) [0x00007FF6FCFC5E7C]\n",
      "\t(No symbol) [0x00007FF6FD00EC27]\n",
      "\t(No symbol) [0x00007FF6FCFEBC1F]\n",
      "\t(No symbol) [0x00007FF6FD00BA4C]\n",
      "\t(No symbol) [0x00007FF6FCFEB983]\n",
      "\t(No symbol) [0x00007FF6FCFB7628]\n",
      "\t(No symbol) [0x00007FF6FCFB8791]\n",
      "\tGetHandleVerifier [0x00007FF6FD45A00D+3161901]\n",
      "\tGetHandleVerifier [0x00007FF6FD4AE060+3506048]\n",
      "\tGetHandleVerifier [0x00007FF6FD4A400D+3465005]\n",
      "\tGetHandleVerifier [0x00007FF6FD220EEB+830987]\n",
      "\t(No symbol) [0x00007FF6FD0D467F]\n",
      "\t(No symbol) [0x00007FF6FD0D09D4]\n",
      "\t(No symbol) [0x00007FF6FD0D0B6D]\n",
      "\t(No symbol) [0x00007FF6FD0C0149]\n",
      "\tBaseThreadInitThunk [0x00007FFB7AAA7374+20]\n",
      "\tRtlUserThreadStart [0x00007FFB7C37CC91+33]\n",
      "\n"
     ]
    },
    {
     "name": "stderr",
     "output_type": "stream",
     "text": [
      "Processing URLs:   1%|      | 162/29446 [18:31<53:06:03,  6.53s/it]"
     ]
    },
    {
     "name": "stdout",
     "output_type": "stream",
     "text": [
      "Error fetching URL: https://www.agoda.com/partners/partnersearch.aspx?hid=96605 - Message: no such element: Unable to locate element: {\"method\":\"css selector\",\"selector\":\"a[data-element-name='property-card-content']\"}\n",
      "  (Session info: chrome=130.0.6723.117); For documentation on this error, please visit: https://www.selenium.dev/documentation/webdriver/troubleshooting/errors#no-such-element-exception\n",
      "Stacktrace:\n",
      "\tGetHandleVerifier [0x00007FF6FD4338A5+3004357]\n",
      "\t(No symbol) [0x00007FF6FD0C9970]\n",
      "\t(No symbol) [0x00007FF6FCF7582A]\n",
      "\t(No symbol) [0x00007FF6FCFC5B8E]\n",
      "\t(No symbol) [0x00007FF6FCFC5E7C]\n",
      "\t(No symbol) [0x00007FF6FD00EC27]\n",
      "\t(No symbol) [0x00007FF6FCFEBC1F]\n",
      "\t(No symbol) [0x00007FF6FD00BA4C]\n",
      "\t(No symbol) [0x00007FF6FCFEB983]\n",
      "\t(No symbol) [0x00007FF6FCFB7628]\n",
      "\t(No symbol) [0x00007FF6FCFB8791]\n",
      "\tGetHandleVerifier [0x00007FF6FD45A00D+3161901]\n",
      "\tGetHandleVerifier [0x00007FF6FD4AE060+3506048]\n",
      "\tGetHandleVerifier [0x00007FF6FD4A400D+3465005]\n",
      "\tGetHandleVerifier [0x00007FF6FD220EEB+830987]\n",
      "\t(No symbol) [0x00007FF6FD0D467F]\n",
      "\t(No symbol) [0x00007FF6FD0D09D4]\n",
      "\t(No symbol) [0x00007FF6FD0D0B6D]\n",
      "\t(No symbol) [0x00007FF6FD0C0149]\n",
      "\tBaseThreadInitThunk [0x00007FFB7AAA7374+20]\n",
      "\tRtlUserThreadStart [0x00007FFB7C37CC91+33]\n",
      "\n"
     ]
    },
    {
     "name": "stderr",
     "output_type": "stream",
     "text": [
      "Processing URLs:   1%|      | 163/29446 [18:38<53:20:11,  6.56s/it]"
     ]
    },
    {
     "name": "stdout",
     "output_type": "stream",
     "text": [
      "Error fetching URL: https://www.agoda.com/partners/partnersearch.aspx?hid=97221 - Message: no such element: Unable to locate element: {\"method\":\"css selector\",\"selector\":\"a[data-element-name='property-card-content']\"}\n",
      "  (Session info: chrome=130.0.6723.117); For documentation on this error, please visit: https://www.selenium.dev/documentation/webdriver/troubleshooting/errors#no-such-element-exception\n",
      "Stacktrace:\n",
      "\tGetHandleVerifier [0x00007FF6FD4338A5+3004357]\n",
      "\t(No symbol) [0x00007FF6FD0C9970]\n",
      "\t(No symbol) [0x00007FF6FCF7582A]\n",
      "\t(No symbol) [0x00007FF6FCFC5B8E]\n",
      "\t(No symbol) [0x00007FF6FCFC5E7C]\n",
      "\t(No symbol) [0x00007FF6FD00EC27]\n",
      "\t(No symbol) [0x00007FF6FCFEBC1F]\n",
      "\t(No symbol) [0x00007FF6FD00BA4C]\n",
      "\t(No symbol) [0x00007FF6FCFEB983]\n",
      "\t(No symbol) [0x00007FF6FCFB7628]\n",
      "\t(No symbol) [0x00007FF6FCFB8791]\n",
      "\tGetHandleVerifier [0x00007FF6FD45A00D+3161901]\n",
      "\tGetHandleVerifier [0x00007FF6FD4AE060+3506048]\n",
      "\tGetHandleVerifier [0x00007FF6FD4A400D+3465005]\n",
      "\tGetHandleVerifier [0x00007FF6FD220EEB+830987]\n",
      "\t(No symbol) [0x00007FF6FD0D467F]\n",
      "\t(No symbol) [0x00007FF6FD0D09D4]\n",
      "\t(No symbol) [0x00007FF6FD0D0B6D]\n",
      "\t(No symbol) [0x00007FF6FD0C0149]\n",
      "\tBaseThreadInitThunk [0x00007FFB7AAA7374+20]\n",
      "\tRtlUserThreadStart [0x00007FFB7C37CC91+33]\n",
      "\n"
     ]
    },
    {
     "name": "stderr",
     "output_type": "stream",
     "text": [
      "Processing URLs:   1%|      | 164/29446 [18:44<52:49:07,  6.49s/it]"
     ]
    },
    {
     "name": "stdout",
     "output_type": "stream",
     "text": [
      "Error fetching URL: https://www.agoda.com/partners/partnersearch.aspx?hid=97253 - Message: no such element: Unable to locate element: {\"method\":\"css selector\",\"selector\":\"a[data-element-name='property-card-content']\"}\n",
      "  (Session info: chrome=130.0.6723.117); For documentation on this error, please visit: https://www.selenium.dev/documentation/webdriver/troubleshooting/errors#no-such-element-exception\n",
      "Stacktrace:\n",
      "\tGetHandleVerifier [0x00007FF6FD4338A5+3004357]\n",
      "\t(No symbol) [0x00007FF6FD0C9970]\n",
      "\t(No symbol) [0x00007FF6FCF7582A]\n",
      "\t(No symbol) [0x00007FF6FCFC5B8E]\n",
      "\t(No symbol) [0x00007FF6FCFC5E7C]\n",
      "\t(No symbol) [0x00007FF6FD00EC27]\n",
      "\t(No symbol) [0x00007FF6FCFEBC1F]\n",
      "\t(No symbol) [0x00007FF6FD00BA4C]\n",
      "\t(No symbol) [0x00007FF6FCFEB983]\n",
      "\t(No symbol) [0x00007FF6FCFB7628]\n",
      "\t(No symbol) [0x00007FF6FCFB8791]\n",
      "\tGetHandleVerifier [0x00007FF6FD45A00D+3161901]\n",
      "\tGetHandleVerifier [0x00007FF6FD4AE060+3506048]\n",
      "\tGetHandleVerifier [0x00007FF6FD4A400D+3465005]\n",
      "\tGetHandleVerifier [0x00007FF6FD220EEB+830987]\n",
      "\t(No symbol) [0x00007FF6FD0D467F]\n",
      "\t(No symbol) [0x00007FF6FD0D09D4]\n",
      "\t(No symbol) [0x00007FF6FD0D0B6D]\n",
      "\t(No symbol) [0x00007FF6FD0C0149]\n",
      "\tBaseThreadInitThunk [0x00007FFB7AAA7374+20]\n",
      "\tRtlUserThreadStart [0x00007FFB7C37CC91+33]\n",
      "\n"
     ]
    },
    {
     "name": "stderr",
     "output_type": "stream",
     "text": [
      "Processing URLs:   1%|      | 165/29446 [18:51<53:10:41,  6.54s/it]"
     ]
    },
    {
     "name": "stdout",
     "output_type": "stream",
     "text": [
      "Error fetching URL: https://www.agoda.com/partners/partnersearch.aspx?hid=98964 - Message: no such element: Unable to locate element: {\"method\":\"css selector\",\"selector\":\"a[data-element-name='property-card-content']\"}\n",
      "  (Session info: chrome=130.0.6723.117); For documentation on this error, please visit: https://www.selenium.dev/documentation/webdriver/troubleshooting/errors#no-such-element-exception\n",
      "Stacktrace:\n",
      "\tGetHandleVerifier [0x00007FF6FD4338A5+3004357]\n",
      "\t(No symbol) [0x00007FF6FD0C9970]\n",
      "\t(No symbol) [0x00007FF6FCF7582A]\n",
      "\t(No symbol) [0x00007FF6FCFC5B8E]\n",
      "\t(No symbol) [0x00007FF6FCFC5E7C]\n",
      "\t(No symbol) [0x00007FF6FD00EC27]\n",
      "\t(No symbol) [0x00007FF6FCFEBC1F]\n",
      "\t(No symbol) [0x00007FF6FD00BA4C]\n",
      "\t(No symbol) [0x00007FF6FCFEB983]\n",
      "\t(No symbol) [0x00007FF6FCFB7628]\n",
      "\t(No symbol) [0x00007FF6FCFB8791]\n",
      "\tGetHandleVerifier [0x00007FF6FD45A00D+3161901]\n",
      "\tGetHandleVerifier [0x00007FF6FD4AE060+3506048]\n",
      "\tGetHandleVerifier [0x00007FF6FD4A400D+3465005]\n",
      "\tGetHandleVerifier [0x00007FF6FD220EEB+830987]\n",
      "\t(No symbol) [0x00007FF6FD0D467F]\n",
      "\t(No symbol) [0x00007FF6FD0D09D4]\n",
      "\t(No symbol) [0x00007FF6FD0D0B6D]\n",
      "\t(No symbol) [0x00007FF6FD0C0149]\n",
      "\tBaseThreadInitThunk [0x00007FFB7AAA7374+20]\n",
      "\tRtlUserThreadStart [0x00007FFB7C37CC91+33]\n",
      "\n"
     ]
    },
    {
     "name": "stderr",
     "output_type": "stream",
     "text": [
      "Processing URLs:   1%|      | 166/29446 [18:57<53:29:59,  6.58s/it]"
     ]
    },
    {
     "name": "stdout",
     "output_type": "stream",
     "text": [
      "Error fetching URL: https://www.agoda.com/partners/partnersearch.aspx?hid=99006 - Message: no such element: Unable to locate element: {\"method\":\"css selector\",\"selector\":\"a[data-element-name='property-card-content']\"}\n",
      "  (Session info: chrome=130.0.6723.117); For documentation on this error, please visit: https://www.selenium.dev/documentation/webdriver/troubleshooting/errors#no-such-element-exception\n",
      "Stacktrace:\n",
      "\tGetHandleVerifier [0x00007FF6FD4338A5+3004357]\n",
      "\t(No symbol) [0x00007FF6FD0C9970]\n",
      "\t(No symbol) [0x00007FF6FCF7582A]\n",
      "\t(No symbol) [0x00007FF6FCFC5B8E]\n",
      "\t(No symbol) [0x00007FF6FCFC5E7C]\n",
      "\t(No symbol) [0x00007FF6FD00EC27]\n",
      "\t(No symbol) [0x00007FF6FCFEBC1F]\n",
      "\t(No symbol) [0x00007FF6FD00BA4C]\n",
      "\t(No symbol) [0x00007FF6FCFEB983]\n",
      "\t(No symbol) [0x00007FF6FCFB7628]\n",
      "\t(No symbol) [0x00007FF6FCFB8791]\n",
      "\tGetHandleVerifier [0x00007FF6FD45A00D+3161901]\n",
      "\tGetHandleVerifier [0x00007FF6FD4AE060+3506048]\n",
      "\tGetHandleVerifier [0x00007FF6FD4A400D+3465005]\n",
      "\tGetHandleVerifier [0x00007FF6FD220EEB+830987]\n",
      "\t(No symbol) [0x00007FF6FD0D467F]\n",
      "\t(No symbol) [0x00007FF6FD0D09D4]\n",
      "\t(No symbol) [0x00007FF6FD0D0B6D]\n",
      "\t(No symbol) [0x00007FF6FD0C0149]\n",
      "\tBaseThreadInitThunk [0x00007FFB7AAA7374+20]\n",
      "\tRtlUserThreadStart [0x00007FFB7C37CC91+33]\n",
      "\n"
     ]
    },
    {
     "name": "stderr",
     "output_type": "stream",
     "text": [
      "Processing URLs:   1%|      | 167/29446 [19:04<53:03:24,  6.52s/it]"
     ]
    },
    {
     "name": "stdout",
     "output_type": "stream",
     "text": [
      "Error fetching URL: https://www.agoda.com/partners/partnersearch.aspx?hid=104896 - Message: no such element: Unable to locate element: {\"method\":\"css selector\",\"selector\":\"a[data-element-name='property-card-content']\"}\n",
      "  (Session info: chrome=130.0.6723.117); For documentation on this error, please visit: https://www.selenium.dev/documentation/webdriver/troubleshooting/errors#no-such-element-exception\n",
      "Stacktrace:\n",
      "\tGetHandleVerifier [0x00007FF6FD4338A5+3004357]\n",
      "\t(No symbol) [0x00007FF6FD0C9970]\n",
      "\t(No symbol) [0x00007FF6FCF7582A]\n",
      "\t(No symbol) [0x00007FF6FCFC5B8E]\n",
      "\t(No symbol) [0x00007FF6FCFC5E7C]\n",
      "\t(No symbol) [0x00007FF6FD00EC27]\n",
      "\t(No symbol) [0x00007FF6FCFEBC1F]\n",
      "\t(No symbol) [0x00007FF6FD00BA4C]\n",
      "\t(No symbol) [0x00007FF6FCFEB983]\n",
      "\t(No symbol) [0x00007FF6FCFB7628]\n",
      "\t(No symbol) [0x00007FF6FCFB8791]\n",
      "\tGetHandleVerifier [0x00007FF6FD45A00D+3161901]\n",
      "\tGetHandleVerifier [0x00007FF6FD4AE060+3506048]\n",
      "\tGetHandleVerifier [0x00007FF6FD4A400D+3465005]\n",
      "\tGetHandleVerifier [0x00007FF6FD220EEB+830987]\n",
      "\t(No symbol) [0x00007FF6FD0D467F]\n",
      "\t(No symbol) [0x00007FF6FD0D09D4]\n",
      "\t(No symbol) [0x00007FF6FD0D0B6D]\n",
      "\t(No symbol) [0x00007FF6FD0C0149]\n",
      "\tBaseThreadInitThunk [0x00007FFB7AAA7374+20]\n",
      "\tRtlUserThreadStart [0x00007FFB7C37CC91+33]\n",
      "\n"
     ]
    },
    {
     "name": "stderr",
     "output_type": "stream",
     "text": [
      "Processing URLs:   1%|      | 169/29446 [19:17<52:34:08,  6.46s/it]"
     ]
    },
    {
     "name": "stdout",
     "output_type": "stream",
     "text": [
      "Error fetching URL: https://www.agoda.com/partners/partnersearch.aspx?hid=108218 - Message: no such element: Unable to locate element: {\"method\":\"css selector\",\"selector\":\"a[data-element-name='property-card-content']\"}\n",
      "  (Session info: chrome=130.0.6723.117); For documentation on this error, please visit: https://www.selenium.dev/documentation/webdriver/troubleshooting/errors#no-such-element-exception\n",
      "Stacktrace:\n",
      "\tGetHandleVerifier [0x00007FF6FD4338A5+3004357]\n",
      "\t(No symbol) [0x00007FF6FD0C9970]\n",
      "\t(No symbol) [0x00007FF6FCF7582A]\n",
      "\t(No symbol) [0x00007FF6FCFC5B8E]\n",
      "\t(No symbol) [0x00007FF6FCFC5E7C]\n",
      "\t(No symbol) [0x00007FF6FD00EC27]\n",
      "\t(No symbol) [0x00007FF6FCFEBC1F]\n",
      "\t(No symbol) [0x00007FF6FD00BA4C]\n",
      "\t(No symbol) [0x00007FF6FCFEB983]\n",
      "\t(No symbol) [0x00007FF6FCFB7628]\n",
      "\t(No symbol) [0x00007FF6FCFB8791]\n",
      "\tGetHandleVerifier [0x00007FF6FD45A00D+3161901]\n",
      "\tGetHandleVerifier [0x00007FF6FD4AE060+3506048]\n",
      "\tGetHandleVerifier [0x00007FF6FD4A400D+3465005]\n",
      "\tGetHandleVerifier [0x00007FF6FD220EEB+830987]\n",
      "\t(No symbol) [0x00007FF6FD0D467F]\n",
      "\t(No symbol) [0x00007FF6FD0D09D4]\n",
      "\t(No symbol) [0x00007FF6FD0D0B6D]\n",
      "\t(No symbol) [0x00007FF6FD0C0149]\n",
      "\tBaseThreadInitThunk [0x00007FFB7AAA7374+20]\n",
      "\tRtlUserThreadStart [0x00007FFB7C37CC91+33]\n",
      "\n"
     ]
    },
    {
     "name": "stderr",
     "output_type": "stream",
     "text": [
      "Processing URLs:   1%|      | 170/29446 [19:23<52:10:05,  6.42s/it]"
     ]
    },
    {
     "name": "stdout",
     "output_type": "stream",
     "text": [
      "Error fetching URL: https://www.agoda.com/partners/partnersearch.aspx?hid=108257 - Message: no such element: Unable to locate element: {\"method\":\"css selector\",\"selector\":\"a[data-element-name='property-card-content']\"}\n",
      "  (Session info: chrome=130.0.6723.117); For documentation on this error, please visit: https://www.selenium.dev/documentation/webdriver/troubleshooting/errors#no-such-element-exception\n",
      "Stacktrace:\n",
      "\tGetHandleVerifier [0x00007FF6FD4338A5+3004357]\n",
      "\t(No symbol) [0x00007FF6FD0C9970]\n",
      "\t(No symbol) [0x00007FF6FCF7582A]\n",
      "\t(No symbol) [0x00007FF6FCFC5B8E]\n",
      "\t(No symbol) [0x00007FF6FCFC5E7C]\n",
      "\t(No symbol) [0x00007FF6FD00EC27]\n",
      "\t(No symbol) [0x00007FF6FCFEBC1F]\n",
      "\t(No symbol) [0x00007FF6FD00BA4C]\n",
      "\t(No symbol) [0x00007FF6FCFEB983]\n",
      "\t(No symbol) [0x00007FF6FCFB7628]\n",
      "\t(No symbol) [0x00007FF6FCFB8791]\n",
      "\tGetHandleVerifier [0x00007FF6FD45A00D+3161901]\n",
      "\tGetHandleVerifier [0x00007FF6FD4AE060+3506048]\n",
      "\tGetHandleVerifier [0x00007FF6FD4A400D+3465005]\n",
      "\tGetHandleVerifier [0x00007FF6FD220EEB+830987]\n",
      "\t(No symbol) [0x00007FF6FD0D467F]\n",
      "\t(No symbol) [0x00007FF6FD0D09D4]\n",
      "\t(No symbol) [0x00007FF6FD0D0B6D]\n",
      "\t(No symbol) [0x00007FF6FD0C0149]\n",
      "\tBaseThreadInitThunk [0x00007FFB7AAA7374+20]\n",
      "\tRtlUserThreadStart [0x00007FFB7C37CC91+33]\n",
      "\n"
     ]
    },
    {
     "name": "stderr",
     "output_type": "stream",
     "text": [
      "Processing URLs:   1%|      | 171/29446 [19:29<52:37:15,  6.47s/it]"
     ]
    },
    {
     "name": "stdout",
     "output_type": "stream",
     "text": [
      "Error fetching URL: https://www.agoda.com/partners/partnersearch.aspx?hid=108278 - Message: no such element: Unable to locate element: {\"method\":\"css selector\",\"selector\":\"a[data-element-name='property-card-content']\"}\n",
      "  (Session info: chrome=130.0.6723.117); For documentation on this error, please visit: https://www.selenium.dev/documentation/webdriver/troubleshooting/errors#no-such-element-exception\n",
      "Stacktrace:\n",
      "\tGetHandleVerifier [0x00007FF6FD4338A5+3004357]\n",
      "\t(No symbol) [0x00007FF6FD0C9970]\n",
      "\t(No symbol) [0x00007FF6FCF7582A]\n",
      "\t(No symbol) [0x00007FF6FCFC5B8E]\n",
      "\t(No symbol) [0x00007FF6FCFC5E7C]\n",
      "\t(No symbol) [0x00007FF6FD00EC27]\n",
      "\t(No symbol) [0x00007FF6FCFEBC1F]\n",
      "\t(No symbol) [0x00007FF6FD00BA4C]\n",
      "\t(No symbol) [0x00007FF6FCFEB983]\n",
      "\t(No symbol) [0x00007FF6FCFB7628]\n",
      "\t(No symbol) [0x00007FF6FCFB8791]\n",
      "\tGetHandleVerifier [0x00007FF6FD45A00D+3161901]\n",
      "\tGetHandleVerifier [0x00007FF6FD4AE060+3506048]\n",
      "\tGetHandleVerifier [0x00007FF6FD4A400D+3465005]\n",
      "\tGetHandleVerifier [0x00007FF6FD220EEB+830987]\n",
      "\t(No symbol) [0x00007FF6FD0D467F]\n",
      "\t(No symbol) [0x00007FF6FD0D09D4]\n",
      "\t(No symbol) [0x00007FF6FD0D0B6D]\n",
      "\t(No symbol) [0x00007FF6FD0C0149]\n",
      "\tBaseThreadInitThunk [0x00007FFB7AAA7374+20]\n",
      "\tRtlUserThreadStart [0x00007FFB7C37CC91+33]\n",
      "\n"
     ]
    },
    {
     "name": "stderr",
     "output_type": "stream",
     "text": [
      "Processing URLs:   1%|      | 172/29446 [19:37<54:07:39,  6.66s/it]"
     ]
    },
    {
     "name": "stdout",
     "output_type": "stream",
     "text": [
      "Error fetching URL: https://www.agoda.com/partners/partnersearch.aspx?hid=108286 - Message: no such element: Unable to locate element: {\"method\":\"css selector\",\"selector\":\"a[data-element-name='property-card-content']\"}\n",
      "  (Session info: chrome=130.0.6723.117); For documentation on this error, please visit: https://www.selenium.dev/documentation/webdriver/troubleshooting/errors#no-such-element-exception\n",
      "Stacktrace:\n",
      "\tGetHandleVerifier [0x00007FF6FD4338A5+3004357]\n",
      "\t(No symbol) [0x00007FF6FD0C9970]\n",
      "\t(No symbol) [0x00007FF6FCF7582A]\n",
      "\t(No symbol) [0x00007FF6FCFC5B8E]\n",
      "\t(No symbol) [0x00007FF6FCFC5E7C]\n",
      "\t(No symbol) [0x00007FF6FD00EC27]\n",
      "\t(No symbol) [0x00007FF6FCFEBC1F]\n",
      "\t(No symbol) [0x00007FF6FD00BA4C]\n",
      "\t(No symbol) [0x00007FF6FCFEB983]\n",
      "\t(No symbol) [0x00007FF6FCFB7628]\n",
      "\t(No symbol) [0x00007FF6FCFB8791]\n",
      "\tGetHandleVerifier [0x00007FF6FD45A00D+3161901]\n",
      "\tGetHandleVerifier [0x00007FF6FD4AE060+3506048]\n",
      "\tGetHandleVerifier [0x00007FF6FD4A400D+3465005]\n",
      "\tGetHandleVerifier [0x00007FF6FD220EEB+830987]\n",
      "\t(No symbol) [0x00007FF6FD0D467F]\n",
      "\t(No symbol) [0x00007FF6FD0D09D4]\n",
      "\t(No symbol) [0x00007FF6FD0D0B6D]\n",
      "\t(No symbol) [0x00007FF6FD0C0149]\n",
      "\tBaseThreadInitThunk [0x00007FFB7AAA7374+20]\n",
      "\tRtlUserThreadStart [0x00007FFB7C37CC91+33]\n",
      "\n"
     ]
    },
    {
     "name": "stderr",
     "output_type": "stream",
     "text": [
      "Processing URLs:   1%|      | 175/29446 [19:56<54:10:37,  6.66s/it]"
     ]
    },
    {
     "name": "stdout",
     "output_type": "stream",
     "text": [
      "Error fetching URL: https://www.agoda.com/partners/partnersearch.aspx?hid=108511 - Message: no such element: Unable to locate element: {\"method\":\"css selector\",\"selector\":\"a[data-element-name='property-card-content']\"}\n",
      "  (Session info: chrome=130.0.6723.117); For documentation on this error, please visit: https://www.selenium.dev/documentation/webdriver/troubleshooting/errors#no-such-element-exception\n",
      "Stacktrace:\n",
      "\tGetHandleVerifier [0x00007FF6FD4338A5+3004357]\n",
      "\t(No symbol) [0x00007FF6FD0C9970]\n",
      "\t(No symbol) [0x00007FF6FCF7582A]\n",
      "\t(No symbol) [0x00007FF6FCFC5B8E]\n",
      "\t(No symbol) [0x00007FF6FCFC5E7C]\n",
      "\t(No symbol) [0x00007FF6FD00EC27]\n",
      "\t(No symbol) [0x00007FF6FCFEBC1F]\n",
      "\t(No symbol) [0x00007FF6FD00BA4C]\n",
      "\t(No symbol) [0x00007FF6FCFEB983]\n",
      "\t(No symbol) [0x00007FF6FCFB7628]\n",
      "\t(No symbol) [0x00007FF6FCFB8791]\n",
      "\tGetHandleVerifier [0x00007FF6FD45A00D+3161901]\n",
      "\tGetHandleVerifier [0x00007FF6FD4AE060+3506048]\n",
      "\tGetHandleVerifier [0x00007FF6FD4A400D+3465005]\n",
      "\tGetHandleVerifier [0x00007FF6FD220EEB+830987]\n",
      "\t(No symbol) [0x00007FF6FD0D467F]\n",
      "\t(No symbol) [0x00007FF6FD0D09D4]\n",
      "\t(No symbol) [0x00007FF6FD0D0B6D]\n",
      "\t(No symbol) [0x00007FF6FD0C0149]\n",
      "\tBaseThreadInitThunk [0x00007FFB7AAA7374+20]\n",
      "\tRtlUserThreadStart [0x00007FFB7C37CC91+33]\n",
      "\n"
     ]
    },
    {
     "name": "stderr",
     "output_type": "stream",
     "text": [
      "Processing URLs:   1%|      | 176/29446 [20:03<54:10:04,  6.66s/it]"
     ]
    },
    {
     "name": "stdout",
     "output_type": "stream",
     "text": [
      "Error fetching URL: https://www.agoda.com/partners/partnersearch.aspx?hid=108643 - Message: no such element: Unable to locate element: {\"method\":\"css selector\",\"selector\":\"a[data-element-name='property-card-content']\"}\n",
      "  (Session info: chrome=130.0.6723.117); For documentation on this error, please visit: https://www.selenium.dev/documentation/webdriver/troubleshooting/errors#no-such-element-exception\n",
      "Stacktrace:\n",
      "\tGetHandleVerifier [0x00007FF6FD4338A5+3004357]\n",
      "\t(No symbol) [0x00007FF6FD0C9970]\n",
      "\t(No symbol) [0x00007FF6FCF7582A]\n",
      "\t(No symbol) [0x00007FF6FCFC5B8E]\n",
      "\t(No symbol) [0x00007FF6FCFC5E7C]\n",
      "\t(No symbol) [0x00007FF6FD00EC27]\n",
      "\t(No symbol) [0x00007FF6FCFEBC1F]\n",
      "\t(No symbol) [0x00007FF6FD00BA4C]\n",
      "\t(No symbol) [0x00007FF6FCFEB983]\n",
      "\t(No symbol) [0x00007FF6FCFB7628]\n",
      "\t(No symbol) [0x00007FF6FCFB8791]\n",
      "\tGetHandleVerifier [0x00007FF6FD45A00D+3161901]\n",
      "\tGetHandleVerifier [0x00007FF6FD4AE060+3506048]\n",
      "\tGetHandleVerifier [0x00007FF6FD4A400D+3465005]\n",
      "\tGetHandleVerifier [0x00007FF6FD220EEB+830987]\n",
      "\t(No symbol) [0x00007FF6FD0D467F]\n",
      "\t(No symbol) [0x00007FF6FD0D09D4]\n",
      "\t(No symbol) [0x00007FF6FD0D0B6D]\n",
      "\t(No symbol) [0x00007FF6FD0C0149]\n",
      "\tBaseThreadInitThunk [0x00007FFB7AAA7374+20]\n",
      "\tRtlUserThreadStart [0x00007FFB7C37CC91+33]\n",
      "\n"
     ]
    },
    {
     "name": "stderr",
     "output_type": "stream",
     "text": [
      "Processing URLs:   1%|      | 177/29446 [20:10<54:01:19,  6.64s/it]"
     ]
    },
    {
     "name": "stdout",
     "output_type": "stream",
     "text": [
      "Error fetching URL: https://www.agoda.com/partners/partnersearch.aspx?hid=108649 - Message: no such element: Unable to locate element: {\"method\":\"css selector\",\"selector\":\"a[data-element-name='property-card-content']\"}\n",
      "  (Session info: chrome=130.0.6723.117); For documentation on this error, please visit: https://www.selenium.dev/documentation/webdriver/troubleshooting/errors#no-such-element-exception\n",
      "Stacktrace:\n",
      "\tGetHandleVerifier [0x00007FF6FD4338A5+3004357]\n",
      "\t(No symbol) [0x00007FF6FD0C9970]\n",
      "\t(No symbol) [0x00007FF6FCF7582A]\n",
      "\t(No symbol) [0x00007FF6FCFC5B8E]\n",
      "\t(No symbol) [0x00007FF6FCFC5E7C]\n",
      "\t(No symbol) [0x00007FF6FD00EC27]\n",
      "\t(No symbol) [0x00007FF6FCFEBC1F]\n",
      "\t(No symbol) [0x00007FF6FD00BA4C]\n",
      "\t(No symbol) [0x00007FF6FCFEB983]\n",
      "\t(No symbol) [0x00007FF6FCFB7628]\n",
      "\t(No symbol) [0x00007FF6FCFB8791]\n",
      "\tGetHandleVerifier [0x00007FF6FD45A00D+3161901]\n",
      "\tGetHandleVerifier [0x00007FF6FD4AE060+3506048]\n",
      "\tGetHandleVerifier [0x00007FF6FD4A400D+3465005]\n",
      "\tGetHandleVerifier [0x00007FF6FD220EEB+830987]\n",
      "\t(No symbol) [0x00007FF6FD0D467F]\n",
      "\t(No symbol) [0x00007FF6FD0D09D4]\n",
      "\t(No symbol) [0x00007FF6FD0D0B6D]\n",
      "\t(No symbol) [0x00007FF6FD0C0149]\n",
      "\tBaseThreadInitThunk [0x00007FFB7AAA7374+20]\n",
      "\tRtlUserThreadStart [0x00007FFB7C37CC91+33]\n",
      "\n"
     ]
    },
    {
     "name": "stderr",
     "output_type": "stream",
     "text": [
      "Processing URLs:   1%|      | 178/29446 [20:16<53:13:05,  6.55s/it]"
     ]
    },
    {
     "name": "stdout",
     "output_type": "stream",
     "text": [
      "Error fetching URL: https://www.agoda.com/partners/partnersearch.aspx?hid=108901 - Message: no such element: Unable to locate element: {\"method\":\"css selector\",\"selector\":\"a[data-element-name='property-card-content']\"}\n",
      "  (Session info: chrome=130.0.6723.117); For documentation on this error, please visit: https://www.selenium.dev/documentation/webdriver/troubleshooting/errors#no-such-element-exception\n",
      "Stacktrace:\n",
      "\tGetHandleVerifier [0x00007FF6FD4338A5+3004357]\n",
      "\t(No symbol) [0x00007FF6FD0C9970]\n",
      "\t(No symbol) [0x00007FF6FCF7582A]\n",
      "\t(No symbol) [0x00007FF6FCFC5B8E]\n",
      "\t(No symbol) [0x00007FF6FCFC5E7C]\n",
      "\t(No symbol) [0x00007FF6FD00EC27]\n",
      "\t(No symbol) [0x00007FF6FCFEBC1F]\n",
      "\t(No symbol) [0x00007FF6FD00BA4C]\n",
      "\t(No symbol) [0x00007FF6FCFEB983]\n",
      "\t(No symbol) [0x00007FF6FCFB7628]\n",
      "\t(No symbol) [0x00007FF6FCFB8791]\n",
      "\tGetHandleVerifier [0x00007FF6FD45A00D+3161901]\n",
      "\tGetHandleVerifier [0x00007FF6FD4AE060+3506048]\n",
      "\tGetHandleVerifier [0x00007FF6FD4A400D+3465005]\n",
      "\tGetHandleVerifier [0x00007FF6FD220EEB+830987]\n",
      "\t(No symbol) [0x00007FF6FD0D467F]\n",
      "\t(No symbol) [0x00007FF6FD0D09D4]\n",
      "\t(No symbol) [0x00007FF6FD0D0B6D]\n",
      "\t(No symbol) [0x00007FF6FD0C0149]\n",
      "\tBaseThreadInitThunk [0x00007FFB7AAA7374+20]\n",
      "\tRtlUserThreadStart [0x00007FFB7C37CC91+33]\n",
      "\n"
     ]
    },
    {
     "name": "stderr",
     "output_type": "stream",
     "text": [
      "Processing URLs:   1%|      | 179/29446 [20:23<52:58:39,  6.52s/it]"
     ]
    },
    {
     "name": "stdout",
     "output_type": "stream",
     "text": [
      "Error fetching URL: https://www.agoda.com/partners/partnersearch.aspx?hid=108920 - Message: no such element: Unable to locate element: {\"method\":\"css selector\",\"selector\":\"a[data-element-name='property-card-content']\"}\n",
      "  (Session info: chrome=130.0.6723.117); For documentation on this error, please visit: https://www.selenium.dev/documentation/webdriver/troubleshooting/errors#no-such-element-exception\n",
      "Stacktrace:\n",
      "\tGetHandleVerifier [0x00007FF6FD4338A5+3004357]\n",
      "\t(No symbol) [0x00007FF6FD0C9970]\n",
      "\t(No symbol) [0x00007FF6FCF7582A]\n",
      "\t(No symbol) [0x00007FF6FCFC5B8E]\n",
      "\t(No symbol) [0x00007FF6FCFC5E7C]\n",
      "\t(No symbol) [0x00007FF6FD00EC27]\n",
      "\t(No symbol) [0x00007FF6FCFEBC1F]\n",
      "\t(No symbol) [0x00007FF6FD00BA4C]\n",
      "\t(No symbol) [0x00007FF6FCFEB983]\n",
      "\t(No symbol) [0x00007FF6FCFB7628]\n",
      "\t(No symbol) [0x00007FF6FCFB8791]\n",
      "\tGetHandleVerifier [0x00007FF6FD45A00D+3161901]\n",
      "\tGetHandleVerifier [0x00007FF6FD4AE060+3506048]\n",
      "\tGetHandleVerifier [0x00007FF6FD4A400D+3465005]\n",
      "\tGetHandleVerifier [0x00007FF6FD220EEB+830987]\n",
      "\t(No symbol) [0x00007FF6FD0D467F]\n",
      "\t(No symbol) [0x00007FF6FD0D09D4]\n",
      "\t(No symbol) [0x00007FF6FD0D0B6D]\n",
      "\t(No symbol) [0x00007FF6FD0C0149]\n",
      "\tBaseThreadInitThunk [0x00007FFB7AAA7374+20]\n",
      "\tRtlUserThreadStart [0x00007FFB7C37CC91+33]\n",
      "\n"
     ]
    },
    {
     "name": "stderr",
     "output_type": "stream",
     "text": [
      "Processing URLs:   1%|      | 180/29446 [20:29<52:28:45,  6.46s/it]"
     ]
    },
    {
     "name": "stdout",
     "output_type": "stream",
     "text": [
      "Error fetching URL: https://www.agoda.com/partners/partnersearch.aspx?hid=109086 - Message: no such element: Unable to locate element: {\"method\":\"css selector\",\"selector\":\"a[data-element-name='property-card-content']\"}\n",
      "  (Session info: chrome=130.0.6723.117); For documentation on this error, please visit: https://www.selenium.dev/documentation/webdriver/troubleshooting/errors#no-such-element-exception\n",
      "Stacktrace:\n",
      "\tGetHandleVerifier [0x00007FF6FD4338A5+3004357]\n",
      "\t(No symbol) [0x00007FF6FD0C9970]\n",
      "\t(No symbol) [0x00007FF6FCF7582A]\n",
      "\t(No symbol) [0x00007FF6FCFC5B8E]\n",
      "\t(No symbol) [0x00007FF6FCFC5E7C]\n",
      "\t(No symbol) [0x00007FF6FD00EC27]\n",
      "\t(No symbol) [0x00007FF6FCFEBC1F]\n",
      "\t(No symbol) [0x00007FF6FD00BA4C]\n",
      "\t(No symbol) [0x00007FF6FCFEB983]\n",
      "\t(No symbol) [0x00007FF6FCFB7628]\n",
      "\t(No symbol) [0x00007FF6FCFB8791]\n",
      "\tGetHandleVerifier [0x00007FF6FD45A00D+3161901]\n",
      "\tGetHandleVerifier [0x00007FF6FD4AE060+3506048]\n",
      "\tGetHandleVerifier [0x00007FF6FD4A400D+3465005]\n",
      "\tGetHandleVerifier [0x00007FF6FD220EEB+830987]\n",
      "\t(No symbol) [0x00007FF6FD0D467F]\n",
      "\t(No symbol) [0x00007FF6FD0D09D4]\n",
      "\t(No symbol) [0x00007FF6FD0D0B6D]\n",
      "\t(No symbol) [0x00007FF6FD0C0149]\n",
      "\tBaseThreadInitThunk [0x00007FFB7AAA7374+20]\n",
      "\tRtlUserThreadStart [0x00007FFB7C37CC91+33]\n",
      "\n"
     ]
    },
    {
     "name": "stderr",
     "output_type": "stream",
     "text": [
      "Processing URLs:   1%|      | 181/29446 [20:36<53:42:19,  6.61s/it]"
     ]
    },
    {
     "name": "stdout",
     "output_type": "stream",
     "text": [
      "Error fetching URL: https://www.agoda.com/partners/partnersearch.aspx?hid=109119 - Message: no such element: Unable to locate element: {\"method\":\"css selector\",\"selector\":\"a[data-element-name='property-card-content']\"}\n",
      "  (Session info: chrome=130.0.6723.117); For documentation on this error, please visit: https://www.selenium.dev/documentation/webdriver/troubleshooting/errors#no-such-element-exception\n",
      "Stacktrace:\n",
      "\tGetHandleVerifier [0x00007FF6FD4338A5+3004357]\n",
      "\t(No symbol) [0x00007FF6FD0C9970]\n",
      "\t(No symbol) [0x00007FF6FCF7582A]\n",
      "\t(No symbol) [0x00007FF6FCFC5B8E]\n",
      "\t(No symbol) [0x00007FF6FCFC5E7C]\n",
      "\t(No symbol) [0x00007FF6FD00EC27]\n",
      "\t(No symbol) [0x00007FF6FCFEBC1F]\n",
      "\t(No symbol) [0x00007FF6FD00BA4C]\n",
      "\t(No symbol) [0x00007FF6FCFEB983]\n",
      "\t(No symbol) [0x00007FF6FCFB7628]\n",
      "\t(No symbol) [0x00007FF6FCFB8791]\n",
      "\tGetHandleVerifier [0x00007FF6FD45A00D+3161901]\n",
      "\tGetHandleVerifier [0x00007FF6FD4AE060+3506048]\n",
      "\tGetHandleVerifier [0x00007FF6FD4A400D+3465005]\n",
      "\tGetHandleVerifier [0x00007FF6FD220EEB+830987]\n",
      "\t(No symbol) [0x00007FF6FD0D467F]\n",
      "\t(No symbol) [0x00007FF6FD0D09D4]\n",
      "\t(No symbol) [0x00007FF6FD0D0B6D]\n",
      "\t(No symbol) [0x00007FF6FD0C0149]\n",
      "\tBaseThreadInitThunk [0x00007FFB7AAA7374+20]\n",
      "\tRtlUserThreadStart [0x00007FFB7C37CC91+33]\n",
      "\n"
     ]
    },
    {
     "name": "stderr",
     "output_type": "stream",
     "text": [
      "Processing URLs:   1%|      | 182/29446 [20:42<53:36:00,  6.59s/it]"
     ]
    },
    {
     "name": "stdout",
     "output_type": "stream",
     "text": [
      "Error fetching URL: https://www.agoda.com/partners/partnersearch.aspx?hid=109160 - Message: no such element: Unable to locate element: {\"method\":\"css selector\",\"selector\":\"a[data-element-name='property-card-content']\"}\n",
      "  (Session info: chrome=130.0.6723.117); For documentation on this error, please visit: https://www.selenium.dev/documentation/webdriver/troubleshooting/errors#no-such-element-exception\n",
      "Stacktrace:\n",
      "\tGetHandleVerifier [0x00007FF6FD4338A5+3004357]\n",
      "\t(No symbol) [0x00007FF6FD0C9970]\n",
      "\t(No symbol) [0x00007FF6FCF7582A]\n",
      "\t(No symbol) [0x00007FF6FCFC5B8E]\n",
      "\t(No symbol) [0x00007FF6FCFC5E7C]\n",
      "\t(No symbol) [0x00007FF6FD00EC27]\n",
      "\t(No symbol) [0x00007FF6FCFEBC1F]\n",
      "\t(No symbol) [0x00007FF6FD00BA4C]\n",
      "\t(No symbol) [0x00007FF6FCFEB983]\n",
      "\t(No symbol) [0x00007FF6FCFB7628]\n",
      "\t(No symbol) [0x00007FF6FCFB8791]\n",
      "\tGetHandleVerifier [0x00007FF6FD45A00D+3161901]\n",
      "\tGetHandleVerifier [0x00007FF6FD4AE060+3506048]\n",
      "\tGetHandleVerifier [0x00007FF6FD4A400D+3465005]\n",
      "\tGetHandleVerifier [0x00007FF6FD220EEB+830987]\n",
      "\t(No symbol) [0x00007FF6FD0D467F]\n",
      "\t(No symbol) [0x00007FF6FD0D09D4]\n",
      "\t(No symbol) [0x00007FF6FD0D0B6D]\n",
      "\t(No symbol) [0x00007FF6FD0C0149]\n",
      "\tBaseThreadInitThunk [0x00007FFB7AAA7374+20]\n",
      "\tRtlUserThreadStart [0x00007FFB7C37CC91+33]\n",
      "\n"
     ]
    },
    {
     "name": "stderr",
     "output_type": "stream",
     "text": [
      "Processing URLs:   1%|      | 183/29446 [20:49<53:20:15,  6.56s/it]"
     ]
    },
    {
     "name": "stdout",
     "output_type": "stream",
     "text": [
      "Error fetching URL: https://www.agoda.com/partners/partnersearch.aspx?hid=109162 - Message: no such element: Unable to locate element: {\"method\":\"css selector\",\"selector\":\"a[data-element-name='property-card-content']\"}\n",
      "  (Session info: chrome=130.0.6723.117); For documentation on this error, please visit: https://www.selenium.dev/documentation/webdriver/troubleshooting/errors#no-such-element-exception\n",
      "Stacktrace:\n",
      "\tGetHandleVerifier [0x00007FF6FD4338A5+3004357]\n",
      "\t(No symbol) [0x00007FF6FD0C9970]\n",
      "\t(No symbol) [0x00007FF6FCF7582A]\n",
      "\t(No symbol) [0x00007FF6FCFC5B8E]\n",
      "\t(No symbol) [0x00007FF6FCFC5E7C]\n",
      "\t(No symbol) [0x00007FF6FD00EC27]\n",
      "\t(No symbol) [0x00007FF6FCFEBC1F]\n",
      "\t(No symbol) [0x00007FF6FD00BA4C]\n",
      "\t(No symbol) [0x00007FF6FCFEB983]\n",
      "\t(No symbol) [0x00007FF6FCFB7628]\n",
      "\t(No symbol) [0x00007FF6FCFB8791]\n",
      "\tGetHandleVerifier [0x00007FF6FD45A00D+3161901]\n",
      "\tGetHandleVerifier [0x00007FF6FD4AE060+3506048]\n",
      "\tGetHandleVerifier [0x00007FF6FD4A400D+3465005]\n",
      "\tGetHandleVerifier [0x00007FF6FD220EEB+830987]\n",
      "\t(No symbol) [0x00007FF6FD0D467F]\n",
      "\t(No symbol) [0x00007FF6FD0D09D4]\n",
      "\t(No symbol) [0x00007FF6FD0D0B6D]\n",
      "\t(No symbol) [0x00007FF6FD0C0149]\n",
      "\tBaseThreadInitThunk [0x00007FFB7AAA7374+20]\n",
      "\tRtlUserThreadStart [0x00007FFB7C37CC91+33]\n",
      "\n"
     ]
    },
    {
     "name": "stderr",
     "output_type": "stream",
     "text": [
      "Processing URLs:   1%|      | 184/29446 [20:55<53:05:31,  6.53s/it]"
     ]
    },
    {
     "name": "stdout",
     "output_type": "stream",
     "text": [
      "Error fetching URL: https://www.agoda.com/partners/partnersearch.aspx?hid=109223 - Message: no such element: Unable to locate element: {\"method\":\"css selector\",\"selector\":\"a[data-element-name='property-card-content']\"}\n",
      "  (Session info: chrome=130.0.6723.117); For documentation on this error, please visit: https://www.selenium.dev/documentation/webdriver/troubleshooting/errors#no-such-element-exception\n",
      "Stacktrace:\n",
      "\tGetHandleVerifier [0x00007FF6FD4338A5+3004357]\n",
      "\t(No symbol) [0x00007FF6FD0C9970]\n",
      "\t(No symbol) [0x00007FF6FCF7582A]\n",
      "\t(No symbol) [0x00007FF6FCFC5B8E]\n",
      "\t(No symbol) [0x00007FF6FCFC5E7C]\n",
      "\t(No symbol) [0x00007FF6FD00EC27]\n",
      "\t(No symbol) [0x00007FF6FCFEBC1F]\n",
      "\t(No symbol) [0x00007FF6FD00BA4C]\n",
      "\t(No symbol) [0x00007FF6FCFEB983]\n",
      "\t(No symbol) [0x00007FF6FCFB7628]\n",
      "\t(No symbol) [0x00007FF6FCFB8791]\n",
      "\tGetHandleVerifier [0x00007FF6FD45A00D+3161901]\n",
      "\tGetHandleVerifier [0x00007FF6FD4AE060+3506048]\n",
      "\tGetHandleVerifier [0x00007FF6FD4A400D+3465005]\n",
      "\tGetHandleVerifier [0x00007FF6FD220EEB+830987]\n",
      "\t(No symbol) [0x00007FF6FD0D467F]\n",
      "\t(No symbol) [0x00007FF6FD0D09D4]\n",
      "\t(No symbol) [0x00007FF6FD0D0B6D]\n",
      "\t(No symbol) [0x00007FF6FD0C0149]\n",
      "\tBaseThreadInitThunk [0x00007FFB7AAA7374+20]\n",
      "\tRtlUserThreadStart [0x00007FFB7C37CC91+33]\n",
      "\n"
     ]
    },
    {
     "name": "stderr",
     "output_type": "stream",
     "text": [
      "Processing URLs:   1%|      | 185/29446 [21:02<52:37:40,  6.47s/it]"
     ]
    },
    {
     "name": "stdout",
     "output_type": "stream",
     "text": [
      "Error fetching URL: https://www.agoda.com/partners/partnersearch.aspx?hid=109280 - Message: no such element: Unable to locate element: {\"method\":\"css selector\",\"selector\":\"a[data-element-name='property-card-content']\"}\n",
      "  (Session info: chrome=130.0.6723.117); For documentation on this error, please visit: https://www.selenium.dev/documentation/webdriver/troubleshooting/errors#no-such-element-exception\n",
      "Stacktrace:\n",
      "\tGetHandleVerifier [0x00007FF6FD4338A5+3004357]\n",
      "\t(No symbol) [0x00007FF6FD0C9970]\n",
      "\t(No symbol) [0x00007FF6FCF7582A]\n",
      "\t(No symbol) [0x00007FF6FCFC5B8E]\n",
      "\t(No symbol) [0x00007FF6FCFC5E7C]\n",
      "\t(No symbol) [0x00007FF6FD00EC27]\n",
      "\t(No symbol) [0x00007FF6FCFEBC1F]\n",
      "\t(No symbol) [0x00007FF6FD00BA4C]\n",
      "\t(No symbol) [0x00007FF6FCFEB983]\n",
      "\t(No symbol) [0x00007FF6FCFB7628]\n",
      "\t(No symbol) [0x00007FF6FCFB8791]\n",
      "\tGetHandleVerifier [0x00007FF6FD45A00D+3161901]\n",
      "\tGetHandleVerifier [0x00007FF6FD4AE060+3506048]\n",
      "\tGetHandleVerifier [0x00007FF6FD4A400D+3465005]\n",
      "\tGetHandleVerifier [0x00007FF6FD220EEB+830987]\n",
      "\t(No symbol) [0x00007FF6FD0D467F]\n",
      "\t(No symbol) [0x00007FF6FD0D09D4]\n",
      "\t(No symbol) [0x00007FF6FD0D0B6D]\n",
      "\t(No symbol) [0x00007FF6FD0C0149]\n",
      "\tBaseThreadInitThunk [0x00007FFB7AAA7374+20]\n",
      "\tRtlUserThreadStart [0x00007FFB7C37CC91+33]\n",
      "\n"
     ]
    },
    {
     "name": "stderr",
     "output_type": "stream",
     "text": [
      "Processing URLs:   1%|      | 188/29446 [21:22<54:03:43,  6.65s/it]"
     ]
    },
    {
     "name": "stdout",
     "output_type": "stream",
     "text": [
      "Error fetching URL: https://www.agoda.com/partners/partnersearch.aspx?hid=119832 - Message: no such element: Unable to locate element: {\"method\":\"css selector\",\"selector\":\"a[data-element-name='property-card-content']\"}\n",
      "  (Session info: chrome=130.0.6723.117); For documentation on this error, please visit: https://www.selenium.dev/documentation/webdriver/troubleshooting/errors#no-such-element-exception\n",
      "Stacktrace:\n",
      "\tGetHandleVerifier [0x00007FF6FD4338A5+3004357]\n",
      "\t(No symbol) [0x00007FF6FD0C9970]\n",
      "\t(No symbol) [0x00007FF6FCF7582A]\n",
      "\t(No symbol) [0x00007FF6FCFC5B8E]\n",
      "\t(No symbol) [0x00007FF6FCFC5E7C]\n",
      "\t(No symbol) [0x00007FF6FD00EC27]\n",
      "\t(No symbol) [0x00007FF6FCFEBC1F]\n",
      "\t(No symbol) [0x00007FF6FD00BA4C]\n",
      "\t(No symbol) [0x00007FF6FCFEB983]\n",
      "\t(No symbol) [0x00007FF6FCFB7628]\n",
      "\t(No symbol) [0x00007FF6FCFB8791]\n",
      "\tGetHandleVerifier [0x00007FF6FD45A00D+3161901]\n",
      "\tGetHandleVerifier [0x00007FF6FD4AE060+3506048]\n",
      "\tGetHandleVerifier [0x00007FF6FD4A400D+3465005]\n",
      "\tGetHandleVerifier [0x00007FF6FD220EEB+830987]\n",
      "\t(No symbol) [0x00007FF6FD0D467F]\n",
      "\t(No symbol) [0x00007FF6FD0D09D4]\n",
      "\t(No symbol) [0x00007FF6FD0D0B6D]\n",
      "\t(No symbol) [0x00007FF6FD0C0149]\n",
      "\tBaseThreadInitThunk [0x00007FFB7AAA7374+20]\n",
      "\tRtlUserThreadStart [0x00007FFB7C37CC91+33]\n",
      "\n"
     ]
    },
    {
     "name": "stderr",
     "output_type": "stream",
     "text": [
      "Processing URLs:   1%|      | 189/29446 [21:28<54:04:09,  6.65s/it]"
     ]
    },
    {
     "name": "stdout",
     "output_type": "stream",
     "text": [
      "Error fetching URL: https://www.agoda.com/partners/partnersearch.aspx?hid=148661 - Message: no such element: Unable to locate element: {\"method\":\"css selector\",\"selector\":\"a[data-element-name='property-card-content']\"}\n",
      "  (Session info: chrome=130.0.6723.117); For documentation on this error, please visit: https://www.selenium.dev/documentation/webdriver/troubleshooting/errors#no-such-element-exception\n",
      "Stacktrace:\n",
      "\tGetHandleVerifier [0x00007FF6FD4338A5+3004357]\n",
      "\t(No symbol) [0x00007FF6FD0C9970]\n",
      "\t(No symbol) [0x00007FF6FCF7582A]\n",
      "\t(No symbol) [0x00007FF6FCFC5B8E]\n",
      "\t(No symbol) [0x00007FF6FCFC5E7C]\n",
      "\t(No symbol) [0x00007FF6FD00EC27]\n",
      "\t(No symbol) [0x00007FF6FCFEBC1F]\n",
      "\t(No symbol) [0x00007FF6FD00BA4C]\n",
      "\t(No symbol) [0x00007FF6FCFEB983]\n",
      "\t(No symbol) [0x00007FF6FCFB7628]\n",
      "\t(No symbol) [0x00007FF6FCFB8791]\n",
      "\tGetHandleVerifier [0x00007FF6FD45A00D+3161901]\n",
      "\tGetHandleVerifier [0x00007FF6FD4AE060+3506048]\n",
      "\tGetHandleVerifier [0x00007FF6FD4A400D+3465005]\n",
      "\tGetHandleVerifier [0x00007FF6FD220EEB+830987]\n",
      "\t(No symbol) [0x00007FF6FD0D467F]\n",
      "\t(No symbol) [0x00007FF6FD0D09D4]\n",
      "\t(No symbol) [0x00007FF6FD0D0B6D]\n",
      "\t(No symbol) [0x00007FF6FD0C0149]\n",
      "\tBaseThreadInitThunk [0x00007FFB7AAA7374+20]\n",
      "\tRtlUserThreadStart [0x00007FFB7C37CC91+33]\n",
      "\n"
     ]
    },
    {
     "name": "stderr",
     "output_type": "stream",
     "text": [
      "Processing URLs:   1%|      | 190/29446 [21:35<54:01:34,  6.65s/it]"
     ]
    },
    {
     "name": "stdout",
     "output_type": "stream",
     "text": [
      "Error fetching URL: https://www.agoda.com/partners/partnersearch.aspx?hid=148680 - Message: no such element: Unable to locate element: {\"method\":\"css selector\",\"selector\":\"a[data-element-name='property-card-content']\"}\n",
      "  (Session info: chrome=130.0.6723.117); For documentation on this error, please visit: https://www.selenium.dev/documentation/webdriver/troubleshooting/errors#no-such-element-exception\n",
      "Stacktrace:\n",
      "\tGetHandleVerifier [0x00007FF6FD4338A5+3004357]\n",
      "\t(No symbol) [0x00007FF6FD0C9970]\n",
      "\t(No symbol) [0x00007FF6FCF7582A]\n",
      "\t(No symbol) [0x00007FF6FCFC5B8E]\n",
      "\t(No symbol) [0x00007FF6FCFC5E7C]\n",
      "\t(No symbol) [0x00007FF6FD00EC27]\n",
      "\t(No symbol) [0x00007FF6FCFEBC1F]\n",
      "\t(No symbol) [0x00007FF6FD00BA4C]\n",
      "\t(No symbol) [0x00007FF6FCFEB983]\n",
      "\t(No symbol) [0x00007FF6FCFB7628]\n",
      "\t(No symbol) [0x00007FF6FCFB8791]\n",
      "\tGetHandleVerifier [0x00007FF6FD45A00D+3161901]\n",
      "\tGetHandleVerifier [0x00007FF6FD4AE060+3506048]\n",
      "\tGetHandleVerifier [0x00007FF6FD4A400D+3465005]\n",
      "\tGetHandleVerifier [0x00007FF6FD220EEB+830987]\n",
      "\t(No symbol) [0x00007FF6FD0D467F]\n",
      "\t(No symbol) [0x00007FF6FD0D09D4]\n",
      "\t(No symbol) [0x00007FF6FD0D0B6D]\n",
      "\t(No symbol) [0x00007FF6FD0C0149]\n",
      "\tBaseThreadInitThunk [0x00007FFB7AAA7374+20]\n",
      "\tRtlUserThreadStart [0x00007FFB7C37CC91+33]\n",
      "\n"
     ]
    },
    {
     "name": "stderr",
     "output_type": "stream",
     "text": [
      "Processing URLs:   1%|      | 191/29446 [21:41<53:15:21,  6.55s/it]"
     ]
    },
    {
     "name": "stdout",
     "output_type": "stream",
     "text": [
      "Error fetching URL: https://www.agoda.com/partners/partnersearch.aspx?hid=148705 - Message: no such element: Unable to locate element: {\"method\":\"css selector\",\"selector\":\"a[data-element-name='property-card-content']\"}\n",
      "  (Session info: chrome=130.0.6723.117); For documentation on this error, please visit: https://www.selenium.dev/documentation/webdriver/troubleshooting/errors#no-such-element-exception\n",
      "Stacktrace:\n",
      "\tGetHandleVerifier [0x00007FF6FD4338A5+3004357]\n",
      "\t(No symbol) [0x00007FF6FD0C9970]\n",
      "\t(No symbol) [0x00007FF6FCF7582A]\n",
      "\t(No symbol) [0x00007FF6FCFC5B8E]\n",
      "\t(No symbol) [0x00007FF6FCFC5E7C]\n",
      "\t(No symbol) [0x00007FF6FD00EC27]\n",
      "\t(No symbol) [0x00007FF6FCFEBC1F]\n",
      "\t(No symbol) [0x00007FF6FD00BA4C]\n",
      "\t(No symbol) [0x00007FF6FCFEB983]\n",
      "\t(No symbol) [0x00007FF6FCFB7628]\n",
      "\t(No symbol) [0x00007FF6FCFB8791]\n",
      "\tGetHandleVerifier [0x00007FF6FD45A00D+3161901]\n",
      "\tGetHandleVerifier [0x00007FF6FD4AE060+3506048]\n",
      "\tGetHandleVerifier [0x00007FF6FD4A400D+3465005]\n",
      "\tGetHandleVerifier [0x00007FF6FD220EEB+830987]\n",
      "\t(No symbol) [0x00007FF6FD0D467F]\n",
      "\t(No symbol) [0x00007FF6FD0D09D4]\n",
      "\t(No symbol) [0x00007FF6FD0D0B6D]\n",
      "\t(No symbol) [0x00007FF6FD0C0149]\n",
      "\tBaseThreadInitThunk [0x00007FFB7AAA7374+20]\n",
      "\tRtlUserThreadStart [0x00007FFB7C37CC91+33]\n",
      "\n"
     ]
    },
    {
     "name": "stderr",
     "output_type": "stream",
     "text": [
      "Processing URLs:   1%|      | 192/29446 [21:48<52:45:19,  6.49s/it]"
     ]
    },
    {
     "name": "stdout",
     "output_type": "stream",
     "text": [
      "Error fetching URL: https://www.agoda.com/partners/partnersearch.aspx?hid=148706 - Message: no such element: Unable to locate element: {\"method\":\"css selector\",\"selector\":\"a[data-element-name='property-card-content']\"}\n",
      "  (Session info: chrome=130.0.6723.117); For documentation on this error, please visit: https://www.selenium.dev/documentation/webdriver/troubleshooting/errors#no-such-element-exception\n",
      "Stacktrace:\n",
      "\tGetHandleVerifier [0x00007FF6FD4338A5+3004357]\n",
      "\t(No symbol) [0x00007FF6FD0C9970]\n",
      "\t(No symbol) [0x00007FF6FCF7582A]\n",
      "\t(No symbol) [0x00007FF6FCFC5B8E]\n",
      "\t(No symbol) [0x00007FF6FCFC5E7C]\n",
      "\t(No symbol) [0x00007FF6FD00EC27]\n",
      "\t(No symbol) [0x00007FF6FCFEBC1F]\n",
      "\t(No symbol) [0x00007FF6FD00BA4C]\n",
      "\t(No symbol) [0x00007FF6FCFEB983]\n",
      "\t(No symbol) [0x00007FF6FCFB7628]\n",
      "\t(No symbol) [0x00007FF6FCFB8791]\n",
      "\tGetHandleVerifier [0x00007FF6FD45A00D+3161901]\n",
      "\tGetHandleVerifier [0x00007FF6FD4AE060+3506048]\n",
      "\tGetHandleVerifier [0x00007FF6FD4A400D+3465005]\n",
      "\tGetHandleVerifier [0x00007FF6FD220EEB+830987]\n",
      "\t(No symbol) [0x00007FF6FD0D467F]\n",
      "\t(No symbol) [0x00007FF6FD0D09D4]\n",
      "\t(No symbol) [0x00007FF6FD0D0B6D]\n",
      "\t(No symbol) [0x00007FF6FD0C0149]\n",
      "\tBaseThreadInitThunk [0x00007FFB7AAA7374+20]\n",
      "\tRtlUserThreadStart [0x00007FFB7C37CC91+33]\n",
      "\n"
     ]
    },
    {
     "name": "stderr",
     "output_type": "stream",
     "text": [
      "Processing URLs:   1%|      | 193/29446 [21:54<53:03:22,  6.53s/it]"
     ]
    },
    {
     "name": "stdout",
     "output_type": "stream",
     "text": [
      "Error fetching URL: https://www.agoda.com/partners/partnersearch.aspx?hid=148717 - Message: no such element: Unable to locate element: {\"method\":\"css selector\",\"selector\":\"a[data-element-name='property-card-content']\"}\n",
      "  (Session info: chrome=130.0.6723.117); For documentation on this error, please visit: https://www.selenium.dev/documentation/webdriver/troubleshooting/errors#no-such-element-exception\n",
      "Stacktrace:\n",
      "\tGetHandleVerifier [0x00007FF6FD4338A5+3004357]\n",
      "\t(No symbol) [0x00007FF6FD0C9970]\n",
      "\t(No symbol) [0x00007FF6FCF7582A]\n",
      "\t(No symbol) [0x00007FF6FCFC5B8E]\n",
      "\t(No symbol) [0x00007FF6FCFC5E7C]\n",
      "\t(No symbol) [0x00007FF6FD00EC27]\n",
      "\t(No symbol) [0x00007FF6FCFEBC1F]\n",
      "\t(No symbol) [0x00007FF6FD00BA4C]\n",
      "\t(No symbol) [0x00007FF6FCFEB983]\n",
      "\t(No symbol) [0x00007FF6FCFB7628]\n",
      "\t(No symbol) [0x00007FF6FCFB8791]\n",
      "\tGetHandleVerifier [0x00007FF6FD45A00D+3161901]\n",
      "\tGetHandleVerifier [0x00007FF6FD4AE060+3506048]\n",
      "\tGetHandleVerifier [0x00007FF6FD4A400D+3465005]\n",
      "\tGetHandleVerifier [0x00007FF6FD220EEB+830987]\n",
      "\t(No symbol) [0x00007FF6FD0D467F]\n",
      "\t(No symbol) [0x00007FF6FD0D09D4]\n",
      "\t(No symbol) [0x00007FF6FD0D0B6D]\n",
      "\t(No symbol) [0x00007FF6FD0C0149]\n",
      "\tBaseThreadInitThunk [0x00007FFB7AAA7374+20]\n",
      "\tRtlUserThreadStart [0x00007FFB7C37CC91+33]\n",
      "\n"
     ]
    },
    {
     "name": "stderr",
     "output_type": "stream",
     "text": [
      "Processing URLs:   1%|      | 194/29446 [22:01<53:16:05,  6.56s/it]"
     ]
    },
    {
     "name": "stdout",
     "output_type": "stream",
     "text": [
      "Error fetching URL: https://www.agoda.com/partners/partnersearch.aspx?hid=148730 - Message: no such element: Unable to locate element: {\"method\":\"css selector\",\"selector\":\"a[data-element-name='property-card-content']\"}\n",
      "  (Session info: chrome=130.0.6723.117); For documentation on this error, please visit: https://www.selenium.dev/documentation/webdriver/troubleshooting/errors#no-such-element-exception\n",
      "Stacktrace:\n",
      "\tGetHandleVerifier [0x00007FF6FD4338A5+3004357]\n",
      "\t(No symbol) [0x00007FF6FD0C9970]\n",
      "\t(No symbol) [0x00007FF6FCF7582A]\n",
      "\t(No symbol) [0x00007FF6FCFC5B8E]\n",
      "\t(No symbol) [0x00007FF6FCFC5E7C]\n",
      "\t(No symbol) [0x00007FF6FD00EC27]\n",
      "\t(No symbol) [0x00007FF6FCFEBC1F]\n",
      "\t(No symbol) [0x00007FF6FD00BA4C]\n",
      "\t(No symbol) [0x00007FF6FCFEB983]\n",
      "\t(No symbol) [0x00007FF6FCFB7628]\n",
      "\t(No symbol) [0x00007FF6FCFB8791]\n",
      "\tGetHandleVerifier [0x00007FF6FD45A00D+3161901]\n",
      "\tGetHandleVerifier [0x00007FF6FD4AE060+3506048]\n",
      "\tGetHandleVerifier [0x00007FF6FD4A400D+3465005]\n",
      "\tGetHandleVerifier [0x00007FF6FD220EEB+830987]\n",
      "\t(No symbol) [0x00007FF6FD0D467F]\n",
      "\t(No symbol) [0x00007FF6FD0D09D4]\n",
      "\t(No symbol) [0x00007FF6FD0D0B6D]\n",
      "\t(No symbol) [0x00007FF6FD0C0149]\n",
      "\tBaseThreadInitThunk [0x00007FFB7AAA7374+20]\n",
      "\tRtlUserThreadStart [0x00007FFB7C37CC91+33]\n",
      "\n"
     ]
    },
    {
     "name": "stderr",
     "output_type": "stream",
     "text": [
      "Processing URLs:   1%|      | 195/29446 [22:07<52:46:04,  6.49s/it]"
     ]
    },
    {
     "name": "stdout",
     "output_type": "stream",
     "text": [
      "Error fetching URL: https://www.agoda.com/partners/partnersearch.aspx?hid=148960 - Message: no such element: Unable to locate element: {\"method\":\"css selector\",\"selector\":\"a[data-element-name='property-card-content']\"}\n",
      "  (Session info: chrome=130.0.6723.117); For documentation on this error, please visit: https://www.selenium.dev/documentation/webdriver/troubleshooting/errors#no-such-element-exception\n",
      "Stacktrace:\n",
      "\tGetHandleVerifier [0x00007FF6FD4338A5+3004357]\n",
      "\t(No symbol) [0x00007FF6FD0C9970]\n",
      "\t(No symbol) [0x00007FF6FCF7582A]\n",
      "\t(No symbol) [0x00007FF6FCFC5B8E]\n",
      "\t(No symbol) [0x00007FF6FCFC5E7C]\n",
      "\t(No symbol) [0x00007FF6FD00EC27]\n",
      "\t(No symbol) [0x00007FF6FCFEBC1F]\n",
      "\t(No symbol) [0x00007FF6FD00BA4C]\n",
      "\t(No symbol) [0x00007FF6FCFEB983]\n",
      "\t(No symbol) [0x00007FF6FCFB7628]\n",
      "\t(No symbol) [0x00007FF6FCFB8791]\n",
      "\tGetHandleVerifier [0x00007FF6FD45A00D+3161901]\n",
      "\tGetHandleVerifier [0x00007FF6FD4AE060+3506048]\n",
      "\tGetHandleVerifier [0x00007FF6FD4A400D+3465005]\n",
      "\tGetHandleVerifier [0x00007FF6FD220EEB+830987]\n",
      "\t(No symbol) [0x00007FF6FD0D467F]\n",
      "\t(No symbol) [0x00007FF6FD0D09D4]\n",
      "\t(No symbol) [0x00007FF6FD0D0B6D]\n",
      "\t(No symbol) [0x00007FF6FD0C0149]\n",
      "\tBaseThreadInitThunk [0x00007FFB7AAA7374+20]\n",
      "\tRtlUserThreadStart [0x00007FFB7C37CC91+33]\n",
      "\n"
     ]
    },
    {
     "name": "stderr",
     "output_type": "stream",
     "text": [
      "Processing URLs:   1%|      | 197/29446 [22:21<53:52:22,  6.63s/it]"
     ]
    },
    {
     "name": "stdout",
     "output_type": "stream",
     "text": [
      "Error fetching URL: https://www.agoda.com/partners/partnersearch.aspx?hid=149036 - Message: no such element: Unable to locate element: {\"method\":\"css selector\",\"selector\":\"a[data-element-name='property-card-content']\"}\n",
      "  (Session info: chrome=130.0.6723.117); For documentation on this error, please visit: https://www.selenium.dev/documentation/webdriver/troubleshooting/errors#no-such-element-exception\n",
      "Stacktrace:\n",
      "\tGetHandleVerifier [0x00007FF6FD4338A5+3004357]\n",
      "\t(No symbol) [0x00007FF6FD0C9970]\n",
      "\t(No symbol) [0x00007FF6FCF7582A]\n",
      "\t(No symbol) [0x00007FF6FCFC5B8E]\n",
      "\t(No symbol) [0x00007FF6FCFC5E7C]\n",
      "\t(No symbol) [0x00007FF6FD00EC27]\n",
      "\t(No symbol) [0x00007FF6FCFEBC1F]\n",
      "\t(No symbol) [0x00007FF6FD00BA4C]\n",
      "\t(No symbol) [0x00007FF6FCFEB983]\n",
      "\t(No symbol) [0x00007FF6FCFB7628]\n",
      "\t(No symbol) [0x00007FF6FCFB8791]\n",
      "\tGetHandleVerifier [0x00007FF6FD45A00D+3161901]\n",
      "\tGetHandleVerifier [0x00007FF6FD4AE060+3506048]\n",
      "\tGetHandleVerifier [0x00007FF6FD4A400D+3465005]\n",
      "\tGetHandleVerifier [0x00007FF6FD220EEB+830987]\n",
      "\t(No symbol) [0x00007FF6FD0D467F]\n",
      "\t(No symbol) [0x00007FF6FD0D09D4]\n",
      "\t(No symbol) [0x00007FF6FD0D0B6D]\n",
      "\t(No symbol) [0x00007FF6FD0C0149]\n",
      "\tBaseThreadInitThunk [0x00007FFB7AAA7374+20]\n",
      "\tRtlUserThreadStart [0x00007FFB7C37CC91+33]\n",
      "\n"
     ]
    },
    {
     "name": "stderr",
     "output_type": "stream",
     "text": [
      "Processing URLs:   1%|      | 198/29446 [22:27<53:43:05,  6.61s/it]"
     ]
    },
    {
     "name": "stdout",
     "output_type": "stream",
     "text": [
      "Error fetching URL: https://www.agoda.com/partners/partnersearch.aspx?hid=149038 - Message: no such element: Unable to locate element: {\"method\":\"css selector\",\"selector\":\"a[data-element-name='property-card-content']\"}\n",
      "  (Session info: chrome=130.0.6723.117); For documentation on this error, please visit: https://www.selenium.dev/documentation/webdriver/troubleshooting/errors#no-such-element-exception\n",
      "Stacktrace:\n",
      "\tGetHandleVerifier [0x00007FF6FD4338A5+3004357]\n",
      "\t(No symbol) [0x00007FF6FD0C9970]\n",
      "\t(No symbol) [0x00007FF6FCF7582A]\n",
      "\t(No symbol) [0x00007FF6FCFC5B8E]\n",
      "\t(No symbol) [0x00007FF6FCFC5E7C]\n",
      "\t(No symbol) [0x00007FF6FD00EC27]\n",
      "\t(No symbol) [0x00007FF6FCFEBC1F]\n",
      "\t(No symbol) [0x00007FF6FD00BA4C]\n",
      "\t(No symbol) [0x00007FF6FCFEB983]\n",
      "\t(No symbol) [0x00007FF6FCFB7628]\n",
      "\t(No symbol) [0x00007FF6FCFB8791]\n",
      "\tGetHandleVerifier [0x00007FF6FD45A00D+3161901]\n",
      "\tGetHandleVerifier [0x00007FF6FD4AE060+3506048]\n",
      "\tGetHandleVerifier [0x00007FF6FD4A400D+3465005]\n",
      "\tGetHandleVerifier [0x00007FF6FD220EEB+830987]\n",
      "\t(No symbol) [0x00007FF6FD0D467F]\n",
      "\t(No symbol) [0x00007FF6FD0D09D4]\n",
      "\t(No symbol) [0x00007FF6FD0D0B6D]\n",
      "\t(No symbol) [0x00007FF6FD0C0149]\n",
      "\tBaseThreadInitThunk [0x00007FFB7AAA7374+20]\n",
      "\tRtlUserThreadStart [0x00007FFB7C37CC91+33]\n",
      "\n"
     ]
    },
    {
     "name": "stderr",
     "output_type": "stream",
     "text": [
      "Processing URLs:   1%|      | 199/29446 [22:34<53:35:25,  6.60s/it]"
     ]
    },
    {
     "name": "stdout",
     "output_type": "stream",
     "text": [
      "Error fetching URL: https://www.agoda.com/partners/partnersearch.aspx?hid=149067 - Message: no such element: Unable to locate element: {\"method\":\"css selector\",\"selector\":\"a[data-element-name='property-card-content']\"}\n",
      "  (Session info: chrome=130.0.6723.117); For documentation on this error, please visit: https://www.selenium.dev/documentation/webdriver/troubleshooting/errors#no-such-element-exception\n",
      "Stacktrace:\n",
      "\tGetHandleVerifier [0x00007FF6FD4338A5+3004357]\n",
      "\t(No symbol) [0x00007FF6FD0C9970]\n",
      "\t(No symbol) [0x00007FF6FCF7582A]\n",
      "\t(No symbol) [0x00007FF6FCFC5B8E]\n",
      "\t(No symbol) [0x00007FF6FCFC5E7C]\n",
      "\t(No symbol) [0x00007FF6FD00EC27]\n",
      "\t(No symbol) [0x00007FF6FCFEBC1F]\n",
      "\t(No symbol) [0x00007FF6FD00BA4C]\n",
      "\t(No symbol) [0x00007FF6FCFEB983]\n",
      "\t(No symbol) [0x00007FF6FCFB7628]\n",
      "\t(No symbol) [0x00007FF6FCFB8791]\n",
      "\tGetHandleVerifier [0x00007FF6FD45A00D+3161901]\n",
      "\tGetHandleVerifier [0x00007FF6FD4AE060+3506048]\n",
      "\tGetHandleVerifier [0x00007FF6FD4A400D+3465005]\n",
      "\tGetHandleVerifier [0x00007FF6FD220EEB+830987]\n",
      "\t(No symbol) [0x00007FF6FD0D467F]\n",
      "\t(No symbol) [0x00007FF6FD0D09D4]\n",
      "\t(No symbol) [0x00007FF6FD0D0B6D]\n",
      "\t(No symbol) [0x00007FF6FD0C0149]\n",
      "\tBaseThreadInitThunk [0x00007FFB7AAA7374+20]\n",
      "\tRtlUserThreadStart [0x00007FFB7C37CC91+33]\n",
      "\n"
     ]
    },
    {
     "name": "stderr",
     "output_type": "stream",
     "text": [
      "Processing URLs:   1%|      | 200/29446 [22:40<52:47:36,  6.50s/it]"
     ]
    },
    {
     "name": "stdout",
     "output_type": "stream",
     "text": [
      "Error fetching URL: https://www.agoda.com/partners/partnersearch.aspx?hid=149149 - Message: no such element: Unable to locate element: {\"method\":\"css selector\",\"selector\":\"a[data-element-name='property-card-content']\"}\n",
      "  (Session info: chrome=130.0.6723.117); For documentation on this error, please visit: https://www.selenium.dev/documentation/webdriver/troubleshooting/errors#no-such-element-exception\n",
      "Stacktrace:\n",
      "\tGetHandleVerifier [0x00007FF6FD4338A5+3004357]\n",
      "\t(No symbol) [0x00007FF6FD0C9970]\n",
      "\t(No symbol) [0x00007FF6FCF7582A]\n",
      "\t(No symbol) [0x00007FF6FCFC5B8E]\n",
      "\t(No symbol) [0x00007FF6FCFC5E7C]\n",
      "\t(No symbol) [0x00007FF6FD00EC27]\n",
      "\t(No symbol) [0x00007FF6FCFEBC1F]\n",
      "\t(No symbol) [0x00007FF6FD00BA4C]\n",
      "\t(No symbol) [0x00007FF6FCFEB983]\n",
      "\t(No symbol) [0x00007FF6FCFB7628]\n",
      "\t(No symbol) [0x00007FF6FCFB8791]\n",
      "\tGetHandleVerifier [0x00007FF6FD45A00D+3161901]\n",
      "\tGetHandleVerifier [0x00007FF6FD4AE060+3506048]\n",
      "\tGetHandleVerifier [0x00007FF6FD4A400D+3465005]\n",
      "\tGetHandleVerifier [0x00007FF6FD220EEB+830987]\n",
      "\t(No symbol) [0x00007FF6FD0D467F]\n",
      "\t(No symbol) [0x00007FF6FD0D09D4]\n",
      "\t(No symbol) [0x00007FF6FD0D0B6D]\n",
      "\t(No symbol) [0x00007FF6FD0C0149]\n",
      "\tBaseThreadInitThunk [0x00007FFB7AAA7374+20]\n",
      "\tRtlUserThreadStart [0x00007FFB7C37CC91+33]\n",
      "\n"
     ]
    },
    {
     "name": "stderr",
     "output_type": "stream",
     "text": [
      "Processing URLs:   1%|      | 201/29446 [22:47<52:20:55,  6.44s/it]"
     ]
    },
    {
     "name": "stdout",
     "output_type": "stream",
     "text": [
      "Error fetching URL: https://www.agoda.com/partners/partnersearch.aspx?hid=149150 - Message: no such element: Unable to locate element: {\"method\":\"css selector\",\"selector\":\"a[data-element-name='property-card-content']\"}\n",
      "  (Session info: chrome=130.0.6723.117); For documentation on this error, please visit: https://www.selenium.dev/documentation/webdriver/troubleshooting/errors#no-such-element-exception\n",
      "Stacktrace:\n",
      "\tGetHandleVerifier [0x00007FF6FD4338A5+3004357]\n",
      "\t(No symbol) [0x00007FF6FD0C9970]\n",
      "\t(No symbol) [0x00007FF6FCF7582A]\n",
      "\t(No symbol) [0x00007FF6FCFC5B8E]\n",
      "\t(No symbol) [0x00007FF6FCFC5E7C]\n",
      "\t(No symbol) [0x00007FF6FD00EC27]\n",
      "\t(No symbol) [0x00007FF6FCFEBC1F]\n",
      "\t(No symbol) [0x00007FF6FD00BA4C]\n",
      "\t(No symbol) [0x00007FF6FCFEB983]\n",
      "\t(No symbol) [0x00007FF6FCFB7628]\n",
      "\t(No symbol) [0x00007FF6FCFB8791]\n",
      "\tGetHandleVerifier [0x00007FF6FD45A00D+3161901]\n",
      "\tGetHandleVerifier [0x00007FF6FD4AE060+3506048]\n",
      "\tGetHandleVerifier [0x00007FF6FD4A400D+3465005]\n",
      "\tGetHandleVerifier [0x00007FF6FD220EEB+830987]\n",
      "\t(No symbol) [0x00007FF6FD0D467F]\n",
      "\t(No symbol) [0x00007FF6FD0D09D4]\n",
      "\t(No symbol) [0x00007FF6FD0D0B6D]\n",
      "\t(No symbol) [0x00007FF6FD0C0149]\n",
      "\tBaseThreadInitThunk [0x00007FFB7AAA7374+20]\n",
      "\tRtlUserThreadStart [0x00007FFB7C37CC91+33]\n",
      "\n"
     ]
    },
    {
     "name": "stderr",
     "output_type": "stream",
     "text": [
      "Processing URLs:   1%|      | 203/29446 [22:59<52:04:37,  6.41s/it]"
     ]
    },
    {
     "name": "stdout",
     "output_type": "stream",
     "text": [
      "Error fetching URL: https://www.agoda.com/partners/partnersearch.aspx?hid=159176 - Message: no such element: Unable to locate element: {\"method\":\"css selector\",\"selector\":\"a[data-element-name='property-card-content']\"}\n",
      "  (Session info: chrome=130.0.6723.117); For documentation on this error, please visit: https://www.selenium.dev/documentation/webdriver/troubleshooting/errors#no-such-element-exception\n",
      "Stacktrace:\n",
      "\tGetHandleVerifier [0x00007FF6FD4338A5+3004357]\n",
      "\t(No symbol) [0x00007FF6FD0C9970]\n",
      "\t(No symbol) [0x00007FF6FCF7582A]\n",
      "\t(No symbol) [0x00007FF6FCFC5B8E]\n",
      "\t(No symbol) [0x00007FF6FCFC5E7C]\n",
      "\t(No symbol) [0x00007FF6FD00EC27]\n",
      "\t(No symbol) [0x00007FF6FCFEBC1F]\n",
      "\t(No symbol) [0x00007FF6FD00BA4C]\n",
      "\t(No symbol) [0x00007FF6FCFEB983]\n",
      "\t(No symbol) [0x00007FF6FCFB7628]\n",
      "\t(No symbol) [0x00007FF6FCFB8791]\n",
      "\tGetHandleVerifier [0x00007FF6FD45A00D+3161901]\n",
      "\tGetHandleVerifier [0x00007FF6FD4AE060+3506048]\n",
      "\tGetHandleVerifier [0x00007FF6FD4A400D+3465005]\n",
      "\tGetHandleVerifier [0x00007FF6FD220EEB+830987]\n",
      "\t(No symbol) [0x00007FF6FD0D467F]\n",
      "\t(No symbol) [0x00007FF6FD0D09D4]\n",
      "\t(No symbol) [0x00007FF6FD0D0B6D]\n",
      "\t(No symbol) [0x00007FF6FD0C0149]\n",
      "\tBaseThreadInitThunk [0x00007FFB7AAA7374+20]\n",
      "\tRtlUserThreadStart [0x00007FFB7C37CC91+33]\n",
      "\n"
     ]
    },
    {
     "name": "stderr",
     "output_type": "stream",
     "text": [
      "Processing URLs:   1%|      | 204/29446 [23:06<52:10:37,  6.42s/it]"
     ]
    },
    {
     "name": "stdout",
     "output_type": "stream",
     "text": [
      "Error fetching URL: https://www.agoda.com/partners/partnersearch.aspx?hid=159186 - Message: no such element: Unable to locate element: {\"method\":\"css selector\",\"selector\":\"a[data-element-name='property-card-content']\"}\n",
      "  (Session info: chrome=130.0.6723.117); For documentation on this error, please visit: https://www.selenium.dev/documentation/webdriver/troubleshooting/errors#no-such-element-exception\n",
      "Stacktrace:\n",
      "\tGetHandleVerifier [0x00007FF6FD4338A5+3004357]\n",
      "\t(No symbol) [0x00007FF6FD0C9970]\n",
      "\t(No symbol) [0x00007FF6FCF7582A]\n",
      "\t(No symbol) [0x00007FF6FCFC5B8E]\n",
      "\t(No symbol) [0x00007FF6FCFC5E7C]\n",
      "\t(No symbol) [0x00007FF6FD00EC27]\n",
      "\t(No symbol) [0x00007FF6FCFEBC1F]\n",
      "\t(No symbol) [0x00007FF6FD00BA4C]\n",
      "\t(No symbol) [0x00007FF6FCFEB983]\n",
      "\t(No symbol) [0x00007FF6FCFB7628]\n",
      "\t(No symbol) [0x00007FF6FCFB8791]\n",
      "\tGetHandleVerifier [0x00007FF6FD45A00D+3161901]\n",
      "\tGetHandleVerifier [0x00007FF6FD4AE060+3506048]\n",
      "\tGetHandleVerifier [0x00007FF6FD4A400D+3465005]\n",
      "\tGetHandleVerifier [0x00007FF6FD220EEB+830987]\n",
      "\t(No symbol) [0x00007FF6FD0D467F]\n",
      "\t(No symbol) [0x00007FF6FD0D09D4]\n",
      "\t(No symbol) [0x00007FF6FD0D0B6D]\n",
      "\t(No symbol) [0x00007FF6FD0C0149]\n",
      "\tBaseThreadInitThunk [0x00007FFB7AAA7374+20]\n",
      "\tRtlUserThreadStart [0x00007FFB7C37CC91+33]\n",
      "\n"
     ]
    },
    {
     "name": "stderr",
     "output_type": "stream",
     "text": [
      "Processing URLs:   1%|      | 205/29446 [23:12<51:52:28,  6.39s/it]"
     ]
    },
    {
     "name": "stdout",
     "output_type": "stream",
     "text": [
      "Error fetching URL: https://www.agoda.com/partners/partnersearch.aspx?hid=159223 - Message: no such element: Unable to locate element: {\"method\":\"css selector\",\"selector\":\"a[data-element-name='property-card-content']\"}\n",
      "  (Session info: chrome=130.0.6723.117); For documentation on this error, please visit: https://www.selenium.dev/documentation/webdriver/troubleshooting/errors#no-such-element-exception\n",
      "Stacktrace:\n",
      "\tGetHandleVerifier [0x00007FF6FD4338A5+3004357]\n",
      "\t(No symbol) [0x00007FF6FD0C9970]\n",
      "\t(No symbol) [0x00007FF6FCF7582A]\n",
      "\t(No symbol) [0x00007FF6FCFC5B8E]\n",
      "\t(No symbol) [0x00007FF6FCFC5E7C]\n",
      "\t(No symbol) [0x00007FF6FD00EC27]\n",
      "\t(No symbol) [0x00007FF6FCFEBC1F]\n",
      "\t(No symbol) [0x00007FF6FD00BA4C]\n",
      "\t(No symbol) [0x00007FF6FCFEB983]\n",
      "\t(No symbol) [0x00007FF6FCFB7628]\n",
      "\t(No symbol) [0x00007FF6FCFB8791]\n",
      "\tGetHandleVerifier [0x00007FF6FD45A00D+3161901]\n",
      "\tGetHandleVerifier [0x00007FF6FD4AE060+3506048]\n",
      "\tGetHandleVerifier [0x00007FF6FD4A400D+3465005]\n",
      "\tGetHandleVerifier [0x00007FF6FD220EEB+830987]\n",
      "\t(No symbol) [0x00007FF6FD0D467F]\n",
      "\t(No symbol) [0x00007FF6FD0D09D4]\n",
      "\t(No symbol) [0x00007FF6FD0D0B6D]\n",
      "\t(No symbol) [0x00007FF6FD0C0149]\n",
      "\tBaseThreadInitThunk [0x00007FFB7AAA7374+20]\n",
      "\tRtlUserThreadStart [0x00007FFB7C37CC91+33]\n",
      "\n"
     ]
    },
    {
     "name": "stderr",
     "output_type": "stream",
     "text": [
      "Processing URLs:   1%|      | 206/29446 [23:19<52:15:43,  6.43s/it]"
     ]
    },
    {
     "name": "stdout",
     "output_type": "stream",
     "text": [
      "Error fetching URL: https://www.agoda.com/partners/partnersearch.aspx?hid=161500 - Message: no such element: Unable to locate element: {\"method\":\"css selector\",\"selector\":\"a[data-element-name='property-card-content']\"}\n",
      "  (Session info: chrome=130.0.6723.117); For documentation on this error, please visit: https://www.selenium.dev/documentation/webdriver/troubleshooting/errors#no-such-element-exception\n",
      "Stacktrace:\n",
      "\tGetHandleVerifier [0x00007FF6FD4338A5+3004357]\n",
      "\t(No symbol) [0x00007FF6FD0C9970]\n",
      "\t(No symbol) [0x00007FF6FCF7582A]\n",
      "\t(No symbol) [0x00007FF6FCFC5B8E]\n",
      "\t(No symbol) [0x00007FF6FCFC5E7C]\n",
      "\t(No symbol) [0x00007FF6FD00EC27]\n",
      "\t(No symbol) [0x00007FF6FCFEBC1F]\n",
      "\t(No symbol) [0x00007FF6FD00BA4C]\n",
      "\t(No symbol) [0x00007FF6FCFEB983]\n",
      "\t(No symbol) [0x00007FF6FCFB7628]\n",
      "\t(No symbol) [0x00007FF6FCFB8791]\n",
      "\tGetHandleVerifier [0x00007FF6FD45A00D+3161901]\n",
      "\tGetHandleVerifier [0x00007FF6FD4AE060+3506048]\n",
      "\tGetHandleVerifier [0x00007FF6FD4A400D+3465005]\n",
      "\tGetHandleVerifier [0x00007FF6FD220EEB+830987]\n",
      "\t(No symbol) [0x00007FF6FD0D467F]\n",
      "\t(No symbol) [0x00007FF6FD0D09D4]\n",
      "\t(No symbol) [0x00007FF6FD0D0B6D]\n",
      "\t(No symbol) [0x00007FF6FD0C0149]\n",
      "\tBaseThreadInitThunk [0x00007FFB7AAA7374+20]\n",
      "\tRtlUserThreadStart [0x00007FFB7C37CC91+33]\n",
      "\n"
     ]
    },
    {
     "name": "stderr",
     "output_type": "stream",
     "text": [
      "Processing URLs:   1%|      | 208/29446 [23:32<52:50:49,  6.51s/it]"
     ]
    },
    {
     "name": "stdout",
     "output_type": "stream",
     "text": [
      "Error fetching URL: https://www.agoda.com/partners/partnersearch.aspx?hid=161611 - Message: no such element: Unable to locate element: {\"method\":\"css selector\",\"selector\":\"a[data-element-name='property-card-content']\"}\n",
      "  (Session info: chrome=130.0.6723.117); For documentation on this error, please visit: https://www.selenium.dev/documentation/webdriver/troubleshooting/errors#no-such-element-exception\n",
      "Stacktrace:\n",
      "\tGetHandleVerifier [0x00007FF6FD4338A5+3004357]\n",
      "\t(No symbol) [0x00007FF6FD0C9970]\n",
      "\t(No symbol) [0x00007FF6FCF7582A]\n",
      "\t(No symbol) [0x00007FF6FCFC5B8E]\n",
      "\t(No symbol) [0x00007FF6FCFC5E7C]\n",
      "\t(No symbol) [0x00007FF6FD00EC27]\n",
      "\t(No symbol) [0x00007FF6FCFEBC1F]\n",
      "\t(No symbol) [0x00007FF6FD00BA4C]\n",
      "\t(No symbol) [0x00007FF6FCFEB983]\n",
      "\t(No symbol) [0x00007FF6FCFB7628]\n",
      "\t(No symbol) [0x00007FF6FCFB8791]\n",
      "\tGetHandleVerifier [0x00007FF6FD45A00D+3161901]\n",
      "\tGetHandleVerifier [0x00007FF6FD4AE060+3506048]\n",
      "\tGetHandleVerifier [0x00007FF6FD4A400D+3465005]\n",
      "\tGetHandleVerifier [0x00007FF6FD220EEB+830987]\n",
      "\t(No symbol) [0x00007FF6FD0D467F]\n",
      "\t(No symbol) [0x00007FF6FD0D09D4]\n",
      "\t(No symbol) [0x00007FF6FD0D0B6D]\n",
      "\t(No symbol) [0x00007FF6FD0C0149]\n",
      "\tBaseThreadInitThunk [0x00007FFB7AAA7374+20]\n",
      "\tRtlUserThreadStart [0x00007FFB7C37CC91+33]\n",
      "\n"
     ]
    },
    {
     "name": "stderr",
     "output_type": "stream",
     "text": [
      "Processing URLs:   1%|      | 211/29446 [23:51<52:53:58,  6.51s/it]"
     ]
    },
    {
     "name": "stdout",
     "output_type": "stream",
     "text": [
      "Error fetching URL: https://www.agoda.com/partners/partnersearch.aspx?hid=161676 - Message: no such element: Unable to locate element: {\"method\":\"css selector\",\"selector\":\"a[data-element-name='property-card-content']\"}\n",
      "  (Session info: chrome=130.0.6723.117); For documentation on this error, please visit: https://www.selenium.dev/documentation/webdriver/troubleshooting/errors#no-such-element-exception\n",
      "Stacktrace:\n",
      "\tGetHandleVerifier [0x00007FF6FD4338A5+3004357]\n",
      "\t(No symbol) [0x00007FF6FD0C9970]\n",
      "\t(No symbol) [0x00007FF6FCF7582A]\n",
      "\t(No symbol) [0x00007FF6FCFC5B8E]\n",
      "\t(No symbol) [0x00007FF6FCFC5E7C]\n",
      "\t(No symbol) [0x00007FF6FD00EC27]\n",
      "\t(No symbol) [0x00007FF6FCFEBC1F]\n",
      "\t(No symbol) [0x00007FF6FD00BA4C]\n",
      "\t(No symbol) [0x00007FF6FCFEB983]\n",
      "\t(No symbol) [0x00007FF6FCFB7628]\n",
      "\t(No symbol) [0x00007FF6FCFB8791]\n",
      "\tGetHandleVerifier [0x00007FF6FD45A00D+3161901]\n",
      "\tGetHandleVerifier [0x00007FF6FD4AE060+3506048]\n",
      "\tGetHandleVerifier [0x00007FF6FD4A400D+3465005]\n",
      "\tGetHandleVerifier [0x00007FF6FD220EEB+830987]\n",
      "\t(No symbol) [0x00007FF6FD0D467F]\n",
      "\t(No symbol) [0x00007FF6FD0D09D4]\n",
      "\t(No symbol) [0x00007FF6FD0D0B6D]\n",
      "\t(No symbol) [0x00007FF6FD0C0149]\n",
      "\tBaseThreadInitThunk [0x00007FFB7AAA7374+20]\n",
      "\tRtlUserThreadStart [0x00007FFB7C37CC91+33]\n",
      "\n"
     ]
    },
    {
     "name": "stderr",
     "output_type": "stream",
     "text": [
      "Processing URLs:   1%|      | 212/29446 [23:57<52:12:34,  6.43s/it]"
     ]
    },
    {
     "name": "stdout",
     "output_type": "stream",
     "text": [
      "Error fetching URL: https://www.agoda.com/partners/partnersearch.aspx?hid=161677 - Message: no such element: Unable to locate element: {\"method\":\"css selector\",\"selector\":\"a[data-element-name='property-card-content']\"}\n",
      "  (Session info: chrome=130.0.6723.117); For documentation on this error, please visit: https://www.selenium.dev/documentation/webdriver/troubleshooting/errors#no-such-element-exception\n",
      "Stacktrace:\n",
      "\tGetHandleVerifier [0x00007FF6FD4338A5+3004357]\n",
      "\t(No symbol) [0x00007FF6FD0C9970]\n",
      "\t(No symbol) [0x00007FF6FCF7582A]\n",
      "\t(No symbol) [0x00007FF6FCFC5B8E]\n",
      "\t(No symbol) [0x00007FF6FCFC5E7C]\n",
      "\t(No symbol) [0x00007FF6FD00EC27]\n",
      "\t(No symbol) [0x00007FF6FCFEBC1F]\n",
      "\t(No symbol) [0x00007FF6FD00BA4C]\n",
      "\t(No symbol) [0x00007FF6FCFEB983]\n",
      "\t(No symbol) [0x00007FF6FCFB7628]\n",
      "\t(No symbol) [0x00007FF6FCFB8791]\n",
      "\tGetHandleVerifier [0x00007FF6FD45A00D+3161901]\n",
      "\tGetHandleVerifier [0x00007FF6FD4AE060+3506048]\n",
      "\tGetHandleVerifier [0x00007FF6FD4A400D+3465005]\n",
      "\tGetHandleVerifier [0x00007FF6FD220EEB+830987]\n",
      "\t(No symbol) [0x00007FF6FD0D467F]\n",
      "\t(No symbol) [0x00007FF6FD0D09D4]\n",
      "\t(No symbol) [0x00007FF6FD0D0B6D]\n",
      "\t(No symbol) [0x00007FF6FD0C0149]\n",
      "\tBaseThreadInitThunk [0x00007FFB7AAA7374+20]\n",
      "\tRtlUserThreadStart [0x00007FFB7C37CC91+33]\n",
      "\n"
     ]
    },
    {
     "name": "stderr",
     "output_type": "stream",
     "text": [
      "Processing URLs:   1%|      | 213/29446 [24:04<52:39:39,  6.49s/it]"
     ]
    },
    {
     "name": "stdout",
     "output_type": "stream",
     "text": [
      "Error fetching URL: https://www.agoda.com/partners/partnersearch.aspx?hid=161693 - Message: no such element: Unable to locate element: {\"method\":\"css selector\",\"selector\":\"a[data-element-name='property-card-content']\"}\n",
      "  (Session info: chrome=130.0.6723.117); For documentation on this error, please visit: https://www.selenium.dev/documentation/webdriver/troubleshooting/errors#no-such-element-exception\n",
      "Stacktrace:\n",
      "\tGetHandleVerifier [0x00007FF6FD4338A5+3004357]\n",
      "\t(No symbol) [0x00007FF6FD0C9970]\n",
      "\t(No symbol) [0x00007FF6FCF7582A]\n",
      "\t(No symbol) [0x00007FF6FCFC5B8E]\n",
      "\t(No symbol) [0x00007FF6FCFC5E7C]\n",
      "\t(No symbol) [0x00007FF6FD00EC27]\n",
      "\t(No symbol) [0x00007FF6FCFEBC1F]\n",
      "\t(No symbol) [0x00007FF6FD00BA4C]\n",
      "\t(No symbol) [0x00007FF6FCFEB983]\n",
      "\t(No symbol) [0x00007FF6FCFB7628]\n",
      "\t(No symbol) [0x00007FF6FCFB8791]\n",
      "\tGetHandleVerifier [0x00007FF6FD45A00D+3161901]\n",
      "\tGetHandleVerifier [0x00007FF6FD4AE060+3506048]\n",
      "\tGetHandleVerifier [0x00007FF6FD4A400D+3465005]\n",
      "\tGetHandleVerifier [0x00007FF6FD220EEB+830987]\n",
      "\t(No symbol) [0x00007FF6FD0D467F]\n",
      "\t(No symbol) [0x00007FF6FD0D09D4]\n",
      "\t(No symbol) [0x00007FF6FD0D0B6D]\n",
      "\t(No symbol) [0x00007FF6FD0C0149]\n",
      "\tBaseThreadInitThunk [0x00007FFB7AAA7374+20]\n",
      "\tRtlUserThreadStart [0x00007FFB7C37CC91+33]\n",
      "\n"
     ]
    },
    {
     "name": "stderr",
     "output_type": "stream",
     "text": [
      "Processing URLs:   1%|      | 214/29446 [24:10<52:09:25,  6.42s/it]"
     ]
    },
    {
     "name": "stdout",
     "output_type": "stream",
     "text": [
      "Error fetching URL: https://www.agoda.com/partners/partnersearch.aspx?hid=161717 - Message: no such element: Unable to locate element: {\"method\":\"css selector\",\"selector\":\"a[data-element-name='property-card-content']\"}\n",
      "  (Session info: chrome=130.0.6723.117); For documentation on this error, please visit: https://www.selenium.dev/documentation/webdriver/troubleshooting/errors#no-such-element-exception\n",
      "Stacktrace:\n",
      "\tGetHandleVerifier [0x00007FF6FD4338A5+3004357]\n",
      "\t(No symbol) [0x00007FF6FD0C9970]\n",
      "\t(No symbol) [0x00007FF6FCF7582A]\n",
      "\t(No symbol) [0x00007FF6FCFC5B8E]\n",
      "\t(No symbol) [0x00007FF6FCFC5E7C]\n",
      "\t(No symbol) [0x00007FF6FD00EC27]\n",
      "\t(No symbol) [0x00007FF6FCFEBC1F]\n",
      "\t(No symbol) [0x00007FF6FD00BA4C]\n",
      "\t(No symbol) [0x00007FF6FCFEB983]\n",
      "\t(No symbol) [0x00007FF6FCFB7628]\n",
      "\t(No symbol) [0x00007FF6FCFB8791]\n",
      "\tGetHandleVerifier [0x00007FF6FD45A00D+3161901]\n",
      "\tGetHandleVerifier [0x00007FF6FD4AE060+3506048]\n",
      "\tGetHandleVerifier [0x00007FF6FD4A400D+3465005]\n",
      "\tGetHandleVerifier [0x00007FF6FD220EEB+830987]\n",
      "\t(No symbol) [0x00007FF6FD0D467F]\n",
      "\t(No symbol) [0x00007FF6FD0D09D4]\n",
      "\t(No symbol) [0x00007FF6FD0D0B6D]\n",
      "\t(No symbol) [0x00007FF6FD0C0149]\n",
      "\tBaseThreadInitThunk [0x00007FFB7AAA7374+20]\n",
      "\tRtlUserThreadStart [0x00007FFB7C37CC91+33]\n",
      "\n"
     ]
    },
    {
     "name": "stderr",
     "output_type": "stream",
     "text": [
      "Processing URLs:   1%|      | 215/29446 [24:17<52:00:55,  6.41s/it]"
     ]
    },
    {
     "name": "stdout",
     "output_type": "stream",
     "text": [
      "Error fetching URL: https://www.agoda.com/partners/partnersearch.aspx?hid=161729 - Message: no such element: Unable to locate element: {\"method\":\"css selector\",\"selector\":\"a[data-element-name='property-card-content']\"}\n",
      "  (Session info: chrome=130.0.6723.117); For documentation on this error, please visit: https://www.selenium.dev/documentation/webdriver/troubleshooting/errors#no-such-element-exception\n",
      "Stacktrace:\n",
      "\tGetHandleVerifier [0x00007FF6FD4338A5+3004357]\n",
      "\t(No symbol) [0x00007FF6FD0C9970]\n",
      "\t(No symbol) [0x00007FF6FCF7582A]\n",
      "\t(No symbol) [0x00007FF6FCFC5B8E]\n",
      "\t(No symbol) [0x00007FF6FCFC5E7C]\n",
      "\t(No symbol) [0x00007FF6FD00EC27]\n",
      "\t(No symbol) [0x00007FF6FCFEBC1F]\n",
      "\t(No symbol) [0x00007FF6FD00BA4C]\n",
      "\t(No symbol) [0x00007FF6FCFEB983]\n",
      "\t(No symbol) [0x00007FF6FCFB7628]\n",
      "\t(No symbol) [0x00007FF6FCFB8791]\n",
      "\tGetHandleVerifier [0x00007FF6FD45A00D+3161901]\n",
      "\tGetHandleVerifier [0x00007FF6FD4AE060+3506048]\n",
      "\tGetHandleVerifier [0x00007FF6FD4A400D+3465005]\n",
      "\tGetHandleVerifier [0x00007FF6FD220EEB+830987]\n",
      "\t(No symbol) [0x00007FF6FD0D467F]\n",
      "\t(No symbol) [0x00007FF6FD0D09D4]\n",
      "\t(No symbol) [0x00007FF6FD0D0B6D]\n",
      "\t(No symbol) [0x00007FF6FD0C0149]\n",
      "\tBaseThreadInitThunk [0x00007FFB7AAA7374+20]\n",
      "\tRtlUserThreadStart [0x00007FFB7C37CC91+33]\n",
      "\n"
     ]
    },
    {
     "name": "stderr",
     "output_type": "stream",
     "text": [
      "Processing URLs:   1%|      | 217/29446 [24:30<52:16:48,  6.44s/it]"
     ]
    },
    {
     "name": "stdout",
     "output_type": "stream",
     "text": [
      "Error fetching URL: https://www.agoda.com/partners/partnersearch.aspx?hid=161750 - Message: no such element: Unable to locate element: {\"method\":\"css selector\",\"selector\":\"a[data-element-name='property-card-content']\"}\n",
      "  (Session info: chrome=130.0.6723.117); For documentation on this error, please visit: https://www.selenium.dev/documentation/webdriver/troubleshooting/errors#no-such-element-exception\n",
      "Stacktrace:\n",
      "\tGetHandleVerifier [0x00007FF6FD4338A5+3004357]\n",
      "\t(No symbol) [0x00007FF6FD0C9970]\n",
      "\t(No symbol) [0x00007FF6FCF7582A]\n",
      "\t(No symbol) [0x00007FF6FCFC5B8E]\n",
      "\t(No symbol) [0x00007FF6FCFC5E7C]\n",
      "\t(No symbol) [0x00007FF6FD00EC27]\n",
      "\t(No symbol) [0x00007FF6FCFEBC1F]\n",
      "\t(No symbol) [0x00007FF6FD00BA4C]\n",
      "\t(No symbol) [0x00007FF6FCFEB983]\n",
      "\t(No symbol) [0x00007FF6FCFB7628]\n",
      "\t(No symbol) [0x00007FF6FCFB8791]\n",
      "\tGetHandleVerifier [0x00007FF6FD45A00D+3161901]\n",
      "\tGetHandleVerifier [0x00007FF6FD4AE060+3506048]\n",
      "\tGetHandleVerifier [0x00007FF6FD4A400D+3465005]\n",
      "\tGetHandleVerifier [0x00007FF6FD220EEB+830987]\n",
      "\t(No symbol) [0x00007FF6FD0D467F]\n",
      "\t(No symbol) [0x00007FF6FD0D09D4]\n",
      "\t(No symbol) [0x00007FF6FD0D0B6D]\n",
      "\t(No symbol) [0x00007FF6FD0C0149]\n",
      "\tBaseThreadInitThunk [0x00007FFB7AAA7374+20]\n",
      "\tRtlUserThreadStart [0x00007FFB7C37CC91+33]\n",
      "\n"
     ]
    },
    {
     "name": "stderr",
     "output_type": "stream",
     "text": [
      "Processing URLs:   1%|      | 218/29446 [24:36<51:52:47,  6.39s/it]"
     ]
    },
    {
     "name": "stdout",
     "output_type": "stream",
     "text": [
      "Error fetching URL: https://www.agoda.com/partners/partnersearch.aspx?hid=161765 - Message: no such element: Unable to locate element: {\"method\":\"css selector\",\"selector\":\"a[data-element-name='property-card-content']\"}\n",
      "  (Session info: chrome=130.0.6723.117); For documentation on this error, please visit: https://www.selenium.dev/documentation/webdriver/troubleshooting/errors#no-such-element-exception\n",
      "Stacktrace:\n",
      "\tGetHandleVerifier [0x00007FF6FD4338A5+3004357]\n",
      "\t(No symbol) [0x00007FF6FD0C9970]\n",
      "\t(No symbol) [0x00007FF6FCF7582A]\n",
      "\t(No symbol) [0x00007FF6FCFC5B8E]\n",
      "\t(No symbol) [0x00007FF6FCFC5E7C]\n",
      "\t(No symbol) [0x00007FF6FD00EC27]\n",
      "\t(No symbol) [0x00007FF6FCFEBC1F]\n",
      "\t(No symbol) [0x00007FF6FD00BA4C]\n",
      "\t(No symbol) [0x00007FF6FCFEB983]\n",
      "\t(No symbol) [0x00007FF6FCFB7628]\n",
      "\t(No symbol) [0x00007FF6FCFB8791]\n",
      "\tGetHandleVerifier [0x00007FF6FD45A00D+3161901]\n",
      "\tGetHandleVerifier [0x00007FF6FD4AE060+3506048]\n",
      "\tGetHandleVerifier [0x00007FF6FD4A400D+3465005]\n",
      "\tGetHandleVerifier [0x00007FF6FD220EEB+830987]\n",
      "\t(No symbol) [0x00007FF6FD0D467F]\n",
      "\t(No symbol) [0x00007FF6FD0D09D4]\n",
      "\t(No symbol) [0x00007FF6FD0D0B6D]\n",
      "\t(No symbol) [0x00007FF6FD0C0149]\n",
      "\tBaseThreadInitThunk [0x00007FFB7AAA7374+20]\n",
      "\tRtlUserThreadStart [0x00007FFB7C37CC91+33]\n",
      "\n"
     ]
    },
    {
     "name": "stderr",
     "output_type": "stream",
     "text": [
      "Processing URLs:   1%|      | 219/29446 [24:42<52:08:15,  6.42s/it]"
     ]
    },
    {
     "name": "stdout",
     "output_type": "stream",
     "text": [
      "Error fetching URL: https://www.agoda.com/partners/partnersearch.aspx?hid=161806 - Message: no such element: Unable to locate element: {\"method\":\"css selector\",\"selector\":\"a[data-element-name='property-card-content']\"}\n",
      "  (Session info: chrome=130.0.6723.117); For documentation on this error, please visit: https://www.selenium.dev/documentation/webdriver/troubleshooting/errors#no-such-element-exception\n",
      "Stacktrace:\n",
      "\tGetHandleVerifier [0x00007FF6FD4338A5+3004357]\n",
      "\t(No symbol) [0x00007FF6FD0C9970]\n",
      "\t(No symbol) [0x00007FF6FCF7582A]\n",
      "\t(No symbol) [0x00007FF6FCFC5B8E]\n",
      "\t(No symbol) [0x00007FF6FCFC5E7C]\n",
      "\t(No symbol) [0x00007FF6FD00EC27]\n",
      "\t(No symbol) [0x00007FF6FCFEBC1F]\n",
      "\t(No symbol) [0x00007FF6FD00BA4C]\n",
      "\t(No symbol) [0x00007FF6FCFEB983]\n",
      "\t(No symbol) [0x00007FF6FCFB7628]\n",
      "\t(No symbol) [0x00007FF6FCFB8791]\n",
      "\tGetHandleVerifier [0x00007FF6FD45A00D+3161901]\n",
      "\tGetHandleVerifier [0x00007FF6FD4AE060+3506048]\n",
      "\tGetHandleVerifier [0x00007FF6FD4A400D+3465005]\n",
      "\tGetHandleVerifier [0x00007FF6FD220EEB+830987]\n",
      "\t(No symbol) [0x00007FF6FD0D467F]\n",
      "\t(No symbol) [0x00007FF6FD0D09D4]\n",
      "\t(No symbol) [0x00007FF6FD0D0B6D]\n",
      "\t(No symbol) [0x00007FF6FD0C0149]\n",
      "\tBaseThreadInitThunk [0x00007FFB7AAA7374+20]\n",
      "\tRtlUserThreadStart [0x00007FFB7C37CC91+33]\n",
      "\n"
     ]
    },
    {
     "name": "stderr",
     "output_type": "stream",
     "text": [
      "Processing URLs:   1%|      | 221/29446 [24:56<53:36:16,  6.60s/it]"
     ]
    },
    {
     "name": "stdout",
     "output_type": "stream",
     "text": [
      "Error fetching URL: https://www.agoda.com/partners/partnersearch.aspx?hid=161822 - Message: no such element: Unable to locate element: {\"method\":\"css selector\",\"selector\":\"a[data-element-name='property-card-content']\"}\n",
      "  (Session info: chrome=130.0.6723.117); For documentation on this error, please visit: https://www.selenium.dev/documentation/webdriver/troubleshooting/errors#no-such-element-exception\n",
      "Stacktrace:\n",
      "\tGetHandleVerifier [0x00007FF6FD4338A5+3004357]\n",
      "\t(No symbol) [0x00007FF6FD0C9970]\n",
      "\t(No symbol) [0x00007FF6FCF7582A]\n",
      "\t(No symbol) [0x00007FF6FCFC5B8E]\n",
      "\t(No symbol) [0x00007FF6FCFC5E7C]\n",
      "\t(No symbol) [0x00007FF6FD00EC27]\n",
      "\t(No symbol) [0x00007FF6FCFEBC1F]\n",
      "\t(No symbol) [0x00007FF6FD00BA4C]\n",
      "\t(No symbol) [0x00007FF6FCFEB983]\n",
      "\t(No symbol) [0x00007FF6FCFB7628]\n",
      "\t(No symbol) [0x00007FF6FCFB8791]\n",
      "\tGetHandleVerifier [0x00007FF6FD45A00D+3161901]\n",
      "\tGetHandleVerifier [0x00007FF6FD4AE060+3506048]\n",
      "\tGetHandleVerifier [0x00007FF6FD4A400D+3465005]\n",
      "\tGetHandleVerifier [0x00007FF6FD220EEB+830987]\n",
      "\t(No symbol) [0x00007FF6FD0D467F]\n",
      "\t(No symbol) [0x00007FF6FD0D09D4]\n",
      "\t(No symbol) [0x00007FF6FD0D0B6D]\n",
      "\t(No symbol) [0x00007FF6FD0C0149]\n",
      "\tBaseThreadInitThunk [0x00007FFB7AAA7374+20]\n",
      "\tRtlUserThreadStart [0x00007FFB7C37CC91+33]\n",
      "\n"
     ]
    },
    {
     "name": "stderr",
     "output_type": "stream",
     "text": [
      "Processing URLs:   1%|      | 222/29446 [25:02<52:42:29,  6.49s/it]"
     ]
    },
    {
     "name": "stdout",
     "output_type": "stream",
     "text": [
      "Error fetching URL: https://www.agoda.com/partners/partnersearch.aspx?hid=161839 - Message: no such element: Unable to locate element: {\"method\":\"css selector\",\"selector\":\"a[data-element-name='property-card-content']\"}\n",
      "  (Session info: chrome=130.0.6723.117); For documentation on this error, please visit: https://www.selenium.dev/documentation/webdriver/troubleshooting/errors#no-such-element-exception\n",
      "Stacktrace:\n",
      "\tGetHandleVerifier [0x00007FF6FD4338A5+3004357]\n",
      "\t(No symbol) [0x00007FF6FD0C9970]\n",
      "\t(No symbol) [0x00007FF6FCF7582A]\n",
      "\t(No symbol) [0x00007FF6FCFC5B8E]\n",
      "\t(No symbol) [0x00007FF6FCFC5E7C]\n",
      "\t(No symbol) [0x00007FF6FD00EC27]\n",
      "\t(No symbol) [0x00007FF6FCFEBC1F]\n",
      "\t(No symbol) [0x00007FF6FD00BA4C]\n",
      "\t(No symbol) [0x00007FF6FCFEB983]\n",
      "\t(No symbol) [0x00007FF6FCFB7628]\n",
      "\t(No symbol) [0x00007FF6FCFB8791]\n",
      "\tGetHandleVerifier [0x00007FF6FD45A00D+3161901]\n",
      "\tGetHandleVerifier [0x00007FF6FD4AE060+3506048]\n",
      "\tGetHandleVerifier [0x00007FF6FD4A400D+3465005]\n",
      "\tGetHandleVerifier [0x00007FF6FD220EEB+830987]\n",
      "\t(No symbol) [0x00007FF6FD0D467F]\n",
      "\t(No symbol) [0x00007FF6FD0D09D4]\n",
      "\t(No symbol) [0x00007FF6FD0D0B6D]\n",
      "\t(No symbol) [0x00007FF6FD0C0149]\n",
      "\tBaseThreadInitThunk [0x00007FFB7AAA7374+20]\n",
      "\tRtlUserThreadStart [0x00007FFB7C37CC91+33]\n",
      "\n"
     ]
    },
    {
     "name": "stderr",
     "output_type": "stream",
     "text": [
      "Processing URLs:   1%|      | 223/29446 [25:09<53:10:04,  6.55s/it]"
     ]
    },
    {
     "name": "stdout",
     "output_type": "stream",
     "text": [
      "Error fetching URL: https://www.agoda.com/partners/partnersearch.aspx?hid=161853 - Message: no such element: Unable to locate element: {\"method\":\"css selector\",\"selector\":\"a[data-element-name='property-card-content']\"}\n",
      "  (Session info: chrome=130.0.6723.117); For documentation on this error, please visit: https://www.selenium.dev/documentation/webdriver/troubleshooting/errors#no-such-element-exception\n",
      "Stacktrace:\n",
      "\tGetHandleVerifier [0x00007FF6FD4338A5+3004357]\n",
      "\t(No symbol) [0x00007FF6FD0C9970]\n",
      "\t(No symbol) [0x00007FF6FCF7582A]\n",
      "\t(No symbol) [0x00007FF6FCFC5B8E]\n",
      "\t(No symbol) [0x00007FF6FCFC5E7C]\n",
      "\t(No symbol) [0x00007FF6FD00EC27]\n",
      "\t(No symbol) [0x00007FF6FCFEBC1F]\n",
      "\t(No symbol) [0x00007FF6FD00BA4C]\n",
      "\t(No symbol) [0x00007FF6FCFEB983]\n",
      "\t(No symbol) [0x00007FF6FCFB7628]\n",
      "\t(No symbol) [0x00007FF6FCFB8791]\n",
      "\tGetHandleVerifier [0x00007FF6FD45A00D+3161901]\n",
      "\tGetHandleVerifier [0x00007FF6FD4AE060+3506048]\n",
      "\tGetHandleVerifier [0x00007FF6FD4A400D+3465005]\n",
      "\tGetHandleVerifier [0x00007FF6FD220EEB+830987]\n",
      "\t(No symbol) [0x00007FF6FD0D467F]\n",
      "\t(No symbol) [0x00007FF6FD0D09D4]\n",
      "\t(No symbol) [0x00007FF6FD0D0B6D]\n",
      "\t(No symbol) [0x00007FF6FD0C0149]\n",
      "\tBaseThreadInitThunk [0x00007FFB7AAA7374+20]\n",
      "\tRtlUserThreadStart [0x00007FFB7C37CC91+33]\n",
      "\n"
     ]
    },
    {
     "name": "stderr",
     "output_type": "stream",
     "text": [
      "Processing URLs:   1%|      | 224/29446 [25:15<52:58:30,  6.53s/it]"
     ]
    },
    {
     "name": "stdout",
     "output_type": "stream",
     "text": [
      "Error fetching URL: https://www.agoda.com/partners/partnersearch.aspx?hid=161962 - Message: no such element: Unable to locate element: {\"method\":\"css selector\",\"selector\":\"a[data-element-name='property-card-content']\"}\n",
      "  (Session info: chrome=130.0.6723.117); For documentation on this error, please visit: https://www.selenium.dev/documentation/webdriver/troubleshooting/errors#no-such-element-exception\n",
      "Stacktrace:\n",
      "\tGetHandleVerifier [0x00007FF6FD4338A5+3004357]\n",
      "\t(No symbol) [0x00007FF6FD0C9970]\n",
      "\t(No symbol) [0x00007FF6FCF7582A]\n",
      "\t(No symbol) [0x00007FF6FCFC5B8E]\n",
      "\t(No symbol) [0x00007FF6FCFC5E7C]\n",
      "\t(No symbol) [0x00007FF6FD00EC27]\n",
      "\t(No symbol) [0x00007FF6FCFEBC1F]\n",
      "\t(No symbol) [0x00007FF6FD00BA4C]\n",
      "\t(No symbol) [0x00007FF6FCFEB983]\n",
      "\t(No symbol) [0x00007FF6FCFB7628]\n",
      "\t(No symbol) [0x00007FF6FCFB8791]\n",
      "\tGetHandleVerifier [0x00007FF6FD45A00D+3161901]\n",
      "\tGetHandleVerifier [0x00007FF6FD4AE060+3506048]\n",
      "\tGetHandleVerifier [0x00007FF6FD4A400D+3465005]\n",
      "\tGetHandleVerifier [0x00007FF6FD220EEB+830987]\n",
      "\t(No symbol) [0x00007FF6FD0D467F]\n",
      "\t(No symbol) [0x00007FF6FD0D09D4]\n",
      "\t(No symbol) [0x00007FF6FD0D0B6D]\n",
      "\t(No symbol) [0x00007FF6FD0C0149]\n",
      "\tBaseThreadInitThunk [0x00007FFB7AAA7374+20]\n",
      "\tRtlUserThreadStart [0x00007FFB7C37CC91+33]\n",
      "\n"
     ]
    },
    {
     "name": "stderr",
     "output_type": "stream",
     "text": [
      "Processing URLs:   1%|      | 225/29446 [25:22<53:10:24,  6.55s/it]"
     ]
    },
    {
     "name": "stdout",
     "output_type": "stream",
     "text": [
      "Error fetching URL: https://www.agoda.com/partners/partnersearch.aspx?hid=164672 - Message: no such element: Unable to locate element: {\"method\":\"css selector\",\"selector\":\"a[data-element-name='property-card-content']\"}\n",
      "  (Session info: chrome=130.0.6723.117); For documentation on this error, please visit: https://www.selenium.dev/documentation/webdriver/troubleshooting/errors#no-such-element-exception\n",
      "Stacktrace:\n",
      "\tGetHandleVerifier [0x00007FF6FD4338A5+3004357]\n",
      "\t(No symbol) [0x00007FF6FD0C9970]\n",
      "\t(No symbol) [0x00007FF6FCF7582A]\n",
      "\t(No symbol) [0x00007FF6FCFC5B8E]\n",
      "\t(No symbol) [0x00007FF6FCFC5E7C]\n",
      "\t(No symbol) [0x00007FF6FD00EC27]\n",
      "\t(No symbol) [0x00007FF6FCFEBC1F]\n",
      "\t(No symbol) [0x00007FF6FD00BA4C]\n",
      "\t(No symbol) [0x00007FF6FCFEB983]\n",
      "\t(No symbol) [0x00007FF6FCFB7628]\n",
      "\t(No symbol) [0x00007FF6FCFB8791]\n",
      "\tGetHandleVerifier [0x00007FF6FD45A00D+3161901]\n",
      "\tGetHandleVerifier [0x00007FF6FD4AE060+3506048]\n",
      "\tGetHandleVerifier [0x00007FF6FD4A400D+3465005]\n",
      "\tGetHandleVerifier [0x00007FF6FD220EEB+830987]\n",
      "\t(No symbol) [0x00007FF6FD0D467F]\n",
      "\t(No symbol) [0x00007FF6FD0D09D4]\n",
      "\t(No symbol) [0x00007FF6FD0D0B6D]\n",
      "\t(No symbol) [0x00007FF6FD0C0149]\n",
      "\tBaseThreadInitThunk [0x00007FFB7AAA7374+20]\n",
      "\tRtlUserThreadStart [0x00007FFB7C37CC91+33]\n",
      "\n"
     ]
    },
    {
     "name": "stderr",
     "output_type": "stream",
     "text": [
      "Processing URLs:   1%|      | 226/29446 [25:28<52:35:06,  6.48s/it]"
     ]
    },
    {
     "name": "stdout",
     "output_type": "stream",
     "text": [
      "Error fetching URL: https://www.agoda.com/partners/partnersearch.aspx?hid=164684 - Message: no such element: Unable to locate element: {\"method\":\"css selector\",\"selector\":\"a[data-element-name='property-card-content']\"}\n",
      "  (Session info: chrome=130.0.6723.117); For documentation on this error, please visit: https://www.selenium.dev/documentation/webdriver/troubleshooting/errors#no-such-element-exception\n",
      "Stacktrace:\n",
      "\tGetHandleVerifier [0x00007FF6FD4338A5+3004357]\n",
      "\t(No symbol) [0x00007FF6FD0C9970]\n",
      "\t(No symbol) [0x00007FF6FCF7582A]\n",
      "\t(No symbol) [0x00007FF6FCFC5B8E]\n",
      "\t(No symbol) [0x00007FF6FCFC5E7C]\n",
      "\t(No symbol) [0x00007FF6FD00EC27]\n",
      "\t(No symbol) [0x00007FF6FCFEBC1F]\n",
      "\t(No symbol) [0x00007FF6FD00BA4C]\n",
      "\t(No symbol) [0x00007FF6FCFEB983]\n",
      "\t(No symbol) [0x00007FF6FCFB7628]\n",
      "\t(No symbol) [0x00007FF6FCFB8791]\n",
      "\tGetHandleVerifier [0x00007FF6FD45A00D+3161901]\n",
      "\tGetHandleVerifier [0x00007FF6FD4AE060+3506048]\n",
      "\tGetHandleVerifier [0x00007FF6FD4A400D+3465005]\n",
      "\tGetHandleVerifier [0x00007FF6FD220EEB+830987]\n",
      "\t(No symbol) [0x00007FF6FD0D467F]\n",
      "\t(No symbol) [0x00007FF6FD0D09D4]\n",
      "\t(No symbol) [0x00007FF6FD0D0B6D]\n",
      "\t(No symbol) [0x00007FF6FD0C0149]\n",
      "\tBaseThreadInitThunk [0x00007FFB7AAA7374+20]\n",
      "\tRtlUserThreadStart [0x00007FFB7C37CC91+33]\n",
      "\n"
     ]
    },
    {
     "name": "stderr",
     "output_type": "stream",
     "text": [
      "Processing URLs:   1%|      | 228/29446 [25:41<52:41:11,  6.49s/it]"
     ]
    },
    {
     "name": "stdout",
     "output_type": "stream",
     "text": [
      "Error fetching URL: https://www.agoda.com/partners/partnersearch.aspx?hid=165226 - Message: no such element: Unable to locate element: {\"method\":\"css selector\",\"selector\":\"a[data-element-name='property-card-content']\"}\n",
      "  (Session info: chrome=130.0.6723.117); For documentation on this error, please visit: https://www.selenium.dev/documentation/webdriver/troubleshooting/errors#no-such-element-exception\n",
      "Stacktrace:\n",
      "\tGetHandleVerifier [0x00007FF6FD4338A5+3004357]\n",
      "\t(No symbol) [0x00007FF6FD0C9970]\n",
      "\t(No symbol) [0x00007FF6FCF7582A]\n",
      "\t(No symbol) [0x00007FF6FCFC5B8E]\n",
      "\t(No symbol) [0x00007FF6FCFC5E7C]\n",
      "\t(No symbol) [0x00007FF6FD00EC27]\n",
      "\t(No symbol) [0x00007FF6FCFEBC1F]\n",
      "\t(No symbol) [0x00007FF6FD00BA4C]\n",
      "\t(No symbol) [0x00007FF6FCFEB983]\n",
      "\t(No symbol) [0x00007FF6FCFB7628]\n",
      "\t(No symbol) [0x00007FF6FCFB8791]\n",
      "\tGetHandleVerifier [0x00007FF6FD45A00D+3161901]\n",
      "\tGetHandleVerifier [0x00007FF6FD4AE060+3506048]\n",
      "\tGetHandleVerifier [0x00007FF6FD4A400D+3465005]\n",
      "\tGetHandleVerifier [0x00007FF6FD220EEB+830987]\n",
      "\t(No symbol) [0x00007FF6FD0D467F]\n",
      "\t(No symbol) [0x00007FF6FD0D09D4]\n",
      "\t(No symbol) [0x00007FF6FD0D0B6D]\n",
      "\t(No symbol) [0x00007FF6FD0C0149]\n",
      "\tBaseThreadInitThunk [0x00007FFB7AAA7374+20]\n",
      "\tRtlUserThreadStart [0x00007FFB7C37CC91+33]\n",
      "\n"
     ]
    },
    {
     "name": "stderr",
     "output_type": "stream",
     "text": [
      "Processing URLs:   1%|      | 229/29446 [25:48<52:58:29,  6.53s/it]"
     ]
    },
    {
     "name": "stdout",
     "output_type": "stream",
     "text": [
      "Error fetching URL: https://www.agoda.com/partners/partnersearch.aspx?hid=165247 - Message: no such element: Unable to locate element: {\"method\":\"css selector\",\"selector\":\"a[data-element-name='property-card-content']\"}\n",
      "  (Session info: chrome=130.0.6723.117); For documentation on this error, please visit: https://www.selenium.dev/documentation/webdriver/troubleshooting/errors#no-such-element-exception\n",
      "Stacktrace:\n",
      "\tGetHandleVerifier [0x00007FF6FD4338A5+3004357]\n",
      "\t(No symbol) [0x00007FF6FD0C9970]\n",
      "\t(No symbol) [0x00007FF6FCF7582A]\n",
      "\t(No symbol) [0x00007FF6FCFC5B8E]\n",
      "\t(No symbol) [0x00007FF6FCFC5E7C]\n",
      "\t(No symbol) [0x00007FF6FD00EC27]\n",
      "\t(No symbol) [0x00007FF6FCFEBC1F]\n",
      "\t(No symbol) [0x00007FF6FD00BA4C]\n",
      "\t(No symbol) [0x00007FF6FCFEB983]\n",
      "\t(No symbol) [0x00007FF6FCFB7628]\n",
      "\t(No symbol) [0x00007FF6FCFB8791]\n",
      "\tGetHandleVerifier [0x00007FF6FD45A00D+3161901]\n",
      "\tGetHandleVerifier [0x00007FF6FD4AE060+3506048]\n",
      "\tGetHandleVerifier [0x00007FF6FD4A400D+3465005]\n",
      "\tGetHandleVerifier [0x00007FF6FD220EEB+830987]\n",
      "\t(No symbol) [0x00007FF6FD0D467F]\n",
      "\t(No symbol) [0x00007FF6FD0D09D4]\n",
      "\t(No symbol) [0x00007FF6FD0D0B6D]\n",
      "\t(No symbol) [0x00007FF6FD0C0149]\n",
      "\tBaseThreadInitThunk [0x00007FFB7AAA7374+20]\n",
      "\tRtlUserThreadStart [0x00007FFB7C37CC91+33]\n",
      "\n"
     ]
    },
    {
     "name": "stderr",
     "output_type": "stream",
     "text": [
      "Processing URLs:   1%|      | 230/29446 [25:54<53:20:27,  6.57s/it]"
     ]
    },
    {
     "name": "stdout",
     "output_type": "stream",
     "text": [
      "Error fetching URL: https://www.agoda.com/partners/partnersearch.aspx?hid=165281 - Message: no such element: Unable to locate element: {\"method\":\"css selector\",\"selector\":\"a[data-element-name='property-card-content']\"}\n",
      "  (Session info: chrome=130.0.6723.117); For documentation on this error, please visit: https://www.selenium.dev/documentation/webdriver/troubleshooting/errors#no-such-element-exception\n",
      "Stacktrace:\n",
      "\tGetHandleVerifier [0x00007FF6FD4338A5+3004357]\n",
      "\t(No symbol) [0x00007FF6FD0C9970]\n",
      "\t(No symbol) [0x00007FF6FCF7582A]\n",
      "\t(No symbol) [0x00007FF6FCFC5B8E]\n",
      "\t(No symbol) [0x00007FF6FCFC5E7C]\n",
      "\t(No symbol) [0x00007FF6FD00EC27]\n",
      "\t(No symbol) [0x00007FF6FCFEBC1F]\n",
      "\t(No symbol) [0x00007FF6FD00BA4C]\n",
      "\t(No symbol) [0x00007FF6FCFEB983]\n",
      "\t(No symbol) [0x00007FF6FCFB7628]\n",
      "\t(No symbol) [0x00007FF6FCFB8791]\n",
      "\tGetHandleVerifier [0x00007FF6FD45A00D+3161901]\n",
      "\tGetHandleVerifier [0x00007FF6FD4AE060+3506048]\n",
      "\tGetHandleVerifier [0x00007FF6FD4A400D+3465005]\n",
      "\tGetHandleVerifier [0x00007FF6FD220EEB+830987]\n",
      "\t(No symbol) [0x00007FF6FD0D467F]\n",
      "\t(No symbol) [0x00007FF6FD0D09D4]\n",
      "\t(No symbol) [0x00007FF6FD0D0B6D]\n",
      "\t(No symbol) [0x00007FF6FD0C0149]\n",
      "\tBaseThreadInitThunk [0x00007FFB7AAA7374+20]\n",
      "\tRtlUserThreadStart [0x00007FFB7C37CC91+33]\n",
      "\n"
     ]
    },
    {
     "name": "stderr",
     "output_type": "stream",
     "text": [
      "Processing URLs:   1%|      | 231/29446 [26:01<53:22:43,  6.58s/it]"
     ]
    },
    {
     "name": "stdout",
     "output_type": "stream",
     "text": [
      "Error fetching URL: https://www.agoda.com/partners/partnersearch.aspx?hid=165297 - Message: no such element: Unable to locate element: {\"method\":\"css selector\",\"selector\":\"a[data-element-name='property-card-content']\"}\n",
      "  (Session info: chrome=130.0.6723.117); For documentation on this error, please visit: https://www.selenium.dev/documentation/webdriver/troubleshooting/errors#no-such-element-exception\n",
      "Stacktrace:\n",
      "\tGetHandleVerifier [0x00007FF6FD4338A5+3004357]\n",
      "\t(No symbol) [0x00007FF6FD0C9970]\n",
      "\t(No symbol) [0x00007FF6FCF7582A]\n",
      "\t(No symbol) [0x00007FF6FCFC5B8E]\n",
      "\t(No symbol) [0x00007FF6FCFC5E7C]\n",
      "\t(No symbol) [0x00007FF6FD00EC27]\n",
      "\t(No symbol) [0x00007FF6FCFEBC1F]\n",
      "\t(No symbol) [0x00007FF6FD00BA4C]\n",
      "\t(No symbol) [0x00007FF6FCFEB983]\n",
      "\t(No symbol) [0x00007FF6FCFB7628]\n",
      "\t(No symbol) [0x00007FF6FCFB8791]\n",
      "\tGetHandleVerifier [0x00007FF6FD45A00D+3161901]\n",
      "\tGetHandleVerifier [0x00007FF6FD4AE060+3506048]\n",
      "\tGetHandleVerifier [0x00007FF6FD4A400D+3465005]\n",
      "\tGetHandleVerifier [0x00007FF6FD220EEB+830987]\n",
      "\t(No symbol) [0x00007FF6FD0D467F]\n",
      "\t(No symbol) [0x00007FF6FD0D09D4]\n",
      "\t(No symbol) [0x00007FF6FD0D0B6D]\n",
      "\t(No symbol) [0x00007FF6FD0C0149]\n",
      "\tBaseThreadInitThunk [0x00007FFB7AAA7374+20]\n",
      "\tRtlUserThreadStart [0x00007FFB7C37CC91+33]\n",
      "\n"
     ]
    },
    {
     "name": "stderr",
     "output_type": "stream",
     "text": [
      "Processing URLs:   1%|      | 232/29446 [26:07<52:47:24,  6.51s/it]"
     ]
    },
    {
     "name": "stdout",
     "output_type": "stream",
     "text": [
      "Error fetching URL: https://www.agoda.com/partners/partnersearch.aspx?hid=165362 - Message: no such element: Unable to locate element: {\"method\":\"css selector\",\"selector\":\"a[data-element-name='property-card-content']\"}\n",
      "  (Session info: chrome=130.0.6723.117); For documentation on this error, please visit: https://www.selenium.dev/documentation/webdriver/troubleshooting/errors#no-such-element-exception\n",
      "Stacktrace:\n",
      "\tGetHandleVerifier [0x00007FF6FD4338A5+3004357]\n",
      "\t(No symbol) [0x00007FF6FD0C9970]\n",
      "\t(No symbol) [0x00007FF6FCF7582A]\n",
      "\t(No symbol) [0x00007FF6FCFC5B8E]\n",
      "\t(No symbol) [0x00007FF6FCFC5E7C]\n",
      "\t(No symbol) [0x00007FF6FD00EC27]\n",
      "\t(No symbol) [0x00007FF6FCFEBC1F]\n",
      "\t(No symbol) [0x00007FF6FD00BA4C]\n",
      "\t(No symbol) [0x00007FF6FCFEB983]\n",
      "\t(No symbol) [0x00007FF6FCFB7628]\n",
      "\t(No symbol) [0x00007FF6FCFB8791]\n",
      "\tGetHandleVerifier [0x00007FF6FD45A00D+3161901]\n",
      "\tGetHandleVerifier [0x00007FF6FD4AE060+3506048]\n",
      "\tGetHandleVerifier [0x00007FF6FD4A400D+3465005]\n",
      "\tGetHandleVerifier [0x00007FF6FD220EEB+830987]\n",
      "\t(No symbol) [0x00007FF6FD0D467F]\n",
      "\t(No symbol) [0x00007FF6FD0D09D4]\n",
      "\t(No symbol) [0x00007FF6FD0D0B6D]\n",
      "\t(No symbol) [0x00007FF6FD0C0149]\n",
      "\tBaseThreadInitThunk [0x00007FFB7AAA7374+20]\n",
      "\tRtlUserThreadStart [0x00007FFB7C37CC91+33]\n",
      "\n"
     ]
    },
    {
     "name": "stderr",
     "output_type": "stream",
     "text": [
      "Processing URLs:   1%|      | 233/29446 [26:14<53:01:52,  6.54s/it]"
     ]
    },
    {
     "name": "stdout",
     "output_type": "stream",
     "text": [
      "Error fetching URL: https://www.agoda.com/partners/partnersearch.aspx?hid=165383 - Message: no such element: Unable to locate element: {\"method\":\"css selector\",\"selector\":\"a[data-element-name='property-card-content']\"}\n",
      "  (Session info: chrome=130.0.6723.117); For documentation on this error, please visit: https://www.selenium.dev/documentation/webdriver/troubleshooting/errors#no-such-element-exception\n",
      "Stacktrace:\n",
      "\tGetHandleVerifier [0x00007FF6FD4338A5+3004357]\n",
      "\t(No symbol) [0x00007FF6FD0C9970]\n",
      "\t(No symbol) [0x00007FF6FCF7582A]\n",
      "\t(No symbol) [0x00007FF6FCFC5B8E]\n",
      "\t(No symbol) [0x00007FF6FCFC5E7C]\n",
      "\t(No symbol) [0x00007FF6FD00EC27]\n",
      "\t(No symbol) [0x00007FF6FCFEBC1F]\n",
      "\t(No symbol) [0x00007FF6FD00BA4C]\n",
      "\t(No symbol) [0x00007FF6FCFEB983]\n",
      "\t(No symbol) [0x00007FF6FCFB7628]\n",
      "\t(No symbol) [0x00007FF6FCFB8791]\n",
      "\tGetHandleVerifier [0x00007FF6FD45A00D+3161901]\n",
      "\tGetHandleVerifier [0x00007FF6FD4AE060+3506048]\n",
      "\tGetHandleVerifier [0x00007FF6FD4A400D+3465005]\n",
      "\tGetHandleVerifier [0x00007FF6FD220EEB+830987]\n",
      "\t(No symbol) [0x00007FF6FD0D467F]\n",
      "\t(No symbol) [0x00007FF6FD0D09D4]\n",
      "\t(No symbol) [0x00007FF6FD0D0B6D]\n",
      "\t(No symbol) [0x00007FF6FD0C0149]\n",
      "\tBaseThreadInitThunk [0x00007FFB7AAA7374+20]\n",
      "\tRtlUserThreadStart [0x00007FFB7C37CC91+33]\n",
      "\n"
     ]
    },
    {
     "name": "stderr",
     "output_type": "stream",
     "text": [
      "Processing URLs:   1%|      | 234/29446 [26:20<52:41:31,  6.49s/it]"
     ]
    },
    {
     "name": "stdout",
     "output_type": "stream",
     "text": [
      "Error fetching URL: https://www.agoda.com/partners/partnersearch.aspx?hid=165452 - Message: no such element: Unable to locate element: {\"method\":\"css selector\",\"selector\":\"a[data-element-name='property-card-content']\"}\n",
      "  (Session info: chrome=130.0.6723.117); For documentation on this error, please visit: https://www.selenium.dev/documentation/webdriver/troubleshooting/errors#no-such-element-exception\n",
      "Stacktrace:\n",
      "\tGetHandleVerifier [0x00007FF6FD4338A5+3004357]\n",
      "\t(No symbol) [0x00007FF6FD0C9970]\n",
      "\t(No symbol) [0x00007FF6FCF7582A]\n",
      "\t(No symbol) [0x00007FF6FCFC5B8E]\n",
      "\t(No symbol) [0x00007FF6FCFC5E7C]\n",
      "\t(No symbol) [0x00007FF6FD00EC27]\n",
      "\t(No symbol) [0x00007FF6FCFEBC1F]\n",
      "\t(No symbol) [0x00007FF6FD00BA4C]\n",
      "\t(No symbol) [0x00007FF6FCFEB983]\n",
      "\t(No symbol) [0x00007FF6FCFB7628]\n",
      "\t(No symbol) [0x00007FF6FCFB8791]\n",
      "\tGetHandleVerifier [0x00007FF6FD45A00D+3161901]\n",
      "\tGetHandleVerifier [0x00007FF6FD4AE060+3506048]\n",
      "\tGetHandleVerifier [0x00007FF6FD4A400D+3465005]\n",
      "\tGetHandleVerifier [0x00007FF6FD220EEB+830987]\n",
      "\t(No symbol) [0x00007FF6FD0D467F]\n",
      "\t(No symbol) [0x00007FF6FD0D09D4]\n",
      "\t(No symbol) [0x00007FF6FD0D0B6D]\n",
      "\t(No symbol) [0x00007FF6FD0C0149]\n",
      "\tBaseThreadInitThunk [0x00007FFB7AAA7374+20]\n",
      "\tRtlUserThreadStart [0x00007FFB7C37CC91+33]\n",
      "\n"
     ]
    },
    {
     "name": "stderr",
     "output_type": "stream",
     "text": [
      "Processing URLs:   1%|      | 237/29446 [26:40<53:28:08,  6.59s/it]"
     ]
    },
    {
     "name": "stdout",
     "output_type": "stream",
     "text": [
      "Error fetching URL: https://www.agoda.com/partners/partnersearch.aspx?hid=165511 - Message: no such element: Unable to locate element: {\"method\":\"css selector\",\"selector\":\"a[data-element-name='property-card-content']\"}\n",
      "  (Session info: chrome=130.0.6723.117); For documentation on this error, please visit: https://www.selenium.dev/documentation/webdriver/troubleshooting/errors#no-such-element-exception\n",
      "Stacktrace:\n",
      "\tGetHandleVerifier [0x00007FF6FD4338A5+3004357]\n",
      "\t(No symbol) [0x00007FF6FD0C9970]\n",
      "\t(No symbol) [0x00007FF6FCF7582A]\n",
      "\t(No symbol) [0x00007FF6FCFC5B8E]\n",
      "\t(No symbol) [0x00007FF6FCFC5E7C]\n",
      "\t(No symbol) [0x00007FF6FD00EC27]\n",
      "\t(No symbol) [0x00007FF6FCFEBC1F]\n",
      "\t(No symbol) [0x00007FF6FD00BA4C]\n",
      "\t(No symbol) [0x00007FF6FCFEB983]\n",
      "\t(No symbol) [0x00007FF6FCFB7628]\n",
      "\t(No symbol) [0x00007FF6FCFB8791]\n",
      "\tGetHandleVerifier [0x00007FF6FD45A00D+3161901]\n",
      "\tGetHandleVerifier [0x00007FF6FD4AE060+3506048]\n",
      "\tGetHandleVerifier [0x00007FF6FD4A400D+3465005]\n",
      "\tGetHandleVerifier [0x00007FF6FD220EEB+830987]\n",
      "\t(No symbol) [0x00007FF6FD0D467F]\n",
      "\t(No symbol) [0x00007FF6FD0D09D4]\n",
      "\t(No symbol) [0x00007FF6FD0D0B6D]\n",
      "\t(No symbol) [0x00007FF6FD0C0149]\n",
      "\tBaseThreadInitThunk [0x00007FFB7AAA7374+20]\n",
      "\tRtlUserThreadStart [0x00007FFB7C37CC91+33]\n",
      "\n"
     ]
    },
    {
     "name": "stderr",
     "output_type": "stream",
     "text": [
      "Processing URLs:   1%|      | 238/29446 [26:47<53:36:05,  6.61s/it]"
     ]
    },
    {
     "name": "stdout",
     "output_type": "stream",
     "text": [
      "Error fetching URL: https://www.agoda.com/partners/partnersearch.aspx?hid=165512 - Message: no such element: Unable to locate element: {\"method\":\"css selector\",\"selector\":\"a[data-element-name='property-card-content']\"}\n",
      "  (Session info: chrome=130.0.6723.117); For documentation on this error, please visit: https://www.selenium.dev/documentation/webdriver/troubleshooting/errors#no-such-element-exception\n",
      "Stacktrace:\n",
      "\tGetHandleVerifier [0x00007FF6FD4338A5+3004357]\n",
      "\t(No symbol) [0x00007FF6FD0C9970]\n",
      "\t(No symbol) [0x00007FF6FCF7582A]\n",
      "\t(No symbol) [0x00007FF6FCFC5B8E]\n",
      "\t(No symbol) [0x00007FF6FCFC5E7C]\n",
      "\t(No symbol) [0x00007FF6FD00EC27]\n",
      "\t(No symbol) [0x00007FF6FCFEBC1F]\n",
      "\t(No symbol) [0x00007FF6FD00BA4C]\n",
      "\t(No symbol) [0x00007FF6FCFEB983]\n",
      "\t(No symbol) [0x00007FF6FCFB7628]\n",
      "\t(No symbol) [0x00007FF6FCFB8791]\n",
      "\tGetHandleVerifier [0x00007FF6FD45A00D+3161901]\n",
      "\tGetHandleVerifier [0x00007FF6FD4AE060+3506048]\n",
      "\tGetHandleVerifier [0x00007FF6FD4A400D+3465005]\n",
      "\tGetHandleVerifier [0x00007FF6FD220EEB+830987]\n",
      "\t(No symbol) [0x00007FF6FD0D467F]\n",
      "\t(No symbol) [0x00007FF6FD0D09D4]\n",
      "\t(No symbol) [0x00007FF6FD0D0B6D]\n",
      "\t(No symbol) [0x00007FF6FD0C0149]\n",
      "\tBaseThreadInitThunk [0x00007FFB7AAA7374+20]\n",
      "\tRtlUserThreadStart [0x00007FFB7C37CC91+33]\n",
      "\n"
     ]
    },
    {
     "name": "stderr",
     "output_type": "stream",
     "text": [
      "Processing URLs:   1%|      | 239/29446 [26:53<53:02:44,  6.54s/it]"
     ]
    },
    {
     "name": "stdout",
     "output_type": "stream",
     "text": [
      "Error fetching URL: https://www.agoda.com/partners/partnersearch.aspx?hid=165689 - Message: no such element: Unable to locate element: {\"method\":\"css selector\",\"selector\":\"a[data-element-name='property-card-content']\"}\n",
      "  (Session info: chrome=130.0.6723.117); For documentation on this error, please visit: https://www.selenium.dev/documentation/webdriver/troubleshooting/errors#no-such-element-exception\n",
      "Stacktrace:\n",
      "\tGetHandleVerifier [0x00007FF6FD4338A5+3004357]\n",
      "\t(No symbol) [0x00007FF6FD0C9970]\n",
      "\t(No symbol) [0x00007FF6FCF7582A]\n",
      "\t(No symbol) [0x00007FF6FCFC5B8E]\n",
      "\t(No symbol) [0x00007FF6FCFC5E7C]\n",
      "\t(No symbol) [0x00007FF6FD00EC27]\n",
      "\t(No symbol) [0x00007FF6FCFEBC1F]\n",
      "\t(No symbol) [0x00007FF6FD00BA4C]\n",
      "\t(No symbol) [0x00007FF6FCFEB983]\n",
      "\t(No symbol) [0x00007FF6FCFB7628]\n",
      "\t(No symbol) [0x00007FF6FCFB8791]\n",
      "\tGetHandleVerifier [0x00007FF6FD45A00D+3161901]\n",
      "\tGetHandleVerifier [0x00007FF6FD4AE060+3506048]\n",
      "\tGetHandleVerifier [0x00007FF6FD4A400D+3465005]\n",
      "\tGetHandleVerifier [0x00007FF6FD220EEB+830987]\n",
      "\t(No symbol) [0x00007FF6FD0D467F]\n",
      "\t(No symbol) [0x00007FF6FD0D09D4]\n",
      "\t(No symbol) [0x00007FF6FD0D0B6D]\n",
      "\t(No symbol) [0x00007FF6FD0C0149]\n",
      "\tBaseThreadInitThunk [0x00007FFB7AAA7374+20]\n",
      "\tRtlUserThreadStart [0x00007FFB7C37CC91+33]\n",
      "\n"
     ]
    },
    {
     "name": "stderr",
     "output_type": "stream",
     "text": [
      "Processing URLs:   1%|      | 240/29446 [27:00<53:11:18,  6.56s/it]"
     ]
    },
    {
     "name": "stdout",
     "output_type": "stream",
     "text": [
      "Error fetching URL: https://www.agoda.com/partners/partnersearch.aspx?hid=165709 - Message: no such element: Unable to locate element: {\"method\":\"css selector\",\"selector\":\"a[data-element-name='property-card-content']\"}\n",
      "  (Session info: chrome=130.0.6723.117); For documentation on this error, please visit: https://www.selenium.dev/documentation/webdriver/troubleshooting/errors#no-such-element-exception\n",
      "Stacktrace:\n",
      "\tGetHandleVerifier [0x00007FF6FD4338A5+3004357]\n",
      "\t(No symbol) [0x00007FF6FD0C9970]\n",
      "\t(No symbol) [0x00007FF6FCF7582A]\n",
      "\t(No symbol) [0x00007FF6FCFC5B8E]\n",
      "\t(No symbol) [0x00007FF6FCFC5E7C]\n",
      "\t(No symbol) [0x00007FF6FD00EC27]\n",
      "\t(No symbol) [0x00007FF6FCFEBC1F]\n",
      "\t(No symbol) [0x00007FF6FD00BA4C]\n",
      "\t(No symbol) [0x00007FF6FCFEB983]\n",
      "\t(No symbol) [0x00007FF6FCFB7628]\n",
      "\t(No symbol) [0x00007FF6FCFB8791]\n",
      "\tGetHandleVerifier [0x00007FF6FD45A00D+3161901]\n",
      "\tGetHandleVerifier [0x00007FF6FD4AE060+3506048]\n",
      "\tGetHandleVerifier [0x00007FF6FD4A400D+3465005]\n",
      "\tGetHandleVerifier [0x00007FF6FD220EEB+830987]\n",
      "\t(No symbol) [0x00007FF6FD0D467F]\n",
      "\t(No symbol) [0x00007FF6FD0D09D4]\n",
      "\t(No symbol) [0x00007FF6FD0D0B6D]\n",
      "\t(No symbol) [0x00007FF6FD0C0149]\n",
      "\tBaseThreadInitThunk [0x00007FFB7AAA7374+20]\n",
      "\tRtlUserThreadStart [0x00007FFB7C37CC91+33]\n",
      "\n"
     ]
    },
    {
     "name": "stderr",
     "output_type": "stream",
     "text": [
      "Processing URLs:   1%|      | 241/29446 [27:06<52:37:17,  6.49s/it]"
     ]
    },
    {
     "name": "stdout",
     "output_type": "stream",
     "text": [
      "Error fetching URL: https://www.agoda.com/partners/partnersearch.aspx?hid=167455 - Message: no such element: Unable to locate element: {\"method\":\"css selector\",\"selector\":\"a[data-element-name='property-card-content']\"}\n",
      "  (Session info: chrome=130.0.6723.117); For documentation on this error, please visit: https://www.selenium.dev/documentation/webdriver/troubleshooting/errors#no-such-element-exception\n",
      "Stacktrace:\n",
      "\tGetHandleVerifier [0x00007FF6FD4338A5+3004357]\n",
      "\t(No symbol) [0x00007FF6FD0C9970]\n",
      "\t(No symbol) [0x00007FF6FCF7582A]\n",
      "\t(No symbol) [0x00007FF6FCFC5B8E]\n",
      "\t(No symbol) [0x00007FF6FCFC5E7C]\n",
      "\t(No symbol) [0x00007FF6FD00EC27]\n",
      "\t(No symbol) [0x00007FF6FCFEBC1F]\n",
      "\t(No symbol) [0x00007FF6FD00BA4C]\n",
      "\t(No symbol) [0x00007FF6FCFEB983]\n",
      "\t(No symbol) [0x00007FF6FCFB7628]\n",
      "\t(No symbol) [0x00007FF6FCFB8791]\n",
      "\tGetHandleVerifier [0x00007FF6FD45A00D+3161901]\n",
      "\tGetHandleVerifier [0x00007FF6FD4AE060+3506048]\n",
      "\tGetHandleVerifier [0x00007FF6FD4A400D+3465005]\n",
      "\tGetHandleVerifier [0x00007FF6FD220EEB+830987]\n",
      "\t(No symbol) [0x00007FF6FD0D467F]\n",
      "\t(No symbol) [0x00007FF6FD0D09D4]\n",
      "\t(No symbol) [0x00007FF6FD0D0B6D]\n",
      "\t(No symbol) [0x00007FF6FD0C0149]\n",
      "\tBaseThreadInitThunk [0x00007FFB7AAA7374+20]\n",
      "\tRtlUserThreadStart [0x00007FFB7C37CC91+33]\n",
      "\n"
     ]
    },
    {
     "name": "stderr",
     "output_type": "stream",
     "text": [
      "Processing URLs:   1%|      | 242/29446 [27:13<52:56:08,  6.53s/it]"
     ]
    },
    {
     "name": "stdout",
     "output_type": "stream",
     "text": [
      "Error fetching URL: https://www.agoda.com/partners/partnersearch.aspx?hid=167463 - Message: no such element: Unable to locate element: {\"method\":\"css selector\",\"selector\":\"a[data-element-name='property-card-content']\"}\n",
      "  (Session info: chrome=130.0.6723.117); For documentation on this error, please visit: https://www.selenium.dev/documentation/webdriver/troubleshooting/errors#no-such-element-exception\n",
      "Stacktrace:\n",
      "\tGetHandleVerifier [0x00007FF6FD4338A5+3004357]\n",
      "\t(No symbol) [0x00007FF6FD0C9970]\n",
      "\t(No symbol) [0x00007FF6FCF7582A]\n",
      "\t(No symbol) [0x00007FF6FCFC5B8E]\n",
      "\t(No symbol) [0x00007FF6FCFC5E7C]\n",
      "\t(No symbol) [0x00007FF6FD00EC27]\n",
      "\t(No symbol) [0x00007FF6FCFEBC1F]\n",
      "\t(No symbol) [0x00007FF6FD00BA4C]\n",
      "\t(No symbol) [0x00007FF6FCFEB983]\n",
      "\t(No symbol) [0x00007FF6FCFB7628]\n",
      "\t(No symbol) [0x00007FF6FCFB8791]\n",
      "\tGetHandleVerifier [0x00007FF6FD45A00D+3161901]\n",
      "\tGetHandleVerifier [0x00007FF6FD4AE060+3506048]\n",
      "\tGetHandleVerifier [0x00007FF6FD4A400D+3465005]\n",
      "\tGetHandleVerifier [0x00007FF6FD220EEB+830987]\n",
      "\t(No symbol) [0x00007FF6FD0D467F]\n",
      "\t(No symbol) [0x00007FF6FD0D09D4]\n",
      "\t(No symbol) [0x00007FF6FD0D0B6D]\n",
      "\t(No symbol) [0x00007FF6FD0C0149]\n",
      "\tBaseThreadInitThunk [0x00007FFB7AAA7374+20]\n",
      "\tRtlUserThreadStart [0x00007FFB7C37CC91+33]\n",
      "\n"
     ]
    },
    {
     "name": "stderr",
     "output_type": "stream",
     "text": [
      "Processing URLs:   1%|      | 243/29446 [27:19<53:17:41,  6.57s/it]"
     ]
    },
    {
     "name": "stdout",
     "output_type": "stream",
     "text": [
      "Error fetching URL: https://www.agoda.com/partners/partnersearch.aspx?hid=168927 - Message: no such element: Unable to locate element: {\"method\":\"css selector\",\"selector\":\"a[data-element-name='property-card-content']\"}\n",
      "  (Session info: chrome=130.0.6723.117); For documentation on this error, please visit: https://www.selenium.dev/documentation/webdriver/troubleshooting/errors#no-such-element-exception\n",
      "Stacktrace:\n",
      "\tGetHandleVerifier [0x00007FF6FD4338A5+3004357]\n",
      "\t(No symbol) [0x00007FF6FD0C9970]\n",
      "\t(No symbol) [0x00007FF6FCF7582A]\n",
      "\t(No symbol) [0x00007FF6FCFC5B8E]\n",
      "\t(No symbol) [0x00007FF6FCFC5E7C]\n",
      "\t(No symbol) [0x00007FF6FD00EC27]\n",
      "\t(No symbol) [0x00007FF6FCFEBC1F]\n",
      "\t(No symbol) [0x00007FF6FD00BA4C]\n",
      "\t(No symbol) [0x00007FF6FCFEB983]\n",
      "\t(No symbol) [0x00007FF6FCFB7628]\n",
      "\t(No symbol) [0x00007FF6FCFB8791]\n",
      "\tGetHandleVerifier [0x00007FF6FD45A00D+3161901]\n",
      "\tGetHandleVerifier [0x00007FF6FD4AE060+3506048]\n",
      "\tGetHandleVerifier [0x00007FF6FD4A400D+3465005]\n",
      "\tGetHandleVerifier [0x00007FF6FD220EEB+830987]\n",
      "\t(No symbol) [0x00007FF6FD0D467F]\n",
      "\t(No symbol) [0x00007FF6FD0D09D4]\n",
      "\t(No symbol) [0x00007FF6FD0D0B6D]\n",
      "\t(No symbol) [0x00007FF6FD0C0149]\n",
      "\tBaseThreadInitThunk [0x00007FFB7AAA7374+20]\n",
      "\tRtlUserThreadStart [0x00007FFB7C37CC91+33]\n",
      "\n"
     ]
    },
    {
     "name": "stderr",
     "output_type": "stream",
     "text": [
      "Processing URLs:   1%|      | 245/29446 [27:32<52:32:22,  6.48s/it]"
     ]
    },
    {
     "name": "stdout",
     "output_type": "stream",
     "text": [
      "Error fetching URL: https://www.agoda.com/partners/partnersearch.aspx?hid=168950 - Message: no such element: Unable to locate element: {\"method\":\"css selector\",\"selector\":\"a[data-element-name='property-card-content']\"}\n",
      "  (Session info: chrome=130.0.6723.117); For documentation on this error, please visit: https://www.selenium.dev/documentation/webdriver/troubleshooting/errors#no-such-element-exception\n",
      "Stacktrace:\n",
      "\tGetHandleVerifier [0x00007FF6FD4338A5+3004357]\n",
      "\t(No symbol) [0x00007FF6FD0C9970]\n",
      "\t(No symbol) [0x00007FF6FCF7582A]\n",
      "\t(No symbol) [0x00007FF6FCFC5B8E]\n",
      "\t(No symbol) [0x00007FF6FCFC5E7C]\n",
      "\t(No symbol) [0x00007FF6FD00EC27]\n",
      "\t(No symbol) [0x00007FF6FCFEBC1F]\n",
      "\t(No symbol) [0x00007FF6FD00BA4C]\n",
      "\t(No symbol) [0x00007FF6FCFEB983]\n",
      "\t(No symbol) [0x00007FF6FCFB7628]\n",
      "\t(No symbol) [0x00007FF6FCFB8791]\n",
      "\tGetHandleVerifier [0x00007FF6FD45A00D+3161901]\n",
      "\tGetHandleVerifier [0x00007FF6FD4AE060+3506048]\n",
      "\tGetHandleVerifier [0x00007FF6FD4A400D+3465005]\n",
      "\tGetHandleVerifier [0x00007FF6FD220EEB+830987]\n",
      "\t(No symbol) [0x00007FF6FD0D467F]\n",
      "\t(No symbol) [0x00007FF6FD0D09D4]\n",
      "\t(No symbol) [0x00007FF6FD0D0B6D]\n",
      "\t(No symbol) [0x00007FF6FD0C0149]\n",
      "\tBaseThreadInitThunk [0x00007FFB7AAA7374+20]\n",
      "\tRtlUserThreadStart [0x00007FFB7C37CC91+33]\n",
      "\n"
     ]
    },
    {
     "name": "stderr",
     "output_type": "stream",
     "text": [
      "Processing URLs:   1%|      | 246/29446 [27:39<52:18:16,  6.45s/it]"
     ]
    },
    {
     "name": "stdout",
     "output_type": "stream",
     "text": [
      "Error fetching URL: https://www.agoda.com/partners/partnersearch.aspx?hid=168979 - Message: no such element: Unable to locate element: {\"method\":\"css selector\",\"selector\":\"a[data-element-name='property-card-content']\"}\n",
      "  (Session info: chrome=130.0.6723.117); For documentation on this error, please visit: https://www.selenium.dev/documentation/webdriver/troubleshooting/errors#no-such-element-exception\n",
      "Stacktrace:\n",
      "\tGetHandleVerifier [0x00007FF6FD4338A5+3004357]\n",
      "\t(No symbol) [0x00007FF6FD0C9970]\n",
      "\t(No symbol) [0x00007FF6FCF7582A]\n",
      "\t(No symbol) [0x00007FF6FCFC5B8E]\n",
      "\t(No symbol) [0x00007FF6FCFC5E7C]\n",
      "\t(No symbol) [0x00007FF6FD00EC27]\n",
      "\t(No symbol) [0x00007FF6FCFEBC1F]\n",
      "\t(No symbol) [0x00007FF6FD00BA4C]\n",
      "\t(No symbol) [0x00007FF6FCFEB983]\n",
      "\t(No symbol) [0x00007FF6FCFB7628]\n",
      "\t(No symbol) [0x00007FF6FCFB8791]\n",
      "\tGetHandleVerifier [0x00007FF6FD45A00D+3161901]\n",
      "\tGetHandleVerifier [0x00007FF6FD4AE060+3506048]\n",
      "\tGetHandleVerifier [0x00007FF6FD4A400D+3465005]\n",
      "\tGetHandleVerifier [0x00007FF6FD220EEB+830987]\n",
      "\t(No symbol) [0x00007FF6FD0D467F]\n",
      "\t(No symbol) [0x00007FF6FD0D09D4]\n",
      "\t(No symbol) [0x00007FF6FD0D0B6D]\n",
      "\t(No symbol) [0x00007FF6FD0C0149]\n",
      "\tBaseThreadInitThunk [0x00007FFB7AAA7374+20]\n",
      "\tRtlUserThreadStart [0x00007FFB7C37CC91+33]\n",
      "\n"
     ]
    },
    {
     "name": "stderr",
     "output_type": "stream",
     "text": [
      "Processing URLs:   1%|      | 247/29446 [27:46<53:40:41,  6.62s/it]"
     ]
    },
    {
     "name": "stdout",
     "output_type": "stream",
     "text": [
      "Error fetching URL: https://www.agoda.com/partners/partnersearch.aspx?hid=168993 - Message: no such element: Unable to locate element: {\"method\":\"css selector\",\"selector\":\"a[data-element-name='property-card-content']\"}\n",
      "  (Session info: chrome=130.0.6723.117); For documentation on this error, please visit: https://www.selenium.dev/documentation/webdriver/troubleshooting/errors#no-such-element-exception\n",
      "Stacktrace:\n",
      "\tGetHandleVerifier [0x00007FF6FD4338A5+3004357]\n",
      "\t(No symbol) [0x00007FF6FD0C9970]\n",
      "\t(No symbol) [0x00007FF6FCF7582A]\n",
      "\t(No symbol) [0x00007FF6FCFC5B8E]\n",
      "\t(No symbol) [0x00007FF6FCFC5E7C]\n",
      "\t(No symbol) [0x00007FF6FD00EC27]\n",
      "\t(No symbol) [0x00007FF6FCFEBC1F]\n",
      "\t(No symbol) [0x00007FF6FD00BA4C]\n",
      "\t(No symbol) [0x00007FF6FCFEB983]\n",
      "\t(No symbol) [0x00007FF6FCFB7628]\n",
      "\t(No symbol) [0x00007FF6FCFB8791]\n",
      "\tGetHandleVerifier [0x00007FF6FD45A00D+3161901]\n",
      "\tGetHandleVerifier [0x00007FF6FD4AE060+3506048]\n",
      "\tGetHandleVerifier [0x00007FF6FD4A400D+3465005]\n",
      "\tGetHandleVerifier [0x00007FF6FD220EEB+830987]\n",
      "\t(No symbol) [0x00007FF6FD0D467F]\n",
      "\t(No symbol) [0x00007FF6FD0D09D4]\n",
      "\t(No symbol) [0x00007FF6FD0D0B6D]\n",
      "\t(No symbol) [0x00007FF6FD0C0149]\n",
      "\tBaseThreadInitThunk [0x00007FFB7AAA7374+20]\n",
      "\tRtlUserThreadStart [0x00007FFB7C37CC91+33]\n",
      "\n"
     ]
    },
    {
     "name": "stderr",
     "output_type": "stream",
     "text": [
      "Processing URLs:   1%|      | 248/29446 [27:52<53:08:26,  6.55s/it]"
     ]
    },
    {
     "name": "stdout",
     "output_type": "stream",
     "text": [
      "Error fetching URL: https://www.agoda.com/partners/partnersearch.aspx?hid=168995 - Message: no such element: Unable to locate element: {\"method\":\"css selector\",\"selector\":\"a[data-element-name='property-card-content']\"}\n",
      "  (Session info: chrome=130.0.6723.117); For documentation on this error, please visit: https://www.selenium.dev/documentation/webdriver/troubleshooting/errors#no-such-element-exception\n",
      "Stacktrace:\n",
      "\tGetHandleVerifier [0x00007FF6FD4338A5+3004357]\n",
      "\t(No symbol) [0x00007FF6FD0C9970]\n",
      "\t(No symbol) [0x00007FF6FCF7582A]\n",
      "\t(No symbol) [0x00007FF6FCFC5B8E]\n",
      "\t(No symbol) [0x00007FF6FCFC5E7C]\n",
      "\t(No symbol) [0x00007FF6FD00EC27]\n",
      "\t(No symbol) [0x00007FF6FCFEBC1F]\n",
      "\t(No symbol) [0x00007FF6FD00BA4C]\n",
      "\t(No symbol) [0x00007FF6FCFEB983]\n",
      "\t(No symbol) [0x00007FF6FCFB7628]\n",
      "\t(No symbol) [0x00007FF6FCFB8791]\n",
      "\tGetHandleVerifier [0x00007FF6FD45A00D+3161901]\n",
      "\tGetHandleVerifier [0x00007FF6FD4AE060+3506048]\n",
      "\tGetHandleVerifier [0x00007FF6FD4A400D+3465005]\n",
      "\tGetHandleVerifier [0x00007FF6FD220EEB+830987]\n",
      "\t(No symbol) [0x00007FF6FD0D467F]\n",
      "\t(No symbol) [0x00007FF6FD0D09D4]\n",
      "\t(No symbol) [0x00007FF6FD0D0B6D]\n",
      "\t(No symbol) [0x00007FF6FD0C0149]\n",
      "\tBaseThreadInitThunk [0x00007FFB7AAA7374+20]\n",
      "\tRtlUserThreadStart [0x00007FFB7C37CC91+33]\n",
      "\n"
     ]
    },
    {
     "name": "stderr",
     "output_type": "stream",
     "text": [
      "Processing URLs:   1%|      | 250/29446 [28:05<53:57:13,  6.65s/it]"
     ]
    },
    {
     "name": "stdout",
     "output_type": "stream",
     "text": [
      "Error fetching URL: https://www.agoda.com/partners/partnersearch.aspx?hid=169080 - Message: no such element: Unable to locate element: {\"method\":\"css selector\",\"selector\":\"a[data-element-name='property-card-content']\"}\n",
      "  (Session info: chrome=130.0.6723.117); For documentation on this error, please visit: https://www.selenium.dev/documentation/webdriver/troubleshooting/errors#no-such-element-exception\n",
      "Stacktrace:\n",
      "\tGetHandleVerifier [0x00007FF6FD4338A5+3004357]\n",
      "\t(No symbol) [0x00007FF6FD0C9970]\n",
      "\t(No symbol) [0x00007FF6FCF7582A]\n",
      "\t(No symbol) [0x00007FF6FCFC5B8E]\n",
      "\t(No symbol) [0x00007FF6FCFC5E7C]\n",
      "\t(No symbol) [0x00007FF6FD00EC27]\n",
      "\t(No symbol) [0x00007FF6FCFEBC1F]\n",
      "\t(No symbol) [0x00007FF6FD00BA4C]\n",
      "\t(No symbol) [0x00007FF6FCFEB983]\n",
      "\t(No symbol) [0x00007FF6FCFB7628]\n",
      "\t(No symbol) [0x00007FF6FCFB8791]\n",
      "\tGetHandleVerifier [0x00007FF6FD45A00D+3161901]\n",
      "\tGetHandleVerifier [0x00007FF6FD4AE060+3506048]\n",
      "\tGetHandleVerifier [0x00007FF6FD4A400D+3465005]\n",
      "\tGetHandleVerifier [0x00007FF6FD220EEB+830987]\n",
      "\t(No symbol) [0x00007FF6FD0D467F]\n",
      "\t(No symbol) [0x00007FF6FD0D09D4]\n",
      "\t(No symbol) [0x00007FF6FD0D0B6D]\n",
      "\t(No symbol) [0x00007FF6FD0C0149]\n",
      "\tBaseThreadInitThunk [0x00007FFB7AAA7374+20]\n",
      "\tRtlUserThreadStart [0x00007FFB7C37CC91+33]\n",
      "\n"
     ]
    },
    {
     "name": "stderr",
     "output_type": "stream",
     "text": [
      "Processing URLs:   1%|      | 251/29446 [28:12<53:16:57,  6.57s/it]"
     ]
    },
    {
     "name": "stdout",
     "output_type": "stream",
     "text": [
      "Error fetching URL: https://www.agoda.com/partners/partnersearch.aspx?hid=172335 - Message: no such element: Unable to locate element: {\"method\":\"css selector\",\"selector\":\"a[data-element-name='property-card-content']\"}\n",
      "  (Session info: chrome=130.0.6723.117); For documentation on this error, please visit: https://www.selenium.dev/documentation/webdriver/troubleshooting/errors#no-such-element-exception\n",
      "Stacktrace:\n",
      "\tGetHandleVerifier [0x00007FF6FD4338A5+3004357]\n",
      "\t(No symbol) [0x00007FF6FD0C9970]\n",
      "\t(No symbol) [0x00007FF6FCF7582A]\n",
      "\t(No symbol) [0x00007FF6FCFC5B8E]\n",
      "\t(No symbol) [0x00007FF6FCFC5E7C]\n",
      "\t(No symbol) [0x00007FF6FD00EC27]\n",
      "\t(No symbol) [0x00007FF6FCFEBC1F]\n",
      "\t(No symbol) [0x00007FF6FD00BA4C]\n",
      "\t(No symbol) [0x00007FF6FCFEB983]\n",
      "\t(No symbol) [0x00007FF6FCFB7628]\n",
      "\t(No symbol) [0x00007FF6FCFB8791]\n",
      "\tGetHandleVerifier [0x00007FF6FD45A00D+3161901]\n",
      "\tGetHandleVerifier [0x00007FF6FD4AE060+3506048]\n",
      "\tGetHandleVerifier [0x00007FF6FD4A400D+3465005]\n",
      "\tGetHandleVerifier [0x00007FF6FD220EEB+830987]\n",
      "\t(No symbol) [0x00007FF6FD0D467F]\n",
      "\t(No symbol) [0x00007FF6FD0D09D4]\n",
      "\t(No symbol) [0x00007FF6FD0D0B6D]\n",
      "\t(No symbol) [0x00007FF6FD0C0149]\n",
      "\tBaseThreadInitThunk [0x00007FFB7AAA7374+20]\n",
      "\tRtlUserThreadStart [0x00007FFB7C37CC91+33]\n",
      "\n"
     ]
    },
    {
     "name": "stderr",
     "output_type": "stream",
     "text": [
      "Processing URLs:   1%|      | 252/29446 [28:18<52:42:09,  6.50s/it]"
     ]
    },
    {
     "name": "stdout",
     "output_type": "stream",
     "text": [
      "Error fetching URL: https://www.agoda.com/partners/partnersearch.aspx?hid=173590 - Message: no such element: Unable to locate element: {\"method\":\"css selector\",\"selector\":\"a[data-element-name='property-card-content']\"}\n",
      "  (Session info: chrome=130.0.6723.117); For documentation on this error, please visit: https://www.selenium.dev/documentation/webdriver/troubleshooting/errors#no-such-element-exception\n",
      "Stacktrace:\n",
      "\tGetHandleVerifier [0x00007FF6FD4338A5+3004357]\n",
      "\t(No symbol) [0x00007FF6FD0C9970]\n",
      "\t(No symbol) [0x00007FF6FCF7582A]\n",
      "\t(No symbol) [0x00007FF6FCFC5B8E]\n",
      "\t(No symbol) [0x00007FF6FCFC5E7C]\n",
      "\t(No symbol) [0x00007FF6FD00EC27]\n",
      "\t(No symbol) [0x00007FF6FCFEBC1F]\n",
      "\t(No symbol) [0x00007FF6FD00BA4C]\n",
      "\t(No symbol) [0x00007FF6FCFEB983]\n",
      "\t(No symbol) [0x00007FF6FCFB7628]\n",
      "\t(No symbol) [0x00007FF6FCFB8791]\n",
      "\tGetHandleVerifier [0x00007FF6FD45A00D+3161901]\n",
      "\tGetHandleVerifier [0x00007FF6FD4AE060+3506048]\n",
      "\tGetHandleVerifier [0x00007FF6FD4A400D+3465005]\n",
      "\tGetHandleVerifier [0x00007FF6FD220EEB+830987]\n",
      "\t(No symbol) [0x00007FF6FD0D467F]\n",
      "\t(No symbol) [0x00007FF6FD0D09D4]\n",
      "\t(No symbol) [0x00007FF6FD0D0B6D]\n",
      "\t(No symbol) [0x00007FF6FD0C0149]\n",
      "\tBaseThreadInitThunk [0x00007FFB7AAA7374+20]\n",
      "\tRtlUserThreadStart [0x00007FFB7C37CC91+33]\n",
      "\n"
     ]
    },
    {
     "name": "stderr",
     "output_type": "stream",
     "text": [
      "Processing URLs:   1%|      | 253/29446 [28:25<52:55:04,  6.53s/it]"
     ]
    },
    {
     "name": "stdout",
     "output_type": "stream",
     "text": [
      "Error fetching URL: https://www.agoda.com/partners/partnersearch.aspx?hid=173618 - Message: no such element: Unable to locate element: {\"method\":\"css selector\",\"selector\":\"a[data-element-name='property-card-content']\"}\n",
      "  (Session info: chrome=130.0.6723.117); For documentation on this error, please visit: https://www.selenium.dev/documentation/webdriver/troubleshooting/errors#no-such-element-exception\n",
      "Stacktrace:\n",
      "\tGetHandleVerifier [0x00007FF6FD4338A5+3004357]\n",
      "\t(No symbol) [0x00007FF6FD0C9970]\n",
      "\t(No symbol) [0x00007FF6FCF7582A]\n",
      "\t(No symbol) [0x00007FF6FCFC5B8E]\n",
      "\t(No symbol) [0x00007FF6FCFC5E7C]\n",
      "\t(No symbol) [0x00007FF6FD00EC27]\n",
      "\t(No symbol) [0x00007FF6FCFEBC1F]\n",
      "\t(No symbol) [0x00007FF6FD00BA4C]\n",
      "\t(No symbol) [0x00007FF6FCFEB983]\n",
      "\t(No symbol) [0x00007FF6FCFB7628]\n",
      "\t(No symbol) [0x00007FF6FCFB8791]\n",
      "\tGetHandleVerifier [0x00007FF6FD45A00D+3161901]\n",
      "\tGetHandleVerifier [0x00007FF6FD4AE060+3506048]\n",
      "\tGetHandleVerifier [0x00007FF6FD4A400D+3465005]\n",
      "\tGetHandleVerifier [0x00007FF6FD220EEB+830987]\n",
      "\t(No symbol) [0x00007FF6FD0D467F]\n",
      "\t(No symbol) [0x00007FF6FD0D09D4]\n",
      "\t(No symbol) [0x00007FF6FD0D0B6D]\n",
      "\t(No symbol) [0x00007FF6FD0C0149]\n",
      "\tBaseThreadInitThunk [0x00007FFB7AAA7374+20]\n",
      "\tRtlUserThreadStart [0x00007FFB7C37CC91+33]\n",
      "\n"
     ]
    },
    {
     "name": "stderr",
     "output_type": "stream",
     "text": [
      "Processing URLs:   1%|      | 254/29446 [28:31<52:29:48,  6.47s/it]"
     ]
    },
    {
     "name": "stdout",
     "output_type": "stream",
     "text": [
      "Error fetching URL: https://www.agoda.com/partners/partnersearch.aspx?hid=173622 - Message: no such element: Unable to locate element: {\"method\":\"css selector\",\"selector\":\"a[data-element-name='property-card-content']\"}\n",
      "  (Session info: chrome=130.0.6723.117); For documentation on this error, please visit: https://www.selenium.dev/documentation/webdriver/troubleshooting/errors#no-such-element-exception\n",
      "Stacktrace:\n",
      "\tGetHandleVerifier [0x00007FF6FD4338A5+3004357]\n",
      "\t(No symbol) [0x00007FF6FD0C9970]\n",
      "\t(No symbol) [0x00007FF6FCF7582A]\n",
      "\t(No symbol) [0x00007FF6FCFC5B8E]\n",
      "\t(No symbol) [0x00007FF6FCFC5E7C]\n",
      "\t(No symbol) [0x00007FF6FD00EC27]\n",
      "\t(No symbol) [0x00007FF6FCFEBC1F]\n",
      "\t(No symbol) [0x00007FF6FD00BA4C]\n",
      "\t(No symbol) [0x00007FF6FCFEB983]\n",
      "\t(No symbol) [0x00007FF6FCFB7628]\n",
      "\t(No symbol) [0x00007FF6FCFB8791]\n",
      "\tGetHandleVerifier [0x00007FF6FD45A00D+3161901]\n",
      "\tGetHandleVerifier [0x00007FF6FD4AE060+3506048]\n",
      "\tGetHandleVerifier [0x00007FF6FD4A400D+3465005]\n",
      "\tGetHandleVerifier [0x00007FF6FD220EEB+830987]\n",
      "\t(No symbol) [0x00007FF6FD0D467F]\n",
      "\t(No symbol) [0x00007FF6FD0D09D4]\n",
      "\t(No symbol) [0x00007FF6FD0D0B6D]\n",
      "\t(No symbol) [0x00007FF6FD0C0149]\n",
      "\tBaseThreadInitThunk [0x00007FFB7AAA7374+20]\n",
      "\tRtlUserThreadStart [0x00007FFB7C37CC91+33]\n",
      "\n"
     ]
    },
    {
     "name": "stderr",
     "output_type": "stream",
     "text": [
      "Processing URLs:   1%|      | 255/29446 [28:38<52:47:34,  6.51s/it]"
     ]
    },
    {
     "name": "stdout",
     "output_type": "stream",
     "text": [
      "Error fetching URL: https://www.agoda.com/partners/partnersearch.aspx?hid=173625 - Message: no such element: Unable to locate element: {\"method\":\"css selector\",\"selector\":\"a[data-element-name='property-card-content']\"}\n",
      "  (Session info: chrome=130.0.6723.117); For documentation on this error, please visit: https://www.selenium.dev/documentation/webdriver/troubleshooting/errors#no-such-element-exception\n",
      "Stacktrace:\n",
      "\tGetHandleVerifier [0x00007FF6FD4338A5+3004357]\n",
      "\t(No symbol) [0x00007FF6FD0C9970]\n",
      "\t(No symbol) [0x00007FF6FCF7582A]\n",
      "\t(No symbol) [0x00007FF6FCFC5B8E]\n",
      "\t(No symbol) [0x00007FF6FCFC5E7C]\n",
      "\t(No symbol) [0x00007FF6FD00EC27]\n",
      "\t(No symbol) [0x00007FF6FCFEBC1F]\n",
      "\t(No symbol) [0x00007FF6FD00BA4C]\n",
      "\t(No symbol) [0x00007FF6FCFEB983]\n",
      "\t(No symbol) [0x00007FF6FCFB7628]\n",
      "\t(No symbol) [0x00007FF6FCFB8791]\n",
      "\tGetHandleVerifier [0x00007FF6FD45A00D+3161901]\n",
      "\tGetHandleVerifier [0x00007FF6FD4AE060+3506048]\n",
      "\tGetHandleVerifier [0x00007FF6FD4A400D+3465005]\n",
      "\tGetHandleVerifier [0x00007FF6FD220EEB+830987]\n",
      "\t(No symbol) [0x00007FF6FD0D467F]\n",
      "\t(No symbol) [0x00007FF6FD0D09D4]\n",
      "\t(No symbol) [0x00007FF6FD0D0B6D]\n",
      "\t(No symbol) [0x00007FF6FD0C0149]\n",
      "\tBaseThreadInitThunk [0x00007FFB7AAA7374+20]\n",
      "\tRtlUserThreadStart [0x00007FFB7C37CC91+33]\n",
      "\n"
     ]
    },
    {
     "name": "stderr",
     "output_type": "stream",
     "text": [
      "Processing URLs:   1%|      | 256/29446 [28:45<53:44:20,  6.63s/it]"
     ]
    },
    {
     "name": "stdout",
     "output_type": "stream",
     "text": [
      "Error fetching URL: https://www.agoda.com/partners/partnersearch.aspx?hid=173628 - Message: no such element: Unable to locate element: {\"method\":\"css selector\",\"selector\":\"a[data-element-name='property-card-content']\"}\n",
      "  (Session info: chrome=130.0.6723.117); For documentation on this error, please visit: https://www.selenium.dev/documentation/webdriver/troubleshooting/errors#no-such-element-exception\n",
      "Stacktrace:\n",
      "\tGetHandleVerifier [0x00007FF6FD4338A5+3004357]\n",
      "\t(No symbol) [0x00007FF6FD0C9970]\n",
      "\t(No symbol) [0x00007FF6FCF7582A]\n",
      "\t(No symbol) [0x00007FF6FCFC5B8E]\n",
      "\t(No symbol) [0x00007FF6FCFC5E7C]\n",
      "\t(No symbol) [0x00007FF6FD00EC27]\n",
      "\t(No symbol) [0x00007FF6FCFEBC1F]\n",
      "\t(No symbol) [0x00007FF6FD00BA4C]\n",
      "\t(No symbol) [0x00007FF6FCFEB983]\n",
      "\t(No symbol) [0x00007FF6FCFB7628]\n",
      "\t(No symbol) [0x00007FF6FCFB8791]\n",
      "\tGetHandleVerifier [0x00007FF6FD45A00D+3161901]\n",
      "\tGetHandleVerifier [0x00007FF6FD4AE060+3506048]\n",
      "\tGetHandleVerifier [0x00007FF6FD4A400D+3465005]\n",
      "\tGetHandleVerifier [0x00007FF6FD220EEB+830987]\n",
      "\t(No symbol) [0x00007FF6FD0D467F]\n",
      "\t(No symbol) [0x00007FF6FD0D09D4]\n",
      "\t(No symbol) [0x00007FF6FD0D0B6D]\n",
      "\t(No symbol) [0x00007FF6FD0C0149]\n",
      "\tBaseThreadInitThunk [0x00007FFB7AAA7374+20]\n",
      "\tRtlUserThreadStart [0x00007FFB7C37CC91+33]\n",
      "\n"
     ]
    },
    {
     "name": "stderr",
     "output_type": "stream",
     "text": [
      "Processing URLs:   1%|      | 257/29446 [28:51<53:10:36,  6.56s/it]"
     ]
    },
    {
     "name": "stdout",
     "output_type": "stream",
     "text": [
      "Error fetching URL: https://www.agoda.com/partners/partnersearch.aspx?hid=174450 - Message: no such element: Unable to locate element: {\"method\":\"css selector\",\"selector\":\"a[data-element-name='property-card-content']\"}\n",
      "  (Session info: chrome=130.0.6723.117); For documentation on this error, please visit: https://www.selenium.dev/documentation/webdriver/troubleshooting/errors#no-such-element-exception\n",
      "Stacktrace:\n",
      "\tGetHandleVerifier [0x00007FF6FD4338A5+3004357]\n",
      "\t(No symbol) [0x00007FF6FD0C9970]\n",
      "\t(No symbol) [0x00007FF6FCF7582A]\n",
      "\t(No symbol) [0x00007FF6FCFC5B8E]\n",
      "\t(No symbol) [0x00007FF6FCFC5E7C]\n",
      "\t(No symbol) [0x00007FF6FD00EC27]\n",
      "\t(No symbol) [0x00007FF6FCFEBC1F]\n",
      "\t(No symbol) [0x00007FF6FD00BA4C]\n",
      "\t(No symbol) [0x00007FF6FCFEB983]\n",
      "\t(No symbol) [0x00007FF6FCFB7628]\n",
      "\t(No symbol) [0x00007FF6FCFB8791]\n",
      "\tGetHandleVerifier [0x00007FF6FD45A00D+3161901]\n",
      "\tGetHandleVerifier [0x00007FF6FD4AE060+3506048]\n",
      "\tGetHandleVerifier [0x00007FF6FD4A400D+3465005]\n",
      "\tGetHandleVerifier [0x00007FF6FD220EEB+830987]\n",
      "\t(No symbol) [0x00007FF6FD0D467F]\n",
      "\t(No symbol) [0x00007FF6FD0D09D4]\n",
      "\t(No symbol) [0x00007FF6FD0D0B6D]\n",
      "\t(No symbol) [0x00007FF6FD0C0149]\n",
      "\tBaseThreadInitThunk [0x00007FFB7AAA7374+20]\n",
      "\tRtlUserThreadStart [0x00007FFB7C37CC91+33]\n",
      "\n"
     ]
    },
    {
     "name": "stderr",
     "output_type": "stream",
     "text": [
      "Processing URLs:   1%|      | 259/29446 [29:04<53:29:20,  6.60s/it]"
     ]
    },
    {
     "name": "stdout",
     "output_type": "stream",
     "text": [
      "Error fetching URL: https://www.agoda.com/partners/partnersearch.aspx?hid=174466 - Message: no such element: Unable to locate element: {\"method\":\"css selector\",\"selector\":\"a[data-element-name='property-card-content']\"}\n",
      "  (Session info: chrome=130.0.6723.117); For documentation on this error, please visit: https://www.selenium.dev/documentation/webdriver/troubleshooting/errors#no-such-element-exception\n",
      "Stacktrace:\n",
      "\tGetHandleVerifier [0x00007FF6FD4338A5+3004357]\n",
      "\t(No symbol) [0x00007FF6FD0C9970]\n",
      "\t(No symbol) [0x00007FF6FCF7582A]\n",
      "\t(No symbol) [0x00007FF6FCFC5B8E]\n",
      "\t(No symbol) [0x00007FF6FCFC5E7C]\n",
      "\t(No symbol) [0x00007FF6FD00EC27]\n",
      "\t(No symbol) [0x00007FF6FCFEBC1F]\n",
      "\t(No symbol) [0x00007FF6FD00BA4C]\n",
      "\t(No symbol) [0x00007FF6FCFEB983]\n",
      "\t(No symbol) [0x00007FF6FCFB7628]\n",
      "\t(No symbol) [0x00007FF6FCFB8791]\n",
      "\tGetHandleVerifier [0x00007FF6FD45A00D+3161901]\n",
      "\tGetHandleVerifier [0x00007FF6FD4AE060+3506048]\n",
      "\tGetHandleVerifier [0x00007FF6FD4A400D+3465005]\n",
      "\tGetHandleVerifier [0x00007FF6FD220EEB+830987]\n",
      "\t(No symbol) [0x00007FF6FD0D467F]\n",
      "\t(No symbol) [0x00007FF6FD0D09D4]\n",
      "\t(No symbol) [0x00007FF6FD0D0B6D]\n",
      "\t(No symbol) [0x00007FF6FD0C0149]\n",
      "\tBaseThreadInitThunk [0x00007FFB7AAA7374+20]\n",
      "\tRtlUserThreadStart [0x00007FFB7C37CC91+33]\n",
      "\n"
     ]
    },
    {
     "name": "stderr",
     "output_type": "stream",
     "text": [
      "Processing URLs:   1%|      | 260/29446 [29:11<53:19:06,  6.58s/it]"
     ]
    },
    {
     "name": "stdout",
     "output_type": "stream",
     "text": [
      "Error fetching URL: https://www.agoda.com/partners/partnersearch.aspx?hid=178074 - Message: no such element: Unable to locate element: {\"method\":\"css selector\",\"selector\":\"a[data-element-name='property-card-content']\"}\n",
      "  (Session info: chrome=130.0.6723.117); For documentation on this error, please visit: https://www.selenium.dev/documentation/webdriver/troubleshooting/errors#no-such-element-exception\n",
      "Stacktrace:\n",
      "\tGetHandleVerifier [0x00007FF6FD4338A5+3004357]\n",
      "\t(No symbol) [0x00007FF6FD0C9970]\n",
      "\t(No symbol) [0x00007FF6FCF7582A]\n",
      "\t(No symbol) [0x00007FF6FCFC5B8E]\n",
      "\t(No symbol) [0x00007FF6FCFC5E7C]\n",
      "\t(No symbol) [0x00007FF6FD00EC27]\n",
      "\t(No symbol) [0x00007FF6FCFEBC1F]\n",
      "\t(No symbol) [0x00007FF6FD00BA4C]\n",
      "\t(No symbol) [0x00007FF6FCFEB983]\n",
      "\t(No symbol) [0x00007FF6FCFB7628]\n",
      "\t(No symbol) [0x00007FF6FCFB8791]\n",
      "\tGetHandleVerifier [0x00007FF6FD45A00D+3161901]\n",
      "\tGetHandleVerifier [0x00007FF6FD4AE060+3506048]\n",
      "\tGetHandleVerifier [0x00007FF6FD4A400D+3465005]\n",
      "\tGetHandleVerifier [0x00007FF6FD220EEB+830987]\n",
      "\t(No symbol) [0x00007FF6FD0D467F]\n",
      "\t(No symbol) [0x00007FF6FD0D09D4]\n",
      "\t(No symbol) [0x00007FF6FD0D0B6D]\n",
      "\t(No symbol) [0x00007FF6FD0C0149]\n",
      "\tBaseThreadInitThunk [0x00007FFB7AAA7374+20]\n",
      "\tRtlUserThreadStart [0x00007FFB7C37CC91+33]\n",
      "\n"
     ]
    },
    {
     "name": "stderr",
     "output_type": "stream",
     "text": [
      "Processing URLs:   1%|      | 261/29446 [29:17<52:48:48,  6.51s/it]"
     ]
    },
    {
     "name": "stdout",
     "output_type": "stream",
     "text": [
      "Error fetching URL: https://www.agoda.com/partners/partnersearch.aspx?hid=178091 - Message: no such element: Unable to locate element: {\"method\":\"css selector\",\"selector\":\"a[data-element-name='property-card-content']\"}\n",
      "  (Session info: chrome=130.0.6723.117); For documentation on this error, please visit: https://www.selenium.dev/documentation/webdriver/troubleshooting/errors#no-such-element-exception\n",
      "Stacktrace:\n",
      "\tGetHandleVerifier [0x00007FF6FD4338A5+3004357]\n",
      "\t(No symbol) [0x00007FF6FD0C9970]\n",
      "\t(No symbol) [0x00007FF6FCF7582A]\n",
      "\t(No symbol) [0x00007FF6FCFC5B8E]\n",
      "\t(No symbol) [0x00007FF6FCFC5E7C]\n",
      "\t(No symbol) [0x00007FF6FD00EC27]\n",
      "\t(No symbol) [0x00007FF6FCFEBC1F]\n",
      "\t(No symbol) [0x00007FF6FD00BA4C]\n",
      "\t(No symbol) [0x00007FF6FCFEB983]\n",
      "\t(No symbol) [0x00007FF6FCFB7628]\n",
      "\t(No symbol) [0x00007FF6FCFB8791]\n",
      "\tGetHandleVerifier [0x00007FF6FD45A00D+3161901]\n",
      "\tGetHandleVerifier [0x00007FF6FD4AE060+3506048]\n",
      "\tGetHandleVerifier [0x00007FF6FD4A400D+3465005]\n",
      "\tGetHandleVerifier [0x00007FF6FD220EEB+830987]\n",
      "\t(No symbol) [0x00007FF6FD0D467F]\n",
      "\t(No symbol) [0x00007FF6FD0D09D4]\n",
      "\t(No symbol) [0x00007FF6FD0D0B6D]\n",
      "\t(No symbol) [0x00007FF6FD0C0149]\n",
      "\tBaseThreadInitThunk [0x00007FFB7AAA7374+20]\n",
      "\tRtlUserThreadStart [0x00007FFB7C37CC91+33]\n",
      "\n"
     ]
    },
    {
     "name": "stderr",
     "output_type": "stream",
     "text": [
      "Processing URLs:   1%|      | 262/29446 [29:24<52:59:44,  6.54s/it]"
     ]
    },
    {
     "name": "stdout",
     "output_type": "stream",
     "text": [
      "Error fetching URL: https://www.agoda.com/partners/partnersearch.aspx?hid=178099 - Message: no such element: Unable to locate element: {\"method\":\"css selector\",\"selector\":\"a[data-element-name='property-card-content']\"}\n",
      "  (Session info: chrome=130.0.6723.117); For documentation on this error, please visit: https://www.selenium.dev/documentation/webdriver/troubleshooting/errors#no-such-element-exception\n",
      "Stacktrace:\n",
      "\tGetHandleVerifier [0x00007FF6FD4338A5+3004357]\n",
      "\t(No symbol) [0x00007FF6FD0C9970]\n",
      "\t(No symbol) [0x00007FF6FCF7582A]\n",
      "\t(No symbol) [0x00007FF6FCFC5B8E]\n",
      "\t(No symbol) [0x00007FF6FCFC5E7C]\n",
      "\t(No symbol) [0x00007FF6FD00EC27]\n",
      "\t(No symbol) [0x00007FF6FCFEBC1F]\n",
      "\t(No symbol) [0x00007FF6FD00BA4C]\n",
      "\t(No symbol) [0x00007FF6FCFEB983]\n",
      "\t(No symbol) [0x00007FF6FCFB7628]\n",
      "\t(No symbol) [0x00007FF6FCFB8791]\n",
      "\tGetHandleVerifier [0x00007FF6FD45A00D+3161901]\n",
      "\tGetHandleVerifier [0x00007FF6FD4AE060+3506048]\n",
      "\tGetHandleVerifier [0x00007FF6FD4A400D+3465005]\n",
      "\tGetHandleVerifier [0x00007FF6FD220EEB+830987]\n",
      "\t(No symbol) [0x00007FF6FD0D467F]\n",
      "\t(No symbol) [0x00007FF6FD0D09D4]\n",
      "\t(No symbol) [0x00007FF6FD0D0B6D]\n",
      "\t(No symbol) [0x00007FF6FD0C0149]\n",
      "\tBaseThreadInitThunk [0x00007FFB7AAA7374+20]\n",
      "\tRtlUserThreadStart [0x00007FFB7C37CC91+33]\n",
      "\n"
     ]
    },
    {
     "name": "stderr",
     "output_type": "stream",
     "text": [
      "Processing URLs:   1%|      | 263/29446 [29:30<52:26:46,  6.47s/it]"
     ]
    },
    {
     "name": "stdout",
     "output_type": "stream",
     "text": [
      "Error fetching URL: https://www.agoda.com/partners/partnersearch.aspx?hid=178114 - Message: no such element: Unable to locate element: {\"method\":\"css selector\",\"selector\":\"a[data-element-name='property-card-content']\"}\n",
      "  (Session info: chrome=130.0.6723.117); For documentation on this error, please visit: https://www.selenium.dev/documentation/webdriver/troubleshooting/errors#no-such-element-exception\n",
      "Stacktrace:\n",
      "\tGetHandleVerifier [0x00007FF6FD4338A5+3004357]\n",
      "\t(No symbol) [0x00007FF6FD0C9970]\n",
      "\t(No symbol) [0x00007FF6FCF7582A]\n",
      "\t(No symbol) [0x00007FF6FCFC5B8E]\n",
      "\t(No symbol) [0x00007FF6FCFC5E7C]\n",
      "\t(No symbol) [0x00007FF6FD00EC27]\n",
      "\t(No symbol) [0x00007FF6FCFEBC1F]\n",
      "\t(No symbol) [0x00007FF6FD00BA4C]\n",
      "\t(No symbol) [0x00007FF6FCFEB983]\n",
      "\t(No symbol) [0x00007FF6FCFB7628]\n",
      "\t(No symbol) [0x00007FF6FCFB8791]\n",
      "\tGetHandleVerifier [0x00007FF6FD45A00D+3161901]\n",
      "\tGetHandleVerifier [0x00007FF6FD4AE060+3506048]\n",
      "\tGetHandleVerifier [0x00007FF6FD4A400D+3465005]\n",
      "\tGetHandleVerifier [0x00007FF6FD220EEB+830987]\n",
      "\t(No symbol) [0x00007FF6FD0D467F]\n",
      "\t(No symbol) [0x00007FF6FD0D09D4]\n",
      "\t(No symbol) [0x00007FF6FD0D0B6D]\n",
      "\t(No symbol) [0x00007FF6FD0C0149]\n",
      "\tBaseThreadInitThunk [0x00007FFB7AAA7374+20]\n",
      "\tRtlUserThreadStart [0x00007FFB7C37CC91+33]\n",
      "\n"
     ]
    },
    {
     "name": "stderr",
     "output_type": "stream",
     "text": [
      "Processing URLs:   1%|      | 264/29446 [29:37<52:44:31,  6.51s/it]"
     ]
    },
    {
     "name": "stdout",
     "output_type": "stream",
     "text": [
      "Error fetching URL: https://www.agoda.com/partners/partnersearch.aspx?hid=178195 - Message: no such element: Unable to locate element: {\"method\":\"css selector\",\"selector\":\"a[data-element-name='property-card-content']\"}\n",
      "  (Session info: chrome=130.0.6723.117); For documentation on this error, please visit: https://www.selenium.dev/documentation/webdriver/troubleshooting/errors#no-such-element-exception\n",
      "Stacktrace:\n",
      "\tGetHandleVerifier [0x00007FF6FD4338A5+3004357]\n",
      "\t(No symbol) [0x00007FF6FD0C9970]\n",
      "\t(No symbol) [0x00007FF6FCF7582A]\n",
      "\t(No symbol) [0x00007FF6FCFC5B8E]\n",
      "\t(No symbol) [0x00007FF6FCFC5E7C]\n",
      "\t(No symbol) [0x00007FF6FD00EC27]\n",
      "\t(No symbol) [0x00007FF6FCFEBC1F]\n",
      "\t(No symbol) [0x00007FF6FD00BA4C]\n",
      "\t(No symbol) [0x00007FF6FCFEB983]\n",
      "\t(No symbol) [0x00007FF6FCFB7628]\n",
      "\t(No symbol) [0x00007FF6FCFB8791]\n",
      "\tGetHandleVerifier [0x00007FF6FD45A00D+3161901]\n",
      "\tGetHandleVerifier [0x00007FF6FD4AE060+3506048]\n",
      "\tGetHandleVerifier [0x00007FF6FD4A400D+3465005]\n",
      "\tGetHandleVerifier [0x00007FF6FD220EEB+830987]\n",
      "\t(No symbol) [0x00007FF6FD0D467F]\n",
      "\t(No symbol) [0x00007FF6FD0D09D4]\n",
      "\t(No symbol) [0x00007FF6FD0D0B6D]\n",
      "\t(No symbol) [0x00007FF6FD0C0149]\n",
      "\tBaseThreadInitThunk [0x00007FFB7AAA7374+20]\n",
      "\tRtlUserThreadStart [0x00007FFB7C37CC91+33]\n",
      "\n"
     ]
    },
    {
     "name": "stderr",
     "output_type": "stream",
     "text": [
      "Processing URLs:   1%|      | 265/29446 [29:43<52:20:25,  6.46s/it]"
     ]
    },
    {
     "name": "stdout",
     "output_type": "stream",
     "text": [
      "Error fetching URL: https://www.agoda.com/partners/partnersearch.aspx?hid=178218 - Message: no such element: Unable to locate element: {\"method\":\"css selector\",\"selector\":\"a[data-element-name='property-card-content']\"}\n",
      "  (Session info: chrome=130.0.6723.117); For documentation on this error, please visit: https://www.selenium.dev/documentation/webdriver/troubleshooting/errors#no-such-element-exception\n",
      "Stacktrace:\n",
      "\tGetHandleVerifier [0x00007FF6FD4338A5+3004357]\n",
      "\t(No symbol) [0x00007FF6FD0C9970]\n",
      "\t(No symbol) [0x00007FF6FCF7582A]\n",
      "\t(No symbol) [0x00007FF6FCFC5B8E]\n",
      "\t(No symbol) [0x00007FF6FCFC5E7C]\n",
      "\t(No symbol) [0x00007FF6FD00EC27]\n",
      "\t(No symbol) [0x00007FF6FCFEBC1F]\n",
      "\t(No symbol) [0x00007FF6FD00BA4C]\n",
      "\t(No symbol) [0x00007FF6FCFEB983]\n",
      "\t(No symbol) [0x00007FF6FCFB7628]\n",
      "\t(No symbol) [0x00007FF6FCFB8791]\n",
      "\tGetHandleVerifier [0x00007FF6FD45A00D+3161901]\n",
      "\tGetHandleVerifier [0x00007FF6FD4AE060+3506048]\n",
      "\tGetHandleVerifier [0x00007FF6FD4A400D+3465005]\n",
      "\tGetHandleVerifier [0x00007FF6FD220EEB+830987]\n",
      "\t(No symbol) [0x00007FF6FD0D467F]\n",
      "\t(No symbol) [0x00007FF6FD0D09D4]\n",
      "\t(No symbol) [0x00007FF6FD0D0B6D]\n",
      "\t(No symbol) [0x00007FF6FD0C0149]\n",
      "\tBaseThreadInitThunk [0x00007FFB7AAA7374+20]\n",
      "\tRtlUserThreadStart [0x00007FFB7C37CC91+33]\n",
      "\n"
     ]
    },
    {
     "name": "stderr",
     "output_type": "stream",
     "text": [
      "Processing URLs:   1%|      | 267/29446 [29:56<52:28:48,  6.47s/it]"
     ]
    },
    {
     "name": "stdout",
     "output_type": "stream",
     "text": [
      "Error fetching URL: https://www.agoda.com/partners/partnersearch.aspx?hid=178221 - Message: no such element: Unable to locate element: {\"method\":\"css selector\",\"selector\":\"a[data-element-name='property-card-content']\"}\n",
      "  (Session info: chrome=130.0.6723.117); For documentation on this error, please visit: https://www.selenium.dev/documentation/webdriver/troubleshooting/errors#no-such-element-exception\n",
      "Stacktrace:\n",
      "\tGetHandleVerifier [0x00007FF6FD4338A5+3004357]\n",
      "\t(No symbol) [0x00007FF6FD0C9970]\n",
      "\t(No symbol) [0x00007FF6FCF7582A]\n",
      "\t(No symbol) [0x00007FF6FCFC5B8E]\n",
      "\t(No symbol) [0x00007FF6FCFC5E7C]\n",
      "\t(No symbol) [0x00007FF6FD00EC27]\n",
      "\t(No symbol) [0x00007FF6FCFEBC1F]\n",
      "\t(No symbol) [0x00007FF6FD00BA4C]\n",
      "\t(No symbol) [0x00007FF6FCFEB983]\n",
      "\t(No symbol) [0x00007FF6FCFB7628]\n",
      "\t(No symbol) [0x00007FF6FCFB8791]\n",
      "\tGetHandleVerifier [0x00007FF6FD45A00D+3161901]\n",
      "\tGetHandleVerifier [0x00007FF6FD4AE060+3506048]\n",
      "\tGetHandleVerifier [0x00007FF6FD4A400D+3465005]\n",
      "\tGetHandleVerifier [0x00007FF6FD220EEB+830987]\n",
      "\t(No symbol) [0x00007FF6FD0D467F]\n",
      "\t(No symbol) [0x00007FF6FD0D09D4]\n",
      "\t(No symbol) [0x00007FF6FD0D0B6D]\n",
      "\t(No symbol) [0x00007FF6FD0C0149]\n",
      "\tBaseThreadInitThunk [0x00007FFB7AAA7374+20]\n",
      "\tRtlUserThreadStart [0x00007FFB7C37CC91+33]\n",
      "\n"
     ]
    },
    {
     "name": "stderr",
     "output_type": "stream",
     "text": [
      "Processing URLs:   1%|      | 269/29446 [30:09<52:43:00,  6.50s/it]"
     ]
    },
    {
     "name": "stdout",
     "output_type": "stream",
     "text": [
      "Error fetching URL: https://www.agoda.com/partners/partnersearch.aspx?hid=178257 - Message: no such element: Unable to locate element: {\"method\":\"css selector\",\"selector\":\"a[data-element-name='property-card-content']\"}\n",
      "  (Session info: chrome=130.0.6723.117); For documentation on this error, please visit: https://www.selenium.dev/documentation/webdriver/troubleshooting/errors#no-such-element-exception\n",
      "Stacktrace:\n",
      "\tGetHandleVerifier [0x00007FF6FD4338A5+3004357]\n",
      "\t(No symbol) [0x00007FF6FD0C9970]\n",
      "\t(No symbol) [0x00007FF6FCF7582A]\n",
      "\t(No symbol) [0x00007FF6FCFC5B8E]\n",
      "\t(No symbol) [0x00007FF6FCFC5E7C]\n",
      "\t(No symbol) [0x00007FF6FD00EC27]\n",
      "\t(No symbol) [0x00007FF6FCFEBC1F]\n",
      "\t(No symbol) [0x00007FF6FD00BA4C]\n",
      "\t(No symbol) [0x00007FF6FCFEB983]\n",
      "\t(No symbol) [0x00007FF6FCFB7628]\n",
      "\t(No symbol) [0x00007FF6FCFB8791]\n",
      "\tGetHandleVerifier [0x00007FF6FD45A00D+3161901]\n",
      "\tGetHandleVerifier [0x00007FF6FD4AE060+3506048]\n",
      "\tGetHandleVerifier [0x00007FF6FD4A400D+3465005]\n",
      "\tGetHandleVerifier [0x00007FF6FD220EEB+830987]\n",
      "\t(No symbol) [0x00007FF6FD0D467F]\n",
      "\t(No symbol) [0x00007FF6FD0D09D4]\n",
      "\t(No symbol) [0x00007FF6FD0D0B6D]\n",
      "\t(No symbol) [0x00007FF6FD0C0149]\n",
      "\tBaseThreadInitThunk [0x00007FFB7AAA7374+20]\n",
      "\tRtlUserThreadStart [0x00007FFB7C37CC91+33]\n",
      "\n"
     ]
    },
    {
     "name": "stderr",
     "output_type": "stream",
     "text": [
      "Processing URLs:   1%|      | 270/29446 [30:15<52:26:27,  6.47s/it]"
     ]
    },
    {
     "name": "stdout",
     "output_type": "stream",
     "text": [
      "Error fetching URL: https://www.agoda.com/partners/partnersearch.aspx?hid=178263 - Message: no such element: Unable to locate element: {\"method\":\"css selector\",\"selector\":\"a[data-element-name='property-card-content']\"}\n",
      "  (Session info: chrome=130.0.6723.117); For documentation on this error, please visit: https://www.selenium.dev/documentation/webdriver/troubleshooting/errors#no-such-element-exception\n",
      "Stacktrace:\n",
      "\tGetHandleVerifier [0x00007FF6FD4338A5+3004357]\n",
      "\t(No symbol) [0x00007FF6FD0C9970]\n",
      "\t(No symbol) [0x00007FF6FCF7582A]\n",
      "\t(No symbol) [0x00007FF6FCFC5B8E]\n",
      "\t(No symbol) [0x00007FF6FCFC5E7C]\n",
      "\t(No symbol) [0x00007FF6FD00EC27]\n",
      "\t(No symbol) [0x00007FF6FCFEBC1F]\n",
      "\t(No symbol) [0x00007FF6FD00BA4C]\n",
      "\t(No symbol) [0x00007FF6FCFEB983]\n",
      "\t(No symbol) [0x00007FF6FCFB7628]\n",
      "\t(No symbol) [0x00007FF6FCFB8791]\n",
      "\tGetHandleVerifier [0x00007FF6FD45A00D+3161901]\n",
      "\tGetHandleVerifier [0x00007FF6FD4AE060+3506048]\n",
      "\tGetHandleVerifier [0x00007FF6FD4A400D+3465005]\n",
      "\tGetHandleVerifier [0x00007FF6FD220EEB+830987]\n",
      "\t(No symbol) [0x00007FF6FD0D467F]\n",
      "\t(No symbol) [0x00007FF6FD0D09D4]\n",
      "\t(No symbol) [0x00007FF6FD0D0B6D]\n",
      "\t(No symbol) [0x00007FF6FD0C0149]\n",
      "\tBaseThreadInitThunk [0x00007FFB7AAA7374+20]\n",
      "\tRtlUserThreadStart [0x00007FFB7C37CC91+33]\n",
      "\n"
     ]
    },
    {
     "name": "stderr",
     "output_type": "stream",
     "text": [
      "Processing URLs:   1%|      | 271/29446 [30:22<52:00:48,  6.42s/it]"
     ]
    },
    {
     "name": "stdout",
     "output_type": "stream",
     "text": [
      "Error fetching URL: https://www.agoda.com/partners/partnersearch.aspx?hid=178283 - Message: no such element: Unable to locate element: {\"method\":\"css selector\",\"selector\":\"a[data-element-name='property-card-content']\"}\n",
      "  (Session info: chrome=130.0.6723.117); For documentation on this error, please visit: https://www.selenium.dev/documentation/webdriver/troubleshooting/errors#no-such-element-exception\n",
      "Stacktrace:\n",
      "\tGetHandleVerifier [0x00007FF6FD4338A5+3004357]\n",
      "\t(No symbol) [0x00007FF6FD0C9970]\n",
      "\t(No symbol) [0x00007FF6FCF7582A]\n",
      "\t(No symbol) [0x00007FF6FCFC5B8E]\n",
      "\t(No symbol) [0x00007FF6FCFC5E7C]\n",
      "\t(No symbol) [0x00007FF6FD00EC27]\n",
      "\t(No symbol) [0x00007FF6FCFEBC1F]\n",
      "\t(No symbol) [0x00007FF6FD00BA4C]\n",
      "\t(No symbol) [0x00007FF6FCFEB983]\n",
      "\t(No symbol) [0x00007FF6FCFB7628]\n",
      "\t(No symbol) [0x00007FF6FCFB8791]\n",
      "\tGetHandleVerifier [0x00007FF6FD45A00D+3161901]\n",
      "\tGetHandleVerifier [0x00007FF6FD4AE060+3506048]\n",
      "\tGetHandleVerifier [0x00007FF6FD4A400D+3465005]\n",
      "\tGetHandleVerifier [0x00007FF6FD220EEB+830987]\n",
      "\t(No symbol) [0x00007FF6FD0D467F]\n",
      "\t(No symbol) [0x00007FF6FD0D09D4]\n",
      "\t(No symbol) [0x00007FF6FD0D0B6D]\n",
      "\t(No symbol) [0x00007FF6FD0C0149]\n",
      "\tBaseThreadInitThunk [0x00007FFB7AAA7374+20]\n",
      "\tRtlUserThreadStart [0x00007FFB7C37CC91+33]\n",
      "\n"
     ]
    },
    {
     "name": "stderr",
     "output_type": "stream",
     "text": [
      "Processing URLs:   1%|      | 273/29446 [30:35<51:54:54,  6.41s/it]"
     ]
    },
    {
     "name": "stdout",
     "output_type": "stream",
     "text": [
      "Error fetching URL: https://www.agoda.com/partners/partnersearch.aspx?hid=179077 - Message: no such element: Unable to locate element: {\"method\":\"css selector\",\"selector\":\"a[data-element-name='property-card-content']\"}\n",
      "  (Session info: chrome=130.0.6723.117); For documentation on this error, please visit: https://www.selenium.dev/documentation/webdriver/troubleshooting/errors#no-such-element-exception\n",
      "Stacktrace:\n",
      "\tGetHandleVerifier [0x00007FF6FD4338A5+3004357]\n",
      "\t(No symbol) [0x00007FF6FD0C9970]\n",
      "\t(No symbol) [0x00007FF6FCF7582A]\n",
      "\t(No symbol) [0x00007FF6FCFC5B8E]\n",
      "\t(No symbol) [0x00007FF6FCFC5E7C]\n",
      "\t(No symbol) [0x00007FF6FD00EC27]\n",
      "\t(No symbol) [0x00007FF6FCFEBC1F]\n",
      "\t(No symbol) [0x00007FF6FD00BA4C]\n",
      "\t(No symbol) [0x00007FF6FCFEB983]\n",
      "\t(No symbol) [0x00007FF6FCFB7628]\n",
      "\t(No symbol) [0x00007FF6FCFB8791]\n",
      "\tGetHandleVerifier [0x00007FF6FD45A00D+3161901]\n",
      "\tGetHandleVerifier [0x00007FF6FD4AE060+3506048]\n",
      "\tGetHandleVerifier [0x00007FF6FD4A400D+3465005]\n",
      "\tGetHandleVerifier [0x00007FF6FD220EEB+830987]\n",
      "\t(No symbol) [0x00007FF6FD0D467F]\n",
      "\t(No symbol) [0x00007FF6FD0D09D4]\n",
      "\t(No symbol) [0x00007FF6FD0D0B6D]\n",
      "\t(No symbol) [0x00007FF6FD0C0149]\n",
      "\tBaseThreadInitThunk [0x00007FFB7AAA7374+20]\n",
      "\tRtlUserThreadStart [0x00007FFB7C37CC91+33]\n",
      "\n"
     ]
    },
    {
     "name": "stderr",
     "output_type": "stream",
     "text": [
      "Processing URLs:   1%|      | 274/29446 [30:41<52:19:36,  6.46s/it]"
     ]
    },
    {
     "name": "stdout",
     "output_type": "stream",
     "text": [
      "Error fetching URL: https://www.agoda.com/partners/partnersearch.aspx?hid=179080 - Message: no such element: Unable to locate element: {\"method\":\"css selector\",\"selector\":\"a[data-element-name='property-card-content']\"}\n",
      "  (Session info: chrome=130.0.6723.117); For documentation on this error, please visit: https://www.selenium.dev/documentation/webdriver/troubleshooting/errors#no-such-element-exception\n",
      "Stacktrace:\n",
      "\tGetHandleVerifier [0x00007FF6FD4338A5+3004357]\n",
      "\t(No symbol) [0x00007FF6FD0C9970]\n",
      "\t(No symbol) [0x00007FF6FCF7582A]\n",
      "\t(No symbol) [0x00007FF6FCFC5B8E]\n",
      "\t(No symbol) [0x00007FF6FCFC5E7C]\n",
      "\t(No symbol) [0x00007FF6FD00EC27]\n",
      "\t(No symbol) [0x00007FF6FCFEBC1F]\n",
      "\t(No symbol) [0x00007FF6FD00BA4C]\n",
      "\t(No symbol) [0x00007FF6FCFEB983]\n",
      "\t(No symbol) [0x00007FF6FCFB7628]\n",
      "\t(No symbol) [0x00007FF6FCFB8791]\n",
      "\tGetHandleVerifier [0x00007FF6FD45A00D+3161901]\n",
      "\tGetHandleVerifier [0x00007FF6FD4AE060+3506048]\n",
      "\tGetHandleVerifier [0x00007FF6FD4A400D+3465005]\n",
      "\tGetHandleVerifier [0x00007FF6FD220EEB+830987]\n",
      "\t(No symbol) [0x00007FF6FD0D467F]\n",
      "\t(No symbol) [0x00007FF6FD0D09D4]\n",
      "\t(No symbol) [0x00007FF6FD0D0B6D]\n",
      "\t(No symbol) [0x00007FF6FD0C0149]\n",
      "\tBaseThreadInitThunk [0x00007FFB7AAA7374+20]\n",
      "\tRtlUserThreadStart [0x00007FFB7C37CC91+33]\n",
      "\n"
     ]
    },
    {
     "name": "stderr",
     "output_type": "stream",
     "text": [
      "Processing URLs:   1%|      | 276/29446 [30:54<52:23:35,  6.47s/it]"
     ]
    },
    {
     "name": "stdout",
     "output_type": "stream",
     "text": [
      "Error fetching URL: https://www.agoda.com/partners/partnersearch.aspx?hid=181769 - Message: no such element: Unable to locate element: {\"method\":\"css selector\",\"selector\":\"a[data-element-name='property-card-content']\"}\n",
      "  (Session info: chrome=130.0.6723.117); For documentation on this error, please visit: https://www.selenium.dev/documentation/webdriver/troubleshooting/errors#no-such-element-exception\n",
      "Stacktrace:\n",
      "\tGetHandleVerifier [0x00007FF6FD4338A5+3004357]\n",
      "\t(No symbol) [0x00007FF6FD0C9970]\n",
      "\t(No symbol) [0x00007FF6FCF7582A]\n",
      "\t(No symbol) [0x00007FF6FCFC5B8E]\n",
      "\t(No symbol) [0x00007FF6FCFC5E7C]\n",
      "\t(No symbol) [0x00007FF6FD00EC27]\n",
      "\t(No symbol) [0x00007FF6FCFEBC1F]\n",
      "\t(No symbol) [0x00007FF6FD00BA4C]\n",
      "\t(No symbol) [0x00007FF6FCFEB983]\n",
      "\t(No symbol) [0x00007FF6FCFB7628]\n",
      "\t(No symbol) [0x00007FF6FCFB8791]\n",
      "\tGetHandleVerifier [0x00007FF6FD45A00D+3161901]\n",
      "\tGetHandleVerifier [0x00007FF6FD4AE060+3506048]\n",
      "\tGetHandleVerifier [0x00007FF6FD4A400D+3465005]\n",
      "\tGetHandleVerifier [0x00007FF6FD220EEB+830987]\n",
      "\t(No symbol) [0x00007FF6FD0D467F]\n",
      "\t(No symbol) [0x00007FF6FD0D09D4]\n",
      "\t(No symbol) [0x00007FF6FD0D0B6D]\n",
      "\t(No symbol) [0x00007FF6FD0C0149]\n",
      "\tBaseThreadInitThunk [0x00007FFB7AAA7374+20]\n",
      "\tRtlUserThreadStart [0x00007FFB7C37CC91+33]\n",
      "\n"
     ]
    },
    {
     "name": "stderr",
     "output_type": "stream",
     "text": [
      "Processing URLs:   1%|      | 278/29446 [31:07<52:57:16,  6.54s/it]"
     ]
    },
    {
     "name": "stdout",
     "output_type": "stream",
     "text": [
      "Error fetching URL: https://www.agoda.com/partners/partnersearch.aspx?hid=181788 - Message: no such element: Unable to locate element: {\"method\":\"css selector\",\"selector\":\"a[data-element-name='property-card-content']\"}\n",
      "  (Session info: chrome=130.0.6723.117); For documentation on this error, please visit: https://www.selenium.dev/documentation/webdriver/troubleshooting/errors#no-such-element-exception\n",
      "Stacktrace:\n",
      "\tGetHandleVerifier [0x00007FF6FD4338A5+3004357]\n",
      "\t(No symbol) [0x00007FF6FD0C9970]\n",
      "\t(No symbol) [0x00007FF6FCF7582A]\n",
      "\t(No symbol) [0x00007FF6FCFC5B8E]\n",
      "\t(No symbol) [0x00007FF6FCFC5E7C]\n",
      "\t(No symbol) [0x00007FF6FD00EC27]\n",
      "\t(No symbol) [0x00007FF6FCFEBC1F]\n",
      "\t(No symbol) [0x00007FF6FD00BA4C]\n",
      "\t(No symbol) [0x00007FF6FCFEB983]\n",
      "\t(No symbol) [0x00007FF6FCFB7628]\n",
      "\t(No symbol) [0x00007FF6FCFB8791]\n",
      "\tGetHandleVerifier [0x00007FF6FD45A00D+3161901]\n",
      "\tGetHandleVerifier [0x00007FF6FD4AE060+3506048]\n",
      "\tGetHandleVerifier [0x00007FF6FD4A400D+3465005]\n",
      "\tGetHandleVerifier [0x00007FF6FD220EEB+830987]\n",
      "\t(No symbol) [0x00007FF6FD0D467F]\n",
      "\t(No symbol) [0x00007FF6FD0D09D4]\n",
      "\t(No symbol) [0x00007FF6FD0D0B6D]\n",
      "\t(No symbol) [0x00007FF6FD0C0149]\n",
      "\tBaseThreadInitThunk [0x00007FFB7AAA7374+20]\n",
      "\tRtlUserThreadStart [0x00007FFB7C37CC91+33]\n",
      "\n"
     ]
    },
    {
     "name": "stderr",
     "output_type": "stream",
     "text": [
      "Processing URLs:   1%|      | 279/29446 [31:14<52:33:11,  6.49s/it]"
     ]
    },
    {
     "name": "stdout",
     "output_type": "stream",
     "text": [
      "Error fetching URL: https://www.agoda.com/partners/partnersearch.aspx?hid=181813 - Message: no such element: Unable to locate element: {\"method\":\"css selector\",\"selector\":\"a[data-element-name='property-card-content']\"}\n",
      "  (Session info: chrome=130.0.6723.117); For documentation on this error, please visit: https://www.selenium.dev/documentation/webdriver/troubleshooting/errors#no-such-element-exception\n",
      "Stacktrace:\n",
      "\tGetHandleVerifier [0x00007FF6FD4338A5+3004357]\n",
      "\t(No symbol) [0x00007FF6FD0C9970]\n",
      "\t(No symbol) [0x00007FF6FCF7582A]\n",
      "\t(No symbol) [0x00007FF6FCFC5B8E]\n",
      "\t(No symbol) [0x00007FF6FCFC5E7C]\n",
      "\t(No symbol) [0x00007FF6FD00EC27]\n",
      "\t(No symbol) [0x00007FF6FCFEBC1F]\n",
      "\t(No symbol) [0x00007FF6FD00BA4C]\n",
      "\t(No symbol) [0x00007FF6FCFEB983]\n",
      "\t(No symbol) [0x00007FF6FCFB7628]\n",
      "\t(No symbol) [0x00007FF6FCFB8791]\n",
      "\tGetHandleVerifier [0x00007FF6FD45A00D+3161901]\n",
      "\tGetHandleVerifier [0x00007FF6FD4AE060+3506048]\n",
      "\tGetHandleVerifier [0x00007FF6FD4A400D+3465005]\n",
      "\tGetHandleVerifier [0x00007FF6FD220EEB+830987]\n",
      "\t(No symbol) [0x00007FF6FD0D467F]\n",
      "\t(No symbol) [0x00007FF6FD0D09D4]\n",
      "\t(No symbol) [0x00007FF6FD0D0B6D]\n",
      "\t(No symbol) [0x00007FF6FD0C0149]\n",
      "\tBaseThreadInitThunk [0x00007FFB7AAA7374+20]\n",
      "\tRtlUserThreadStart [0x00007FFB7C37CC91+33]\n",
      "\n"
     ]
    },
    {
     "name": "stderr",
     "output_type": "stream",
     "text": [
      "Processing URLs:   1%|      | 281/29446 [31:27<53:27:47,  6.60s/it]"
     ]
    },
    {
     "name": "stdout",
     "output_type": "stream",
     "text": [
      "Error fetching URL: https://www.agoda.com/partners/partnersearch.aspx?hid=182145 - Message: no such element: Unable to locate element: {\"method\":\"css selector\",\"selector\":\"a[data-element-name='property-card-content']\"}\n",
      "  (Session info: chrome=130.0.6723.117); For documentation on this error, please visit: https://www.selenium.dev/documentation/webdriver/troubleshooting/errors#no-such-element-exception\n",
      "Stacktrace:\n",
      "\tGetHandleVerifier [0x00007FF6FD4338A5+3004357]\n",
      "\t(No symbol) [0x00007FF6FD0C9970]\n",
      "\t(No symbol) [0x00007FF6FCF7582A]\n",
      "\t(No symbol) [0x00007FF6FCFC5B8E]\n",
      "\t(No symbol) [0x00007FF6FCFC5E7C]\n",
      "\t(No symbol) [0x00007FF6FD00EC27]\n",
      "\t(No symbol) [0x00007FF6FCFEBC1F]\n",
      "\t(No symbol) [0x00007FF6FD00BA4C]\n",
      "\t(No symbol) [0x00007FF6FCFEB983]\n",
      "\t(No symbol) [0x00007FF6FCFB7628]\n",
      "\t(No symbol) [0x00007FF6FCFB8791]\n",
      "\tGetHandleVerifier [0x00007FF6FD45A00D+3161901]\n",
      "\tGetHandleVerifier [0x00007FF6FD4AE060+3506048]\n",
      "\tGetHandleVerifier [0x00007FF6FD4A400D+3465005]\n",
      "\tGetHandleVerifier [0x00007FF6FD220EEB+830987]\n",
      "\t(No symbol) [0x00007FF6FD0D467F]\n",
      "\t(No symbol) [0x00007FF6FD0D09D4]\n",
      "\t(No symbol) [0x00007FF6FD0D0B6D]\n",
      "\t(No symbol) [0x00007FF6FD0C0149]\n",
      "\tBaseThreadInitThunk [0x00007FFB7AAA7374+20]\n",
      "\tRtlUserThreadStart [0x00007FFB7C37CC91+33]\n",
      "\n"
     ]
    },
    {
     "name": "stderr",
     "output_type": "stream",
     "text": [
      "Processing URLs:   1%|      | 282/29446 [31:33<52:55:38,  6.53s/it]"
     ]
    },
    {
     "name": "stdout",
     "output_type": "stream",
     "text": [
      "Error fetching URL: https://www.agoda.com/partners/partnersearch.aspx?hid=182160 - Message: no such element: Unable to locate element: {\"method\":\"css selector\",\"selector\":\"a[data-element-name='property-card-content']\"}\n",
      "  (Session info: chrome=130.0.6723.117); For documentation on this error, please visit: https://www.selenium.dev/documentation/webdriver/troubleshooting/errors#no-such-element-exception\n",
      "Stacktrace:\n",
      "\tGetHandleVerifier [0x00007FF6FD4338A5+3004357]\n",
      "\t(No symbol) [0x00007FF6FD0C9970]\n",
      "\t(No symbol) [0x00007FF6FCF7582A]\n",
      "\t(No symbol) [0x00007FF6FCFC5B8E]\n",
      "\t(No symbol) [0x00007FF6FCFC5E7C]\n",
      "\t(No symbol) [0x00007FF6FD00EC27]\n",
      "\t(No symbol) [0x00007FF6FCFEBC1F]\n",
      "\t(No symbol) [0x00007FF6FD00BA4C]\n",
      "\t(No symbol) [0x00007FF6FCFEB983]\n",
      "\t(No symbol) [0x00007FF6FCFB7628]\n",
      "\t(No symbol) [0x00007FF6FCFB8791]\n",
      "\tGetHandleVerifier [0x00007FF6FD45A00D+3161901]\n",
      "\tGetHandleVerifier [0x00007FF6FD4AE060+3506048]\n",
      "\tGetHandleVerifier [0x00007FF6FD4A400D+3465005]\n",
      "\tGetHandleVerifier [0x00007FF6FD220EEB+830987]\n",
      "\t(No symbol) [0x00007FF6FD0D467F]\n",
      "\t(No symbol) [0x00007FF6FD0D09D4]\n",
      "\t(No symbol) [0x00007FF6FD0D0B6D]\n",
      "\t(No symbol) [0x00007FF6FD0C0149]\n",
      "\tBaseThreadInitThunk [0x00007FFB7AAA7374+20]\n",
      "\tRtlUserThreadStart [0x00007FFB7C37CC91+33]\n",
      "\n"
     ]
    },
    {
     "name": "stderr",
     "output_type": "stream",
     "text": [
      "Processing URLs:   1%|      | 283/29446 [31:40<52:24:10,  6.47s/it]"
     ]
    },
    {
     "name": "stdout",
     "output_type": "stream",
     "text": [
      "Error fetching URL: https://www.agoda.com/partners/partnersearch.aspx?hid=182164 - Message: no such element: Unable to locate element: {\"method\":\"css selector\",\"selector\":\"a[data-element-name='property-card-content']\"}\n",
      "  (Session info: chrome=130.0.6723.117); For documentation on this error, please visit: https://www.selenium.dev/documentation/webdriver/troubleshooting/errors#no-such-element-exception\n",
      "Stacktrace:\n",
      "\tGetHandleVerifier [0x00007FF6FD4338A5+3004357]\n",
      "\t(No symbol) [0x00007FF6FD0C9970]\n",
      "\t(No symbol) [0x00007FF6FCF7582A]\n",
      "\t(No symbol) [0x00007FF6FCFC5B8E]\n",
      "\t(No symbol) [0x00007FF6FCFC5E7C]\n",
      "\t(No symbol) [0x00007FF6FD00EC27]\n",
      "\t(No symbol) [0x00007FF6FCFEBC1F]\n",
      "\t(No symbol) [0x00007FF6FD00BA4C]\n",
      "\t(No symbol) [0x00007FF6FCFEB983]\n",
      "\t(No symbol) [0x00007FF6FCFB7628]\n",
      "\t(No symbol) [0x00007FF6FCFB8791]\n",
      "\tGetHandleVerifier [0x00007FF6FD45A00D+3161901]\n",
      "\tGetHandleVerifier [0x00007FF6FD4AE060+3506048]\n",
      "\tGetHandleVerifier [0x00007FF6FD4A400D+3465005]\n",
      "\tGetHandleVerifier [0x00007FF6FD220EEB+830987]\n",
      "\t(No symbol) [0x00007FF6FD0D467F]\n",
      "\t(No symbol) [0x00007FF6FD0D09D4]\n",
      "\t(No symbol) [0x00007FF6FD0D0B6D]\n",
      "\t(No symbol) [0x00007FF6FD0C0149]\n",
      "\tBaseThreadInitThunk [0x00007FFB7AAA7374+20]\n",
      "\tRtlUserThreadStart [0x00007FFB7C37CC91+33]\n",
      "\n"
     ]
    },
    {
     "name": "stderr",
     "output_type": "stream",
     "text": [
      "Processing URLs:   1%|      | 284/29446 [31:46<52:48:14,  6.52s/it]"
     ]
    },
    {
     "name": "stdout",
     "output_type": "stream",
     "text": [
      "Error fetching URL: https://www.agoda.com/partners/partnersearch.aspx?hid=182167 - Message: no such element: Unable to locate element: {\"method\":\"css selector\",\"selector\":\"a[data-element-name='property-card-content']\"}\n",
      "  (Session info: chrome=130.0.6723.117); For documentation on this error, please visit: https://www.selenium.dev/documentation/webdriver/troubleshooting/errors#no-such-element-exception\n",
      "Stacktrace:\n",
      "\tGetHandleVerifier [0x00007FF6FD4338A5+3004357]\n",
      "\t(No symbol) [0x00007FF6FD0C9970]\n",
      "\t(No symbol) [0x00007FF6FCF7582A]\n",
      "\t(No symbol) [0x00007FF6FCFC5B8E]\n",
      "\t(No symbol) [0x00007FF6FCFC5E7C]\n",
      "\t(No symbol) [0x00007FF6FD00EC27]\n",
      "\t(No symbol) [0x00007FF6FCFEBC1F]\n",
      "\t(No symbol) [0x00007FF6FD00BA4C]\n",
      "\t(No symbol) [0x00007FF6FCFEB983]\n",
      "\t(No symbol) [0x00007FF6FCFB7628]\n",
      "\t(No symbol) [0x00007FF6FCFB8791]\n",
      "\tGetHandleVerifier [0x00007FF6FD45A00D+3161901]\n",
      "\tGetHandleVerifier [0x00007FF6FD4AE060+3506048]\n",
      "\tGetHandleVerifier [0x00007FF6FD4A400D+3465005]\n",
      "\tGetHandleVerifier [0x00007FF6FD220EEB+830987]\n",
      "\t(No symbol) [0x00007FF6FD0D467F]\n",
      "\t(No symbol) [0x00007FF6FD0D09D4]\n",
      "\t(No symbol) [0x00007FF6FD0D0B6D]\n",
      "\t(No symbol) [0x00007FF6FD0C0149]\n",
      "\tBaseThreadInitThunk [0x00007FFB7AAA7374+20]\n",
      "\tRtlUserThreadStart [0x00007FFB7C37CC91+33]\n",
      "\n"
     ]
    },
    {
     "name": "stderr",
     "output_type": "stream",
     "text": [
      "Processing URLs:   1%|      | 290/29446 [32:26<53:29:22,  6.60s/it]"
     ]
    },
    {
     "name": "stdout",
     "output_type": "stream",
     "text": [
      "Error fetching URL: https://www.agoda.com/partners/partnersearch.aspx?hid=185937 - Message: no such element: Unable to locate element: {\"method\":\"css selector\",\"selector\":\"a[data-element-name='property-card-content']\"}\n",
      "  (Session info: chrome=130.0.6723.117); For documentation on this error, please visit: https://www.selenium.dev/documentation/webdriver/troubleshooting/errors#no-such-element-exception\n",
      "Stacktrace:\n",
      "\tGetHandleVerifier [0x00007FF6FD4338A5+3004357]\n",
      "\t(No symbol) [0x00007FF6FD0C9970]\n",
      "\t(No symbol) [0x00007FF6FCF7582A]\n",
      "\t(No symbol) [0x00007FF6FCFC5B8E]\n",
      "\t(No symbol) [0x00007FF6FCFC5E7C]\n",
      "\t(No symbol) [0x00007FF6FD00EC27]\n",
      "\t(No symbol) [0x00007FF6FCFEBC1F]\n",
      "\t(No symbol) [0x00007FF6FD00BA4C]\n",
      "\t(No symbol) [0x00007FF6FCFEB983]\n",
      "\t(No symbol) [0x00007FF6FCFB7628]\n",
      "\t(No symbol) [0x00007FF6FCFB8791]\n",
      "\tGetHandleVerifier [0x00007FF6FD45A00D+3161901]\n",
      "\tGetHandleVerifier [0x00007FF6FD4AE060+3506048]\n",
      "\tGetHandleVerifier [0x00007FF6FD4A400D+3465005]\n",
      "\tGetHandleVerifier [0x00007FF6FD220EEB+830987]\n",
      "\t(No symbol) [0x00007FF6FD0D467F]\n",
      "\t(No symbol) [0x00007FF6FD0D09D4]\n",
      "\t(No symbol) [0x00007FF6FD0D0B6D]\n",
      "\t(No symbol) [0x00007FF6FD0C0149]\n",
      "\tBaseThreadInitThunk [0x00007FFB7AAA7374+20]\n",
      "\tRtlUserThreadStart [0x00007FFB7C37CC91+33]\n",
      "\n"
     ]
    },
    {
     "name": "stderr",
     "output_type": "stream",
     "text": [
      "Processing URLs:   1%|      | 292/29446 [32:39<52:41:52,  6.51s/it]"
     ]
    },
    {
     "name": "stdout",
     "output_type": "stream",
     "text": [
      "Error fetching URL: https://www.agoda.com/partners/partnersearch.aspx?hid=186186 - Message: no such element: Unable to locate element: {\"method\":\"css selector\",\"selector\":\"a[data-element-name='property-card-content']\"}\n",
      "  (Session info: chrome=130.0.6723.117); For documentation on this error, please visit: https://www.selenium.dev/documentation/webdriver/troubleshooting/errors#no-such-element-exception\n",
      "Stacktrace:\n",
      "\tGetHandleVerifier [0x00007FF6FD4338A5+3004357]\n",
      "\t(No symbol) [0x00007FF6FD0C9970]\n",
      "\t(No symbol) [0x00007FF6FCF7582A]\n",
      "\t(No symbol) [0x00007FF6FCFC5B8E]\n",
      "\t(No symbol) [0x00007FF6FCFC5E7C]\n",
      "\t(No symbol) [0x00007FF6FD00EC27]\n",
      "\t(No symbol) [0x00007FF6FCFEBC1F]\n",
      "\t(No symbol) [0x00007FF6FD00BA4C]\n",
      "\t(No symbol) [0x00007FF6FCFEB983]\n",
      "\t(No symbol) [0x00007FF6FCFB7628]\n",
      "\t(No symbol) [0x00007FF6FCFB8791]\n",
      "\tGetHandleVerifier [0x00007FF6FD45A00D+3161901]\n",
      "\tGetHandleVerifier [0x00007FF6FD4AE060+3506048]\n",
      "\tGetHandleVerifier [0x00007FF6FD4A400D+3465005]\n",
      "\tGetHandleVerifier [0x00007FF6FD220EEB+830987]\n",
      "\t(No symbol) [0x00007FF6FD0D467F]\n",
      "\t(No symbol) [0x00007FF6FD0D09D4]\n",
      "\t(No symbol) [0x00007FF6FD0D0B6D]\n",
      "\t(No symbol) [0x00007FF6FD0C0149]\n",
      "\tBaseThreadInitThunk [0x00007FFB7AAA7374+20]\n",
      "\tRtlUserThreadStart [0x00007FFB7C37CC91+33]\n",
      "\n"
     ]
    },
    {
     "name": "stderr",
     "output_type": "stream",
     "text": [
      "Processing URLs:   1%|      | 293/29446 [32:46<52:55:53,  6.54s/it]"
     ]
    },
    {
     "name": "stdout",
     "output_type": "stream",
     "text": [
      "Error fetching URL: https://www.agoda.com/partners/partnersearch.aspx?hid=186561 - Message: no such element: Unable to locate element: {\"method\":\"css selector\",\"selector\":\"a[data-element-name='property-card-content']\"}\n",
      "  (Session info: chrome=130.0.6723.117); For documentation on this error, please visit: https://www.selenium.dev/documentation/webdriver/troubleshooting/errors#no-such-element-exception\n",
      "Stacktrace:\n",
      "\tGetHandleVerifier [0x00007FF6FD4338A5+3004357]\n",
      "\t(No symbol) [0x00007FF6FD0C9970]\n",
      "\t(No symbol) [0x00007FF6FCF7582A]\n",
      "\t(No symbol) [0x00007FF6FCFC5B8E]\n",
      "\t(No symbol) [0x00007FF6FCFC5E7C]\n",
      "\t(No symbol) [0x00007FF6FD00EC27]\n",
      "\t(No symbol) [0x00007FF6FCFEBC1F]\n",
      "\t(No symbol) [0x00007FF6FD00BA4C]\n",
      "\t(No symbol) [0x00007FF6FCFEB983]\n",
      "\t(No symbol) [0x00007FF6FCFB7628]\n",
      "\t(No symbol) [0x00007FF6FCFB8791]\n",
      "\tGetHandleVerifier [0x00007FF6FD45A00D+3161901]\n",
      "\tGetHandleVerifier [0x00007FF6FD4AE060+3506048]\n",
      "\tGetHandleVerifier [0x00007FF6FD4A400D+3465005]\n",
      "\tGetHandleVerifier [0x00007FF6FD220EEB+830987]\n",
      "\t(No symbol) [0x00007FF6FD0D467F]\n",
      "\t(No symbol) [0x00007FF6FD0D09D4]\n",
      "\t(No symbol) [0x00007FF6FD0D0B6D]\n",
      "\t(No symbol) [0x00007FF6FD0C0149]\n",
      "\tBaseThreadInitThunk [0x00007FFB7AAA7374+20]\n",
      "\tRtlUserThreadStart [0x00007FFB7C37CC91+33]\n",
      "\n"
     ]
    },
    {
     "name": "stderr",
     "output_type": "stream",
     "text": [
      "Processing URLs:   1%|      | 294/29446 [32:52<52:40:32,  6.50s/it]"
     ]
    },
    {
     "name": "stdout",
     "output_type": "stream",
     "text": [
      "Error fetching URL: https://www.agoda.com/partners/partnersearch.aspx?hid=186611 - Message: no such element: Unable to locate element: {\"method\":\"css selector\",\"selector\":\"a[data-element-name='property-card-content']\"}\n",
      "  (Session info: chrome=130.0.6723.117); For documentation on this error, please visit: https://www.selenium.dev/documentation/webdriver/troubleshooting/errors#no-such-element-exception\n",
      "Stacktrace:\n",
      "\tGetHandleVerifier [0x00007FF6FD4338A5+3004357]\n",
      "\t(No symbol) [0x00007FF6FD0C9970]\n",
      "\t(No symbol) [0x00007FF6FCF7582A]\n",
      "\t(No symbol) [0x00007FF6FCFC5B8E]\n",
      "\t(No symbol) [0x00007FF6FCFC5E7C]\n",
      "\t(No symbol) [0x00007FF6FD00EC27]\n",
      "\t(No symbol) [0x00007FF6FCFEBC1F]\n",
      "\t(No symbol) [0x00007FF6FD00BA4C]\n",
      "\t(No symbol) [0x00007FF6FCFEB983]\n",
      "\t(No symbol) [0x00007FF6FCFB7628]\n",
      "\t(No symbol) [0x00007FF6FCFB8791]\n",
      "\tGetHandleVerifier [0x00007FF6FD45A00D+3161901]\n",
      "\tGetHandleVerifier [0x00007FF6FD4AE060+3506048]\n",
      "\tGetHandleVerifier [0x00007FF6FD4A400D+3465005]\n",
      "\tGetHandleVerifier [0x00007FF6FD220EEB+830987]\n",
      "\t(No symbol) [0x00007FF6FD0D467F]\n",
      "\t(No symbol) [0x00007FF6FD0D09D4]\n",
      "\t(No symbol) [0x00007FF6FD0D0B6D]\n",
      "\t(No symbol) [0x00007FF6FD0C0149]\n",
      "\tBaseThreadInitThunk [0x00007FFB7AAA7374+20]\n",
      "\tRtlUserThreadStart [0x00007FFB7C37CC91+33]\n",
      "\n"
     ]
    },
    {
     "name": "stderr",
     "output_type": "stream",
     "text": [
      "Processing URLs:   1%|      | 296/29446 [33:05<52:34:50,  6.49s/it]"
     ]
    },
    {
     "name": "stdout",
     "output_type": "stream",
     "text": [
      "Error fetching URL: https://www.agoda.com/partners/partnersearch.aspx?hid=186700 - Message: no such element: Unable to locate element: {\"method\":\"css selector\",\"selector\":\"a[data-element-name='property-card-content']\"}\n",
      "  (Session info: chrome=130.0.6723.117); For documentation on this error, please visit: https://www.selenium.dev/documentation/webdriver/troubleshooting/errors#no-such-element-exception\n",
      "Stacktrace:\n",
      "\tGetHandleVerifier [0x00007FF6FD4338A5+3004357]\n",
      "\t(No symbol) [0x00007FF6FD0C9970]\n",
      "\t(No symbol) [0x00007FF6FCF7582A]\n",
      "\t(No symbol) [0x00007FF6FCFC5B8E]\n",
      "\t(No symbol) [0x00007FF6FCFC5E7C]\n",
      "\t(No symbol) [0x00007FF6FD00EC27]\n",
      "\t(No symbol) [0x00007FF6FCFEBC1F]\n",
      "\t(No symbol) [0x00007FF6FD00BA4C]\n",
      "\t(No symbol) [0x00007FF6FCFEB983]\n",
      "\t(No symbol) [0x00007FF6FCFB7628]\n",
      "\t(No symbol) [0x00007FF6FCFB8791]\n",
      "\tGetHandleVerifier [0x00007FF6FD45A00D+3161901]\n",
      "\tGetHandleVerifier [0x00007FF6FD4AE060+3506048]\n",
      "\tGetHandleVerifier [0x00007FF6FD4A400D+3465005]\n",
      "\tGetHandleVerifier [0x00007FF6FD220EEB+830987]\n",
      "\t(No symbol) [0x00007FF6FD0D467F]\n",
      "\t(No symbol) [0x00007FF6FD0D09D4]\n",
      "\t(No symbol) [0x00007FF6FD0D0B6D]\n",
      "\t(No symbol) [0x00007FF6FD0C0149]\n",
      "\tBaseThreadInitThunk [0x00007FFB7AAA7374+20]\n",
      "\tRtlUserThreadStart [0x00007FFB7C37CC91+33]\n",
      "\n"
     ]
    },
    {
     "name": "stderr",
     "output_type": "stream",
     "text": [
      "Processing URLs:   1%|      | 297/29446 [33:12<52:47:52,  6.52s/it]"
     ]
    },
    {
     "name": "stdout",
     "output_type": "stream",
     "text": [
      "Error fetching URL: https://www.agoda.com/partners/partnersearch.aspx?hid=186715 - Message: no such element: Unable to locate element: {\"method\":\"css selector\",\"selector\":\"a[data-element-name='property-card-content']\"}\n",
      "  (Session info: chrome=130.0.6723.117); For documentation on this error, please visit: https://www.selenium.dev/documentation/webdriver/troubleshooting/errors#no-such-element-exception\n",
      "Stacktrace:\n",
      "\tGetHandleVerifier [0x00007FF6FD4338A5+3004357]\n",
      "\t(No symbol) [0x00007FF6FD0C9970]\n",
      "\t(No symbol) [0x00007FF6FCF7582A]\n",
      "\t(No symbol) [0x00007FF6FCFC5B8E]\n",
      "\t(No symbol) [0x00007FF6FCFC5E7C]\n",
      "\t(No symbol) [0x00007FF6FD00EC27]\n",
      "\t(No symbol) [0x00007FF6FCFEBC1F]\n",
      "\t(No symbol) [0x00007FF6FD00BA4C]\n",
      "\t(No symbol) [0x00007FF6FCFEB983]\n",
      "\t(No symbol) [0x00007FF6FCFB7628]\n",
      "\t(No symbol) [0x00007FF6FCFB8791]\n",
      "\tGetHandleVerifier [0x00007FF6FD45A00D+3161901]\n",
      "\tGetHandleVerifier [0x00007FF6FD4AE060+3506048]\n",
      "\tGetHandleVerifier [0x00007FF6FD4A400D+3465005]\n",
      "\tGetHandleVerifier [0x00007FF6FD220EEB+830987]\n",
      "\t(No symbol) [0x00007FF6FD0D467F]\n",
      "\t(No symbol) [0x00007FF6FD0D09D4]\n",
      "\t(No symbol) [0x00007FF6FD0D0B6D]\n",
      "\t(No symbol) [0x00007FF6FD0C0149]\n",
      "\tBaseThreadInitThunk [0x00007FFB7AAA7374+20]\n",
      "\tRtlUserThreadStart [0x00007FFB7C37CC91+33]\n",
      "\n"
     ]
    },
    {
     "name": "stderr",
     "output_type": "stream",
     "text": [
      "Processing URLs:   1%|      | 298/29446 [33:18<52:19:49,  6.46s/it]"
     ]
    },
    {
     "name": "stdout",
     "output_type": "stream",
     "text": [
      "Error fetching URL: https://www.agoda.com/partners/partnersearch.aspx?hid=186731 - Message: no such element: Unable to locate element: {\"method\":\"css selector\",\"selector\":\"a[data-element-name='property-card-content']\"}\n",
      "  (Session info: chrome=130.0.6723.117); For documentation on this error, please visit: https://www.selenium.dev/documentation/webdriver/troubleshooting/errors#no-such-element-exception\n",
      "Stacktrace:\n",
      "\tGetHandleVerifier [0x00007FF6FD4338A5+3004357]\n",
      "\t(No symbol) [0x00007FF6FD0C9970]\n",
      "\t(No symbol) [0x00007FF6FCF7582A]\n",
      "\t(No symbol) [0x00007FF6FCFC5B8E]\n",
      "\t(No symbol) [0x00007FF6FCFC5E7C]\n",
      "\t(No symbol) [0x00007FF6FD00EC27]\n",
      "\t(No symbol) [0x00007FF6FCFEBC1F]\n",
      "\t(No symbol) [0x00007FF6FD00BA4C]\n",
      "\t(No symbol) [0x00007FF6FCFEB983]\n",
      "\t(No symbol) [0x00007FF6FCFB7628]\n",
      "\t(No symbol) [0x00007FF6FCFB8791]\n",
      "\tGetHandleVerifier [0x00007FF6FD45A00D+3161901]\n",
      "\tGetHandleVerifier [0x00007FF6FD4AE060+3506048]\n",
      "\tGetHandleVerifier [0x00007FF6FD4A400D+3465005]\n",
      "\tGetHandleVerifier [0x00007FF6FD220EEB+830987]\n",
      "\t(No symbol) [0x00007FF6FD0D467F]\n",
      "\t(No symbol) [0x00007FF6FD0D09D4]\n",
      "\t(No symbol) [0x00007FF6FD0D0B6D]\n",
      "\t(No symbol) [0x00007FF6FD0C0149]\n",
      "\tBaseThreadInitThunk [0x00007FFB7AAA7374+20]\n",
      "\tRtlUserThreadStart [0x00007FFB7C37CC91+33]\n",
      "\n"
     ]
    },
    {
     "name": "stderr",
     "output_type": "stream",
     "text": [
      "Processing URLs:   1%|      | 300/29446 [33:31<52:40:36,  6.51s/it]"
     ]
    },
    {
     "name": "stdout",
     "output_type": "stream",
     "text": [
      "Error fetching URL: https://www.agoda.com/partners/partnersearch.aspx?hid=186800 - Message: no such element: Unable to locate element: {\"method\":\"css selector\",\"selector\":\"a[data-element-name='property-card-content']\"}\n",
      "  (Session info: chrome=130.0.6723.117); For documentation on this error, please visit: https://www.selenium.dev/documentation/webdriver/troubleshooting/errors#no-such-element-exception\n",
      "Stacktrace:\n",
      "\tGetHandleVerifier [0x00007FF6FD4338A5+3004357]\n",
      "\t(No symbol) [0x00007FF6FD0C9970]\n",
      "\t(No symbol) [0x00007FF6FCF7582A]\n",
      "\t(No symbol) [0x00007FF6FCFC5B8E]\n",
      "\t(No symbol) [0x00007FF6FCFC5E7C]\n",
      "\t(No symbol) [0x00007FF6FD00EC27]\n",
      "\t(No symbol) [0x00007FF6FCFEBC1F]\n",
      "\t(No symbol) [0x00007FF6FD00BA4C]\n",
      "\t(No symbol) [0x00007FF6FCFEB983]\n",
      "\t(No symbol) [0x00007FF6FCFB7628]\n",
      "\t(No symbol) [0x00007FF6FCFB8791]\n",
      "\tGetHandleVerifier [0x00007FF6FD45A00D+3161901]\n",
      "\tGetHandleVerifier [0x00007FF6FD4AE060+3506048]\n",
      "\tGetHandleVerifier [0x00007FF6FD4A400D+3465005]\n",
      "\tGetHandleVerifier [0x00007FF6FD220EEB+830987]\n",
      "\t(No symbol) [0x00007FF6FD0D467F]\n",
      "\t(No symbol) [0x00007FF6FD0D09D4]\n",
      "\t(No symbol) [0x00007FF6FD0D0B6D]\n",
      "\t(No symbol) [0x00007FF6FD0C0149]\n",
      "\tBaseThreadInitThunk [0x00007FFB7AAA7374+20]\n",
      "\tRtlUserThreadStart [0x00007FFB7C37CC91+33]\n",
      "\n"
     ]
    },
    {
     "name": "stderr",
     "output_type": "stream",
     "text": [
      "Processing URLs:   1%|      | 301/29446 [33:38<52:18:25,  6.46s/it]"
     ]
    },
    {
     "name": "stdout",
     "output_type": "stream",
     "text": [
      "Error fetching URL: https://www.agoda.com/partners/partnersearch.aspx?hid=186819 - Message: no such element: Unable to locate element: {\"method\":\"css selector\",\"selector\":\"a[data-element-name='property-card-content']\"}\n",
      "  (Session info: chrome=130.0.6723.117); For documentation on this error, please visit: https://www.selenium.dev/documentation/webdriver/troubleshooting/errors#no-such-element-exception\n",
      "Stacktrace:\n",
      "\tGetHandleVerifier [0x00007FF6FD4338A5+3004357]\n",
      "\t(No symbol) [0x00007FF6FD0C9970]\n",
      "\t(No symbol) [0x00007FF6FCF7582A]\n",
      "\t(No symbol) [0x00007FF6FCFC5B8E]\n",
      "\t(No symbol) [0x00007FF6FCFC5E7C]\n",
      "\t(No symbol) [0x00007FF6FD00EC27]\n",
      "\t(No symbol) [0x00007FF6FCFEBC1F]\n",
      "\t(No symbol) [0x00007FF6FD00BA4C]\n",
      "\t(No symbol) [0x00007FF6FCFEB983]\n",
      "\t(No symbol) [0x00007FF6FCFB7628]\n",
      "\t(No symbol) [0x00007FF6FCFB8791]\n",
      "\tGetHandleVerifier [0x00007FF6FD45A00D+3161901]\n",
      "\tGetHandleVerifier [0x00007FF6FD4AE060+3506048]\n",
      "\tGetHandleVerifier [0x00007FF6FD4A400D+3465005]\n",
      "\tGetHandleVerifier [0x00007FF6FD220EEB+830987]\n",
      "\t(No symbol) [0x00007FF6FD0D467F]\n",
      "\t(No symbol) [0x00007FF6FD0D09D4]\n",
      "\t(No symbol) [0x00007FF6FD0D0B6D]\n",
      "\t(No symbol) [0x00007FF6FD0C0149]\n",
      "\tBaseThreadInitThunk [0x00007FFB7AAA7374+20]\n",
      "\tRtlUserThreadStart [0x00007FFB7C37CC91+33]\n",
      "\n"
     ]
    },
    {
     "name": "stderr",
     "output_type": "stream",
     "text": [
      "Processing URLs:   1%|      | 302/29446 [33:44<52:37:30,  6.50s/it]"
     ]
    },
    {
     "name": "stdout",
     "output_type": "stream",
     "text": [
      "Error fetching URL: https://www.agoda.com/partners/partnersearch.aspx?hid=186820 - Message: no such element: Unable to locate element: {\"method\":\"css selector\",\"selector\":\"a[data-element-name='property-card-content']\"}\n",
      "  (Session info: chrome=130.0.6723.117); For documentation on this error, please visit: https://www.selenium.dev/documentation/webdriver/troubleshooting/errors#no-such-element-exception\n",
      "Stacktrace:\n",
      "\tGetHandleVerifier [0x00007FF6FD4338A5+3004357]\n",
      "\t(No symbol) [0x00007FF6FD0C9970]\n",
      "\t(No symbol) [0x00007FF6FCF7582A]\n",
      "\t(No symbol) [0x00007FF6FCFC5B8E]\n",
      "\t(No symbol) [0x00007FF6FCFC5E7C]\n",
      "\t(No symbol) [0x00007FF6FD00EC27]\n",
      "\t(No symbol) [0x00007FF6FCFEBC1F]\n",
      "\t(No symbol) [0x00007FF6FD00BA4C]\n",
      "\t(No symbol) [0x00007FF6FCFEB983]\n",
      "\t(No symbol) [0x00007FF6FCFB7628]\n",
      "\t(No symbol) [0x00007FF6FCFB8791]\n",
      "\tGetHandleVerifier [0x00007FF6FD45A00D+3161901]\n",
      "\tGetHandleVerifier [0x00007FF6FD4AE060+3506048]\n",
      "\tGetHandleVerifier [0x00007FF6FD4A400D+3465005]\n",
      "\tGetHandleVerifier [0x00007FF6FD220EEB+830987]\n",
      "\t(No symbol) [0x00007FF6FD0D467F]\n",
      "\t(No symbol) [0x00007FF6FD0D09D4]\n",
      "\t(No symbol) [0x00007FF6FD0D0B6D]\n",
      "\t(No symbol) [0x00007FF6FD0C0149]\n",
      "\tBaseThreadInitThunk [0x00007FFB7AAA7374+20]\n",
      "\tRtlUserThreadStart [0x00007FFB7C37CC91+33]\n",
      "\n"
     ]
    },
    {
     "name": "stderr",
     "output_type": "stream",
     "text": [
      "Processing URLs:   1%|      | 303/29446 [33:51<52:41:22,  6.51s/it]"
     ]
    },
    {
     "name": "stdout",
     "output_type": "stream",
     "text": [
      "Error fetching URL: https://www.agoda.com/partners/partnersearch.aspx?hid=186900 - Message: no such element: Unable to locate element: {\"method\":\"css selector\",\"selector\":\"a[data-element-name='property-card-content']\"}\n",
      "  (Session info: chrome=130.0.6723.117); For documentation on this error, please visit: https://www.selenium.dev/documentation/webdriver/troubleshooting/errors#no-such-element-exception\n",
      "Stacktrace:\n",
      "\tGetHandleVerifier [0x00007FF6FD4338A5+3004357]\n",
      "\t(No symbol) [0x00007FF6FD0C9970]\n",
      "\t(No symbol) [0x00007FF6FCF7582A]\n",
      "\t(No symbol) [0x00007FF6FCFC5B8E]\n",
      "\t(No symbol) [0x00007FF6FCFC5E7C]\n",
      "\t(No symbol) [0x00007FF6FD00EC27]\n",
      "\t(No symbol) [0x00007FF6FCFEBC1F]\n",
      "\t(No symbol) [0x00007FF6FD00BA4C]\n",
      "\t(No symbol) [0x00007FF6FCFEB983]\n",
      "\t(No symbol) [0x00007FF6FCFB7628]\n",
      "\t(No symbol) [0x00007FF6FCFB8791]\n",
      "\tGetHandleVerifier [0x00007FF6FD45A00D+3161901]\n",
      "\tGetHandleVerifier [0x00007FF6FD4AE060+3506048]\n",
      "\tGetHandleVerifier [0x00007FF6FD4A400D+3465005]\n",
      "\tGetHandleVerifier [0x00007FF6FD220EEB+830987]\n",
      "\t(No symbol) [0x00007FF6FD0D467F]\n",
      "\t(No symbol) [0x00007FF6FD0D09D4]\n",
      "\t(No symbol) [0x00007FF6FD0D0B6D]\n",
      "\t(No symbol) [0x00007FF6FD0C0149]\n",
      "\tBaseThreadInitThunk [0x00007FFB7AAA7374+20]\n",
      "\tRtlUserThreadStart [0x00007FFB7C37CC91+33]\n",
      "\n"
     ]
    },
    {
     "name": "stderr",
     "output_type": "stream",
     "text": [
      "Processing URLs:   1%|      | 304/29446 [33:57<53:02:13,  6.55s/it]"
     ]
    },
    {
     "name": "stdout",
     "output_type": "stream",
     "text": [
      "Error fetching URL: https://www.agoda.com/partners/partnersearch.aspx?hid=186964 - Message: no such element: Unable to locate element: {\"method\":\"css selector\",\"selector\":\"a[data-element-name='property-card-content']\"}\n",
      "  (Session info: chrome=130.0.6723.117); For documentation on this error, please visit: https://www.selenium.dev/documentation/webdriver/troubleshooting/errors#no-such-element-exception\n",
      "Stacktrace:\n",
      "\tGetHandleVerifier [0x00007FF6FD4338A5+3004357]\n",
      "\t(No symbol) [0x00007FF6FD0C9970]\n",
      "\t(No symbol) [0x00007FF6FCF7582A]\n",
      "\t(No symbol) [0x00007FF6FCFC5B8E]\n",
      "\t(No symbol) [0x00007FF6FCFC5E7C]\n",
      "\t(No symbol) [0x00007FF6FD00EC27]\n",
      "\t(No symbol) [0x00007FF6FCFEBC1F]\n",
      "\t(No symbol) [0x00007FF6FD00BA4C]\n",
      "\t(No symbol) [0x00007FF6FCFEB983]\n",
      "\t(No symbol) [0x00007FF6FCFB7628]\n",
      "\t(No symbol) [0x00007FF6FCFB8791]\n",
      "\tGetHandleVerifier [0x00007FF6FD45A00D+3161901]\n",
      "\tGetHandleVerifier [0x00007FF6FD4AE060+3506048]\n",
      "\tGetHandleVerifier [0x00007FF6FD4A400D+3465005]\n",
      "\tGetHandleVerifier [0x00007FF6FD220EEB+830987]\n",
      "\t(No symbol) [0x00007FF6FD0D467F]\n",
      "\t(No symbol) [0x00007FF6FD0D09D4]\n",
      "\t(No symbol) [0x00007FF6FD0D0B6D]\n",
      "\t(No symbol) [0x00007FF6FD0C0149]\n",
      "\tBaseThreadInitThunk [0x00007FFB7AAA7374+20]\n",
      "\tRtlUserThreadStart [0x00007FFB7C37CC91+33]\n",
      "\n"
     ]
    },
    {
     "name": "stderr",
     "output_type": "stream",
     "text": [
      "Processing URLs:   1%|      | 305/29446 [34:04<52:38:50,  6.50s/it]"
     ]
    },
    {
     "name": "stdout",
     "output_type": "stream",
     "text": [
      "Error fetching URL: https://www.agoda.com/partners/partnersearch.aspx?hid=186991 - Message: no such element: Unable to locate element: {\"method\":\"css selector\",\"selector\":\"a[data-element-name='property-card-content']\"}\n",
      "  (Session info: chrome=130.0.6723.117); For documentation on this error, please visit: https://www.selenium.dev/documentation/webdriver/troubleshooting/errors#no-such-element-exception\n",
      "Stacktrace:\n",
      "\tGetHandleVerifier [0x00007FF6FD4338A5+3004357]\n",
      "\t(No symbol) [0x00007FF6FD0C9970]\n",
      "\t(No symbol) [0x00007FF6FCF7582A]\n",
      "\t(No symbol) [0x00007FF6FCFC5B8E]\n",
      "\t(No symbol) [0x00007FF6FCFC5E7C]\n",
      "\t(No symbol) [0x00007FF6FD00EC27]\n",
      "\t(No symbol) [0x00007FF6FCFEBC1F]\n",
      "\t(No symbol) [0x00007FF6FD00BA4C]\n",
      "\t(No symbol) [0x00007FF6FCFEB983]\n",
      "\t(No symbol) [0x00007FF6FCFB7628]\n",
      "\t(No symbol) [0x00007FF6FCFB8791]\n",
      "\tGetHandleVerifier [0x00007FF6FD45A00D+3161901]\n",
      "\tGetHandleVerifier [0x00007FF6FD4AE060+3506048]\n",
      "\tGetHandleVerifier [0x00007FF6FD4A400D+3465005]\n",
      "\tGetHandleVerifier [0x00007FF6FD220EEB+830987]\n",
      "\t(No symbol) [0x00007FF6FD0D467F]\n",
      "\t(No symbol) [0x00007FF6FD0D09D4]\n",
      "\t(No symbol) [0x00007FF6FD0D0B6D]\n",
      "\t(No symbol) [0x00007FF6FD0C0149]\n",
      "\tBaseThreadInitThunk [0x00007FFB7AAA7374+20]\n",
      "\tRtlUserThreadStart [0x00007FFB7C37CC91+33]\n",
      "\n"
     ]
    },
    {
     "name": "stderr",
     "output_type": "stream",
     "text": [
      "Processing URLs:   1%|      | 306/29446 [34:10<52:10:17,  6.45s/it]"
     ]
    },
    {
     "name": "stdout",
     "output_type": "stream",
     "text": [
      "Error fetching URL: https://www.agoda.com/partners/partnersearch.aspx?hid=187011 - Message: no such element: Unable to locate element: {\"method\":\"css selector\",\"selector\":\"a[data-element-name='property-card-content']\"}\n",
      "  (Session info: chrome=130.0.6723.117); For documentation on this error, please visit: https://www.selenium.dev/documentation/webdriver/troubleshooting/errors#no-such-element-exception\n",
      "Stacktrace:\n",
      "\tGetHandleVerifier [0x00007FF6FD4338A5+3004357]\n",
      "\t(No symbol) [0x00007FF6FD0C9970]\n",
      "\t(No symbol) [0x00007FF6FCF7582A]\n",
      "\t(No symbol) [0x00007FF6FCFC5B8E]\n",
      "\t(No symbol) [0x00007FF6FCFC5E7C]\n",
      "\t(No symbol) [0x00007FF6FD00EC27]\n",
      "\t(No symbol) [0x00007FF6FCFEBC1F]\n",
      "\t(No symbol) [0x00007FF6FD00BA4C]\n",
      "\t(No symbol) [0x00007FF6FCFEB983]\n",
      "\t(No symbol) [0x00007FF6FCFB7628]\n",
      "\t(No symbol) [0x00007FF6FCFB8791]\n",
      "\tGetHandleVerifier [0x00007FF6FD45A00D+3161901]\n",
      "\tGetHandleVerifier [0x00007FF6FD4AE060+3506048]\n",
      "\tGetHandleVerifier [0x00007FF6FD4A400D+3465005]\n",
      "\tGetHandleVerifier [0x00007FF6FD220EEB+830987]\n",
      "\t(No symbol) [0x00007FF6FD0D467F]\n",
      "\t(No symbol) [0x00007FF6FD0D09D4]\n",
      "\t(No symbol) [0x00007FF6FD0D0B6D]\n",
      "\t(No symbol) [0x00007FF6FD0C0149]\n",
      "\tBaseThreadInitThunk [0x00007FFB7AAA7374+20]\n",
      "\tRtlUserThreadStart [0x00007FFB7C37CC91+33]\n",
      "\n"
     ]
    },
    {
     "name": "stderr",
     "output_type": "stream",
     "text": [
      "Processing URLs:   1%|      | 308/29446 [34:23<52:51:51,  6.53s/it]"
     ]
    },
    {
     "name": "stdout",
     "output_type": "stream",
     "text": [
      "Error fetching URL: https://www.agoda.com/partners/partnersearch.aspx?hid=198831 - Message: no such element: Unable to locate element: {\"method\":\"css selector\",\"selector\":\"a[data-element-name='property-card-content']\"}\n",
      "  (Session info: chrome=130.0.6723.117); For documentation on this error, please visit: https://www.selenium.dev/documentation/webdriver/troubleshooting/errors#no-such-element-exception\n",
      "Stacktrace:\n",
      "\tGetHandleVerifier [0x00007FF6FD4338A5+3004357]\n",
      "\t(No symbol) [0x00007FF6FD0C9970]\n",
      "\t(No symbol) [0x00007FF6FCF7582A]\n",
      "\t(No symbol) [0x00007FF6FCFC5B8E]\n",
      "\t(No symbol) [0x00007FF6FCFC5E7C]\n",
      "\t(No symbol) [0x00007FF6FD00EC27]\n",
      "\t(No symbol) [0x00007FF6FCFEBC1F]\n",
      "\t(No symbol) [0x00007FF6FD00BA4C]\n",
      "\t(No symbol) [0x00007FF6FCFEB983]\n",
      "\t(No symbol) [0x00007FF6FCFB7628]\n",
      "\t(No symbol) [0x00007FF6FCFB8791]\n",
      "\tGetHandleVerifier [0x00007FF6FD45A00D+3161901]\n",
      "\tGetHandleVerifier [0x00007FF6FD4AE060+3506048]\n",
      "\tGetHandleVerifier [0x00007FF6FD4A400D+3465005]\n",
      "\tGetHandleVerifier [0x00007FF6FD220EEB+830987]\n",
      "\t(No symbol) [0x00007FF6FD0D467F]\n",
      "\t(No symbol) [0x00007FF6FD0D09D4]\n",
      "\t(No symbol) [0x00007FF6FD0D0B6D]\n",
      "\t(No symbol) [0x00007FF6FD0C0149]\n",
      "\tBaseThreadInitThunk [0x00007FFB7AAA7374+20]\n",
      "\tRtlUserThreadStart [0x00007FFB7C37CC91+33]\n",
      "\n"
     ]
    },
    {
     "name": "stderr",
     "output_type": "stream",
     "text": [
      "Processing URLs:   1%|      | 309/29446 [34:30<52:19:11,  6.46s/it]"
     ]
    },
    {
     "name": "stdout",
     "output_type": "stream",
     "text": [
      "Error fetching URL: https://www.agoda.com/partners/partnersearch.aspx?hid=200539 - Message: no such element: Unable to locate element: {\"method\":\"css selector\",\"selector\":\"a[data-element-name='property-card-content']\"}\n",
      "  (Session info: chrome=130.0.6723.117); For documentation on this error, please visit: https://www.selenium.dev/documentation/webdriver/troubleshooting/errors#no-such-element-exception\n",
      "Stacktrace:\n",
      "\tGetHandleVerifier [0x00007FF6FD4338A5+3004357]\n",
      "\t(No symbol) [0x00007FF6FD0C9970]\n",
      "\t(No symbol) [0x00007FF6FCF7582A]\n",
      "\t(No symbol) [0x00007FF6FCFC5B8E]\n",
      "\t(No symbol) [0x00007FF6FCFC5E7C]\n",
      "\t(No symbol) [0x00007FF6FD00EC27]\n",
      "\t(No symbol) [0x00007FF6FCFEBC1F]\n",
      "\t(No symbol) [0x00007FF6FD00BA4C]\n",
      "\t(No symbol) [0x00007FF6FCFEB983]\n",
      "\t(No symbol) [0x00007FF6FCFB7628]\n",
      "\t(No symbol) [0x00007FF6FCFB8791]\n",
      "\tGetHandleVerifier [0x00007FF6FD45A00D+3161901]\n",
      "\tGetHandleVerifier [0x00007FF6FD4AE060+3506048]\n",
      "\tGetHandleVerifier [0x00007FF6FD4A400D+3465005]\n",
      "\tGetHandleVerifier [0x00007FF6FD220EEB+830987]\n",
      "\t(No symbol) [0x00007FF6FD0D467F]\n",
      "\t(No symbol) [0x00007FF6FD0D09D4]\n",
      "\t(No symbol) [0x00007FF6FD0D0B6D]\n",
      "\t(No symbol) [0x00007FF6FD0C0149]\n",
      "\tBaseThreadInitThunk [0x00007FFB7AAA7374+20]\n",
      "\tRtlUserThreadStart [0x00007FFB7C37CC91+33]\n",
      "\n"
     ]
    },
    {
     "name": "stderr",
     "output_type": "stream",
     "text": [
      "Processing URLs:   1%|      | 310/29446 [34:36<52:46:18,  6.52s/it]"
     ]
    },
    {
     "name": "stdout",
     "output_type": "stream",
     "text": [
      "Error fetching URL: https://www.agoda.com/partners/partnersearch.aspx?hid=200952 - Message: no such element: Unable to locate element: {\"method\":\"css selector\",\"selector\":\"a[data-element-name='property-card-content']\"}\n",
      "  (Session info: chrome=130.0.6723.117); For documentation on this error, please visit: https://www.selenium.dev/documentation/webdriver/troubleshooting/errors#no-such-element-exception\n",
      "Stacktrace:\n",
      "\tGetHandleVerifier [0x00007FF6FD4338A5+3004357]\n",
      "\t(No symbol) [0x00007FF6FD0C9970]\n",
      "\t(No symbol) [0x00007FF6FCF7582A]\n",
      "\t(No symbol) [0x00007FF6FCFC5B8E]\n",
      "\t(No symbol) [0x00007FF6FCFC5E7C]\n",
      "\t(No symbol) [0x00007FF6FD00EC27]\n",
      "\t(No symbol) [0x00007FF6FCFEBC1F]\n",
      "\t(No symbol) [0x00007FF6FD00BA4C]\n",
      "\t(No symbol) [0x00007FF6FCFEB983]\n",
      "\t(No symbol) [0x00007FF6FCFB7628]\n",
      "\t(No symbol) [0x00007FF6FCFB8791]\n",
      "\tGetHandleVerifier [0x00007FF6FD45A00D+3161901]\n",
      "\tGetHandleVerifier [0x00007FF6FD4AE060+3506048]\n",
      "\tGetHandleVerifier [0x00007FF6FD4A400D+3465005]\n",
      "\tGetHandleVerifier [0x00007FF6FD220EEB+830987]\n",
      "\t(No symbol) [0x00007FF6FD0D467F]\n",
      "\t(No symbol) [0x00007FF6FD0D09D4]\n",
      "\t(No symbol) [0x00007FF6FD0D0B6D]\n",
      "\t(No symbol) [0x00007FF6FD0C0149]\n",
      "\tBaseThreadInitThunk [0x00007FFB7AAA7374+20]\n",
      "\tRtlUserThreadStart [0x00007FFB7C37CC91+33]\n",
      "\n"
     ]
    },
    {
     "name": "stderr",
     "output_type": "stream",
     "text": [
      "Processing URLs:   1%|      | 311/29446 [34:43<52:59:56,  6.55s/it]"
     ]
    },
    {
     "name": "stdout",
     "output_type": "stream",
     "text": [
      "Error fetching URL: https://www.agoda.com/partners/partnersearch.aspx?hid=210187 - Message: no such element: Unable to locate element: {\"method\":\"css selector\",\"selector\":\"a[data-element-name='property-card-content']\"}\n",
      "  (Session info: chrome=130.0.6723.117); For documentation on this error, please visit: https://www.selenium.dev/documentation/webdriver/troubleshooting/errors#no-such-element-exception\n",
      "Stacktrace:\n",
      "\tGetHandleVerifier [0x00007FF6FD4338A5+3004357]\n",
      "\t(No symbol) [0x00007FF6FD0C9970]\n",
      "\t(No symbol) [0x00007FF6FCF7582A]\n",
      "\t(No symbol) [0x00007FF6FCFC5B8E]\n",
      "\t(No symbol) [0x00007FF6FCFC5E7C]\n",
      "\t(No symbol) [0x00007FF6FD00EC27]\n",
      "\t(No symbol) [0x00007FF6FCFEBC1F]\n",
      "\t(No symbol) [0x00007FF6FD00BA4C]\n",
      "\t(No symbol) [0x00007FF6FCFEB983]\n",
      "\t(No symbol) [0x00007FF6FCFB7628]\n",
      "\t(No symbol) [0x00007FF6FCFB8791]\n",
      "\tGetHandleVerifier [0x00007FF6FD45A00D+3161901]\n",
      "\tGetHandleVerifier [0x00007FF6FD4AE060+3506048]\n",
      "\tGetHandleVerifier [0x00007FF6FD4A400D+3465005]\n",
      "\tGetHandleVerifier [0x00007FF6FD220EEB+830987]\n",
      "\t(No symbol) [0x00007FF6FD0D467F]\n",
      "\t(No symbol) [0x00007FF6FD0D09D4]\n",
      "\t(No symbol) [0x00007FF6FD0D0B6D]\n",
      "\t(No symbol) [0x00007FF6FD0C0149]\n",
      "\tBaseThreadInitThunk [0x00007FFB7AAA7374+20]\n",
      "\tRtlUserThreadStart [0x00007FFB7C37CC91+33]\n",
      "\n"
     ]
    },
    {
     "name": "stderr",
     "output_type": "stream",
     "text": [
      "Processing URLs:   1%|      | 312/29446 [34:49<52:41:23,  6.51s/it]"
     ]
    },
    {
     "name": "stdout",
     "output_type": "stream",
     "text": [
      "Error fetching URL: https://www.agoda.com/partners/partnersearch.aspx?hid=216205 - Message: no such element: Unable to locate element: {\"method\":\"css selector\",\"selector\":\"a[data-element-name='property-card-content']\"}\n",
      "  (Session info: chrome=130.0.6723.117); For documentation on this error, please visit: https://www.selenium.dev/documentation/webdriver/troubleshooting/errors#no-such-element-exception\n",
      "Stacktrace:\n",
      "\tGetHandleVerifier [0x00007FF6FD4338A5+3004357]\n",
      "\t(No symbol) [0x00007FF6FD0C9970]\n",
      "\t(No symbol) [0x00007FF6FCF7582A]\n",
      "\t(No symbol) [0x00007FF6FCFC5B8E]\n",
      "\t(No symbol) [0x00007FF6FCFC5E7C]\n",
      "\t(No symbol) [0x00007FF6FD00EC27]\n",
      "\t(No symbol) [0x00007FF6FCFEBC1F]\n",
      "\t(No symbol) [0x00007FF6FD00BA4C]\n",
      "\t(No symbol) [0x00007FF6FCFEB983]\n",
      "\t(No symbol) [0x00007FF6FCFB7628]\n",
      "\t(No symbol) [0x00007FF6FCFB8791]\n",
      "\tGetHandleVerifier [0x00007FF6FD45A00D+3161901]\n",
      "\tGetHandleVerifier [0x00007FF6FD4AE060+3506048]\n",
      "\tGetHandleVerifier [0x00007FF6FD4A400D+3465005]\n",
      "\tGetHandleVerifier [0x00007FF6FD220EEB+830987]\n",
      "\t(No symbol) [0x00007FF6FD0D467F]\n",
      "\t(No symbol) [0x00007FF6FD0D09D4]\n",
      "\t(No symbol) [0x00007FF6FD0D0B6D]\n",
      "\t(No symbol) [0x00007FF6FD0C0149]\n",
      "\tBaseThreadInitThunk [0x00007FFB7AAA7374+20]\n",
      "\tRtlUserThreadStart [0x00007FFB7C37CC91+33]\n",
      "\n"
     ]
    },
    {
     "name": "stderr",
     "output_type": "stream",
     "text": [
      "Processing URLs:   1%|      | 313/29446 [34:56<52:19:52,  6.47s/it]"
     ]
    },
    {
     "name": "stdout",
     "output_type": "stream",
     "text": [
      "Error fetching URL: https://www.agoda.com/partners/partnersearch.aspx?hid=216223 - Message: no such element: Unable to locate element: {\"method\":\"css selector\",\"selector\":\"a[data-element-name='property-card-content']\"}\n",
      "  (Session info: chrome=130.0.6723.117); For documentation on this error, please visit: https://www.selenium.dev/documentation/webdriver/troubleshooting/errors#no-such-element-exception\n",
      "Stacktrace:\n",
      "\tGetHandleVerifier [0x00007FF6FD4338A5+3004357]\n",
      "\t(No symbol) [0x00007FF6FD0C9970]\n",
      "\t(No symbol) [0x00007FF6FCF7582A]\n",
      "\t(No symbol) [0x00007FF6FCFC5B8E]\n",
      "\t(No symbol) [0x00007FF6FCFC5E7C]\n",
      "\t(No symbol) [0x00007FF6FD00EC27]\n",
      "\t(No symbol) [0x00007FF6FCFEBC1F]\n",
      "\t(No symbol) [0x00007FF6FD00BA4C]\n",
      "\t(No symbol) [0x00007FF6FCFEB983]\n",
      "\t(No symbol) [0x00007FF6FCFB7628]\n",
      "\t(No symbol) [0x00007FF6FCFB8791]\n",
      "\tGetHandleVerifier [0x00007FF6FD45A00D+3161901]\n",
      "\tGetHandleVerifier [0x00007FF6FD4AE060+3506048]\n",
      "\tGetHandleVerifier [0x00007FF6FD4A400D+3465005]\n",
      "\tGetHandleVerifier [0x00007FF6FD220EEB+830987]\n",
      "\t(No symbol) [0x00007FF6FD0D467F]\n",
      "\t(No symbol) [0x00007FF6FD0D09D4]\n",
      "\t(No symbol) [0x00007FF6FD0D0B6D]\n",
      "\t(No symbol) [0x00007FF6FD0C0149]\n",
      "\tBaseThreadInitThunk [0x00007FFB7AAA7374+20]\n",
      "\tRtlUserThreadStart [0x00007FFB7C37CC91+33]\n",
      "\n"
     ]
    },
    {
     "name": "stderr",
     "output_type": "stream",
     "text": [
      "Processing URLs:   1%|      | 315/29446 [35:08<51:54:03,  6.41s/it]"
     ]
    },
    {
     "name": "stdout",
     "output_type": "stream",
     "text": [
      "Error fetching URL: https://www.agoda.com/partners/partnersearch.aspx?hid=222994 - Message: no such element: Unable to locate element: {\"method\":\"css selector\",\"selector\":\"a[data-element-name='property-card-content']\"}\n",
      "  (Session info: chrome=130.0.6723.117); For documentation on this error, please visit: https://www.selenium.dev/documentation/webdriver/troubleshooting/errors#no-such-element-exception\n",
      "Stacktrace:\n",
      "\tGetHandleVerifier [0x00007FF6FD4338A5+3004357]\n",
      "\t(No symbol) [0x00007FF6FD0C9970]\n",
      "\t(No symbol) [0x00007FF6FCF7582A]\n",
      "\t(No symbol) [0x00007FF6FCFC5B8E]\n",
      "\t(No symbol) [0x00007FF6FCFC5E7C]\n",
      "\t(No symbol) [0x00007FF6FD00EC27]\n",
      "\t(No symbol) [0x00007FF6FCFEBC1F]\n",
      "\t(No symbol) [0x00007FF6FD00BA4C]\n",
      "\t(No symbol) [0x00007FF6FCFEB983]\n",
      "\t(No symbol) [0x00007FF6FCFB7628]\n",
      "\t(No symbol) [0x00007FF6FCFB8791]\n",
      "\tGetHandleVerifier [0x00007FF6FD45A00D+3161901]\n",
      "\tGetHandleVerifier [0x00007FF6FD4AE060+3506048]\n",
      "\tGetHandleVerifier [0x00007FF6FD4A400D+3465005]\n",
      "\tGetHandleVerifier [0x00007FF6FD220EEB+830987]\n",
      "\t(No symbol) [0x00007FF6FD0D467F]\n",
      "\t(No symbol) [0x00007FF6FD0D09D4]\n",
      "\t(No symbol) [0x00007FF6FD0D0B6D]\n",
      "\t(No symbol) [0x00007FF6FD0C0149]\n",
      "\tBaseThreadInitThunk [0x00007FFB7AAA7374+20]\n",
      "\tRtlUserThreadStart [0x00007FFB7C37CC91+33]\n",
      "\n"
     ]
    },
    {
     "name": "stderr",
     "output_type": "stream",
     "text": [
      "Processing URLs:   1%|      | 316/29446 [35:15<51:47:02,  6.40s/it]"
     ]
    },
    {
     "name": "stdout",
     "output_type": "stream",
     "text": [
      "Error fetching URL: https://www.agoda.com/partners/partnersearch.aspx?hid=223197 - Message: no such element: Unable to locate element: {\"method\":\"css selector\",\"selector\":\"a[data-element-name='property-card-content']\"}\n",
      "  (Session info: chrome=130.0.6723.117); For documentation on this error, please visit: https://www.selenium.dev/documentation/webdriver/troubleshooting/errors#no-such-element-exception\n",
      "Stacktrace:\n",
      "\tGetHandleVerifier [0x00007FF6FD4338A5+3004357]\n",
      "\t(No symbol) [0x00007FF6FD0C9970]\n",
      "\t(No symbol) [0x00007FF6FCF7582A]\n",
      "\t(No symbol) [0x00007FF6FCFC5B8E]\n",
      "\t(No symbol) [0x00007FF6FCFC5E7C]\n",
      "\t(No symbol) [0x00007FF6FD00EC27]\n",
      "\t(No symbol) [0x00007FF6FCFEBC1F]\n",
      "\t(No symbol) [0x00007FF6FD00BA4C]\n",
      "\t(No symbol) [0x00007FF6FCFEB983]\n",
      "\t(No symbol) [0x00007FF6FCFB7628]\n",
      "\t(No symbol) [0x00007FF6FCFB8791]\n",
      "\tGetHandleVerifier [0x00007FF6FD45A00D+3161901]\n",
      "\tGetHandleVerifier [0x00007FF6FD4AE060+3506048]\n",
      "\tGetHandleVerifier [0x00007FF6FD4A400D+3465005]\n",
      "\tGetHandleVerifier [0x00007FF6FD220EEB+830987]\n",
      "\t(No symbol) [0x00007FF6FD0D467F]\n",
      "\t(No symbol) [0x00007FF6FD0D09D4]\n",
      "\t(No symbol) [0x00007FF6FD0D0B6D]\n",
      "\t(No symbol) [0x00007FF6FD0C0149]\n",
      "\tBaseThreadInitThunk [0x00007FFB7AAA7374+20]\n",
      "\tRtlUserThreadStart [0x00007FFB7C37CC91+33]\n",
      "\n"
     ]
    },
    {
     "name": "stderr",
     "output_type": "stream",
     "text": [
      "Processing URLs:   1%|      | 317/29446 [35:21<52:24:50,  6.48s/it]"
     ]
    },
    {
     "name": "stdout",
     "output_type": "stream",
     "text": [
      "Error fetching URL: https://www.agoda.com/partners/partnersearch.aspx?hid=223212 - Message: no such element: Unable to locate element: {\"method\":\"css selector\",\"selector\":\"a[data-element-name='property-card-content']\"}\n",
      "  (Session info: chrome=130.0.6723.117); For documentation on this error, please visit: https://www.selenium.dev/documentation/webdriver/troubleshooting/errors#no-such-element-exception\n",
      "Stacktrace:\n",
      "\tGetHandleVerifier [0x00007FF6FD4338A5+3004357]\n",
      "\t(No symbol) [0x00007FF6FD0C9970]\n",
      "\t(No symbol) [0x00007FF6FCF7582A]\n",
      "\t(No symbol) [0x00007FF6FCFC5B8E]\n",
      "\t(No symbol) [0x00007FF6FCFC5E7C]\n",
      "\t(No symbol) [0x00007FF6FD00EC27]\n",
      "\t(No symbol) [0x00007FF6FCFEBC1F]\n",
      "\t(No symbol) [0x00007FF6FD00BA4C]\n",
      "\t(No symbol) [0x00007FF6FCFEB983]\n",
      "\t(No symbol) [0x00007FF6FCFB7628]\n",
      "\t(No symbol) [0x00007FF6FCFB8791]\n",
      "\tGetHandleVerifier [0x00007FF6FD45A00D+3161901]\n",
      "\tGetHandleVerifier [0x00007FF6FD4AE060+3506048]\n",
      "\tGetHandleVerifier [0x00007FF6FD4A400D+3465005]\n",
      "\tGetHandleVerifier [0x00007FF6FD220EEB+830987]\n",
      "\t(No symbol) [0x00007FF6FD0D467F]\n",
      "\t(No symbol) [0x00007FF6FD0D09D4]\n",
      "\t(No symbol) [0x00007FF6FD0D0B6D]\n",
      "\t(No symbol) [0x00007FF6FD0C0149]\n",
      "\tBaseThreadInitThunk [0x00007FFB7AAA7374+20]\n",
      "\tRtlUserThreadStart [0x00007FFB7C37CC91+33]\n",
      "\n"
     ]
    },
    {
     "name": "stderr",
     "output_type": "stream",
     "text": [
      "Processing URLs:   1%|      | 318/29446 [35:28<53:33:21,  6.62s/it]"
     ]
    },
    {
     "name": "stdout",
     "output_type": "stream",
     "text": [
      "Error fetching URL: https://www.agoda.com/partners/partnersearch.aspx?hid=223242 - Message: no such element: Unable to locate element: {\"method\":\"css selector\",\"selector\":\"a[data-element-name='property-card-content']\"}\n",
      "  (Session info: chrome=130.0.6723.117); For documentation on this error, please visit: https://www.selenium.dev/documentation/webdriver/troubleshooting/errors#no-such-element-exception\n",
      "Stacktrace:\n",
      "\tGetHandleVerifier [0x00007FF6FD4338A5+3004357]\n",
      "\t(No symbol) [0x00007FF6FD0C9970]\n",
      "\t(No symbol) [0x00007FF6FCF7582A]\n",
      "\t(No symbol) [0x00007FF6FCFC5B8E]\n",
      "\t(No symbol) [0x00007FF6FCFC5E7C]\n",
      "\t(No symbol) [0x00007FF6FD00EC27]\n",
      "\t(No symbol) [0x00007FF6FCFEBC1F]\n",
      "\t(No symbol) [0x00007FF6FD00BA4C]\n",
      "\t(No symbol) [0x00007FF6FCFEB983]\n",
      "\t(No symbol) [0x00007FF6FCFB7628]\n",
      "\t(No symbol) [0x00007FF6FCFB8791]\n",
      "\tGetHandleVerifier [0x00007FF6FD45A00D+3161901]\n",
      "\tGetHandleVerifier [0x00007FF6FD4AE060+3506048]\n",
      "\tGetHandleVerifier [0x00007FF6FD4A400D+3465005]\n",
      "\tGetHandleVerifier [0x00007FF6FD220EEB+830987]\n",
      "\t(No symbol) [0x00007FF6FD0D467F]\n",
      "\t(No symbol) [0x00007FF6FD0D09D4]\n",
      "\t(No symbol) [0x00007FF6FD0D0B6D]\n",
      "\t(No symbol) [0x00007FF6FD0C0149]\n",
      "\tBaseThreadInitThunk [0x00007FFB7AAA7374+20]\n",
      "\tRtlUserThreadStart [0x00007FFB7C37CC91+33]\n",
      "\n"
     ]
    },
    {
     "name": "stderr",
     "output_type": "stream",
     "text": [
      "Processing URLs:   1%|      | 320/29446 [35:42<53:45:24,  6.64s/it]"
     ]
    },
    {
     "name": "stdout",
     "output_type": "stream",
     "text": [
      "Error fetching URL: https://www.agoda.com/partners/partnersearch.aspx?hid=230121 - Message: no such element: Unable to locate element: {\"method\":\"css selector\",\"selector\":\"a[data-element-name='property-card-content']\"}\n",
      "  (Session info: chrome=130.0.6723.117); For documentation on this error, please visit: https://www.selenium.dev/documentation/webdriver/troubleshooting/errors#no-such-element-exception\n",
      "Stacktrace:\n",
      "\tGetHandleVerifier [0x00007FF6FD4338A5+3004357]\n",
      "\t(No symbol) [0x00007FF6FD0C9970]\n",
      "\t(No symbol) [0x00007FF6FCF7582A]\n",
      "\t(No symbol) [0x00007FF6FCFC5B8E]\n",
      "\t(No symbol) [0x00007FF6FCFC5E7C]\n",
      "\t(No symbol) [0x00007FF6FD00EC27]\n",
      "\t(No symbol) [0x00007FF6FCFEBC1F]\n",
      "\t(No symbol) [0x00007FF6FD00BA4C]\n",
      "\t(No symbol) [0x00007FF6FCFEB983]\n",
      "\t(No symbol) [0x00007FF6FCFB7628]\n",
      "\t(No symbol) [0x00007FF6FCFB8791]\n",
      "\tGetHandleVerifier [0x00007FF6FD45A00D+3161901]\n",
      "\tGetHandleVerifier [0x00007FF6FD4AE060+3506048]\n",
      "\tGetHandleVerifier [0x00007FF6FD4A400D+3465005]\n",
      "\tGetHandleVerifier [0x00007FF6FD220EEB+830987]\n",
      "\t(No symbol) [0x00007FF6FD0D467F]\n",
      "\t(No symbol) [0x00007FF6FD0D09D4]\n",
      "\t(No symbol) [0x00007FF6FD0D0B6D]\n",
      "\t(No symbol) [0x00007FF6FD0C0149]\n",
      "\tBaseThreadInitThunk [0x00007FFB7AAA7374+20]\n",
      "\tRtlUserThreadStart [0x00007FFB7C37CC91+33]\n",
      "\n"
     ]
    },
    {
     "name": "stderr",
     "output_type": "stream",
     "text": [
      "Processing URLs:   1%|      | 322/29446 [35:55<53:42:16,  6.64s/it]"
     ]
    },
    {
     "name": "stdout",
     "output_type": "stream",
     "text": [
      "Error fetching URL: https://www.agoda.com/partners/partnersearch.aspx?hid=230287 - Message: no such element: Unable to locate element: {\"method\":\"css selector\",\"selector\":\"a[data-element-name='property-card-content']\"}\n",
      "  (Session info: chrome=130.0.6723.117); For documentation on this error, please visit: https://www.selenium.dev/documentation/webdriver/troubleshooting/errors#no-such-element-exception\n",
      "Stacktrace:\n",
      "\tGetHandleVerifier [0x00007FF6FD4338A5+3004357]\n",
      "\t(No symbol) [0x00007FF6FD0C9970]\n",
      "\t(No symbol) [0x00007FF6FCF7582A]\n",
      "\t(No symbol) [0x00007FF6FCFC5B8E]\n",
      "\t(No symbol) [0x00007FF6FCFC5E7C]\n",
      "\t(No symbol) [0x00007FF6FD00EC27]\n",
      "\t(No symbol) [0x00007FF6FCFEBC1F]\n",
      "\t(No symbol) [0x00007FF6FD00BA4C]\n",
      "\t(No symbol) [0x00007FF6FCFEB983]\n",
      "\t(No symbol) [0x00007FF6FCFB7628]\n",
      "\t(No symbol) [0x00007FF6FCFB8791]\n",
      "\tGetHandleVerifier [0x00007FF6FD45A00D+3161901]\n",
      "\tGetHandleVerifier [0x00007FF6FD4AE060+3506048]\n",
      "\tGetHandleVerifier [0x00007FF6FD4A400D+3465005]\n",
      "\tGetHandleVerifier [0x00007FF6FD220EEB+830987]\n",
      "\t(No symbol) [0x00007FF6FD0D467F]\n",
      "\t(No symbol) [0x00007FF6FD0D09D4]\n",
      "\t(No symbol) [0x00007FF6FD0D0B6D]\n",
      "\t(No symbol) [0x00007FF6FD0C0149]\n",
      "\tBaseThreadInitThunk [0x00007FFB7AAA7374+20]\n",
      "\tRtlUserThreadStart [0x00007FFB7C37CC91+33]\n",
      "\n"
     ]
    },
    {
     "name": "stderr",
     "output_type": "stream",
     "text": [
      "Processing URLs:   1%|      | 323/29446 [36:01<53:05:07,  6.56s/it]"
     ]
    },
    {
     "name": "stdout",
     "output_type": "stream",
     "text": [
      "Error fetching URL: https://www.agoda.com/partners/partnersearch.aspx?hid=230295 - Message: no such element: Unable to locate element: {\"method\":\"css selector\",\"selector\":\"a[data-element-name='property-card-content']\"}\n",
      "  (Session info: chrome=130.0.6723.117); For documentation on this error, please visit: https://www.selenium.dev/documentation/webdriver/troubleshooting/errors#no-such-element-exception\n",
      "Stacktrace:\n",
      "\tGetHandleVerifier [0x00007FF6FD4338A5+3004357]\n",
      "\t(No symbol) [0x00007FF6FD0C9970]\n",
      "\t(No symbol) [0x00007FF6FCF7582A]\n",
      "\t(No symbol) [0x00007FF6FCFC5B8E]\n",
      "\t(No symbol) [0x00007FF6FCFC5E7C]\n",
      "\t(No symbol) [0x00007FF6FD00EC27]\n",
      "\t(No symbol) [0x00007FF6FCFEBC1F]\n",
      "\t(No symbol) [0x00007FF6FD00BA4C]\n",
      "\t(No symbol) [0x00007FF6FCFEB983]\n",
      "\t(No symbol) [0x00007FF6FCFB7628]\n",
      "\t(No symbol) [0x00007FF6FCFB8791]\n",
      "\tGetHandleVerifier [0x00007FF6FD45A00D+3161901]\n",
      "\tGetHandleVerifier [0x00007FF6FD4AE060+3506048]\n",
      "\tGetHandleVerifier [0x00007FF6FD4A400D+3465005]\n",
      "\tGetHandleVerifier [0x00007FF6FD220EEB+830987]\n",
      "\t(No symbol) [0x00007FF6FD0D467F]\n",
      "\t(No symbol) [0x00007FF6FD0D09D4]\n",
      "\t(No symbol) [0x00007FF6FD0D0B6D]\n",
      "\t(No symbol) [0x00007FF6FD0C0149]\n",
      "\tBaseThreadInitThunk [0x00007FFB7AAA7374+20]\n",
      "\tRtlUserThreadStart [0x00007FFB7C37CC91+33]\n",
      "\n"
     ]
    },
    {
     "name": "stderr",
     "output_type": "stream",
     "text": [
      "Processing URLs:   1%|      | 324/29446 [36:08<53:17:33,  6.59s/it]"
     ]
    },
    {
     "name": "stdout",
     "output_type": "stream",
     "text": [
      "Error fetching URL: https://www.agoda.com/partners/partnersearch.aspx?hid=230301 - Message: no such element: Unable to locate element: {\"method\":\"css selector\",\"selector\":\"a[data-element-name='property-card-content']\"}\n",
      "  (Session info: chrome=130.0.6723.117); For documentation on this error, please visit: https://www.selenium.dev/documentation/webdriver/troubleshooting/errors#no-such-element-exception\n",
      "Stacktrace:\n",
      "\tGetHandleVerifier [0x00007FF6FD4338A5+3004357]\n",
      "\t(No symbol) [0x00007FF6FD0C9970]\n",
      "\t(No symbol) [0x00007FF6FCF7582A]\n",
      "\t(No symbol) [0x00007FF6FCFC5B8E]\n",
      "\t(No symbol) [0x00007FF6FCFC5E7C]\n",
      "\t(No symbol) [0x00007FF6FD00EC27]\n",
      "\t(No symbol) [0x00007FF6FCFEBC1F]\n",
      "\t(No symbol) [0x00007FF6FD00BA4C]\n",
      "\t(No symbol) [0x00007FF6FCFEB983]\n",
      "\t(No symbol) [0x00007FF6FCFB7628]\n",
      "\t(No symbol) [0x00007FF6FCFB8791]\n",
      "\tGetHandleVerifier [0x00007FF6FD45A00D+3161901]\n",
      "\tGetHandleVerifier [0x00007FF6FD4AE060+3506048]\n",
      "\tGetHandleVerifier [0x00007FF6FD4A400D+3465005]\n",
      "\tGetHandleVerifier [0x00007FF6FD220EEB+830987]\n",
      "\t(No symbol) [0x00007FF6FD0D467F]\n",
      "\t(No symbol) [0x00007FF6FD0D09D4]\n",
      "\t(No symbol) [0x00007FF6FD0D0B6D]\n",
      "\t(No symbol) [0x00007FF6FD0C0149]\n",
      "\tBaseThreadInitThunk [0x00007FFB7AAA7374+20]\n",
      "\tRtlUserThreadStart [0x00007FFB7C37CC91+33]\n",
      "\n"
     ]
    },
    {
     "name": "stderr",
     "output_type": "stream",
     "text": [
      "Processing URLs:   1%|      | 326/29446 [36:21<53:27:44,  6.61s/it]"
     ]
    },
    {
     "name": "stdout",
     "output_type": "stream",
     "text": [
      "Error fetching URL: https://www.agoda.com/partners/partnersearch.aspx?hid=230305 - Message: no such element: Unable to locate element: {\"method\":\"css selector\",\"selector\":\"a[data-element-name='property-card-content']\"}\n",
      "  (Session info: chrome=130.0.6723.117); For documentation on this error, please visit: https://www.selenium.dev/documentation/webdriver/troubleshooting/errors#no-such-element-exception\n",
      "Stacktrace:\n",
      "\tGetHandleVerifier [0x00007FF6FD4338A5+3004357]\n",
      "\t(No symbol) [0x00007FF6FD0C9970]\n",
      "\t(No symbol) [0x00007FF6FCF7582A]\n",
      "\t(No symbol) [0x00007FF6FCFC5B8E]\n",
      "\t(No symbol) [0x00007FF6FCFC5E7C]\n",
      "\t(No symbol) [0x00007FF6FD00EC27]\n",
      "\t(No symbol) [0x00007FF6FCFEBC1F]\n",
      "\t(No symbol) [0x00007FF6FD00BA4C]\n",
      "\t(No symbol) [0x00007FF6FCFEB983]\n",
      "\t(No symbol) [0x00007FF6FCFB7628]\n",
      "\t(No symbol) [0x00007FF6FCFB8791]\n",
      "\tGetHandleVerifier [0x00007FF6FD45A00D+3161901]\n",
      "\tGetHandleVerifier [0x00007FF6FD4AE060+3506048]\n",
      "\tGetHandleVerifier [0x00007FF6FD4A400D+3465005]\n",
      "\tGetHandleVerifier [0x00007FF6FD220EEB+830987]\n",
      "\t(No symbol) [0x00007FF6FD0D467F]\n",
      "\t(No symbol) [0x00007FF6FD0D09D4]\n",
      "\t(No symbol) [0x00007FF6FD0D0B6D]\n",
      "\t(No symbol) [0x00007FF6FD0C0149]\n",
      "\tBaseThreadInitThunk [0x00007FFB7AAA7374+20]\n",
      "\tRtlUserThreadStart [0x00007FFB7C37CC91+33]\n",
      "\n"
     ]
    },
    {
     "name": "stderr",
     "output_type": "stream",
     "text": [
      "Processing URLs:   1%|      | 327/29446 [36:27<52:46:55,  6.53s/it]"
     ]
    },
    {
     "name": "stdout",
     "output_type": "stream",
     "text": [
      "Error fetching URL: https://www.agoda.com/partners/partnersearch.aspx?hid=230306 - Message: no such element: Unable to locate element: {\"method\":\"css selector\",\"selector\":\"a[data-element-name='property-card-content']\"}\n",
      "  (Session info: chrome=130.0.6723.117); For documentation on this error, please visit: https://www.selenium.dev/documentation/webdriver/troubleshooting/errors#no-such-element-exception\n",
      "Stacktrace:\n",
      "\tGetHandleVerifier [0x00007FF6FD4338A5+3004357]\n",
      "\t(No symbol) [0x00007FF6FD0C9970]\n",
      "\t(No symbol) [0x00007FF6FCF7582A]\n",
      "\t(No symbol) [0x00007FF6FCFC5B8E]\n",
      "\t(No symbol) [0x00007FF6FCFC5E7C]\n",
      "\t(No symbol) [0x00007FF6FD00EC27]\n",
      "\t(No symbol) [0x00007FF6FCFEBC1F]\n",
      "\t(No symbol) [0x00007FF6FD00BA4C]\n",
      "\t(No symbol) [0x00007FF6FCFEB983]\n",
      "\t(No symbol) [0x00007FF6FCFB7628]\n",
      "\t(No symbol) [0x00007FF6FCFB8791]\n",
      "\tGetHandleVerifier [0x00007FF6FD45A00D+3161901]\n",
      "\tGetHandleVerifier [0x00007FF6FD4AE060+3506048]\n",
      "\tGetHandleVerifier [0x00007FF6FD4A400D+3465005]\n",
      "\tGetHandleVerifier [0x00007FF6FD220EEB+830987]\n",
      "\t(No symbol) [0x00007FF6FD0D467F]\n",
      "\t(No symbol) [0x00007FF6FD0D09D4]\n",
      "\t(No symbol) [0x00007FF6FD0D0B6D]\n",
      "\t(No symbol) [0x00007FF6FD0C0149]\n",
      "\tBaseThreadInitThunk [0x00007FFB7AAA7374+20]\n",
      "\tRtlUserThreadStart [0x00007FFB7C37CC91+33]\n",
      "\n"
     ]
    },
    {
     "name": "stderr",
     "output_type": "stream",
     "text": [
      "Processing URLs:   1%|      | 329/29446 [36:40<52:48:09,  6.53s/it]"
     ]
    },
    {
     "name": "stdout",
     "output_type": "stream",
     "text": [
      "Error fetching URL: https://www.agoda.com/partners/partnersearch.aspx?hid=230359 - Message: no such element: Unable to locate element: {\"method\":\"css selector\",\"selector\":\"a[data-element-name='property-card-content']\"}\n",
      "  (Session info: chrome=130.0.6723.117); For documentation on this error, please visit: https://www.selenium.dev/documentation/webdriver/troubleshooting/errors#no-such-element-exception\n",
      "Stacktrace:\n",
      "\tGetHandleVerifier [0x00007FF6FD4338A5+3004357]\n",
      "\t(No symbol) [0x00007FF6FD0C9970]\n",
      "\t(No symbol) [0x00007FF6FCF7582A]\n",
      "\t(No symbol) [0x00007FF6FCFC5B8E]\n",
      "\t(No symbol) [0x00007FF6FCFC5E7C]\n",
      "\t(No symbol) [0x00007FF6FD00EC27]\n",
      "\t(No symbol) [0x00007FF6FCFEBC1F]\n",
      "\t(No symbol) [0x00007FF6FD00BA4C]\n",
      "\t(No symbol) [0x00007FF6FCFEB983]\n",
      "\t(No symbol) [0x00007FF6FCFB7628]\n",
      "\t(No symbol) [0x00007FF6FCFB8791]\n",
      "\tGetHandleVerifier [0x00007FF6FD45A00D+3161901]\n",
      "\tGetHandleVerifier [0x00007FF6FD4AE060+3506048]\n",
      "\tGetHandleVerifier [0x00007FF6FD4A400D+3465005]\n",
      "\tGetHandleVerifier [0x00007FF6FD220EEB+830987]\n",
      "\t(No symbol) [0x00007FF6FD0D467F]\n",
      "\t(No symbol) [0x00007FF6FD0D09D4]\n",
      "\t(No symbol) [0x00007FF6FD0D0B6D]\n",
      "\t(No symbol) [0x00007FF6FD0C0149]\n",
      "\tBaseThreadInitThunk [0x00007FFB7AAA7374+20]\n",
      "\tRtlUserThreadStart [0x00007FFB7C37CC91+33]\n",
      "\n"
     ]
    },
    {
     "name": "stderr",
     "output_type": "stream",
     "text": [
      "Processing URLs:   1%|      | 330/29446 [36:47<52:57:34,  6.55s/it]"
     ]
    },
    {
     "name": "stdout",
     "output_type": "stream",
     "text": [
      "Error fetching URL: https://www.agoda.com/partners/partnersearch.aspx?hid=230409 - Message: no such element: Unable to locate element: {\"method\":\"css selector\",\"selector\":\"a[data-element-name='property-card-content']\"}\n",
      "  (Session info: chrome=130.0.6723.117); For documentation on this error, please visit: https://www.selenium.dev/documentation/webdriver/troubleshooting/errors#no-such-element-exception\n",
      "Stacktrace:\n",
      "\tGetHandleVerifier [0x00007FF6FD4338A5+3004357]\n",
      "\t(No symbol) [0x00007FF6FD0C9970]\n",
      "\t(No symbol) [0x00007FF6FCF7582A]\n",
      "\t(No symbol) [0x00007FF6FCFC5B8E]\n",
      "\t(No symbol) [0x00007FF6FCFC5E7C]\n",
      "\t(No symbol) [0x00007FF6FD00EC27]\n",
      "\t(No symbol) [0x00007FF6FCFEBC1F]\n",
      "\t(No symbol) [0x00007FF6FD00BA4C]\n",
      "\t(No symbol) [0x00007FF6FCFEB983]\n",
      "\t(No symbol) [0x00007FF6FCFB7628]\n",
      "\t(No symbol) [0x00007FF6FCFB8791]\n",
      "\tGetHandleVerifier [0x00007FF6FD45A00D+3161901]\n",
      "\tGetHandleVerifier [0x00007FF6FD4AE060+3506048]\n",
      "\tGetHandleVerifier [0x00007FF6FD4A400D+3465005]\n",
      "\tGetHandleVerifier [0x00007FF6FD220EEB+830987]\n",
      "\t(No symbol) [0x00007FF6FD0D467F]\n",
      "\t(No symbol) [0x00007FF6FD0D09D4]\n",
      "\t(No symbol) [0x00007FF6FD0D0B6D]\n",
      "\t(No symbol) [0x00007FF6FD0C0149]\n",
      "\tBaseThreadInitThunk [0x00007FFB7AAA7374+20]\n",
      "\tRtlUserThreadStart [0x00007FFB7C37CC91+33]\n",
      "\n"
     ]
    },
    {
     "name": "stderr",
     "output_type": "stream",
     "text": [
      "Processing URLs:   1%|      | 332/29446 [37:00<53:34:52,  6.63s/it]"
     ]
    },
    {
     "name": "stdout",
     "output_type": "stream",
     "text": [
      "Error fetching URL: https://www.agoda.com/partners/partnersearch.aspx?hid=230479 - Message: no such element: Unable to locate element: {\"method\":\"css selector\",\"selector\":\"a[data-element-name='property-card-content']\"}\n",
      "  (Session info: chrome=130.0.6723.117); For documentation on this error, please visit: https://www.selenium.dev/documentation/webdriver/troubleshooting/errors#no-such-element-exception\n",
      "Stacktrace:\n",
      "\tGetHandleVerifier [0x00007FF6FD4338A5+3004357]\n",
      "\t(No symbol) [0x00007FF6FD0C9970]\n",
      "\t(No symbol) [0x00007FF6FCF7582A]\n",
      "\t(No symbol) [0x00007FF6FCFC5B8E]\n",
      "\t(No symbol) [0x00007FF6FCFC5E7C]\n",
      "\t(No symbol) [0x00007FF6FD00EC27]\n",
      "\t(No symbol) [0x00007FF6FCFEBC1F]\n",
      "\t(No symbol) [0x00007FF6FD00BA4C]\n",
      "\t(No symbol) [0x00007FF6FCFEB983]\n",
      "\t(No symbol) [0x00007FF6FCFB7628]\n",
      "\t(No symbol) [0x00007FF6FCFB8791]\n",
      "\tGetHandleVerifier [0x00007FF6FD45A00D+3161901]\n",
      "\tGetHandleVerifier [0x00007FF6FD4AE060+3506048]\n",
      "\tGetHandleVerifier [0x00007FF6FD4A400D+3465005]\n",
      "\tGetHandleVerifier [0x00007FF6FD220EEB+830987]\n",
      "\t(No symbol) [0x00007FF6FD0D467F]\n",
      "\t(No symbol) [0x00007FF6FD0D09D4]\n",
      "\t(No symbol) [0x00007FF6FD0D0B6D]\n",
      "\t(No symbol) [0x00007FF6FD0C0149]\n",
      "\tBaseThreadInitThunk [0x00007FFB7AAA7374+20]\n",
      "\tRtlUserThreadStart [0x00007FFB7C37CC91+33]\n",
      "\n"
     ]
    },
    {
     "name": "stderr",
     "output_type": "stream",
     "text": [
      "Processing URLs:   1%|      | 333/29446 [37:07<53:04:37,  6.56s/it]"
     ]
    },
    {
     "name": "stdout",
     "output_type": "stream",
     "text": [
      "Error fetching URL: https://www.agoda.com/partners/partnersearch.aspx?hid=230575 - Message: no such element: Unable to locate element: {\"method\":\"css selector\",\"selector\":\"a[data-element-name='property-card-content']\"}\n",
      "  (Session info: chrome=130.0.6723.117); For documentation on this error, please visit: https://www.selenium.dev/documentation/webdriver/troubleshooting/errors#no-such-element-exception\n",
      "Stacktrace:\n",
      "\tGetHandleVerifier [0x00007FF6FD4338A5+3004357]\n",
      "\t(No symbol) [0x00007FF6FD0C9970]\n",
      "\t(No symbol) [0x00007FF6FCF7582A]\n",
      "\t(No symbol) [0x00007FF6FCFC5B8E]\n",
      "\t(No symbol) [0x00007FF6FCFC5E7C]\n",
      "\t(No symbol) [0x00007FF6FD00EC27]\n",
      "\t(No symbol) [0x00007FF6FCFEBC1F]\n",
      "\t(No symbol) [0x00007FF6FD00BA4C]\n",
      "\t(No symbol) [0x00007FF6FCFEB983]\n",
      "\t(No symbol) [0x00007FF6FCFB7628]\n",
      "\t(No symbol) [0x00007FF6FCFB8791]\n",
      "\tGetHandleVerifier [0x00007FF6FD45A00D+3161901]\n",
      "\tGetHandleVerifier [0x00007FF6FD4AE060+3506048]\n",
      "\tGetHandleVerifier [0x00007FF6FD4A400D+3465005]\n",
      "\tGetHandleVerifier [0x00007FF6FD220EEB+830987]\n",
      "\t(No symbol) [0x00007FF6FD0D467F]\n",
      "\t(No symbol) [0x00007FF6FD0D09D4]\n",
      "\t(No symbol) [0x00007FF6FD0D0B6D]\n",
      "\t(No symbol) [0x00007FF6FD0C0149]\n",
      "\tBaseThreadInitThunk [0x00007FFB7AAA7374+20]\n",
      "\tRtlUserThreadStart [0x00007FFB7C37CC91+33]\n",
      "\n"
     ]
    },
    {
     "name": "stderr",
     "output_type": "stream",
     "text": [
      "Processing URLs:   1%|      | 334/29446 [37:14<53:41:34,  6.64s/it]"
     ]
    },
    {
     "name": "stdout",
     "output_type": "stream",
     "text": [
      "Error fetching URL: https://www.agoda.com/partners/partnersearch.aspx?hid=230577 - Message: no such element: Unable to locate element: {\"method\":\"css selector\",\"selector\":\"a[data-element-name='property-card-content']\"}\n",
      "  (Session info: chrome=130.0.6723.117); For documentation on this error, please visit: https://www.selenium.dev/documentation/webdriver/troubleshooting/errors#no-such-element-exception\n",
      "Stacktrace:\n",
      "\tGetHandleVerifier [0x00007FF6FD4338A5+3004357]\n",
      "\t(No symbol) [0x00007FF6FD0C9970]\n",
      "\t(No symbol) [0x00007FF6FCF7582A]\n",
      "\t(No symbol) [0x00007FF6FCFC5B8E]\n",
      "\t(No symbol) [0x00007FF6FCFC5E7C]\n",
      "\t(No symbol) [0x00007FF6FD00EC27]\n",
      "\t(No symbol) [0x00007FF6FCFEBC1F]\n",
      "\t(No symbol) [0x00007FF6FD00BA4C]\n",
      "\t(No symbol) [0x00007FF6FCFEB983]\n",
      "\t(No symbol) [0x00007FF6FCFB7628]\n",
      "\t(No symbol) [0x00007FF6FCFB8791]\n",
      "\tGetHandleVerifier [0x00007FF6FD45A00D+3161901]\n",
      "\tGetHandleVerifier [0x00007FF6FD4AE060+3506048]\n",
      "\tGetHandleVerifier [0x00007FF6FD4A400D+3465005]\n",
      "\tGetHandleVerifier [0x00007FF6FD220EEB+830987]\n",
      "\t(No symbol) [0x00007FF6FD0D467F]\n",
      "\t(No symbol) [0x00007FF6FD0D09D4]\n",
      "\t(No symbol) [0x00007FF6FD0D0B6D]\n",
      "\t(No symbol) [0x00007FF6FD0C0149]\n",
      "\tBaseThreadInitThunk [0x00007FFB7AAA7374+20]\n",
      "\tRtlUserThreadStart [0x00007FFB7C37CC91+33]\n",
      "\n"
     ]
    },
    {
     "name": "stderr",
     "output_type": "stream",
     "text": [
      "Processing URLs:   1%|      | 335/29446 [37:20<53:41:33,  6.64s/it]"
     ]
    },
    {
     "name": "stdout",
     "output_type": "stream",
     "text": [
      "Error fetching URL: https://www.agoda.com/partners/partnersearch.aspx?hid=230586 - Message: no such element: Unable to locate element: {\"method\":\"css selector\",\"selector\":\"a[data-element-name='property-card-content']\"}\n",
      "  (Session info: chrome=130.0.6723.117); For documentation on this error, please visit: https://www.selenium.dev/documentation/webdriver/troubleshooting/errors#no-such-element-exception\n",
      "Stacktrace:\n",
      "\tGetHandleVerifier [0x00007FF6FD4338A5+3004357]\n",
      "\t(No symbol) [0x00007FF6FD0C9970]\n",
      "\t(No symbol) [0x00007FF6FCF7582A]\n",
      "\t(No symbol) [0x00007FF6FCFC5B8E]\n",
      "\t(No symbol) [0x00007FF6FCFC5E7C]\n",
      "\t(No symbol) [0x00007FF6FD00EC27]\n",
      "\t(No symbol) [0x00007FF6FCFEBC1F]\n",
      "\t(No symbol) [0x00007FF6FD00BA4C]\n",
      "\t(No symbol) [0x00007FF6FCFEB983]\n",
      "\t(No symbol) [0x00007FF6FCFB7628]\n",
      "\t(No symbol) [0x00007FF6FCFB8791]\n",
      "\tGetHandleVerifier [0x00007FF6FD45A00D+3161901]\n",
      "\tGetHandleVerifier [0x00007FF6FD4AE060+3506048]\n",
      "\tGetHandleVerifier [0x00007FF6FD4A400D+3465005]\n",
      "\tGetHandleVerifier [0x00007FF6FD220EEB+830987]\n",
      "\t(No symbol) [0x00007FF6FD0D467F]\n",
      "\t(No symbol) [0x00007FF6FD0D09D4]\n",
      "\t(No symbol) [0x00007FF6FD0D0B6D]\n",
      "\t(No symbol) [0x00007FF6FD0C0149]\n",
      "\tBaseThreadInitThunk [0x00007FFB7AAA7374+20]\n",
      "\tRtlUserThreadStart [0x00007FFB7C37CC91+33]\n",
      "\n"
     ]
    },
    {
     "name": "stderr",
     "output_type": "stream",
     "text": [
      "Processing URLs:   1%|      | 336/29446 [37:27<53:48:58,  6.66s/it]"
     ]
    },
    {
     "name": "stdout",
     "output_type": "stream",
     "text": [
      "Error fetching URL: https://www.agoda.com/partners/partnersearch.aspx?hid=230670 - Message: no such element: Unable to locate element: {\"method\":\"css selector\",\"selector\":\"a[data-element-name='property-card-content']\"}\n",
      "  (Session info: chrome=130.0.6723.117); For documentation on this error, please visit: https://www.selenium.dev/documentation/webdriver/troubleshooting/errors#no-such-element-exception\n",
      "Stacktrace:\n",
      "\tGetHandleVerifier [0x00007FF6FD4338A5+3004357]\n",
      "\t(No symbol) [0x00007FF6FD0C9970]\n",
      "\t(No symbol) [0x00007FF6FCF7582A]\n",
      "\t(No symbol) [0x00007FF6FCFC5B8E]\n",
      "\t(No symbol) [0x00007FF6FCFC5E7C]\n",
      "\t(No symbol) [0x00007FF6FD00EC27]\n",
      "\t(No symbol) [0x00007FF6FCFEBC1F]\n",
      "\t(No symbol) [0x00007FF6FD00BA4C]\n",
      "\t(No symbol) [0x00007FF6FCFEB983]\n",
      "\t(No symbol) [0x00007FF6FCFB7628]\n",
      "\t(No symbol) [0x00007FF6FCFB8791]\n",
      "\tGetHandleVerifier [0x00007FF6FD45A00D+3161901]\n",
      "\tGetHandleVerifier [0x00007FF6FD4AE060+3506048]\n",
      "\tGetHandleVerifier [0x00007FF6FD4A400D+3465005]\n",
      "\tGetHandleVerifier [0x00007FF6FD220EEB+830987]\n",
      "\t(No symbol) [0x00007FF6FD0D467F]\n",
      "\t(No symbol) [0x00007FF6FD0D09D4]\n",
      "\t(No symbol) [0x00007FF6FD0D0B6D]\n",
      "\t(No symbol) [0x00007FF6FD0C0149]\n",
      "\tBaseThreadInitThunk [0x00007FFB7AAA7374+20]\n",
      "\tRtlUserThreadStart [0x00007FFB7C37CC91+33]\n",
      "\n"
     ]
    },
    {
     "name": "stderr",
     "output_type": "stream",
     "text": [
      "Processing URLs:   1%|      | 337/29446 [37:33<53:18:36,  6.59s/it]"
     ]
    },
    {
     "name": "stdout",
     "output_type": "stream",
     "text": [
      "Error fetching URL: https://www.agoda.com/partners/partnersearch.aspx?hid=230673 - Message: no such element: Unable to locate element: {\"method\":\"css selector\",\"selector\":\"a[data-element-name='property-card-content']\"}\n",
      "  (Session info: chrome=130.0.6723.117); For documentation on this error, please visit: https://www.selenium.dev/documentation/webdriver/troubleshooting/errors#no-such-element-exception\n",
      "Stacktrace:\n",
      "\tGetHandleVerifier [0x00007FF6FD4338A5+3004357]\n",
      "\t(No symbol) [0x00007FF6FD0C9970]\n",
      "\t(No symbol) [0x00007FF6FCF7582A]\n",
      "\t(No symbol) [0x00007FF6FCFC5B8E]\n",
      "\t(No symbol) [0x00007FF6FCFC5E7C]\n",
      "\t(No symbol) [0x00007FF6FD00EC27]\n",
      "\t(No symbol) [0x00007FF6FCFEBC1F]\n",
      "\t(No symbol) [0x00007FF6FD00BA4C]\n",
      "\t(No symbol) [0x00007FF6FCFEB983]\n",
      "\t(No symbol) [0x00007FF6FCFB7628]\n",
      "\t(No symbol) [0x00007FF6FCFB8791]\n",
      "\tGetHandleVerifier [0x00007FF6FD45A00D+3161901]\n",
      "\tGetHandleVerifier [0x00007FF6FD4AE060+3506048]\n",
      "\tGetHandleVerifier [0x00007FF6FD4A400D+3465005]\n",
      "\tGetHandleVerifier [0x00007FF6FD220EEB+830987]\n",
      "\t(No symbol) [0x00007FF6FD0D467F]\n",
      "\t(No symbol) [0x00007FF6FD0D09D4]\n",
      "\t(No symbol) [0x00007FF6FD0D0B6D]\n",
      "\t(No symbol) [0x00007FF6FD0C0149]\n",
      "\tBaseThreadInitThunk [0x00007FFB7AAA7374+20]\n",
      "\tRtlUserThreadStart [0x00007FFB7C37CC91+33]\n",
      "\n"
     ]
    },
    {
     "name": "stderr",
     "output_type": "stream",
     "text": [
      "Processing URLs:   1%|      | 339/29446 [37:46<52:50:04,  6.53s/it]"
     ]
    },
    {
     "name": "stdout",
     "output_type": "stream",
     "text": [
      "Error fetching URL: https://www.agoda.com/partners/partnersearch.aspx?hid=230684 - Message: no such element: Unable to locate element: {\"method\":\"css selector\",\"selector\":\"a[data-element-name='property-card-content']\"}\n",
      "  (Session info: chrome=130.0.6723.117); For documentation on this error, please visit: https://www.selenium.dev/documentation/webdriver/troubleshooting/errors#no-such-element-exception\n",
      "Stacktrace:\n",
      "\tGetHandleVerifier [0x00007FF6FD4338A5+3004357]\n",
      "\t(No symbol) [0x00007FF6FD0C9970]\n",
      "\t(No symbol) [0x00007FF6FCF7582A]\n",
      "\t(No symbol) [0x00007FF6FCFC5B8E]\n",
      "\t(No symbol) [0x00007FF6FCFC5E7C]\n",
      "\t(No symbol) [0x00007FF6FD00EC27]\n",
      "\t(No symbol) [0x00007FF6FCFEBC1F]\n",
      "\t(No symbol) [0x00007FF6FD00BA4C]\n",
      "\t(No symbol) [0x00007FF6FCFEB983]\n",
      "\t(No symbol) [0x00007FF6FCFB7628]\n",
      "\t(No symbol) [0x00007FF6FCFB8791]\n",
      "\tGetHandleVerifier [0x00007FF6FD45A00D+3161901]\n",
      "\tGetHandleVerifier [0x00007FF6FD4AE060+3506048]\n",
      "\tGetHandleVerifier [0x00007FF6FD4A400D+3465005]\n",
      "\tGetHandleVerifier [0x00007FF6FD220EEB+830987]\n",
      "\t(No symbol) [0x00007FF6FD0D467F]\n",
      "\t(No symbol) [0x00007FF6FD0D09D4]\n",
      "\t(No symbol) [0x00007FF6FD0D0B6D]\n",
      "\t(No symbol) [0x00007FF6FD0C0149]\n",
      "\tBaseThreadInitThunk [0x00007FFB7AAA7374+20]\n",
      "\tRtlUserThreadStart [0x00007FFB7C37CC91+33]\n",
      "\n"
     ]
    },
    {
     "name": "stderr",
     "output_type": "stream",
     "text": [
      "Processing URLs:   1%|      | 340/29446 [37:53<52:13:22,  6.46s/it]"
     ]
    },
    {
     "name": "stdout",
     "output_type": "stream",
     "text": [
      "Error fetching URL: https://www.agoda.com/partners/partnersearch.aspx?hid=230693 - Message: no such element: Unable to locate element: {\"method\":\"css selector\",\"selector\":\"a[data-element-name='property-card-content']\"}\n",
      "  (Session info: chrome=130.0.6723.117); For documentation on this error, please visit: https://www.selenium.dev/documentation/webdriver/troubleshooting/errors#no-such-element-exception\n",
      "Stacktrace:\n",
      "\tGetHandleVerifier [0x00007FF6FD4338A5+3004357]\n",
      "\t(No symbol) [0x00007FF6FD0C9970]\n",
      "\t(No symbol) [0x00007FF6FCF7582A]\n",
      "\t(No symbol) [0x00007FF6FCFC5B8E]\n",
      "\t(No symbol) [0x00007FF6FCFC5E7C]\n",
      "\t(No symbol) [0x00007FF6FD00EC27]\n",
      "\t(No symbol) [0x00007FF6FCFEBC1F]\n",
      "\t(No symbol) [0x00007FF6FD00BA4C]\n",
      "\t(No symbol) [0x00007FF6FCFEB983]\n",
      "\t(No symbol) [0x00007FF6FCFB7628]\n",
      "\t(No symbol) [0x00007FF6FCFB8791]\n",
      "\tGetHandleVerifier [0x00007FF6FD45A00D+3161901]\n",
      "\tGetHandleVerifier [0x00007FF6FD4AE060+3506048]\n",
      "\tGetHandleVerifier [0x00007FF6FD4A400D+3465005]\n",
      "\tGetHandleVerifier [0x00007FF6FD220EEB+830987]\n",
      "\t(No symbol) [0x00007FF6FD0D467F]\n",
      "\t(No symbol) [0x00007FF6FD0D09D4]\n",
      "\t(No symbol) [0x00007FF6FD0D0B6D]\n",
      "\t(No symbol) [0x00007FF6FD0C0149]\n",
      "\tBaseThreadInitThunk [0x00007FFB7AAA7374+20]\n",
      "\tRtlUserThreadStart [0x00007FFB7C37CC91+33]\n",
      "\n"
     ]
    },
    {
     "name": "stderr",
     "output_type": "stream",
     "text": [
      "Processing URLs:   1%|      | 341/29446 [37:59<52:52:02,  6.54s/it]"
     ]
    },
    {
     "name": "stdout",
     "output_type": "stream",
     "text": [
      "Error fetching URL: https://www.agoda.com/partners/partnersearch.aspx?hid=230699 - Message: no such element: Unable to locate element: {\"method\":\"css selector\",\"selector\":\"a[data-element-name='property-card-content']\"}\n",
      "  (Session info: chrome=130.0.6723.117); For documentation on this error, please visit: https://www.selenium.dev/documentation/webdriver/troubleshooting/errors#no-such-element-exception\n",
      "Stacktrace:\n",
      "\tGetHandleVerifier [0x00007FF6FD4338A5+3004357]\n",
      "\t(No symbol) [0x00007FF6FD0C9970]\n",
      "\t(No symbol) [0x00007FF6FCF7582A]\n",
      "\t(No symbol) [0x00007FF6FCFC5B8E]\n",
      "\t(No symbol) [0x00007FF6FCFC5E7C]\n",
      "\t(No symbol) [0x00007FF6FD00EC27]\n",
      "\t(No symbol) [0x00007FF6FCFEBC1F]\n",
      "\t(No symbol) [0x00007FF6FD00BA4C]\n",
      "\t(No symbol) [0x00007FF6FCFEB983]\n",
      "\t(No symbol) [0x00007FF6FCFB7628]\n",
      "\t(No symbol) [0x00007FF6FCFB8791]\n",
      "\tGetHandleVerifier [0x00007FF6FD45A00D+3161901]\n",
      "\tGetHandleVerifier [0x00007FF6FD4AE060+3506048]\n",
      "\tGetHandleVerifier [0x00007FF6FD4A400D+3465005]\n",
      "\tGetHandleVerifier [0x00007FF6FD220EEB+830987]\n",
      "\t(No symbol) [0x00007FF6FD0D467F]\n",
      "\t(No symbol) [0x00007FF6FD0D09D4]\n",
      "\t(No symbol) [0x00007FF6FD0D0B6D]\n",
      "\t(No symbol) [0x00007FF6FD0C0149]\n",
      "\tBaseThreadInitThunk [0x00007FFB7AAA7374+20]\n",
      "\tRtlUserThreadStart [0x00007FFB7C37CC91+33]\n",
      "\n"
     ]
    },
    {
     "name": "stderr",
     "output_type": "stream",
     "text": [
      "Processing URLs:   1%|      | 342/29446 [38:06<52:33:26,  6.50s/it]"
     ]
    },
    {
     "name": "stdout",
     "output_type": "stream",
     "text": [
      "Error fetching URL: https://www.agoda.com/partners/partnersearch.aspx?hid=230719 - Message: no such element: Unable to locate element: {\"method\":\"css selector\",\"selector\":\"a[data-element-name='property-card-content']\"}\n",
      "  (Session info: chrome=130.0.6723.117); For documentation on this error, please visit: https://www.selenium.dev/documentation/webdriver/troubleshooting/errors#no-such-element-exception\n",
      "Stacktrace:\n",
      "\tGetHandleVerifier [0x00007FF6FD4338A5+3004357]\n",
      "\t(No symbol) [0x00007FF6FD0C9970]\n",
      "\t(No symbol) [0x00007FF6FCF7582A]\n",
      "\t(No symbol) [0x00007FF6FCFC5B8E]\n",
      "\t(No symbol) [0x00007FF6FCFC5E7C]\n",
      "\t(No symbol) [0x00007FF6FD00EC27]\n",
      "\t(No symbol) [0x00007FF6FCFEBC1F]\n",
      "\t(No symbol) [0x00007FF6FD00BA4C]\n",
      "\t(No symbol) [0x00007FF6FCFEB983]\n",
      "\t(No symbol) [0x00007FF6FCFB7628]\n",
      "\t(No symbol) [0x00007FF6FCFB8791]\n",
      "\tGetHandleVerifier [0x00007FF6FD45A00D+3161901]\n",
      "\tGetHandleVerifier [0x00007FF6FD4AE060+3506048]\n",
      "\tGetHandleVerifier [0x00007FF6FD4A400D+3465005]\n",
      "\tGetHandleVerifier [0x00007FF6FD220EEB+830987]\n",
      "\t(No symbol) [0x00007FF6FD0D467F]\n",
      "\t(No symbol) [0x00007FF6FD0D09D4]\n",
      "\t(No symbol) [0x00007FF6FD0D0B6D]\n",
      "\t(No symbol) [0x00007FF6FD0C0149]\n",
      "\tBaseThreadInitThunk [0x00007FFB7AAA7374+20]\n",
      "\tRtlUserThreadStart [0x00007FFB7C37CC91+33]\n",
      "\n"
     ]
    },
    {
     "name": "stderr",
     "output_type": "stream",
     "text": [
      "Processing URLs:   1%|      | 346/29446 [38:33<55:10:17,  6.83s/it]"
     ]
    },
    {
     "name": "stdout",
     "output_type": "stream",
     "text": [
      "Error fetching URL: https://www.agoda.com/partners/partnersearch.aspx?hid=234434 - Message: no such element: Unable to locate element: {\"method\":\"css selector\",\"selector\":\"a[data-element-name='property-card-content']\"}\n",
      "  (Session info: chrome=130.0.6723.117); For documentation on this error, please visit: https://www.selenium.dev/documentation/webdriver/troubleshooting/errors#no-such-element-exception\n",
      "Stacktrace:\n",
      "\tGetHandleVerifier [0x00007FF6FD4338A5+3004357]\n",
      "\t(No symbol) [0x00007FF6FD0C9970]\n",
      "\t(No symbol) [0x00007FF6FCF7582A]\n",
      "\t(No symbol) [0x00007FF6FCFC5B8E]\n",
      "\t(No symbol) [0x00007FF6FCFC5E7C]\n",
      "\t(No symbol) [0x00007FF6FD00EC27]\n",
      "\t(No symbol) [0x00007FF6FCFEBC1F]\n",
      "\t(No symbol) [0x00007FF6FD00BA4C]\n",
      "\t(No symbol) [0x00007FF6FCFEB983]\n",
      "\t(No symbol) [0x00007FF6FCFB7628]\n",
      "\t(No symbol) [0x00007FF6FCFB8791]\n",
      "\tGetHandleVerifier [0x00007FF6FD45A00D+3161901]\n",
      "\tGetHandleVerifier [0x00007FF6FD4AE060+3506048]\n",
      "\tGetHandleVerifier [0x00007FF6FD4A400D+3465005]\n",
      "\tGetHandleVerifier [0x00007FF6FD220EEB+830987]\n",
      "\t(No symbol) [0x00007FF6FD0D467F]\n",
      "\t(No symbol) [0x00007FF6FD0D09D4]\n",
      "\t(No symbol) [0x00007FF6FD0D0B6D]\n",
      "\t(No symbol) [0x00007FF6FD0C0149]\n",
      "\tBaseThreadInitThunk [0x00007FFB7AAA7374+20]\n",
      "\tRtlUserThreadStart [0x00007FFB7C37CC91+33]\n",
      "\n"
     ]
    },
    {
     "name": "stderr",
     "output_type": "stream",
     "text": [
      "Processing URLs:   1%|      | 347/29446 [38:40<54:14:12,  6.71s/it]"
     ]
    },
    {
     "name": "stdout",
     "output_type": "stream",
     "text": [
      "Error fetching URL: https://www.agoda.com/partners/partnersearch.aspx?hid=236996 - Message: no such element: Unable to locate element: {\"method\":\"css selector\",\"selector\":\"a[data-element-name='property-card-content']\"}\n",
      "  (Session info: chrome=130.0.6723.117); For documentation on this error, please visit: https://www.selenium.dev/documentation/webdriver/troubleshooting/errors#no-such-element-exception\n",
      "Stacktrace:\n",
      "\tGetHandleVerifier [0x00007FF6FD4338A5+3004357]\n",
      "\t(No symbol) [0x00007FF6FD0C9970]\n",
      "\t(No symbol) [0x00007FF6FCF7582A]\n",
      "\t(No symbol) [0x00007FF6FCFC5B8E]\n",
      "\t(No symbol) [0x00007FF6FCFC5E7C]\n",
      "\t(No symbol) [0x00007FF6FD00EC27]\n",
      "\t(No symbol) [0x00007FF6FCFEBC1F]\n",
      "\t(No symbol) [0x00007FF6FD00BA4C]\n",
      "\t(No symbol) [0x00007FF6FCFEB983]\n",
      "\t(No symbol) [0x00007FF6FCFB7628]\n",
      "\t(No symbol) [0x00007FF6FCFB8791]\n",
      "\tGetHandleVerifier [0x00007FF6FD45A00D+3161901]\n",
      "\tGetHandleVerifier [0x00007FF6FD4AE060+3506048]\n",
      "\tGetHandleVerifier [0x00007FF6FD4A400D+3465005]\n",
      "\tGetHandleVerifier [0x00007FF6FD220EEB+830987]\n",
      "\t(No symbol) [0x00007FF6FD0D467F]\n",
      "\t(No symbol) [0x00007FF6FD0D09D4]\n",
      "\t(No symbol) [0x00007FF6FD0D0B6D]\n",
      "\t(No symbol) [0x00007FF6FD0C0149]\n",
      "\tBaseThreadInitThunk [0x00007FFB7AAA7374+20]\n",
      "\tRtlUserThreadStart [0x00007FFB7C37CC91+33]\n",
      "\n"
     ]
    },
    {
     "name": "stderr",
     "output_type": "stream",
     "text": [
      "Processing URLs:   1%|      | 350/29446 [38:59<52:41:29,  6.52s/it]"
     ]
    },
    {
     "name": "stdout",
     "output_type": "stream",
     "text": [
      "Error fetching URL: https://www.agoda.com/partners/partnersearch.aspx?hid=237100 - Message: no such element: Unable to locate element: {\"method\":\"css selector\",\"selector\":\"a[data-element-name='property-card-content']\"}\n",
      "  (Session info: chrome=130.0.6723.117); For documentation on this error, please visit: https://www.selenium.dev/documentation/webdriver/troubleshooting/errors#no-such-element-exception\n",
      "Stacktrace:\n",
      "\tGetHandleVerifier [0x00007FF6FD4338A5+3004357]\n",
      "\t(No symbol) [0x00007FF6FD0C9970]\n",
      "\t(No symbol) [0x00007FF6FCF7582A]\n",
      "\t(No symbol) [0x00007FF6FCFC5B8E]\n",
      "\t(No symbol) [0x00007FF6FCFC5E7C]\n",
      "\t(No symbol) [0x00007FF6FD00EC27]\n",
      "\t(No symbol) [0x00007FF6FCFEBC1F]\n",
      "\t(No symbol) [0x00007FF6FD00BA4C]\n",
      "\t(No symbol) [0x00007FF6FCFEB983]\n",
      "\t(No symbol) [0x00007FF6FCFB7628]\n",
      "\t(No symbol) [0x00007FF6FCFB8791]\n",
      "\tGetHandleVerifier [0x00007FF6FD45A00D+3161901]\n",
      "\tGetHandleVerifier [0x00007FF6FD4AE060+3506048]\n",
      "\tGetHandleVerifier [0x00007FF6FD4A400D+3465005]\n",
      "\tGetHandleVerifier [0x00007FF6FD220EEB+830987]\n",
      "\t(No symbol) [0x00007FF6FD0D467F]\n",
      "\t(No symbol) [0x00007FF6FD0D09D4]\n",
      "\t(No symbol) [0x00007FF6FD0D0B6D]\n",
      "\t(No symbol) [0x00007FF6FD0C0149]\n",
      "\tBaseThreadInitThunk [0x00007FFB7AAA7374+20]\n",
      "\tRtlUserThreadStart [0x00007FFB7C37CC91+33]\n",
      "\n"
     ]
    },
    {
     "name": "stderr",
     "output_type": "stream",
     "text": [
      "Processing URLs:   1%|      | 351/29446 [39:06<52:57:53,  6.55s/it]"
     ]
    },
    {
     "name": "stdout",
     "output_type": "stream",
     "text": [
      "Error fetching URL: https://www.agoda.com/partners/partnersearch.aspx?hid=237103 - Message: no such element: Unable to locate element: {\"method\":\"css selector\",\"selector\":\"a[data-element-name='property-card-content']\"}\n",
      "  (Session info: chrome=130.0.6723.117); For documentation on this error, please visit: https://www.selenium.dev/documentation/webdriver/troubleshooting/errors#no-such-element-exception\n",
      "Stacktrace:\n",
      "\tGetHandleVerifier [0x00007FF6FD4338A5+3004357]\n",
      "\t(No symbol) [0x00007FF6FD0C9970]\n",
      "\t(No symbol) [0x00007FF6FCF7582A]\n",
      "\t(No symbol) [0x00007FF6FCFC5B8E]\n",
      "\t(No symbol) [0x00007FF6FCFC5E7C]\n",
      "\t(No symbol) [0x00007FF6FD00EC27]\n",
      "\t(No symbol) [0x00007FF6FCFEBC1F]\n",
      "\t(No symbol) [0x00007FF6FD00BA4C]\n",
      "\t(No symbol) [0x00007FF6FCFEB983]\n",
      "\t(No symbol) [0x00007FF6FCFB7628]\n",
      "\t(No symbol) [0x00007FF6FCFB8791]\n",
      "\tGetHandleVerifier [0x00007FF6FD45A00D+3161901]\n",
      "\tGetHandleVerifier [0x00007FF6FD4AE060+3506048]\n",
      "\tGetHandleVerifier [0x00007FF6FD4A400D+3465005]\n",
      "\tGetHandleVerifier [0x00007FF6FD220EEB+830987]\n",
      "\t(No symbol) [0x00007FF6FD0D467F]\n",
      "\t(No symbol) [0x00007FF6FD0D09D4]\n",
      "\t(No symbol) [0x00007FF6FD0D0B6D]\n",
      "\t(No symbol) [0x00007FF6FD0C0149]\n",
      "\tBaseThreadInitThunk [0x00007FFB7AAA7374+20]\n",
      "\tRtlUserThreadStart [0x00007FFB7C37CC91+33]\n",
      "\n"
     ]
    },
    {
     "name": "stderr",
     "output_type": "stream",
     "text": [
      "Processing URLs:   1%|      | 352/29446 [39:12<52:20:58,  6.48s/it]"
     ]
    },
    {
     "name": "stdout",
     "output_type": "stream",
     "text": [
      "Error fetching URL: https://www.agoda.com/partners/partnersearch.aspx?hid=237128 - Message: no such element: Unable to locate element: {\"method\":\"css selector\",\"selector\":\"a[data-element-name='property-card-content']\"}\n",
      "  (Session info: chrome=130.0.6723.117); For documentation on this error, please visit: https://www.selenium.dev/documentation/webdriver/troubleshooting/errors#no-such-element-exception\n",
      "Stacktrace:\n",
      "\tGetHandleVerifier [0x00007FF6FD4338A5+3004357]\n",
      "\t(No symbol) [0x00007FF6FD0C9970]\n",
      "\t(No symbol) [0x00007FF6FCF7582A]\n",
      "\t(No symbol) [0x00007FF6FCFC5B8E]\n",
      "\t(No symbol) [0x00007FF6FCFC5E7C]\n",
      "\t(No symbol) [0x00007FF6FD00EC27]\n",
      "\t(No symbol) [0x00007FF6FCFEBC1F]\n",
      "\t(No symbol) [0x00007FF6FD00BA4C]\n",
      "\t(No symbol) [0x00007FF6FCFEB983]\n",
      "\t(No symbol) [0x00007FF6FCFB7628]\n",
      "\t(No symbol) [0x00007FF6FCFB8791]\n",
      "\tGetHandleVerifier [0x00007FF6FD45A00D+3161901]\n",
      "\tGetHandleVerifier [0x00007FF6FD4AE060+3506048]\n",
      "\tGetHandleVerifier [0x00007FF6FD4A400D+3465005]\n",
      "\tGetHandleVerifier [0x00007FF6FD220EEB+830987]\n",
      "\t(No symbol) [0x00007FF6FD0D467F]\n",
      "\t(No symbol) [0x00007FF6FD0D09D4]\n",
      "\t(No symbol) [0x00007FF6FD0D0B6D]\n",
      "\t(No symbol) [0x00007FF6FD0C0149]\n",
      "\tBaseThreadInitThunk [0x00007FFB7AAA7374+20]\n",
      "\tRtlUserThreadStart [0x00007FFB7C37CC91+33]\n",
      "\n"
     ]
    },
    {
     "name": "stderr",
     "output_type": "stream",
     "text": [
      "Processing URLs:   1%|      | 354/29446 [39:25<52:23:56,  6.48s/it]"
     ]
    },
    {
     "name": "stdout",
     "output_type": "stream",
     "text": [
      "Error fetching URL: https://www.agoda.com/partners/partnersearch.aspx?hid=237273 - Message: no such element: Unable to locate element: {\"method\":\"css selector\",\"selector\":\"a[data-element-name='property-card-content']\"}\n",
      "  (Session info: chrome=130.0.6723.117); For documentation on this error, please visit: https://www.selenium.dev/documentation/webdriver/troubleshooting/errors#no-such-element-exception\n",
      "Stacktrace:\n",
      "\tGetHandleVerifier [0x00007FF6FD4338A5+3004357]\n",
      "\t(No symbol) [0x00007FF6FD0C9970]\n",
      "\t(No symbol) [0x00007FF6FCF7582A]\n",
      "\t(No symbol) [0x00007FF6FCFC5B8E]\n",
      "\t(No symbol) [0x00007FF6FCFC5E7C]\n",
      "\t(No symbol) [0x00007FF6FD00EC27]\n",
      "\t(No symbol) [0x00007FF6FCFEBC1F]\n",
      "\t(No symbol) [0x00007FF6FD00BA4C]\n",
      "\t(No symbol) [0x00007FF6FCFEB983]\n",
      "\t(No symbol) [0x00007FF6FCFB7628]\n",
      "\t(No symbol) [0x00007FF6FCFB8791]\n",
      "\tGetHandleVerifier [0x00007FF6FD45A00D+3161901]\n",
      "\tGetHandleVerifier [0x00007FF6FD4AE060+3506048]\n",
      "\tGetHandleVerifier [0x00007FF6FD4A400D+3465005]\n",
      "\tGetHandleVerifier [0x00007FF6FD220EEB+830987]\n",
      "\t(No symbol) [0x00007FF6FD0D467F]\n",
      "\t(No symbol) [0x00007FF6FD0D09D4]\n",
      "\t(No symbol) [0x00007FF6FD0D0B6D]\n",
      "\t(No symbol) [0x00007FF6FD0C0149]\n",
      "\tBaseThreadInitThunk [0x00007FFB7AAA7374+20]\n",
      "\tRtlUserThreadStart [0x00007FFB7C37CC91+33]\n",
      "\n"
     ]
    },
    {
     "name": "stderr",
     "output_type": "stream",
     "text": [
      "Processing URLs:   1%|      | 355/29446 [39:31<51:59:54,  6.43s/it]"
     ]
    },
    {
     "name": "stdout",
     "output_type": "stream",
     "text": [
      "Error fetching URL: https://www.agoda.com/partners/partnersearch.aspx?hid=237288 - Message: no such element: Unable to locate element: {\"method\":\"css selector\",\"selector\":\"a[data-element-name='property-card-content']\"}\n",
      "  (Session info: chrome=130.0.6723.117); For documentation on this error, please visit: https://www.selenium.dev/documentation/webdriver/troubleshooting/errors#no-such-element-exception\n",
      "Stacktrace:\n",
      "\tGetHandleVerifier [0x00007FF6FD4338A5+3004357]\n",
      "\t(No symbol) [0x00007FF6FD0C9970]\n",
      "\t(No symbol) [0x00007FF6FCF7582A]\n",
      "\t(No symbol) [0x00007FF6FCFC5B8E]\n",
      "\t(No symbol) [0x00007FF6FCFC5E7C]\n",
      "\t(No symbol) [0x00007FF6FD00EC27]\n",
      "\t(No symbol) [0x00007FF6FCFEBC1F]\n",
      "\t(No symbol) [0x00007FF6FD00BA4C]\n",
      "\t(No symbol) [0x00007FF6FCFEB983]\n",
      "\t(No symbol) [0x00007FF6FCFB7628]\n",
      "\t(No symbol) [0x00007FF6FCFB8791]\n",
      "\tGetHandleVerifier [0x00007FF6FD45A00D+3161901]\n",
      "\tGetHandleVerifier [0x00007FF6FD4AE060+3506048]\n",
      "\tGetHandleVerifier [0x00007FF6FD4A400D+3465005]\n",
      "\tGetHandleVerifier [0x00007FF6FD220EEB+830987]\n",
      "\t(No symbol) [0x00007FF6FD0D467F]\n",
      "\t(No symbol) [0x00007FF6FD0D09D4]\n",
      "\t(No symbol) [0x00007FF6FD0D0B6D]\n",
      "\t(No symbol) [0x00007FF6FD0C0149]\n",
      "\tBaseThreadInitThunk [0x00007FFB7AAA7374+20]\n",
      "\tRtlUserThreadStart [0x00007FFB7C37CC91+33]\n",
      "\n"
     ]
    },
    {
     "name": "stderr",
     "output_type": "stream",
     "text": [
      "Processing URLs:   1%|      | 356/29446 [39:38<52:29:42,  6.50s/it]"
     ]
    },
    {
     "name": "stdout",
     "output_type": "stream",
     "text": [
      "Error fetching URL: https://www.agoda.com/partners/partnersearch.aspx?hid=237296 - Message: no such element: Unable to locate element: {\"method\":\"css selector\",\"selector\":\"a[data-element-name='property-card-content']\"}\n",
      "  (Session info: chrome=130.0.6723.117); For documentation on this error, please visit: https://www.selenium.dev/documentation/webdriver/troubleshooting/errors#no-such-element-exception\n",
      "Stacktrace:\n",
      "\tGetHandleVerifier [0x00007FF6FD4338A5+3004357]\n",
      "\t(No symbol) [0x00007FF6FD0C9970]\n",
      "\t(No symbol) [0x00007FF6FCF7582A]\n",
      "\t(No symbol) [0x00007FF6FCFC5B8E]\n",
      "\t(No symbol) [0x00007FF6FCFC5E7C]\n",
      "\t(No symbol) [0x00007FF6FD00EC27]\n",
      "\t(No symbol) [0x00007FF6FCFEBC1F]\n",
      "\t(No symbol) [0x00007FF6FD00BA4C]\n",
      "\t(No symbol) [0x00007FF6FCFEB983]\n",
      "\t(No symbol) [0x00007FF6FCFB7628]\n",
      "\t(No symbol) [0x00007FF6FCFB8791]\n",
      "\tGetHandleVerifier [0x00007FF6FD45A00D+3161901]\n",
      "\tGetHandleVerifier [0x00007FF6FD4AE060+3506048]\n",
      "\tGetHandleVerifier [0x00007FF6FD4A400D+3465005]\n",
      "\tGetHandleVerifier [0x00007FF6FD220EEB+830987]\n",
      "\t(No symbol) [0x00007FF6FD0D467F]\n",
      "\t(No symbol) [0x00007FF6FD0D09D4]\n",
      "\t(No symbol) [0x00007FF6FD0D0B6D]\n",
      "\t(No symbol) [0x00007FF6FD0C0149]\n",
      "\tBaseThreadInitThunk [0x00007FFB7AAA7374+20]\n",
      "\tRtlUserThreadStart [0x00007FFB7C37CC91+33]\n",
      "\n"
     ]
    },
    {
     "name": "stderr",
     "output_type": "stream",
     "text": [
      "Processing URLs:   1%|      | 357/29446 [39:44<51:51:43,  6.42s/it]"
     ]
    },
    {
     "name": "stdout",
     "output_type": "stream",
     "text": [
      "Error fetching URL: https://www.agoda.com/partners/partnersearch.aspx?hid=237299 - Message: no such element: Unable to locate element: {\"method\":\"css selector\",\"selector\":\"a[data-element-name='property-card-content']\"}\n",
      "  (Session info: chrome=130.0.6723.117); For documentation on this error, please visit: https://www.selenium.dev/documentation/webdriver/troubleshooting/errors#no-such-element-exception\n",
      "Stacktrace:\n",
      "\tGetHandleVerifier [0x00007FF6FD4338A5+3004357]\n",
      "\t(No symbol) [0x00007FF6FD0C9970]\n",
      "\t(No symbol) [0x00007FF6FCF7582A]\n",
      "\t(No symbol) [0x00007FF6FCFC5B8E]\n",
      "\t(No symbol) [0x00007FF6FCFC5E7C]\n",
      "\t(No symbol) [0x00007FF6FD00EC27]\n",
      "\t(No symbol) [0x00007FF6FCFEBC1F]\n",
      "\t(No symbol) [0x00007FF6FD00BA4C]\n",
      "\t(No symbol) [0x00007FF6FCFEB983]\n",
      "\t(No symbol) [0x00007FF6FCFB7628]\n",
      "\t(No symbol) [0x00007FF6FCFB8791]\n",
      "\tGetHandleVerifier [0x00007FF6FD45A00D+3161901]\n",
      "\tGetHandleVerifier [0x00007FF6FD4AE060+3506048]\n",
      "\tGetHandleVerifier [0x00007FF6FD4A400D+3465005]\n",
      "\tGetHandleVerifier [0x00007FF6FD220EEB+830987]\n",
      "\t(No symbol) [0x00007FF6FD0D467F]\n",
      "\t(No symbol) [0x00007FF6FD0D09D4]\n",
      "\t(No symbol) [0x00007FF6FD0D0B6D]\n",
      "\t(No symbol) [0x00007FF6FD0C0149]\n",
      "\tBaseThreadInitThunk [0x00007FFB7AAA7374+20]\n",
      "\tRtlUserThreadStart [0x00007FFB7C37CC91+33]\n",
      "\n"
     ]
    },
    {
     "name": "stderr",
     "output_type": "stream",
     "text": [
      "Processing URLs:   1%|      | 358/29446 [39:51<52:18:13,  6.47s/it]"
     ]
    },
    {
     "name": "stdout",
     "output_type": "stream",
     "text": [
      "Error fetching URL: https://www.agoda.com/partners/partnersearch.aspx?hid=237308 - Message: no such element: Unable to locate element: {\"method\":\"css selector\",\"selector\":\"a[data-element-name='property-card-content']\"}\n",
      "  (Session info: chrome=130.0.6723.117); For documentation on this error, please visit: https://www.selenium.dev/documentation/webdriver/troubleshooting/errors#no-such-element-exception\n",
      "Stacktrace:\n",
      "\tGetHandleVerifier [0x00007FF6FD4338A5+3004357]\n",
      "\t(No symbol) [0x00007FF6FD0C9970]\n",
      "\t(No symbol) [0x00007FF6FCF7582A]\n",
      "\t(No symbol) [0x00007FF6FCFC5B8E]\n",
      "\t(No symbol) [0x00007FF6FCFC5E7C]\n",
      "\t(No symbol) [0x00007FF6FD00EC27]\n",
      "\t(No symbol) [0x00007FF6FCFEBC1F]\n",
      "\t(No symbol) [0x00007FF6FD00BA4C]\n",
      "\t(No symbol) [0x00007FF6FCFEB983]\n",
      "\t(No symbol) [0x00007FF6FCFB7628]\n",
      "\t(No symbol) [0x00007FF6FCFB8791]\n",
      "\tGetHandleVerifier [0x00007FF6FD45A00D+3161901]\n",
      "\tGetHandleVerifier [0x00007FF6FD4AE060+3506048]\n",
      "\tGetHandleVerifier [0x00007FF6FD4A400D+3465005]\n",
      "\tGetHandleVerifier [0x00007FF6FD220EEB+830987]\n",
      "\t(No symbol) [0x00007FF6FD0D467F]\n",
      "\t(No symbol) [0x00007FF6FD0D09D4]\n",
      "\t(No symbol) [0x00007FF6FD0D0B6D]\n",
      "\t(No symbol) [0x00007FF6FD0C0149]\n",
      "\tBaseThreadInitThunk [0x00007FFB7AAA7374+20]\n",
      "\tRtlUserThreadStart [0x00007FFB7C37CC91+33]\n",
      "\n"
     ]
    },
    {
     "name": "stderr",
     "output_type": "stream",
     "text": [
      "Processing URLs:   1%|      | 359/29446 [39:57<51:56:01,  6.43s/it]"
     ]
    },
    {
     "name": "stdout",
     "output_type": "stream",
     "text": [
      "Error fetching URL: https://www.agoda.com/partners/partnersearch.aspx?hid=237314 - Message: no such element: Unable to locate element: {\"method\":\"css selector\",\"selector\":\"a[data-element-name='property-card-content']\"}\n",
      "  (Session info: chrome=130.0.6723.117); For documentation on this error, please visit: https://www.selenium.dev/documentation/webdriver/troubleshooting/errors#no-such-element-exception\n",
      "Stacktrace:\n",
      "\tGetHandleVerifier [0x00007FF6FD4338A5+3004357]\n",
      "\t(No symbol) [0x00007FF6FD0C9970]\n",
      "\t(No symbol) [0x00007FF6FCF7582A]\n",
      "\t(No symbol) [0x00007FF6FCFC5B8E]\n",
      "\t(No symbol) [0x00007FF6FCFC5E7C]\n",
      "\t(No symbol) [0x00007FF6FD00EC27]\n",
      "\t(No symbol) [0x00007FF6FCFEBC1F]\n",
      "\t(No symbol) [0x00007FF6FD00BA4C]\n",
      "\t(No symbol) [0x00007FF6FCFEB983]\n",
      "\t(No symbol) [0x00007FF6FCFB7628]\n",
      "\t(No symbol) [0x00007FF6FCFB8791]\n",
      "\tGetHandleVerifier [0x00007FF6FD45A00D+3161901]\n",
      "\tGetHandleVerifier [0x00007FF6FD4AE060+3506048]\n",
      "\tGetHandleVerifier [0x00007FF6FD4A400D+3465005]\n",
      "\tGetHandleVerifier [0x00007FF6FD220EEB+830987]\n",
      "\t(No symbol) [0x00007FF6FD0D467F]\n",
      "\t(No symbol) [0x00007FF6FD0D09D4]\n",
      "\t(No symbol) [0x00007FF6FD0D0B6D]\n",
      "\t(No symbol) [0x00007FF6FD0C0149]\n",
      "\tBaseThreadInitThunk [0x00007FFB7AAA7374+20]\n",
      "\tRtlUserThreadStart [0x00007FFB7C37CC91+33]\n",
      "\n"
     ]
    },
    {
     "name": "stderr",
     "output_type": "stream",
     "text": [
      "Processing URLs:   1%|      | 361/29446 [40:11<52:55:11,  6.55s/it]"
     ]
    },
    {
     "name": "stdout",
     "output_type": "stream",
     "text": [
      "Error fetching URL: https://www.agoda.com/partners/partnersearch.aspx?hid=237358 - Message: no such element: Unable to locate element: {\"method\":\"css selector\",\"selector\":\"a[data-element-name='property-card-content']\"}\n",
      "  (Session info: chrome=130.0.6723.117); For documentation on this error, please visit: https://www.selenium.dev/documentation/webdriver/troubleshooting/errors#no-such-element-exception\n",
      "Stacktrace:\n",
      "\tGetHandleVerifier [0x00007FF6FD4338A5+3004357]\n",
      "\t(No symbol) [0x00007FF6FD0C9970]\n",
      "\t(No symbol) [0x00007FF6FCF7582A]\n",
      "\t(No symbol) [0x00007FF6FCFC5B8E]\n",
      "\t(No symbol) [0x00007FF6FCFC5E7C]\n",
      "\t(No symbol) [0x00007FF6FD00EC27]\n",
      "\t(No symbol) [0x00007FF6FCFEBC1F]\n",
      "\t(No symbol) [0x00007FF6FD00BA4C]\n",
      "\t(No symbol) [0x00007FF6FCFEB983]\n",
      "\t(No symbol) [0x00007FF6FCFB7628]\n",
      "\t(No symbol) [0x00007FF6FCFB8791]\n",
      "\tGetHandleVerifier [0x00007FF6FD45A00D+3161901]\n",
      "\tGetHandleVerifier [0x00007FF6FD4AE060+3506048]\n",
      "\tGetHandleVerifier [0x00007FF6FD4A400D+3465005]\n",
      "\tGetHandleVerifier [0x00007FF6FD220EEB+830987]\n",
      "\t(No symbol) [0x00007FF6FD0D467F]\n",
      "\t(No symbol) [0x00007FF6FD0D09D4]\n",
      "\t(No symbol) [0x00007FF6FD0D0B6D]\n",
      "\t(No symbol) [0x00007FF6FD0C0149]\n",
      "\tBaseThreadInitThunk [0x00007FFB7AAA7374+20]\n",
      "\tRtlUserThreadStart [0x00007FFB7C37CC91+33]\n",
      "\n"
     ]
    },
    {
     "name": "stderr",
     "output_type": "stream",
     "text": [
      "Processing URLs:   1%|      | 362/29446 [40:17<53:15:40,  6.59s/it]"
     ]
    },
    {
     "name": "stdout",
     "output_type": "stream",
     "text": [
      "Error fetching URL: https://www.agoda.com/partners/partnersearch.aspx?hid=237406 - Message: no such element: Unable to locate element: {\"method\":\"css selector\",\"selector\":\"a[data-element-name='property-card-content']\"}\n",
      "  (Session info: chrome=130.0.6723.117); For documentation on this error, please visit: https://www.selenium.dev/documentation/webdriver/troubleshooting/errors#no-such-element-exception\n",
      "Stacktrace:\n",
      "\tGetHandleVerifier [0x00007FF6FD4338A5+3004357]\n",
      "\t(No symbol) [0x00007FF6FD0C9970]\n",
      "\t(No symbol) [0x00007FF6FCF7582A]\n",
      "\t(No symbol) [0x00007FF6FCFC5B8E]\n",
      "\t(No symbol) [0x00007FF6FCFC5E7C]\n",
      "\t(No symbol) [0x00007FF6FD00EC27]\n",
      "\t(No symbol) [0x00007FF6FCFEBC1F]\n",
      "\t(No symbol) [0x00007FF6FD00BA4C]\n",
      "\t(No symbol) [0x00007FF6FCFEB983]\n",
      "\t(No symbol) [0x00007FF6FCFB7628]\n",
      "\t(No symbol) [0x00007FF6FCFB8791]\n",
      "\tGetHandleVerifier [0x00007FF6FD45A00D+3161901]\n",
      "\tGetHandleVerifier [0x00007FF6FD4AE060+3506048]\n",
      "\tGetHandleVerifier [0x00007FF6FD4A400D+3465005]\n",
      "\tGetHandleVerifier [0x00007FF6FD220EEB+830987]\n",
      "\t(No symbol) [0x00007FF6FD0D467F]\n",
      "\t(No symbol) [0x00007FF6FD0D09D4]\n",
      "\t(No symbol) [0x00007FF6FD0D0B6D]\n",
      "\t(No symbol) [0x00007FF6FD0C0149]\n",
      "\tBaseThreadInitThunk [0x00007FFB7AAA7374+20]\n",
      "\tRtlUserThreadStart [0x00007FFB7C37CC91+33]\n",
      "\n"
     ]
    },
    {
     "name": "stderr",
     "output_type": "stream",
     "text": [
      "Processing URLs:   1%|      | 363/29446 [40:24<53:22:52,  6.61s/it]"
     ]
    },
    {
     "name": "stdout",
     "output_type": "stream",
     "text": [
      "Error fetching URL: https://www.agoda.com/partners/partnersearch.aspx?hid=237410 - Message: no such element: Unable to locate element: {\"method\":\"css selector\",\"selector\":\"a[data-element-name='property-card-content']\"}\n",
      "  (Session info: chrome=130.0.6723.117); For documentation on this error, please visit: https://www.selenium.dev/documentation/webdriver/troubleshooting/errors#no-such-element-exception\n",
      "Stacktrace:\n",
      "\tGetHandleVerifier [0x00007FF6FD4338A5+3004357]\n",
      "\t(No symbol) [0x00007FF6FD0C9970]\n",
      "\t(No symbol) [0x00007FF6FCF7582A]\n",
      "\t(No symbol) [0x00007FF6FCFC5B8E]\n",
      "\t(No symbol) [0x00007FF6FCFC5E7C]\n",
      "\t(No symbol) [0x00007FF6FD00EC27]\n",
      "\t(No symbol) [0x00007FF6FCFEBC1F]\n",
      "\t(No symbol) [0x00007FF6FD00BA4C]\n",
      "\t(No symbol) [0x00007FF6FCFEB983]\n",
      "\t(No symbol) [0x00007FF6FCFB7628]\n",
      "\t(No symbol) [0x00007FF6FCFB8791]\n",
      "\tGetHandleVerifier [0x00007FF6FD45A00D+3161901]\n",
      "\tGetHandleVerifier [0x00007FF6FD4AE060+3506048]\n",
      "\tGetHandleVerifier [0x00007FF6FD4A400D+3465005]\n",
      "\tGetHandleVerifier [0x00007FF6FD220EEB+830987]\n",
      "\t(No symbol) [0x00007FF6FD0D467F]\n",
      "\t(No symbol) [0x00007FF6FD0D09D4]\n",
      "\t(No symbol) [0x00007FF6FD0D0B6D]\n",
      "\t(No symbol) [0x00007FF6FD0C0149]\n",
      "\tBaseThreadInitThunk [0x00007FFB7AAA7374+20]\n",
      "\tRtlUserThreadStart [0x00007FFB7C37CC91+33]\n",
      "\n"
     ]
    },
    {
     "name": "stderr",
     "output_type": "stream",
     "text": [
      "Processing URLs:   1%|      | 364/29446 [40:30<52:42:37,  6.52s/it]"
     ]
    },
    {
     "name": "stdout",
     "output_type": "stream",
     "text": [
      "Error fetching URL: https://www.agoda.com/partners/partnersearch.aspx?hid=237429 - Message: no such element: Unable to locate element: {\"method\":\"css selector\",\"selector\":\"a[data-element-name='property-card-content']\"}\n",
      "  (Session info: chrome=130.0.6723.117); For documentation on this error, please visit: https://www.selenium.dev/documentation/webdriver/troubleshooting/errors#no-such-element-exception\n",
      "Stacktrace:\n",
      "\tGetHandleVerifier [0x00007FF6FD4338A5+3004357]\n",
      "\t(No symbol) [0x00007FF6FD0C9970]\n",
      "\t(No symbol) [0x00007FF6FCF7582A]\n",
      "\t(No symbol) [0x00007FF6FCFC5B8E]\n",
      "\t(No symbol) [0x00007FF6FCFC5E7C]\n",
      "\t(No symbol) [0x00007FF6FD00EC27]\n",
      "\t(No symbol) [0x00007FF6FCFEBC1F]\n",
      "\t(No symbol) [0x00007FF6FD00BA4C]\n",
      "\t(No symbol) [0x00007FF6FCFEB983]\n",
      "\t(No symbol) [0x00007FF6FCFB7628]\n",
      "\t(No symbol) [0x00007FF6FCFB8791]\n",
      "\tGetHandleVerifier [0x00007FF6FD45A00D+3161901]\n",
      "\tGetHandleVerifier [0x00007FF6FD4AE060+3506048]\n",
      "\tGetHandleVerifier [0x00007FF6FD4A400D+3465005]\n",
      "\tGetHandleVerifier [0x00007FF6FD220EEB+830987]\n",
      "\t(No symbol) [0x00007FF6FD0D467F]\n",
      "\t(No symbol) [0x00007FF6FD0D09D4]\n",
      "\t(No symbol) [0x00007FF6FD0D0B6D]\n",
      "\t(No symbol) [0x00007FF6FD0C0149]\n",
      "\tBaseThreadInitThunk [0x00007FFB7AAA7374+20]\n",
      "\tRtlUserThreadStart [0x00007FFB7C37CC91+33]\n",
      "\n"
     ]
    },
    {
     "name": "stderr",
     "output_type": "stream",
     "text": [
      "Processing URLs:   1%|      | 366/29446 [40:43<52:44:21,  6.53s/it]"
     ]
    },
    {
     "name": "stdout",
     "output_type": "stream",
     "text": [
      "Error fetching URL: https://www.agoda.com/partners/partnersearch.aspx?hid=237497 - Message: no such element: Unable to locate element: {\"method\":\"css selector\",\"selector\":\"a[data-element-name='property-card-content']\"}\n",
      "  (Session info: chrome=130.0.6723.117); For documentation on this error, please visit: https://www.selenium.dev/documentation/webdriver/troubleshooting/errors#no-such-element-exception\n",
      "Stacktrace:\n",
      "\tGetHandleVerifier [0x00007FF6FD4338A5+3004357]\n",
      "\t(No symbol) [0x00007FF6FD0C9970]\n",
      "\t(No symbol) [0x00007FF6FCF7582A]\n",
      "\t(No symbol) [0x00007FF6FCFC5B8E]\n",
      "\t(No symbol) [0x00007FF6FCFC5E7C]\n",
      "\t(No symbol) [0x00007FF6FD00EC27]\n",
      "\t(No symbol) [0x00007FF6FCFEBC1F]\n",
      "\t(No symbol) [0x00007FF6FD00BA4C]\n",
      "\t(No symbol) [0x00007FF6FCFEB983]\n",
      "\t(No symbol) [0x00007FF6FCFB7628]\n",
      "\t(No symbol) [0x00007FF6FCFB8791]\n",
      "\tGetHandleVerifier [0x00007FF6FD45A00D+3161901]\n",
      "\tGetHandleVerifier [0x00007FF6FD4AE060+3506048]\n",
      "\tGetHandleVerifier [0x00007FF6FD4A400D+3465005]\n",
      "\tGetHandleVerifier [0x00007FF6FD220EEB+830987]\n",
      "\t(No symbol) [0x00007FF6FD0D467F]\n",
      "\t(No symbol) [0x00007FF6FD0D09D4]\n",
      "\t(No symbol) [0x00007FF6FD0D0B6D]\n",
      "\t(No symbol) [0x00007FF6FD0C0149]\n",
      "\tBaseThreadInitThunk [0x00007FFB7AAA7374+20]\n",
      "\tRtlUserThreadStart [0x00007FFB7C37CC91+33]\n",
      "\n"
     ]
    },
    {
     "name": "stderr",
     "output_type": "stream",
     "text": [
      "Processing URLs:   1%|      | 367/29446 [40:50<52:53:15,  6.55s/it]"
     ]
    },
    {
     "name": "stdout",
     "output_type": "stream",
     "text": [
      "Error fetching URL: https://www.agoda.com/partners/partnersearch.aspx?hid=237529 - Message: no such element: Unable to locate element: {\"method\":\"css selector\",\"selector\":\"a[data-element-name='property-card-content']\"}\n",
      "  (Session info: chrome=130.0.6723.117); For documentation on this error, please visit: https://www.selenium.dev/documentation/webdriver/troubleshooting/errors#no-such-element-exception\n",
      "Stacktrace:\n",
      "\tGetHandleVerifier [0x00007FF6FD4338A5+3004357]\n",
      "\t(No symbol) [0x00007FF6FD0C9970]\n",
      "\t(No symbol) [0x00007FF6FCF7582A]\n",
      "\t(No symbol) [0x00007FF6FCFC5B8E]\n",
      "\t(No symbol) [0x00007FF6FCFC5E7C]\n",
      "\t(No symbol) [0x00007FF6FD00EC27]\n",
      "\t(No symbol) [0x00007FF6FCFEBC1F]\n",
      "\t(No symbol) [0x00007FF6FD00BA4C]\n",
      "\t(No symbol) [0x00007FF6FCFEB983]\n",
      "\t(No symbol) [0x00007FF6FCFB7628]\n",
      "\t(No symbol) [0x00007FF6FCFB8791]\n",
      "\tGetHandleVerifier [0x00007FF6FD45A00D+3161901]\n",
      "\tGetHandleVerifier [0x00007FF6FD4AE060+3506048]\n",
      "\tGetHandleVerifier [0x00007FF6FD4A400D+3465005]\n",
      "\tGetHandleVerifier [0x00007FF6FD220EEB+830987]\n",
      "\t(No symbol) [0x00007FF6FD0D467F]\n",
      "\t(No symbol) [0x00007FF6FD0D09D4]\n",
      "\t(No symbol) [0x00007FF6FD0D0B6D]\n",
      "\t(No symbol) [0x00007FF6FD0C0149]\n",
      "\tBaseThreadInitThunk [0x00007FFB7AAA7374+20]\n",
      "\tRtlUserThreadStart [0x00007FFB7C37CC91+33]\n",
      "\n"
     ]
    },
    {
     "name": "stderr",
     "output_type": "stream",
     "text": [
      "Processing URLs:   1%|      | 368/29446 [40:56<53:10:17,  6.58s/it]"
     ]
    },
    {
     "name": "stdout",
     "output_type": "stream",
     "text": [
      "Error fetching URL: https://www.agoda.com/partners/partnersearch.aspx?hid=237610 - Message: no such element: Unable to locate element: {\"method\":\"css selector\",\"selector\":\"a[data-element-name='property-card-content']\"}\n",
      "  (Session info: chrome=130.0.6723.117); For documentation on this error, please visit: https://www.selenium.dev/documentation/webdriver/troubleshooting/errors#no-such-element-exception\n",
      "Stacktrace:\n",
      "\tGetHandleVerifier [0x00007FF6FD4338A5+3004357]\n",
      "\t(No symbol) [0x00007FF6FD0C9970]\n",
      "\t(No symbol) [0x00007FF6FCF7582A]\n",
      "\t(No symbol) [0x00007FF6FCFC5B8E]\n",
      "\t(No symbol) [0x00007FF6FCFC5E7C]\n",
      "\t(No symbol) [0x00007FF6FD00EC27]\n",
      "\t(No symbol) [0x00007FF6FCFEBC1F]\n",
      "\t(No symbol) [0x00007FF6FD00BA4C]\n",
      "\t(No symbol) [0x00007FF6FCFEB983]\n",
      "\t(No symbol) [0x00007FF6FCFB7628]\n",
      "\t(No symbol) [0x00007FF6FCFB8791]\n",
      "\tGetHandleVerifier [0x00007FF6FD45A00D+3161901]\n",
      "\tGetHandleVerifier [0x00007FF6FD4AE060+3506048]\n",
      "\tGetHandleVerifier [0x00007FF6FD4A400D+3465005]\n",
      "\tGetHandleVerifier [0x00007FF6FD220EEB+830987]\n",
      "\t(No symbol) [0x00007FF6FD0D467F]\n",
      "\t(No symbol) [0x00007FF6FD0D09D4]\n",
      "\t(No symbol) [0x00007FF6FD0D0B6D]\n",
      "\t(No symbol) [0x00007FF6FD0C0149]\n",
      "\tBaseThreadInitThunk [0x00007FFB7AAA7374+20]\n",
      "\tRtlUserThreadStart [0x00007FFB7C37CC91+33]\n",
      "\n"
     ]
    },
    {
     "name": "stderr",
     "output_type": "stream",
     "text": [
      "Processing URLs:   1%|      | 370/29446 [41:10<53:33:58,  6.63s/it]"
     ]
    },
    {
     "name": "stdout",
     "output_type": "stream",
     "text": [
      "Error fetching URL: https://www.agoda.com/partners/partnersearch.aspx?hid=237729 - Message: no such element: Unable to locate element: {\"method\":\"css selector\",\"selector\":\"a[data-element-name='property-card-content']\"}\n",
      "  (Session info: chrome=130.0.6723.117); For documentation on this error, please visit: https://www.selenium.dev/documentation/webdriver/troubleshooting/errors#no-such-element-exception\n",
      "Stacktrace:\n",
      "\tGetHandleVerifier [0x00007FF6FD4338A5+3004357]\n",
      "\t(No symbol) [0x00007FF6FD0C9970]\n",
      "\t(No symbol) [0x00007FF6FCF7582A]\n",
      "\t(No symbol) [0x00007FF6FCFC5B8E]\n",
      "\t(No symbol) [0x00007FF6FCFC5E7C]\n",
      "\t(No symbol) [0x00007FF6FD00EC27]\n",
      "\t(No symbol) [0x00007FF6FCFEBC1F]\n",
      "\t(No symbol) [0x00007FF6FD00BA4C]\n",
      "\t(No symbol) [0x00007FF6FCFEB983]\n",
      "\t(No symbol) [0x00007FF6FCFB7628]\n",
      "\t(No symbol) [0x00007FF6FCFB8791]\n",
      "\tGetHandleVerifier [0x00007FF6FD45A00D+3161901]\n",
      "\tGetHandleVerifier [0x00007FF6FD4AE060+3506048]\n",
      "\tGetHandleVerifier [0x00007FF6FD4A400D+3465005]\n",
      "\tGetHandleVerifier [0x00007FF6FD220EEB+830987]\n",
      "\t(No symbol) [0x00007FF6FD0D467F]\n",
      "\t(No symbol) [0x00007FF6FD0D09D4]\n",
      "\t(No symbol) [0x00007FF6FD0D0B6D]\n",
      "\t(No symbol) [0x00007FF6FD0C0149]\n",
      "\tBaseThreadInitThunk [0x00007FFB7AAA7374+20]\n",
      "\tRtlUserThreadStart [0x00007FFB7C37CC91+33]\n",
      "\n"
     ]
    },
    {
     "name": "stderr",
     "output_type": "stream",
     "text": [
      "Processing URLs:   1%|      | 374/29446 [41:36<53:14:23,  6.59s/it]"
     ]
    },
    {
     "name": "stdout",
     "output_type": "stream",
     "text": [
      "Error fetching URL: https://www.agoda.com/partners/partnersearch.aspx?hid=237764 - Message: no such element: Unable to locate element: {\"method\":\"css selector\",\"selector\":\"a[data-element-name='property-card-content']\"}\n",
      "  (Session info: chrome=130.0.6723.117); For documentation on this error, please visit: https://www.selenium.dev/documentation/webdriver/troubleshooting/errors#no-such-element-exception\n",
      "Stacktrace:\n",
      "\tGetHandleVerifier [0x00007FF6FD4338A5+3004357]\n",
      "\t(No symbol) [0x00007FF6FD0C9970]\n",
      "\t(No symbol) [0x00007FF6FCF7582A]\n",
      "\t(No symbol) [0x00007FF6FCFC5B8E]\n",
      "\t(No symbol) [0x00007FF6FCFC5E7C]\n",
      "\t(No symbol) [0x00007FF6FD00EC27]\n",
      "\t(No symbol) [0x00007FF6FCFEBC1F]\n",
      "\t(No symbol) [0x00007FF6FD00BA4C]\n",
      "\t(No symbol) [0x00007FF6FCFEB983]\n",
      "\t(No symbol) [0x00007FF6FCFB7628]\n",
      "\t(No symbol) [0x00007FF6FCFB8791]\n",
      "\tGetHandleVerifier [0x00007FF6FD45A00D+3161901]\n",
      "\tGetHandleVerifier [0x00007FF6FD4AE060+3506048]\n",
      "\tGetHandleVerifier [0x00007FF6FD4A400D+3465005]\n",
      "\tGetHandleVerifier [0x00007FF6FD220EEB+830987]\n",
      "\t(No symbol) [0x00007FF6FD0D467F]\n",
      "\t(No symbol) [0x00007FF6FD0D09D4]\n",
      "\t(No symbol) [0x00007FF6FD0D0B6D]\n",
      "\t(No symbol) [0x00007FF6FD0C0149]\n",
      "\tBaseThreadInitThunk [0x00007FFB7AAA7374+20]\n",
      "\tRtlUserThreadStart [0x00007FFB7C37CC91+33]\n",
      "\n"
     ]
    },
    {
     "name": "stderr",
     "output_type": "stream",
     "text": [
      "Processing URLs:   1%|      | 375/29446 [41:43<53:06:35,  6.58s/it]"
     ]
    },
    {
     "name": "stdout",
     "output_type": "stream",
     "text": [
      "Error fetching URL: https://www.agoda.com/partners/partnersearch.aspx?hid=237790 - Message: no such element: Unable to locate element: {\"method\":\"css selector\",\"selector\":\"a[data-element-name='property-card-content']\"}\n",
      "  (Session info: chrome=130.0.6723.117); For documentation on this error, please visit: https://www.selenium.dev/documentation/webdriver/troubleshooting/errors#no-such-element-exception\n",
      "Stacktrace:\n",
      "\tGetHandleVerifier [0x00007FF6FD4338A5+3004357]\n",
      "\t(No symbol) [0x00007FF6FD0C9970]\n",
      "\t(No symbol) [0x00007FF6FCF7582A]\n",
      "\t(No symbol) [0x00007FF6FCFC5B8E]\n",
      "\t(No symbol) [0x00007FF6FCFC5E7C]\n",
      "\t(No symbol) [0x00007FF6FD00EC27]\n",
      "\t(No symbol) [0x00007FF6FCFEBC1F]\n",
      "\t(No symbol) [0x00007FF6FD00BA4C]\n",
      "\t(No symbol) [0x00007FF6FCFEB983]\n",
      "\t(No symbol) [0x00007FF6FCFB7628]\n",
      "\t(No symbol) [0x00007FF6FCFB8791]\n",
      "\tGetHandleVerifier [0x00007FF6FD45A00D+3161901]\n",
      "\tGetHandleVerifier [0x00007FF6FD4AE060+3506048]\n",
      "\tGetHandleVerifier [0x00007FF6FD4A400D+3465005]\n",
      "\tGetHandleVerifier [0x00007FF6FD220EEB+830987]\n",
      "\t(No symbol) [0x00007FF6FD0D467F]\n",
      "\t(No symbol) [0x00007FF6FD0D09D4]\n",
      "\t(No symbol) [0x00007FF6FD0D0B6D]\n",
      "\t(No symbol) [0x00007FF6FD0C0149]\n",
      "\tBaseThreadInitThunk [0x00007FFB7AAA7374+20]\n",
      "\tRtlUserThreadStart [0x00007FFB7C37CC91+33]\n",
      "\n"
     ]
    },
    {
     "name": "stderr",
     "output_type": "stream",
     "text": [
      "Processing URLs:   1%|      | 377/29446 [41:55<52:37:59,  6.52s/it]"
     ]
    },
    {
     "name": "stdout",
     "output_type": "stream",
     "text": [
      "Error fetching URL: https://www.agoda.com/partners/partnersearch.aspx?hid=237812 - Message: no such element: Unable to locate element: {\"method\":\"css selector\",\"selector\":\"a[data-element-name='property-card-content']\"}\n",
      "  (Session info: chrome=130.0.6723.117); For documentation on this error, please visit: https://www.selenium.dev/documentation/webdriver/troubleshooting/errors#no-such-element-exception\n",
      "Stacktrace:\n",
      "\tGetHandleVerifier [0x00007FF6FD4338A5+3004357]\n",
      "\t(No symbol) [0x00007FF6FD0C9970]\n",
      "\t(No symbol) [0x00007FF6FCF7582A]\n",
      "\t(No symbol) [0x00007FF6FCFC5B8E]\n",
      "\t(No symbol) [0x00007FF6FCFC5E7C]\n",
      "\t(No symbol) [0x00007FF6FD00EC27]\n",
      "\t(No symbol) [0x00007FF6FCFEBC1F]\n",
      "\t(No symbol) [0x00007FF6FD00BA4C]\n",
      "\t(No symbol) [0x00007FF6FCFEB983]\n",
      "\t(No symbol) [0x00007FF6FCFB7628]\n",
      "\t(No symbol) [0x00007FF6FCFB8791]\n",
      "\tGetHandleVerifier [0x00007FF6FD45A00D+3161901]\n",
      "\tGetHandleVerifier [0x00007FF6FD4AE060+3506048]\n",
      "\tGetHandleVerifier [0x00007FF6FD4A400D+3465005]\n",
      "\tGetHandleVerifier [0x00007FF6FD220EEB+830987]\n",
      "\t(No symbol) [0x00007FF6FD0D467F]\n",
      "\t(No symbol) [0x00007FF6FD0D09D4]\n",
      "\t(No symbol) [0x00007FF6FD0D0B6D]\n",
      "\t(No symbol) [0x00007FF6FD0C0149]\n",
      "\tBaseThreadInitThunk [0x00007FFB7AAA7374+20]\n",
      "\tRtlUserThreadStart [0x00007FFB7C37CC91+33]\n",
      "\n"
     ]
    },
    {
     "name": "stderr",
     "output_type": "stream",
     "text": [
      "Processing URLs:   1%|      | 378/29446 [42:02<52:13:38,  6.47s/it]"
     ]
    },
    {
     "name": "stdout",
     "output_type": "stream",
     "text": [
      "Error fetching URL: https://www.agoda.com/partners/partnersearch.aspx?hid=237925 - Message: no such element: Unable to locate element: {\"method\":\"css selector\",\"selector\":\"a[data-element-name='property-card-content']\"}\n",
      "  (Session info: chrome=130.0.6723.117); For documentation on this error, please visit: https://www.selenium.dev/documentation/webdriver/troubleshooting/errors#no-such-element-exception\n",
      "Stacktrace:\n",
      "\tGetHandleVerifier [0x00007FF6FD4338A5+3004357]\n",
      "\t(No symbol) [0x00007FF6FD0C9970]\n",
      "\t(No symbol) [0x00007FF6FCF7582A]\n",
      "\t(No symbol) [0x00007FF6FCFC5B8E]\n",
      "\t(No symbol) [0x00007FF6FCFC5E7C]\n",
      "\t(No symbol) [0x00007FF6FD00EC27]\n",
      "\t(No symbol) [0x00007FF6FCFEBC1F]\n",
      "\t(No symbol) [0x00007FF6FD00BA4C]\n",
      "\t(No symbol) [0x00007FF6FCFEB983]\n",
      "\t(No symbol) [0x00007FF6FCFB7628]\n",
      "\t(No symbol) [0x00007FF6FCFB8791]\n",
      "\tGetHandleVerifier [0x00007FF6FD45A00D+3161901]\n",
      "\tGetHandleVerifier [0x00007FF6FD4AE060+3506048]\n",
      "\tGetHandleVerifier [0x00007FF6FD4A400D+3465005]\n",
      "\tGetHandleVerifier [0x00007FF6FD220EEB+830987]\n",
      "\t(No symbol) [0x00007FF6FD0D467F]\n",
      "\t(No symbol) [0x00007FF6FD0D09D4]\n",
      "\t(No symbol) [0x00007FF6FD0D0B6D]\n",
      "\t(No symbol) [0x00007FF6FD0C0149]\n",
      "\tBaseThreadInitThunk [0x00007FFB7AAA7374+20]\n",
      "\tRtlUserThreadStart [0x00007FFB7C37CC91+33]\n",
      "\n"
     ]
    },
    {
     "name": "stderr",
     "output_type": "stream",
     "text": [
      "Processing URLs:   1%|      | 379/29446 [42:08<52:34:20,  6.51s/it]"
     ]
    },
    {
     "name": "stdout",
     "output_type": "stream",
     "text": [
      "Error fetching URL: https://www.agoda.com/partners/partnersearch.aspx?hid=238009 - Message: no such element: Unable to locate element: {\"method\":\"css selector\",\"selector\":\"a[data-element-name='property-card-content']\"}\n",
      "  (Session info: chrome=130.0.6723.117); For documentation on this error, please visit: https://www.selenium.dev/documentation/webdriver/troubleshooting/errors#no-such-element-exception\n",
      "Stacktrace:\n",
      "\tGetHandleVerifier [0x00007FF6FD4338A5+3004357]\n",
      "\t(No symbol) [0x00007FF6FD0C9970]\n",
      "\t(No symbol) [0x00007FF6FCF7582A]\n",
      "\t(No symbol) [0x00007FF6FCFC5B8E]\n",
      "\t(No symbol) [0x00007FF6FCFC5E7C]\n",
      "\t(No symbol) [0x00007FF6FD00EC27]\n",
      "\t(No symbol) [0x00007FF6FCFEBC1F]\n",
      "\t(No symbol) [0x00007FF6FD00BA4C]\n",
      "\t(No symbol) [0x00007FF6FCFEB983]\n",
      "\t(No symbol) [0x00007FF6FCFB7628]\n",
      "\t(No symbol) [0x00007FF6FCFB8791]\n",
      "\tGetHandleVerifier [0x00007FF6FD45A00D+3161901]\n",
      "\tGetHandleVerifier [0x00007FF6FD4AE060+3506048]\n",
      "\tGetHandleVerifier [0x00007FF6FD4A400D+3465005]\n",
      "\tGetHandleVerifier [0x00007FF6FD220EEB+830987]\n",
      "\t(No symbol) [0x00007FF6FD0D467F]\n",
      "\t(No symbol) [0x00007FF6FD0D09D4]\n",
      "\t(No symbol) [0x00007FF6FD0D0B6D]\n",
      "\t(No symbol) [0x00007FF6FD0C0149]\n",
      "\tBaseThreadInitThunk [0x00007FFB7AAA7374+20]\n",
      "\tRtlUserThreadStart [0x00007FFB7C37CC91+33]\n",
      "\n"
     ]
    },
    {
     "name": "stderr",
     "output_type": "stream",
     "text": [
      "Processing URLs:   1%|      | 380/29446 [42:15<52:00:18,  6.44s/it]"
     ]
    },
    {
     "name": "stdout",
     "output_type": "stream",
     "text": [
      "Error fetching URL: https://www.agoda.com/partners/partnersearch.aspx?hid=238037 - Message: no such element: Unable to locate element: {\"method\":\"css selector\",\"selector\":\"a[data-element-name='property-card-content']\"}\n",
      "  (Session info: chrome=130.0.6723.117); For documentation on this error, please visit: https://www.selenium.dev/documentation/webdriver/troubleshooting/errors#no-such-element-exception\n",
      "Stacktrace:\n",
      "\tGetHandleVerifier [0x00007FF6FD4338A5+3004357]\n",
      "\t(No symbol) [0x00007FF6FD0C9970]\n",
      "\t(No symbol) [0x00007FF6FCF7582A]\n",
      "\t(No symbol) [0x00007FF6FCFC5B8E]\n",
      "\t(No symbol) [0x00007FF6FCFC5E7C]\n",
      "\t(No symbol) [0x00007FF6FD00EC27]\n",
      "\t(No symbol) [0x00007FF6FCFEBC1F]\n",
      "\t(No symbol) [0x00007FF6FD00BA4C]\n",
      "\t(No symbol) [0x00007FF6FCFEB983]\n",
      "\t(No symbol) [0x00007FF6FCFB7628]\n",
      "\t(No symbol) [0x00007FF6FCFB8791]\n",
      "\tGetHandleVerifier [0x00007FF6FD45A00D+3161901]\n",
      "\tGetHandleVerifier [0x00007FF6FD4AE060+3506048]\n",
      "\tGetHandleVerifier [0x00007FF6FD4A400D+3465005]\n",
      "\tGetHandleVerifier [0x00007FF6FD220EEB+830987]\n",
      "\t(No symbol) [0x00007FF6FD0D467F]\n",
      "\t(No symbol) [0x00007FF6FD0D09D4]\n",
      "\t(No symbol) [0x00007FF6FD0D0B6D]\n",
      "\t(No symbol) [0x00007FF6FD0C0149]\n",
      "\tBaseThreadInitThunk [0x00007FFB7AAA7374+20]\n",
      "\tRtlUserThreadStart [0x00007FFB7C37CC91+33]\n",
      "\n"
     ]
    },
    {
     "name": "stderr",
     "output_type": "stream",
     "text": [
      "Processing URLs:   1%|      | 381/29446 [42:21<52:05:08,  6.45s/it]"
     ]
    },
    {
     "name": "stdout",
     "output_type": "stream",
     "text": [
      "Error fetching URL: https://www.agoda.com/partners/partnersearch.aspx?hid=239368 - Message: no such element: Unable to locate element: {\"method\":\"css selector\",\"selector\":\"a[data-element-name='property-card-content']\"}\n",
      "  (Session info: chrome=130.0.6723.117); For documentation on this error, please visit: https://www.selenium.dev/documentation/webdriver/troubleshooting/errors#no-such-element-exception\n",
      "Stacktrace:\n",
      "\tGetHandleVerifier [0x00007FF6FD4338A5+3004357]\n",
      "\t(No symbol) [0x00007FF6FD0C9970]\n",
      "\t(No symbol) [0x00007FF6FCF7582A]\n",
      "\t(No symbol) [0x00007FF6FCFC5B8E]\n",
      "\t(No symbol) [0x00007FF6FCFC5E7C]\n",
      "\t(No symbol) [0x00007FF6FD00EC27]\n",
      "\t(No symbol) [0x00007FF6FCFEBC1F]\n",
      "\t(No symbol) [0x00007FF6FD00BA4C]\n",
      "\t(No symbol) [0x00007FF6FCFEB983]\n",
      "\t(No symbol) [0x00007FF6FCFB7628]\n",
      "\t(No symbol) [0x00007FF6FCFB8791]\n",
      "\tGetHandleVerifier [0x00007FF6FD45A00D+3161901]\n",
      "\tGetHandleVerifier [0x00007FF6FD4AE060+3506048]\n",
      "\tGetHandleVerifier [0x00007FF6FD4A400D+3465005]\n",
      "\tGetHandleVerifier [0x00007FF6FD220EEB+830987]\n",
      "\t(No symbol) [0x00007FF6FD0D467F]\n",
      "\t(No symbol) [0x00007FF6FD0D09D4]\n",
      "\t(No symbol) [0x00007FF6FD0D0B6D]\n",
      "\t(No symbol) [0x00007FF6FD0C0149]\n",
      "\tBaseThreadInitThunk [0x00007FFB7AAA7374+20]\n",
      "\tRtlUserThreadStart [0x00007FFB7C37CC91+33]\n",
      "\n"
     ]
    },
    {
     "name": "stderr",
     "output_type": "stream",
     "text": [
      "Processing URLs:   1%|      | 382/29446 [42:28<52:25:03,  6.49s/it]"
     ]
    },
    {
     "name": "stdout",
     "output_type": "stream",
     "text": [
      "Error fetching URL: https://www.agoda.com/partners/partnersearch.aspx?hid=239406 - Message: no such element: Unable to locate element: {\"method\":\"css selector\",\"selector\":\"a[data-element-name='property-card-content']\"}\n",
      "  (Session info: chrome=130.0.6723.117); For documentation on this error, please visit: https://www.selenium.dev/documentation/webdriver/troubleshooting/errors#no-such-element-exception\n",
      "Stacktrace:\n",
      "\tGetHandleVerifier [0x00007FF6FD4338A5+3004357]\n",
      "\t(No symbol) [0x00007FF6FD0C9970]\n",
      "\t(No symbol) [0x00007FF6FCF7582A]\n",
      "\t(No symbol) [0x00007FF6FCFC5B8E]\n",
      "\t(No symbol) [0x00007FF6FCFC5E7C]\n",
      "\t(No symbol) [0x00007FF6FD00EC27]\n",
      "\t(No symbol) [0x00007FF6FCFEBC1F]\n",
      "\t(No symbol) [0x00007FF6FD00BA4C]\n",
      "\t(No symbol) [0x00007FF6FCFEB983]\n",
      "\t(No symbol) [0x00007FF6FCFB7628]\n",
      "\t(No symbol) [0x00007FF6FCFB8791]\n",
      "\tGetHandleVerifier [0x00007FF6FD45A00D+3161901]\n",
      "\tGetHandleVerifier [0x00007FF6FD4AE060+3506048]\n",
      "\tGetHandleVerifier [0x00007FF6FD4A400D+3465005]\n",
      "\tGetHandleVerifier [0x00007FF6FD220EEB+830987]\n",
      "\t(No symbol) [0x00007FF6FD0D467F]\n",
      "\t(No symbol) [0x00007FF6FD0D09D4]\n",
      "\t(No symbol) [0x00007FF6FD0D0B6D]\n",
      "\t(No symbol) [0x00007FF6FD0C0149]\n",
      "\tBaseThreadInitThunk [0x00007FFB7AAA7374+20]\n",
      "\tRtlUserThreadStart [0x00007FFB7C37CC91+33]\n",
      "\n"
     ]
    },
    {
     "name": "stderr",
     "output_type": "stream",
     "text": [
      "Processing URLs:   1%|      | 383/29446 [42:34<52:13:31,  6.47s/it]"
     ]
    },
    {
     "name": "stdout",
     "output_type": "stream",
     "text": [
      "Error fetching URL: https://www.agoda.com/partners/partnersearch.aspx?hid=239407 - Message: no such element: Unable to locate element: {\"method\":\"css selector\",\"selector\":\"a[data-element-name='property-card-content']\"}\n",
      "  (Session info: chrome=130.0.6723.117); For documentation on this error, please visit: https://www.selenium.dev/documentation/webdriver/troubleshooting/errors#no-such-element-exception\n",
      "Stacktrace:\n",
      "\tGetHandleVerifier [0x00007FF6FD4338A5+3004357]\n",
      "\t(No symbol) [0x00007FF6FD0C9970]\n",
      "\t(No symbol) [0x00007FF6FCF7582A]\n",
      "\t(No symbol) [0x00007FF6FCFC5B8E]\n",
      "\t(No symbol) [0x00007FF6FCFC5E7C]\n",
      "\t(No symbol) [0x00007FF6FD00EC27]\n",
      "\t(No symbol) [0x00007FF6FCFEBC1F]\n",
      "\t(No symbol) [0x00007FF6FD00BA4C]\n",
      "\t(No symbol) [0x00007FF6FCFEB983]\n",
      "\t(No symbol) [0x00007FF6FCFB7628]\n",
      "\t(No symbol) [0x00007FF6FCFB8791]\n",
      "\tGetHandleVerifier [0x00007FF6FD45A00D+3161901]\n",
      "\tGetHandleVerifier [0x00007FF6FD4AE060+3506048]\n",
      "\tGetHandleVerifier [0x00007FF6FD4A400D+3465005]\n",
      "\tGetHandleVerifier [0x00007FF6FD220EEB+830987]\n",
      "\t(No symbol) [0x00007FF6FD0D467F]\n",
      "\t(No symbol) [0x00007FF6FD0D09D4]\n",
      "\t(No symbol) [0x00007FF6FD0D0B6D]\n",
      "\t(No symbol) [0x00007FF6FD0C0149]\n",
      "\tBaseThreadInitThunk [0x00007FFB7AAA7374+20]\n",
      "\tRtlUserThreadStart [0x00007FFB7C37CC91+33]\n",
      "\n"
     ]
    },
    {
     "name": "stderr",
     "output_type": "stream",
     "text": [
      "Processing URLs:   1%|      | 384/29446 [42:41<52:34:38,  6.51s/it]"
     ]
    },
    {
     "name": "stdout",
     "output_type": "stream",
     "text": [
      "Error fetching URL: https://www.agoda.com/partners/partnersearch.aspx?hid=239408 - Message: no such element: Unable to locate element: {\"method\":\"css selector\",\"selector\":\"a[data-element-name='property-card-content']\"}\n",
      "  (Session info: chrome=130.0.6723.117); For documentation on this error, please visit: https://www.selenium.dev/documentation/webdriver/troubleshooting/errors#no-such-element-exception\n",
      "Stacktrace:\n",
      "\tGetHandleVerifier [0x00007FF6FD4338A5+3004357]\n",
      "\t(No symbol) [0x00007FF6FD0C9970]\n",
      "\t(No symbol) [0x00007FF6FCF7582A]\n",
      "\t(No symbol) [0x00007FF6FCFC5B8E]\n",
      "\t(No symbol) [0x00007FF6FCFC5E7C]\n",
      "\t(No symbol) [0x00007FF6FD00EC27]\n",
      "\t(No symbol) [0x00007FF6FCFEBC1F]\n",
      "\t(No symbol) [0x00007FF6FD00BA4C]\n",
      "\t(No symbol) [0x00007FF6FCFEB983]\n",
      "\t(No symbol) [0x00007FF6FCFB7628]\n",
      "\t(No symbol) [0x00007FF6FCFB8791]\n",
      "\tGetHandleVerifier [0x00007FF6FD45A00D+3161901]\n",
      "\tGetHandleVerifier [0x00007FF6FD4AE060+3506048]\n",
      "\tGetHandleVerifier [0x00007FF6FD4A400D+3465005]\n",
      "\tGetHandleVerifier [0x00007FF6FD220EEB+830987]\n",
      "\t(No symbol) [0x00007FF6FD0D467F]\n",
      "\t(No symbol) [0x00007FF6FD0D09D4]\n",
      "\t(No symbol) [0x00007FF6FD0D0B6D]\n",
      "\t(No symbol) [0x00007FF6FD0C0149]\n",
      "\tBaseThreadInitThunk [0x00007FFB7AAA7374+20]\n",
      "\tRtlUserThreadStart [0x00007FFB7C37CC91+33]\n",
      "\n"
     ]
    },
    {
     "name": "stderr",
     "output_type": "stream",
     "text": [
      "Processing URLs:   1%|      | 385/29446 [42:47<52:16:31,  6.48s/it]"
     ]
    },
    {
     "name": "stdout",
     "output_type": "stream",
     "text": [
      "Error fetching URL: https://www.agoda.com/partners/partnersearch.aspx?hid=239419 - Message: no such element: Unable to locate element: {\"method\":\"css selector\",\"selector\":\"a[data-element-name='property-card-content']\"}\n",
      "  (Session info: chrome=130.0.6723.117); For documentation on this error, please visit: https://www.selenium.dev/documentation/webdriver/troubleshooting/errors#no-such-element-exception\n",
      "Stacktrace:\n",
      "\tGetHandleVerifier [0x00007FF6FD4338A5+3004357]\n",
      "\t(No symbol) [0x00007FF6FD0C9970]\n",
      "\t(No symbol) [0x00007FF6FCF7582A]\n",
      "\t(No symbol) [0x00007FF6FCFC5B8E]\n",
      "\t(No symbol) [0x00007FF6FCFC5E7C]\n",
      "\t(No symbol) [0x00007FF6FD00EC27]\n",
      "\t(No symbol) [0x00007FF6FCFEBC1F]\n",
      "\t(No symbol) [0x00007FF6FD00BA4C]\n",
      "\t(No symbol) [0x00007FF6FCFEB983]\n",
      "\t(No symbol) [0x00007FF6FCFB7628]\n",
      "\t(No symbol) [0x00007FF6FCFB8791]\n",
      "\tGetHandleVerifier [0x00007FF6FD45A00D+3161901]\n",
      "\tGetHandleVerifier [0x00007FF6FD4AE060+3506048]\n",
      "\tGetHandleVerifier [0x00007FF6FD4A400D+3465005]\n",
      "\tGetHandleVerifier [0x00007FF6FD220EEB+830987]\n",
      "\t(No symbol) [0x00007FF6FD0D467F]\n",
      "\t(No symbol) [0x00007FF6FD0D09D4]\n",
      "\t(No symbol) [0x00007FF6FD0D0B6D]\n",
      "\t(No symbol) [0x00007FF6FD0C0149]\n",
      "\tBaseThreadInitThunk [0x00007FFB7AAA7374+20]\n",
      "\tRtlUserThreadStart [0x00007FFB7C37CC91+33]\n",
      "\n"
     ]
    },
    {
     "name": "stderr",
     "output_type": "stream",
     "text": [
      "Processing URLs:   1%|      | 386/29446 [42:53<51:52:42,  6.43s/it]"
     ]
    },
    {
     "name": "stdout",
     "output_type": "stream",
     "text": [
      "Error fetching URL: https://www.agoda.com/partners/partnersearch.aspx?hid=239422 - Message: no such element: Unable to locate element: {\"method\":\"css selector\",\"selector\":\"a[data-element-name='property-card-content']\"}\n",
      "  (Session info: chrome=130.0.6723.117); For documentation on this error, please visit: https://www.selenium.dev/documentation/webdriver/troubleshooting/errors#no-such-element-exception\n",
      "Stacktrace:\n",
      "\tGetHandleVerifier [0x00007FF6FD4338A5+3004357]\n",
      "\t(No symbol) [0x00007FF6FD0C9970]\n",
      "\t(No symbol) [0x00007FF6FCF7582A]\n",
      "\t(No symbol) [0x00007FF6FCFC5B8E]\n",
      "\t(No symbol) [0x00007FF6FCFC5E7C]\n",
      "\t(No symbol) [0x00007FF6FD00EC27]\n",
      "\t(No symbol) [0x00007FF6FCFEBC1F]\n",
      "\t(No symbol) [0x00007FF6FD00BA4C]\n",
      "\t(No symbol) [0x00007FF6FCFEB983]\n",
      "\t(No symbol) [0x00007FF6FCFB7628]\n",
      "\t(No symbol) [0x00007FF6FCFB8791]\n",
      "\tGetHandleVerifier [0x00007FF6FD45A00D+3161901]\n",
      "\tGetHandleVerifier [0x00007FF6FD4AE060+3506048]\n",
      "\tGetHandleVerifier [0x00007FF6FD4A400D+3465005]\n",
      "\tGetHandleVerifier [0x00007FF6FD220EEB+830987]\n",
      "\t(No symbol) [0x00007FF6FD0D467F]\n",
      "\t(No symbol) [0x00007FF6FD0D09D4]\n",
      "\t(No symbol) [0x00007FF6FD0D0B6D]\n",
      "\t(No symbol) [0x00007FF6FD0C0149]\n",
      "\tBaseThreadInitThunk [0x00007FFB7AAA7374+20]\n",
      "\tRtlUserThreadStart [0x00007FFB7C37CC91+33]\n",
      "\n"
     ]
    },
    {
     "name": "stderr",
     "output_type": "stream",
     "text": [
      "Processing URLs:   1%|      | 387/29446 [43:00<51:46:13,  6.41s/it]"
     ]
    },
    {
     "name": "stdout",
     "output_type": "stream",
     "text": [
      "Error fetching URL: https://www.agoda.com/partners/partnersearch.aspx?hid=239423 - Message: no such element: Unable to locate element: {\"method\":\"css selector\",\"selector\":\"a[data-element-name='property-card-content']\"}\n",
      "  (Session info: chrome=130.0.6723.117); For documentation on this error, please visit: https://www.selenium.dev/documentation/webdriver/troubleshooting/errors#no-such-element-exception\n",
      "Stacktrace:\n",
      "\tGetHandleVerifier [0x00007FF6FD4338A5+3004357]\n",
      "\t(No symbol) [0x00007FF6FD0C9970]\n",
      "\t(No symbol) [0x00007FF6FCF7582A]\n",
      "\t(No symbol) [0x00007FF6FCFC5B8E]\n",
      "\t(No symbol) [0x00007FF6FCFC5E7C]\n",
      "\t(No symbol) [0x00007FF6FD00EC27]\n",
      "\t(No symbol) [0x00007FF6FCFEBC1F]\n",
      "\t(No symbol) [0x00007FF6FD00BA4C]\n",
      "\t(No symbol) [0x00007FF6FCFEB983]\n",
      "\t(No symbol) [0x00007FF6FCFB7628]\n",
      "\t(No symbol) [0x00007FF6FCFB8791]\n",
      "\tGetHandleVerifier [0x00007FF6FD45A00D+3161901]\n",
      "\tGetHandleVerifier [0x00007FF6FD4AE060+3506048]\n",
      "\tGetHandleVerifier [0x00007FF6FD4A400D+3465005]\n",
      "\tGetHandleVerifier [0x00007FF6FD220EEB+830987]\n",
      "\t(No symbol) [0x00007FF6FD0D467F]\n",
      "\t(No symbol) [0x00007FF6FD0D09D4]\n",
      "\t(No symbol) [0x00007FF6FD0D0B6D]\n",
      "\t(No symbol) [0x00007FF6FD0C0149]\n",
      "\tBaseThreadInitThunk [0x00007FFB7AAA7374+20]\n",
      "\tRtlUserThreadStart [0x00007FFB7C37CC91+33]\n",
      "\n"
     ]
    },
    {
     "name": "stderr",
     "output_type": "stream",
     "text": [
      "Processing URLs:   1%|      | 388/29446 [43:06<51:44:47,  6.41s/it]"
     ]
    },
    {
     "name": "stdout",
     "output_type": "stream",
     "text": [
      "Error fetching URL: https://www.agoda.com/partners/partnersearch.aspx?hid=239449 - Message: no such element: Unable to locate element: {\"method\":\"css selector\",\"selector\":\"a[data-element-name='property-card-content']\"}\n",
      "  (Session info: chrome=130.0.6723.117); For documentation on this error, please visit: https://www.selenium.dev/documentation/webdriver/troubleshooting/errors#no-such-element-exception\n",
      "Stacktrace:\n",
      "\tGetHandleVerifier [0x00007FF6FD4338A5+3004357]\n",
      "\t(No symbol) [0x00007FF6FD0C9970]\n",
      "\t(No symbol) [0x00007FF6FCF7582A]\n",
      "\t(No symbol) [0x00007FF6FCFC5B8E]\n",
      "\t(No symbol) [0x00007FF6FCFC5E7C]\n",
      "\t(No symbol) [0x00007FF6FD00EC27]\n",
      "\t(No symbol) [0x00007FF6FCFEBC1F]\n",
      "\t(No symbol) [0x00007FF6FD00BA4C]\n",
      "\t(No symbol) [0x00007FF6FCFEB983]\n",
      "\t(No symbol) [0x00007FF6FCFB7628]\n",
      "\t(No symbol) [0x00007FF6FCFB8791]\n",
      "\tGetHandleVerifier [0x00007FF6FD45A00D+3161901]\n",
      "\tGetHandleVerifier [0x00007FF6FD4AE060+3506048]\n",
      "\tGetHandleVerifier [0x00007FF6FD4A400D+3465005]\n",
      "\tGetHandleVerifier [0x00007FF6FD220EEB+830987]\n",
      "\t(No symbol) [0x00007FF6FD0D467F]\n",
      "\t(No symbol) [0x00007FF6FD0D09D4]\n",
      "\t(No symbol) [0x00007FF6FD0D0B6D]\n",
      "\t(No symbol) [0x00007FF6FD0C0149]\n",
      "\tBaseThreadInitThunk [0x00007FFB7AAA7374+20]\n",
      "\tRtlUserThreadStart [0x00007FFB7C37CC91+33]\n",
      "\n"
     ]
    },
    {
     "name": "stderr",
     "output_type": "stream",
     "text": [
      "Processing URLs:   1%|      | 389/29446 [43:13<51:36:58,  6.39s/it]"
     ]
    },
    {
     "name": "stdout",
     "output_type": "stream",
     "text": [
      "Error fetching URL: https://www.agoda.com/partners/partnersearch.aspx?hid=239466 - Message: no such element: Unable to locate element: {\"method\":\"css selector\",\"selector\":\"a[data-element-name='property-card-content']\"}\n",
      "  (Session info: chrome=130.0.6723.117); For documentation on this error, please visit: https://www.selenium.dev/documentation/webdriver/troubleshooting/errors#no-such-element-exception\n",
      "Stacktrace:\n",
      "\tGetHandleVerifier [0x00007FF6FD4338A5+3004357]\n",
      "\t(No symbol) [0x00007FF6FD0C9970]\n",
      "\t(No symbol) [0x00007FF6FCF7582A]\n",
      "\t(No symbol) [0x00007FF6FCFC5B8E]\n",
      "\t(No symbol) [0x00007FF6FCFC5E7C]\n",
      "\t(No symbol) [0x00007FF6FD00EC27]\n",
      "\t(No symbol) [0x00007FF6FCFEBC1F]\n",
      "\t(No symbol) [0x00007FF6FD00BA4C]\n",
      "\t(No symbol) [0x00007FF6FCFEB983]\n",
      "\t(No symbol) [0x00007FF6FCFB7628]\n",
      "\t(No symbol) [0x00007FF6FCFB8791]\n",
      "\tGetHandleVerifier [0x00007FF6FD45A00D+3161901]\n",
      "\tGetHandleVerifier [0x00007FF6FD4AE060+3506048]\n",
      "\tGetHandleVerifier [0x00007FF6FD4A400D+3465005]\n",
      "\tGetHandleVerifier [0x00007FF6FD220EEB+830987]\n",
      "\t(No symbol) [0x00007FF6FD0D467F]\n",
      "\t(No symbol) [0x00007FF6FD0D09D4]\n",
      "\t(No symbol) [0x00007FF6FD0D0B6D]\n",
      "\t(No symbol) [0x00007FF6FD0C0149]\n",
      "\tBaseThreadInitThunk [0x00007FFB7AAA7374+20]\n",
      "\tRtlUserThreadStart [0x00007FFB7C37CC91+33]\n",
      "\n"
     ]
    },
    {
     "name": "stderr",
     "output_type": "stream",
     "text": [
      "Processing URLs:   1%|      | 390/29446 [43:19<52:02:46,  6.45s/it]"
     ]
    },
    {
     "name": "stdout",
     "output_type": "stream",
     "text": [
      "Error fetching URL: https://www.agoda.com/partners/partnersearch.aspx?hid=239467 - Message: no such element: Unable to locate element: {\"method\":\"css selector\",\"selector\":\"a[data-element-name='property-card-content']\"}\n",
      "  (Session info: chrome=130.0.6723.117); For documentation on this error, please visit: https://www.selenium.dev/documentation/webdriver/troubleshooting/errors#no-such-element-exception\n",
      "Stacktrace:\n",
      "\tGetHandleVerifier [0x00007FF6FD4338A5+3004357]\n",
      "\t(No symbol) [0x00007FF6FD0C9970]\n",
      "\t(No symbol) [0x00007FF6FCF7582A]\n",
      "\t(No symbol) [0x00007FF6FCFC5B8E]\n",
      "\t(No symbol) [0x00007FF6FCFC5E7C]\n",
      "\t(No symbol) [0x00007FF6FD00EC27]\n",
      "\t(No symbol) [0x00007FF6FCFEBC1F]\n",
      "\t(No symbol) [0x00007FF6FD00BA4C]\n",
      "\t(No symbol) [0x00007FF6FCFEB983]\n",
      "\t(No symbol) [0x00007FF6FCFB7628]\n",
      "\t(No symbol) [0x00007FF6FCFB8791]\n",
      "\tGetHandleVerifier [0x00007FF6FD45A00D+3161901]\n",
      "\tGetHandleVerifier [0x00007FF6FD4AE060+3506048]\n",
      "\tGetHandleVerifier [0x00007FF6FD4A400D+3465005]\n",
      "\tGetHandleVerifier [0x00007FF6FD220EEB+830987]\n",
      "\t(No symbol) [0x00007FF6FD0D467F]\n",
      "\t(No symbol) [0x00007FF6FD0D09D4]\n",
      "\t(No symbol) [0x00007FF6FD0D0B6D]\n",
      "\t(No symbol) [0x00007FF6FD0C0149]\n",
      "\tBaseThreadInitThunk [0x00007FFB7AAA7374+20]\n",
      "\tRtlUserThreadStart [0x00007FFB7C37CC91+33]\n",
      "\n"
     ]
    },
    {
     "name": "stderr",
     "output_type": "stream",
     "text": [
      "Processing URLs:   1%|      | 391/29446 [43:26<52:24:09,  6.49s/it]"
     ]
    },
    {
     "name": "stdout",
     "output_type": "stream",
     "text": [
      "Error fetching URL: https://www.agoda.com/partners/partnersearch.aspx?hid=239482 - Message: no such element: Unable to locate element: {\"method\":\"css selector\",\"selector\":\"a[data-element-name='property-card-content']\"}\n",
      "  (Session info: chrome=130.0.6723.117); For documentation on this error, please visit: https://www.selenium.dev/documentation/webdriver/troubleshooting/errors#no-such-element-exception\n",
      "Stacktrace:\n",
      "\tGetHandleVerifier [0x00007FF6FD4338A5+3004357]\n",
      "\t(No symbol) [0x00007FF6FD0C9970]\n",
      "\t(No symbol) [0x00007FF6FCF7582A]\n",
      "\t(No symbol) [0x00007FF6FCFC5B8E]\n",
      "\t(No symbol) [0x00007FF6FCFC5E7C]\n",
      "\t(No symbol) [0x00007FF6FD00EC27]\n",
      "\t(No symbol) [0x00007FF6FCFEBC1F]\n",
      "\t(No symbol) [0x00007FF6FD00BA4C]\n",
      "\t(No symbol) [0x00007FF6FCFEB983]\n",
      "\t(No symbol) [0x00007FF6FCFB7628]\n",
      "\t(No symbol) [0x00007FF6FCFB8791]\n",
      "\tGetHandleVerifier [0x00007FF6FD45A00D+3161901]\n",
      "\tGetHandleVerifier [0x00007FF6FD4AE060+3506048]\n",
      "\tGetHandleVerifier [0x00007FF6FD4A400D+3465005]\n",
      "\tGetHandleVerifier [0x00007FF6FD220EEB+830987]\n",
      "\t(No symbol) [0x00007FF6FD0D467F]\n",
      "\t(No symbol) [0x00007FF6FD0D09D4]\n",
      "\t(No symbol) [0x00007FF6FD0D0B6D]\n",
      "\t(No symbol) [0x00007FF6FD0C0149]\n",
      "\tBaseThreadInitThunk [0x00007FFB7AAA7374+20]\n",
      "\tRtlUserThreadStart [0x00007FFB7C37CC91+33]\n",
      "\n"
     ]
    },
    {
     "name": "stderr",
     "output_type": "stream",
     "text": [
      "Processing URLs:   1%|      | 393/29446 [43:39<52:30:51,  6.51s/it]"
     ]
    },
    {
     "name": "stdout",
     "output_type": "stream",
     "text": [
      "Error fetching URL: https://www.agoda.com/partners/partnersearch.aspx?hid=239497 - Message: no such element: Unable to locate element: {\"method\":\"css selector\",\"selector\":\"a[data-element-name='property-card-content']\"}\n",
      "  (Session info: chrome=130.0.6723.117); For documentation on this error, please visit: https://www.selenium.dev/documentation/webdriver/troubleshooting/errors#no-such-element-exception\n",
      "Stacktrace:\n",
      "\tGetHandleVerifier [0x00007FF6FD4338A5+3004357]\n",
      "\t(No symbol) [0x00007FF6FD0C9970]\n",
      "\t(No symbol) [0x00007FF6FCF7582A]\n",
      "\t(No symbol) [0x00007FF6FCFC5B8E]\n",
      "\t(No symbol) [0x00007FF6FCFC5E7C]\n",
      "\t(No symbol) [0x00007FF6FD00EC27]\n",
      "\t(No symbol) [0x00007FF6FCFEBC1F]\n",
      "\t(No symbol) [0x00007FF6FD00BA4C]\n",
      "\t(No symbol) [0x00007FF6FCFEB983]\n",
      "\t(No symbol) [0x00007FF6FCFB7628]\n",
      "\t(No symbol) [0x00007FF6FCFB8791]\n",
      "\tGetHandleVerifier [0x00007FF6FD45A00D+3161901]\n",
      "\tGetHandleVerifier [0x00007FF6FD4AE060+3506048]\n",
      "\tGetHandleVerifier [0x00007FF6FD4A400D+3465005]\n",
      "\tGetHandleVerifier [0x00007FF6FD220EEB+830987]\n",
      "\t(No symbol) [0x00007FF6FD0D467F]\n",
      "\t(No symbol) [0x00007FF6FD0D09D4]\n",
      "\t(No symbol) [0x00007FF6FD0D0B6D]\n",
      "\t(No symbol) [0x00007FF6FD0C0149]\n",
      "\tBaseThreadInitThunk [0x00007FFB7AAA7374+20]\n",
      "\tRtlUserThreadStart [0x00007FFB7C37CC91+33]\n",
      "\n"
     ]
    },
    {
     "name": "stderr",
     "output_type": "stream",
     "text": [
      "Processing URLs:   1%|      | 394/29446 [43:45<51:53:23,  6.43s/it]"
     ]
    },
    {
     "name": "stdout",
     "output_type": "stream",
     "text": [
      "Error fetching URL: https://www.agoda.com/partners/partnersearch.aspx?hid=239502 - Message: no such element: Unable to locate element: {\"method\":\"css selector\",\"selector\":\"a[data-element-name='property-card-content']\"}\n",
      "  (Session info: chrome=130.0.6723.117); For documentation on this error, please visit: https://www.selenium.dev/documentation/webdriver/troubleshooting/errors#no-such-element-exception\n",
      "Stacktrace:\n",
      "\tGetHandleVerifier [0x00007FF6FD4338A5+3004357]\n",
      "\t(No symbol) [0x00007FF6FD0C9970]\n",
      "\t(No symbol) [0x00007FF6FCF7582A]\n",
      "\t(No symbol) [0x00007FF6FCFC5B8E]\n",
      "\t(No symbol) [0x00007FF6FCFC5E7C]\n",
      "\t(No symbol) [0x00007FF6FD00EC27]\n",
      "\t(No symbol) [0x00007FF6FCFEBC1F]\n",
      "\t(No symbol) [0x00007FF6FD00BA4C]\n",
      "\t(No symbol) [0x00007FF6FCFEB983]\n",
      "\t(No symbol) [0x00007FF6FCFB7628]\n",
      "\t(No symbol) [0x00007FF6FCFB8791]\n",
      "\tGetHandleVerifier [0x00007FF6FD45A00D+3161901]\n",
      "\tGetHandleVerifier [0x00007FF6FD4AE060+3506048]\n",
      "\tGetHandleVerifier [0x00007FF6FD4A400D+3465005]\n",
      "\tGetHandleVerifier [0x00007FF6FD220EEB+830987]\n",
      "\t(No symbol) [0x00007FF6FD0D467F]\n",
      "\t(No symbol) [0x00007FF6FD0D09D4]\n",
      "\t(No symbol) [0x00007FF6FD0D0B6D]\n",
      "\t(No symbol) [0x00007FF6FD0C0149]\n",
      "\tBaseThreadInitThunk [0x00007FFB7AAA7374+20]\n",
      "\tRtlUserThreadStart [0x00007FFB7C37CC91+33]\n",
      "\n"
     ]
    },
    {
     "name": "stderr",
     "output_type": "stream",
     "text": [
      "Processing URLs:   1%|      | 395/29446 [43:51<51:44:24,  6.41s/it]"
     ]
    },
    {
     "name": "stdout",
     "output_type": "stream",
     "text": [
      "Error fetching URL: https://www.agoda.com/partners/partnersearch.aspx?hid=239593 - Message: no such element: Unable to locate element: {\"method\":\"css selector\",\"selector\":\"a[data-element-name='property-card-content']\"}\n",
      "  (Session info: chrome=130.0.6723.117); For documentation on this error, please visit: https://www.selenium.dev/documentation/webdriver/troubleshooting/errors#no-such-element-exception\n",
      "Stacktrace:\n",
      "\tGetHandleVerifier [0x00007FF6FD4338A5+3004357]\n",
      "\t(No symbol) [0x00007FF6FD0C9970]\n",
      "\t(No symbol) [0x00007FF6FCF7582A]\n",
      "\t(No symbol) [0x00007FF6FCFC5B8E]\n",
      "\t(No symbol) [0x00007FF6FCFC5E7C]\n",
      "\t(No symbol) [0x00007FF6FD00EC27]\n",
      "\t(No symbol) [0x00007FF6FCFEBC1F]\n",
      "\t(No symbol) [0x00007FF6FD00BA4C]\n",
      "\t(No symbol) [0x00007FF6FCFEB983]\n",
      "\t(No symbol) [0x00007FF6FCFB7628]\n",
      "\t(No symbol) [0x00007FF6FCFB8791]\n",
      "\tGetHandleVerifier [0x00007FF6FD45A00D+3161901]\n",
      "\tGetHandleVerifier [0x00007FF6FD4AE060+3506048]\n",
      "\tGetHandleVerifier [0x00007FF6FD4A400D+3465005]\n",
      "\tGetHandleVerifier [0x00007FF6FD220EEB+830987]\n",
      "\t(No symbol) [0x00007FF6FD0D467F]\n",
      "\t(No symbol) [0x00007FF6FD0D09D4]\n",
      "\t(No symbol) [0x00007FF6FD0D0B6D]\n",
      "\t(No symbol) [0x00007FF6FD0C0149]\n",
      "\tBaseThreadInitThunk [0x00007FFB7AAA7374+20]\n",
      "\tRtlUserThreadStart [0x00007FFB7C37CC91+33]\n",
      "\n"
     ]
    },
    {
     "name": "stderr",
     "output_type": "stream",
     "text": [
      "Processing URLs:   1%|      | 396/29446 [43:58<52:26:32,  6.50s/it]"
     ]
    },
    {
     "name": "stdout",
     "output_type": "stream",
     "text": [
      "Error fetching URL: https://www.agoda.com/partners/partnersearch.aspx?hid=239604 - Message: no such element: Unable to locate element: {\"method\":\"css selector\",\"selector\":\"a[data-element-name='property-card-content']\"}\n",
      "  (Session info: chrome=130.0.6723.117); For documentation on this error, please visit: https://www.selenium.dev/documentation/webdriver/troubleshooting/errors#no-such-element-exception\n",
      "Stacktrace:\n",
      "\tGetHandleVerifier [0x00007FF6FD4338A5+3004357]\n",
      "\t(No symbol) [0x00007FF6FD0C9970]\n",
      "\t(No symbol) [0x00007FF6FCF7582A]\n",
      "\t(No symbol) [0x00007FF6FCFC5B8E]\n",
      "\t(No symbol) [0x00007FF6FCFC5E7C]\n",
      "\t(No symbol) [0x00007FF6FD00EC27]\n",
      "\t(No symbol) [0x00007FF6FCFEBC1F]\n",
      "\t(No symbol) [0x00007FF6FD00BA4C]\n",
      "\t(No symbol) [0x00007FF6FCFEB983]\n",
      "\t(No symbol) [0x00007FF6FCFB7628]\n",
      "\t(No symbol) [0x00007FF6FCFB8791]\n",
      "\tGetHandleVerifier [0x00007FF6FD45A00D+3161901]\n",
      "\tGetHandleVerifier [0x00007FF6FD4AE060+3506048]\n",
      "\tGetHandleVerifier [0x00007FF6FD4A400D+3465005]\n",
      "\tGetHandleVerifier [0x00007FF6FD220EEB+830987]\n",
      "\t(No symbol) [0x00007FF6FD0D467F]\n",
      "\t(No symbol) [0x00007FF6FD0D09D4]\n",
      "\t(No symbol) [0x00007FF6FD0D0B6D]\n",
      "\t(No symbol) [0x00007FF6FD0C0149]\n",
      "\tBaseThreadInitThunk [0x00007FFB7AAA7374+20]\n",
      "\tRtlUserThreadStart [0x00007FFB7C37CC91+33]\n",
      "\n"
     ]
    },
    {
     "name": "stderr",
     "output_type": "stream",
     "text": [
      "Processing URLs:   1%|      | 397/29446 [44:05<52:23:04,  6.49s/it]"
     ]
    },
    {
     "name": "stdout",
     "output_type": "stream",
     "text": [
      "Error fetching URL: https://www.agoda.com/partners/partnersearch.aspx?hid=239635 - Message: no such element: Unable to locate element: {\"method\":\"css selector\",\"selector\":\"a[data-element-name='property-card-content']\"}\n",
      "  (Session info: chrome=130.0.6723.117); For documentation on this error, please visit: https://www.selenium.dev/documentation/webdriver/troubleshooting/errors#no-such-element-exception\n",
      "Stacktrace:\n",
      "\tGetHandleVerifier [0x00007FF6FD4338A5+3004357]\n",
      "\t(No symbol) [0x00007FF6FD0C9970]\n",
      "\t(No symbol) [0x00007FF6FCF7582A]\n",
      "\t(No symbol) [0x00007FF6FCFC5B8E]\n",
      "\t(No symbol) [0x00007FF6FCFC5E7C]\n",
      "\t(No symbol) [0x00007FF6FD00EC27]\n",
      "\t(No symbol) [0x00007FF6FCFEBC1F]\n",
      "\t(No symbol) [0x00007FF6FD00BA4C]\n",
      "\t(No symbol) [0x00007FF6FCFEB983]\n",
      "\t(No symbol) [0x00007FF6FCFB7628]\n",
      "\t(No symbol) [0x00007FF6FCFB8791]\n",
      "\tGetHandleVerifier [0x00007FF6FD45A00D+3161901]\n",
      "\tGetHandleVerifier [0x00007FF6FD4AE060+3506048]\n",
      "\tGetHandleVerifier [0x00007FF6FD4A400D+3465005]\n",
      "\tGetHandleVerifier [0x00007FF6FD220EEB+830987]\n",
      "\t(No symbol) [0x00007FF6FD0D467F]\n",
      "\t(No symbol) [0x00007FF6FD0D09D4]\n",
      "\t(No symbol) [0x00007FF6FD0D0B6D]\n",
      "\t(No symbol) [0x00007FF6FD0C0149]\n",
      "\tBaseThreadInitThunk [0x00007FFB7AAA7374+20]\n",
      "\tRtlUserThreadStart [0x00007FFB7C37CC91+33]\n",
      "\n"
     ]
    },
    {
     "name": "stderr",
     "output_type": "stream",
     "text": [
      "Processing URLs:   1%|      | 398/29446 [44:11<52:17:22,  6.48s/it]"
     ]
    },
    {
     "name": "stdout",
     "output_type": "stream",
     "text": [
      "Error fetching URL: https://www.agoda.com/partners/partnersearch.aspx?hid=239654 - Message: no such element: Unable to locate element: {\"method\":\"css selector\",\"selector\":\"a[data-element-name='property-card-content']\"}\n",
      "  (Session info: chrome=130.0.6723.117); For documentation on this error, please visit: https://www.selenium.dev/documentation/webdriver/troubleshooting/errors#no-such-element-exception\n",
      "Stacktrace:\n",
      "\tGetHandleVerifier [0x00007FF6FD4338A5+3004357]\n",
      "\t(No symbol) [0x00007FF6FD0C9970]\n",
      "\t(No symbol) [0x00007FF6FCF7582A]\n",
      "\t(No symbol) [0x00007FF6FCFC5B8E]\n",
      "\t(No symbol) [0x00007FF6FCFC5E7C]\n",
      "\t(No symbol) [0x00007FF6FD00EC27]\n",
      "\t(No symbol) [0x00007FF6FCFEBC1F]\n",
      "\t(No symbol) [0x00007FF6FD00BA4C]\n",
      "\t(No symbol) [0x00007FF6FCFEB983]\n",
      "\t(No symbol) [0x00007FF6FCFB7628]\n",
      "\t(No symbol) [0x00007FF6FCFB8791]\n",
      "\tGetHandleVerifier [0x00007FF6FD45A00D+3161901]\n",
      "\tGetHandleVerifier [0x00007FF6FD4AE060+3506048]\n",
      "\tGetHandleVerifier [0x00007FF6FD4A400D+3465005]\n",
      "\tGetHandleVerifier [0x00007FF6FD220EEB+830987]\n",
      "\t(No symbol) [0x00007FF6FD0D467F]\n",
      "\t(No symbol) [0x00007FF6FD0D09D4]\n",
      "\t(No symbol) [0x00007FF6FD0D0B6D]\n",
      "\t(No symbol) [0x00007FF6FD0C0149]\n",
      "\tBaseThreadInitThunk [0x00007FFB7AAA7374+20]\n",
      "\tRtlUserThreadStart [0x00007FFB7C37CC91+33]\n",
      "\n"
     ]
    },
    {
     "name": "stderr",
     "output_type": "stream",
     "text": [
      "Processing URLs:   1%|      | 399/29446 [44:18<52:08:01,  6.46s/it]"
     ]
    },
    {
     "name": "stdout",
     "output_type": "stream",
     "text": [
      "Error fetching URL: https://www.agoda.com/partners/partnersearch.aspx?hid=239657 - Message: no such element: Unable to locate element: {\"method\":\"css selector\",\"selector\":\"a[data-element-name='property-card-content']\"}\n",
      "  (Session info: chrome=130.0.6723.117); For documentation on this error, please visit: https://www.selenium.dev/documentation/webdriver/troubleshooting/errors#no-such-element-exception\n",
      "Stacktrace:\n",
      "\tGetHandleVerifier [0x00007FF6FD4338A5+3004357]\n",
      "\t(No symbol) [0x00007FF6FD0C9970]\n",
      "\t(No symbol) [0x00007FF6FCF7582A]\n",
      "\t(No symbol) [0x00007FF6FCFC5B8E]\n",
      "\t(No symbol) [0x00007FF6FCFC5E7C]\n",
      "\t(No symbol) [0x00007FF6FD00EC27]\n",
      "\t(No symbol) [0x00007FF6FCFEBC1F]\n",
      "\t(No symbol) [0x00007FF6FD00BA4C]\n",
      "\t(No symbol) [0x00007FF6FCFEB983]\n",
      "\t(No symbol) [0x00007FF6FCFB7628]\n",
      "\t(No symbol) [0x00007FF6FCFB8791]\n",
      "\tGetHandleVerifier [0x00007FF6FD45A00D+3161901]\n",
      "\tGetHandleVerifier [0x00007FF6FD4AE060+3506048]\n",
      "\tGetHandleVerifier [0x00007FF6FD4A400D+3465005]\n",
      "\tGetHandleVerifier [0x00007FF6FD220EEB+830987]\n",
      "\t(No symbol) [0x00007FF6FD0D467F]\n",
      "\t(No symbol) [0x00007FF6FD0D09D4]\n",
      "\t(No symbol) [0x00007FF6FD0D0B6D]\n",
      "\t(No symbol) [0x00007FF6FD0C0149]\n",
      "\tBaseThreadInitThunk [0x00007FFB7AAA7374+20]\n",
      "\tRtlUserThreadStart [0x00007FFB7C37CC91+33]\n",
      "\n"
     ]
    },
    {
     "name": "stderr",
     "output_type": "stream",
     "text": [
      "Processing URLs:   1%|      | 400/29446 [44:24<52:27:44,  6.50s/it]"
     ]
    },
    {
     "name": "stdout",
     "output_type": "stream",
     "text": [
      "Error fetching URL: https://www.agoda.com/partners/partnersearch.aspx?hid=239659 - Message: no such element: Unable to locate element: {\"method\":\"css selector\",\"selector\":\"a[data-element-name='property-card-content']\"}\n",
      "  (Session info: chrome=130.0.6723.117); For documentation on this error, please visit: https://www.selenium.dev/documentation/webdriver/troubleshooting/errors#no-such-element-exception\n",
      "Stacktrace:\n",
      "\tGetHandleVerifier [0x00007FF6FD4338A5+3004357]\n",
      "\t(No symbol) [0x00007FF6FD0C9970]\n",
      "\t(No symbol) [0x00007FF6FCF7582A]\n",
      "\t(No symbol) [0x00007FF6FCFC5B8E]\n",
      "\t(No symbol) [0x00007FF6FCFC5E7C]\n",
      "\t(No symbol) [0x00007FF6FD00EC27]\n",
      "\t(No symbol) [0x00007FF6FCFEBC1F]\n",
      "\t(No symbol) [0x00007FF6FD00BA4C]\n",
      "\t(No symbol) [0x00007FF6FCFEB983]\n",
      "\t(No symbol) [0x00007FF6FCFB7628]\n",
      "\t(No symbol) [0x00007FF6FCFB8791]\n",
      "\tGetHandleVerifier [0x00007FF6FD45A00D+3161901]\n",
      "\tGetHandleVerifier [0x00007FF6FD4AE060+3506048]\n",
      "\tGetHandleVerifier [0x00007FF6FD4A400D+3465005]\n",
      "\tGetHandleVerifier [0x00007FF6FD220EEB+830987]\n",
      "\t(No symbol) [0x00007FF6FD0D467F]\n",
      "\t(No symbol) [0x00007FF6FD0D09D4]\n",
      "\t(No symbol) [0x00007FF6FD0D0B6D]\n",
      "\t(No symbol) [0x00007FF6FD0C0149]\n",
      "\tBaseThreadInitThunk [0x00007FFB7AAA7374+20]\n",
      "\tRtlUserThreadStart [0x00007FFB7C37CC91+33]\n",
      "\n"
     ]
    },
    {
     "name": "stderr",
     "output_type": "stream",
     "text": [
      "Processing URLs:   1%|      | 401/29446 [44:30<52:05:22,  6.46s/it]"
     ]
    },
    {
     "name": "stdout",
     "output_type": "stream",
     "text": [
      "Error fetching URL: https://www.agoda.com/partners/partnersearch.aspx?hid=239766 - Message: no such element: Unable to locate element: {\"method\":\"css selector\",\"selector\":\"a[data-element-name='property-card-content']\"}\n",
      "  (Session info: chrome=130.0.6723.117); For documentation on this error, please visit: https://www.selenium.dev/documentation/webdriver/troubleshooting/errors#no-such-element-exception\n",
      "Stacktrace:\n",
      "\tGetHandleVerifier [0x00007FF6FD4338A5+3004357]\n",
      "\t(No symbol) [0x00007FF6FD0C9970]\n",
      "\t(No symbol) [0x00007FF6FCF7582A]\n",
      "\t(No symbol) [0x00007FF6FCFC5B8E]\n",
      "\t(No symbol) [0x00007FF6FCFC5E7C]\n",
      "\t(No symbol) [0x00007FF6FD00EC27]\n",
      "\t(No symbol) [0x00007FF6FCFEBC1F]\n",
      "\t(No symbol) [0x00007FF6FD00BA4C]\n",
      "\t(No symbol) [0x00007FF6FCFEB983]\n",
      "\t(No symbol) [0x00007FF6FCFB7628]\n",
      "\t(No symbol) [0x00007FF6FCFB8791]\n",
      "\tGetHandleVerifier [0x00007FF6FD45A00D+3161901]\n",
      "\tGetHandleVerifier [0x00007FF6FD4AE060+3506048]\n",
      "\tGetHandleVerifier [0x00007FF6FD4A400D+3465005]\n",
      "\tGetHandleVerifier [0x00007FF6FD220EEB+830987]\n",
      "\t(No symbol) [0x00007FF6FD0D467F]\n",
      "\t(No symbol) [0x00007FF6FD0D09D4]\n",
      "\t(No symbol) [0x00007FF6FD0D0B6D]\n",
      "\t(No symbol) [0x00007FF6FD0C0149]\n",
      "\tBaseThreadInitThunk [0x00007FFB7AAA7374+20]\n",
      "\tRtlUserThreadStart [0x00007FFB7C37CC91+33]\n",
      "\n"
     ]
    },
    {
     "name": "stderr",
     "output_type": "stream",
     "text": [
      "Processing URLs:   1%|      | 402/29446 [44:37<52:01:45,  6.45s/it]"
     ]
    },
    {
     "name": "stdout",
     "output_type": "stream",
     "text": [
      "Error fetching URL: https://www.agoda.com/partners/partnersearch.aspx?hid=239775 - Message: no such element: Unable to locate element: {\"method\":\"css selector\",\"selector\":\"a[data-element-name='property-card-content']\"}\n",
      "  (Session info: chrome=130.0.6723.117); For documentation on this error, please visit: https://www.selenium.dev/documentation/webdriver/troubleshooting/errors#no-such-element-exception\n",
      "Stacktrace:\n",
      "\tGetHandleVerifier [0x00007FF6FD4338A5+3004357]\n",
      "\t(No symbol) [0x00007FF6FD0C9970]\n",
      "\t(No symbol) [0x00007FF6FCF7582A]\n",
      "\t(No symbol) [0x00007FF6FCFC5B8E]\n",
      "\t(No symbol) [0x00007FF6FCFC5E7C]\n",
      "\t(No symbol) [0x00007FF6FD00EC27]\n",
      "\t(No symbol) [0x00007FF6FCFEBC1F]\n",
      "\t(No symbol) [0x00007FF6FD00BA4C]\n",
      "\t(No symbol) [0x00007FF6FCFEB983]\n",
      "\t(No symbol) [0x00007FF6FCFB7628]\n",
      "\t(No symbol) [0x00007FF6FCFB8791]\n",
      "\tGetHandleVerifier [0x00007FF6FD45A00D+3161901]\n",
      "\tGetHandleVerifier [0x00007FF6FD4AE060+3506048]\n",
      "\tGetHandleVerifier [0x00007FF6FD4A400D+3465005]\n",
      "\tGetHandleVerifier [0x00007FF6FD220EEB+830987]\n",
      "\t(No symbol) [0x00007FF6FD0D467F]\n",
      "\t(No symbol) [0x00007FF6FD0D09D4]\n",
      "\t(No symbol) [0x00007FF6FD0D0B6D]\n",
      "\t(No symbol) [0x00007FF6FD0C0149]\n",
      "\tBaseThreadInitThunk [0x00007FFB7AAA7374+20]\n",
      "\tRtlUserThreadStart [0x00007FFB7C37CC91+33]\n",
      "\n"
     ]
    },
    {
     "name": "stderr",
     "output_type": "stream",
     "text": [
      "Processing URLs:   1%|      | 403/29446 [44:43<51:53:13,  6.43s/it]"
     ]
    },
    {
     "name": "stdout",
     "output_type": "stream",
     "text": [
      "Error fetching URL: https://www.agoda.com/partners/partnersearch.aspx?hid=239776 - Message: no such element: Unable to locate element: {\"method\":\"css selector\",\"selector\":\"a[data-element-name='property-card-content']\"}\n",
      "  (Session info: chrome=130.0.6723.117); For documentation on this error, please visit: https://www.selenium.dev/documentation/webdriver/troubleshooting/errors#no-such-element-exception\n",
      "Stacktrace:\n",
      "\tGetHandleVerifier [0x00007FF6FD4338A5+3004357]\n",
      "\t(No symbol) [0x00007FF6FD0C9970]\n",
      "\t(No symbol) [0x00007FF6FCF7582A]\n",
      "\t(No symbol) [0x00007FF6FCFC5B8E]\n",
      "\t(No symbol) [0x00007FF6FCFC5E7C]\n",
      "\t(No symbol) [0x00007FF6FD00EC27]\n",
      "\t(No symbol) [0x00007FF6FCFEBC1F]\n",
      "\t(No symbol) [0x00007FF6FD00BA4C]\n",
      "\t(No symbol) [0x00007FF6FCFEB983]\n",
      "\t(No symbol) [0x00007FF6FCFB7628]\n",
      "\t(No symbol) [0x00007FF6FCFB8791]\n",
      "\tGetHandleVerifier [0x00007FF6FD45A00D+3161901]\n",
      "\tGetHandleVerifier [0x00007FF6FD4AE060+3506048]\n",
      "\tGetHandleVerifier [0x00007FF6FD4A400D+3465005]\n",
      "\tGetHandleVerifier [0x00007FF6FD220EEB+830987]\n",
      "\t(No symbol) [0x00007FF6FD0D467F]\n",
      "\t(No symbol) [0x00007FF6FD0D09D4]\n",
      "\t(No symbol) [0x00007FF6FD0D0B6D]\n",
      "\t(No symbol) [0x00007FF6FD0C0149]\n",
      "\tBaseThreadInitThunk [0x00007FFB7AAA7374+20]\n",
      "\tRtlUserThreadStart [0x00007FFB7C37CC91+33]\n",
      "\n"
     ]
    },
    {
     "name": "stderr",
     "output_type": "stream",
     "text": [
      "Processing URLs:   1%|      | 404/29446 [44:50<52:18:35,  6.48s/it]"
     ]
    },
    {
     "name": "stdout",
     "output_type": "stream",
     "text": [
      "Error fetching URL: https://www.agoda.com/partners/partnersearch.aspx?hid=239828 - Message: no such element: Unable to locate element: {\"method\":\"css selector\",\"selector\":\"a[data-element-name='property-card-content']\"}\n",
      "  (Session info: chrome=130.0.6723.117); For documentation on this error, please visit: https://www.selenium.dev/documentation/webdriver/troubleshooting/errors#no-such-element-exception\n",
      "Stacktrace:\n",
      "\tGetHandleVerifier [0x00007FF6FD4338A5+3004357]\n",
      "\t(No symbol) [0x00007FF6FD0C9970]\n",
      "\t(No symbol) [0x00007FF6FCF7582A]\n",
      "\t(No symbol) [0x00007FF6FCFC5B8E]\n",
      "\t(No symbol) [0x00007FF6FCFC5E7C]\n",
      "\t(No symbol) [0x00007FF6FD00EC27]\n",
      "\t(No symbol) [0x00007FF6FCFEBC1F]\n",
      "\t(No symbol) [0x00007FF6FD00BA4C]\n",
      "\t(No symbol) [0x00007FF6FCFEB983]\n",
      "\t(No symbol) [0x00007FF6FCFB7628]\n",
      "\t(No symbol) [0x00007FF6FCFB8791]\n",
      "\tGetHandleVerifier [0x00007FF6FD45A00D+3161901]\n",
      "\tGetHandleVerifier [0x00007FF6FD4AE060+3506048]\n",
      "\tGetHandleVerifier [0x00007FF6FD4A400D+3465005]\n",
      "\tGetHandleVerifier [0x00007FF6FD220EEB+830987]\n",
      "\t(No symbol) [0x00007FF6FD0D467F]\n",
      "\t(No symbol) [0x00007FF6FD0D09D4]\n",
      "\t(No symbol) [0x00007FF6FD0D0B6D]\n",
      "\t(No symbol) [0x00007FF6FD0C0149]\n",
      "\tBaseThreadInitThunk [0x00007FFB7AAA7374+20]\n",
      "\tRtlUserThreadStart [0x00007FFB7C37CC91+33]\n",
      "\n"
     ]
    },
    {
     "name": "stderr",
     "output_type": "stream",
     "text": [
      "Processing URLs:   1%|      | 405/29446 [44:57<52:34:37,  6.52s/it]"
     ]
    },
    {
     "name": "stdout",
     "output_type": "stream",
     "text": [
      "Error fetching URL: https://www.agoda.com/partners/partnersearch.aspx?hid=240057 - Message: no such element: Unable to locate element: {\"method\":\"css selector\",\"selector\":\"a[data-element-name='property-card-content']\"}\n",
      "  (Session info: chrome=130.0.6723.117); For documentation on this error, please visit: https://www.selenium.dev/documentation/webdriver/troubleshooting/errors#no-such-element-exception\n",
      "Stacktrace:\n",
      "\tGetHandleVerifier [0x00007FF6FD4338A5+3004357]\n",
      "\t(No symbol) [0x00007FF6FD0C9970]\n",
      "\t(No symbol) [0x00007FF6FCF7582A]\n",
      "\t(No symbol) [0x00007FF6FCFC5B8E]\n",
      "\t(No symbol) [0x00007FF6FCFC5E7C]\n",
      "\t(No symbol) [0x00007FF6FD00EC27]\n",
      "\t(No symbol) [0x00007FF6FCFEBC1F]\n",
      "\t(No symbol) [0x00007FF6FD00BA4C]\n",
      "\t(No symbol) [0x00007FF6FCFEB983]\n",
      "\t(No symbol) [0x00007FF6FCFB7628]\n",
      "\t(No symbol) [0x00007FF6FCFB8791]\n",
      "\tGetHandleVerifier [0x00007FF6FD45A00D+3161901]\n",
      "\tGetHandleVerifier [0x00007FF6FD4AE060+3506048]\n",
      "\tGetHandleVerifier [0x00007FF6FD4A400D+3465005]\n",
      "\tGetHandleVerifier [0x00007FF6FD220EEB+830987]\n",
      "\t(No symbol) [0x00007FF6FD0D467F]\n",
      "\t(No symbol) [0x00007FF6FD0D09D4]\n",
      "\t(No symbol) [0x00007FF6FD0D0B6D]\n",
      "\t(No symbol) [0x00007FF6FD0C0149]\n",
      "\tBaseThreadInitThunk [0x00007FFB7AAA7374+20]\n",
      "\tRtlUserThreadStart [0x00007FFB7C37CC91+33]\n",
      "\n"
     ]
    },
    {
     "name": "stderr",
     "output_type": "stream",
     "text": [
      "Processing URLs:   1%|      | 406/29446 [45:03<52:43:09,  6.54s/it]"
     ]
    },
    {
     "name": "stdout",
     "output_type": "stream",
     "text": [
      "Error fetching URL: https://www.agoda.com/partners/partnersearch.aspx?hid=240070 - Message: no such element: Unable to locate element: {\"method\":\"css selector\",\"selector\":\"a[data-element-name='property-card-content']\"}\n",
      "  (Session info: chrome=130.0.6723.117); For documentation on this error, please visit: https://www.selenium.dev/documentation/webdriver/troubleshooting/errors#no-such-element-exception\n",
      "Stacktrace:\n",
      "\tGetHandleVerifier [0x00007FF6FD4338A5+3004357]\n",
      "\t(No symbol) [0x00007FF6FD0C9970]\n",
      "\t(No symbol) [0x00007FF6FCF7582A]\n",
      "\t(No symbol) [0x00007FF6FCFC5B8E]\n",
      "\t(No symbol) [0x00007FF6FCFC5E7C]\n",
      "\t(No symbol) [0x00007FF6FD00EC27]\n",
      "\t(No symbol) [0x00007FF6FCFEBC1F]\n",
      "\t(No symbol) [0x00007FF6FD00BA4C]\n",
      "\t(No symbol) [0x00007FF6FCFEB983]\n",
      "\t(No symbol) [0x00007FF6FCFB7628]\n",
      "\t(No symbol) [0x00007FF6FCFB8791]\n",
      "\tGetHandleVerifier [0x00007FF6FD45A00D+3161901]\n",
      "\tGetHandleVerifier [0x00007FF6FD4AE060+3506048]\n",
      "\tGetHandleVerifier [0x00007FF6FD4A400D+3465005]\n",
      "\tGetHandleVerifier [0x00007FF6FD220EEB+830987]\n",
      "\t(No symbol) [0x00007FF6FD0D467F]\n",
      "\t(No symbol) [0x00007FF6FD0D09D4]\n",
      "\t(No symbol) [0x00007FF6FD0D0B6D]\n",
      "\t(No symbol) [0x00007FF6FD0C0149]\n",
      "\tBaseThreadInitThunk [0x00007FFB7AAA7374+20]\n",
      "\tRtlUserThreadStart [0x00007FFB7C37CC91+33]\n",
      "\n"
     ]
    },
    {
     "name": "stderr",
     "output_type": "stream",
     "text": [
      "Processing URLs:   1%|      | 407/29446 [45:10<52:48:22,  6.55s/it]"
     ]
    },
    {
     "name": "stdout",
     "output_type": "stream",
     "text": [
      "Error fetching URL: https://www.agoda.com/partners/partnersearch.aspx?hid=240079 - Message: no such element: Unable to locate element: {\"method\":\"css selector\",\"selector\":\"a[data-element-name='property-card-content']\"}\n",
      "  (Session info: chrome=130.0.6723.117); For documentation on this error, please visit: https://www.selenium.dev/documentation/webdriver/troubleshooting/errors#no-such-element-exception\n",
      "Stacktrace:\n",
      "\tGetHandleVerifier [0x00007FF6FD4338A5+3004357]\n",
      "\t(No symbol) [0x00007FF6FD0C9970]\n",
      "\t(No symbol) [0x00007FF6FCF7582A]\n",
      "\t(No symbol) [0x00007FF6FCFC5B8E]\n",
      "\t(No symbol) [0x00007FF6FCFC5E7C]\n",
      "\t(No symbol) [0x00007FF6FD00EC27]\n",
      "\t(No symbol) [0x00007FF6FCFEBC1F]\n",
      "\t(No symbol) [0x00007FF6FD00BA4C]\n",
      "\t(No symbol) [0x00007FF6FCFEB983]\n",
      "\t(No symbol) [0x00007FF6FCFB7628]\n",
      "\t(No symbol) [0x00007FF6FCFB8791]\n",
      "\tGetHandleVerifier [0x00007FF6FD45A00D+3161901]\n",
      "\tGetHandleVerifier [0x00007FF6FD4AE060+3506048]\n",
      "\tGetHandleVerifier [0x00007FF6FD4A400D+3465005]\n",
      "\tGetHandleVerifier [0x00007FF6FD220EEB+830987]\n",
      "\t(No symbol) [0x00007FF6FD0D467F]\n",
      "\t(No symbol) [0x00007FF6FD0D09D4]\n",
      "\t(No symbol) [0x00007FF6FD0D0B6D]\n",
      "\t(No symbol) [0x00007FF6FD0C0149]\n",
      "\tBaseThreadInitThunk [0x00007FFB7AAA7374+20]\n",
      "\tRtlUserThreadStart [0x00007FFB7C37CC91+33]\n",
      "\n"
     ]
    },
    {
     "name": "stderr",
     "output_type": "stream",
     "text": [
      "Processing URLs:   1%|      | 408/29446 [45:16<53:02:56,  6.58s/it]"
     ]
    },
    {
     "name": "stdout",
     "output_type": "stream",
     "text": [
      "Error fetching URL: https://www.agoda.com/partners/partnersearch.aspx?hid=240129 - Message: no such element: Unable to locate element: {\"method\":\"css selector\",\"selector\":\"a[data-element-name='property-card-content']\"}\n",
      "  (Session info: chrome=130.0.6723.117); For documentation on this error, please visit: https://www.selenium.dev/documentation/webdriver/troubleshooting/errors#no-such-element-exception\n",
      "Stacktrace:\n",
      "\tGetHandleVerifier [0x00007FF6FD4338A5+3004357]\n",
      "\t(No symbol) [0x00007FF6FD0C9970]\n",
      "\t(No symbol) [0x00007FF6FCF7582A]\n",
      "\t(No symbol) [0x00007FF6FCFC5B8E]\n",
      "\t(No symbol) [0x00007FF6FCFC5E7C]\n",
      "\t(No symbol) [0x00007FF6FD00EC27]\n",
      "\t(No symbol) [0x00007FF6FCFEBC1F]\n",
      "\t(No symbol) [0x00007FF6FD00BA4C]\n",
      "\t(No symbol) [0x00007FF6FCFEB983]\n",
      "\t(No symbol) [0x00007FF6FCFB7628]\n",
      "\t(No symbol) [0x00007FF6FCFB8791]\n",
      "\tGetHandleVerifier [0x00007FF6FD45A00D+3161901]\n",
      "\tGetHandleVerifier [0x00007FF6FD4AE060+3506048]\n",
      "\tGetHandleVerifier [0x00007FF6FD4A400D+3465005]\n",
      "\tGetHandleVerifier [0x00007FF6FD220EEB+830987]\n",
      "\t(No symbol) [0x00007FF6FD0D467F]\n",
      "\t(No symbol) [0x00007FF6FD0D09D4]\n",
      "\t(No symbol) [0x00007FF6FD0D0B6D]\n",
      "\t(No symbol) [0x00007FF6FD0C0149]\n",
      "\tBaseThreadInitThunk [0x00007FFB7AAA7374+20]\n",
      "\tRtlUserThreadStart [0x00007FFB7C37CC91+33]\n",
      "\n"
     ]
    },
    {
     "name": "stderr",
     "output_type": "stream",
     "text": [
      "Processing URLs:   1%|      | 411/29446 [45:36<52:55:43,  6.56s/it]"
     ]
    },
    {
     "name": "stdout",
     "output_type": "stream",
     "text": [
      "Error fetching URL: https://www.agoda.com/partners/partnersearch.aspx?hid=240576 - Message: no such element: Unable to locate element: {\"method\":\"css selector\",\"selector\":\"a[data-element-name='property-card-content']\"}\n",
      "  (Session info: chrome=130.0.6723.117); For documentation on this error, please visit: https://www.selenium.dev/documentation/webdriver/troubleshooting/errors#no-such-element-exception\n",
      "Stacktrace:\n",
      "\tGetHandleVerifier [0x00007FF6FD4338A5+3004357]\n",
      "\t(No symbol) [0x00007FF6FD0C9970]\n",
      "\t(No symbol) [0x00007FF6FCF7582A]\n",
      "\t(No symbol) [0x00007FF6FCFC5B8E]\n",
      "\t(No symbol) [0x00007FF6FCFC5E7C]\n",
      "\t(No symbol) [0x00007FF6FD00EC27]\n",
      "\t(No symbol) [0x00007FF6FCFEBC1F]\n",
      "\t(No symbol) [0x00007FF6FD00BA4C]\n",
      "\t(No symbol) [0x00007FF6FCFEB983]\n",
      "\t(No symbol) [0x00007FF6FCFB7628]\n",
      "\t(No symbol) [0x00007FF6FCFB8791]\n",
      "\tGetHandleVerifier [0x00007FF6FD45A00D+3161901]\n",
      "\tGetHandleVerifier [0x00007FF6FD4AE060+3506048]\n",
      "\tGetHandleVerifier [0x00007FF6FD4A400D+3465005]\n",
      "\tGetHandleVerifier [0x00007FF6FD220EEB+830987]\n",
      "\t(No symbol) [0x00007FF6FD0D467F]\n",
      "\t(No symbol) [0x00007FF6FD0D09D4]\n",
      "\t(No symbol) [0x00007FF6FD0D0B6D]\n",
      "\t(No symbol) [0x00007FF6FD0C0149]\n",
      "\tBaseThreadInitThunk [0x00007FFB7AAA7374+20]\n",
      "\tRtlUserThreadStart [0x00007FFB7C37CC91+33]\n",
      "\n"
     ]
    },
    {
     "name": "stderr",
     "output_type": "stream",
     "text": [
      "Processing URLs:   1%|      | 412/29446 [45:42<52:21:38,  6.49s/it]"
     ]
    },
    {
     "name": "stdout",
     "output_type": "stream",
     "text": [
      "Error fetching URL: https://www.agoda.com/partners/partnersearch.aspx?hid=240655 - Message: no such element: Unable to locate element: {\"method\":\"css selector\",\"selector\":\"a[data-element-name='property-card-content']\"}\n",
      "  (Session info: chrome=130.0.6723.117); For documentation on this error, please visit: https://www.selenium.dev/documentation/webdriver/troubleshooting/errors#no-such-element-exception\n",
      "Stacktrace:\n",
      "\tGetHandleVerifier [0x00007FF6FD4338A5+3004357]\n",
      "\t(No symbol) [0x00007FF6FD0C9970]\n",
      "\t(No symbol) [0x00007FF6FCF7582A]\n",
      "\t(No symbol) [0x00007FF6FCFC5B8E]\n",
      "\t(No symbol) [0x00007FF6FCFC5E7C]\n",
      "\t(No symbol) [0x00007FF6FD00EC27]\n",
      "\t(No symbol) [0x00007FF6FCFEBC1F]\n",
      "\t(No symbol) [0x00007FF6FD00BA4C]\n",
      "\t(No symbol) [0x00007FF6FCFEB983]\n",
      "\t(No symbol) [0x00007FF6FCFB7628]\n",
      "\t(No symbol) [0x00007FF6FCFB8791]\n",
      "\tGetHandleVerifier [0x00007FF6FD45A00D+3161901]\n",
      "\tGetHandleVerifier [0x00007FF6FD4AE060+3506048]\n",
      "\tGetHandleVerifier [0x00007FF6FD4A400D+3465005]\n",
      "\tGetHandleVerifier [0x00007FF6FD220EEB+830987]\n",
      "\t(No symbol) [0x00007FF6FD0D467F]\n",
      "\t(No symbol) [0x00007FF6FD0D09D4]\n",
      "\t(No symbol) [0x00007FF6FD0D0B6D]\n",
      "\t(No symbol) [0x00007FF6FD0C0149]\n",
      "\tBaseThreadInitThunk [0x00007FFB7AAA7374+20]\n",
      "\tRtlUserThreadStart [0x00007FFB7C37CC91+33]\n",
      "\n"
     ]
    },
    {
     "name": "stderr",
     "output_type": "stream",
     "text": [
      "Processing URLs:   1%|      | 413/29446 [45:49<52:27:34,  6.50s/it]"
     ]
    },
    {
     "name": "stdout",
     "output_type": "stream",
     "text": [
      "Error fetching URL: https://www.agoda.com/partners/partnersearch.aspx?hid=240663 - Message: no such element: Unable to locate element: {\"method\":\"css selector\",\"selector\":\"a[data-element-name='property-card-content']\"}\n",
      "  (Session info: chrome=130.0.6723.117); For documentation on this error, please visit: https://www.selenium.dev/documentation/webdriver/troubleshooting/errors#no-such-element-exception\n",
      "Stacktrace:\n",
      "\tGetHandleVerifier [0x00007FF6FD4338A5+3004357]\n",
      "\t(No symbol) [0x00007FF6FD0C9970]\n",
      "\t(No symbol) [0x00007FF6FCF7582A]\n",
      "\t(No symbol) [0x00007FF6FCFC5B8E]\n",
      "\t(No symbol) [0x00007FF6FCFC5E7C]\n",
      "\t(No symbol) [0x00007FF6FD00EC27]\n",
      "\t(No symbol) [0x00007FF6FCFEBC1F]\n",
      "\t(No symbol) [0x00007FF6FD00BA4C]\n",
      "\t(No symbol) [0x00007FF6FCFEB983]\n",
      "\t(No symbol) [0x00007FF6FCFB7628]\n",
      "\t(No symbol) [0x00007FF6FCFB8791]\n",
      "\tGetHandleVerifier [0x00007FF6FD45A00D+3161901]\n",
      "\tGetHandleVerifier [0x00007FF6FD4AE060+3506048]\n",
      "\tGetHandleVerifier [0x00007FF6FD4A400D+3465005]\n",
      "\tGetHandleVerifier [0x00007FF6FD220EEB+830987]\n",
      "\t(No symbol) [0x00007FF6FD0D467F]\n",
      "\t(No symbol) [0x00007FF6FD0D09D4]\n",
      "\t(No symbol) [0x00007FF6FD0D0B6D]\n",
      "\t(No symbol) [0x00007FF6FD0C0149]\n",
      "\tBaseThreadInitThunk [0x00007FFB7AAA7374+20]\n",
      "\tRtlUserThreadStart [0x00007FFB7C37CC91+33]\n",
      "\n"
     ]
    },
    {
     "name": "stderr",
     "output_type": "stream",
     "text": [
      "Processing URLs:   1%|      | 415/29446 [46:02<53:15:52,  6.61s/it]"
     ]
    },
    {
     "name": "stdout",
     "output_type": "stream",
     "text": [
      "Error fetching URL: https://www.agoda.com/partners/partnersearch.aspx?hid=241110 - Message: no such element: Unable to locate element: {\"method\":\"css selector\",\"selector\":\"a[data-element-name='property-card-content']\"}\n",
      "  (Session info: chrome=130.0.6723.117); For documentation on this error, please visit: https://www.selenium.dev/documentation/webdriver/troubleshooting/errors#no-such-element-exception\n",
      "Stacktrace:\n",
      "\tGetHandleVerifier [0x00007FF6FD4338A5+3004357]\n",
      "\t(No symbol) [0x00007FF6FD0C9970]\n",
      "\t(No symbol) [0x00007FF6FCF7582A]\n",
      "\t(No symbol) [0x00007FF6FCFC5B8E]\n",
      "\t(No symbol) [0x00007FF6FCFC5E7C]\n",
      "\t(No symbol) [0x00007FF6FD00EC27]\n",
      "\t(No symbol) [0x00007FF6FCFEBC1F]\n",
      "\t(No symbol) [0x00007FF6FD00BA4C]\n",
      "\t(No symbol) [0x00007FF6FCFEB983]\n",
      "\t(No symbol) [0x00007FF6FCFB7628]\n",
      "\t(No symbol) [0x00007FF6FCFB8791]\n",
      "\tGetHandleVerifier [0x00007FF6FD45A00D+3161901]\n",
      "\tGetHandleVerifier [0x00007FF6FD4AE060+3506048]\n",
      "\tGetHandleVerifier [0x00007FF6FD4A400D+3465005]\n",
      "\tGetHandleVerifier [0x00007FF6FD220EEB+830987]\n",
      "\t(No symbol) [0x00007FF6FD0D467F]\n",
      "\t(No symbol) [0x00007FF6FD0D09D4]\n",
      "\t(No symbol) [0x00007FF6FD0D0B6D]\n",
      "\t(No symbol) [0x00007FF6FD0C0149]\n",
      "\tBaseThreadInitThunk [0x00007FFB7AAA7374+20]\n",
      "\tRtlUserThreadStart [0x00007FFB7C37CC91+33]\n",
      "\n"
     ]
    },
    {
     "name": "stderr",
     "output_type": "stream",
     "text": [
      "Processing URLs:   1%|      | 417/29446 [46:16<54:30:18,  6.76s/it]"
     ]
    },
    {
     "name": "stdout",
     "output_type": "stream",
     "text": [
      "Error fetching URL: https://www.agoda.com/partners/partnersearch.aspx?hid=241509 - Message: no such element: Unable to locate element: {\"method\":\"css selector\",\"selector\":\"a[data-element-name='property-card-content']\"}\n",
      "  (Session info: chrome=130.0.6723.117); For documentation on this error, please visit: https://www.selenium.dev/documentation/webdriver/troubleshooting/errors#no-such-element-exception\n",
      "Stacktrace:\n",
      "\tGetHandleVerifier [0x00007FF6FD4338A5+3004357]\n",
      "\t(No symbol) [0x00007FF6FD0C9970]\n",
      "\t(No symbol) [0x00007FF6FCF7582A]\n",
      "\t(No symbol) [0x00007FF6FCFC5B8E]\n",
      "\t(No symbol) [0x00007FF6FCFC5E7C]\n",
      "\t(No symbol) [0x00007FF6FD00EC27]\n",
      "\t(No symbol) [0x00007FF6FCFEBC1F]\n",
      "\t(No symbol) [0x00007FF6FD00BA4C]\n",
      "\t(No symbol) [0x00007FF6FCFEB983]\n",
      "\t(No symbol) [0x00007FF6FCFB7628]\n",
      "\t(No symbol) [0x00007FF6FCFB8791]\n",
      "\tGetHandleVerifier [0x00007FF6FD45A00D+3161901]\n",
      "\tGetHandleVerifier [0x00007FF6FD4AE060+3506048]\n",
      "\tGetHandleVerifier [0x00007FF6FD4A400D+3465005]\n",
      "\tGetHandleVerifier [0x00007FF6FD220EEB+830987]\n",
      "\t(No symbol) [0x00007FF6FD0D467F]\n",
      "\t(No symbol) [0x00007FF6FD0D09D4]\n",
      "\t(No symbol) [0x00007FF6FD0D0B6D]\n",
      "\t(No symbol) [0x00007FF6FD0C0149]\n",
      "\tBaseThreadInitThunk [0x00007FFB7AAA7374+20]\n",
      "\tRtlUserThreadStart [0x00007FFB7C37CC91+33]\n",
      "\n"
     ]
    },
    {
     "name": "stderr",
     "output_type": "stream",
     "text": [
      "Processing URLs:   1%|      | 421/29446 [46:42<53:23:18,  6.62s/it]"
     ]
    },
    {
     "name": "stdout",
     "output_type": "stream",
     "text": [
      "Error fetching URL: https://www.agoda.com/partners/partnersearch.aspx?hid=246215 - Message: no such element: Unable to locate element: {\"method\":\"css selector\",\"selector\":\"a[data-element-name='property-card-content']\"}\n",
      "  (Session info: chrome=130.0.6723.117); For documentation on this error, please visit: https://www.selenium.dev/documentation/webdriver/troubleshooting/errors#no-such-element-exception\n",
      "Stacktrace:\n",
      "\tGetHandleVerifier [0x00007FF6FD4338A5+3004357]\n",
      "\t(No symbol) [0x00007FF6FD0C9970]\n",
      "\t(No symbol) [0x00007FF6FCF7582A]\n",
      "\t(No symbol) [0x00007FF6FCFC5B8E]\n",
      "\t(No symbol) [0x00007FF6FCFC5E7C]\n",
      "\t(No symbol) [0x00007FF6FD00EC27]\n",
      "\t(No symbol) [0x00007FF6FCFEBC1F]\n",
      "\t(No symbol) [0x00007FF6FD00BA4C]\n",
      "\t(No symbol) [0x00007FF6FCFEB983]\n",
      "\t(No symbol) [0x00007FF6FCFB7628]\n",
      "\t(No symbol) [0x00007FF6FCFB8791]\n",
      "\tGetHandleVerifier [0x00007FF6FD45A00D+3161901]\n",
      "\tGetHandleVerifier [0x00007FF6FD4AE060+3506048]\n",
      "\tGetHandleVerifier [0x00007FF6FD4A400D+3465005]\n",
      "\tGetHandleVerifier [0x00007FF6FD220EEB+830987]\n",
      "\t(No symbol) [0x00007FF6FD0D467F]\n",
      "\t(No symbol) [0x00007FF6FD0D09D4]\n",
      "\t(No symbol) [0x00007FF6FD0D0B6D]\n",
      "\t(No symbol) [0x00007FF6FD0C0149]\n",
      "\tBaseThreadInitThunk [0x00007FFB7AAA7374+20]\n",
      "\tRtlUserThreadStart [0x00007FFB7C37CC91+33]\n",
      "\n"
     ]
    },
    {
     "name": "stderr",
     "output_type": "stream",
     "text": [
      "Processing URLs:   1%|      | 422/29446 [46:49<52:47:31,  6.55s/it]"
     ]
    },
    {
     "name": "stdout",
     "output_type": "stream",
     "text": [
      "Error fetching URL: https://www.agoda.com/partners/partnersearch.aspx?hid=246286 - Message: no such element: Unable to locate element: {\"method\":\"css selector\",\"selector\":\"a[data-element-name='property-card-content']\"}\n",
      "  (Session info: chrome=130.0.6723.117); For documentation on this error, please visit: https://www.selenium.dev/documentation/webdriver/troubleshooting/errors#no-such-element-exception\n",
      "Stacktrace:\n",
      "\tGetHandleVerifier [0x00007FF6FD4338A5+3004357]\n",
      "\t(No symbol) [0x00007FF6FD0C9970]\n",
      "\t(No symbol) [0x00007FF6FCF7582A]\n",
      "\t(No symbol) [0x00007FF6FCFC5B8E]\n",
      "\t(No symbol) [0x00007FF6FCFC5E7C]\n",
      "\t(No symbol) [0x00007FF6FD00EC27]\n",
      "\t(No symbol) [0x00007FF6FCFEBC1F]\n",
      "\t(No symbol) [0x00007FF6FD00BA4C]\n",
      "\t(No symbol) [0x00007FF6FCFEB983]\n",
      "\t(No symbol) [0x00007FF6FCFB7628]\n",
      "\t(No symbol) [0x00007FF6FCFB8791]\n",
      "\tGetHandleVerifier [0x00007FF6FD45A00D+3161901]\n",
      "\tGetHandleVerifier [0x00007FF6FD4AE060+3506048]\n",
      "\tGetHandleVerifier [0x00007FF6FD4A400D+3465005]\n",
      "\tGetHandleVerifier [0x00007FF6FD220EEB+830987]\n",
      "\t(No symbol) [0x00007FF6FD0D467F]\n",
      "\t(No symbol) [0x00007FF6FD0D09D4]\n",
      "\t(No symbol) [0x00007FF6FD0D0B6D]\n",
      "\t(No symbol) [0x00007FF6FD0C0149]\n",
      "\tBaseThreadInitThunk [0x00007FFB7AAA7374+20]\n",
      "\tRtlUserThreadStart [0x00007FFB7C37CC91+33]\n",
      "\n"
     ]
    },
    {
     "name": "stderr",
     "output_type": "stream",
     "text": [
      "Processing URLs:   1%|      | 423/29446 [46:55<53:04:11,  6.58s/it]"
     ]
    },
    {
     "name": "stdout",
     "output_type": "stream",
     "text": [
      "Error fetching URL: https://www.agoda.com/partners/partnersearch.aspx?hid=246309 - Message: no such element: Unable to locate element: {\"method\":\"css selector\",\"selector\":\"a[data-element-name='property-card-content']\"}\n",
      "  (Session info: chrome=130.0.6723.117); For documentation on this error, please visit: https://www.selenium.dev/documentation/webdriver/troubleshooting/errors#no-such-element-exception\n",
      "Stacktrace:\n",
      "\tGetHandleVerifier [0x00007FF6FD4338A5+3004357]\n",
      "\t(No symbol) [0x00007FF6FD0C9970]\n",
      "\t(No symbol) [0x00007FF6FCF7582A]\n",
      "\t(No symbol) [0x00007FF6FCFC5B8E]\n",
      "\t(No symbol) [0x00007FF6FCFC5E7C]\n",
      "\t(No symbol) [0x00007FF6FD00EC27]\n",
      "\t(No symbol) [0x00007FF6FCFEBC1F]\n",
      "\t(No symbol) [0x00007FF6FD00BA4C]\n",
      "\t(No symbol) [0x00007FF6FCFEB983]\n",
      "\t(No symbol) [0x00007FF6FCFB7628]\n",
      "\t(No symbol) [0x00007FF6FCFB8791]\n",
      "\tGetHandleVerifier [0x00007FF6FD45A00D+3161901]\n",
      "\tGetHandleVerifier [0x00007FF6FD4AE060+3506048]\n",
      "\tGetHandleVerifier [0x00007FF6FD4A400D+3465005]\n",
      "\tGetHandleVerifier [0x00007FF6FD220EEB+830987]\n",
      "\t(No symbol) [0x00007FF6FD0D467F]\n",
      "\t(No symbol) [0x00007FF6FD0D09D4]\n",
      "\t(No symbol) [0x00007FF6FD0D0B6D]\n",
      "\t(No symbol) [0x00007FF6FD0C0149]\n",
      "\tBaseThreadInitThunk [0x00007FFB7AAA7374+20]\n",
      "\tRtlUserThreadStart [0x00007FFB7C37CC91+33]\n",
      "\n"
     ]
    },
    {
     "name": "stderr",
     "output_type": "stream",
     "text": [
      "Processing URLs:   1%|      | 424/29446 [47:02<53:04:46,  6.58s/it]"
     ]
    },
    {
     "name": "stdout",
     "output_type": "stream",
     "text": [
      "Error fetching URL: https://www.agoda.com/partners/partnersearch.aspx?hid=246332 - Message: no such element: Unable to locate element: {\"method\":\"css selector\",\"selector\":\"a[data-element-name='property-card-content']\"}\n",
      "  (Session info: chrome=130.0.6723.117); For documentation on this error, please visit: https://www.selenium.dev/documentation/webdriver/troubleshooting/errors#no-such-element-exception\n",
      "Stacktrace:\n",
      "\tGetHandleVerifier [0x00007FF6FD4338A5+3004357]\n",
      "\t(No symbol) [0x00007FF6FD0C9970]\n",
      "\t(No symbol) [0x00007FF6FCF7582A]\n",
      "\t(No symbol) [0x00007FF6FCFC5B8E]\n",
      "\t(No symbol) [0x00007FF6FCFC5E7C]\n",
      "\t(No symbol) [0x00007FF6FD00EC27]\n",
      "\t(No symbol) [0x00007FF6FCFEBC1F]\n",
      "\t(No symbol) [0x00007FF6FD00BA4C]\n",
      "\t(No symbol) [0x00007FF6FCFEB983]\n",
      "\t(No symbol) [0x00007FF6FCFB7628]\n",
      "\t(No symbol) [0x00007FF6FCFB8791]\n",
      "\tGetHandleVerifier [0x00007FF6FD45A00D+3161901]\n",
      "\tGetHandleVerifier [0x00007FF6FD4AE060+3506048]\n",
      "\tGetHandleVerifier [0x00007FF6FD4A400D+3465005]\n",
      "\tGetHandleVerifier [0x00007FF6FD220EEB+830987]\n",
      "\t(No symbol) [0x00007FF6FD0D467F]\n",
      "\t(No symbol) [0x00007FF6FD0D09D4]\n",
      "\t(No symbol) [0x00007FF6FD0D0B6D]\n",
      "\t(No symbol) [0x00007FF6FD0C0149]\n",
      "\tBaseThreadInitThunk [0x00007FFB7AAA7374+20]\n",
      "\tRtlUserThreadStart [0x00007FFB7C37CC91+33]\n",
      "\n"
     ]
    },
    {
     "name": "stderr",
     "output_type": "stream",
     "text": [
      "Processing URLs:   1%|      | 425/29446 [47:09<53:21:26,  6.62s/it]"
     ]
    },
    {
     "name": "stdout",
     "output_type": "stream",
     "text": [
      "Error fetching URL: https://www.agoda.com/partners/partnersearch.aspx?hid=246334 - Message: no such element: Unable to locate element: {\"method\":\"css selector\",\"selector\":\"a[data-element-name='property-card-content']\"}\n",
      "  (Session info: chrome=130.0.6723.117); For documentation on this error, please visit: https://www.selenium.dev/documentation/webdriver/troubleshooting/errors#no-such-element-exception\n",
      "Stacktrace:\n",
      "\tGetHandleVerifier [0x00007FF6FD4338A5+3004357]\n",
      "\t(No symbol) [0x00007FF6FD0C9970]\n",
      "\t(No symbol) [0x00007FF6FCF7582A]\n",
      "\t(No symbol) [0x00007FF6FCFC5B8E]\n",
      "\t(No symbol) [0x00007FF6FCFC5E7C]\n",
      "\t(No symbol) [0x00007FF6FD00EC27]\n",
      "\t(No symbol) [0x00007FF6FCFEBC1F]\n",
      "\t(No symbol) [0x00007FF6FD00BA4C]\n",
      "\t(No symbol) [0x00007FF6FCFEB983]\n",
      "\t(No symbol) [0x00007FF6FCFB7628]\n",
      "\t(No symbol) [0x00007FF6FCFB8791]\n",
      "\tGetHandleVerifier [0x00007FF6FD45A00D+3161901]\n",
      "\tGetHandleVerifier [0x00007FF6FD4AE060+3506048]\n",
      "\tGetHandleVerifier [0x00007FF6FD4A400D+3465005]\n",
      "\tGetHandleVerifier [0x00007FF6FD220EEB+830987]\n",
      "\t(No symbol) [0x00007FF6FD0D467F]\n",
      "\t(No symbol) [0x00007FF6FD0D09D4]\n",
      "\t(No symbol) [0x00007FF6FD0D0B6D]\n",
      "\t(No symbol) [0x00007FF6FD0C0149]\n",
      "\tBaseThreadInitThunk [0x00007FFB7AAA7374+20]\n",
      "\tRtlUserThreadStart [0x00007FFB7C37CC91+33]\n",
      "\n"
     ]
    },
    {
     "name": "stderr",
     "output_type": "stream",
     "text": [
      "Processing URLs:   1%|      | 426/29446 [47:15<52:31:23,  6.52s/it]"
     ]
    },
    {
     "name": "stdout",
     "output_type": "stream",
     "text": [
      "Error fetching URL: https://www.agoda.com/partners/partnersearch.aspx?hid=246345 - Message: no such element: Unable to locate element: {\"method\":\"css selector\",\"selector\":\"a[data-element-name='property-card-content']\"}\n",
      "  (Session info: chrome=130.0.6723.117); For documentation on this error, please visit: https://www.selenium.dev/documentation/webdriver/troubleshooting/errors#no-such-element-exception\n",
      "Stacktrace:\n",
      "\tGetHandleVerifier [0x00007FF6FD4338A5+3004357]\n",
      "\t(No symbol) [0x00007FF6FD0C9970]\n",
      "\t(No symbol) [0x00007FF6FCF7582A]\n",
      "\t(No symbol) [0x00007FF6FCFC5B8E]\n",
      "\t(No symbol) [0x00007FF6FCFC5E7C]\n",
      "\t(No symbol) [0x00007FF6FD00EC27]\n",
      "\t(No symbol) [0x00007FF6FCFEBC1F]\n",
      "\t(No symbol) [0x00007FF6FD00BA4C]\n",
      "\t(No symbol) [0x00007FF6FCFEB983]\n",
      "\t(No symbol) [0x00007FF6FCFB7628]\n",
      "\t(No symbol) [0x00007FF6FCFB8791]\n",
      "\tGetHandleVerifier [0x00007FF6FD45A00D+3161901]\n",
      "\tGetHandleVerifier [0x00007FF6FD4AE060+3506048]\n",
      "\tGetHandleVerifier [0x00007FF6FD4A400D+3465005]\n",
      "\tGetHandleVerifier [0x00007FF6FD220EEB+830987]\n",
      "\t(No symbol) [0x00007FF6FD0D467F]\n",
      "\t(No symbol) [0x00007FF6FD0D09D4]\n",
      "\t(No symbol) [0x00007FF6FD0D0B6D]\n",
      "\t(No symbol) [0x00007FF6FD0C0149]\n",
      "\tBaseThreadInitThunk [0x00007FFB7AAA7374+20]\n",
      "\tRtlUserThreadStart [0x00007FFB7C37CC91+33]\n",
      "\n"
     ]
    },
    {
     "name": "stderr",
     "output_type": "stream",
     "text": [
      "Processing URLs:   1%|      | 427/29446 [47:21<52:31:31,  6.52s/it]"
     ]
    },
    {
     "name": "stdout",
     "output_type": "stream",
     "text": [
      "Error fetching URL: https://www.agoda.com/partners/partnersearch.aspx?hid=247355 - Message: no such element: Unable to locate element: {\"method\":\"css selector\",\"selector\":\"a[data-element-name='property-card-content']\"}\n",
      "  (Session info: chrome=130.0.6723.117); For documentation on this error, please visit: https://www.selenium.dev/documentation/webdriver/troubleshooting/errors#no-such-element-exception\n",
      "Stacktrace:\n",
      "\tGetHandleVerifier [0x00007FF6FD4338A5+3004357]\n",
      "\t(No symbol) [0x00007FF6FD0C9970]\n",
      "\t(No symbol) [0x00007FF6FCF7582A]\n",
      "\t(No symbol) [0x00007FF6FCFC5B8E]\n",
      "\t(No symbol) [0x00007FF6FCFC5E7C]\n",
      "\t(No symbol) [0x00007FF6FD00EC27]\n",
      "\t(No symbol) [0x00007FF6FCFEBC1F]\n",
      "\t(No symbol) [0x00007FF6FD00BA4C]\n",
      "\t(No symbol) [0x00007FF6FCFEB983]\n",
      "\t(No symbol) [0x00007FF6FCFB7628]\n",
      "\t(No symbol) [0x00007FF6FCFB8791]\n",
      "\tGetHandleVerifier [0x00007FF6FD45A00D+3161901]\n",
      "\tGetHandleVerifier [0x00007FF6FD4AE060+3506048]\n",
      "\tGetHandleVerifier [0x00007FF6FD4A400D+3465005]\n",
      "\tGetHandleVerifier [0x00007FF6FD220EEB+830987]\n",
      "\t(No symbol) [0x00007FF6FD0D467F]\n",
      "\t(No symbol) [0x00007FF6FD0D09D4]\n",
      "\t(No symbol) [0x00007FF6FD0D0B6D]\n",
      "\t(No symbol) [0x00007FF6FD0C0149]\n",
      "\tBaseThreadInitThunk [0x00007FFB7AAA7374+20]\n",
      "\tRtlUserThreadStart [0x00007FFB7C37CC91+33]\n",
      "\n"
     ]
    },
    {
     "name": "stderr",
     "output_type": "stream",
     "text": [
      "Processing URLs:   1%|      | 430/29446 [47:41<52:49:24,  6.55s/it]"
     ]
    },
    {
     "name": "stdout",
     "output_type": "stream",
     "text": [
      "Error fetching URL: https://www.agoda.com/partners/partnersearch.aspx?hid=247383 - Message: no such element: Unable to locate element: {\"method\":\"css selector\",\"selector\":\"a[data-element-name='property-card-content']\"}\n",
      "  (Session info: chrome=130.0.6723.117); For documentation on this error, please visit: https://www.selenium.dev/documentation/webdriver/troubleshooting/errors#no-such-element-exception\n",
      "Stacktrace:\n",
      "\tGetHandleVerifier [0x00007FF6FD4338A5+3004357]\n",
      "\t(No symbol) [0x00007FF6FD0C9970]\n",
      "\t(No symbol) [0x00007FF6FCF7582A]\n",
      "\t(No symbol) [0x00007FF6FCFC5B8E]\n",
      "\t(No symbol) [0x00007FF6FCFC5E7C]\n",
      "\t(No symbol) [0x00007FF6FD00EC27]\n",
      "\t(No symbol) [0x00007FF6FCFEBC1F]\n",
      "\t(No symbol) [0x00007FF6FD00BA4C]\n",
      "\t(No symbol) [0x00007FF6FCFEB983]\n",
      "\t(No symbol) [0x00007FF6FCFB7628]\n",
      "\t(No symbol) [0x00007FF6FCFB8791]\n",
      "\tGetHandleVerifier [0x00007FF6FD45A00D+3161901]\n",
      "\tGetHandleVerifier [0x00007FF6FD4AE060+3506048]\n",
      "\tGetHandleVerifier [0x00007FF6FD4A400D+3465005]\n",
      "\tGetHandleVerifier [0x00007FF6FD220EEB+830987]\n",
      "\t(No symbol) [0x00007FF6FD0D467F]\n",
      "\t(No symbol) [0x00007FF6FD0D09D4]\n",
      "\t(No symbol) [0x00007FF6FD0D0B6D]\n",
      "\t(No symbol) [0x00007FF6FD0C0149]\n",
      "\tBaseThreadInitThunk [0x00007FFB7AAA7374+20]\n",
      "\tRtlUserThreadStart [0x00007FFB7C37CC91+33]\n",
      "\n"
     ]
    },
    {
     "name": "stderr",
     "output_type": "stream",
     "text": [
      "Processing URLs:   1%|      | 431/29446 [47:48<52:56:41,  6.57s/it]"
     ]
    },
    {
     "name": "stdout",
     "output_type": "stream",
     "text": [
      "Error fetching URL: https://www.agoda.com/partners/partnersearch.aspx?hid=247384 - Message: no such element: Unable to locate element: {\"method\":\"css selector\",\"selector\":\"a[data-element-name='property-card-content']\"}\n",
      "  (Session info: chrome=130.0.6723.117); For documentation on this error, please visit: https://www.selenium.dev/documentation/webdriver/troubleshooting/errors#no-such-element-exception\n",
      "Stacktrace:\n",
      "\tGetHandleVerifier [0x00007FF6FD4338A5+3004357]\n",
      "\t(No symbol) [0x00007FF6FD0C9970]\n",
      "\t(No symbol) [0x00007FF6FCF7582A]\n",
      "\t(No symbol) [0x00007FF6FCFC5B8E]\n",
      "\t(No symbol) [0x00007FF6FCFC5E7C]\n",
      "\t(No symbol) [0x00007FF6FD00EC27]\n",
      "\t(No symbol) [0x00007FF6FCFEBC1F]\n",
      "\t(No symbol) [0x00007FF6FD00BA4C]\n",
      "\t(No symbol) [0x00007FF6FCFEB983]\n",
      "\t(No symbol) [0x00007FF6FCFB7628]\n",
      "\t(No symbol) [0x00007FF6FCFB8791]\n",
      "\tGetHandleVerifier [0x00007FF6FD45A00D+3161901]\n",
      "\tGetHandleVerifier [0x00007FF6FD4AE060+3506048]\n",
      "\tGetHandleVerifier [0x00007FF6FD4A400D+3465005]\n",
      "\tGetHandleVerifier [0x00007FF6FD220EEB+830987]\n",
      "\t(No symbol) [0x00007FF6FD0D467F]\n",
      "\t(No symbol) [0x00007FF6FD0D09D4]\n",
      "\t(No symbol) [0x00007FF6FD0D0B6D]\n",
      "\t(No symbol) [0x00007FF6FD0C0149]\n",
      "\tBaseThreadInitThunk [0x00007FFB7AAA7374+20]\n",
      "\tRtlUserThreadStart [0x00007FFB7C37CC91+33]\n",
      "\n"
     ]
    },
    {
     "name": "stderr",
     "output_type": "stream",
     "text": [
      "Processing URLs:   1%|      | 435/29446 [48:15<55:15:06,  6.86s/it]"
     ]
    },
    {
     "name": "stdout",
     "output_type": "stream",
     "text": [
      "Error fetching URL: https://www.agoda.com/partners/partnersearch.aspx?hid=247526 - Message: no such element: Unable to locate element: {\"method\":\"css selector\",\"selector\":\"a[data-element-name='property-card-content']\"}\n",
      "  (Session info: chrome=130.0.6723.117); For documentation on this error, please visit: https://www.selenium.dev/documentation/webdriver/troubleshooting/errors#no-such-element-exception\n",
      "Stacktrace:\n",
      "\tGetHandleVerifier [0x00007FF6FD4338A5+3004357]\n",
      "\t(No symbol) [0x00007FF6FD0C9970]\n",
      "\t(No symbol) [0x00007FF6FCF7582A]\n",
      "\t(No symbol) [0x00007FF6FCFC5B8E]\n",
      "\t(No symbol) [0x00007FF6FCFC5E7C]\n",
      "\t(No symbol) [0x00007FF6FD00EC27]\n",
      "\t(No symbol) [0x00007FF6FCFEBC1F]\n",
      "\t(No symbol) [0x00007FF6FD00BA4C]\n",
      "\t(No symbol) [0x00007FF6FCFEB983]\n",
      "\t(No symbol) [0x00007FF6FCFB7628]\n",
      "\t(No symbol) [0x00007FF6FCFB8791]\n",
      "\tGetHandleVerifier [0x00007FF6FD45A00D+3161901]\n",
      "\tGetHandleVerifier [0x00007FF6FD4AE060+3506048]\n",
      "\tGetHandleVerifier [0x00007FF6FD4A400D+3465005]\n",
      "\tGetHandleVerifier [0x00007FF6FD220EEB+830987]\n",
      "\t(No symbol) [0x00007FF6FD0D467F]\n",
      "\t(No symbol) [0x00007FF6FD0D09D4]\n",
      "\t(No symbol) [0x00007FF6FD0D0B6D]\n",
      "\t(No symbol) [0x00007FF6FD0C0149]\n",
      "\tBaseThreadInitThunk [0x00007FFB7AAA7374+20]\n",
      "\tRtlUserThreadStart [0x00007FFB7C37CC91+33]\n",
      "\n"
     ]
    },
    {
     "name": "stderr",
     "output_type": "stream",
     "text": [
      "Processing URLs:   1%|      | 436/29446 [48:22<54:33:07,  6.77s/it]"
     ]
    },
    {
     "name": "stdout",
     "output_type": "stream",
     "text": [
      "Error fetching URL: https://www.agoda.com/partners/partnersearch.aspx?hid=247540 - Message: no such element: Unable to locate element: {\"method\":\"css selector\",\"selector\":\"a[data-element-name='property-card-content']\"}\n",
      "  (Session info: chrome=130.0.6723.117); For documentation on this error, please visit: https://www.selenium.dev/documentation/webdriver/troubleshooting/errors#no-such-element-exception\n",
      "Stacktrace:\n",
      "\tGetHandleVerifier [0x00007FF6FD4338A5+3004357]\n",
      "\t(No symbol) [0x00007FF6FD0C9970]\n",
      "\t(No symbol) [0x00007FF6FCF7582A]\n",
      "\t(No symbol) [0x00007FF6FCFC5B8E]\n",
      "\t(No symbol) [0x00007FF6FCFC5E7C]\n",
      "\t(No symbol) [0x00007FF6FD00EC27]\n",
      "\t(No symbol) [0x00007FF6FCFEBC1F]\n",
      "\t(No symbol) [0x00007FF6FD00BA4C]\n",
      "\t(No symbol) [0x00007FF6FCFEB983]\n",
      "\t(No symbol) [0x00007FF6FCFB7628]\n",
      "\t(No symbol) [0x00007FF6FCFB8791]\n",
      "\tGetHandleVerifier [0x00007FF6FD45A00D+3161901]\n",
      "\tGetHandleVerifier [0x00007FF6FD4AE060+3506048]\n",
      "\tGetHandleVerifier [0x00007FF6FD4A400D+3465005]\n",
      "\tGetHandleVerifier [0x00007FF6FD220EEB+830987]\n",
      "\t(No symbol) [0x00007FF6FD0D467F]\n",
      "\t(No symbol) [0x00007FF6FD0D09D4]\n",
      "\t(No symbol) [0x00007FF6FD0D0B6D]\n",
      "\t(No symbol) [0x00007FF6FD0C0149]\n",
      "\tBaseThreadInitThunk [0x00007FFB7AAA7374+20]\n",
      "\tRtlUserThreadStart [0x00007FFB7C37CC91+33]\n",
      "\n"
     ]
    },
    {
     "name": "stderr",
     "output_type": "stream",
     "text": [
      "Processing URLs:   1%|      | 437/29446 [48:28<54:08:54,  6.72s/it]"
     ]
    },
    {
     "name": "stdout",
     "output_type": "stream",
     "text": [
      "Error fetching URL: https://www.agoda.com/partners/partnersearch.aspx?hid=247587 - Message: no such element: Unable to locate element: {\"method\":\"css selector\",\"selector\":\"a[data-element-name='property-card-content']\"}\n",
      "  (Session info: chrome=130.0.6723.117); For documentation on this error, please visit: https://www.selenium.dev/documentation/webdriver/troubleshooting/errors#no-such-element-exception\n",
      "Stacktrace:\n",
      "\tGetHandleVerifier [0x00007FF6FD4338A5+3004357]\n",
      "\t(No symbol) [0x00007FF6FD0C9970]\n",
      "\t(No symbol) [0x00007FF6FCF7582A]\n",
      "\t(No symbol) [0x00007FF6FCFC5B8E]\n",
      "\t(No symbol) [0x00007FF6FCFC5E7C]\n",
      "\t(No symbol) [0x00007FF6FD00EC27]\n",
      "\t(No symbol) [0x00007FF6FCFEBC1F]\n",
      "\t(No symbol) [0x00007FF6FD00BA4C]\n",
      "\t(No symbol) [0x00007FF6FCFEB983]\n",
      "\t(No symbol) [0x00007FF6FCFB7628]\n",
      "\t(No symbol) [0x00007FF6FCFB8791]\n",
      "\tGetHandleVerifier [0x00007FF6FD45A00D+3161901]\n",
      "\tGetHandleVerifier [0x00007FF6FD4AE060+3506048]\n",
      "\tGetHandleVerifier [0x00007FF6FD4A400D+3465005]\n",
      "\tGetHandleVerifier [0x00007FF6FD220EEB+830987]\n",
      "\t(No symbol) [0x00007FF6FD0D467F]\n",
      "\t(No symbol) [0x00007FF6FD0D09D4]\n",
      "\t(No symbol) [0x00007FF6FD0D0B6D]\n",
      "\t(No symbol) [0x00007FF6FD0C0149]\n",
      "\tBaseThreadInitThunk [0x00007FFB7AAA7374+20]\n",
      "\tRtlUserThreadStart [0x00007FFB7C37CC91+33]\n",
      "\n"
     ]
    },
    {
     "name": "stderr",
     "output_type": "stream",
     "text": [
      "Processing URLs:   1%|      | 439/29446 [48:41<53:10:07,  6.60s/it]"
     ]
    },
    {
     "name": "stdout",
     "output_type": "stream",
     "text": [
      "Error fetching URL: https://www.agoda.com/partners/partnersearch.aspx?hid=247696 - Message: no such element: Unable to locate element: {\"method\":\"css selector\",\"selector\":\"a[data-element-name='property-card-content']\"}\n",
      "  (Session info: chrome=130.0.6723.117); For documentation on this error, please visit: https://www.selenium.dev/documentation/webdriver/troubleshooting/errors#no-such-element-exception\n",
      "Stacktrace:\n",
      "\tGetHandleVerifier [0x00007FF6FD4338A5+3004357]\n",
      "\t(No symbol) [0x00007FF6FD0C9970]\n",
      "\t(No symbol) [0x00007FF6FCF7582A]\n",
      "\t(No symbol) [0x00007FF6FCFC5B8E]\n",
      "\t(No symbol) [0x00007FF6FCFC5E7C]\n",
      "\t(No symbol) [0x00007FF6FD00EC27]\n",
      "\t(No symbol) [0x00007FF6FCFEBC1F]\n",
      "\t(No symbol) [0x00007FF6FD00BA4C]\n",
      "\t(No symbol) [0x00007FF6FCFEB983]\n",
      "\t(No symbol) [0x00007FF6FCFB7628]\n",
      "\t(No symbol) [0x00007FF6FCFB8791]\n",
      "\tGetHandleVerifier [0x00007FF6FD45A00D+3161901]\n",
      "\tGetHandleVerifier [0x00007FF6FD4AE060+3506048]\n",
      "\tGetHandleVerifier [0x00007FF6FD4A400D+3465005]\n",
      "\tGetHandleVerifier [0x00007FF6FD220EEB+830987]\n",
      "\t(No symbol) [0x00007FF6FD0D467F]\n",
      "\t(No symbol) [0x00007FF6FD0D09D4]\n",
      "\t(No symbol) [0x00007FF6FD0D0B6D]\n",
      "\t(No symbol) [0x00007FF6FD0C0149]\n",
      "\tBaseThreadInitThunk [0x00007FFB7AAA7374+20]\n",
      "\tRtlUserThreadStart [0x00007FFB7C37CC91+33]\n",
      "\n"
     ]
    },
    {
     "name": "stderr",
     "output_type": "stream",
     "text": [
      "Processing URLs:   1%|      | 441/29446 [48:54<52:34:34,  6.53s/it]"
     ]
    },
    {
     "name": "stdout",
     "output_type": "stream",
     "text": [
      "Error fetching URL: https://www.agoda.com/partners/partnersearch.aspx?hid=247789 - Message: no such element: Unable to locate element: {\"method\":\"css selector\",\"selector\":\"a[data-element-name='property-card-content']\"}\n",
      "  (Session info: chrome=130.0.6723.117); For documentation on this error, please visit: https://www.selenium.dev/documentation/webdriver/troubleshooting/errors#no-such-element-exception\n",
      "Stacktrace:\n",
      "\tGetHandleVerifier [0x00007FF6FD4338A5+3004357]\n",
      "\t(No symbol) [0x00007FF6FD0C9970]\n",
      "\t(No symbol) [0x00007FF6FCF7582A]\n",
      "\t(No symbol) [0x00007FF6FCFC5B8E]\n",
      "\t(No symbol) [0x00007FF6FCFC5E7C]\n",
      "\t(No symbol) [0x00007FF6FD00EC27]\n",
      "\t(No symbol) [0x00007FF6FCFEBC1F]\n",
      "\t(No symbol) [0x00007FF6FD00BA4C]\n",
      "\t(No symbol) [0x00007FF6FCFEB983]\n",
      "\t(No symbol) [0x00007FF6FCFB7628]\n",
      "\t(No symbol) [0x00007FF6FCFB8791]\n",
      "\tGetHandleVerifier [0x00007FF6FD45A00D+3161901]\n",
      "\tGetHandleVerifier [0x00007FF6FD4AE060+3506048]\n",
      "\tGetHandleVerifier [0x00007FF6FD4A400D+3465005]\n",
      "\tGetHandleVerifier [0x00007FF6FD220EEB+830987]\n",
      "\t(No symbol) [0x00007FF6FD0D467F]\n",
      "\t(No symbol) [0x00007FF6FD0D09D4]\n",
      "\t(No symbol) [0x00007FF6FD0D0B6D]\n",
      "\t(No symbol) [0x00007FF6FD0C0149]\n",
      "\tBaseThreadInitThunk [0x00007FFB7AAA7374+20]\n",
      "\tRtlUserThreadStart [0x00007FFB7C37CC91+33]\n",
      "\n"
     ]
    },
    {
     "name": "stderr",
     "output_type": "stream",
     "text": [
      "Processing URLs:   2%|      | 443/29446 [49:07<52:01:46,  6.46s/it]"
     ]
    },
    {
     "name": "stdout",
     "output_type": "stream",
     "text": [
      "Error fetching URL: https://www.agoda.com/partners/partnersearch.aspx?hid=247936 - Message: no such element: Unable to locate element: {\"method\":\"css selector\",\"selector\":\"a[data-element-name='property-card-content']\"}\n",
      "  (Session info: chrome=130.0.6723.117); For documentation on this error, please visit: https://www.selenium.dev/documentation/webdriver/troubleshooting/errors#no-such-element-exception\n",
      "Stacktrace:\n",
      "\tGetHandleVerifier [0x00007FF6FD4338A5+3004357]\n",
      "\t(No symbol) [0x00007FF6FD0C9970]\n",
      "\t(No symbol) [0x00007FF6FCF7582A]\n",
      "\t(No symbol) [0x00007FF6FCFC5B8E]\n",
      "\t(No symbol) [0x00007FF6FCFC5E7C]\n",
      "\t(No symbol) [0x00007FF6FD00EC27]\n",
      "\t(No symbol) [0x00007FF6FCFEBC1F]\n",
      "\t(No symbol) [0x00007FF6FD00BA4C]\n",
      "\t(No symbol) [0x00007FF6FCFEB983]\n",
      "\t(No symbol) [0x00007FF6FCFB7628]\n",
      "\t(No symbol) [0x00007FF6FCFB8791]\n",
      "\tGetHandleVerifier [0x00007FF6FD45A00D+3161901]\n",
      "\tGetHandleVerifier [0x00007FF6FD4AE060+3506048]\n",
      "\tGetHandleVerifier [0x00007FF6FD4A400D+3465005]\n",
      "\tGetHandleVerifier [0x00007FF6FD220EEB+830987]\n",
      "\t(No symbol) [0x00007FF6FD0D467F]\n",
      "\t(No symbol) [0x00007FF6FD0D09D4]\n",
      "\t(No symbol) [0x00007FF6FD0D0B6D]\n",
      "\t(No symbol) [0x00007FF6FD0C0149]\n",
      "\tBaseThreadInitThunk [0x00007FFB7AAA7374+20]\n",
      "\tRtlUserThreadStart [0x00007FFB7C37CC91+33]\n",
      "\n"
     ]
    },
    {
     "name": "stderr",
     "output_type": "stream",
     "text": [
      "Processing URLs:   2%|      | 445/29446 [49:20<52:41:13,  6.54s/it]"
     ]
    },
    {
     "name": "stdout",
     "output_type": "stream",
     "text": [
      "Error fetching URL: https://www.agoda.com/partners/partnersearch.aspx?hid=247939 - Message: no such element: Unable to locate element: {\"method\":\"css selector\",\"selector\":\"a[data-element-name='property-card-content']\"}\n",
      "  (Session info: chrome=130.0.6723.117); For documentation on this error, please visit: https://www.selenium.dev/documentation/webdriver/troubleshooting/errors#no-such-element-exception\n",
      "Stacktrace:\n",
      "\tGetHandleVerifier [0x00007FF6FD4338A5+3004357]\n",
      "\t(No symbol) [0x00007FF6FD0C9970]\n",
      "\t(No symbol) [0x00007FF6FCF7582A]\n",
      "\t(No symbol) [0x00007FF6FCFC5B8E]\n",
      "\t(No symbol) [0x00007FF6FCFC5E7C]\n",
      "\t(No symbol) [0x00007FF6FD00EC27]\n",
      "\t(No symbol) [0x00007FF6FCFEBC1F]\n",
      "\t(No symbol) [0x00007FF6FD00BA4C]\n",
      "\t(No symbol) [0x00007FF6FCFEB983]\n",
      "\t(No symbol) [0x00007FF6FCFB7628]\n",
      "\t(No symbol) [0x00007FF6FCFB8791]\n",
      "\tGetHandleVerifier [0x00007FF6FD45A00D+3161901]\n",
      "\tGetHandleVerifier [0x00007FF6FD4AE060+3506048]\n",
      "\tGetHandleVerifier [0x00007FF6FD4A400D+3465005]\n",
      "\tGetHandleVerifier [0x00007FF6FD220EEB+830987]\n",
      "\t(No symbol) [0x00007FF6FD0D467F]\n",
      "\t(No symbol) [0x00007FF6FD0D09D4]\n",
      "\t(No symbol) [0x00007FF6FD0D0B6D]\n",
      "\t(No symbol) [0x00007FF6FD0C0149]\n",
      "\tBaseThreadInitThunk [0x00007FFB7AAA7374+20]\n",
      "\tRtlUserThreadStart [0x00007FFB7C37CC91+33]\n",
      "\n"
     ]
    },
    {
     "name": "stderr",
     "output_type": "stream",
     "text": [
      "Processing URLs:   2%|      | 446/29446 [49:26<52:17:01,  6.49s/it]"
     ]
    },
    {
     "name": "stdout",
     "output_type": "stream",
     "text": [
      "Error fetching URL: https://www.agoda.com/partners/partnersearch.aspx?hid=247965 - Message: no such element: Unable to locate element: {\"method\":\"css selector\",\"selector\":\"a[data-element-name='property-card-content']\"}\n",
      "  (Session info: chrome=130.0.6723.117); For documentation on this error, please visit: https://www.selenium.dev/documentation/webdriver/troubleshooting/errors#no-such-element-exception\n",
      "Stacktrace:\n",
      "\tGetHandleVerifier [0x00007FF6FD4338A5+3004357]\n",
      "\t(No symbol) [0x00007FF6FD0C9970]\n",
      "\t(No symbol) [0x00007FF6FCF7582A]\n",
      "\t(No symbol) [0x00007FF6FCFC5B8E]\n",
      "\t(No symbol) [0x00007FF6FCFC5E7C]\n",
      "\t(No symbol) [0x00007FF6FD00EC27]\n",
      "\t(No symbol) [0x00007FF6FCFEBC1F]\n",
      "\t(No symbol) [0x00007FF6FD00BA4C]\n",
      "\t(No symbol) [0x00007FF6FCFEB983]\n",
      "\t(No symbol) [0x00007FF6FCFB7628]\n",
      "\t(No symbol) [0x00007FF6FCFB8791]\n",
      "\tGetHandleVerifier [0x00007FF6FD45A00D+3161901]\n",
      "\tGetHandleVerifier [0x00007FF6FD4AE060+3506048]\n",
      "\tGetHandleVerifier [0x00007FF6FD4A400D+3465005]\n",
      "\tGetHandleVerifier [0x00007FF6FD220EEB+830987]\n",
      "\t(No symbol) [0x00007FF6FD0D467F]\n",
      "\t(No symbol) [0x00007FF6FD0D09D4]\n",
      "\t(No symbol) [0x00007FF6FD0D0B6D]\n",
      "\t(No symbol) [0x00007FF6FD0C0149]\n",
      "\tBaseThreadInitThunk [0x00007FFB7AAA7374+20]\n",
      "\tRtlUserThreadStart [0x00007FFB7C37CC91+33]\n",
      "\n"
     ]
    },
    {
     "name": "stderr",
     "output_type": "stream",
     "text": [
      "Processing URLs:   2%|      | 447/29446 [49:33<51:50:20,  6.44s/it]"
     ]
    },
    {
     "name": "stdout",
     "output_type": "stream",
     "text": [
      "Error fetching URL: https://www.agoda.com/partners/partnersearch.aspx?hid=247990 - Message: no such element: Unable to locate element: {\"method\":\"css selector\",\"selector\":\"a[data-element-name='property-card-content']\"}\n",
      "  (Session info: chrome=130.0.6723.117); For documentation on this error, please visit: https://www.selenium.dev/documentation/webdriver/troubleshooting/errors#no-such-element-exception\n",
      "Stacktrace:\n",
      "\tGetHandleVerifier [0x00007FF6FD4338A5+3004357]\n",
      "\t(No symbol) [0x00007FF6FD0C9970]\n",
      "\t(No symbol) [0x00007FF6FCF7582A]\n",
      "\t(No symbol) [0x00007FF6FCFC5B8E]\n",
      "\t(No symbol) [0x00007FF6FCFC5E7C]\n",
      "\t(No symbol) [0x00007FF6FD00EC27]\n",
      "\t(No symbol) [0x00007FF6FCFEBC1F]\n",
      "\t(No symbol) [0x00007FF6FD00BA4C]\n",
      "\t(No symbol) [0x00007FF6FCFEB983]\n",
      "\t(No symbol) [0x00007FF6FCFB7628]\n",
      "\t(No symbol) [0x00007FF6FCFB8791]\n",
      "\tGetHandleVerifier [0x00007FF6FD45A00D+3161901]\n",
      "\tGetHandleVerifier [0x00007FF6FD4AE060+3506048]\n",
      "\tGetHandleVerifier [0x00007FF6FD4A400D+3465005]\n",
      "\tGetHandleVerifier [0x00007FF6FD220EEB+830987]\n",
      "\t(No symbol) [0x00007FF6FD0D467F]\n",
      "\t(No symbol) [0x00007FF6FD0D09D4]\n",
      "\t(No symbol) [0x00007FF6FD0D0B6D]\n",
      "\t(No symbol) [0x00007FF6FD0C0149]\n",
      "\tBaseThreadInitThunk [0x00007FFB7AAA7374+20]\n",
      "\tRtlUserThreadStart [0x00007FFB7C37CC91+33]\n",
      "\n"
     ]
    },
    {
     "name": "stderr",
     "output_type": "stream",
     "text": [
      "Processing URLs:   2%|      | 448/29446 [49:39<52:15:28,  6.49s/it]"
     ]
    },
    {
     "name": "stdout",
     "output_type": "stream",
     "text": [
      "Error fetching URL: https://www.agoda.com/partners/partnersearch.aspx?hid=248017 - Message: no such element: Unable to locate element: {\"method\":\"css selector\",\"selector\":\"a[data-element-name='property-card-content']\"}\n",
      "  (Session info: chrome=130.0.6723.117); For documentation on this error, please visit: https://www.selenium.dev/documentation/webdriver/troubleshooting/errors#no-such-element-exception\n",
      "Stacktrace:\n",
      "\tGetHandleVerifier [0x00007FF6FD4338A5+3004357]\n",
      "\t(No symbol) [0x00007FF6FD0C9970]\n",
      "\t(No symbol) [0x00007FF6FCF7582A]\n",
      "\t(No symbol) [0x00007FF6FCFC5B8E]\n",
      "\t(No symbol) [0x00007FF6FCFC5E7C]\n",
      "\t(No symbol) [0x00007FF6FD00EC27]\n",
      "\t(No symbol) [0x00007FF6FCFEBC1F]\n",
      "\t(No symbol) [0x00007FF6FD00BA4C]\n",
      "\t(No symbol) [0x00007FF6FCFEB983]\n",
      "\t(No symbol) [0x00007FF6FCFB7628]\n",
      "\t(No symbol) [0x00007FF6FCFB8791]\n",
      "\tGetHandleVerifier [0x00007FF6FD45A00D+3161901]\n",
      "\tGetHandleVerifier [0x00007FF6FD4AE060+3506048]\n",
      "\tGetHandleVerifier [0x00007FF6FD4A400D+3465005]\n",
      "\tGetHandleVerifier [0x00007FF6FD220EEB+830987]\n",
      "\t(No symbol) [0x00007FF6FD0D467F]\n",
      "\t(No symbol) [0x00007FF6FD0D09D4]\n",
      "\t(No symbol) [0x00007FF6FD0D0B6D]\n",
      "\t(No symbol) [0x00007FF6FD0C0149]\n",
      "\tBaseThreadInitThunk [0x00007FFB7AAA7374+20]\n",
      "\tRtlUserThreadStart [0x00007FFB7C37CC91+33]\n",
      "\n"
     ]
    },
    {
     "name": "stderr",
     "output_type": "stream",
     "text": [
      "Processing URLs:   2%|      | 450/29446 [49:52<52:25:19,  6.51s/it]"
     ]
    },
    {
     "name": "stdout",
     "output_type": "stream",
     "text": [
      "Error fetching URL: https://www.agoda.com/partners/partnersearch.aspx?hid=248059 - Message: no such element: Unable to locate element: {\"method\":\"css selector\",\"selector\":\"a[data-element-name='property-card-content']\"}\n",
      "  (Session info: chrome=130.0.6723.117); For documentation on this error, please visit: https://www.selenium.dev/documentation/webdriver/troubleshooting/errors#no-such-element-exception\n",
      "Stacktrace:\n",
      "\tGetHandleVerifier [0x00007FF6FD4338A5+3004357]\n",
      "\t(No symbol) [0x00007FF6FD0C9970]\n",
      "\t(No symbol) [0x00007FF6FCF7582A]\n",
      "\t(No symbol) [0x00007FF6FCFC5B8E]\n",
      "\t(No symbol) [0x00007FF6FCFC5E7C]\n",
      "\t(No symbol) [0x00007FF6FD00EC27]\n",
      "\t(No symbol) [0x00007FF6FCFEBC1F]\n",
      "\t(No symbol) [0x00007FF6FD00BA4C]\n",
      "\t(No symbol) [0x00007FF6FCFEB983]\n",
      "\t(No symbol) [0x00007FF6FCFB7628]\n",
      "\t(No symbol) [0x00007FF6FCFB8791]\n",
      "\tGetHandleVerifier [0x00007FF6FD45A00D+3161901]\n",
      "\tGetHandleVerifier [0x00007FF6FD4AE060+3506048]\n",
      "\tGetHandleVerifier [0x00007FF6FD4A400D+3465005]\n",
      "\tGetHandleVerifier [0x00007FF6FD220EEB+830987]\n",
      "\t(No symbol) [0x00007FF6FD0D467F]\n",
      "\t(No symbol) [0x00007FF6FD0D09D4]\n",
      "\t(No symbol) [0x00007FF6FD0D0B6D]\n",
      "\t(No symbol) [0x00007FF6FD0C0149]\n",
      "\tBaseThreadInitThunk [0x00007FFB7AAA7374+20]\n",
      "\tRtlUserThreadStart [0x00007FFB7C37CC91+33]\n",
      "\n"
     ]
    },
    {
     "name": "stderr",
     "output_type": "stream",
     "text": [
      "Processing URLs:   2%|      | 451/29446 [49:59<52:47:11,  6.55s/it]"
     ]
    },
    {
     "name": "stdout",
     "output_type": "stream",
     "text": [
      "Error fetching URL: https://www.agoda.com/partners/partnersearch.aspx?hid=248060 - Message: no such element: Unable to locate element: {\"method\":\"css selector\",\"selector\":\"a[data-element-name='property-card-content']\"}\n",
      "  (Session info: chrome=130.0.6723.117); For documentation on this error, please visit: https://www.selenium.dev/documentation/webdriver/troubleshooting/errors#no-such-element-exception\n",
      "Stacktrace:\n",
      "\tGetHandleVerifier [0x00007FF6FD4338A5+3004357]\n",
      "\t(No symbol) [0x00007FF6FD0C9970]\n",
      "\t(No symbol) [0x00007FF6FCF7582A]\n",
      "\t(No symbol) [0x00007FF6FCFC5B8E]\n",
      "\t(No symbol) [0x00007FF6FCFC5E7C]\n",
      "\t(No symbol) [0x00007FF6FD00EC27]\n",
      "\t(No symbol) [0x00007FF6FCFEBC1F]\n",
      "\t(No symbol) [0x00007FF6FD00BA4C]\n",
      "\t(No symbol) [0x00007FF6FCFEB983]\n",
      "\t(No symbol) [0x00007FF6FCFB7628]\n",
      "\t(No symbol) [0x00007FF6FCFB8791]\n",
      "\tGetHandleVerifier [0x00007FF6FD45A00D+3161901]\n",
      "\tGetHandleVerifier [0x00007FF6FD4AE060+3506048]\n",
      "\tGetHandleVerifier [0x00007FF6FD4A400D+3465005]\n",
      "\tGetHandleVerifier [0x00007FF6FD220EEB+830987]\n",
      "\t(No symbol) [0x00007FF6FD0D467F]\n",
      "\t(No symbol) [0x00007FF6FD0D09D4]\n",
      "\t(No symbol) [0x00007FF6FD0D0B6D]\n",
      "\t(No symbol) [0x00007FF6FD0C0149]\n",
      "\tBaseThreadInitThunk [0x00007FFB7AAA7374+20]\n",
      "\tRtlUserThreadStart [0x00007FFB7C37CC91+33]\n",
      "\n"
     ]
    },
    {
     "name": "stderr",
     "output_type": "stream",
     "text": [
      "Processing URLs:   2%|      | 452/29446 [50:05<52:46:11,  6.55s/it]"
     ]
    },
    {
     "name": "stdout",
     "output_type": "stream",
     "text": [
      "Error fetching URL: https://www.agoda.com/partners/partnersearch.aspx?hid=248198 - Message: no such element: Unable to locate element: {\"method\":\"css selector\",\"selector\":\"a[data-element-name='property-card-content']\"}\n",
      "  (Session info: chrome=130.0.6723.117); For documentation on this error, please visit: https://www.selenium.dev/documentation/webdriver/troubleshooting/errors#no-such-element-exception\n",
      "Stacktrace:\n",
      "\tGetHandleVerifier [0x00007FF6FD4338A5+3004357]\n",
      "\t(No symbol) [0x00007FF6FD0C9970]\n",
      "\t(No symbol) [0x00007FF6FCF7582A]\n",
      "\t(No symbol) [0x00007FF6FCFC5B8E]\n",
      "\t(No symbol) [0x00007FF6FCFC5E7C]\n",
      "\t(No symbol) [0x00007FF6FD00EC27]\n",
      "\t(No symbol) [0x00007FF6FCFEBC1F]\n",
      "\t(No symbol) [0x00007FF6FD00BA4C]\n",
      "\t(No symbol) [0x00007FF6FCFEB983]\n",
      "\t(No symbol) [0x00007FF6FCFB7628]\n",
      "\t(No symbol) [0x00007FF6FCFB8791]\n",
      "\tGetHandleVerifier [0x00007FF6FD45A00D+3161901]\n",
      "\tGetHandleVerifier [0x00007FF6FD4AE060+3506048]\n",
      "\tGetHandleVerifier [0x00007FF6FD4A400D+3465005]\n",
      "\tGetHandleVerifier [0x00007FF6FD220EEB+830987]\n",
      "\t(No symbol) [0x00007FF6FD0D467F]\n",
      "\t(No symbol) [0x00007FF6FD0D09D4]\n",
      "\t(No symbol) [0x00007FF6FD0D0B6D]\n",
      "\t(No symbol) [0x00007FF6FD0C0149]\n",
      "\tBaseThreadInitThunk [0x00007FFB7AAA7374+20]\n",
      "\tRtlUserThreadStart [0x00007FFB7C37CC91+33]\n",
      "\n"
     ]
    },
    {
     "name": "stderr",
     "output_type": "stream",
     "text": [
      "Processing URLs:   2%|      | 453/29446 [50:12<52:03:11,  6.46s/it]"
     ]
    },
    {
     "name": "stdout",
     "output_type": "stream",
     "text": [
      "Error fetching URL: https://www.agoda.com/partners/partnersearch.aspx?hid=248199 - Message: no such element: Unable to locate element: {\"method\":\"css selector\",\"selector\":\"a[data-element-name='property-card-content']\"}\n",
      "  (Session info: chrome=130.0.6723.117); For documentation on this error, please visit: https://www.selenium.dev/documentation/webdriver/troubleshooting/errors#no-such-element-exception\n",
      "Stacktrace:\n",
      "\tGetHandleVerifier [0x00007FF6FD4338A5+3004357]\n",
      "\t(No symbol) [0x00007FF6FD0C9970]\n",
      "\t(No symbol) [0x00007FF6FCF7582A]\n",
      "\t(No symbol) [0x00007FF6FCFC5B8E]\n",
      "\t(No symbol) [0x00007FF6FCFC5E7C]\n",
      "\t(No symbol) [0x00007FF6FD00EC27]\n",
      "\t(No symbol) [0x00007FF6FCFEBC1F]\n",
      "\t(No symbol) [0x00007FF6FD00BA4C]\n",
      "\t(No symbol) [0x00007FF6FCFEB983]\n",
      "\t(No symbol) [0x00007FF6FCFB7628]\n",
      "\t(No symbol) [0x00007FF6FCFB8791]\n",
      "\tGetHandleVerifier [0x00007FF6FD45A00D+3161901]\n",
      "\tGetHandleVerifier [0x00007FF6FD4AE060+3506048]\n",
      "\tGetHandleVerifier [0x00007FF6FD4A400D+3465005]\n",
      "\tGetHandleVerifier [0x00007FF6FD220EEB+830987]\n",
      "\t(No symbol) [0x00007FF6FD0D467F]\n",
      "\t(No symbol) [0x00007FF6FD0D09D4]\n",
      "\t(No symbol) [0x00007FF6FD0D0B6D]\n",
      "\t(No symbol) [0x00007FF6FD0C0149]\n",
      "\tBaseThreadInitThunk [0x00007FFB7AAA7374+20]\n",
      "\tRtlUserThreadStart [0x00007FFB7C37CC91+33]\n",
      "\n"
     ]
    },
    {
     "name": "stderr",
     "output_type": "stream",
     "text": [
      "Processing URLs:   2%|      | 454/29446 [50:18<52:18:32,  6.50s/it]"
     ]
    },
    {
     "name": "stdout",
     "output_type": "stream",
     "text": [
      "Error fetching URL: https://www.agoda.com/partners/partnersearch.aspx?hid=248200 - Message: no such element: Unable to locate element: {\"method\":\"css selector\",\"selector\":\"a[data-element-name='property-card-content']\"}\n",
      "  (Session info: chrome=130.0.6723.117); For documentation on this error, please visit: https://www.selenium.dev/documentation/webdriver/troubleshooting/errors#no-such-element-exception\n",
      "Stacktrace:\n",
      "\tGetHandleVerifier [0x00007FF6FD4338A5+3004357]\n",
      "\t(No symbol) [0x00007FF6FD0C9970]\n",
      "\t(No symbol) [0x00007FF6FCF7582A]\n",
      "\t(No symbol) [0x00007FF6FCFC5B8E]\n",
      "\t(No symbol) [0x00007FF6FCFC5E7C]\n",
      "\t(No symbol) [0x00007FF6FD00EC27]\n",
      "\t(No symbol) [0x00007FF6FCFEBC1F]\n",
      "\t(No symbol) [0x00007FF6FD00BA4C]\n",
      "\t(No symbol) [0x00007FF6FCFEB983]\n",
      "\t(No symbol) [0x00007FF6FCFB7628]\n",
      "\t(No symbol) [0x00007FF6FCFB8791]\n",
      "\tGetHandleVerifier [0x00007FF6FD45A00D+3161901]\n",
      "\tGetHandleVerifier [0x00007FF6FD4AE060+3506048]\n",
      "\tGetHandleVerifier [0x00007FF6FD4A400D+3465005]\n",
      "\tGetHandleVerifier [0x00007FF6FD220EEB+830987]\n",
      "\t(No symbol) [0x00007FF6FD0D467F]\n",
      "\t(No symbol) [0x00007FF6FD0D09D4]\n",
      "\t(No symbol) [0x00007FF6FD0D0B6D]\n",
      "\t(No symbol) [0x00007FF6FD0C0149]\n",
      "\tBaseThreadInitThunk [0x00007FFB7AAA7374+20]\n",
      "\tRtlUserThreadStart [0x00007FFB7C37CC91+33]\n",
      "\n"
     ]
    },
    {
     "name": "stderr",
     "output_type": "stream",
     "text": [
      "Processing URLs:   2%|      | 456/29446 [50:31<51:46:47,  6.43s/it]"
     ]
    },
    {
     "name": "stdout",
     "output_type": "stream",
     "text": [
      "Error fetching URL: https://www.agoda.com/partners/partnersearch.aspx?hid=248515 - Message: no such element: Unable to locate element: {\"method\":\"css selector\",\"selector\":\"a[data-element-name='property-card-content']\"}\n",
      "  (Session info: chrome=130.0.6723.117); For documentation on this error, please visit: https://www.selenium.dev/documentation/webdriver/troubleshooting/errors#no-such-element-exception\n",
      "Stacktrace:\n",
      "\tGetHandleVerifier [0x00007FF6FD4338A5+3004357]\n",
      "\t(No symbol) [0x00007FF6FD0C9970]\n",
      "\t(No symbol) [0x00007FF6FCF7582A]\n",
      "\t(No symbol) [0x00007FF6FCFC5B8E]\n",
      "\t(No symbol) [0x00007FF6FCFC5E7C]\n",
      "\t(No symbol) [0x00007FF6FD00EC27]\n",
      "\t(No symbol) [0x00007FF6FCFEBC1F]\n",
      "\t(No symbol) [0x00007FF6FD00BA4C]\n",
      "\t(No symbol) [0x00007FF6FCFEB983]\n",
      "\t(No symbol) [0x00007FF6FCFB7628]\n",
      "\t(No symbol) [0x00007FF6FCFB8791]\n",
      "\tGetHandleVerifier [0x00007FF6FD45A00D+3161901]\n",
      "\tGetHandleVerifier [0x00007FF6FD4AE060+3506048]\n",
      "\tGetHandleVerifier [0x00007FF6FD4A400D+3465005]\n",
      "\tGetHandleVerifier [0x00007FF6FD220EEB+830987]\n",
      "\t(No symbol) [0x00007FF6FD0D467F]\n",
      "\t(No symbol) [0x00007FF6FD0D09D4]\n",
      "\t(No symbol) [0x00007FF6FD0D0B6D]\n",
      "\t(No symbol) [0x00007FF6FD0C0149]\n",
      "\tBaseThreadInitThunk [0x00007FFB7AAA7374+20]\n",
      "\tRtlUserThreadStart [0x00007FFB7C37CC91+33]\n",
      "\n"
     ]
    },
    {
     "name": "stderr",
     "output_type": "stream",
     "text": [
      "Processing URLs:   2%|      | 457/29446 [50:37<51:44:01,  6.42s/it]"
     ]
    },
    {
     "name": "stdout",
     "output_type": "stream",
     "text": [
      "Error fetching URL: https://www.agoda.com/partners/partnersearch.aspx?hid=251640 - Message: no such element: Unable to locate element: {\"method\":\"css selector\",\"selector\":\"a[data-element-name='property-card-content']\"}\n",
      "  (Session info: chrome=130.0.6723.117); For documentation on this error, please visit: https://www.selenium.dev/documentation/webdriver/troubleshooting/errors#no-such-element-exception\n",
      "Stacktrace:\n",
      "\tGetHandleVerifier [0x00007FF6FD4338A5+3004357]\n",
      "\t(No symbol) [0x00007FF6FD0C9970]\n",
      "\t(No symbol) [0x00007FF6FCF7582A]\n",
      "\t(No symbol) [0x00007FF6FCFC5B8E]\n",
      "\t(No symbol) [0x00007FF6FCFC5E7C]\n",
      "\t(No symbol) [0x00007FF6FD00EC27]\n",
      "\t(No symbol) [0x00007FF6FCFEBC1F]\n",
      "\t(No symbol) [0x00007FF6FD00BA4C]\n",
      "\t(No symbol) [0x00007FF6FCFEB983]\n",
      "\t(No symbol) [0x00007FF6FCFB7628]\n",
      "\t(No symbol) [0x00007FF6FCFB8791]\n",
      "\tGetHandleVerifier [0x00007FF6FD45A00D+3161901]\n",
      "\tGetHandleVerifier [0x00007FF6FD4AE060+3506048]\n",
      "\tGetHandleVerifier [0x00007FF6FD4A400D+3465005]\n",
      "\tGetHandleVerifier [0x00007FF6FD220EEB+830987]\n",
      "\t(No symbol) [0x00007FF6FD0D467F]\n",
      "\t(No symbol) [0x00007FF6FD0D09D4]\n",
      "\t(No symbol) [0x00007FF6FD0D0B6D]\n",
      "\t(No symbol) [0x00007FF6FD0C0149]\n",
      "\tBaseThreadInitThunk [0x00007FFB7AAA7374+20]\n",
      "\tRtlUserThreadStart [0x00007FFB7C37CC91+33]\n",
      "\n"
     ]
    },
    {
     "name": "stderr",
     "output_type": "stream",
     "text": [
      "Processing URLs:   2%|      | 458/29446 [50:44<52:11:48,  6.48s/it]"
     ]
    },
    {
     "name": "stdout",
     "output_type": "stream",
     "text": [
      "Error fetching URL: https://www.agoda.com/partners/partnersearch.aspx?hid=251777 - Message: no such element: Unable to locate element: {\"method\":\"css selector\",\"selector\":\"a[data-element-name='property-card-content']\"}\n",
      "  (Session info: chrome=130.0.6723.117); For documentation on this error, please visit: https://www.selenium.dev/documentation/webdriver/troubleshooting/errors#no-such-element-exception\n",
      "Stacktrace:\n",
      "\tGetHandleVerifier [0x00007FF6FD4338A5+3004357]\n",
      "\t(No symbol) [0x00007FF6FD0C9970]\n",
      "\t(No symbol) [0x00007FF6FCF7582A]\n",
      "\t(No symbol) [0x00007FF6FCFC5B8E]\n",
      "\t(No symbol) [0x00007FF6FCFC5E7C]\n",
      "\t(No symbol) [0x00007FF6FD00EC27]\n",
      "\t(No symbol) [0x00007FF6FCFEBC1F]\n",
      "\t(No symbol) [0x00007FF6FD00BA4C]\n",
      "\t(No symbol) [0x00007FF6FCFEB983]\n",
      "\t(No symbol) [0x00007FF6FCFB7628]\n",
      "\t(No symbol) [0x00007FF6FCFB8791]\n",
      "\tGetHandleVerifier [0x00007FF6FD45A00D+3161901]\n",
      "\tGetHandleVerifier [0x00007FF6FD4AE060+3506048]\n",
      "\tGetHandleVerifier [0x00007FF6FD4A400D+3465005]\n",
      "\tGetHandleVerifier [0x00007FF6FD220EEB+830987]\n",
      "\t(No symbol) [0x00007FF6FD0D467F]\n",
      "\t(No symbol) [0x00007FF6FD0D09D4]\n",
      "\t(No symbol) [0x00007FF6FD0D0B6D]\n",
      "\t(No symbol) [0x00007FF6FD0C0149]\n",
      "\tBaseThreadInitThunk [0x00007FFB7AAA7374+20]\n",
      "\tRtlUserThreadStart [0x00007FFB7C37CC91+33]\n",
      "\n"
     ]
    },
    {
     "name": "stderr",
     "output_type": "stream",
     "text": [
      "Processing URLs:   2%|      | 461/29446 [51:03<51:50:35,  6.44s/it]"
     ]
    },
    {
     "name": "stdout",
     "output_type": "stream",
     "text": [
      "Error fetching URL: https://www.agoda.com/partners/partnersearch.aspx?hid=252330 - Message: no such element: Unable to locate element: {\"method\":\"css selector\",\"selector\":\"a[data-element-name='property-card-content']\"}\n",
      "  (Session info: chrome=130.0.6723.117); For documentation on this error, please visit: https://www.selenium.dev/documentation/webdriver/troubleshooting/errors#no-such-element-exception\n",
      "Stacktrace:\n",
      "\tGetHandleVerifier [0x00007FF6FD4338A5+3004357]\n",
      "\t(No symbol) [0x00007FF6FD0C9970]\n",
      "\t(No symbol) [0x00007FF6FCF7582A]\n",
      "\t(No symbol) [0x00007FF6FCFC5B8E]\n",
      "\t(No symbol) [0x00007FF6FCFC5E7C]\n",
      "\t(No symbol) [0x00007FF6FD00EC27]\n",
      "\t(No symbol) [0x00007FF6FCFEBC1F]\n",
      "\t(No symbol) [0x00007FF6FD00BA4C]\n",
      "\t(No symbol) [0x00007FF6FCFEB983]\n",
      "\t(No symbol) [0x00007FF6FCFB7628]\n",
      "\t(No symbol) [0x00007FF6FCFB8791]\n",
      "\tGetHandleVerifier [0x00007FF6FD45A00D+3161901]\n",
      "\tGetHandleVerifier [0x00007FF6FD4AE060+3506048]\n",
      "\tGetHandleVerifier [0x00007FF6FD4A400D+3465005]\n",
      "\tGetHandleVerifier [0x00007FF6FD220EEB+830987]\n",
      "\t(No symbol) [0x00007FF6FD0D467F]\n",
      "\t(No symbol) [0x00007FF6FD0D09D4]\n",
      "\t(No symbol) [0x00007FF6FD0D0B6D]\n",
      "\t(No symbol) [0x00007FF6FD0C0149]\n",
      "\tBaseThreadInitThunk [0x00007FFB7AAA7374+20]\n",
      "\tRtlUserThreadStart [0x00007FFB7C37CC91+33]\n",
      "\n"
     ]
    },
    {
     "name": "stderr",
     "output_type": "stream",
     "text": [
      "Processing URLs:   2%|      | 463/29446 [51:17<52:52:23,  6.57s/it]"
     ]
    },
    {
     "name": "stdout",
     "output_type": "stream",
     "text": [
      "Error fetching URL: https://www.agoda.com/partners/partnersearch.aspx?hid=253957 - Message: no such element: Unable to locate element: {\"method\":\"css selector\",\"selector\":\"a[data-element-name='property-card-content']\"}\n",
      "  (Session info: chrome=130.0.6723.117); For documentation on this error, please visit: https://www.selenium.dev/documentation/webdriver/troubleshooting/errors#no-such-element-exception\n",
      "Stacktrace:\n",
      "\tGetHandleVerifier [0x00007FF6FD4338A5+3004357]\n",
      "\t(No symbol) [0x00007FF6FD0C9970]\n",
      "\t(No symbol) [0x00007FF6FCF7582A]\n",
      "\t(No symbol) [0x00007FF6FCFC5B8E]\n",
      "\t(No symbol) [0x00007FF6FCFC5E7C]\n",
      "\t(No symbol) [0x00007FF6FD00EC27]\n",
      "\t(No symbol) [0x00007FF6FCFEBC1F]\n",
      "\t(No symbol) [0x00007FF6FD00BA4C]\n",
      "\t(No symbol) [0x00007FF6FCFEB983]\n",
      "\t(No symbol) [0x00007FF6FCFB7628]\n",
      "\t(No symbol) [0x00007FF6FCFB8791]\n",
      "\tGetHandleVerifier [0x00007FF6FD45A00D+3161901]\n",
      "\tGetHandleVerifier [0x00007FF6FD4AE060+3506048]\n",
      "\tGetHandleVerifier [0x00007FF6FD4A400D+3465005]\n",
      "\tGetHandleVerifier [0x00007FF6FD220EEB+830987]\n",
      "\t(No symbol) [0x00007FF6FD0D467F]\n",
      "\t(No symbol) [0x00007FF6FD0D09D4]\n",
      "\t(No symbol) [0x00007FF6FD0D0B6D]\n",
      "\t(No symbol) [0x00007FF6FD0C0149]\n",
      "\tBaseThreadInitThunk [0x00007FFB7AAA7374+20]\n",
      "\tRtlUserThreadStart [0x00007FFB7C37CC91+33]\n",
      "\n"
     ]
    },
    {
     "name": "stderr",
     "output_type": "stream",
     "text": [
      "Processing URLs:   2%|      | 464/29446 [51:23<52:21:31,  6.50s/it]"
     ]
    },
    {
     "name": "stdout",
     "output_type": "stream",
     "text": [
      "Error fetching URL: https://www.agoda.com/partners/partnersearch.aspx?hid=253958 - Message: no such element: Unable to locate element: {\"method\":\"css selector\",\"selector\":\"a[data-element-name='property-card-content']\"}\n",
      "  (Session info: chrome=130.0.6723.117); For documentation on this error, please visit: https://www.selenium.dev/documentation/webdriver/troubleshooting/errors#no-such-element-exception\n",
      "Stacktrace:\n",
      "\tGetHandleVerifier [0x00007FF6FD4338A5+3004357]\n",
      "\t(No symbol) [0x00007FF6FD0C9970]\n",
      "\t(No symbol) [0x00007FF6FCF7582A]\n",
      "\t(No symbol) [0x00007FF6FCFC5B8E]\n",
      "\t(No symbol) [0x00007FF6FCFC5E7C]\n",
      "\t(No symbol) [0x00007FF6FD00EC27]\n",
      "\t(No symbol) [0x00007FF6FCFEBC1F]\n",
      "\t(No symbol) [0x00007FF6FD00BA4C]\n",
      "\t(No symbol) [0x00007FF6FCFEB983]\n",
      "\t(No symbol) [0x00007FF6FCFB7628]\n",
      "\t(No symbol) [0x00007FF6FCFB8791]\n",
      "\tGetHandleVerifier [0x00007FF6FD45A00D+3161901]\n",
      "\tGetHandleVerifier [0x00007FF6FD4AE060+3506048]\n",
      "\tGetHandleVerifier [0x00007FF6FD4A400D+3465005]\n",
      "\tGetHandleVerifier [0x00007FF6FD220EEB+830987]\n",
      "\t(No symbol) [0x00007FF6FD0D467F]\n",
      "\t(No symbol) [0x00007FF6FD0D09D4]\n",
      "\t(No symbol) [0x00007FF6FD0D0B6D]\n",
      "\t(No symbol) [0x00007FF6FD0C0149]\n",
      "\tBaseThreadInitThunk [0x00007FFB7AAA7374+20]\n",
      "\tRtlUserThreadStart [0x00007FFB7C37CC91+33]\n",
      "\n"
     ]
    },
    {
     "name": "stderr",
     "output_type": "stream",
     "text": [
      "Processing URLs:   2%|      | 465/29446 [51:30<52:48:57,  6.56s/it]"
     ]
    },
    {
     "name": "stdout",
     "output_type": "stream",
     "text": [
      "Error fetching URL: https://www.agoda.com/partners/partnersearch.aspx?hid=253966 - Message: no such element: Unable to locate element: {\"method\":\"css selector\",\"selector\":\"a[data-element-name='property-card-content']\"}\n",
      "  (Session info: chrome=130.0.6723.117); For documentation on this error, please visit: https://www.selenium.dev/documentation/webdriver/troubleshooting/errors#no-such-element-exception\n",
      "Stacktrace:\n",
      "\tGetHandleVerifier [0x00007FF6FD4338A5+3004357]\n",
      "\t(No symbol) [0x00007FF6FD0C9970]\n",
      "\t(No symbol) [0x00007FF6FCF7582A]\n",
      "\t(No symbol) [0x00007FF6FCFC5B8E]\n",
      "\t(No symbol) [0x00007FF6FCFC5E7C]\n",
      "\t(No symbol) [0x00007FF6FD00EC27]\n",
      "\t(No symbol) [0x00007FF6FCFEBC1F]\n",
      "\t(No symbol) [0x00007FF6FD00BA4C]\n",
      "\t(No symbol) [0x00007FF6FCFEB983]\n",
      "\t(No symbol) [0x00007FF6FCFB7628]\n",
      "\t(No symbol) [0x00007FF6FCFB8791]\n",
      "\tGetHandleVerifier [0x00007FF6FD45A00D+3161901]\n",
      "\tGetHandleVerifier [0x00007FF6FD4AE060+3506048]\n",
      "\tGetHandleVerifier [0x00007FF6FD4A400D+3465005]\n",
      "\tGetHandleVerifier [0x00007FF6FD220EEB+830987]\n",
      "\t(No symbol) [0x00007FF6FD0D467F]\n",
      "\t(No symbol) [0x00007FF6FD0D09D4]\n",
      "\t(No symbol) [0x00007FF6FD0D0B6D]\n",
      "\t(No symbol) [0x00007FF6FD0C0149]\n",
      "\tBaseThreadInitThunk [0x00007FFB7AAA7374+20]\n",
      "\tRtlUserThreadStart [0x00007FFB7C37CC91+33]\n",
      "\n"
     ]
    },
    {
     "name": "stderr",
     "output_type": "stream",
     "text": [
      "Processing URLs:   2%|      | 466/29446 [51:36<52:31:52,  6.53s/it]"
     ]
    },
    {
     "name": "stdout",
     "output_type": "stream",
     "text": [
      "Error fetching URL: https://www.agoda.com/partners/partnersearch.aspx?hid=254028 - Message: no such element: Unable to locate element: {\"method\":\"css selector\",\"selector\":\"a[data-element-name='property-card-content']\"}\n",
      "  (Session info: chrome=130.0.6723.117); For documentation on this error, please visit: https://www.selenium.dev/documentation/webdriver/troubleshooting/errors#no-such-element-exception\n",
      "Stacktrace:\n",
      "\tGetHandleVerifier [0x00007FF6FD4338A5+3004357]\n",
      "\t(No symbol) [0x00007FF6FD0C9970]\n",
      "\t(No symbol) [0x00007FF6FCF7582A]\n",
      "\t(No symbol) [0x00007FF6FCFC5B8E]\n",
      "\t(No symbol) [0x00007FF6FCFC5E7C]\n",
      "\t(No symbol) [0x00007FF6FD00EC27]\n",
      "\t(No symbol) [0x00007FF6FCFEBC1F]\n",
      "\t(No symbol) [0x00007FF6FD00BA4C]\n",
      "\t(No symbol) [0x00007FF6FCFEB983]\n",
      "\t(No symbol) [0x00007FF6FCFB7628]\n",
      "\t(No symbol) [0x00007FF6FCFB8791]\n",
      "\tGetHandleVerifier [0x00007FF6FD45A00D+3161901]\n",
      "\tGetHandleVerifier [0x00007FF6FD4AE060+3506048]\n",
      "\tGetHandleVerifier [0x00007FF6FD4A400D+3465005]\n",
      "\tGetHandleVerifier [0x00007FF6FD220EEB+830987]\n",
      "\t(No symbol) [0x00007FF6FD0D467F]\n",
      "\t(No symbol) [0x00007FF6FD0D09D4]\n",
      "\t(No symbol) [0x00007FF6FD0D0B6D]\n",
      "\t(No symbol) [0x00007FF6FD0C0149]\n",
      "\tBaseThreadInitThunk [0x00007FFB7AAA7374+20]\n",
      "\tRtlUserThreadStart [0x00007FFB7C37CC91+33]\n",
      "\n"
     ]
    },
    {
     "name": "stderr",
     "output_type": "stream",
     "text": [
      "Processing URLs:   2%|      | 467/29446 [51:43<53:39:37,  6.67s/it]"
     ]
    },
    {
     "name": "stdout",
     "output_type": "stream",
     "text": [
      "Error fetching URL: https://www.agoda.com/partners/partnersearch.aspx?hid=254039 - Message: no such element: Unable to locate element: {\"method\":\"css selector\",\"selector\":\"a[data-element-name='property-card-content']\"}\n",
      "  (Session info: chrome=130.0.6723.117); For documentation on this error, please visit: https://www.selenium.dev/documentation/webdriver/troubleshooting/errors#no-such-element-exception\n",
      "Stacktrace:\n",
      "\tGetHandleVerifier [0x00007FF6FD4338A5+3004357]\n",
      "\t(No symbol) [0x00007FF6FD0C9970]\n",
      "\t(No symbol) [0x00007FF6FCF7582A]\n",
      "\t(No symbol) [0x00007FF6FCFC5B8E]\n",
      "\t(No symbol) [0x00007FF6FCFC5E7C]\n",
      "\t(No symbol) [0x00007FF6FD00EC27]\n",
      "\t(No symbol) [0x00007FF6FCFEBC1F]\n",
      "\t(No symbol) [0x00007FF6FD00BA4C]\n",
      "\t(No symbol) [0x00007FF6FCFEB983]\n",
      "\t(No symbol) [0x00007FF6FCFB7628]\n",
      "\t(No symbol) [0x00007FF6FCFB8791]\n",
      "\tGetHandleVerifier [0x00007FF6FD45A00D+3161901]\n",
      "\tGetHandleVerifier [0x00007FF6FD4AE060+3506048]\n",
      "\tGetHandleVerifier [0x00007FF6FD4A400D+3465005]\n",
      "\tGetHandleVerifier [0x00007FF6FD220EEB+830987]\n",
      "\t(No symbol) [0x00007FF6FD0D467F]\n",
      "\t(No symbol) [0x00007FF6FD0D09D4]\n",
      "\t(No symbol) [0x00007FF6FD0D0B6D]\n",
      "\t(No symbol) [0x00007FF6FD0C0149]\n",
      "\tBaseThreadInitThunk [0x00007FFB7AAA7374+20]\n",
      "\tRtlUserThreadStart [0x00007FFB7C37CC91+33]\n",
      "\n"
     ]
    },
    {
     "name": "stderr",
     "output_type": "stream",
     "text": [
      "Processing URLs:   2%|      | 468/29446 [51:50<53:51:29,  6.69s/it]"
     ]
    },
    {
     "name": "stdout",
     "output_type": "stream",
     "text": [
      "Error fetching URL: https://www.agoda.com/partners/partnersearch.aspx?hid=254040 - Message: no such element: Unable to locate element: {\"method\":\"css selector\",\"selector\":\"a[data-element-name='property-card-content']\"}\n",
      "  (Session info: chrome=130.0.6723.117); For documentation on this error, please visit: https://www.selenium.dev/documentation/webdriver/troubleshooting/errors#no-such-element-exception\n",
      "Stacktrace:\n",
      "\tGetHandleVerifier [0x00007FF6FD4338A5+3004357]\n",
      "\t(No symbol) [0x00007FF6FD0C9970]\n",
      "\t(No symbol) [0x00007FF6FCF7582A]\n",
      "\t(No symbol) [0x00007FF6FCFC5B8E]\n",
      "\t(No symbol) [0x00007FF6FCFC5E7C]\n",
      "\t(No symbol) [0x00007FF6FD00EC27]\n",
      "\t(No symbol) [0x00007FF6FCFEBC1F]\n",
      "\t(No symbol) [0x00007FF6FD00BA4C]\n",
      "\t(No symbol) [0x00007FF6FCFEB983]\n",
      "\t(No symbol) [0x00007FF6FCFB7628]\n",
      "\t(No symbol) [0x00007FF6FCFB8791]\n",
      "\tGetHandleVerifier [0x00007FF6FD45A00D+3161901]\n",
      "\tGetHandleVerifier [0x00007FF6FD4AE060+3506048]\n",
      "\tGetHandleVerifier [0x00007FF6FD4A400D+3465005]\n",
      "\tGetHandleVerifier [0x00007FF6FD220EEB+830987]\n",
      "\t(No symbol) [0x00007FF6FD0D467F]\n",
      "\t(No symbol) [0x00007FF6FD0D09D4]\n",
      "\t(No symbol) [0x00007FF6FD0D0B6D]\n",
      "\t(No symbol) [0x00007FF6FD0C0149]\n",
      "\tBaseThreadInitThunk [0x00007FFB7AAA7374+20]\n",
      "\tRtlUserThreadStart [0x00007FFB7C37CC91+33]\n",
      "\n"
     ]
    },
    {
     "name": "stderr",
     "output_type": "stream",
     "text": [
      "Processing URLs:   2%|      | 469/29446 [51:56<53:05:57,  6.60s/it]"
     ]
    },
    {
     "name": "stdout",
     "output_type": "stream",
     "text": [
      "Error fetching URL: https://www.agoda.com/partners/partnersearch.aspx?hid=254048 - Message: no such element: Unable to locate element: {\"method\":\"css selector\",\"selector\":\"a[data-element-name='property-card-content']\"}\n",
      "  (Session info: chrome=130.0.6723.117); For documentation on this error, please visit: https://www.selenium.dev/documentation/webdriver/troubleshooting/errors#no-such-element-exception\n",
      "Stacktrace:\n",
      "\tGetHandleVerifier [0x00007FF6FD4338A5+3004357]\n",
      "\t(No symbol) [0x00007FF6FD0C9970]\n",
      "\t(No symbol) [0x00007FF6FCF7582A]\n",
      "\t(No symbol) [0x00007FF6FCFC5B8E]\n",
      "\t(No symbol) [0x00007FF6FCFC5E7C]\n",
      "\t(No symbol) [0x00007FF6FD00EC27]\n",
      "\t(No symbol) [0x00007FF6FCFEBC1F]\n",
      "\t(No symbol) [0x00007FF6FD00BA4C]\n",
      "\t(No symbol) [0x00007FF6FCFEB983]\n",
      "\t(No symbol) [0x00007FF6FCFB7628]\n",
      "\t(No symbol) [0x00007FF6FCFB8791]\n",
      "\tGetHandleVerifier [0x00007FF6FD45A00D+3161901]\n",
      "\tGetHandleVerifier [0x00007FF6FD4AE060+3506048]\n",
      "\tGetHandleVerifier [0x00007FF6FD4A400D+3465005]\n",
      "\tGetHandleVerifier [0x00007FF6FD220EEB+830987]\n",
      "\t(No symbol) [0x00007FF6FD0D467F]\n",
      "\t(No symbol) [0x00007FF6FD0D09D4]\n",
      "\t(No symbol) [0x00007FF6FD0D0B6D]\n",
      "\t(No symbol) [0x00007FF6FD0C0149]\n",
      "\tBaseThreadInitThunk [0x00007FFB7AAA7374+20]\n",
      "\tRtlUserThreadStart [0x00007FFB7C37CC91+33]\n",
      "\n"
     ]
    },
    {
     "name": "stderr",
     "output_type": "stream",
     "text": [
      "Processing URLs:   2%|      | 470/29446 [52:03<52:30:24,  6.52s/it]"
     ]
    },
    {
     "name": "stdout",
     "output_type": "stream",
     "text": [
      "Error fetching URL: https://www.agoda.com/partners/partnersearch.aspx?hid=254059 - Message: no such element: Unable to locate element: {\"method\":\"css selector\",\"selector\":\"a[data-element-name='property-card-content']\"}\n",
      "  (Session info: chrome=130.0.6723.117); For documentation on this error, please visit: https://www.selenium.dev/documentation/webdriver/troubleshooting/errors#no-such-element-exception\n",
      "Stacktrace:\n",
      "\tGetHandleVerifier [0x00007FF6FD4338A5+3004357]\n",
      "\t(No symbol) [0x00007FF6FD0C9970]\n",
      "\t(No symbol) [0x00007FF6FCF7582A]\n",
      "\t(No symbol) [0x00007FF6FCFC5B8E]\n",
      "\t(No symbol) [0x00007FF6FCFC5E7C]\n",
      "\t(No symbol) [0x00007FF6FD00EC27]\n",
      "\t(No symbol) [0x00007FF6FCFEBC1F]\n",
      "\t(No symbol) [0x00007FF6FD00BA4C]\n",
      "\t(No symbol) [0x00007FF6FCFEB983]\n",
      "\t(No symbol) [0x00007FF6FCFB7628]\n",
      "\t(No symbol) [0x00007FF6FCFB8791]\n",
      "\tGetHandleVerifier [0x00007FF6FD45A00D+3161901]\n",
      "\tGetHandleVerifier [0x00007FF6FD4AE060+3506048]\n",
      "\tGetHandleVerifier [0x00007FF6FD4A400D+3465005]\n",
      "\tGetHandleVerifier [0x00007FF6FD220EEB+830987]\n",
      "\t(No symbol) [0x00007FF6FD0D467F]\n",
      "\t(No symbol) [0x00007FF6FD0D09D4]\n",
      "\t(No symbol) [0x00007FF6FD0D0B6D]\n",
      "\t(No symbol) [0x00007FF6FD0C0149]\n",
      "\tBaseThreadInitThunk [0x00007FFB7AAA7374+20]\n",
      "\tRtlUserThreadStart [0x00007FFB7C37CC91+33]\n",
      "\n"
     ]
    },
    {
     "name": "stderr",
     "output_type": "stream",
     "text": [
      "Processing URLs:   2%|      | 471/29446 [52:09<52:13:18,  6.49s/it]"
     ]
    },
    {
     "name": "stdout",
     "output_type": "stream",
     "text": [
      "Error fetching URL: https://www.agoda.com/partners/partnersearch.aspx?hid=254879 - Message: no such element: Unable to locate element: {\"method\":\"css selector\",\"selector\":\"a[data-element-name='property-card-content']\"}\n",
      "  (Session info: chrome=130.0.6723.117); For documentation on this error, please visit: https://www.selenium.dev/documentation/webdriver/troubleshooting/errors#no-such-element-exception\n",
      "Stacktrace:\n",
      "\tGetHandleVerifier [0x00007FF6FD4338A5+3004357]\n",
      "\t(No symbol) [0x00007FF6FD0C9970]\n",
      "\t(No symbol) [0x00007FF6FCF7582A]\n",
      "\t(No symbol) [0x00007FF6FCFC5B8E]\n",
      "\t(No symbol) [0x00007FF6FCFC5E7C]\n",
      "\t(No symbol) [0x00007FF6FD00EC27]\n",
      "\t(No symbol) [0x00007FF6FCFEBC1F]\n",
      "\t(No symbol) [0x00007FF6FD00BA4C]\n",
      "\t(No symbol) [0x00007FF6FCFEB983]\n",
      "\t(No symbol) [0x00007FF6FCFB7628]\n",
      "\t(No symbol) [0x00007FF6FCFB8791]\n",
      "\tGetHandleVerifier [0x00007FF6FD45A00D+3161901]\n",
      "\tGetHandleVerifier [0x00007FF6FD4AE060+3506048]\n",
      "\tGetHandleVerifier [0x00007FF6FD4A400D+3465005]\n",
      "\tGetHandleVerifier [0x00007FF6FD220EEB+830987]\n",
      "\t(No symbol) [0x00007FF6FD0D467F]\n",
      "\t(No symbol) [0x00007FF6FD0D09D4]\n",
      "\t(No symbol) [0x00007FF6FD0D0B6D]\n",
      "\t(No symbol) [0x00007FF6FD0C0149]\n",
      "\tBaseThreadInitThunk [0x00007FFB7AAA7374+20]\n",
      "\tRtlUserThreadStart [0x00007FFB7C37CC91+33]\n",
      "\n"
     ]
    },
    {
     "name": "stderr",
     "output_type": "stream",
     "text": [
      "Processing URLs:   2%|      | 472/29446 [52:16<52:28:09,  6.52s/it]"
     ]
    },
    {
     "name": "stdout",
     "output_type": "stream",
     "text": [
      "Error fetching URL: https://www.agoda.com/partners/partnersearch.aspx?hid=254884 - Message: no such element: Unable to locate element: {\"method\":\"css selector\",\"selector\":\"a[data-element-name='property-card-content']\"}\n",
      "  (Session info: chrome=130.0.6723.117); For documentation on this error, please visit: https://www.selenium.dev/documentation/webdriver/troubleshooting/errors#no-such-element-exception\n",
      "Stacktrace:\n",
      "\tGetHandleVerifier [0x00007FF6FD4338A5+3004357]\n",
      "\t(No symbol) [0x00007FF6FD0C9970]\n",
      "\t(No symbol) [0x00007FF6FCF7582A]\n",
      "\t(No symbol) [0x00007FF6FCFC5B8E]\n",
      "\t(No symbol) [0x00007FF6FCFC5E7C]\n",
      "\t(No symbol) [0x00007FF6FD00EC27]\n",
      "\t(No symbol) [0x00007FF6FCFEBC1F]\n",
      "\t(No symbol) [0x00007FF6FD00BA4C]\n",
      "\t(No symbol) [0x00007FF6FCFEB983]\n",
      "\t(No symbol) [0x00007FF6FCFB7628]\n",
      "\t(No symbol) [0x00007FF6FCFB8791]\n",
      "\tGetHandleVerifier [0x00007FF6FD45A00D+3161901]\n",
      "\tGetHandleVerifier [0x00007FF6FD4AE060+3506048]\n",
      "\tGetHandleVerifier [0x00007FF6FD4A400D+3465005]\n",
      "\tGetHandleVerifier [0x00007FF6FD220EEB+830987]\n",
      "\t(No symbol) [0x00007FF6FD0D467F]\n",
      "\t(No symbol) [0x00007FF6FD0D09D4]\n",
      "\t(No symbol) [0x00007FF6FD0D0B6D]\n",
      "\t(No symbol) [0x00007FF6FD0C0149]\n",
      "\tBaseThreadInitThunk [0x00007FFB7AAA7374+20]\n",
      "\tRtlUserThreadStart [0x00007FFB7C37CC91+33]\n",
      "\n"
     ]
    },
    {
     "name": "stderr",
     "output_type": "stream",
     "text": [
      "Processing URLs:   2%|      | 473/29446 [52:22<52:13:40,  6.49s/it]"
     ]
    },
    {
     "name": "stdout",
     "output_type": "stream",
     "text": [
      "Error fetching URL: https://www.agoda.com/partners/partnersearch.aspx?hid=254905 - Message: no such element: Unable to locate element: {\"method\":\"css selector\",\"selector\":\"a[data-element-name='property-card-content']\"}\n",
      "  (Session info: chrome=130.0.6723.117); For documentation on this error, please visit: https://www.selenium.dev/documentation/webdriver/troubleshooting/errors#no-such-element-exception\n",
      "Stacktrace:\n",
      "\tGetHandleVerifier [0x00007FF6FD4338A5+3004357]\n",
      "\t(No symbol) [0x00007FF6FD0C9970]\n",
      "\t(No symbol) [0x00007FF6FCF7582A]\n",
      "\t(No symbol) [0x00007FF6FCFC5B8E]\n",
      "\t(No symbol) [0x00007FF6FCFC5E7C]\n",
      "\t(No symbol) [0x00007FF6FD00EC27]\n",
      "\t(No symbol) [0x00007FF6FCFEBC1F]\n",
      "\t(No symbol) [0x00007FF6FD00BA4C]\n",
      "\t(No symbol) [0x00007FF6FCFEB983]\n",
      "\t(No symbol) [0x00007FF6FCFB7628]\n",
      "\t(No symbol) [0x00007FF6FCFB8791]\n",
      "\tGetHandleVerifier [0x00007FF6FD45A00D+3161901]\n",
      "\tGetHandleVerifier [0x00007FF6FD4AE060+3506048]\n",
      "\tGetHandleVerifier [0x00007FF6FD4A400D+3465005]\n",
      "\tGetHandleVerifier [0x00007FF6FD220EEB+830987]\n",
      "\t(No symbol) [0x00007FF6FD0D467F]\n",
      "\t(No symbol) [0x00007FF6FD0D09D4]\n",
      "\t(No symbol) [0x00007FF6FD0D0B6D]\n",
      "\t(No symbol) [0x00007FF6FD0C0149]\n",
      "\tBaseThreadInitThunk [0x00007FFB7AAA7374+20]\n",
      "\tRtlUserThreadStart [0x00007FFB7C37CC91+33]\n",
      "\n"
     ]
    },
    {
     "name": "stderr",
     "output_type": "stream",
     "text": [
      "Processing URLs:   2%|      | 474/29446 [52:28<51:52:02,  6.44s/it]"
     ]
    },
    {
     "name": "stdout",
     "output_type": "stream",
     "text": [
      "Error fetching URL: https://www.agoda.com/partners/partnersearch.aspx?hid=254909 - Message: no such element: Unable to locate element: {\"method\":\"css selector\",\"selector\":\"a[data-element-name='property-card-content']\"}\n",
      "  (Session info: chrome=130.0.6723.117); For documentation on this error, please visit: https://www.selenium.dev/documentation/webdriver/troubleshooting/errors#no-such-element-exception\n",
      "Stacktrace:\n",
      "\tGetHandleVerifier [0x00007FF6FD4338A5+3004357]\n",
      "\t(No symbol) [0x00007FF6FD0C9970]\n",
      "\t(No symbol) [0x00007FF6FCF7582A]\n",
      "\t(No symbol) [0x00007FF6FCFC5B8E]\n",
      "\t(No symbol) [0x00007FF6FCFC5E7C]\n",
      "\t(No symbol) [0x00007FF6FD00EC27]\n",
      "\t(No symbol) [0x00007FF6FCFEBC1F]\n",
      "\t(No symbol) [0x00007FF6FD00BA4C]\n",
      "\t(No symbol) [0x00007FF6FCFEB983]\n",
      "\t(No symbol) [0x00007FF6FCFB7628]\n",
      "\t(No symbol) [0x00007FF6FCFB8791]\n",
      "\tGetHandleVerifier [0x00007FF6FD45A00D+3161901]\n",
      "\tGetHandleVerifier [0x00007FF6FD4AE060+3506048]\n",
      "\tGetHandleVerifier [0x00007FF6FD4A400D+3465005]\n",
      "\tGetHandleVerifier [0x00007FF6FD220EEB+830987]\n",
      "\t(No symbol) [0x00007FF6FD0D467F]\n",
      "\t(No symbol) [0x00007FF6FD0D09D4]\n",
      "\t(No symbol) [0x00007FF6FD0D0B6D]\n",
      "\t(No symbol) [0x00007FF6FD0C0149]\n",
      "\tBaseThreadInitThunk [0x00007FFB7AAA7374+20]\n",
      "\tRtlUserThreadStart [0x00007FFB7C37CC91+33]\n",
      "\n"
     ]
    },
    {
     "name": "stderr",
     "output_type": "stream",
     "text": [
      "Processing URLs:   2%|      | 475/29446 [52:35<51:32:53,  6.41s/it]"
     ]
    },
    {
     "name": "stdout",
     "output_type": "stream",
     "text": [
      "Error fetching URL: https://www.agoda.com/partners/partnersearch.aspx?hid=254913 - Message: no such element: Unable to locate element: {\"method\":\"css selector\",\"selector\":\"a[data-element-name='property-card-content']\"}\n",
      "  (Session info: chrome=130.0.6723.117); For documentation on this error, please visit: https://www.selenium.dev/documentation/webdriver/troubleshooting/errors#no-such-element-exception\n",
      "Stacktrace:\n",
      "\tGetHandleVerifier [0x00007FF6FD4338A5+3004357]\n",
      "\t(No symbol) [0x00007FF6FD0C9970]\n",
      "\t(No symbol) [0x00007FF6FCF7582A]\n",
      "\t(No symbol) [0x00007FF6FCFC5B8E]\n",
      "\t(No symbol) [0x00007FF6FCFC5E7C]\n",
      "\t(No symbol) [0x00007FF6FD00EC27]\n",
      "\t(No symbol) [0x00007FF6FCFEBC1F]\n",
      "\t(No symbol) [0x00007FF6FD00BA4C]\n",
      "\t(No symbol) [0x00007FF6FCFEB983]\n",
      "\t(No symbol) [0x00007FF6FCFB7628]\n",
      "\t(No symbol) [0x00007FF6FCFB8791]\n",
      "\tGetHandleVerifier [0x00007FF6FD45A00D+3161901]\n",
      "\tGetHandleVerifier [0x00007FF6FD4AE060+3506048]\n",
      "\tGetHandleVerifier [0x00007FF6FD4A400D+3465005]\n",
      "\tGetHandleVerifier [0x00007FF6FD220EEB+830987]\n",
      "\t(No symbol) [0x00007FF6FD0D467F]\n",
      "\t(No symbol) [0x00007FF6FD0D09D4]\n",
      "\t(No symbol) [0x00007FF6FD0D0B6D]\n",
      "\t(No symbol) [0x00007FF6FD0C0149]\n",
      "\tBaseThreadInitThunk [0x00007FFB7AAA7374+20]\n",
      "\tRtlUserThreadStart [0x00007FFB7C37CC91+33]\n",
      "\n"
     ]
    },
    {
     "name": "stderr",
     "output_type": "stream",
     "text": [
      "Processing URLs:   2%|      | 476/29446 [52:41<51:19:19,  6.38s/it]"
     ]
    },
    {
     "name": "stdout",
     "output_type": "stream",
     "text": [
      "Error fetching URL: https://www.agoda.com/partners/partnersearch.aspx?hid=254955 - Message: no such element: Unable to locate element: {\"method\":\"css selector\",\"selector\":\"a[data-element-name='property-card-content']\"}\n",
      "  (Session info: chrome=130.0.6723.117); For documentation on this error, please visit: https://www.selenium.dev/documentation/webdriver/troubleshooting/errors#no-such-element-exception\n",
      "Stacktrace:\n",
      "\tGetHandleVerifier [0x00007FF6FD4338A5+3004357]\n",
      "\t(No symbol) [0x00007FF6FD0C9970]\n",
      "\t(No symbol) [0x00007FF6FCF7582A]\n",
      "\t(No symbol) [0x00007FF6FCFC5B8E]\n",
      "\t(No symbol) [0x00007FF6FCFC5E7C]\n",
      "\t(No symbol) [0x00007FF6FD00EC27]\n",
      "\t(No symbol) [0x00007FF6FCFEBC1F]\n",
      "\t(No symbol) [0x00007FF6FD00BA4C]\n",
      "\t(No symbol) [0x00007FF6FCFEB983]\n",
      "\t(No symbol) [0x00007FF6FCFB7628]\n",
      "\t(No symbol) [0x00007FF6FCFB8791]\n",
      "\tGetHandleVerifier [0x00007FF6FD45A00D+3161901]\n",
      "\tGetHandleVerifier [0x00007FF6FD4AE060+3506048]\n",
      "\tGetHandleVerifier [0x00007FF6FD4A400D+3465005]\n",
      "\tGetHandleVerifier [0x00007FF6FD220EEB+830987]\n",
      "\t(No symbol) [0x00007FF6FD0D467F]\n",
      "\t(No symbol) [0x00007FF6FD0D09D4]\n",
      "\t(No symbol) [0x00007FF6FD0D0B6D]\n",
      "\t(No symbol) [0x00007FF6FD0C0149]\n",
      "\tBaseThreadInitThunk [0x00007FFB7AAA7374+20]\n",
      "\tRtlUserThreadStart [0x00007FFB7C37CC91+33]\n",
      "\n"
     ]
    },
    {
     "name": "stderr",
     "output_type": "stream",
     "text": [
      "Processing URLs:   2%|      | 477/29446 [52:48<52:00:18,  6.46s/it]"
     ]
    },
    {
     "name": "stdout",
     "output_type": "stream",
     "text": [
      "Error fetching URL: https://www.agoda.com/partners/partnersearch.aspx?hid=254996 - Message: no such element: Unable to locate element: {\"method\":\"css selector\",\"selector\":\"a[data-element-name='property-card-content']\"}\n",
      "  (Session info: chrome=130.0.6723.117); For documentation on this error, please visit: https://www.selenium.dev/documentation/webdriver/troubleshooting/errors#no-such-element-exception\n",
      "Stacktrace:\n",
      "\tGetHandleVerifier [0x00007FF6FD4338A5+3004357]\n",
      "\t(No symbol) [0x00007FF6FD0C9970]\n",
      "\t(No symbol) [0x00007FF6FCF7582A]\n",
      "\t(No symbol) [0x00007FF6FCFC5B8E]\n",
      "\t(No symbol) [0x00007FF6FCFC5E7C]\n",
      "\t(No symbol) [0x00007FF6FD00EC27]\n",
      "\t(No symbol) [0x00007FF6FCFEBC1F]\n",
      "\t(No symbol) [0x00007FF6FD00BA4C]\n",
      "\t(No symbol) [0x00007FF6FCFEB983]\n",
      "\t(No symbol) [0x00007FF6FCFB7628]\n",
      "\t(No symbol) [0x00007FF6FCFB8791]\n",
      "\tGetHandleVerifier [0x00007FF6FD45A00D+3161901]\n",
      "\tGetHandleVerifier [0x00007FF6FD4AE060+3506048]\n",
      "\tGetHandleVerifier [0x00007FF6FD4A400D+3465005]\n",
      "\tGetHandleVerifier [0x00007FF6FD220EEB+830987]\n",
      "\t(No symbol) [0x00007FF6FD0D467F]\n",
      "\t(No symbol) [0x00007FF6FD0D09D4]\n",
      "\t(No symbol) [0x00007FF6FD0D0B6D]\n",
      "\t(No symbol) [0x00007FF6FD0C0149]\n",
      "\tBaseThreadInitThunk [0x00007FFB7AAA7374+20]\n",
      "\tRtlUserThreadStart [0x00007FFB7C37CC91+33]\n",
      "\n"
     ]
    },
    {
     "name": "stderr",
     "output_type": "stream",
     "text": [
      "Processing URLs:   2%|      | 479/29446 [53:01<52:50:15,  6.57s/it]"
     ]
    },
    {
     "name": "stdout",
     "output_type": "stream",
     "text": [
      "Error fetching URL: https://www.agoda.com/partners/partnersearch.aspx?hid=255004 - Message: no such element: Unable to locate element: {\"method\":\"css selector\",\"selector\":\"a[data-element-name='property-card-content']\"}\n",
      "  (Session info: chrome=130.0.6723.117); For documentation on this error, please visit: https://www.selenium.dev/documentation/webdriver/troubleshooting/errors#no-such-element-exception\n",
      "Stacktrace:\n",
      "\tGetHandleVerifier [0x00007FF6FD4338A5+3004357]\n",
      "\t(No symbol) [0x00007FF6FD0C9970]\n",
      "\t(No symbol) [0x00007FF6FCF7582A]\n",
      "\t(No symbol) [0x00007FF6FCFC5B8E]\n",
      "\t(No symbol) [0x00007FF6FCFC5E7C]\n",
      "\t(No symbol) [0x00007FF6FD00EC27]\n",
      "\t(No symbol) [0x00007FF6FCFEBC1F]\n",
      "\t(No symbol) [0x00007FF6FD00BA4C]\n",
      "\t(No symbol) [0x00007FF6FCFEB983]\n",
      "\t(No symbol) [0x00007FF6FCFB7628]\n",
      "\t(No symbol) [0x00007FF6FCFB8791]\n",
      "\tGetHandleVerifier [0x00007FF6FD45A00D+3161901]\n",
      "\tGetHandleVerifier [0x00007FF6FD4AE060+3506048]\n",
      "\tGetHandleVerifier [0x00007FF6FD4A400D+3465005]\n",
      "\tGetHandleVerifier [0x00007FF6FD220EEB+830987]\n",
      "\t(No symbol) [0x00007FF6FD0D467F]\n",
      "\t(No symbol) [0x00007FF6FD0D09D4]\n",
      "\t(No symbol) [0x00007FF6FD0D0B6D]\n",
      "\t(No symbol) [0x00007FF6FD0C0149]\n",
      "\tBaseThreadInitThunk [0x00007FFB7AAA7374+20]\n",
      "\tRtlUserThreadStart [0x00007FFB7C37CC91+33]\n",
      "\n"
     ]
    },
    {
     "name": "stderr",
     "output_type": "stream",
     "text": [
      "Processing URLs:   2%|      | 480/29446 [53:07<52:53:03,  6.57s/it]"
     ]
    },
    {
     "name": "stdout",
     "output_type": "stream",
     "text": [
      "Error fetching URL: https://www.agoda.com/partners/partnersearch.aspx?hid=255023 - Message: no such element: Unable to locate element: {\"method\":\"css selector\",\"selector\":\"a[data-element-name='property-card-content']\"}\n",
      "  (Session info: chrome=130.0.6723.117); For documentation on this error, please visit: https://www.selenium.dev/documentation/webdriver/troubleshooting/errors#no-such-element-exception\n",
      "Stacktrace:\n",
      "\tGetHandleVerifier [0x00007FF6FD4338A5+3004357]\n",
      "\t(No symbol) [0x00007FF6FD0C9970]\n",
      "\t(No symbol) [0x00007FF6FCF7582A]\n",
      "\t(No symbol) [0x00007FF6FCFC5B8E]\n",
      "\t(No symbol) [0x00007FF6FCFC5E7C]\n",
      "\t(No symbol) [0x00007FF6FD00EC27]\n",
      "\t(No symbol) [0x00007FF6FCFEBC1F]\n",
      "\t(No symbol) [0x00007FF6FD00BA4C]\n",
      "\t(No symbol) [0x00007FF6FCFEB983]\n",
      "\t(No symbol) [0x00007FF6FCFB7628]\n",
      "\t(No symbol) [0x00007FF6FCFB8791]\n",
      "\tGetHandleVerifier [0x00007FF6FD45A00D+3161901]\n",
      "\tGetHandleVerifier [0x00007FF6FD4AE060+3506048]\n",
      "\tGetHandleVerifier [0x00007FF6FD4A400D+3465005]\n",
      "\tGetHandleVerifier [0x00007FF6FD220EEB+830987]\n",
      "\t(No symbol) [0x00007FF6FD0D467F]\n",
      "\t(No symbol) [0x00007FF6FD0D09D4]\n",
      "\t(No symbol) [0x00007FF6FD0D0B6D]\n",
      "\t(No symbol) [0x00007FF6FD0C0149]\n",
      "\tBaseThreadInitThunk [0x00007FFB7AAA7374+20]\n",
      "\tRtlUserThreadStart [0x00007FFB7C37CC91+33]\n",
      "\n"
     ]
    },
    {
     "name": "stderr",
     "output_type": "stream",
     "text": [
      "Processing URLs:   2%|      | 481/29446 [53:14<52:51:59,  6.57s/it]"
     ]
    },
    {
     "name": "stdout",
     "output_type": "stream",
     "text": [
      "Error fetching URL: https://www.agoda.com/partners/partnersearch.aspx?hid=255043 - Message: no such element: Unable to locate element: {\"method\":\"css selector\",\"selector\":\"a[data-element-name='property-card-content']\"}\n",
      "  (Session info: chrome=130.0.6723.117); For documentation on this error, please visit: https://www.selenium.dev/documentation/webdriver/troubleshooting/errors#no-such-element-exception\n",
      "Stacktrace:\n",
      "\tGetHandleVerifier [0x00007FF6FD4338A5+3004357]\n",
      "\t(No symbol) [0x00007FF6FD0C9970]\n",
      "\t(No symbol) [0x00007FF6FCF7582A]\n",
      "\t(No symbol) [0x00007FF6FCFC5B8E]\n",
      "\t(No symbol) [0x00007FF6FCFC5E7C]\n",
      "\t(No symbol) [0x00007FF6FD00EC27]\n",
      "\t(No symbol) [0x00007FF6FCFEBC1F]\n",
      "\t(No symbol) [0x00007FF6FD00BA4C]\n",
      "\t(No symbol) [0x00007FF6FCFEB983]\n",
      "\t(No symbol) [0x00007FF6FCFB7628]\n",
      "\t(No symbol) [0x00007FF6FCFB8791]\n",
      "\tGetHandleVerifier [0x00007FF6FD45A00D+3161901]\n",
      "\tGetHandleVerifier [0x00007FF6FD4AE060+3506048]\n",
      "\tGetHandleVerifier [0x00007FF6FD4A400D+3465005]\n",
      "\tGetHandleVerifier [0x00007FF6FD220EEB+830987]\n",
      "\t(No symbol) [0x00007FF6FD0D467F]\n",
      "\t(No symbol) [0x00007FF6FD0D09D4]\n",
      "\t(No symbol) [0x00007FF6FD0D0B6D]\n",
      "\t(No symbol) [0x00007FF6FD0C0149]\n",
      "\tBaseThreadInitThunk [0x00007FFB7AAA7374+20]\n",
      "\tRtlUserThreadStart [0x00007FFB7C37CC91+33]\n",
      "\n"
     ]
    },
    {
     "name": "stderr",
     "output_type": "stream",
     "text": [
      "Processing URLs:   2%|      | 482/29446 [53:20<52:20:56,  6.51s/it]"
     ]
    },
    {
     "name": "stdout",
     "output_type": "stream",
     "text": [
      "Error fetching URL: https://www.agoda.com/partners/partnersearch.aspx?hid=255143 - Message: no such element: Unable to locate element: {\"method\":\"css selector\",\"selector\":\"a[data-element-name='property-card-content']\"}\n",
      "  (Session info: chrome=130.0.6723.117); For documentation on this error, please visit: https://www.selenium.dev/documentation/webdriver/troubleshooting/errors#no-such-element-exception\n",
      "Stacktrace:\n",
      "\tGetHandleVerifier [0x00007FF6FD4338A5+3004357]\n",
      "\t(No symbol) [0x00007FF6FD0C9970]\n",
      "\t(No symbol) [0x00007FF6FCF7582A]\n",
      "\t(No symbol) [0x00007FF6FCFC5B8E]\n",
      "\t(No symbol) [0x00007FF6FCFC5E7C]\n",
      "\t(No symbol) [0x00007FF6FD00EC27]\n",
      "\t(No symbol) [0x00007FF6FCFEBC1F]\n",
      "\t(No symbol) [0x00007FF6FD00BA4C]\n",
      "\t(No symbol) [0x00007FF6FCFEB983]\n",
      "\t(No symbol) [0x00007FF6FCFB7628]\n",
      "\t(No symbol) [0x00007FF6FCFB8791]\n",
      "\tGetHandleVerifier [0x00007FF6FD45A00D+3161901]\n",
      "\tGetHandleVerifier [0x00007FF6FD4AE060+3506048]\n",
      "\tGetHandleVerifier [0x00007FF6FD4A400D+3465005]\n",
      "\tGetHandleVerifier [0x00007FF6FD220EEB+830987]\n",
      "\t(No symbol) [0x00007FF6FD0D467F]\n",
      "\t(No symbol) [0x00007FF6FD0D09D4]\n",
      "\t(No symbol) [0x00007FF6FD0D0B6D]\n",
      "\t(No symbol) [0x00007FF6FD0C0149]\n",
      "\tBaseThreadInitThunk [0x00007FFB7AAA7374+20]\n",
      "\tRtlUserThreadStart [0x00007FFB7C37CC91+33]\n",
      "\n"
     ]
    },
    {
     "name": "stderr",
     "output_type": "stream",
     "text": [
      "Processing URLs:   2%|      | 483/29446 [53:27<52:29:28,  6.52s/it]"
     ]
    },
    {
     "name": "stdout",
     "output_type": "stream",
     "text": [
      "Error fetching URL: https://www.agoda.com/partners/partnersearch.aspx?hid=255197 - Message: no such element: Unable to locate element: {\"method\":\"css selector\",\"selector\":\"a[data-element-name='property-card-content']\"}\n",
      "  (Session info: chrome=130.0.6723.117); For documentation on this error, please visit: https://www.selenium.dev/documentation/webdriver/troubleshooting/errors#no-such-element-exception\n",
      "Stacktrace:\n",
      "\tGetHandleVerifier [0x00007FF6FD4338A5+3004357]\n",
      "\t(No symbol) [0x00007FF6FD0C9970]\n",
      "\t(No symbol) [0x00007FF6FCF7582A]\n",
      "\t(No symbol) [0x00007FF6FCFC5B8E]\n",
      "\t(No symbol) [0x00007FF6FCFC5E7C]\n",
      "\t(No symbol) [0x00007FF6FD00EC27]\n",
      "\t(No symbol) [0x00007FF6FCFEBC1F]\n",
      "\t(No symbol) [0x00007FF6FD00BA4C]\n",
      "\t(No symbol) [0x00007FF6FCFEB983]\n",
      "\t(No symbol) [0x00007FF6FCFB7628]\n",
      "\t(No symbol) [0x00007FF6FCFB8791]\n",
      "\tGetHandleVerifier [0x00007FF6FD45A00D+3161901]\n",
      "\tGetHandleVerifier [0x00007FF6FD4AE060+3506048]\n",
      "\tGetHandleVerifier [0x00007FF6FD4A400D+3465005]\n",
      "\tGetHandleVerifier [0x00007FF6FD220EEB+830987]\n",
      "\t(No symbol) [0x00007FF6FD0D467F]\n",
      "\t(No symbol) [0x00007FF6FD0D09D4]\n",
      "\t(No symbol) [0x00007FF6FD0D0B6D]\n",
      "\t(No symbol) [0x00007FF6FD0C0149]\n",
      "\tBaseThreadInitThunk [0x00007FFB7AAA7374+20]\n",
      "\tRtlUserThreadStart [0x00007FFB7C37CC91+33]\n",
      "\n"
     ]
    },
    {
     "name": "stderr",
     "output_type": "stream",
     "text": [
      "Processing URLs:   2%|      | 485/29446 [53:40<52:56:31,  6.58s/it]"
     ]
    },
    {
     "name": "stdout",
     "output_type": "stream",
     "text": [
      "Error fetching URL: https://www.agoda.com/partners/partnersearch.aspx?hid=255225 - Message: no such element: Unable to locate element: {\"method\":\"css selector\",\"selector\":\"a[data-element-name='property-card-content']\"}\n",
      "  (Session info: chrome=130.0.6723.117); For documentation on this error, please visit: https://www.selenium.dev/documentation/webdriver/troubleshooting/errors#no-such-element-exception\n",
      "Stacktrace:\n",
      "\tGetHandleVerifier [0x00007FF6FD4338A5+3004357]\n",
      "\t(No symbol) [0x00007FF6FD0C9970]\n",
      "\t(No symbol) [0x00007FF6FCF7582A]\n",
      "\t(No symbol) [0x00007FF6FCFC5B8E]\n",
      "\t(No symbol) [0x00007FF6FCFC5E7C]\n",
      "\t(No symbol) [0x00007FF6FD00EC27]\n",
      "\t(No symbol) [0x00007FF6FCFEBC1F]\n",
      "\t(No symbol) [0x00007FF6FD00BA4C]\n",
      "\t(No symbol) [0x00007FF6FCFEB983]\n",
      "\t(No symbol) [0x00007FF6FCFB7628]\n",
      "\t(No symbol) [0x00007FF6FCFB8791]\n",
      "\tGetHandleVerifier [0x00007FF6FD45A00D+3161901]\n",
      "\tGetHandleVerifier [0x00007FF6FD4AE060+3506048]\n",
      "\tGetHandleVerifier [0x00007FF6FD4A400D+3465005]\n",
      "\tGetHandleVerifier [0x00007FF6FD220EEB+830987]\n",
      "\t(No symbol) [0x00007FF6FD0D467F]\n",
      "\t(No symbol) [0x00007FF6FD0D09D4]\n",
      "\t(No symbol) [0x00007FF6FD0D0B6D]\n",
      "\t(No symbol) [0x00007FF6FD0C0149]\n",
      "\tBaseThreadInitThunk [0x00007FFB7AAA7374+20]\n",
      "\tRtlUserThreadStart [0x00007FFB7C37CC91+33]\n",
      "\n"
     ]
    },
    {
     "name": "stderr",
     "output_type": "stream",
     "text": [
      "Processing URLs:   2%|      | 486/29446 [53:47<52:19:29,  6.50s/it]"
     ]
    },
    {
     "name": "stdout",
     "output_type": "stream",
     "text": [
      "Error fetching URL: https://www.agoda.com/partners/partnersearch.aspx?hid=255229 - Message: no such element: Unable to locate element: {\"method\":\"css selector\",\"selector\":\"a[data-element-name='property-card-content']\"}\n",
      "  (Session info: chrome=130.0.6723.117); For documentation on this error, please visit: https://www.selenium.dev/documentation/webdriver/troubleshooting/errors#no-such-element-exception\n",
      "Stacktrace:\n",
      "\tGetHandleVerifier [0x00007FF6FD4338A5+3004357]\n",
      "\t(No symbol) [0x00007FF6FD0C9970]\n",
      "\t(No symbol) [0x00007FF6FCF7582A]\n",
      "\t(No symbol) [0x00007FF6FCFC5B8E]\n",
      "\t(No symbol) [0x00007FF6FCFC5E7C]\n",
      "\t(No symbol) [0x00007FF6FD00EC27]\n",
      "\t(No symbol) [0x00007FF6FCFEBC1F]\n",
      "\t(No symbol) [0x00007FF6FD00BA4C]\n",
      "\t(No symbol) [0x00007FF6FCFEB983]\n",
      "\t(No symbol) [0x00007FF6FCFB7628]\n",
      "\t(No symbol) [0x00007FF6FCFB8791]\n",
      "\tGetHandleVerifier [0x00007FF6FD45A00D+3161901]\n",
      "\tGetHandleVerifier [0x00007FF6FD4AE060+3506048]\n",
      "\tGetHandleVerifier [0x00007FF6FD4A400D+3465005]\n",
      "\tGetHandleVerifier [0x00007FF6FD220EEB+830987]\n",
      "\t(No symbol) [0x00007FF6FD0D467F]\n",
      "\t(No symbol) [0x00007FF6FD0D09D4]\n",
      "\t(No symbol) [0x00007FF6FD0D0B6D]\n",
      "\t(No symbol) [0x00007FF6FD0C0149]\n",
      "\tBaseThreadInitThunk [0x00007FFB7AAA7374+20]\n",
      "\tRtlUserThreadStart [0x00007FFB7C37CC91+33]\n",
      "\n"
     ]
    },
    {
     "name": "stderr",
     "output_type": "stream",
     "text": [
      "Processing URLs:   2%|      | 487/29446 [53:53<51:57:50,  6.46s/it]"
     ]
    },
    {
     "name": "stdout",
     "output_type": "stream",
     "text": [
      "Error fetching URL: https://www.agoda.com/partners/partnersearch.aspx?hid=255243 - Message: no such element: Unable to locate element: {\"method\":\"css selector\",\"selector\":\"a[data-element-name='property-card-content']\"}\n",
      "  (Session info: chrome=130.0.6723.117); For documentation on this error, please visit: https://www.selenium.dev/documentation/webdriver/troubleshooting/errors#no-such-element-exception\n",
      "Stacktrace:\n",
      "\tGetHandleVerifier [0x00007FF6FD4338A5+3004357]\n",
      "\t(No symbol) [0x00007FF6FD0C9970]\n",
      "\t(No symbol) [0x00007FF6FCF7582A]\n",
      "\t(No symbol) [0x00007FF6FCFC5B8E]\n",
      "\t(No symbol) [0x00007FF6FCFC5E7C]\n",
      "\t(No symbol) [0x00007FF6FD00EC27]\n",
      "\t(No symbol) [0x00007FF6FCFEBC1F]\n",
      "\t(No symbol) [0x00007FF6FD00BA4C]\n",
      "\t(No symbol) [0x00007FF6FCFEB983]\n",
      "\t(No symbol) [0x00007FF6FCFB7628]\n",
      "\t(No symbol) [0x00007FF6FCFB8791]\n",
      "\tGetHandleVerifier [0x00007FF6FD45A00D+3161901]\n",
      "\tGetHandleVerifier [0x00007FF6FD4AE060+3506048]\n",
      "\tGetHandleVerifier [0x00007FF6FD4A400D+3465005]\n",
      "\tGetHandleVerifier [0x00007FF6FD220EEB+830987]\n",
      "\t(No symbol) [0x00007FF6FD0D467F]\n",
      "\t(No symbol) [0x00007FF6FD0D09D4]\n",
      "\t(No symbol) [0x00007FF6FD0D0B6D]\n",
      "\t(No symbol) [0x00007FF6FD0C0149]\n",
      "\tBaseThreadInitThunk [0x00007FFB7AAA7374+20]\n",
      "\tRtlUserThreadStart [0x00007FFB7C37CC91+33]\n",
      "\n"
     ]
    },
    {
     "name": "stderr",
     "output_type": "stream",
     "text": [
      "Processing URLs:   2%|      | 488/29446 [53:59<51:50:13,  6.44s/it]"
     ]
    },
    {
     "name": "stdout",
     "output_type": "stream",
     "text": [
      "Error fetching URL: https://www.agoda.com/partners/partnersearch.aspx?hid=255263 - Message: no such element: Unable to locate element: {\"method\":\"css selector\",\"selector\":\"a[data-element-name='property-card-content']\"}\n",
      "  (Session info: chrome=130.0.6723.117); For documentation on this error, please visit: https://www.selenium.dev/documentation/webdriver/troubleshooting/errors#no-such-element-exception\n",
      "Stacktrace:\n",
      "\tGetHandleVerifier [0x00007FF6FD4338A5+3004357]\n",
      "\t(No symbol) [0x00007FF6FD0C9970]\n",
      "\t(No symbol) [0x00007FF6FCF7582A]\n",
      "\t(No symbol) [0x00007FF6FCFC5B8E]\n",
      "\t(No symbol) [0x00007FF6FCFC5E7C]\n",
      "\t(No symbol) [0x00007FF6FD00EC27]\n",
      "\t(No symbol) [0x00007FF6FCFEBC1F]\n",
      "\t(No symbol) [0x00007FF6FD00BA4C]\n",
      "\t(No symbol) [0x00007FF6FCFEB983]\n",
      "\t(No symbol) [0x00007FF6FCFB7628]\n",
      "\t(No symbol) [0x00007FF6FCFB8791]\n",
      "\tGetHandleVerifier [0x00007FF6FD45A00D+3161901]\n",
      "\tGetHandleVerifier [0x00007FF6FD4AE060+3506048]\n",
      "\tGetHandleVerifier [0x00007FF6FD4A400D+3465005]\n",
      "\tGetHandleVerifier [0x00007FF6FD220EEB+830987]\n",
      "\t(No symbol) [0x00007FF6FD0D467F]\n",
      "\t(No symbol) [0x00007FF6FD0D09D4]\n",
      "\t(No symbol) [0x00007FF6FD0D0B6D]\n",
      "\t(No symbol) [0x00007FF6FD0C0149]\n",
      "\tBaseThreadInitThunk [0x00007FFB7AAA7374+20]\n",
      "\tRtlUserThreadStart [0x00007FFB7C37CC91+33]\n",
      "\n"
     ]
    },
    {
     "name": "stderr",
     "output_type": "stream",
     "text": [
      "Processing URLs:   2%|      | 489/29446 [54:06<52:20:47,  6.51s/it]"
     ]
    },
    {
     "name": "stdout",
     "output_type": "stream",
     "text": [
      "Error fetching URL: https://www.agoda.com/partners/partnersearch.aspx?hid=255279 - Message: no such element: Unable to locate element: {\"method\":\"css selector\",\"selector\":\"a[data-element-name='property-card-content']\"}\n",
      "  (Session info: chrome=130.0.6723.117); For documentation on this error, please visit: https://www.selenium.dev/documentation/webdriver/troubleshooting/errors#no-such-element-exception\n",
      "Stacktrace:\n",
      "\tGetHandleVerifier [0x00007FF6FD4338A5+3004357]\n",
      "\t(No symbol) [0x00007FF6FD0C9970]\n",
      "\t(No symbol) [0x00007FF6FCF7582A]\n",
      "\t(No symbol) [0x00007FF6FCFC5B8E]\n",
      "\t(No symbol) [0x00007FF6FCFC5E7C]\n",
      "\t(No symbol) [0x00007FF6FD00EC27]\n",
      "\t(No symbol) [0x00007FF6FCFEBC1F]\n",
      "\t(No symbol) [0x00007FF6FD00BA4C]\n",
      "\t(No symbol) [0x00007FF6FCFEB983]\n",
      "\t(No symbol) [0x00007FF6FCFB7628]\n",
      "\t(No symbol) [0x00007FF6FCFB8791]\n",
      "\tGetHandleVerifier [0x00007FF6FD45A00D+3161901]\n",
      "\tGetHandleVerifier [0x00007FF6FD4AE060+3506048]\n",
      "\tGetHandleVerifier [0x00007FF6FD4A400D+3465005]\n",
      "\tGetHandleVerifier [0x00007FF6FD220EEB+830987]\n",
      "\t(No symbol) [0x00007FF6FD0D467F]\n",
      "\t(No symbol) [0x00007FF6FD0D09D4]\n",
      "\t(No symbol) [0x00007FF6FD0D0B6D]\n",
      "\t(No symbol) [0x00007FF6FD0C0149]\n",
      "\tBaseThreadInitThunk [0x00007FFB7AAA7374+20]\n",
      "\tRtlUserThreadStart [0x00007FFB7C37CC91+33]\n",
      "\n"
     ]
    },
    {
     "name": "stderr",
     "output_type": "stream",
     "text": [
      "Processing URLs:   2%|      | 491/29446 [54:19<52:13:48,  6.49s/it]"
     ]
    },
    {
     "name": "stdout",
     "output_type": "stream",
     "text": [
      "Error fetching URL: https://www.agoda.com/partners/partnersearch.aspx?hid=255307 - Message: no such element: Unable to locate element: {\"method\":\"css selector\",\"selector\":\"a[data-element-name='property-card-content']\"}\n",
      "  (Session info: chrome=130.0.6723.117); For documentation on this error, please visit: https://www.selenium.dev/documentation/webdriver/troubleshooting/errors#no-such-element-exception\n",
      "Stacktrace:\n",
      "\tGetHandleVerifier [0x00007FF6FD4338A5+3004357]\n",
      "\t(No symbol) [0x00007FF6FD0C9970]\n",
      "\t(No symbol) [0x00007FF6FCF7582A]\n",
      "\t(No symbol) [0x00007FF6FCFC5B8E]\n",
      "\t(No symbol) [0x00007FF6FCFC5E7C]\n",
      "\t(No symbol) [0x00007FF6FD00EC27]\n",
      "\t(No symbol) [0x00007FF6FCFEBC1F]\n",
      "\t(No symbol) [0x00007FF6FD00BA4C]\n",
      "\t(No symbol) [0x00007FF6FCFEB983]\n",
      "\t(No symbol) [0x00007FF6FCFB7628]\n",
      "\t(No symbol) [0x00007FF6FCFB8791]\n",
      "\tGetHandleVerifier [0x00007FF6FD45A00D+3161901]\n",
      "\tGetHandleVerifier [0x00007FF6FD4AE060+3506048]\n",
      "\tGetHandleVerifier [0x00007FF6FD4A400D+3465005]\n",
      "\tGetHandleVerifier [0x00007FF6FD220EEB+830987]\n",
      "\t(No symbol) [0x00007FF6FD0D467F]\n",
      "\t(No symbol) [0x00007FF6FD0D09D4]\n",
      "\t(No symbol) [0x00007FF6FD0D0B6D]\n",
      "\t(No symbol) [0x00007FF6FD0C0149]\n",
      "\tBaseThreadInitThunk [0x00007FFB7AAA7374+20]\n",
      "\tRtlUserThreadStart [0x00007FFB7C37CC91+33]\n",
      "\n"
     ]
    },
    {
     "name": "stderr",
     "output_type": "stream",
     "text": [
      "Processing URLs:   2%|      | 493/29446 [54:32<52:22:24,  6.51s/it]"
     ]
    },
    {
     "name": "stdout",
     "output_type": "stream",
     "text": [
      "Error fetching URL: https://www.agoda.com/partners/partnersearch.aspx?hid=255465 - Message: no such element: Unable to locate element: {\"method\":\"css selector\",\"selector\":\"a[data-element-name='property-card-content']\"}\n",
      "  (Session info: chrome=130.0.6723.117); For documentation on this error, please visit: https://www.selenium.dev/documentation/webdriver/troubleshooting/errors#no-such-element-exception\n",
      "Stacktrace:\n",
      "\tGetHandleVerifier [0x00007FF6FD4338A5+3004357]\n",
      "\t(No symbol) [0x00007FF6FD0C9970]\n",
      "\t(No symbol) [0x00007FF6FCF7582A]\n",
      "\t(No symbol) [0x00007FF6FCFC5B8E]\n",
      "\t(No symbol) [0x00007FF6FCFC5E7C]\n",
      "\t(No symbol) [0x00007FF6FD00EC27]\n",
      "\t(No symbol) [0x00007FF6FCFEBC1F]\n",
      "\t(No symbol) [0x00007FF6FD00BA4C]\n",
      "\t(No symbol) [0x00007FF6FCFEB983]\n",
      "\t(No symbol) [0x00007FF6FCFB7628]\n",
      "\t(No symbol) [0x00007FF6FCFB8791]\n",
      "\tGetHandleVerifier [0x00007FF6FD45A00D+3161901]\n",
      "\tGetHandleVerifier [0x00007FF6FD4AE060+3506048]\n",
      "\tGetHandleVerifier [0x00007FF6FD4A400D+3465005]\n",
      "\tGetHandleVerifier [0x00007FF6FD220EEB+830987]\n",
      "\t(No symbol) [0x00007FF6FD0D467F]\n",
      "\t(No symbol) [0x00007FF6FD0D09D4]\n",
      "\t(No symbol) [0x00007FF6FD0D0B6D]\n",
      "\t(No symbol) [0x00007FF6FD0C0149]\n",
      "\tBaseThreadInitThunk [0x00007FFB7AAA7374+20]\n",
      "\tRtlUserThreadStart [0x00007FFB7C37CC91+33]\n",
      "\n"
     ]
    },
    {
     "name": "stderr",
     "output_type": "stream",
     "text": [
      "Processing URLs:   2%|      | 494/29446 [54:38<51:57:16,  6.46s/it]"
     ]
    },
    {
     "name": "stdout",
     "output_type": "stream",
     "text": [
      "Error fetching URL: https://www.agoda.com/partners/partnersearch.aspx?hid=255472 - Message: no such element: Unable to locate element: {\"method\":\"css selector\",\"selector\":\"a[data-element-name='property-card-content']\"}\n",
      "  (Session info: chrome=130.0.6723.117); For documentation on this error, please visit: https://www.selenium.dev/documentation/webdriver/troubleshooting/errors#no-such-element-exception\n",
      "Stacktrace:\n",
      "\tGetHandleVerifier [0x00007FF6FD4338A5+3004357]\n",
      "\t(No symbol) [0x00007FF6FD0C9970]\n",
      "\t(No symbol) [0x00007FF6FCF7582A]\n",
      "\t(No symbol) [0x00007FF6FCFC5B8E]\n",
      "\t(No symbol) [0x00007FF6FCFC5E7C]\n",
      "\t(No symbol) [0x00007FF6FD00EC27]\n",
      "\t(No symbol) [0x00007FF6FCFEBC1F]\n",
      "\t(No symbol) [0x00007FF6FD00BA4C]\n",
      "\t(No symbol) [0x00007FF6FCFEB983]\n",
      "\t(No symbol) [0x00007FF6FCFB7628]\n",
      "\t(No symbol) [0x00007FF6FCFB8791]\n",
      "\tGetHandleVerifier [0x00007FF6FD45A00D+3161901]\n",
      "\tGetHandleVerifier [0x00007FF6FD4AE060+3506048]\n",
      "\tGetHandleVerifier [0x00007FF6FD4A400D+3465005]\n",
      "\tGetHandleVerifier [0x00007FF6FD220EEB+830987]\n",
      "\t(No symbol) [0x00007FF6FD0D467F]\n",
      "\t(No symbol) [0x00007FF6FD0D09D4]\n",
      "\t(No symbol) [0x00007FF6FD0D0B6D]\n",
      "\t(No symbol) [0x00007FF6FD0C0149]\n",
      "\tBaseThreadInitThunk [0x00007FFB7AAA7374+20]\n",
      "\tRtlUserThreadStart [0x00007FFB7C37CC91+33]\n",
      "\n"
     ]
    },
    {
     "name": "stderr",
     "output_type": "stream",
     "text": [
      "Processing URLs:   2%|      | 495/29446 [54:45<51:48:51,  6.44s/it]"
     ]
    },
    {
     "name": "stdout",
     "output_type": "stream",
     "text": [
      "Error fetching URL: https://www.agoda.com/partners/partnersearch.aspx?hid=255490 - Message: no such element: Unable to locate element: {\"method\":\"css selector\",\"selector\":\"a[data-element-name='property-card-content']\"}\n",
      "  (Session info: chrome=130.0.6723.117); For documentation on this error, please visit: https://www.selenium.dev/documentation/webdriver/troubleshooting/errors#no-such-element-exception\n",
      "Stacktrace:\n",
      "\tGetHandleVerifier [0x00007FF6FD4338A5+3004357]\n",
      "\t(No symbol) [0x00007FF6FD0C9970]\n",
      "\t(No symbol) [0x00007FF6FCF7582A]\n",
      "\t(No symbol) [0x00007FF6FCFC5B8E]\n",
      "\t(No symbol) [0x00007FF6FCFC5E7C]\n",
      "\t(No symbol) [0x00007FF6FD00EC27]\n",
      "\t(No symbol) [0x00007FF6FCFEBC1F]\n",
      "\t(No symbol) [0x00007FF6FD00BA4C]\n",
      "\t(No symbol) [0x00007FF6FCFEB983]\n",
      "\t(No symbol) [0x00007FF6FCFB7628]\n",
      "\t(No symbol) [0x00007FF6FCFB8791]\n",
      "\tGetHandleVerifier [0x00007FF6FD45A00D+3161901]\n",
      "\tGetHandleVerifier [0x00007FF6FD4AE060+3506048]\n",
      "\tGetHandleVerifier [0x00007FF6FD4A400D+3465005]\n",
      "\tGetHandleVerifier [0x00007FF6FD220EEB+830987]\n",
      "\t(No symbol) [0x00007FF6FD0D467F]\n",
      "\t(No symbol) [0x00007FF6FD0D09D4]\n",
      "\t(No symbol) [0x00007FF6FD0D0B6D]\n",
      "\t(No symbol) [0x00007FF6FD0C0149]\n",
      "\tBaseThreadInitThunk [0x00007FFB7AAA7374+20]\n",
      "\tRtlUserThreadStart [0x00007FFB7C37CC91+33]\n",
      "\n"
     ]
    },
    {
     "name": "stderr",
     "output_type": "stream",
     "text": [
      "Processing URLs:   2%|      | 498/29446 [55:04<51:47:53,  6.44s/it]"
     ]
    },
    {
     "name": "stdout",
     "output_type": "stream",
     "text": [
      "Error fetching URL: https://www.agoda.com/partners/partnersearch.aspx?hid=255934 - Message: no such element: Unable to locate element: {\"method\":\"css selector\",\"selector\":\"a[data-element-name='property-card-content']\"}\n",
      "  (Session info: chrome=130.0.6723.117); For documentation on this error, please visit: https://www.selenium.dev/documentation/webdriver/troubleshooting/errors#no-such-element-exception\n",
      "Stacktrace:\n",
      "\tGetHandleVerifier [0x00007FF6FD4338A5+3004357]\n",
      "\t(No symbol) [0x00007FF6FD0C9970]\n",
      "\t(No symbol) [0x00007FF6FCF7582A]\n",
      "\t(No symbol) [0x00007FF6FCFC5B8E]\n",
      "\t(No symbol) [0x00007FF6FCFC5E7C]\n",
      "\t(No symbol) [0x00007FF6FD00EC27]\n",
      "\t(No symbol) [0x00007FF6FCFEBC1F]\n",
      "\t(No symbol) [0x00007FF6FD00BA4C]\n",
      "\t(No symbol) [0x00007FF6FCFEB983]\n",
      "\t(No symbol) [0x00007FF6FCFB7628]\n",
      "\t(No symbol) [0x00007FF6FCFB8791]\n",
      "\tGetHandleVerifier [0x00007FF6FD45A00D+3161901]\n",
      "\tGetHandleVerifier [0x00007FF6FD4AE060+3506048]\n",
      "\tGetHandleVerifier [0x00007FF6FD4A400D+3465005]\n",
      "\tGetHandleVerifier [0x00007FF6FD220EEB+830987]\n",
      "\t(No symbol) [0x00007FF6FD0D467F]\n",
      "\t(No symbol) [0x00007FF6FD0D09D4]\n",
      "\t(No symbol) [0x00007FF6FD0D0B6D]\n",
      "\t(No symbol) [0x00007FF6FD0C0149]\n",
      "\tBaseThreadInitThunk [0x00007FFB7AAA7374+20]\n",
      "\tRtlUserThreadStart [0x00007FFB7C37CC91+33]\n",
      "\n"
     ]
    },
    {
     "name": "stderr",
     "output_type": "stream",
     "text": [
      "Processing URLs:   2%|      | 499/29446 [55:11<52:18:20,  6.50s/it]"
     ]
    },
    {
     "name": "stdout",
     "output_type": "stream",
     "text": [
      "Error fetching URL: https://www.agoda.com/partners/partnersearch.aspx?hid=255951 - Message: no such element: Unable to locate element: {\"method\":\"css selector\",\"selector\":\"a[data-element-name='property-card-content']\"}\n",
      "  (Session info: chrome=130.0.6723.117); For documentation on this error, please visit: https://www.selenium.dev/documentation/webdriver/troubleshooting/errors#no-such-element-exception\n",
      "Stacktrace:\n",
      "\tGetHandleVerifier [0x00007FF6FD4338A5+3004357]\n",
      "\t(No symbol) [0x00007FF6FD0C9970]\n",
      "\t(No symbol) [0x00007FF6FCF7582A]\n",
      "\t(No symbol) [0x00007FF6FCFC5B8E]\n",
      "\t(No symbol) [0x00007FF6FCFC5E7C]\n",
      "\t(No symbol) [0x00007FF6FD00EC27]\n",
      "\t(No symbol) [0x00007FF6FCFEBC1F]\n",
      "\t(No symbol) [0x00007FF6FD00BA4C]\n",
      "\t(No symbol) [0x00007FF6FCFEB983]\n",
      "\t(No symbol) [0x00007FF6FCFB7628]\n",
      "\t(No symbol) [0x00007FF6FCFB8791]\n",
      "\tGetHandleVerifier [0x00007FF6FD45A00D+3161901]\n",
      "\tGetHandleVerifier [0x00007FF6FD4AE060+3506048]\n",
      "\tGetHandleVerifier [0x00007FF6FD4A400D+3465005]\n",
      "\tGetHandleVerifier [0x00007FF6FD220EEB+830987]\n",
      "\t(No symbol) [0x00007FF6FD0D467F]\n",
      "\t(No symbol) [0x00007FF6FD0D09D4]\n",
      "\t(No symbol) [0x00007FF6FD0D0B6D]\n",
      "\t(No symbol) [0x00007FF6FD0C0149]\n",
      "\tBaseThreadInitThunk [0x00007FFB7AAA7374+20]\n",
      "\tRtlUserThreadStart [0x00007FFB7C37CC91+33]\n",
      "\n"
     ]
    },
    {
     "name": "stderr",
     "output_type": "stream",
     "text": [
      "Processing URLs:   2%|      | 500/29446 [55:17<52:25:34,  6.52s/it]"
     ]
    },
    {
     "name": "stdout",
     "output_type": "stream",
     "text": [
      "Error fetching URL: https://www.agoda.com/partners/partnersearch.aspx?hid=255972 - Message: no such element: Unable to locate element: {\"method\":\"css selector\",\"selector\":\"a[data-element-name='property-card-content']\"}\n",
      "  (Session info: chrome=130.0.6723.117); For documentation on this error, please visit: https://www.selenium.dev/documentation/webdriver/troubleshooting/errors#no-such-element-exception\n",
      "Stacktrace:\n",
      "\tGetHandleVerifier [0x00007FF6FD4338A5+3004357]\n",
      "\t(No symbol) [0x00007FF6FD0C9970]\n",
      "\t(No symbol) [0x00007FF6FCF7582A]\n",
      "\t(No symbol) [0x00007FF6FCFC5B8E]\n",
      "\t(No symbol) [0x00007FF6FCFC5E7C]\n",
      "\t(No symbol) [0x00007FF6FD00EC27]\n",
      "\t(No symbol) [0x00007FF6FCFEBC1F]\n",
      "\t(No symbol) [0x00007FF6FD00BA4C]\n",
      "\t(No symbol) [0x00007FF6FCFEB983]\n",
      "\t(No symbol) [0x00007FF6FCFB7628]\n",
      "\t(No symbol) [0x00007FF6FCFB8791]\n",
      "\tGetHandleVerifier [0x00007FF6FD45A00D+3161901]\n",
      "\tGetHandleVerifier [0x00007FF6FD4AE060+3506048]\n",
      "\tGetHandleVerifier [0x00007FF6FD4A400D+3465005]\n",
      "\tGetHandleVerifier [0x00007FF6FD220EEB+830987]\n",
      "\t(No symbol) [0x00007FF6FD0D467F]\n",
      "\t(No symbol) [0x00007FF6FD0D09D4]\n",
      "\t(No symbol) [0x00007FF6FD0D0B6D]\n",
      "\t(No symbol) [0x00007FF6FD0C0149]\n",
      "\tBaseThreadInitThunk [0x00007FFB7AAA7374+20]\n",
      "\tRtlUserThreadStart [0x00007FFB7C37CC91+33]\n",
      "\n"
     ]
    },
    {
     "name": "stderr",
     "output_type": "stream",
     "text": [
      "Processing URLs:   2%|      | 501/29446 [55:24<51:59:56,  6.47s/it]"
     ]
    },
    {
     "name": "stdout",
     "output_type": "stream",
     "text": [
      "Error fetching URL: https://www.agoda.com/partners/partnersearch.aspx?hid=256026 - Message: no such element: Unable to locate element: {\"method\":\"css selector\",\"selector\":\"a[data-element-name='property-card-content']\"}\n",
      "  (Session info: chrome=130.0.6723.117); For documentation on this error, please visit: https://www.selenium.dev/documentation/webdriver/troubleshooting/errors#no-such-element-exception\n",
      "Stacktrace:\n",
      "\tGetHandleVerifier [0x00007FF6FD4338A5+3004357]\n",
      "\t(No symbol) [0x00007FF6FD0C9970]\n",
      "\t(No symbol) [0x00007FF6FCF7582A]\n",
      "\t(No symbol) [0x00007FF6FCFC5B8E]\n",
      "\t(No symbol) [0x00007FF6FCFC5E7C]\n",
      "\t(No symbol) [0x00007FF6FD00EC27]\n",
      "\t(No symbol) [0x00007FF6FCFEBC1F]\n",
      "\t(No symbol) [0x00007FF6FD00BA4C]\n",
      "\t(No symbol) [0x00007FF6FCFEB983]\n",
      "\t(No symbol) [0x00007FF6FCFB7628]\n",
      "\t(No symbol) [0x00007FF6FCFB8791]\n",
      "\tGetHandleVerifier [0x00007FF6FD45A00D+3161901]\n",
      "\tGetHandleVerifier [0x00007FF6FD4AE060+3506048]\n",
      "\tGetHandleVerifier [0x00007FF6FD4A400D+3465005]\n",
      "\tGetHandleVerifier [0x00007FF6FD220EEB+830987]\n",
      "\t(No symbol) [0x00007FF6FD0D467F]\n",
      "\t(No symbol) [0x00007FF6FD0D09D4]\n",
      "\t(No symbol) [0x00007FF6FD0D0B6D]\n",
      "\t(No symbol) [0x00007FF6FD0C0149]\n",
      "\tBaseThreadInitThunk [0x00007FFB7AAA7374+20]\n",
      "\tRtlUserThreadStart [0x00007FFB7C37CC91+33]\n",
      "\n"
     ]
    },
    {
     "name": "stderr",
     "output_type": "stream",
     "text": [
      "Processing URLs:   2%|      | 503/29446 [55:37<51:57:51,  6.46s/it]"
     ]
    },
    {
     "name": "stdout",
     "output_type": "stream",
     "text": [
      "Error fetching URL: https://www.agoda.com/partners/partnersearch.aspx?hid=256063 - Message: no such element: Unable to locate element: {\"method\":\"css selector\",\"selector\":\"a[data-element-name='property-card-content']\"}\n",
      "  (Session info: chrome=130.0.6723.117); For documentation on this error, please visit: https://www.selenium.dev/documentation/webdriver/troubleshooting/errors#no-such-element-exception\n",
      "Stacktrace:\n",
      "\tGetHandleVerifier [0x00007FF6FD4338A5+3004357]\n",
      "\t(No symbol) [0x00007FF6FD0C9970]\n",
      "\t(No symbol) [0x00007FF6FCF7582A]\n",
      "\t(No symbol) [0x00007FF6FCFC5B8E]\n",
      "\t(No symbol) [0x00007FF6FCFC5E7C]\n",
      "\t(No symbol) [0x00007FF6FD00EC27]\n",
      "\t(No symbol) [0x00007FF6FCFEBC1F]\n",
      "\t(No symbol) [0x00007FF6FD00BA4C]\n",
      "\t(No symbol) [0x00007FF6FCFEB983]\n",
      "\t(No symbol) [0x00007FF6FCFB7628]\n",
      "\t(No symbol) [0x00007FF6FCFB8791]\n",
      "\tGetHandleVerifier [0x00007FF6FD45A00D+3161901]\n",
      "\tGetHandleVerifier [0x00007FF6FD4AE060+3506048]\n",
      "\tGetHandleVerifier [0x00007FF6FD4A400D+3465005]\n",
      "\tGetHandleVerifier [0x00007FF6FD220EEB+830987]\n",
      "\t(No symbol) [0x00007FF6FD0D467F]\n",
      "\t(No symbol) [0x00007FF6FD0D09D4]\n",
      "\t(No symbol) [0x00007FF6FD0D0B6D]\n",
      "\t(No symbol) [0x00007FF6FD0C0149]\n",
      "\tBaseThreadInitThunk [0x00007FFB7AAA7374+20]\n",
      "\tRtlUserThreadStart [0x00007FFB7C37CC91+33]\n",
      "\n"
     ]
    },
    {
     "name": "stderr",
     "output_type": "stream",
     "text": [
      "Processing URLs:   2%|      | 504/29446 [55:43<51:37:44,  6.42s/it]"
     ]
    },
    {
     "name": "stdout",
     "output_type": "stream",
     "text": [
      "Error fetching URL: https://www.agoda.com/partners/partnersearch.aspx?hid=256077 - Message: no such element: Unable to locate element: {\"method\":\"css selector\",\"selector\":\"a[data-element-name='property-card-content']\"}\n",
      "  (Session info: chrome=130.0.6723.117); For documentation on this error, please visit: https://www.selenium.dev/documentation/webdriver/troubleshooting/errors#no-such-element-exception\n",
      "Stacktrace:\n",
      "\tGetHandleVerifier [0x00007FF6FD4338A5+3004357]\n",
      "\t(No symbol) [0x00007FF6FD0C9970]\n",
      "\t(No symbol) [0x00007FF6FCF7582A]\n",
      "\t(No symbol) [0x00007FF6FCFC5B8E]\n",
      "\t(No symbol) [0x00007FF6FCFC5E7C]\n",
      "\t(No symbol) [0x00007FF6FD00EC27]\n",
      "\t(No symbol) [0x00007FF6FCFEBC1F]\n",
      "\t(No symbol) [0x00007FF6FD00BA4C]\n",
      "\t(No symbol) [0x00007FF6FCFEB983]\n",
      "\t(No symbol) [0x00007FF6FCFB7628]\n",
      "\t(No symbol) [0x00007FF6FCFB8791]\n",
      "\tGetHandleVerifier [0x00007FF6FD45A00D+3161901]\n",
      "\tGetHandleVerifier [0x00007FF6FD4AE060+3506048]\n",
      "\tGetHandleVerifier [0x00007FF6FD4A400D+3465005]\n",
      "\tGetHandleVerifier [0x00007FF6FD220EEB+830987]\n",
      "\t(No symbol) [0x00007FF6FD0D467F]\n",
      "\t(No symbol) [0x00007FF6FD0D09D4]\n",
      "\t(No symbol) [0x00007FF6FD0D0B6D]\n",
      "\t(No symbol) [0x00007FF6FD0C0149]\n",
      "\tBaseThreadInitThunk [0x00007FFB7AAA7374+20]\n",
      "\tRtlUserThreadStart [0x00007FFB7C37CC91+33]\n",
      "\n"
     ]
    },
    {
     "name": "stderr",
     "output_type": "stream",
     "text": [
      "Processing URLs:   2%|      | 505/29446 [55:49<51:36:52,  6.42s/it]"
     ]
    },
    {
     "name": "stdout",
     "output_type": "stream",
     "text": [
      "Error fetching URL: https://www.agoda.com/partners/partnersearch.aspx?hid=256079 - Message: no such element: Unable to locate element: {\"method\":\"css selector\",\"selector\":\"a[data-element-name='property-card-content']\"}\n",
      "  (Session info: chrome=130.0.6723.117); For documentation on this error, please visit: https://www.selenium.dev/documentation/webdriver/troubleshooting/errors#no-such-element-exception\n",
      "Stacktrace:\n",
      "\tGetHandleVerifier [0x00007FF6FD4338A5+3004357]\n",
      "\t(No symbol) [0x00007FF6FD0C9970]\n",
      "\t(No symbol) [0x00007FF6FCF7582A]\n",
      "\t(No symbol) [0x00007FF6FCFC5B8E]\n",
      "\t(No symbol) [0x00007FF6FCFC5E7C]\n",
      "\t(No symbol) [0x00007FF6FD00EC27]\n",
      "\t(No symbol) [0x00007FF6FCFEBC1F]\n",
      "\t(No symbol) [0x00007FF6FD00BA4C]\n",
      "\t(No symbol) [0x00007FF6FCFEB983]\n",
      "\t(No symbol) [0x00007FF6FCFB7628]\n",
      "\t(No symbol) [0x00007FF6FCFB8791]\n",
      "\tGetHandleVerifier [0x00007FF6FD45A00D+3161901]\n",
      "\tGetHandleVerifier [0x00007FF6FD4AE060+3506048]\n",
      "\tGetHandleVerifier [0x00007FF6FD4A400D+3465005]\n",
      "\tGetHandleVerifier [0x00007FF6FD220EEB+830987]\n",
      "\t(No symbol) [0x00007FF6FD0D467F]\n",
      "\t(No symbol) [0x00007FF6FD0D09D4]\n",
      "\t(No symbol) [0x00007FF6FD0D0B6D]\n",
      "\t(No symbol) [0x00007FF6FD0C0149]\n",
      "\tBaseThreadInitThunk [0x00007FFB7AAA7374+20]\n",
      "\tRtlUserThreadStart [0x00007FFB7C37CC91+33]\n",
      "\n"
     ]
    },
    {
     "name": "stderr",
     "output_type": "stream",
     "text": [
      "Processing URLs:   2%|      | 506/29446 [55:56<51:18:28,  6.38s/it]"
     ]
    },
    {
     "name": "stdout",
     "output_type": "stream",
     "text": [
      "Error fetching URL: https://www.agoda.com/partners/partnersearch.aspx?hid=256096 - Message: no such element: Unable to locate element: {\"method\":\"css selector\",\"selector\":\"a[data-element-name='property-card-content']\"}\n",
      "  (Session info: chrome=130.0.6723.117); For documentation on this error, please visit: https://www.selenium.dev/documentation/webdriver/troubleshooting/errors#no-such-element-exception\n",
      "Stacktrace:\n",
      "\tGetHandleVerifier [0x00007FF6FD4338A5+3004357]\n",
      "\t(No symbol) [0x00007FF6FD0C9970]\n",
      "\t(No symbol) [0x00007FF6FCF7582A]\n",
      "\t(No symbol) [0x00007FF6FCFC5B8E]\n",
      "\t(No symbol) [0x00007FF6FCFC5E7C]\n",
      "\t(No symbol) [0x00007FF6FD00EC27]\n",
      "\t(No symbol) [0x00007FF6FCFEBC1F]\n",
      "\t(No symbol) [0x00007FF6FD00BA4C]\n",
      "\t(No symbol) [0x00007FF6FCFEB983]\n",
      "\t(No symbol) [0x00007FF6FCFB7628]\n",
      "\t(No symbol) [0x00007FF6FCFB8791]\n",
      "\tGetHandleVerifier [0x00007FF6FD45A00D+3161901]\n",
      "\tGetHandleVerifier [0x00007FF6FD4AE060+3506048]\n",
      "\tGetHandleVerifier [0x00007FF6FD4A400D+3465005]\n",
      "\tGetHandleVerifier [0x00007FF6FD220EEB+830987]\n",
      "\t(No symbol) [0x00007FF6FD0D467F]\n",
      "\t(No symbol) [0x00007FF6FD0D09D4]\n",
      "\t(No symbol) [0x00007FF6FD0D0B6D]\n",
      "\t(No symbol) [0x00007FF6FD0C0149]\n",
      "\tBaseThreadInitThunk [0x00007FFB7AAA7374+20]\n",
      "\tRtlUserThreadStart [0x00007FFB7C37CC91+33]\n",
      "\n"
     ]
    },
    {
     "name": "stderr",
     "output_type": "stream",
     "text": [
      "Processing URLs:   2%|      | 507/29446 [56:02<51:51:49,  6.45s/it]"
     ]
    },
    {
     "name": "stdout",
     "output_type": "stream",
     "text": [
      "Error fetching URL: https://www.agoda.com/partners/partnersearch.aspx?hid=256120 - Message: no such element: Unable to locate element: {\"method\":\"css selector\",\"selector\":\"a[data-element-name='property-card-content']\"}\n",
      "  (Session info: chrome=130.0.6723.117); For documentation on this error, please visit: https://www.selenium.dev/documentation/webdriver/troubleshooting/errors#no-such-element-exception\n",
      "Stacktrace:\n",
      "\tGetHandleVerifier [0x00007FF6FD4338A5+3004357]\n",
      "\t(No symbol) [0x00007FF6FD0C9970]\n",
      "\t(No symbol) [0x00007FF6FCF7582A]\n",
      "\t(No symbol) [0x00007FF6FCFC5B8E]\n",
      "\t(No symbol) [0x00007FF6FCFC5E7C]\n",
      "\t(No symbol) [0x00007FF6FD00EC27]\n",
      "\t(No symbol) [0x00007FF6FCFEBC1F]\n",
      "\t(No symbol) [0x00007FF6FD00BA4C]\n",
      "\t(No symbol) [0x00007FF6FCFEB983]\n",
      "\t(No symbol) [0x00007FF6FCFB7628]\n",
      "\t(No symbol) [0x00007FF6FCFB8791]\n",
      "\tGetHandleVerifier [0x00007FF6FD45A00D+3161901]\n",
      "\tGetHandleVerifier [0x00007FF6FD4AE060+3506048]\n",
      "\tGetHandleVerifier [0x00007FF6FD4A400D+3465005]\n",
      "\tGetHandleVerifier [0x00007FF6FD220EEB+830987]\n",
      "\t(No symbol) [0x00007FF6FD0D467F]\n",
      "\t(No symbol) [0x00007FF6FD0D09D4]\n",
      "\t(No symbol) [0x00007FF6FD0D0B6D]\n",
      "\t(No symbol) [0x00007FF6FD0C0149]\n",
      "\tBaseThreadInitThunk [0x00007FFB7AAA7374+20]\n",
      "\tRtlUserThreadStart [0x00007FFB7C37CC91+33]\n",
      "\n"
     ]
    },
    {
     "name": "stderr",
     "output_type": "stream",
     "text": [
      "Processing URLs:   2%|      | 508/29446 [56:09<51:31:56,  6.41s/it]"
     ]
    },
    {
     "name": "stdout",
     "output_type": "stream",
     "text": [
      "Error fetching URL: https://www.agoda.com/partners/partnersearch.aspx?hid=256146 - Message: no such element: Unable to locate element: {\"method\":\"css selector\",\"selector\":\"a[data-element-name='property-card-content']\"}\n",
      "  (Session info: chrome=130.0.6723.117); For documentation on this error, please visit: https://www.selenium.dev/documentation/webdriver/troubleshooting/errors#no-such-element-exception\n",
      "Stacktrace:\n",
      "\tGetHandleVerifier [0x00007FF6FD4338A5+3004357]\n",
      "\t(No symbol) [0x00007FF6FD0C9970]\n",
      "\t(No symbol) [0x00007FF6FCF7582A]\n",
      "\t(No symbol) [0x00007FF6FCFC5B8E]\n",
      "\t(No symbol) [0x00007FF6FCFC5E7C]\n",
      "\t(No symbol) [0x00007FF6FD00EC27]\n",
      "\t(No symbol) [0x00007FF6FCFEBC1F]\n",
      "\t(No symbol) [0x00007FF6FD00BA4C]\n",
      "\t(No symbol) [0x00007FF6FCFEB983]\n",
      "\t(No symbol) [0x00007FF6FCFB7628]\n",
      "\t(No symbol) [0x00007FF6FCFB8791]\n",
      "\tGetHandleVerifier [0x00007FF6FD45A00D+3161901]\n",
      "\tGetHandleVerifier [0x00007FF6FD4AE060+3506048]\n",
      "\tGetHandleVerifier [0x00007FF6FD4A400D+3465005]\n",
      "\tGetHandleVerifier [0x00007FF6FD220EEB+830987]\n",
      "\t(No symbol) [0x00007FF6FD0D467F]\n",
      "\t(No symbol) [0x00007FF6FD0D09D4]\n",
      "\t(No symbol) [0x00007FF6FD0D0B6D]\n",
      "\t(No symbol) [0x00007FF6FD0C0149]\n",
      "\tBaseThreadInitThunk [0x00007FFB7AAA7374+20]\n",
      "\tRtlUserThreadStart [0x00007FFB7C37CC91+33]\n",
      "\n"
     ]
    },
    {
     "name": "stderr",
     "output_type": "stream",
     "text": [
      "Processing URLs:   2%|      | 509/29446 [56:15<51:15:59,  6.38s/it]"
     ]
    },
    {
     "name": "stdout",
     "output_type": "stream",
     "text": [
      "Error fetching URL: https://www.agoda.com/partners/partnersearch.aspx?hid=256345 - Message: no such element: Unable to locate element: {\"method\":\"css selector\",\"selector\":\"a[data-element-name='property-card-content']\"}\n",
      "  (Session info: chrome=130.0.6723.117); For documentation on this error, please visit: https://www.selenium.dev/documentation/webdriver/troubleshooting/errors#no-such-element-exception\n",
      "Stacktrace:\n",
      "\tGetHandleVerifier [0x00007FF6FD4338A5+3004357]\n",
      "\t(No symbol) [0x00007FF6FD0C9970]\n",
      "\t(No symbol) [0x00007FF6FCF7582A]\n",
      "\t(No symbol) [0x00007FF6FCFC5B8E]\n",
      "\t(No symbol) [0x00007FF6FCFC5E7C]\n",
      "\t(No symbol) [0x00007FF6FD00EC27]\n",
      "\t(No symbol) [0x00007FF6FCFEBC1F]\n",
      "\t(No symbol) [0x00007FF6FD00BA4C]\n",
      "\t(No symbol) [0x00007FF6FCFEB983]\n",
      "\t(No symbol) [0x00007FF6FCFB7628]\n",
      "\t(No symbol) [0x00007FF6FCFB8791]\n",
      "\tGetHandleVerifier [0x00007FF6FD45A00D+3161901]\n",
      "\tGetHandleVerifier [0x00007FF6FD4AE060+3506048]\n",
      "\tGetHandleVerifier [0x00007FF6FD4A400D+3465005]\n",
      "\tGetHandleVerifier [0x00007FF6FD220EEB+830987]\n",
      "\t(No symbol) [0x00007FF6FD0D467F]\n",
      "\t(No symbol) [0x00007FF6FD0D09D4]\n",
      "\t(No symbol) [0x00007FF6FD0D0B6D]\n",
      "\t(No symbol) [0x00007FF6FD0C0149]\n",
      "\tBaseThreadInitThunk [0x00007FFB7AAA7374+20]\n",
      "\tRtlUserThreadStart [0x00007FFB7C37CC91+33]\n",
      "\n"
     ]
    },
    {
     "name": "stderr",
     "output_type": "stream",
     "text": [
      "Processing URLs:   2%|      | 510/29446 [56:21<51:42:17,  6.43s/it]"
     ]
    },
    {
     "name": "stdout",
     "output_type": "stream",
     "text": [
      "Error fetching URL: https://www.agoda.com/partners/partnersearch.aspx?hid=256356 - Message: no such element: Unable to locate element: {\"method\":\"css selector\",\"selector\":\"a[data-element-name='property-card-content']\"}\n",
      "  (Session info: chrome=130.0.6723.117); For documentation on this error, please visit: https://www.selenium.dev/documentation/webdriver/troubleshooting/errors#no-such-element-exception\n",
      "Stacktrace:\n",
      "\tGetHandleVerifier [0x00007FF6FD4338A5+3004357]\n",
      "\t(No symbol) [0x00007FF6FD0C9970]\n",
      "\t(No symbol) [0x00007FF6FCF7582A]\n",
      "\t(No symbol) [0x00007FF6FCFC5B8E]\n",
      "\t(No symbol) [0x00007FF6FCFC5E7C]\n",
      "\t(No symbol) [0x00007FF6FD00EC27]\n",
      "\t(No symbol) [0x00007FF6FCFEBC1F]\n",
      "\t(No symbol) [0x00007FF6FD00BA4C]\n",
      "\t(No symbol) [0x00007FF6FCFEB983]\n",
      "\t(No symbol) [0x00007FF6FCFB7628]\n",
      "\t(No symbol) [0x00007FF6FCFB8791]\n",
      "\tGetHandleVerifier [0x00007FF6FD45A00D+3161901]\n",
      "\tGetHandleVerifier [0x00007FF6FD4AE060+3506048]\n",
      "\tGetHandleVerifier [0x00007FF6FD4A400D+3465005]\n",
      "\tGetHandleVerifier [0x00007FF6FD220EEB+830987]\n",
      "\t(No symbol) [0x00007FF6FD0D467F]\n",
      "\t(No symbol) [0x00007FF6FD0D09D4]\n",
      "\t(No symbol) [0x00007FF6FD0D0B6D]\n",
      "\t(No symbol) [0x00007FF6FD0C0149]\n",
      "\tBaseThreadInitThunk [0x00007FFB7AAA7374+20]\n",
      "\tRtlUserThreadStart [0x00007FFB7C37CC91+33]\n",
      "\n"
     ]
    },
    {
     "name": "stderr",
     "output_type": "stream",
     "text": [
      "Processing URLs:   2%|      | 511/29446 [56:28<51:21:56,  6.39s/it]"
     ]
    },
    {
     "name": "stdout",
     "output_type": "stream",
     "text": [
      "Error fetching URL: https://www.agoda.com/partners/partnersearch.aspx?hid=256455 - Message: no such element: Unable to locate element: {\"method\":\"css selector\",\"selector\":\"a[data-element-name='property-card-content']\"}\n",
      "  (Session info: chrome=130.0.6723.117); For documentation on this error, please visit: https://www.selenium.dev/documentation/webdriver/troubleshooting/errors#no-such-element-exception\n",
      "Stacktrace:\n",
      "\tGetHandleVerifier [0x00007FF6FD4338A5+3004357]\n",
      "\t(No symbol) [0x00007FF6FD0C9970]\n",
      "\t(No symbol) [0x00007FF6FCF7582A]\n",
      "\t(No symbol) [0x00007FF6FCFC5B8E]\n",
      "\t(No symbol) [0x00007FF6FCFC5E7C]\n",
      "\t(No symbol) [0x00007FF6FD00EC27]\n",
      "\t(No symbol) [0x00007FF6FCFEBC1F]\n",
      "\t(No symbol) [0x00007FF6FD00BA4C]\n",
      "\t(No symbol) [0x00007FF6FCFEB983]\n",
      "\t(No symbol) [0x00007FF6FCFB7628]\n",
      "\t(No symbol) [0x00007FF6FCFB8791]\n",
      "\tGetHandleVerifier [0x00007FF6FD45A00D+3161901]\n",
      "\tGetHandleVerifier [0x00007FF6FD4AE060+3506048]\n",
      "\tGetHandleVerifier [0x00007FF6FD4A400D+3465005]\n",
      "\tGetHandleVerifier [0x00007FF6FD220EEB+830987]\n",
      "\t(No symbol) [0x00007FF6FD0D467F]\n",
      "\t(No symbol) [0x00007FF6FD0D09D4]\n",
      "\t(No symbol) [0x00007FF6FD0D0B6D]\n",
      "\t(No symbol) [0x00007FF6FD0C0149]\n",
      "\tBaseThreadInitThunk [0x00007FFB7AAA7374+20]\n",
      "\tRtlUserThreadStart [0x00007FFB7C37CC91+33]\n",
      "\n"
     ]
    },
    {
     "name": "stderr",
     "output_type": "stream",
     "text": [
      "Processing URLs:   2%|      | 513/29446 [56:42<54:48:04,  6.82s/it]"
     ]
    },
    {
     "name": "stdout",
     "output_type": "stream",
     "text": [
      "Error fetching URL: https://www.agoda.com/partners/partnersearch.aspx?hid=256568 - Message: no such element: Unable to locate element: {\"method\":\"css selector\",\"selector\":\"a[data-element-name='property-card-content']\"}\n",
      "  (Session info: chrome=130.0.6723.117); For documentation on this error, please visit: https://www.selenium.dev/documentation/webdriver/troubleshooting/errors#no-such-element-exception\n",
      "Stacktrace:\n",
      "\tGetHandleVerifier [0x00007FF6FD4338A5+3004357]\n",
      "\t(No symbol) [0x00007FF6FD0C9970]\n",
      "\t(No symbol) [0x00007FF6FCF7582A]\n",
      "\t(No symbol) [0x00007FF6FCFC5B8E]\n",
      "\t(No symbol) [0x00007FF6FCFC5E7C]\n",
      "\t(No symbol) [0x00007FF6FD00EC27]\n",
      "\t(No symbol) [0x00007FF6FCFEBC1F]\n",
      "\t(No symbol) [0x00007FF6FD00BA4C]\n",
      "\t(No symbol) [0x00007FF6FCFEB983]\n",
      "\t(No symbol) [0x00007FF6FCFB7628]\n",
      "\t(No symbol) [0x00007FF6FCFB8791]\n",
      "\tGetHandleVerifier [0x00007FF6FD45A00D+3161901]\n",
      "\tGetHandleVerifier [0x00007FF6FD4AE060+3506048]\n",
      "\tGetHandleVerifier [0x00007FF6FD4A400D+3465005]\n",
      "\tGetHandleVerifier [0x00007FF6FD220EEB+830987]\n",
      "\t(No symbol) [0x00007FF6FD0D467F]\n",
      "\t(No symbol) [0x00007FF6FD0D09D4]\n",
      "\t(No symbol) [0x00007FF6FD0D0B6D]\n",
      "\t(No symbol) [0x00007FF6FD0C0149]\n",
      "\tBaseThreadInitThunk [0x00007FFB7AAA7374+20]\n",
      "\tRtlUserThreadStart [0x00007FFB7C37CC91+33]\n",
      "\n"
     ]
    },
    {
     "name": "stderr",
     "output_type": "stream",
     "text": [
      "Processing URLs:   2%|      | 516/29446 [57:01<52:34:55,  6.54s/it]"
     ]
    },
    {
     "name": "stdout",
     "output_type": "stream",
     "text": [
      "Error fetching URL: https://www.agoda.com/partners/partnersearch.aspx?hid=262581 - Message: no such element: Unable to locate element: {\"method\":\"css selector\",\"selector\":\"a[data-element-name='property-card-content']\"}\n",
      "  (Session info: chrome=130.0.6723.117); For documentation on this error, please visit: https://www.selenium.dev/documentation/webdriver/troubleshooting/errors#no-such-element-exception\n",
      "Stacktrace:\n",
      "\tGetHandleVerifier [0x00007FF6FD4338A5+3004357]\n",
      "\t(No symbol) [0x00007FF6FD0C9970]\n",
      "\t(No symbol) [0x00007FF6FCF7582A]\n",
      "\t(No symbol) [0x00007FF6FCFC5B8E]\n",
      "\t(No symbol) [0x00007FF6FCFC5E7C]\n",
      "\t(No symbol) [0x00007FF6FD00EC27]\n",
      "\t(No symbol) [0x00007FF6FCFEBC1F]\n",
      "\t(No symbol) [0x00007FF6FD00BA4C]\n",
      "\t(No symbol) [0x00007FF6FCFEB983]\n",
      "\t(No symbol) [0x00007FF6FCFB7628]\n",
      "\t(No symbol) [0x00007FF6FCFB8791]\n",
      "\tGetHandleVerifier [0x00007FF6FD45A00D+3161901]\n",
      "\tGetHandleVerifier [0x00007FF6FD4AE060+3506048]\n",
      "\tGetHandleVerifier [0x00007FF6FD4A400D+3465005]\n",
      "\tGetHandleVerifier [0x00007FF6FD220EEB+830987]\n",
      "\t(No symbol) [0x00007FF6FD0D467F]\n",
      "\t(No symbol) [0x00007FF6FD0D09D4]\n",
      "\t(No symbol) [0x00007FF6FD0D0B6D]\n",
      "\t(No symbol) [0x00007FF6FD0C0149]\n",
      "\tBaseThreadInitThunk [0x00007FFB7AAA7374+20]\n",
      "\tRtlUserThreadStart [0x00007FFB7C37CC91+33]\n",
      "\n"
     ]
    },
    {
     "name": "stderr",
     "output_type": "stream",
     "text": [
      "Processing URLs:   2%|      | 518/29446 [57:14<52:40:09,  6.55s/it]"
     ]
    },
    {
     "name": "stdout",
     "output_type": "stream",
     "text": [
      "Error fetching URL: https://www.agoda.com/partners/partnersearch.aspx?hid=262759 - Message: no such element: Unable to locate element: {\"method\":\"css selector\",\"selector\":\"a[data-element-name='property-card-content']\"}\n",
      "  (Session info: chrome=130.0.6723.117); For documentation on this error, please visit: https://www.selenium.dev/documentation/webdriver/troubleshooting/errors#no-such-element-exception\n",
      "Stacktrace:\n",
      "\tGetHandleVerifier [0x00007FF6FD4338A5+3004357]\n",
      "\t(No symbol) [0x00007FF6FD0C9970]\n",
      "\t(No symbol) [0x00007FF6FCF7582A]\n",
      "\t(No symbol) [0x00007FF6FCFC5B8E]\n",
      "\t(No symbol) [0x00007FF6FCFC5E7C]\n",
      "\t(No symbol) [0x00007FF6FD00EC27]\n",
      "\t(No symbol) [0x00007FF6FCFEBC1F]\n",
      "\t(No symbol) [0x00007FF6FD00BA4C]\n",
      "\t(No symbol) [0x00007FF6FCFEB983]\n",
      "\t(No symbol) [0x00007FF6FCFB7628]\n",
      "\t(No symbol) [0x00007FF6FCFB8791]\n",
      "\tGetHandleVerifier [0x00007FF6FD45A00D+3161901]\n",
      "\tGetHandleVerifier [0x00007FF6FD4AE060+3506048]\n",
      "\tGetHandleVerifier [0x00007FF6FD4A400D+3465005]\n",
      "\tGetHandleVerifier [0x00007FF6FD220EEB+830987]\n",
      "\t(No symbol) [0x00007FF6FD0D467F]\n",
      "\t(No symbol) [0x00007FF6FD0D09D4]\n",
      "\t(No symbol) [0x00007FF6FD0D0B6D]\n",
      "\t(No symbol) [0x00007FF6FD0C0149]\n",
      "\tBaseThreadInitThunk [0x00007FFB7AAA7374+20]\n",
      "\tRtlUserThreadStart [0x00007FFB7C37CC91+33]\n",
      "\n"
     ]
    },
    {
     "name": "stderr",
     "output_type": "stream",
     "text": [
      "Processing URLs:   2%|      | 520/29446 [57:28<53:56:00,  6.71s/it]"
     ]
    },
    {
     "name": "stdout",
     "output_type": "stream",
     "text": [
      "Error fetching URL: https://www.agoda.com/partners/partnersearch.aspx?hid=262815 - Message: no such element: Unable to locate element: {\"method\":\"css selector\",\"selector\":\"a[data-element-name='property-card-content']\"}\n",
      "  (Session info: chrome=130.0.6723.117); For documentation on this error, please visit: https://www.selenium.dev/documentation/webdriver/troubleshooting/errors#no-such-element-exception\n",
      "Stacktrace:\n",
      "\tGetHandleVerifier [0x00007FF6FD4338A5+3004357]\n",
      "\t(No symbol) [0x00007FF6FD0C9970]\n",
      "\t(No symbol) [0x00007FF6FCF7582A]\n",
      "\t(No symbol) [0x00007FF6FCFC5B8E]\n",
      "\t(No symbol) [0x00007FF6FCFC5E7C]\n",
      "\t(No symbol) [0x00007FF6FD00EC27]\n",
      "\t(No symbol) [0x00007FF6FCFEBC1F]\n",
      "\t(No symbol) [0x00007FF6FD00BA4C]\n",
      "\t(No symbol) [0x00007FF6FCFEB983]\n",
      "\t(No symbol) [0x00007FF6FCFB7628]\n",
      "\t(No symbol) [0x00007FF6FCFB8791]\n",
      "\tGetHandleVerifier [0x00007FF6FD45A00D+3161901]\n",
      "\tGetHandleVerifier [0x00007FF6FD4AE060+3506048]\n",
      "\tGetHandleVerifier [0x00007FF6FD4A400D+3465005]\n",
      "\tGetHandleVerifier [0x00007FF6FD220EEB+830987]\n",
      "\t(No symbol) [0x00007FF6FD0D467F]\n",
      "\t(No symbol) [0x00007FF6FD0D09D4]\n",
      "\t(No symbol) [0x00007FF6FD0D0B6D]\n",
      "\t(No symbol) [0x00007FF6FD0C0149]\n",
      "\tBaseThreadInitThunk [0x00007FFB7AAA7374+20]\n",
      "\tRtlUserThreadStart [0x00007FFB7C37CC91+33]\n",
      "\n"
     ]
    },
    {
     "name": "stderr",
     "output_type": "stream",
     "text": [
      "Processing URLs:   2%|      | 522/29446 [57:41<53:23:12,  6.64s/it]"
     ]
    },
    {
     "name": "stdout",
     "output_type": "stream",
     "text": [
      "Error fetching URL: https://www.agoda.com/partners/partnersearch.aspx?hid=263028 - Message: no such element: Unable to locate element: {\"method\":\"css selector\",\"selector\":\"a[data-element-name='property-card-content']\"}\n",
      "  (Session info: chrome=130.0.6723.117); For documentation on this error, please visit: https://www.selenium.dev/documentation/webdriver/troubleshooting/errors#no-such-element-exception\n",
      "Stacktrace:\n",
      "\tGetHandleVerifier [0x00007FF6FD4338A5+3004357]\n",
      "\t(No symbol) [0x00007FF6FD0C9970]\n",
      "\t(No symbol) [0x00007FF6FCF7582A]\n",
      "\t(No symbol) [0x00007FF6FCFC5B8E]\n",
      "\t(No symbol) [0x00007FF6FCFC5E7C]\n",
      "\t(No symbol) [0x00007FF6FD00EC27]\n",
      "\t(No symbol) [0x00007FF6FCFEBC1F]\n",
      "\t(No symbol) [0x00007FF6FD00BA4C]\n",
      "\t(No symbol) [0x00007FF6FCFEB983]\n",
      "\t(No symbol) [0x00007FF6FCFB7628]\n",
      "\t(No symbol) [0x00007FF6FCFB8791]\n",
      "\tGetHandleVerifier [0x00007FF6FD45A00D+3161901]\n",
      "\tGetHandleVerifier [0x00007FF6FD4AE060+3506048]\n",
      "\tGetHandleVerifier [0x00007FF6FD4A400D+3465005]\n",
      "\tGetHandleVerifier [0x00007FF6FD220EEB+830987]\n",
      "\t(No symbol) [0x00007FF6FD0D467F]\n",
      "\t(No symbol) [0x00007FF6FD0D09D4]\n",
      "\t(No symbol) [0x00007FF6FD0D0B6D]\n",
      "\t(No symbol) [0x00007FF6FD0C0149]\n",
      "\tBaseThreadInitThunk [0x00007FFB7AAA7374+20]\n",
      "\tRtlUserThreadStart [0x00007FFB7C37CC91+33]\n",
      "\n"
     ]
    },
    {
     "name": "stderr",
     "output_type": "stream",
     "text": [
      "Processing URLs:   2%|      | 523/29446 [57:47<52:37:37,  6.55s/it]"
     ]
    },
    {
     "name": "stdout",
     "output_type": "stream",
     "text": [
      "Error fetching URL: https://www.agoda.com/partners/partnersearch.aspx?hid=263080 - Message: no such element: Unable to locate element: {\"method\":\"css selector\",\"selector\":\"a[data-element-name='property-card-content']\"}\n",
      "  (Session info: chrome=130.0.6723.117); For documentation on this error, please visit: https://www.selenium.dev/documentation/webdriver/troubleshooting/errors#no-such-element-exception\n",
      "Stacktrace:\n",
      "\tGetHandleVerifier [0x00007FF6FD4338A5+3004357]\n",
      "\t(No symbol) [0x00007FF6FD0C9970]\n",
      "\t(No symbol) [0x00007FF6FCF7582A]\n",
      "\t(No symbol) [0x00007FF6FCFC5B8E]\n",
      "\t(No symbol) [0x00007FF6FCFC5E7C]\n",
      "\t(No symbol) [0x00007FF6FD00EC27]\n",
      "\t(No symbol) [0x00007FF6FCFEBC1F]\n",
      "\t(No symbol) [0x00007FF6FD00BA4C]\n",
      "\t(No symbol) [0x00007FF6FCFEB983]\n",
      "\t(No symbol) [0x00007FF6FCFB7628]\n",
      "\t(No symbol) [0x00007FF6FCFB8791]\n",
      "\tGetHandleVerifier [0x00007FF6FD45A00D+3161901]\n",
      "\tGetHandleVerifier [0x00007FF6FD4AE060+3506048]\n",
      "\tGetHandleVerifier [0x00007FF6FD4A400D+3465005]\n",
      "\tGetHandleVerifier [0x00007FF6FD220EEB+830987]\n",
      "\t(No symbol) [0x00007FF6FD0D467F]\n",
      "\t(No symbol) [0x00007FF6FD0D09D4]\n",
      "\t(No symbol) [0x00007FF6FD0D0B6D]\n",
      "\t(No symbol) [0x00007FF6FD0C0149]\n",
      "\tBaseThreadInitThunk [0x00007FFB7AAA7374+20]\n",
      "\tRtlUserThreadStart [0x00007FFB7C37CC91+33]\n",
      "\n"
     ]
    },
    {
     "name": "stderr",
     "output_type": "stream",
     "text": [
      "Processing URLs:   2%|      | 524/29446 [57:54<52:48:27,  6.57s/it]"
     ]
    },
    {
     "name": "stdout",
     "output_type": "stream",
     "text": [
      "Error fetching URL: https://www.agoda.com/partners/partnersearch.aspx?hid=263083 - Message: no such element: Unable to locate element: {\"method\":\"css selector\",\"selector\":\"a[data-element-name='property-card-content']\"}\n",
      "  (Session info: chrome=130.0.6723.117); For documentation on this error, please visit: https://www.selenium.dev/documentation/webdriver/troubleshooting/errors#no-such-element-exception\n",
      "Stacktrace:\n",
      "\tGetHandleVerifier [0x00007FF6FD4338A5+3004357]\n",
      "\t(No symbol) [0x00007FF6FD0C9970]\n",
      "\t(No symbol) [0x00007FF6FCF7582A]\n",
      "\t(No symbol) [0x00007FF6FCFC5B8E]\n",
      "\t(No symbol) [0x00007FF6FCFC5E7C]\n",
      "\t(No symbol) [0x00007FF6FD00EC27]\n",
      "\t(No symbol) [0x00007FF6FCFEBC1F]\n",
      "\t(No symbol) [0x00007FF6FD00BA4C]\n",
      "\t(No symbol) [0x00007FF6FCFEB983]\n",
      "\t(No symbol) [0x00007FF6FCFB7628]\n",
      "\t(No symbol) [0x00007FF6FCFB8791]\n",
      "\tGetHandleVerifier [0x00007FF6FD45A00D+3161901]\n",
      "\tGetHandleVerifier [0x00007FF6FD4AE060+3506048]\n",
      "\tGetHandleVerifier [0x00007FF6FD4A400D+3465005]\n",
      "\tGetHandleVerifier [0x00007FF6FD220EEB+830987]\n",
      "\t(No symbol) [0x00007FF6FD0D467F]\n",
      "\t(No symbol) [0x00007FF6FD0D09D4]\n",
      "\t(No symbol) [0x00007FF6FD0D0B6D]\n",
      "\t(No symbol) [0x00007FF6FD0C0149]\n",
      "\tBaseThreadInitThunk [0x00007FFB7AAA7374+20]\n",
      "\tRtlUserThreadStart [0x00007FFB7C37CC91+33]\n",
      "\n"
     ]
    },
    {
     "name": "stderr",
     "output_type": "stream",
     "text": [
      "Processing URLs:   2%|      | 526/29446 [58:07<52:12:48,  6.50s/it]"
     ]
    },
    {
     "name": "stdout",
     "output_type": "stream",
     "text": [
      "Error fetching URL: https://www.agoda.com/partners/partnersearch.aspx?hid=263318 - Message: no such element: Unable to locate element: {\"method\":\"css selector\",\"selector\":\"a[data-element-name='property-card-content']\"}\n",
      "  (Session info: chrome=130.0.6723.117); For documentation on this error, please visit: https://www.selenium.dev/documentation/webdriver/troubleshooting/errors#no-such-element-exception\n",
      "Stacktrace:\n",
      "\tGetHandleVerifier [0x00007FF6FD4338A5+3004357]\n",
      "\t(No symbol) [0x00007FF6FD0C9970]\n",
      "\t(No symbol) [0x00007FF6FCF7582A]\n",
      "\t(No symbol) [0x00007FF6FCFC5B8E]\n",
      "\t(No symbol) [0x00007FF6FCFC5E7C]\n",
      "\t(No symbol) [0x00007FF6FD00EC27]\n",
      "\t(No symbol) [0x00007FF6FCFEBC1F]\n",
      "\t(No symbol) [0x00007FF6FD00BA4C]\n",
      "\t(No symbol) [0x00007FF6FCFEB983]\n",
      "\t(No symbol) [0x00007FF6FCFB7628]\n",
      "\t(No symbol) [0x00007FF6FCFB8791]\n",
      "\tGetHandleVerifier [0x00007FF6FD45A00D+3161901]\n",
      "\tGetHandleVerifier [0x00007FF6FD4AE060+3506048]\n",
      "\tGetHandleVerifier [0x00007FF6FD4A400D+3465005]\n",
      "\tGetHandleVerifier [0x00007FF6FD220EEB+830987]\n",
      "\t(No symbol) [0x00007FF6FD0D467F]\n",
      "\t(No symbol) [0x00007FF6FD0D09D4]\n",
      "\t(No symbol) [0x00007FF6FD0D0B6D]\n",
      "\t(No symbol) [0x00007FF6FD0C0149]\n",
      "\tBaseThreadInitThunk [0x00007FFB7AAA7374+20]\n",
      "\tRtlUserThreadStart [0x00007FFB7C37CC91+33]\n",
      "\n"
     ]
    },
    {
     "name": "stderr",
     "output_type": "stream",
     "text": [
      "Processing URLs:   2%|      | 527/29446 [58:13<52:44:26,  6.57s/it]"
     ]
    },
    {
     "name": "stdout",
     "output_type": "stream",
     "text": [
      "Error fetching URL: https://www.agoda.com/partners/partnersearch.aspx?hid=263495 - Message: no such element: Unable to locate element: {\"method\":\"css selector\",\"selector\":\"a[data-element-name='property-card-content']\"}\n",
      "  (Session info: chrome=130.0.6723.117); For documentation on this error, please visit: https://www.selenium.dev/documentation/webdriver/troubleshooting/errors#no-such-element-exception\n",
      "Stacktrace:\n",
      "\tGetHandleVerifier [0x00007FF6FD4338A5+3004357]\n",
      "\t(No symbol) [0x00007FF6FD0C9970]\n",
      "\t(No symbol) [0x00007FF6FCF7582A]\n",
      "\t(No symbol) [0x00007FF6FCFC5B8E]\n",
      "\t(No symbol) [0x00007FF6FCFC5E7C]\n",
      "\t(No symbol) [0x00007FF6FD00EC27]\n",
      "\t(No symbol) [0x00007FF6FCFEBC1F]\n",
      "\t(No symbol) [0x00007FF6FD00BA4C]\n",
      "\t(No symbol) [0x00007FF6FCFEB983]\n",
      "\t(No symbol) [0x00007FF6FCFB7628]\n",
      "\t(No symbol) [0x00007FF6FCFB8791]\n",
      "\tGetHandleVerifier [0x00007FF6FD45A00D+3161901]\n",
      "\tGetHandleVerifier [0x00007FF6FD4AE060+3506048]\n",
      "\tGetHandleVerifier [0x00007FF6FD4A400D+3465005]\n",
      "\tGetHandleVerifier [0x00007FF6FD220EEB+830987]\n",
      "\t(No symbol) [0x00007FF6FD0D467F]\n",
      "\t(No symbol) [0x00007FF6FD0D09D4]\n",
      "\t(No symbol) [0x00007FF6FD0D0B6D]\n",
      "\t(No symbol) [0x00007FF6FD0C0149]\n",
      "\tBaseThreadInitThunk [0x00007FFB7AAA7374+20]\n",
      "\tRtlUserThreadStart [0x00007FFB7C37CC91+33]\n",
      "\n"
     ]
    },
    {
     "name": "stderr",
     "output_type": "stream",
     "text": [
      "Processing URLs:   2%|      | 528/29446 [58:20<53:05:38,  6.61s/it]"
     ]
    },
    {
     "name": "stdout",
     "output_type": "stream",
     "text": [
      "Error fetching URL: https://www.agoda.com/partners/partnersearch.aspx?hid=263516 - Message: no such element: Unable to locate element: {\"method\":\"css selector\",\"selector\":\"a[data-element-name='property-card-content']\"}\n",
      "  (Session info: chrome=130.0.6723.117); For documentation on this error, please visit: https://www.selenium.dev/documentation/webdriver/troubleshooting/errors#no-such-element-exception\n",
      "Stacktrace:\n",
      "\tGetHandleVerifier [0x00007FF6FD4338A5+3004357]\n",
      "\t(No symbol) [0x00007FF6FD0C9970]\n",
      "\t(No symbol) [0x00007FF6FCF7582A]\n",
      "\t(No symbol) [0x00007FF6FCFC5B8E]\n",
      "\t(No symbol) [0x00007FF6FCFC5E7C]\n",
      "\t(No symbol) [0x00007FF6FD00EC27]\n",
      "\t(No symbol) [0x00007FF6FCFEBC1F]\n",
      "\t(No symbol) [0x00007FF6FD00BA4C]\n",
      "\t(No symbol) [0x00007FF6FCFEB983]\n",
      "\t(No symbol) [0x00007FF6FCFB7628]\n",
      "\t(No symbol) [0x00007FF6FCFB8791]\n",
      "\tGetHandleVerifier [0x00007FF6FD45A00D+3161901]\n",
      "\tGetHandleVerifier [0x00007FF6FD4AE060+3506048]\n",
      "\tGetHandleVerifier [0x00007FF6FD4A400D+3465005]\n",
      "\tGetHandleVerifier [0x00007FF6FD220EEB+830987]\n",
      "\t(No symbol) [0x00007FF6FD0D467F]\n",
      "\t(No symbol) [0x00007FF6FD0D09D4]\n",
      "\t(No symbol) [0x00007FF6FD0D0B6D]\n",
      "\t(No symbol) [0x00007FF6FD0C0149]\n",
      "\tBaseThreadInitThunk [0x00007FFB7AAA7374+20]\n",
      "\tRtlUserThreadStart [0x00007FFB7C37CC91+33]\n",
      "\n"
     ]
    },
    {
     "name": "stderr",
     "output_type": "stream",
     "text": [
      "Processing URLs:   2%|      | 531/29446 [58:40<53:21:21,  6.64s/it]"
     ]
    },
    {
     "name": "stdout",
     "output_type": "stream",
     "text": [
      "Error fetching URL: https://www.agoda.com/partners/partnersearch.aspx?hid=266496 - Message: no such element: Unable to locate element: {\"method\":\"css selector\",\"selector\":\"a[data-element-name='property-card-content']\"}\n",
      "  (Session info: chrome=130.0.6723.117); For documentation on this error, please visit: https://www.selenium.dev/documentation/webdriver/troubleshooting/errors#no-such-element-exception\n",
      "Stacktrace:\n",
      "\tGetHandleVerifier [0x00007FF6FD4338A5+3004357]\n",
      "\t(No symbol) [0x00007FF6FD0C9970]\n",
      "\t(No symbol) [0x00007FF6FCF7582A]\n",
      "\t(No symbol) [0x00007FF6FCFC5B8E]\n",
      "\t(No symbol) [0x00007FF6FCFC5E7C]\n",
      "\t(No symbol) [0x00007FF6FD00EC27]\n",
      "\t(No symbol) [0x00007FF6FCFEBC1F]\n",
      "\t(No symbol) [0x00007FF6FD00BA4C]\n",
      "\t(No symbol) [0x00007FF6FCFEB983]\n",
      "\t(No symbol) [0x00007FF6FCFB7628]\n",
      "\t(No symbol) [0x00007FF6FCFB8791]\n",
      "\tGetHandleVerifier [0x00007FF6FD45A00D+3161901]\n",
      "\tGetHandleVerifier [0x00007FF6FD4AE060+3506048]\n",
      "\tGetHandleVerifier [0x00007FF6FD4A400D+3465005]\n",
      "\tGetHandleVerifier [0x00007FF6FD220EEB+830987]\n",
      "\t(No symbol) [0x00007FF6FD0D467F]\n",
      "\t(No symbol) [0x00007FF6FD0D09D4]\n",
      "\t(No symbol) [0x00007FF6FD0D0B6D]\n",
      "\t(No symbol) [0x00007FF6FD0C0149]\n",
      "\tBaseThreadInitThunk [0x00007FFB7AAA7374+20]\n",
      "\tRtlUserThreadStart [0x00007FFB7C37CC91+33]\n",
      "\n"
     ]
    },
    {
     "name": "stderr",
     "output_type": "stream",
     "text": [
      "Processing URLs:   2%|      | 532/29446 [58:46<52:49:37,  6.58s/it]"
     ]
    },
    {
     "name": "stdout",
     "output_type": "stream",
     "text": [
      "Error fetching URL: https://www.agoda.com/partners/partnersearch.aspx?hid=266700 - Message: no such element: Unable to locate element: {\"method\":\"css selector\",\"selector\":\"a[data-element-name='property-card-content']\"}\n",
      "  (Session info: chrome=130.0.6723.117); For documentation on this error, please visit: https://www.selenium.dev/documentation/webdriver/troubleshooting/errors#no-such-element-exception\n",
      "Stacktrace:\n",
      "\tGetHandleVerifier [0x00007FF6FD4338A5+3004357]\n",
      "\t(No symbol) [0x00007FF6FD0C9970]\n",
      "\t(No symbol) [0x00007FF6FCF7582A]\n",
      "\t(No symbol) [0x00007FF6FCFC5B8E]\n",
      "\t(No symbol) [0x00007FF6FCFC5E7C]\n",
      "\t(No symbol) [0x00007FF6FD00EC27]\n",
      "\t(No symbol) [0x00007FF6FCFEBC1F]\n",
      "\t(No symbol) [0x00007FF6FD00BA4C]\n",
      "\t(No symbol) [0x00007FF6FCFEB983]\n",
      "\t(No symbol) [0x00007FF6FCFB7628]\n",
      "\t(No symbol) [0x00007FF6FCFB8791]\n",
      "\tGetHandleVerifier [0x00007FF6FD45A00D+3161901]\n",
      "\tGetHandleVerifier [0x00007FF6FD4AE060+3506048]\n",
      "\tGetHandleVerifier [0x00007FF6FD4A400D+3465005]\n",
      "\tGetHandleVerifier [0x00007FF6FD220EEB+830987]\n",
      "\t(No symbol) [0x00007FF6FD0D467F]\n",
      "\t(No symbol) [0x00007FF6FD0D09D4]\n",
      "\t(No symbol) [0x00007FF6FD0D0B6D]\n",
      "\t(No symbol) [0x00007FF6FD0C0149]\n",
      "\tBaseThreadInitThunk [0x00007FFB7AAA7374+20]\n",
      "\tRtlUserThreadStart [0x00007FFB7C37CC91+33]\n",
      "\n"
     ]
    },
    {
     "name": "stderr",
     "output_type": "stream",
     "text": [
      "Processing URLs:   2%|      | 533/29446 [58:53<53:04:46,  6.61s/it]"
     ]
    },
    {
     "name": "stdout",
     "output_type": "stream",
     "text": [
      "Error fetching URL: https://www.agoda.com/partners/partnersearch.aspx?hid=266768 - Message: no such element: Unable to locate element: {\"method\":\"css selector\",\"selector\":\"a[data-element-name='property-card-content']\"}\n",
      "  (Session info: chrome=130.0.6723.117); For documentation on this error, please visit: https://www.selenium.dev/documentation/webdriver/troubleshooting/errors#no-such-element-exception\n",
      "Stacktrace:\n",
      "\tGetHandleVerifier [0x00007FF6FD4338A5+3004357]\n",
      "\t(No symbol) [0x00007FF6FD0C9970]\n",
      "\t(No symbol) [0x00007FF6FCF7582A]\n",
      "\t(No symbol) [0x00007FF6FCFC5B8E]\n",
      "\t(No symbol) [0x00007FF6FCFC5E7C]\n",
      "\t(No symbol) [0x00007FF6FD00EC27]\n",
      "\t(No symbol) [0x00007FF6FCFEBC1F]\n",
      "\t(No symbol) [0x00007FF6FD00BA4C]\n",
      "\t(No symbol) [0x00007FF6FCFEB983]\n",
      "\t(No symbol) [0x00007FF6FCFB7628]\n",
      "\t(No symbol) [0x00007FF6FCFB8791]\n",
      "\tGetHandleVerifier [0x00007FF6FD45A00D+3161901]\n",
      "\tGetHandleVerifier [0x00007FF6FD4AE060+3506048]\n",
      "\tGetHandleVerifier [0x00007FF6FD4A400D+3465005]\n",
      "\tGetHandleVerifier [0x00007FF6FD220EEB+830987]\n",
      "\t(No symbol) [0x00007FF6FD0D467F]\n",
      "\t(No symbol) [0x00007FF6FD0D09D4]\n",
      "\t(No symbol) [0x00007FF6FD0D0B6D]\n",
      "\t(No symbol) [0x00007FF6FD0C0149]\n",
      "\tBaseThreadInitThunk [0x00007FFB7AAA7374+20]\n",
      "\tRtlUserThreadStart [0x00007FFB7C37CC91+33]\n",
      "\n"
     ]
    },
    {
     "name": "stderr",
     "output_type": "stream",
     "text": [
      "Processing URLs:   2%|      | 535/29446 [59:07<54:08:21,  6.74s/it]"
     ]
    },
    {
     "name": "stdout",
     "output_type": "stream",
     "text": [
      "Error fetching URL: https://www.agoda.com/partners/partnersearch.aspx?hid=267048 - Message: no such element: Unable to locate element: {\"method\":\"css selector\",\"selector\":\"a[data-element-name='property-card-content']\"}\n",
      "  (Session info: chrome=130.0.6723.117); For documentation on this error, please visit: https://www.selenium.dev/documentation/webdriver/troubleshooting/errors#no-such-element-exception\n",
      "Stacktrace:\n",
      "\tGetHandleVerifier [0x00007FF6FD4338A5+3004357]\n",
      "\t(No symbol) [0x00007FF6FD0C9970]\n",
      "\t(No symbol) [0x00007FF6FCF7582A]\n",
      "\t(No symbol) [0x00007FF6FCFC5B8E]\n",
      "\t(No symbol) [0x00007FF6FCFC5E7C]\n",
      "\t(No symbol) [0x00007FF6FD00EC27]\n",
      "\t(No symbol) [0x00007FF6FCFEBC1F]\n",
      "\t(No symbol) [0x00007FF6FD00BA4C]\n",
      "\t(No symbol) [0x00007FF6FCFEB983]\n",
      "\t(No symbol) [0x00007FF6FCFB7628]\n",
      "\t(No symbol) [0x00007FF6FCFB8791]\n",
      "\tGetHandleVerifier [0x00007FF6FD45A00D+3161901]\n",
      "\tGetHandleVerifier [0x00007FF6FD4AE060+3506048]\n",
      "\tGetHandleVerifier [0x00007FF6FD4A400D+3465005]\n",
      "\tGetHandleVerifier [0x00007FF6FD220EEB+830987]\n",
      "\t(No symbol) [0x00007FF6FD0D467F]\n",
      "\t(No symbol) [0x00007FF6FD0D09D4]\n",
      "\t(No symbol) [0x00007FF6FD0D0B6D]\n",
      "\t(No symbol) [0x00007FF6FD0C0149]\n",
      "\tBaseThreadInitThunk [0x00007FFB7AAA7374+20]\n",
      "\tRtlUserThreadStart [0x00007FFB7C37CC91+33]\n",
      "\n"
     ]
    },
    {
     "name": "stderr",
     "output_type": "stream",
     "text": [
      "Processing URLs:   2%|      | 536/29446 [59:13<53:25:01,  6.65s/it]"
     ]
    },
    {
     "name": "stdout",
     "output_type": "stream",
     "text": [
      "Error fetching URL: https://www.agoda.com/partners/partnersearch.aspx?hid=267074 - Message: no such element: Unable to locate element: {\"method\":\"css selector\",\"selector\":\"a[data-element-name='property-card-content']\"}\n",
      "  (Session info: chrome=130.0.6723.117); For documentation on this error, please visit: https://www.selenium.dev/documentation/webdriver/troubleshooting/errors#no-such-element-exception\n",
      "Stacktrace:\n",
      "\tGetHandleVerifier [0x00007FF6FD4338A5+3004357]\n",
      "\t(No symbol) [0x00007FF6FD0C9970]\n",
      "\t(No symbol) [0x00007FF6FCF7582A]\n",
      "\t(No symbol) [0x00007FF6FCFC5B8E]\n",
      "\t(No symbol) [0x00007FF6FCFC5E7C]\n",
      "\t(No symbol) [0x00007FF6FD00EC27]\n",
      "\t(No symbol) [0x00007FF6FCFEBC1F]\n",
      "\t(No symbol) [0x00007FF6FD00BA4C]\n",
      "\t(No symbol) [0x00007FF6FCFEB983]\n",
      "\t(No symbol) [0x00007FF6FCFB7628]\n",
      "\t(No symbol) [0x00007FF6FCFB8791]\n",
      "\tGetHandleVerifier [0x00007FF6FD45A00D+3161901]\n",
      "\tGetHandleVerifier [0x00007FF6FD4AE060+3506048]\n",
      "\tGetHandleVerifier [0x00007FF6FD4A400D+3465005]\n",
      "\tGetHandleVerifier [0x00007FF6FD220EEB+830987]\n",
      "\t(No symbol) [0x00007FF6FD0D467F]\n",
      "\t(No symbol) [0x00007FF6FD0D09D4]\n",
      "\t(No symbol) [0x00007FF6FD0D0B6D]\n",
      "\t(No symbol) [0x00007FF6FD0C0149]\n",
      "\tBaseThreadInitThunk [0x00007FFB7AAA7374+20]\n",
      "\tRtlUserThreadStart [0x00007FFB7C37CC91+33]\n",
      "\n"
     ]
    },
    {
     "name": "stderr",
     "output_type": "stream",
     "text": [
      "Processing URLs:   2%|      | 537/29446 [59:20<52:49:47,  6.58s/it]"
     ]
    },
    {
     "name": "stdout",
     "output_type": "stream",
     "text": [
      "Error fetching URL: https://www.agoda.com/partners/partnersearch.aspx?hid=267132 - Message: no such element: Unable to locate element: {\"method\":\"css selector\",\"selector\":\"a[data-element-name='property-card-content']\"}\n",
      "  (Session info: chrome=130.0.6723.117); For documentation on this error, please visit: https://www.selenium.dev/documentation/webdriver/troubleshooting/errors#no-such-element-exception\n",
      "Stacktrace:\n",
      "\tGetHandleVerifier [0x00007FF6FD4338A5+3004357]\n",
      "\t(No symbol) [0x00007FF6FD0C9970]\n",
      "\t(No symbol) [0x00007FF6FCF7582A]\n",
      "\t(No symbol) [0x00007FF6FCFC5B8E]\n",
      "\t(No symbol) [0x00007FF6FCFC5E7C]\n",
      "\t(No symbol) [0x00007FF6FD00EC27]\n",
      "\t(No symbol) [0x00007FF6FCFEBC1F]\n",
      "\t(No symbol) [0x00007FF6FD00BA4C]\n",
      "\t(No symbol) [0x00007FF6FCFEB983]\n",
      "\t(No symbol) [0x00007FF6FCFB7628]\n",
      "\t(No symbol) [0x00007FF6FCFB8791]\n",
      "\tGetHandleVerifier [0x00007FF6FD45A00D+3161901]\n",
      "\tGetHandleVerifier [0x00007FF6FD4AE060+3506048]\n",
      "\tGetHandleVerifier [0x00007FF6FD4A400D+3465005]\n",
      "\tGetHandleVerifier [0x00007FF6FD220EEB+830987]\n",
      "\t(No symbol) [0x00007FF6FD0D467F]\n",
      "\t(No symbol) [0x00007FF6FD0D09D4]\n",
      "\t(No symbol) [0x00007FF6FD0D0B6D]\n",
      "\t(No symbol) [0x00007FF6FD0C0149]\n",
      "\tBaseThreadInitThunk [0x00007FFB7AAA7374+20]\n",
      "\tRtlUserThreadStart [0x00007FFB7C37CC91+33]\n",
      "\n"
     ]
    },
    {
     "name": "stderr",
     "output_type": "stream",
     "text": [
      "Processing URLs:   2%|      | 538/29446 [59:26<52:13:18,  6.50s/it]"
     ]
    },
    {
     "name": "stdout",
     "output_type": "stream",
     "text": [
      "Error fetching URL: https://www.agoda.com/partners/partnersearch.aspx?hid=267261 - Message: no such element: Unable to locate element: {\"method\":\"css selector\",\"selector\":\"a[data-element-name='property-card-content']\"}\n",
      "  (Session info: chrome=130.0.6723.117); For documentation on this error, please visit: https://www.selenium.dev/documentation/webdriver/troubleshooting/errors#no-such-element-exception\n",
      "Stacktrace:\n",
      "\tGetHandleVerifier [0x00007FF6FD4338A5+3004357]\n",
      "\t(No symbol) [0x00007FF6FD0C9970]\n",
      "\t(No symbol) [0x00007FF6FCF7582A]\n",
      "\t(No symbol) [0x00007FF6FCFC5B8E]\n",
      "\t(No symbol) [0x00007FF6FCFC5E7C]\n",
      "\t(No symbol) [0x00007FF6FD00EC27]\n",
      "\t(No symbol) [0x00007FF6FCFEBC1F]\n",
      "\t(No symbol) [0x00007FF6FD00BA4C]\n",
      "\t(No symbol) [0x00007FF6FCFEB983]\n",
      "\t(No symbol) [0x00007FF6FCFB7628]\n",
      "\t(No symbol) [0x00007FF6FCFB8791]\n",
      "\tGetHandleVerifier [0x00007FF6FD45A00D+3161901]\n",
      "\tGetHandleVerifier [0x00007FF6FD4AE060+3506048]\n",
      "\tGetHandleVerifier [0x00007FF6FD4A400D+3465005]\n",
      "\tGetHandleVerifier [0x00007FF6FD220EEB+830987]\n",
      "\t(No symbol) [0x00007FF6FD0D467F]\n",
      "\t(No symbol) [0x00007FF6FD0D09D4]\n",
      "\t(No symbol) [0x00007FF6FD0D0B6D]\n",
      "\t(No symbol) [0x00007FF6FD0C0149]\n",
      "\tBaseThreadInitThunk [0x00007FFB7AAA7374+20]\n",
      "\tRtlUserThreadStart [0x00007FFB7C37CC91+33]\n",
      "\n"
     ]
    },
    {
     "name": "stderr",
     "output_type": "stream",
     "text": [
      "Processing URLs:   2%|      | 542/29446 [59:52<52:52:18,  6.59s/it]"
     ]
    },
    {
     "name": "stdout",
     "output_type": "stream",
     "text": [
      "Error fetching URL: https://www.agoda.com/partners/partnersearch.aspx?hid=267671 - Message: no such element: Unable to locate element: {\"method\":\"css selector\",\"selector\":\"a[data-element-name='property-card-content']\"}\n",
      "  (Session info: chrome=130.0.6723.117); For documentation on this error, please visit: https://www.selenium.dev/documentation/webdriver/troubleshooting/errors#no-such-element-exception\n",
      "Stacktrace:\n",
      "\tGetHandleVerifier [0x00007FF6FD4338A5+3004357]\n",
      "\t(No symbol) [0x00007FF6FD0C9970]\n",
      "\t(No symbol) [0x00007FF6FCF7582A]\n",
      "\t(No symbol) [0x00007FF6FCFC5B8E]\n",
      "\t(No symbol) [0x00007FF6FCFC5E7C]\n",
      "\t(No symbol) [0x00007FF6FD00EC27]\n",
      "\t(No symbol) [0x00007FF6FCFEBC1F]\n",
      "\t(No symbol) [0x00007FF6FD00BA4C]\n",
      "\t(No symbol) [0x00007FF6FCFEB983]\n",
      "\t(No symbol) [0x00007FF6FCFB7628]\n",
      "\t(No symbol) [0x00007FF6FCFB8791]\n",
      "\tGetHandleVerifier [0x00007FF6FD45A00D+3161901]\n",
      "\tGetHandleVerifier [0x00007FF6FD4AE060+3506048]\n",
      "\tGetHandleVerifier [0x00007FF6FD4A400D+3465005]\n",
      "\tGetHandleVerifier [0x00007FF6FD220EEB+830987]\n",
      "\t(No symbol) [0x00007FF6FD0D467F]\n",
      "\t(No symbol) [0x00007FF6FD0D09D4]\n",
      "\t(No symbol) [0x00007FF6FD0D0B6D]\n",
      "\t(No symbol) [0x00007FF6FD0C0149]\n",
      "\tBaseThreadInitThunk [0x00007FFB7AAA7374+20]\n",
      "\tRtlUserThreadStart [0x00007FFB7C37CC91+33]\n",
      "\n"
     ]
    },
    {
     "name": "stderr",
     "output_type": "stream",
     "text": [
      "Processing URLs:   2%|      | 543/29446 [59:59<52:57:04,  6.60s/it]"
     ]
    },
    {
     "name": "stdout",
     "output_type": "stream",
     "text": [
      "Error fetching URL: https://www.agoda.com/partners/partnersearch.aspx?hid=267711 - Message: no such element: Unable to locate element: {\"method\":\"css selector\",\"selector\":\"a[data-element-name='property-card-content']\"}\n",
      "  (Session info: chrome=130.0.6723.117); For documentation on this error, please visit: https://www.selenium.dev/documentation/webdriver/troubleshooting/errors#no-such-element-exception\n",
      "Stacktrace:\n",
      "\tGetHandleVerifier [0x00007FF6FD4338A5+3004357]\n",
      "\t(No symbol) [0x00007FF6FD0C9970]\n",
      "\t(No symbol) [0x00007FF6FCF7582A]\n",
      "\t(No symbol) [0x00007FF6FCFC5B8E]\n",
      "\t(No symbol) [0x00007FF6FCFC5E7C]\n",
      "\t(No symbol) [0x00007FF6FD00EC27]\n",
      "\t(No symbol) [0x00007FF6FCFEBC1F]\n",
      "\t(No symbol) [0x00007FF6FD00BA4C]\n",
      "\t(No symbol) [0x00007FF6FCFEB983]\n",
      "\t(No symbol) [0x00007FF6FCFB7628]\n",
      "\t(No symbol) [0x00007FF6FCFB8791]\n",
      "\tGetHandleVerifier [0x00007FF6FD45A00D+3161901]\n",
      "\tGetHandleVerifier [0x00007FF6FD4AE060+3506048]\n",
      "\tGetHandleVerifier [0x00007FF6FD4A400D+3465005]\n",
      "\tGetHandleVerifier [0x00007FF6FD220EEB+830987]\n",
      "\t(No symbol) [0x00007FF6FD0D467F]\n",
      "\t(No symbol) [0x00007FF6FD0D09D4]\n",
      "\t(No symbol) [0x00007FF6FD0D0B6D]\n",
      "\t(No symbol) [0x00007FF6FD0C0149]\n",
      "\tBaseThreadInitThunk [0x00007FFB7AAA7374+20]\n",
      "\tRtlUserThreadStart [0x00007FFB7C37CC91+33]\n",
      "\n"
     ]
    },
    {
     "name": "stderr",
     "output_type": "stream",
     "text": [
      "Processing URLs:   2%|    | 544/29446 [1:00:05<52:24:27,  6.53s/it]"
     ]
    },
    {
     "name": "stdout",
     "output_type": "stream",
     "text": [
      "Error fetching URL: https://www.agoda.com/partners/partnersearch.aspx?hid=267732 - Message: no such element: Unable to locate element: {\"method\":\"css selector\",\"selector\":\"a[data-element-name='property-card-content']\"}\n",
      "  (Session info: chrome=130.0.6723.117); For documentation on this error, please visit: https://www.selenium.dev/documentation/webdriver/troubleshooting/errors#no-such-element-exception\n",
      "Stacktrace:\n",
      "\tGetHandleVerifier [0x00007FF6FD4338A5+3004357]\n",
      "\t(No symbol) [0x00007FF6FD0C9970]\n",
      "\t(No symbol) [0x00007FF6FCF7582A]\n",
      "\t(No symbol) [0x00007FF6FCFC5B8E]\n",
      "\t(No symbol) [0x00007FF6FCFC5E7C]\n",
      "\t(No symbol) [0x00007FF6FD00EC27]\n",
      "\t(No symbol) [0x00007FF6FCFEBC1F]\n",
      "\t(No symbol) [0x00007FF6FD00BA4C]\n",
      "\t(No symbol) [0x00007FF6FCFEB983]\n",
      "\t(No symbol) [0x00007FF6FCFB7628]\n",
      "\t(No symbol) [0x00007FF6FCFB8791]\n",
      "\tGetHandleVerifier [0x00007FF6FD45A00D+3161901]\n",
      "\tGetHandleVerifier [0x00007FF6FD4AE060+3506048]\n",
      "\tGetHandleVerifier [0x00007FF6FD4A400D+3465005]\n",
      "\tGetHandleVerifier [0x00007FF6FD220EEB+830987]\n",
      "\t(No symbol) [0x00007FF6FD0D467F]\n",
      "\t(No symbol) [0x00007FF6FD0D09D4]\n",
      "\t(No symbol) [0x00007FF6FD0D0B6D]\n",
      "\t(No symbol) [0x00007FF6FD0C0149]\n",
      "\tBaseThreadInitThunk [0x00007FFB7AAA7374+20]\n",
      "\tRtlUserThreadStart [0x00007FFB7C37CC91+33]\n",
      "\n"
     ]
    },
    {
     "name": "stderr",
     "output_type": "stream",
     "text": [
      "Processing URLs:   2%|    | 545/29446 [1:00:12<52:03:31,  6.48s/it]"
     ]
    },
    {
     "name": "stdout",
     "output_type": "stream",
     "text": [
      "Error fetching URL: https://www.agoda.com/partners/partnersearch.aspx?hid=267896 - Message: no such element: Unable to locate element: {\"method\":\"css selector\",\"selector\":\"a[data-element-name='property-card-content']\"}\n",
      "  (Session info: chrome=130.0.6723.117); For documentation on this error, please visit: https://www.selenium.dev/documentation/webdriver/troubleshooting/errors#no-such-element-exception\n",
      "Stacktrace:\n",
      "\tGetHandleVerifier [0x00007FF6FD4338A5+3004357]\n",
      "\t(No symbol) [0x00007FF6FD0C9970]\n",
      "\t(No symbol) [0x00007FF6FCF7582A]\n",
      "\t(No symbol) [0x00007FF6FCFC5B8E]\n",
      "\t(No symbol) [0x00007FF6FCFC5E7C]\n",
      "\t(No symbol) [0x00007FF6FD00EC27]\n",
      "\t(No symbol) [0x00007FF6FCFEBC1F]\n",
      "\t(No symbol) [0x00007FF6FD00BA4C]\n",
      "\t(No symbol) [0x00007FF6FCFEB983]\n",
      "\t(No symbol) [0x00007FF6FCFB7628]\n",
      "\t(No symbol) [0x00007FF6FCFB8791]\n",
      "\tGetHandleVerifier [0x00007FF6FD45A00D+3161901]\n",
      "\tGetHandleVerifier [0x00007FF6FD4AE060+3506048]\n",
      "\tGetHandleVerifier [0x00007FF6FD4A400D+3465005]\n",
      "\tGetHandleVerifier [0x00007FF6FD220EEB+830987]\n",
      "\t(No symbol) [0x00007FF6FD0D467F]\n",
      "\t(No symbol) [0x00007FF6FD0D09D4]\n",
      "\t(No symbol) [0x00007FF6FD0D0B6D]\n",
      "\t(No symbol) [0x00007FF6FD0C0149]\n",
      "\tBaseThreadInitThunk [0x00007FFB7AAA7374+20]\n",
      "\tRtlUserThreadStart [0x00007FFB7C37CC91+33]\n",
      "\n"
     ]
    },
    {
     "name": "stderr",
     "output_type": "stream",
     "text": [
      "Processing URLs:   2%|    | 546/29446 [1:00:18<52:22:51,  6.52s/it]"
     ]
    },
    {
     "name": "stdout",
     "output_type": "stream",
     "text": [
      "Error fetching URL: https://www.agoda.com/partners/partnersearch.aspx?hid=267905 - Message: no such element: Unable to locate element: {\"method\":\"css selector\",\"selector\":\"a[data-element-name='property-card-content']\"}\n",
      "  (Session info: chrome=130.0.6723.117); For documentation on this error, please visit: https://www.selenium.dev/documentation/webdriver/troubleshooting/errors#no-such-element-exception\n",
      "Stacktrace:\n",
      "\tGetHandleVerifier [0x00007FF6FD4338A5+3004357]\n",
      "\t(No symbol) [0x00007FF6FD0C9970]\n",
      "\t(No symbol) [0x00007FF6FCF7582A]\n",
      "\t(No symbol) [0x00007FF6FCFC5B8E]\n",
      "\t(No symbol) [0x00007FF6FCFC5E7C]\n",
      "\t(No symbol) [0x00007FF6FD00EC27]\n",
      "\t(No symbol) [0x00007FF6FCFEBC1F]\n",
      "\t(No symbol) [0x00007FF6FD00BA4C]\n",
      "\t(No symbol) [0x00007FF6FCFEB983]\n",
      "\t(No symbol) [0x00007FF6FCFB7628]\n",
      "\t(No symbol) [0x00007FF6FCFB8791]\n",
      "\tGetHandleVerifier [0x00007FF6FD45A00D+3161901]\n",
      "\tGetHandleVerifier [0x00007FF6FD4AE060+3506048]\n",
      "\tGetHandleVerifier [0x00007FF6FD4A400D+3465005]\n",
      "\tGetHandleVerifier [0x00007FF6FD220EEB+830987]\n",
      "\t(No symbol) [0x00007FF6FD0D467F]\n",
      "\t(No symbol) [0x00007FF6FD0D09D4]\n",
      "\t(No symbol) [0x00007FF6FD0D0B6D]\n",
      "\t(No symbol) [0x00007FF6FD0C0149]\n",
      "\tBaseThreadInitThunk [0x00007FFB7AAA7374+20]\n",
      "\tRtlUserThreadStart [0x00007FFB7C37CC91+33]\n",
      "\n"
     ]
    },
    {
     "name": "stderr",
     "output_type": "stream",
     "text": [
      "Processing URLs:   2%|    | 547/29446 [1:00:25<52:39:24,  6.56s/it]"
     ]
    },
    {
     "name": "stdout",
     "output_type": "stream",
     "text": [
      "Error fetching URL: https://www.agoda.com/partners/partnersearch.aspx?hid=270885 - Message: no such element: Unable to locate element: {\"method\":\"css selector\",\"selector\":\"a[data-element-name='property-card-content']\"}\n",
      "  (Session info: chrome=130.0.6723.117); For documentation on this error, please visit: https://www.selenium.dev/documentation/webdriver/troubleshooting/errors#no-such-element-exception\n",
      "Stacktrace:\n",
      "\tGetHandleVerifier [0x00007FF6FD4338A5+3004357]\n",
      "\t(No symbol) [0x00007FF6FD0C9970]\n",
      "\t(No symbol) [0x00007FF6FCF7582A]\n",
      "\t(No symbol) [0x00007FF6FCFC5B8E]\n",
      "\t(No symbol) [0x00007FF6FCFC5E7C]\n",
      "\t(No symbol) [0x00007FF6FD00EC27]\n",
      "\t(No symbol) [0x00007FF6FCFEBC1F]\n",
      "\t(No symbol) [0x00007FF6FD00BA4C]\n",
      "\t(No symbol) [0x00007FF6FCFEB983]\n",
      "\t(No symbol) [0x00007FF6FCFB7628]\n",
      "\t(No symbol) [0x00007FF6FCFB8791]\n",
      "\tGetHandleVerifier [0x00007FF6FD45A00D+3161901]\n",
      "\tGetHandleVerifier [0x00007FF6FD4AE060+3506048]\n",
      "\tGetHandleVerifier [0x00007FF6FD4A400D+3465005]\n",
      "\tGetHandleVerifier [0x00007FF6FD220EEB+830987]\n",
      "\t(No symbol) [0x00007FF6FD0D467F]\n",
      "\t(No symbol) [0x00007FF6FD0D09D4]\n",
      "\t(No symbol) [0x00007FF6FD0D0B6D]\n",
      "\t(No symbol) [0x00007FF6FD0C0149]\n",
      "\tBaseThreadInitThunk [0x00007FFB7AAA7374+20]\n",
      "\tRtlUserThreadStart [0x00007FFB7C37CC91+33]\n",
      "\n"
     ]
    },
    {
     "name": "stderr",
     "output_type": "stream",
     "text": [
      "Processing URLs:   2%|    | 548/29446 [1:00:31<52:04:23,  6.49s/it]"
     ]
    },
    {
     "name": "stdout",
     "output_type": "stream",
     "text": [
      "Error fetching URL: https://www.agoda.com/partners/partnersearch.aspx?hid=271011 - Message: no such element: Unable to locate element: {\"method\":\"css selector\",\"selector\":\"a[data-element-name='property-card-content']\"}\n",
      "  (Session info: chrome=130.0.6723.117); For documentation on this error, please visit: https://www.selenium.dev/documentation/webdriver/troubleshooting/errors#no-such-element-exception\n",
      "Stacktrace:\n",
      "\tGetHandleVerifier [0x00007FF6FD4338A5+3004357]\n",
      "\t(No symbol) [0x00007FF6FD0C9970]\n",
      "\t(No symbol) [0x00007FF6FCF7582A]\n",
      "\t(No symbol) [0x00007FF6FCFC5B8E]\n",
      "\t(No symbol) [0x00007FF6FCFC5E7C]\n",
      "\t(No symbol) [0x00007FF6FD00EC27]\n",
      "\t(No symbol) [0x00007FF6FCFEBC1F]\n",
      "\t(No symbol) [0x00007FF6FD00BA4C]\n",
      "\t(No symbol) [0x00007FF6FCFEB983]\n",
      "\t(No symbol) [0x00007FF6FCFB7628]\n",
      "\t(No symbol) [0x00007FF6FCFB8791]\n",
      "\tGetHandleVerifier [0x00007FF6FD45A00D+3161901]\n",
      "\tGetHandleVerifier [0x00007FF6FD4AE060+3506048]\n",
      "\tGetHandleVerifier [0x00007FF6FD4A400D+3465005]\n",
      "\tGetHandleVerifier [0x00007FF6FD220EEB+830987]\n",
      "\t(No symbol) [0x00007FF6FD0D467F]\n",
      "\t(No symbol) [0x00007FF6FD0D09D4]\n",
      "\t(No symbol) [0x00007FF6FD0D0B6D]\n",
      "\t(No symbol) [0x00007FF6FD0C0149]\n",
      "\tBaseThreadInitThunk [0x00007FFB7AAA7374+20]\n",
      "\tRtlUserThreadStart [0x00007FFB7C37CC91+33]\n",
      "\n"
     ]
    },
    {
     "name": "stderr",
     "output_type": "stream",
     "text": [
      "Processing URLs:   2%|    | 549/29446 [1:00:38<52:21:21,  6.52s/it]"
     ]
    },
    {
     "name": "stdout",
     "output_type": "stream",
     "text": [
      "Error fetching URL: https://www.agoda.com/partners/partnersearch.aspx?hid=271013 - Message: no such element: Unable to locate element: {\"method\":\"css selector\",\"selector\":\"a[data-element-name='property-card-content']\"}\n",
      "  (Session info: chrome=130.0.6723.117); For documentation on this error, please visit: https://www.selenium.dev/documentation/webdriver/troubleshooting/errors#no-such-element-exception\n",
      "Stacktrace:\n",
      "\tGetHandleVerifier [0x00007FF6FD4338A5+3004357]\n",
      "\t(No symbol) [0x00007FF6FD0C9970]\n",
      "\t(No symbol) [0x00007FF6FCF7582A]\n",
      "\t(No symbol) [0x00007FF6FCFC5B8E]\n",
      "\t(No symbol) [0x00007FF6FCFC5E7C]\n",
      "\t(No symbol) [0x00007FF6FD00EC27]\n",
      "\t(No symbol) [0x00007FF6FCFEBC1F]\n",
      "\t(No symbol) [0x00007FF6FD00BA4C]\n",
      "\t(No symbol) [0x00007FF6FCFEB983]\n",
      "\t(No symbol) [0x00007FF6FCFB7628]\n",
      "\t(No symbol) [0x00007FF6FCFB8791]\n",
      "\tGetHandleVerifier [0x00007FF6FD45A00D+3161901]\n",
      "\tGetHandleVerifier [0x00007FF6FD4AE060+3506048]\n",
      "\tGetHandleVerifier [0x00007FF6FD4A400D+3465005]\n",
      "\tGetHandleVerifier [0x00007FF6FD220EEB+830987]\n",
      "\t(No symbol) [0x00007FF6FD0D467F]\n",
      "\t(No symbol) [0x00007FF6FD0D09D4]\n",
      "\t(No symbol) [0x00007FF6FD0D0B6D]\n",
      "\t(No symbol) [0x00007FF6FD0C0149]\n",
      "\tBaseThreadInitThunk [0x00007FFB7AAA7374+20]\n",
      "\tRtlUserThreadStart [0x00007FFB7C37CC91+33]\n",
      "\n"
     ]
    },
    {
     "name": "stderr",
     "output_type": "stream",
     "text": [
      "Processing URLs:   2%|    | 550/29446 [1:00:44<52:32:28,  6.55s/it]"
     ]
    },
    {
     "name": "stdout",
     "output_type": "stream",
     "text": [
      "Error fetching URL: https://www.agoda.com/partners/partnersearch.aspx?hid=271413 - Message: no such element: Unable to locate element: {\"method\":\"css selector\",\"selector\":\"a[data-element-name='property-card-content']\"}\n",
      "  (Session info: chrome=130.0.6723.117); For documentation on this error, please visit: https://www.selenium.dev/documentation/webdriver/troubleshooting/errors#no-such-element-exception\n",
      "Stacktrace:\n",
      "\tGetHandleVerifier [0x00007FF6FD4338A5+3004357]\n",
      "\t(No symbol) [0x00007FF6FD0C9970]\n",
      "\t(No symbol) [0x00007FF6FCF7582A]\n",
      "\t(No symbol) [0x00007FF6FCFC5B8E]\n",
      "\t(No symbol) [0x00007FF6FCFC5E7C]\n",
      "\t(No symbol) [0x00007FF6FD00EC27]\n",
      "\t(No symbol) [0x00007FF6FCFEBC1F]\n",
      "\t(No symbol) [0x00007FF6FD00BA4C]\n",
      "\t(No symbol) [0x00007FF6FCFEB983]\n",
      "\t(No symbol) [0x00007FF6FCFB7628]\n",
      "\t(No symbol) [0x00007FF6FCFB8791]\n",
      "\tGetHandleVerifier [0x00007FF6FD45A00D+3161901]\n",
      "\tGetHandleVerifier [0x00007FF6FD4AE060+3506048]\n",
      "\tGetHandleVerifier [0x00007FF6FD4A400D+3465005]\n",
      "\tGetHandleVerifier [0x00007FF6FD220EEB+830987]\n",
      "\t(No symbol) [0x00007FF6FD0D467F]\n",
      "\t(No symbol) [0x00007FF6FD0D09D4]\n",
      "\t(No symbol) [0x00007FF6FD0D0B6D]\n",
      "\t(No symbol) [0x00007FF6FD0C0149]\n",
      "\tBaseThreadInitThunk [0x00007FFB7AAA7374+20]\n",
      "\tRtlUserThreadStart [0x00007FFB7C37CC91+33]\n",
      "\n"
     ]
    },
    {
     "name": "stderr",
     "output_type": "stream",
     "text": [
      "Processing URLs:   2%|    | 551/29446 [1:00:51<52:40:53,  6.56s/it]"
     ]
    },
    {
     "name": "stdout",
     "output_type": "stream",
     "text": [
      "Error fetching URL: https://www.agoda.com/partners/partnersearch.aspx?hid=271561 - Message: no such element: Unable to locate element: {\"method\":\"css selector\",\"selector\":\"a[data-element-name='property-card-content']\"}\n",
      "  (Session info: chrome=130.0.6723.117); For documentation on this error, please visit: https://www.selenium.dev/documentation/webdriver/troubleshooting/errors#no-such-element-exception\n",
      "Stacktrace:\n",
      "\tGetHandleVerifier [0x00007FF6FD4338A5+3004357]\n",
      "\t(No symbol) [0x00007FF6FD0C9970]\n",
      "\t(No symbol) [0x00007FF6FCF7582A]\n",
      "\t(No symbol) [0x00007FF6FCFC5B8E]\n",
      "\t(No symbol) [0x00007FF6FCFC5E7C]\n",
      "\t(No symbol) [0x00007FF6FD00EC27]\n",
      "\t(No symbol) [0x00007FF6FCFEBC1F]\n",
      "\t(No symbol) [0x00007FF6FD00BA4C]\n",
      "\t(No symbol) [0x00007FF6FCFEB983]\n",
      "\t(No symbol) [0x00007FF6FCFB7628]\n",
      "\t(No symbol) [0x00007FF6FCFB8791]\n",
      "\tGetHandleVerifier [0x00007FF6FD45A00D+3161901]\n",
      "\tGetHandleVerifier [0x00007FF6FD4AE060+3506048]\n",
      "\tGetHandleVerifier [0x00007FF6FD4A400D+3465005]\n",
      "\tGetHandleVerifier [0x00007FF6FD220EEB+830987]\n",
      "\t(No symbol) [0x00007FF6FD0D467F]\n",
      "\t(No symbol) [0x00007FF6FD0D09D4]\n",
      "\t(No symbol) [0x00007FF6FD0D0B6D]\n",
      "\t(No symbol) [0x00007FF6FD0C0149]\n",
      "\tBaseThreadInitThunk [0x00007FFB7AAA7374+20]\n",
      "\tRtlUserThreadStart [0x00007FFB7C37CC91+33]\n",
      "\n"
     ]
    },
    {
     "name": "stderr",
     "output_type": "stream",
     "text": [
      "Processing URLs:   2%|    | 553/29446 [1:01:04<52:43:23,  6.57s/it]"
     ]
    },
    {
     "name": "stdout",
     "output_type": "stream",
     "text": [
      "Error fetching URL: https://www.agoda.com/partners/partnersearch.aspx?hid=271645 - Message: no such element: Unable to locate element: {\"method\":\"css selector\",\"selector\":\"a[data-element-name='property-card-content']\"}\n",
      "  (Session info: chrome=130.0.6723.117); For documentation on this error, please visit: https://www.selenium.dev/documentation/webdriver/troubleshooting/errors#no-such-element-exception\n",
      "Stacktrace:\n",
      "\tGetHandleVerifier [0x00007FF6FD4338A5+3004357]\n",
      "\t(No symbol) [0x00007FF6FD0C9970]\n",
      "\t(No symbol) [0x00007FF6FCF7582A]\n",
      "\t(No symbol) [0x00007FF6FCFC5B8E]\n",
      "\t(No symbol) [0x00007FF6FCFC5E7C]\n",
      "\t(No symbol) [0x00007FF6FD00EC27]\n",
      "\t(No symbol) [0x00007FF6FCFEBC1F]\n",
      "\t(No symbol) [0x00007FF6FD00BA4C]\n",
      "\t(No symbol) [0x00007FF6FCFEB983]\n",
      "\t(No symbol) [0x00007FF6FCFB7628]\n",
      "\t(No symbol) [0x00007FF6FCFB8791]\n",
      "\tGetHandleVerifier [0x00007FF6FD45A00D+3161901]\n",
      "\tGetHandleVerifier [0x00007FF6FD4AE060+3506048]\n",
      "\tGetHandleVerifier [0x00007FF6FD4A400D+3465005]\n",
      "\tGetHandleVerifier [0x00007FF6FD220EEB+830987]\n",
      "\t(No symbol) [0x00007FF6FD0D467F]\n",
      "\t(No symbol) [0x00007FF6FD0D09D4]\n",
      "\t(No symbol) [0x00007FF6FD0D0B6D]\n",
      "\t(No symbol) [0x00007FF6FD0C0149]\n",
      "\tBaseThreadInitThunk [0x00007FFB7AAA7374+20]\n",
      "\tRtlUserThreadStart [0x00007FFB7C37CC91+33]\n",
      "\n"
     ]
    },
    {
     "name": "stderr",
     "output_type": "stream",
     "text": [
      "Processing URLs:   2%|    | 554/29446 [1:01:11<52:36:32,  6.56s/it]"
     ]
    },
    {
     "name": "stdout",
     "output_type": "stream",
     "text": [
      "Error fetching URL: https://www.agoda.com/partners/partnersearch.aspx?hid=271674 - Message: no such element: Unable to locate element: {\"method\":\"css selector\",\"selector\":\"a[data-element-name='property-card-content']\"}\n",
      "  (Session info: chrome=130.0.6723.117); For documentation on this error, please visit: https://www.selenium.dev/documentation/webdriver/troubleshooting/errors#no-such-element-exception\n",
      "Stacktrace:\n",
      "\tGetHandleVerifier [0x00007FF6FD4338A5+3004357]\n",
      "\t(No symbol) [0x00007FF6FD0C9970]\n",
      "\t(No symbol) [0x00007FF6FCF7582A]\n",
      "\t(No symbol) [0x00007FF6FCFC5B8E]\n",
      "\t(No symbol) [0x00007FF6FCFC5E7C]\n",
      "\t(No symbol) [0x00007FF6FD00EC27]\n",
      "\t(No symbol) [0x00007FF6FCFEBC1F]\n",
      "\t(No symbol) [0x00007FF6FD00BA4C]\n",
      "\t(No symbol) [0x00007FF6FCFEB983]\n",
      "\t(No symbol) [0x00007FF6FCFB7628]\n",
      "\t(No symbol) [0x00007FF6FCFB8791]\n",
      "\tGetHandleVerifier [0x00007FF6FD45A00D+3161901]\n",
      "\tGetHandleVerifier [0x00007FF6FD4AE060+3506048]\n",
      "\tGetHandleVerifier [0x00007FF6FD4A400D+3465005]\n",
      "\tGetHandleVerifier [0x00007FF6FD220EEB+830987]\n",
      "\t(No symbol) [0x00007FF6FD0D467F]\n",
      "\t(No symbol) [0x00007FF6FD0D09D4]\n",
      "\t(No symbol) [0x00007FF6FD0D0B6D]\n",
      "\t(No symbol) [0x00007FF6FD0C0149]\n",
      "\tBaseThreadInitThunk [0x00007FFB7AAA7374+20]\n",
      "\tRtlUserThreadStart [0x00007FFB7C37CC91+33]\n",
      "\n"
     ]
    },
    {
     "name": "stderr",
     "output_type": "stream",
     "text": [
      "Processing URLs:   2%|    | 556/29446 [1:01:24<53:09:28,  6.62s/it]"
     ]
    },
    {
     "name": "stdout",
     "output_type": "stream",
     "text": [
      "Error fetching URL: https://www.agoda.com/partners/partnersearch.aspx?hid=276108 - Message: no such element: Unable to locate element: {\"method\":\"css selector\",\"selector\":\"a[data-element-name='property-card-content']\"}\n",
      "  (Session info: chrome=130.0.6723.117); For documentation on this error, please visit: https://www.selenium.dev/documentation/webdriver/troubleshooting/errors#no-such-element-exception\n",
      "Stacktrace:\n",
      "\tGetHandleVerifier [0x00007FF6FD4338A5+3004357]\n",
      "\t(No symbol) [0x00007FF6FD0C9970]\n",
      "\t(No symbol) [0x00007FF6FCF7582A]\n",
      "\t(No symbol) [0x00007FF6FCFC5B8E]\n",
      "\t(No symbol) [0x00007FF6FCFC5E7C]\n",
      "\t(No symbol) [0x00007FF6FD00EC27]\n",
      "\t(No symbol) [0x00007FF6FCFEBC1F]\n",
      "\t(No symbol) [0x00007FF6FD00BA4C]\n",
      "\t(No symbol) [0x00007FF6FCFEB983]\n",
      "\t(No symbol) [0x00007FF6FCFB7628]\n",
      "\t(No symbol) [0x00007FF6FCFB8791]\n",
      "\tGetHandleVerifier [0x00007FF6FD45A00D+3161901]\n",
      "\tGetHandleVerifier [0x00007FF6FD4AE060+3506048]\n",
      "\tGetHandleVerifier [0x00007FF6FD4A400D+3465005]\n",
      "\tGetHandleVerifier [0x00007FF6FD220EEB+830987]\n",
      "\t(No symbol) [0x00007FF6FD0D467F]\n",
      "\t(No symbol) [0x00007FF6FD0D09D4]\n",
      "\t(No symbol) [0x00007FF6FD0D0B6D]\n",
      "\t(No symbol) [0x00007FF6FD0C0149]\n",
      "\tBaseThreadInitThunk [0x00007FFB7AAA7374+20]\n",
      "\tRtlUserThreadStart [0x00007FFB7C37CC91+33]\n",
      "\n"
     ]
    },
    {
     "name": "stderr",
     "output_type": "stream",
     "text": [
      "Processing URLs:   2%|    | 557/29446 [1:01:30<52:45:31,  6.57s/it]"
     ]
    },
    {
     "name": "stdout",
     "output_type": "stream",
     "text": [
      "Error fetching URL: https://www.agoda.com/partners/partnersearch.aspx?hid=276245 - Message: no such element: Unable to locate element: {\"method\":\"css selector\",\"selector\":\"a[data-element-name='property-card-content']\"}\n",
      "  (Session info: chrome=130.0.6723.117); For documentation on this error, please visit: https://www.selenium.dev/documentation/webdriver/troubleshooting/errors#no-such-element-exception\n",
      "Stacktrace:\n",
      "\tGetHandleVerifier [0x00007FF6FD4338A5+3004357]\n",
      "\t(No symbol) [0x00007FF6FD0C9970]\n",
      "\t(No symbol) [0x00007FF6FCF7582A]\n",
      "\t(No symbol) [0x00007FF6FCFC5B8E]\n",
      "\t(No symbol) [0x00007FF6FCFC5E7C]\n",
      "\t(No symbol) [0x00007FF6FD00EC27]\n",
      "\t(No symbol) [0x00007FF6FCFEBC1F]\n",
      "\t(No symbol) [0x00007FF6FD00BA4C]\n",
      "\t(No symbol) [0x00007FF6FCFEB983]\n",
      "\t(No symbol) [0x00007FF6FCFB7628]\n",
      "\t(No symbol) [0x00007FF6FCFB8791]\n",
      "\tGetHandleVerifier [0x00007FF6FD45A00D+3161901]\n",
      "\tGetHandleVerifier [0x00007FF6FD4AE060+3506048]\n",
      "\tGetHandleVerifier [0x00007FF6FD4A400D+3465005]\n",
      "\tGetHandleVerifier [0x00007FF6FD220EEB+830987]\n",
      "\t(No symbol) [0x00007FF6FD0D467F]\n",
      "\t(No symbol) [0x00007FF6FD0D09D4]\n",
      "\t(No symbol) [0x00007FF6FD0D0B6D]\n",
      "\t(No symbol) [0x00007FF6FD0C0149]\n",
      "\tBaseThreadInitThunk [0x00007FFB7AAA7374+20]\n",
      "\tRtlUserThreadStart [0x00007FFB7C37CC91+33]\n",
      "\n"
     ]
    },
    {
     "name": "stderr",
     "output_type": "stream",
     "text": [
      "Processing URLs:   2%|    | 560/29446 [1:01:50<53:14:17,  6.63s/it]"
     ]
    },
    {
     "name": "stdout",
     "output_type": "stream",
     "text": [
      "Error fetching URL: https://www.agoda.com/partners/partnersearch.aspx?hid=276659 - Message: no such element: Unable to locate element: {\"method\":\"css selector\",\"selector\":\"a[data-element-name='property-card-content']\"}\n",
      "  (Session info: chrome=130.0.6723.117); For documentation on this error, please visit: https://www.selenium.dev/documentation/webdriver/troubleshooting/errors#no-such-element-exception\n",
      "Stacktrace:\n",
      "\tGetHandleVerifier [0x00007FF6FD4338A5+3004357]\n",
      "\t(No symbol) [0x00007FF6FD0C9970]\n",
      "\t(No symbol) [0x00007FF6FCF7582A]\n",
      "\t(No symbol) [0x00007FF6FCFC5B8E]\n",
      "\t(No symbol) [0x00007FF6FCFC5E7C]\n",
      "\t(No symbol) [0x00007FF6FD00EC27]\n",
      "\t(No symbol) [0x00007FF6FCFEBC1F]\n",
      "\t(No symbol) [0x00007FF6FD00BA4C]\n",
      "\t(No symbol) [0x00007FF6FCFEB983]\n",
      "\t(No symbol) [0x00007FF6FCFB7628]\n",
      "\t(No symbol) [0x00007FF6FCFB8791]\n",
      "\tGetHandleVerifier [0x00007FF6FD45A00D+3161901]\n",
      "\tGetHandleVerifier [0x00007FF6FD4AE060+3506048]\n",
      "\tGetHandleVerifier [0x00007FF6FD4A400D+3465005]\n",
      "\tGetHandleVerifier [0x00007FF6FD220EEB+830987]\n",
      "\t(No symbol) [0x00007FF6FD0D467F]\n",
      "\t(No symbol) [0x00007FF6FD0D09D4]\n",
      "\t(No symbol) [0x00007FF6FD0D0B6D]\n",
      "\t(No symbol) [0x00007FF6FD0C0149]\n",
      "\tBaseThreadInitThunk [0x00007FFB7AAA7374+20]\n",
      "\tRtlUserThreadStart [0x00007FFB7C37CC91+33]\n",
      "\n"
     ]
    },
    {
     "name": "stderr",
     "output_type": "stream",
     "text": [
      "Processing URLs:   2%|    | 562/29446 [1:02:03<52:50:15,  6.59s/it]"
     ]
    },
    {
     "name": "stdout",
     "output_type": "stream",
     "text": [
      "Error fetching URL: https://www.agoda.com/partners/partnersearch.aspx?hid=276815 - Message: no such element: Unable to locate element: {\"method\":\"css selector\",\"selector\":\"a[data-element-name='property-card-content']\"}\n",
      "  (Session info: chrome=130.0.6723.117); For documentation on this error, please visit: https://www.selenium.dev/documentation/webdriver/troubleshooting/errors#no-such-element-exception\n",
      "Stacktrace:\n",
      "\tGetHandleVerifier [0x00007FF6FD4338A5+3004357]\n",
      "\t(No symbol) [0x00007FF6FD0C9970]\n",
      "\t(No symbol) [0x00007FF6FCF7582A]\n",
      "\t(No symbol) [0x00007FF6FCFC5B8E]\n",
      "\t(No symbol) [0x00007FF6FCFC5E7C]\n",
      "\t(No symbol) [0x00007FF6FD00EC27]\n",
      "\t(No symbol) [0x00007FF6FCFEBC1F]\n",
      "\t(No symbol) [0x00007FF6FD00BA4C]\n",
      "\t(No symbol) [0x00007FF6FCFEB983]\n",
      "\t(No symbol) [0x00007FF6FCFB7628]\n",
      "\t(No symbol) [0x00007FF6FCFB8791]\n",
      "\tGetHandleVerifier [0x00007FF6FD45A00D+3161901]\n",
      "\tGetHandleVerifier [0x00007FF6FD4AE060+3506048]\n",
      "\tGetHandleVerifier [0x00007FF6FD4A400D+3465005]\n",
      "\tGetHandleVerifier [0x00007FF6FD220EEB+830987]\n",
      "\t(No symbol) [0x00007FF6FD0D467F]\n",
      "\t(No symbol) [0x00007FF6FD0D09D4]\n",
      "\t(No symbol) [0x00007FF6FD0D0B6D]\n",
      "\t(No symbol) [0x00007FF6FD0C0149]\n",
      "\tBaseThreadInitThunk [0x00007FFB7AAA7374+20]\n",
      "\tRtlUserThreadStart [0x00007FFB7C37CC91+33]\n",
      "\n"
     ]
    },
    {
     "name": "stderr",
     "output_type": "stream",
     "text": [
      "Processing URLs:   2%|    | 564/29446 [1:02:16<52:21:10,  6.53s/it]"
     ]
    },
    {
     "name": "stdout",
     "output_type": "stream",
     "text": [
      "Error fetching URL: https://www.agoda.com/partners/partnersearch.aspx?hid=279353 - Message: no such element: Unable to locate element: {\"method\":\"css selector\",\"selector\":\"a[data-element-name='property-card-content']\"}\n",
      "  (Session info: chrome=130.0.6723.117); For documentation on this error, please visit: https://www.selenium.dev/documentation/webdriver/troubleshooting/errors#no-such-element-exception\n",
      "Stacktrace:\n",
      "\tGetHandleVerifier [0x00007FF6FD4338A5+3004357]\n",
      "\t(No symbol) [0x00007FF6FD0C9970]\n",
      "\t(No symbol) [0x00007FF6FCF7582A]\n",
      "\t(No symbol) [0x00007FF6FCFC5B8E]\n",
      "\t(No symbol) [0x00007FF6FCFC5E7C]\n",
      "\t(No symbol) [0x00007FF6FD00EC27]\n",
      "\t(No symbol) [0x00007FF6FCFEBC1F]\n",
      "\t(No symbol) [0x00007FF6FD00BA4C]\n",
      "\t(No symbol) [0x00007FF6FCFEB983]\n",
      "\t(No symbol) [0x00007FF6FCFB7628]\n",
      "\t(No symbol) [0x00007FF6FCFB8791]\n",
      "\tGetHandleVerifier [0x00007FF6FD45A00D+3161901]\n",
      "\tGetHandleVerifier [0x00007FF6FD4AE060+3506048]\n",
      "\tGetHandleVerifier [0x00007FF6FD4A400D+3465005]\n",
      "\tGetHandleVerifier [0x00007FF6FD220EEB+830987]\n",
      "\t(No symbol) [0x00007FF6FD0D467F]\n",
      "\t(No symbol) [0x00007FF6FD0D09D4]\n",
      "\t(No symbol) [0x00007FF6FD0D0B6D]\n",
      "\t(No symbol) [0x00007FF6FD0C0149]\n",
      "\tBaseThreadInitThunk [0x00007FFB7AAA7374+20]\n",
      "\tRtlUserThreadStart [0x00007FFB7C37CC91+33]\n",
      "\n"
     ]
    },
    {
     "name": "stderr",
     "output_type": "stream",
     "text": [
      "Processing URLs:   2%|    | 565/29446 [1:02:23<52:32:54,  6.55s/it]"
     ]
    },
    {
     "name": "stdout",
     "output_type": "stream",
     "text": [
      "Error fetching URL: https://www.agoda.com/partners/partnersearch.aspx?hid=279356 - Message: no such element: Unable to locate element: {\"method\":\"css selector\",\"selector\":\"a[data-element-name='property-card-content']\"}\n",
      "  (Session info: chrome=130.0.6723.117); For documentation on this error, please visit: https://www.selenium.dev/documentation/webdriver/troubleshooting/errors#no-such-element-exception\n",
      "Stacktrace:\n",
      "\tGetHandleVerifier [0x00007FF6FD4338A5+3004357]\n",
      "\t(No symbol) [0x00007FF6FD0C9970]\n",
      "\t(No symbol) [0x00007FF6FCF7582A]\n",
      "\t(No symbol) [0x00007FF6FCFC5B8E]\n",
      "\t(No symbol) [0x00007FF6FCFC5E7C]\n",
      "\t(No symbol) [0x00007FF6FD00EC27]\n",
      "\t(No symbol) [0x00007FF6FCFEBC1F]\n",
      "\t(No symbol) [0x00007FF6FD00BA4C]\n",
      "\t(No symbol) [0x00007FF6FCFEB983]\n",
      "\t(No symbol) [0x00007FF6FCFB7628]\n",
      "\t(No symbol) [0x00007FF6FCFB8791]\n",
      "\tGetHandleVerifier [0x00007FF6FD45A00D+3161901]\n",
      "\tGetHandleVerifier [0x00007FF6FD4AE060+3506048]\n",
      "\tGetHandleVerifier [0x00007FF6FD4A400D+3465005]\n",
      "\tGetHandleVerifier [0x00007FF6FD220EEB+830987]\n",
      "\t(No symbol) [0x00007FF6FD0D467F]\n",
      "\t(No symbol) [0x00007FF6FD0D09D4]\n",
      "\t(No symbol) [0x00007FF6FD0D0B6D]\n",
      "\t(No symbol) [0x00007FF6FD0C0149]\n",
      "\tBaseThreadInitThunk [0x00007FFB7AAA7374+20]\n",
      "\tRtlUserThreadStart [0x00007FFB7C37CC91+33]\n",
      "\n"
     ]
    },
    {
     "name": "stderr",
     "output_type": "stream",
     "text": [
      "Processing URLs:   2%|    | 568/29446 [1:02:43<52:38:41,  6.56s/it]"
     ]
    },
    {
     "name": "stdout",
     "output_type": "stream",
     "text": [
      "Error fetching URL: https://www.agoda.com/partners/partnersearch.aspx?hid=280378 - Message: no such element: Unable to locate element: {\"method\":\"css selector\",\"selector\":\"a[data-element-name='property-card-content']\"}\n",
      "  (Session info: chrome=130.0.6723.117); For documentation on this error, please visit: https://www.selenium.dev/documentation/webdriver/troubleshooting/errors#no-such-element-exception\n",
      "Stacktrace:\n",
      "\tGetHandleVerifier [0x00007FF6FD4338A5+3004357]\n",
      "\t(No symbol) [0x00007FF6FD0C9970]\n",
      "\t(No symbol) [0x00007FF6FCF7582A]\n",
      "\t(No symbol) [0x00007FF6FCFC5B8E]\n",
      "\t(No symbol) [0x00007FF6FCFC5E7C]\n",
      "\t(No symbol) [0x00007FF6FD00EC27]\n",
      "\t(No symbol) [0x00007FF6FCFEBC1F]\n",
      "\t(No symbol) [0x00007FF6FD00BA4C]\n",
      "\t(No symbol) [0x00007FF6FCFEB983]\n",
      "\t(No symbol) [0x00007FF6FCFB7628]\n",
      "\t(No symbol) [0x00007FF6FCFB8791]\n",
      "\tGetHandleVerifier [0x00007FF6FD45A00D+3161901]\n",
      "\tGetHandleVerifier [0x00007FF6FD4AE060+3506048]\n",
      "\tGetHandleVerifier [0x00007FF6FD4A400D+3465005]\n",
      "\tGetHandleVerifier [0x00007FF6FD220EEB+830987]\n",
      "\t(No symbol) [0x00007FF6FD0D467F]\n",
      "\t(No symbol) [0x00007FF6FD0D09D4]\n",
      "\t(No symbol) [0x00007FF6FD0D0B6D]\n",
      "\t(No symbol) [0x00007FF6FD0C0149]\n",
      "\tBaseThreadInitThunk [0x00007FFB7AAA7374+20]\n",
      "\tRtlUserThreadStart [0x00007FFB7C37CC91+33]\n",
      "\n"
     ]
    },
    {
     "name": "stderr",
     "output_type": "stream",
     "text": [
      "Processing URLs:   2%|    | 569/29446 [1:02:49<52:49:13,  6.58s/it]"
     ]
    },
    {
     "name": "stdout",
     "output_type": "stream",
     "text": [
      "Error fetching URL: https://www.agoda.com/partners/partnersearch.aspx?hid=280474 - Message: no such element: Unable to locate element: {\"method\":\"css selector\",\"selector\":\"a[data-element-name='property-card-content']\"}\n",
      "  (Session info: chrome=130.0.6723.117); For documentation on this error, please visit: https://www.selenium.dev/documentation/webdriver/troubleshooting/errors#no-such-element-exception\n",
      "Stacktrace:\n",
      "\tGetHandleVerifier [0x00007FF6FD4338A5+3004357]\n",
      "\t(No symbol) [0x00007FF6FD0C9970]\n",
      "\t(No symbol) [0x00007FF6FCF7582A]\n",
      "\t(No symbol) [0x00007FF6FCFC5B8E]\n",
      "\t(No symbol) [0x00007FF6FCFC5E7C]\n",
      "\t(No symbol) [0x00007FF6FD00EC27]\n",
      "\t(No symbol) [0x00007FF6FCFEBC1F]\n",
      "\t(No symbol) [0x00007FF6FD00BA4C]\n",
      "\t(No symbol) [0x00007FF6FCFEB983]\n",
      "\t(No symbol) [0x00007FF6FCFB7628]\n",
      "\t(No symbol) [0x00007FF6FCFB8791]\n",
      "\tGetHandleVerifier [0x00007FF6FD45A00D+3161901]\n",
      "\tGetHandleVerifier [0x00007FF6FD4AE060+3506048]\n",
      "\tGetHandleVerifier [0x00007FF6FD4A400D+3465005]\n",
      "\tGetHandleVerifier [0x00007FF6FD220EEB+830987]\n",
      "\t(No symbol) [0x00007FF6FD0D467F]\n",
      "\t(No symbol) [0x00007FF6FD0D09D4]\n",
      "\t(No symbol) [0x00007FF6FD0D0B6D]\n",
      "\t(No symbol) [0x00007FF6FD0C0149]\n",
      "\tBaseThreadInitThunk [0x00007FFB7AAA7374+20]\n",
      "\tRtlUserThreadStart [0x00007FFB7C37CC91+33]\n",
      "\n"
     ]
    },
    {
     "name": "stderr",
     "output_type": "stream",
     "text": [
      "Processing URLs:   2%|    | 570/29446 [1:02:56<52:20:06,  6.52s/it]"
     ]
    },
    {
     "name": "stdout",
     "output_type": "stream",
     "text": [
      "Error fetching URL: https://www.agoda.com/partners/partnersearch.aspx?hid=280516 - Message: no such element: Unable to locate element: {\"method\":\"css selector\",\"selector\":\"a[data-element-name='property-card-content']\"}\n",
      "  (Session info: chrome=130.0.6723.117); For documentation on this error, please visit: https://www.selenium.dev/documentation/webdriver/troubleshooting/errors#no-such-element-exception\n",
      "Stacktrace:\n",
      "\tGetHandleVerifier [0x00007FF6FD4338A5+3004357]\n",
      "\t(No symbol) [0x00007FF6FD0C9970]\n",
      "\t(No symbol) [0x00007FF6FCF7582A]\n",
      "\t(No symbol) [0x00007FF6FCFC5B8E]\n",
      "\t(No symbol) [0x00007FF6FCFC5E7C]\n",
      "\t(No symbol) [0x00007FF6FD00EC27]\n",
      "\t(No symbol) [0x00007FF6FCFEBC1F]\n",
      "\t(No symbol) [0x00007FF6FD00BA4C]\n",
      "\t(No symbol) [0x00007FF6FCFEB983]\n",
      "\t(No symbol) [0x00007FF6FCFB7628]\n",
      "\t(No symbol) [0x00007FF6FCFB8791]\n",
      "\tGetHandleVerifier [0x00007FF6FD45A00D+3161901]\n",
      "\tGetHandleVerifier [0x00007FF6FD4AE060+3506048]\n",
      "\tGetHandleVerifier [0x00007FF6FD4A400D+3465005]\n",
      "\tGetHandleVerifier [0x00007FF6FD220EEB+830987]\n",
      "\t(No symbol) [0x00007FF6FD0D467F]\n",
      "\t(No symbol) [0x00007FF6FD0D09D4]\n",
      "\t(No symbol) [0x00007FF6FD0D0B6D]\n",
      "\t(No symbol) [0x00007FF6FD0C0149]\n",
      "\tBaseThreadInitThunk [0x00007FFB7AAA7374+20]\n",
      "\tRtlUserThreadStart [0x00007FFB7C37CC91+33]\n",
      "\n"
     ]
    },
    {
     "name": "stderr",
     "output_type": "stream",
     "text": [
      "Processing URLs:   2%|    | 573/29446 [1:03:15<51:57:10,  6.48s/it]"
     ]
    },
    {
     "name": "stdout",
     "output_type": "stream",
     "text": [
      "Error fetching URL: https://www.agoda.com/partners/partnersearch.aspx?hid=280586 - Message: no such element: Unable to locate element: {\"method\":\"css selector\",\"selector\":\"a[data-element-name='property-card-content']\"}\n",
      "  (Session info: chrome=130.0.6723.117); For documentation on this error, please visit: https://www.selenium.dev/documentation/webdriver/troubleshooting/errors#no-such-element-exception\n",
      "Stacktrace:\n",
      "\tGetHandleVerifier [0x00007FF6FD4338A5+3004357]\n",
      "\t(No symbol) [0x00007FF6FD0C9970]\n",
      "\t(No symbol) [0x00007FF6FCF7582A]\n",
      "\t(No symbol) [0x00007FF6FCFC5B8E]\n",
      "\t(No symbol) [0x00007FF6FCFC5E7C]\n",
      "\t(No symbol) [0x00007FF6FD00EC27]\n",
      "\t(No symbol) [0x00007FF6FCFEBC1F]\n",
      "\t(No symbol) [0x00007FF6FD00BA4C]\n",
      "\t(No symbol) [0x00007FF6FCFEB983]\n",
      "\t(No symbol) [0x00007FF6FCFB7628]\n",
      "\t(No symbol) [0x00007FF6FCFB8791]\n",
      "\tGetHandleVerifier [0x00007FF6FD45A00D+3161901]\n",
      "\tGetHandleVerifier [0x00007FF6FD4AE060+3506048]\n",
      "\tGetHandleVerifier [0x00007FF6FD4A400D+3465005]\n",
      "\tGetHandleVerifier [0x00007FF6FD220EEB+830987]\n",
      "\t(No symbol) [0x00007FF6FD0D467F]\n",
      "\t(No symbol) [0x00007FF6FD0D09D4]\n",
      "\t(No symbol) [0x00007FF6FD0D0B6D]\n",
      "\t(No symbol) [0x00007FF6FD0C0149]\n",
      "\tBaseThreadInitThunk [0x00007FFB7AAA7374+20]\n",
      "\tRtlUserThreadStart [0x00007FFB7C37CC91+33]\n",
      "\n"
     ]
    },
    {
     "name": "stderr",
     "output_type": "stream",
     "text": [
      "Processing URLs:   2%|    | 574/29446 [1:03:21<51:33:30,  6.43s/it]"
     ]
    },
    {
     "name": "stdout",
     "output_type": "stream",
     "text": [
      "Error fetching URL: https://www.agoda.com/partners/partnersearch.aspx?hid=280618 - Message: no such element: Unable to locate element: {\"method\":\"css selector\",\"selector\":\"a[data-element-name='property-card-content']\"}\n",
      "  (Session info: chrome=130.0.6723.117); For documentation on this error, please visit: https://www.selenium.dev/documentation/webdriver/troubleshooting/errors#no-such-element-exception\n",
      "Stacktrace:\n",
      "\tGetHandleVerifier [0x00007FF6FD4338A5+3004357]\n",
      "\t(No symbol) [0x00007FF6FD0C9970]\n",
      "\t(No symbol) [0x00007FF6FCF7582A]\n",
      "\t(No symbol) [0x00007FF6FCFC5B8E]\n",
      "\t(No symbol) [0x00007FF6FCFC5E7C]\n",
      "\t(No symbol) [0x00007FF6FD00EC27]\n",
      "\t(No symbol) [0x00007FF6FCFEBC1F]\n",
      "\t(No symbol) [0x00007FF6FD00BA4C]\n",
      "\t(No symbol) [0x00007FF6FCFEB983]\n",
      "\t(No symbol) [0x00007FF6FCFB7628]\n",
      "\t(No symbol) [0x00007FF6FCFB8791]\n",
      "\tGetHandleVerifier [0x00007FF6FD45A00D+3161901]\n",
      "\tGetHandleVerifier [0x00007FF6FD4AE060+3506048]\n",
      "\tGetHandleVerifier [0x00007FF6FD4A400D+3465005]\n",
      "\tGetHandleVerifier [0x00007FF6FD220EEB+830987]\n",
      "\t(No symbol) [0x00007FF6FD0D467F]\n",
      "\t(No symbol) [0x00007FF6FD0D09D4]\n",
      "\t(No symbol) [0x00007FF6FD0D0B6D]\n",
      "\t(No symbol) [0x00007FF6FD0C0149]\n",
      "\tBaseThreadInitThunk [0x00007FFB7AAA7374+20]\n",
      "\tRtlUserThreadStart [0x00007FFB7C37CC91+33]\n",
      "\n"
     ]
    },
    {
     "name": "stderr",
     "output_type": "stream",
     "text": [
      "Processing URLs:   2%|    | 575/29446 [1:03:28<51:21:29,  6.40s/it]"
     ]
    },
    {
     "name": "stdout",
     "output_type": "stream",
     "text": [
      "Error fetching URL: https://www.agoda.com/partners/partnersearch.aspx?hid=280768 - Message: no such element: Unable to locate element: {\"method\":\"css selector\",\"selector\":\"a[data-element-name='property-card-content']\"}\n",
      "  (Session info: chrome=130.0.6723.117); For documentation on this error, please visit: https://www.selenium.dev/documentation/webdriver/troubleshooting/errors#no-such-element-exception\n",
      "Stacktrace:\n",
      "\tGetHandleVerifier [0x00007FF6FD4338A5+3004357]\n",
      "\t(No symbol) [0x00007FF6FD0C9970]\n",
      "\t(No symbol) [0x00007FF6FCF7582A]\n",
      "\t(No symbol) [0x00007FF6FCFC5B8E]\n",
      "\t(No symbol) [0x00007FF6FCFC5E7C]\n",
      "\t(No symbol) [0x00007FF6FD00EC27]\n",
      "\t(No symbol) [0x00007FF6FCFEBC1F]\n",
      "\t(No symbol) [0x00007FF6FD00BA4C]\n",
      "\t(No symbol) [0x00007FF6FCFEB983]\n",
      "\t(No symbol) [0x00007FF6FCFB7628]\n",
      "\t(No symbol) [0x00007FF6FCFB8791]\n",
      "\tGetHandleVerifier [0x00007FF6FD45A00D+3161901]\n",
      "\tGetHandleVerifier [0x00007FF6FD4AE060+3506048]\n",
      "\tGetHandleVerifier [0x00007FF6FD4A400D+3465005]\n",
      "\tGetHandleVerifier [0x00007FF6FD220EEB+830987]\n",
      "\t(No symbol) [0x00007FF6FD0D467F]\n",
      "\t(No symbol) [0x00007FF6FD0D09D4]\n",
      "\t(No symbol) [0x00007FF6FD0D0B6D]\n",
      "\t(No symbol) [0x00007FF6FD0C0149]\n",
      "\tBaseThreadInitThunk [0x00007FFB7AAA7374+20]\n",
      "\tRtlUserThreadStart [0x00007FFB7C37CC91+33]\n",
      "\n"
     ]
    },
    {
     "name": "stderr",
     "output_type": "stream",
     "text": [
      "Processing URLs:   2%|    | 576/29446 [1:03:34<52:03:44,  6.49s/it]"
     ]
    },
    {
     "name": "stdout",
     "output_type": "stream",
     "text": [
      "Error fetching URL: https://www.agoda.com/partners/partnersearch.aspx?hid=280788 - Message: no such element: Unable to locate element: {\"method\":\"css selector\",\"selector\":\"a[data-element-name='property-card-content']\"}\n",
      "  (Session info: chrome=130.0.6723.117); For documentation on this error, please visit: https://www.selenium.dev/documentation/webdriver/troubleshooting/errors#no-such-element-exception\n",
      "Stacktrace:\n",
      "\tGetHandleVerifier [0x00007FF6FD4338A5+3004357]\n",
      "\t(No symbol) [0x00007FF6FD0C9970]\n",
      "\t(No symbol) [0x00007FF6FCF7582A]\n",
      "\t(No symbol) [0x00007FF6FCFC5B8E]\n",
      "\t(No symbol) [0x00007FF6FCFC5E7C]\n",
      "\t(No symbol) [0x00007FF6FD00EC27]\n",
      "\t(No symbol) [0x00007FF6FCFEBC1F]\n",
      "\t(No symbol) [0x00007FF6FD00BA4C]\n",
      "\t(No symbol) [0x00007FF6FCFEB983]\n",
      "\t(No symbol) [0x00007FF6FCFB7628]\n",
      "\t(No symbol) [0x00007FF6FCFB8791]\n",
      "\tGetHandleVerifier [0x00007FF6FD45A00D+3161901]\n",
      "\tGetHandleVerifier [0x00007FF6FD4AE060+3506048]\n",
      "\tGetHandleVerifier [0x00007FF6FD4A400D+3465005]\n",
      "\tGetHandleVerifier [0x00007FF6FD220EEB+830987]\n",
      "\t(No symbol) [0x00007FF6FD0D467F]\n",
      "\t(No symbol) [0x00007FF6FD0D09D4]\n",
      "\t(No symbol) [0x00007FF6FD0D0B6D]\n",
      "\t(No symbol) [0x00007FF6FD0C0149]\n",
      "\tBaseThreadInitThunk [0x00007FFB7AAA7374+20]\n",
      "\tRtlUserThreadStart [0x00007FFB7C37CC91+33]\n",
      "\n"
     ]
    },
    {
     "name": "stderr",
     "output_type": "stream",
     "text": [
      "Processing URLs:   2%|    | 578/29446 [1:03:48<53:53:36,  6.72s/it]"
     ]
    },
    {
     "name": "stdout",
     "output_type": "stream",
     "text": [
      "Error fetching URL: https://www.agoda.com/partners/partnersearch.aspx?hid=280938 - Message: no such element: Unable to locate element: {\"method\":\"css selector\",\"selector\":\"a[data-element-name='property-card-content']\"}\n",
      "  (Session info: chrome=130.0.6723.117); For documentation on this error, please visit: https://www.selenium.dev/documentation/webdriver/troubleshooting/errors#no-such-element-exception\n",
      "Stacktrace:\n",
      "\tGetHandleVerifier [0x00007FF6FD4338A5+3004357]\n",
      "\t(No symbol) [0x00007FF6FD0C9970]\n",
      "\t(No symbol) [0x00007FF6FCF7582A]\n",
      "\t(No symbol) [0x00007FF6FCFC5B8E]\n",
      "\t(No symbol) [0x00007FF6FCFC5E7C]\n",
      "\t(No symbol) [0x00007FF6FD00EC27]\n",
      "\t(No symbol) [0x00007FF6FCFEBC1F]\n",
      "\t(No symbol) [0x00007FF6FD00BA4C]\n",
      "\t(No symbol) [0x00007FF6FCFEB983]\n",
      "\t(No symbol) [0x00007FF6FCFB7628]\n",
      "\t(No symbol) [0x00007FF6FCFB8791]\n",
      "\tGetHandleVerifier [0x00007FF6FD45A00D+3161901]\n",
      "\tGetHandleVerifier [0x00007FF6FD4AE060+3506048]\n",
      "\tGetHandleVerifier [0x00007FF6FD4A400D+3465005]\n",
      "\tGetHandleVerifier [0x00007FF6FD220EEB+830987]\n",
      "\t(No symbol) [0x00007FF6FD0D467F]\n",
      "\t(No symbol) [0x00007FF6FD0D09D4]\n",
      "\t(No symbol) [0x00007FF6FD0D0B6D]\n",
      "\t(No symbol) [0x00007FF6FD0C0149]\n",
      "\tBaseThreadInitThunk [0x00007FFB7AAA7374+20]\n",
      "\tRtlUserThreadStart [0x00007FFB7C37CC91+33]\n",
      "\n"
     ]
    },
    {
     "name": "stderr",
     "output_type": "stream",
     "text": [
      "Processing URLs:   2%|    | 579/29446 [1:03:55<53:25:09,  6.66s/it]"
     ]
    },
    {
     "name": "stdout",
     "output_type": "stream",
     "text": [
      "Error fetching URL: https://www.agoda.com/partners/partnersearch.aspx?hid=280998 - Message: no such element: Unable to locate element: {\"method\":\"css selector\",\"selector\":\"a[data-element-name='property-card-content']\"}\n",
      "  (Session info: chrome=130.0.6723.117); For documentation on this error, please visit: https://www.selenium.dev/documentation/webdriver/troubleshooting/errors#no-such-element-exception\n",
      "Stacktrace:\n",
      "\tGetHandleVerifier [0x00007FF6FD4338A5+3004357]\n",
      "\t(No symbol) [0x00007FF6FD0C9970]\n",
      "\t(No symbol) [0x00007FF6FCF7582A]\n",
      "\t(No symbol) [0x00007FF6FCFC5B8E]\n",
      "\t(No symbol) [0x00007FF6FCFC5E7C]\n",
      "\t(No symbol) [0x00007FF6FD00EC27]\n",
      "\t(No symbol) [0x00007FF6FCFEBC1F]\n",
      "\t(No symbol) [0x00007FF6FD00BA4C]\n",
      "\t(No symbol) [0x00007FF6FCFEB983]\n",
      "\t(No symbol) [0x00007FF6FCFB7628]\n",
      "\t(No symbol) [0x00007FF6FCFB8791]\n",
      "\tGetHandleVerifier [0x00007FF6FD45A00D+3161901]\n",
      "\tGetHandleVerifier [0x00007FF6FD4AE060+3506048]\n",
      "\tGetHandleVerifier [0x00007FF6FD4A400D+3465005]\n",
      "\tGetHandleVerifier [0x00007FF6FD220EEB+830987]\n",
      "\t(No symbol) [0x00007FF6FD0D467F]\n",
      "\t(No symbol) [0x00007FF6FD0D09D4]\n",
      "\t(No symbol) [0x00007FF6FD0D0B6D]\n",
      "\t(No symbol) [0x00007FF6FD0C0149]\n",
      "\tBaseThreadInitThunk [0x00007FFB7AAA7374+20]\n",
      "\tRtlUserThreadStart [0x00007FFB7C37CC91+33]\n",
      "\n"
     ]
    },
    {
     "name": "stderr",
     "output_type": "stream",
     "text": [
      "Processing URLs:   2%|    | 580/29446 [1:04:01<52:45:33,  6.58s/it]"
     ]
    },
    {
     "name": "stdout",
     "output_type": "stream",
     "text": [
      "Error fetching URL: https://www.agoda.com/partners/partnersearch.aspx?hid=281049 - Message: no such element: Unable to locate element: {\"method\":\"css selector\",\"selector\":\"a[data-element-name='property-card-content']\"}\n",
      "  (Session info: chrome=130.0.6723.117); For documentation on this error, please visit: https://www.selenium.dev/documentation/webdriver/troubleshooting/errors#no-such-element-exception\n",
      "Stacktrace:\n",
      "\tGetHandleVerifier [0x00007FF6FD4338A5+3004357]\n",
      "\t(No symbol) [0x00007FF6FD0C9970]\n",
      "\t(No symbol) [0x00007FF6FCF7582A]\n",
      "\t(No symbol) [0x00007FF6FCFC5B8E]\n",
      "\t(No symbol) [0x00007FF6FCFC5E7C]\n",
      "\t(No symbol) [0x00007FF6FD00EC27]\n",
      "\t(No symbol) [0x00007FF6FCFEBC1F]\n",
      "\t(No symbol) [0x00007FF6FD00BA4C]\n",
      "\t(No symbol) [0x00007FF6FCFEB983]\n",
      "\t(No symbol) [0x00007FF6FCFB7628]\n",
      "\t(No symbol) [0x00007FF6FCFB8791]\n",
      "\tGetHandleVerifier [0x00007FF6FD45A00D+3161901]\n",
      "\tGetHandleVerifier [0x00007FF6FD4AE060+3506048]\n",
      "\tGetHandleVerifier [0x00007FF6FD4A400D+3465005]\n",
      "\tGetHandleVerifier [0x00007FF6FD220EEB+830987]\n",
      "\t(No symbol) [0x00007FF6FD0D467F]\n",
      "\t(No symbol) [0x00007FF6FD0D09D4]\n",
      "\t(No symbol) [0x00007FF6FD0D0B6D]\n",
      "\t(No symbol) [0x00007FF6FD0C0149]\n",
      "\tBaseThreadInitThunk [0x00007FFB7AAA7374+20]\n",
      "\tRtlUserThreadStart [0x00007FFB7C37CC91+33]\n",
      "\n"
     ]
    },
    {
     "name": "stderr",
     "output_type": "stream",
     "text": [
      "Processing URLs:   2%|    | 581/29446 [1:04:08<52:55:11,  6.60s/it]"
     ]
    },
    {
     "name": "stdout",
     "output_type": "stream",
     "text": [
      "Error fetching URL: https://www.agoda.com/partners/partnersearch.aspx?hid=281223 - Message: no such element: Unable to locate element: {\"method\":\"css selector\",\"selector\":\"a[data-element-name='property-card-content']\"}\n",
      "  (Session info: chrome=130.0.6723.117); For documentation on this error, please visit: https://www.selenium.dev/documentation/webdriver/troubleshooting/errors#no-such-element-exception\n",
      "Stacktrace:\n",
      "\tGetHandleVerifier [0x00007FF6FD4338A5+3004357]\n",
      "\t(No symbol) [0x00007FF6FD0C9970]\n",
      "\t(No symbol) [0x00007FF6FCF7582A]\n",
      "\t(No symbol) [0x00007FF6FCFC5B8E]\n",
      "\t(No symbol) [0x00007FF6FCFC5E7C]\n",
      "\t(No symbol) [0x00007FF6FD00EC27]\n",
      "\t(No symbol) [0x00007FF6FCFEBC1F]\n",
      "\t(No symbol) [0x00007FF6FD00BA4C]\n",
      "\t(No symbol) [0x00007FF6FCFEB983]\n",
      "\t(No symbol) [0x00007FF6FCFB7628]\n",
      "\t(No symbol) [0x00007FF6FCFB8791]\n",
      "\tGetHandleVerifier [0x00007FF6FD45A00D+3161901]\n",
      "\tGetHandleVerifier [0x00007FF6FD4AE060+3506048]\n",
      "\tGetHandleVerifier [0x00007FF6FD4A400D+3465005]\n",
      "\tGetHandleVerifier [0x00007FF6FD220EEB+830987]\n",
      "\t(No symbol) [0x00007FF6FD0D467F]\n",
      "\t(No symbol) [0x00007FF6FD0D09D4]\n",
      "\t(No symbol) [0x00007FF6FD0D0B6D]\n",
      "\t(No symbol) [0x00007FF6FD0C0149]\n",
      "\tBaseThreadInitThunk [0x00007FFB7AAA7374+20]\n",
      "\tRtlUserThreadStart [0x00007FFB7C37CC91+33]\n",
      "\n"
     ]
    },
    {
     "name": "stderr",
     "output_type": "stream",
     "text": [
      "Processing URLs:   2%|    | 582/29446 [1:04:14<52:14:57,  6.52s/it]"
     ]
    },
    {
     "name": "stdout",
     "output_type": "stream",
     "text": [
      "Error fetching URL: https://www.agoda.com/partners/partnersearch.aspx?hid=281340 - Message: no such element: Unable to locate element: {\"method\":\"css selector\",\"selector\":\"a[data-element-name='property-card-content']\"}\n",
      "  (Session info: chrome=130.0.6723.117); For documentation on this error, please visit: https://www.selenium.dev/documentation/webdriver/troubleshooting/errors#no-such-element-exception\n",
      "Stacktrace:\n",
      "\tGetHandleVerifier [0x00007FF6FD4338A5+3004357]\n",
      "\t(No symbol) [0x00007FF6FD0C9970]\n",
      "\t(No symbol) [0x00007FF6FCF7582A]\n",
      "\t(No symbol) [0x00007FF6FCFC5B8E]\n",
      "\t(No symbol) [0x00007FF6FCFC5E7C]\n",
      "\t(No symbol) [0x00007FF6FD00EC27]\n",
      "\t(No symbol) [0x00007FF6FCFEBC1F]\n",
      "\t(No symbol) [0x00007FF6FD00BA4C]\n",
      "\t(No symbol) [0x00007FF6FCFEB983]\n",
      "\t(No symbol) [0x00007FF6FCFB7628]\n",
      "\t(No symbol) [0x00007FF6FCFB8791]\n",
      "\tGetHandleVerifier [0x00007FF6FD45A00D+3161901]\n",
      "\tGetHandleVerifier [0x00007FF6FD4AE060+3506048]\n",
      "\tGetHandleVerifier [0x00007FF6FD4A400D+3465005]\n",
      "\tGetHandleVerifier [0x00007FF6FD220EEB+830987]\n",
      "\t(No symbol) [0x00007FF6FD0D467F]\n",
      "\t(No symbol) [0x00007FF6FD0D09D4]\n",
      "\t(No symbol) [0x00007FF6FD0D0B6D]\n",
      "\t(No symbol) [0x00007FF6FD0C0149]\n",
      "\tBaseThreadInitThunk [0x00007FFB7AAA7374+20]\n",
      "\tRtlUserThreadStart [0x00007FFB7C37CC91+33]\n",
      "\n"
     ]
    },
    {
     "name": "stderr",
     "output_type": "stream",
     "text": [
      "Processing URLs:   2%|    | 583/29446 [1:04:21<52:21:53,  6.53s/it]"
     ]
    },
    {
     "name": "stdout",
     "output_type": "stream",
     "text": [
      "Error fetching URL: https://www.agoda.com/partners/partnersearch.aspx?hid=281358 - Message: no such element: Unable to locate element: {\"method\":\"css selector\",\"selector\":\"a[data-element-name='property-card-content']\"}\n",
      "  (Session info: chrome=130.0.6723.117); For documentation on this error, please visit: https://www.selenium.dev/documentation/webdriver/troubleshooting/errors#no-such-element-exception\n",
      "Stacktrace:\n",
      "\tGetHandleVerifier [0x00007FF6FD4338A5+3004357]\n",
      "\t(No symbol) [0x00007FF6FD0C9970]\n",
      "\t(No symbol) [0x00007FF6FCF7582A]\n",
      "\t(No symbol) [0x00007FF6FCFC5B8E]\n",
      "\t(No symbol) [0x00007FF6FCFC5E7C]\n",
      "\t(No symbol) [0x00007FF6FD00EC27]\n",
      "\t(No symbol) [0x00007FF6FCFEBC1F]\n",
      "\t(No symbol) [0x00007FF6FD00BA4C]\n",
      "\t(No symbol) [0x00007FF6FCFEB983]\n",
      "\t(No symbol) [0x00007FF6FCFB7628]\n",
      "\t(No symbol) [0x00007FF6FCFB8791]\n",
      "\tGetHandleVerifier [0x00007FF6FD45A00D+3161901]\n",
      "\tGetHandleVerifier [0x00007FF6FD4AE060+3506048]\n",
      "\tGetHandleVerifier [0x00007FF6FD4A400D+3465005]\n",
      "\tGetHandleVerifier [0x00007FF6FD220EEB+830987]\n",
      "\t(No symbol) [0x00007FF6FD0D467F]\n",
      "\t(No symbol) [0x00007FF6FD0D09D4]\n",
      "\t(No symbol) [0x00007FF6FD0D0B6D]\n",
      "\t(No symbol) [0x00007FF6FD0C0149]\n",
      "\tBaseThreadInitThunk [0x00007FFB7AAA7374+20]\n",
      "\tRtlUserThreadStart [0x00007FFB7C37CC91+33]\n",
      "\n"
     ]
    },
    {
     "name": "stderr",
     "output_type": "stream",
     "text": [
      "Processing URLs:   2%|    | 584/29446 [1:04:27<52:13:28,  6.51s/it]"
     ]
    },
    {
     "name": "stdout",
     "output_type": "stream",
     "text": [
      "Error fetching URL: https://www.agoda.com/partners/partnersearch.aspx?hid=281367 - Message: no such element: Unable to locate element: {\"method\":\"css selector\",\"selector\":\"a[data-element-name='property-card-content']\"}\n",
      "  (Session info: chrome=130.0.6723.117); For documentation on this error, please visit: https://www.selenium.dev/documentation/webdriver/troubleshooting/errors#no-such-element-exception\n",
      "Stacktrace:\n",
      "\tGetHandleVerifier [0x00007FF6FD4338A5+3004357]\n",
      "\t(No symbol) [0x00007FF6FD0C9970]\n",
      "\t(No symbol) [0x00007FF6FCF7582A]\n",
      "\t(No symbol) [0x00007FF6FCFC5B8E]\n",
      "\t(No symbol) [0x00007FF6FCFC5E7C]\n",
      "\t(No symbol) [0x00007FF6FD00EC27]\n",
      "\t(No symbol) [0x00007FF6FCFEBC1F]\n",
      "\t(No symbol) [0x00007FF6FD00BA4C]\n",
      "\t(No symbol) [0x00007FF6FCFEB983]\n",
      "\t(No symbol) [0x00007FF6FCFB7628]\n",
      "\t(No symbol) [0x00007FF6FCFB8791]\n",
      "\tGetHandleVerifier [0x00007FF6FD45A00D+3161901]\n",
      "\tGetHandleVerifier [0x00007FF6FD4AE060+3506048]\n",
      "\tGetHandleVerifier [0x00007FF6FD4A400D+3465005]\n",
      "\tGetHandleVerifier [0x00007FF6FD220EEB+830987]\n",
      "\t(No symbol) [0x00007FF6FD0D467F]\n",
      "\t(No symbol) [0x00007FF6FD0D09D4]\n",
      "\t(No symbol) [0x00007FF6FD0D0B6D]\n",
      "\t(No symbol) [0x00007FF6FD0C0149]\n",
      "\tBaseThreadInitThunk [0x00007FFB7AAA7374+20]\n",
      "\tRtlUserThreadStart [0x00007FFB7C37CC91+33]\n",
      "\n"
     ]
    },
    {
     "name": "stderr",
     "output_type": "stream",
     "text": [
      "Processing URLs:   2%|    | 585/29446 [1:04:34<52:23:51,  6.54s/it]"
     ]
    },
    {
     "name": "stdout",
     "output_type": "stream",
     "text": [
      "Error fetching URL: https://www.agoda.com/partners/partnersearch.aspx?hid=281378 - Message: no such element: Unable to locate element: {\"method\":\"css selector\",\"selector\":\"a[data-element-name='property-card-content']\"}\n",
      "  (Session info: chrome=130.0.6723.117); For documentation on this error, please visit: https://www.selenium.dev/documentation/webdriver/troubleshooting/errors#no-such-element-exception\n",
      "Stacktrace:\n",
      "\tGetHandleVerifier [0x00007FF6FD4338A5+3004357]\n",
      "\t(No symbol) [0x00007FF6FD0C9970]\n",
      "\t(No symbol) [0x00007FF6FCF7582A]\n",
      "\t(No symbol) [0x00007FF6FCFC5B8E]\n",
      "\t(No symbol) [0x00007FF6FCFC5E7C]\n",
      "\t(No symbol) [0x00007FF6FD00EC27]\n",
      "\t(No symbol) [0x00007FF6FCFEBC1F]\n",
      "\t(No symbol) [0x00007FF6FD00BA4C]\n",
      "\t(No symbol) [0x00007FF6FCFEB983]\n",
      "\t(No symbol) [0x00007FF6FCFB7628]\n",
      "\t(No symbol) [0x00007FF6FCFB8791]\n",
      "\tGetHandleVerifier [0x00007FF6FD45A00D+3161901]\n",
      "\tGetHandleVerifier [0x00007FF6FD4AE060+3506048]\n",
      "\tGetHandleVerifier [0x00007FF6FD4A400D+3465005]\n",
      "\tGetHandleVerifier [0x00007FF6FD220EEB+830987]\n",
      "\t(No symbol) [0x00007FF6FD0D467F]\n",
      "\t(No symbol) [0x00007FF6FD0D09D4]\n",
      "\t(No symbol) [0x00007FF6FD0D0B6D]\n",
      "\t(No symbol) [0x00007FF6FD0C0149]\n",
      "\tBaseThreadInitThunk [0x00007FFB7AAA7374+20]\n",
      "\tRtlUserThreadStart [0x00007FFB7C37CC91+33]\n",
      "\n"
     ]
    },
    {
     "name": "stderr",
     "output_type": "stream",
     "text": [
      "Processing URLs:   2%|    | 586/29446 [1:04:40<52:36:26,  6.56s/it]"
     ]
    },
    {
     "name": "stdout",
     "output_type": "stream",
     "text": [
      "Error fetching URL: https://www.agoda.com/partners/partnersearch.aspx?hid=281497 - Message: no such element: Unable to locate element: {\"method\":\"css selector\",\"selector\":\"a[data-element-name='property-card-content']\"}\n",
      "  (Session info: chrome=130.0.6723.117); For documentation on this error, please visit: https://www.selenium.dev/documentation/webdriver/troubleshooting/errors#no-such-element-exception\n",
      "Stacktrace:\n",
      "\tGetHandleVerifier [0x00007FF6FD4338A5+3004357]\n",
      "\t(No symbol) [0x00007FF6FD0C9970]\n",
      "\t(No symbol) [0x00007FF6FCF7582A]\n",
      "\t(No symbol) [0x00007FF6FCFC5B8E]\n",
      "\t(No symbol) [0x00007FF6FCFC5E7C]\n",
      "\t(No symbol) [0x00007FF6FD00EC27]\n",
      "\t(No symbol) [0x00007FF6FCFEBC1F]\n",
      "\t(No symbol) [0x00007FF6FD00BA4C]\n",
      "\t(No symbol) [0x00007FF6FCFEB983]\n",
      "\t(No symbol) [0x00007FF6FCFB7628]\n",
      "\t(No symbol) [0x00007FF6FCFB8791]\n",
      "\tGetHandleVerifier [0x00007FF6FD45A00D+3161901]\n",
      "\tGetHandleVerifier [0x00007FF6FD4AE060+3506048]\n",
      "\tGetHandleVerifier [0x00007FF6FD4A400D+3465005]\n",
      "\tGetHandleVerifier [0x00007FF6FD220EEB+830987]\n",
      "\t(No symbol) [0x00007FF6FD0D467F]\n",
      "\t(No symbol) [0x00007FF6FD0D09D4]\n",
      "\t(No symbol) [0x00007FF6FD0D0B6D]\n",
      "\t(No symbol) [0x00007FF6FD0C0149]\n",
      "\tBaseThreadInitThunk [0x00007FFB7AAA7374+20]\n",
      "\tRtlUserThreadStart [0x00007FFB7C37CC91+33]\n",
      "\n"
     ]
    },
    {
     "name": "stderr",
     "output_type": "stream",
     "text": [
      "Processing URLs:   2%|    | 587/29446 [1:04:47<52:12:37,  6.51s/it]"
     ]
    },
    {
     "name": "stdout",
     "output_type": "stream",
     "text": [
      "Error fetching URL: https://www.agoda.com/partners/partnersearch.aspx?hid=281523 - Message: no such element: Unable to locate element: {\"method\":\"css selector\",\"selector\":\"a[data-element-name='property-card-content']\"}\n",
      "  (Session info: chrome=130.0.6723.117); For documentation on this error, please visit: https://www.selenium.dev/documentation/webdriver/troubleshooting/errors#no-such-element-exception\n",
      "Stacktrace:\n",
      "\tGetHandleVerifier [0x00007FF6FD4338A5+3004357]\n",
      "\t(No symbol) [0x00007FF6FD0C9970]\n",
      "\t(No symbol) [0x00007FF6FCF7582A]\n",
      "\t(No symbol) [0x00007FF6FCFC5B8E]\n",
      "\t(No symbol) [0x00007FF6FCFC5E7C]\n",
      "\t(No symbol) [0x00007FF6FD00EC27]\n",
      "\t(No symbol) [0x00007FF6FCFEBC1F]\n",
      "\t(No symbol) [0x00007FF6FD00BA4C]\n",
      "\t(No symbol) [0x00007FF6FCFEB983]\n",
      "\t(No symbol) [0x00007FF6FCFB7628]\n",
      "\t(No symbol) [0x00007FF6FCFB8791]\n",
      "\tGetHandleVerifier [0x00007FF6FD45A00D+3161901]\n",
      "\tGetHandleVerifier [0x00007FF6FD4AE060+3506048]\n",
      "\tGetHandleVerifier [0x00007FF6FD4A400D+3465005]\n",
      "\tGetHandleVerifier [0x00007FF6FD220EEB+830987]\n",
      "\t(No symbol) [0x00007FF6FD0D467F]\n",
      "\t(No symbol) [0x00007FF6FD0D09D4]\n",
      "\t(No symbol) [0x00007FF6FD0D0B6D]\n",
      "\t(No symbol) [0x00007FF6FD0C0149]\n",
      "\tBaseThreadInitThunk [0x00007FFB7AAA7374+20]\n",
      "\tRtlUserThreadStart [0x00007FFB7C37CC91+33]\n",
      "\n"
     ]
    },
    {
     "name": "stderr",
     "output_type": "stream",
     "text": [
      "Processing URLs:   2%|    | 588/29446 [1:04:53<51:38:47,  6.44s/it]"
     ]
    },
    {
     "name": "stdout",
     "output_type": "stream",
     "text": [
      "Error fetching URL: https://www.agoda.com/partners/partnersearch.aspx?hid=281592 - Message: no such element: Unable to locate element: {\"method\":\"css selector\",\"selector\":\"a[data-element-name='property-card-content']\"}\n",
      "  (Session info: chrome=130.0.6723.117); For documentation on this error, please visit: https://www.selenium.dev/documentation/webdriver/troubleshooting/errors#no-such-element-exception\n",
      "Stacktrace:\n",
      "\tGetHandleVerifier [0x00007FF6FD4338A5+3004357]\n",
      "\t(No symbol) [0x00007FF6FD0C9970]\n",
      "\t(No symbol) [0x00007FF6FCF7582A]\n",
      "\t(No symbol) [0x00007FF6FCFC5B8E]\n",
      "\t(No symbol) [0x00007FF6FCFC5E7C]\n",
      "\t(No symbol) [0x00007FF6FD00EC27]\n",
      "\t(No symbol) [0x00007FF6FCFEBC1F]\n",
      "\t(No symbol) [0x00007FF6FD00BA4C]\n",
      "\t(No symbol) [0x00007FF6FCFEB983]\n",
      "\t(No symbol) [0x00007FF6FCFB7628]\n",
      "\t(No symbol) [0x00007FF6FCFB8791]\n",
      "\tGetHandleVerifier [0x00007FF6FD45A00D+3161901]\n",
      "\tGetHandleVerifier [0x00007FF6FD4AE060+3506048]\n",
      "\tGetHandleVerifier [0x00007FF6FD4A400D+3465005]\n",
      "\tGetHandleVerifier [0x00007FF6FD220EEB+830987]\n",
      "\t(No symbol) [0x00007FF6FD0D467F]\n",
      "\t(No symbol) [0x00007FF6FD0D09D4]\n",
      "\t(No symbol) [0x00007FF6FD0D0B6D]\n",
      "\t(No symbol) [0x00007FF6FD0C0149]\n",
      "\tBaseThreadInitThunk [0x00007FFB7AAA7374+20]\n",
      "\tRtlUserThreadStart [0x00007FFB7C37CC91+33]\n",
      "\n"
     ]
    },
    {
     "name": "stderr",
     "output_type": "stream",
     "text": [
      "Processing URLs:   2%|    | 590/29446 [1:05:06<51:22:12,  6.41s/it]"
     ]
    },
    {
     "name": "stdout",
     "output_type": "stream",
     "text": [
      "Error fetching URL: https://www.agoda.com/partners/partnersearch.aspx?hid=281600 - Message: no such element: Unable to locate element: {\"method\":\"css selector\",\"selector\":\"a[data-element-name='property-card-content']\"}\n",
      "  (Session info: chrome=130.0.6723.117); For documentation on this error, please visit: https://www.selenium.dev/documentation/webdriver/troubleshooting/errors#no-such-element-exception\n",
      "Stacktrace:\n",
      "\tGetHandleVerifier [0x00007FF6FD4338A5+3004357]\n",
      "\t(No symbol) [0x00007FF6FD0C9970]\n",
      "\t(No symbol) [0x00007FF6FCF7582A]\n",
      "\t(No symbol) [0x00007FF6FCFC5B8E]\n",
      "\t(No symbol) [0x00007FF6FCFC5E7C]\n",
      "\t(No symbol) [0x00007FF6FD00EC27]\n",
      "\t(No symbol) [0x00007FF6FCFEBC1F]\n",
      "\t(No symbol) [0x00007FF6FD00BA4C]\n",
      "\t(No symbol) [0x00007FF6FCFEB983]\n",
      "\t(No symbol) [0x00007FF6FCFB7628]\n",
      "\t(No symbol) [0x00007FF6FCFB8791]\n",
      "\tGetHandleVerifier [0x00007FF6FD45A00D+3161901]\n",
      "\tGetHandleVerifier [0x00007FF6FD4AE060+3506048]\n",
      "\tGetHandleVerifier [0x00007FF6FD4A400D+3465005]\n",
      "\tGetHandleVerifier [0x00007FF6FD220EEB+830987]\n",
      "\t(No symbol) [0x00007FF6FD0D467F]\n",
      "\t(No symbol) [0x00007FF6FD0D09D4]\n",
      "\t(No symbol) [0x00007FF6FD0D0B6D]\n",
      "\t(No symbol) [0x00007FF6FD0C0149]\n",
      "\tBaseThreadInitThunk [0x00007FFB7AAA7374+20]\n",
      "\tRtlUserThreadStart [0x00007FFB7C37CC91+33]\n",
      "\n"
     ]
    },
    {
     "name": "stderr",
     "output_type": "stream",
     "text": [
      "Processing URLs:   2%|    | 591/29446 [1:05:12<51:56:42,  6.48s/it]"
     ]
    },
    {
     "name": "stdout",
     "output_type": "stream",
     "text": [
      "Error fetching URL: https://www.agoda.com/partners/partnersearch.aspx?hid=281646 - Message: no such element: Unable to locate element: {\"method\":\"css selector\",\"selector\":\"a[data-element-name='property-card-content']\"}\n",
      "  (Session info: chrome=130.0.6723.117); For documentation on this error, please visit: https://www.selenium.dev/documentation/webdriver/troubleshooting/errors#no-such-element-exception\n",
      "Stacktrace:\n",
      "\tGetHandleVerifier [0x00007FF6FD4338A5+3004357]\n",
      "\t(No symbol) [0x00007FF6FD0C9970]\n",
      "\t(No symbol) [0x00007FF6FCF7582A]\n",
      "\t(No symbol) [0x00007FF6FCFC5B8E]\n",
      "\t(No symbol) [0x00007FF6FCFC5E7C]\n",
      "\t(No symbol) [0x00007FF6FD00EC27]\n",
      "\t(No symbol) [0x00007FF6FCFEBC1F]\n",
      "\t(No symbol) [0x00007FF6FD00BA4C]\n",
      "\t(No symbol) [0x00007FF6FCFEB983]\n",
      "\t(No symbol) [0x00007FF6FCFB7628]\n",
      "\t(No symbol) [0x00007FF6FCFB8791]\n",
      "\tGetHandleVerifier [0x00007FF6FD45A00D+3161901]\n",
      "\tGetHandleVerifier [0x00007FF6FD4AE060+3506048]\n",
      "\tGetHandleVerifier [0x00007FF6FD4A400D+3465005]\n",
      "\tGetHandleVerifier [0x00007FF6FD220EEB+830987]\n",
      "\t(No symbol) [0x00007FF6FD0D467F]\n",
      "\t(No symbol) [0x00007FF6FD0D09D4]\n",
      "\t(No symbol) [0x00007FF6FD0D0B6D]\n",
      "\t(No symbol) [0x00007FF6FD0C0149]\n",
      "\tBaseThreadInitThunk [0x00007FFB7AAA7374+20]\n",
      "\tRtlUserThreadStart [0x00007FFB7C37CC91+33]\n",
      "\n"
     ]
    },
    {
     "name": "stderr",
     "output_type": "stream",
     "text": [
      "Processing URLs:   2%|    | 594/29446 [1:05:32<53:01:50,  6.62s/it]"
     ]
    },
    {
     "name": "stdout",
     "output_type": "stream",
     "text": [
      "Error fetching URL: https://www.agoda.com/partners/partnersearch.aspx?hid=283741 - Message: no such element: Unable to locate element: {\"method\":\"css selector\",\"selector\":\"a[data-element-name='property-card-content']\"}\n",
      "  (Session info: chrome=130.0.6723.117); For documentation on this error, please visit: https://www.selenium.dev/documentation/webdriver/troubleshooting/errors#no-such-element-exception\n",
      "Stacktrace:\n",
      "\tGetHandleVerifier [0x00007FF6FD4338A5+3004357]\n",
      "\t(No symbol) [0x00007FF6FD0C9970]\n",
      "\t(No symbol) [0x00007FF6FCF7582A]\n",
      "\t(No symbol) [0x00007FF6FCFC5B8E]\n",
      "\t(No symbol) [0x00007FF6FCFC5E7C]\n",
      "\t(No symbol) [0x00007FF6FD00EC27]\n",
      "\t(No symbol) [0x00007FF6FCFEBC1F]\n",
      "\t(No symbol) [0x00007FF6FD00BA4C]\n",
      "\t(No symbol) [0x00007FF6FCFEB983]\n",
      "\t(No symbol) [0x00007FF6FCFB7628]\n",
      "\t(No symbol) [0x00007FF6FCFB8791]\n",
      "\tGetHandleVerifier [0x00007FF6FD45A00D+3161901]\n",
      "\tGetHandleVerifier [0x00007FF6FD4AE060+3506048]\n",
      "\tGetHandleVerifier [0x00007FF6FD4A400D+3465005]\n",
      "\tGetHandleVerifier [0x00007FF6FD220EEB+830987]\n",
      "\t(No symbol) [0x00007FF6FD0D467F]\n",
      "\t(No symbol) [0x00007FF6FD0D09D4]\n",
      "\t(No symbol) [0x00007FF6FD0D0B6D]\n",
      "\t(No symbol) [0x00007FF6FD0C0149]\n",
      "\tBaseThreadInitThunk [0x00007FFB7AAA7374+20]\n",
      "\tRtlUserThreadStart [0x00007FFB7C37CC91+33]\n",
      "\n"
     ]
    },
    {
     "name": "stderr",
     "output_type": "stream",
     "text": [
      "Processing URLs:   2%|    | 595/29446 [1:05:39<52:20:16,  6.53s/it]"
     ]
    },
    {
     "name": "stdout",
     "output_type": "stream",
     "text": [
      "Error fetching URL: https://www.agoda.com/partners/partnersearch.aspx?hid=283787 - Message: no such element: Unable to locate element: {\"method\":\"css selector\",\"selector\":\"a[data-element-name='property-card-content']\"}\n",
      "  (Session info: chrome=130.0.6723.117); For documentation on this error, please visit: https://www.selenium.dev/documentation/webdriver/troubleshooting/errors#no-such-element-exception\n",
      "Stacktrace:\n",
      "\tGetHandleVerifier [0x00007FF6FD4338A5+3004357]\n",
      "\t(No symbol) [0x00007FF6FD0C9970]\n",
      "\t(No symbol) [0x00007FF6FCF7582A]\n",
      "\t(No symbol) [0x00007FF6FCFC5B8E]\n",
      "\t(No symbol) [0x00007FF6FCFC5E7C]\n",
      "\t(No symbol) [0x00007FF6FD00EC27]\n",
      "\t(No symbol) [0x00007FF6FCFEBC1F]\n",
      "\t(No symbol) [0x00007FF6FD00BA4C]\n",
      "\t(No symbol) [0x00007FF6FCFEB983]\n",
      "\t(No symbol) [0x00007FF6FCFB7628]\n",
      "\t(No symbol) [0x00007FF6FCFB8791]\n",
      "\tGetHandleVerifier [0x00007FF6FD45A00D+3161901]\n",
      "\tGetHandleVerifier [0x00007FF6FD4AE060+3506048]\n",
      "\tGetHandleVerifier [0x00007FF6FD4A400D+3465005]\n",
      "\tGetHandleVerifier [0x00007FF6FD220EEB+830987]\n",
      "\t(No symbol) [0x00007FF6FD0D467F]\n",
      "\t(No symbol) [0x00007FF6FD0D09D4]\n",
      "\t(No symbol) [0x00007FF6FD0D0B6D]\n",
      "\t(No symbol) [0x00007FF6FD0C0149]\n",
      "\tBaseThreadInitThunk [0x00007FFB7AAA7374+20]\n",
      "\tRtlUserThreadStart [0x00007FFB7C37CC91+33]\n",
      "\n"
     ]
    },
    {
     "name": "stderr",
     "output_type": "stream",
     "text": [
      "Processing URLs:   2%|    | 596/29446 [1:05:45<52:32:18,  6.56s/it]"
     ]
    },
    {
     "name": "stdout",
     "output_type": "stream",
     "text": [
      "Error fetching URL: https://www.agoda.com/partners/partnersearch.aspx?hid=283790 - Message: no such element: Unable to locate element: {\"method\":\"css selector\",\"selector\":\"a[data-element-name='property-card-content']\"}\n",
      "  (Session info: chrome=130.0.6723.117); For documentation on this error, please visit: https://www.selenium.dev/documentation/webdriver/troubleshooting/errors#no-such-element-exception\n",
      "Stacktrace:\n",
      "\tGetHandleVerifier [0x00007FF6FD4338A5+3004357]\n",
      "\t(No symbol) [0x00007FF6FD0C9970]\n",
      "\t(No symbol) [0x00007FF6FCF7582A]\n",
      "\t(No symbol) [0x00007FF6FCFC5B8E]\n",
      "\t(No symbol) [0x00007FF6FCFC5E7C]\n",
      "\t(No symbol) [0x00007FF6FD00EC27]\n",
      "\t(No symbol) [0x00007FF6FCFEBC1F]\n",
      "\t(No symbol) [0x00007FF6FD00BA4C]\n",
      "\t(No symbol) [0x00007FF6FCFEB983]\n",
      "\t(No symbol) [0x00007FF6FCFB7628]\n",
      "\t(No symbol) [0x00007FF6FCFB8791]\n",
      "\tGetHandleVerifier [0x00007FF6FD45A00D+3161901]\n",
      "\tGetHandleVerifier [0x00007FF6FD4AE060+3506048]\n",
      "\tGetHandleVerifier [0x00007FF6FD4A400D+3465005]\n",
      "\tGetHandleVerifier [0x00007FF6FD220EEB+830987]\n",
      "\t(No symbol) [0x00007FF6FD0D467F]\n",
      "\t(No symbol) [0x00007FF6FD0D09D4]\n",
      "\t(No symbol) [0x00007FF6FD0D0B6D]\n",
      "\t(No symbol) [0x00007FF6FD0C0149]\n",
      "\tBaseThreadInitThunk [0x00007FFB7AAA7374+20]\n",
      "\tRtlUserThreadStart [0x00007FFB7C37CC91+33]\n",
      "\n"
     ]
    },
    {
     "name": "stderr",
     "output_type": "stream",
     "text": [
      "Processing URLs:   2%|    | 597/29446 [1:05:52<52:15:20,  6.52s/it]"
     ]
    },
    {
     "name": "stdout",
     "output_type": "stream",
     "text": [
      "Error fetching URL: https://www.agoda.com/partners/partnersearch.aspx?hid=283849 - Message: no such element: Unable to locate element: {\"method\":\"css selector\",\"selector\":\"a[data-element-name='property-card-content']\"}\n",
      "  (Session info: chrome=130.0.6723.117); For documentation on this error, please visit: https://www.selenium.dev/documentation/webdriver/troubleshooting/errors#no-such-element-exception\n",
      "Stacktrace:\n",
      "\tGetHandleVerifier [0x00007FF6FD4338A5+3004357]\n",
      "\t(No symbol) [0x00007FF6FD0C9970]\n",
      "\t(No symbol) [0x00007FF6FCF7582A]\n",
      "\t(No symbol) [0x00007FF6FCFC5B8E]\n",
      "\t(No symbol) [0x00007FF6FCFC5E7C]\n",
      "\t(No symbol) [0x00007FF6FD00EC27]\n",
      "\t(No symbol) [0x00007FF6FCFEBC1F]\n",
      "\t(No symbol) [0x00007FF6FD00BA4C]\n",
      "\t(No symbol) [0x00007FF6FCFEB983]\n",
      "\t(No symbol) [0x00007FF6FCFB7628]\n",
      "\t(No symbol) [0x00007FF6FCFB8791]\n",
      "\tGetHandleVerifier [0x00007FF6FD45A00D+3161901]\n",
      "\tGetHandleVerifier [0x00007FF6FD4AE060+3506048]\n",
      "\tGetHandleVerifier [0x00007FF6FD4A400D+3465005]\n",
      "\tGetHandleVerifier [0x00007FF6FD220EEB+830987]\n",
      "\t(No symbol) [0x00007FF6FD0D467F]\n",
      "\t(No symbol) [0x00007FF6FD0D09D4]\n",
      "\t(No symbol) [0x00007FF6FD0D0B6D]\n",
      "\t(No symbol) [0x00007FF6FD0C0149]\n",
      "\tBaseThreadInitThunk [0x00007FFB7AAA7374+20]\n",
      "\tRtlUserThreadStart [0x00007FFB7C37CC91+33]\n",
      "\n"
     ]
    },
    {
     "name": "stderr",
     "output_type": "stream",
     "text": [
      "Processing URLs:   2%|    | 598/29446 [1:05:58<51:48:15,  6.46s/it]"
     ]
    },
    {
     "name": "stdout",
     "output_type": "stream",
     "text": [
      "Error fetching URL: https://www.agoda.com/partners/partnersearch.aspx?hid=284066 - Message: no such element: Unable to locate element: {\"method\":\"css selector\",\"selector\":\"a[data-element-name='property-card-content']\"}\n",
      "  (Session info: chrome=130.0.6723.117); For documentation on this error, please visit: https://www.selenium.dev/documentation/webdriver/troubleshooting/errors#no-such-element-exception\n",
      "Stacktrace:\n",
      "\tGetHandleVerifier [0x00007FF6FD4338A5+3004357]\n",
      "\t(No symbol) [0x00007FF6FD0C9970]\n",
      "\t(No symbol) [0x00007FF6FCF7582A]\n",
      "\t(No symbol) [0x00007FF6FCFC5B8E]\n",
      "\t(No symbol) [0x00007FF6FCFC5E7C]\n",
      "\t(No symbol) [0x00007FF6FD00EC27]\n",
      "\t(No symbol) [0x00007FF6FCFEBC1F]\n",
      "\t(No symbol) [0x00007FF6FD00BA4C]\n",
      "\t(No symbol) [0x00007FF6FCFEB983]\n",
      "\t(No symbol) [0x00007FF6FCFB7628]\n",
      "\t(No symbol) [0x00007FF6FCFB8791]\n",
      "\tGetHandleVerifier [0x00007FF6FD45A00D+3161901]\n",
      "\tGetHandleVerifier [0x00007FF6FD4AE060+3506048]\n",
      "\tGetHandleVerifier [0x00007FF6FD4A400D+3465005]\n",
      "\tGetHandleVerifier [0x00007FF6FD220EEB+830987]\n",
      "\t(No symbol) [0x00007FF6FD0D467F]\n",
      "\t(No symbol) [0x00007FF6FD0D09D4]\n",
      "\t(No symbol) [0x00007FF6FD0D0B6D]\n",
      "\t(No symbol) [0x00007FF6FD0C0149]\n",
      "\tBaseThreadInitThunk [0x00007FFB7AAA7374+20]\n",
      "\tRtlUserThreadStart [0x00007FFB7C37CC91+33]\n",
      "\n"
     ]
    },
    {
     "name": "stderr",
     "output_type": "stream",
     "text": [
      "Processing URLs:   2%|    | 600/29446 [1:06:11<51:45:14,  6.46s/it]"
     ]
    },
    {
     "name": "stdout",
     "output_type": "stream",
     "text": [
      "Error fetching URL: https://www.agoda.com/partners/partnersearch.aspx?hid=284114 - Message: no such element: Unable to locate element: {\"method\":\"css selector\",\"selector\":\"a[data-element-name='property-card-content']\"}\n",
      "  (Session info: chrome=130.0.6723.117); For documentation on this error, please visit: https://www.selenium.dev/documentation/webdriver/troubleshooting/errors#no-such-element-exception\n",
      "Stacktrace:\n",
      "\tGetHandleVerifier [0x00007FF6FD4338A5+3004357]\n",
      "\t(No symbol) [0x00007FF6FD0C9970]\n",
      "\t(No symbol) [0x00007FF6FCF7582A]\n",
      "\t(No symbol) [0x00007FF6FCFC5B8E]\n",
      "\t(No symbol) [0x00007FF6FCFC5E7C]\n",
      "\t(No symbol) [0x00007FF6FD00EC27]\n",
      "\t(No symbol) [0x00007FF6FCFEBC1F]\n",
      "\t(No symbol) [0x00007FF6FD00BA4C]\n",
      "\t(No symbol) [0x00007FF6FCFEB983]\n",
      "\t(No symbol) [0x00007FF6FCFB7628]\n",
      "\t(No symbol) [0x00007FF6FCFB8791]\n",
      "\tGetHandleVerifier [0x00007FF6FD45A00D+3161901]\n",
      "\tGetHandleVerifier [0x00007FF6FD4AE060+3506048]\n",
      "\tGetHandleVerifier [0x00007FF6FD4A400D+3465005]\n",
      "\tGetHandleVerifier [0x00007FF6FD220EEB+830987]\n",
      "\t(No symbol) [0x00007FF6FD0D467F]\n",
      "\t(No symbol) [0x00007FF6FD0D09D4]\n",
      "\t(No symbol) [0x00007FF6FD0D0B6D]\n",
      "\t(No symbol) [0x00007FF6FD0C0149]\n",
      "\tBaseThreadInitThunk [0x00007FFB7AAA7374+20]\n",
      "\tRtlUserThreadStart [0x00007FFB7C37CC91+33]\n",
      "\n"
     ]
    },
    {
     "name": "stderr",
     "output_type": "stream",
     "text": [
      "Processing URLs:   2%|    | 601/29446 [1:06:17<51:48:49,  6.47s/it]"
     ]
    },
    {
     "name": "stdout",
     "output_type": "stream",
     "text": [
      "Error fetching URL: https://www.agoda.com/partners/partnersearch.aspx?hid=284282 - Message: no such element: Unable to locate element: {\"method\":\"css selector\",\"selector\":\"a[data-element-name='property-card-content']\"}\n",
      "  (Session info: chrome=130.0.6723.117); For documentation on this error, please visit: https://www.selenium.dev/documentation/webdriver/troubleshooting/errors#no-such-element-exception\n",
      "Stacktrace:\n",
      "\tGetHandleVerifier [0x00007FF6FD4338A5+3004357]\n",
      "\t(No symbol) [0x00007FF6FD0C9970]\n",
      "\t(No symbol) [0x00007FF6FCF7582A]\n",
      "\t(No symbol) [0x00007FF6FCFC5B8E]\n",
      "\t(No symbol) [0x00007FF6FCFC5E7C]\n",
      "\t(No symbol) [0x00007FF6FD00EC27]\n",
      "\t(No symbol) [0x00007FF6FCFEBC1F]\n",
      "\t(No symbol) [0x00007FF6FD00BA4C]\n",
      "\t(No symbol) [0x00007FF6FCFEB983]\n",
      "\t(No symbol) [0x00007FF6FCFB7628]\n",
      "\t(No symbol) [0x00007FF6FCFB8791]\n",
      "\tGetHandleVerifier [0x00007FF6FD45A00D+3161901]\n",
      "\tGetHandleVerifier [0x00007FF6FD4AE060+3506048]\n",
      "\tGetHandleVerifier [0x00007FF6FD4A400D+3465005]\n",
      "\tGetHandleVerifier [0x00007FF6FD220EEB+830987]\n",
      "\t(No symbol) [0x00007FF6FD0D467F]\n",
      "\t(No symbol) [0x00007FF6FD0D09D4]\n",
      "\t(No symbol) [0x00007FF6FD0D0B6D]\n",
      "\t(No symbol) [0x00007FF6FD0C0149]\n",
      "\tBaseThreadInitThunk [0x00007FFB7AAA7374+20]\n",
      "\tRtlUserThreadStart [0x00007FFB7C37CC91+33]\n",
      "\n"
     ]
    },
    {
     "name": "stderr",
     "output_type": "stream",
     "text": [
      "Processing URLs:   2%|    | 602/29446 [1:06:24<51:30:45,  6.43s/it]"
     ]
    },
    {
     "name": "stdout",
     "output_type": "stream",
     "text": [
      "Error fetching URL: https://www.agoda.com/partners/partnersearch.aspx?hid=284305 - Message: no such element: Unable to locate element: {\"method\":\"css selector\",\"selector\":\"a[data-element-name='property-card-content']\"}\n",
      "  (Session info: chrome=130.0.6723.117); For documentation on this error, please visit: https://www.selenium.dev/documentation/webdriver/troubleshooting/errors#no-such-element-exception\n",
      "Stacktrace:\n",
      "\tGetHandleVerifier [0x00007FF6FD4338A5+3004357]\n",
      "\t(No symbol) [0x00007FF6FD0C9970]\n",
      "\t(No symbol) [0x00007FF6FCF7582A]\n",
      "\t(No symbol) [0x00007FF6FCFC5B8E]\n",
      "\t(No symbol) [0x00007FF6FCFC5E7C]\n",
      "\t(No symbol) [0x00007FF6FD00EC27]\n",
      "\t(No symbol) [0x00007FF6FCFEBC1F]\n",
      "\t(No symbol) [0x00007FF6FD00BA4C]\n",
      "\t(No symbol) [0x00007FF6FCFEB983]\n",
      "\t(No symbol) [0x00007FF6FCFB7628]\n",
      "\t(No symbol) [0x00007FF6FCFB8791]\n",
      "\tGetHandleVerifier [0x00007FF6FD45A00D+3161901]\n",
      "\tGetHandleVerifier [0x00007FF6FD4AE060+3506048]\n",
      "\tGetHandleVerifier [0x00007FF6FD4A400D+3465005]\n",
      "\tGetHandleVerifier [0x00007FF6FD220EEB+830987]\n",
      "\t(No symbol) [0x00007FF6FD0D467F]\n",
      "\t(No symbol) [0x00007FF6FD0D09D4]\n",
      "\t(No symbol) [0x00007FF6FD0D0B6D]\n",
      "\t(No symbol) [0x00007FF6FD0C0149]\n",
      "\tBaseThreadInitThunk [0x00007FFB7AAA7374+20]\n",
      "\tRtlUserThreadStart [0x00007FFB7C37CC91+33]\n",
      "\n"
     ]
    },
    {
     "name": "stderr",
     "output_type": "stream",
     "text": [
      "Processing URLs:   2%|    | 603/29446 [1:06:30<51:29:11,  6.43s/it]"
     ]
    },
    {
     "name": "stdout",
     "output_type": "stream",
     "text": [
      "Error fetching URL: https://www.agoda.com/partners/partnersearch.aspx?hid=284487 - Message: no such element: Unable to locate element: {\"method\":\"css selector\",\"selector\":\"a[data-element-name='property-card-content']\"}\n",
      "  (Session info: chrome=130.0.6723.117); For documentation on this error, please visit: https://www.selenium.dev/documentation/webdriver/troubleshooting/errors#no-such-element-exception\n",
      "Stacktrace:\n",
      "\tGetHandleVerifier [0x00007FF6FD4338A5+3004357]\n",
      "\t(No symbol) [0x00007FF6FD0C9970]\n",
      "\t(No symbol) [0x00007FF6FCF7582A]\n",
      "\t(No symbol) [0x00007FF6FCFC5B8E]\n",
      "\t(No symbol) [0x00007FF6FCFC5E7C]\n",
      "\t(No symbol) [0x00007FF6FD00EC27]\n",
      "\t(No symbol) [0x00007FF6FCFEBC1F]\n",
      "\t(No symbol) [0x00007FF6FD00BA4C]\n",
      "\t(No symbol) [0x00007FF6FCFEB983]\n",
      "\t(No symbol) [0x00007FF6FCFB7628]\n",
      "\t(No symbol) [0x00007FF6FCFB8791]\n",
      "\tGetHandleVerifier [0x00007FF6FD45A00D+3161901]\n",
      "\tGetHandleVerifier [0x00007FF6FD4AE060+3506048]\n",
      "\tGetHandleVerifier [0x00007FF6FD4A400D+3465005]\n",
      "\tGetHandleVerifier [0x00007FF6FD220EEB+830987]\n",
      "\t(No symbol) [0x00007FF6FD0D467F]\n",
      "\t(No symbol) [0x00007FF6FD0D09D4]\n",
      "\t(No symbol) [0x00007FF6FD0D0B6D]\n",
      "\t(No symbol) [0x00007FF6FD0C0149]\n",
      "\tBaseThreadInitThunk [0x00007FFB7AAA7374+20]\n",
      "\tRtlUserThreadStart [0x00007FFB7C37CC91+33]\n",
      "\n"
     ]
    },
    {
     "name": "stderr",
     "output_type": "stream",
     "text": [
      "Processing URLs:   2%|    | 604/29446 [1:06:37<51:38:20,  6.45s/it]"
     ]
    },
    {
     "name": "stdout",
     "output_type": "stream",
     "text": [
      "Error fetching URL: https://www.agoda.com/partners/partnersearch.aspx?hid=284516 - Message: no such element: Unable to locate element: {\"method\":\"css selector\",\"selector\":\"a[data-element-name='property-card-content']\"}\n",
      "  (Session info: chrome=130.0.6723.117); For documentation on this error, please visit: https://www.selenium.dev/documentation/webdriver/troubleshooting/errors#no-such-element-exception\n",
      "Stacktrace:\n",
      "\tGetHandleVerifier [0x00007FF6FD4338A5+3004357]\n",
      "\t(No symbol) [0x00007FF6FD0C9970]\n",
      "\t(No symbol) [0x00007FF6FCF7582A]\n",
      "\t(No symbol) [0x00007FF6FCFC5B8E]\n",
      "\t(No symbol) [0x00007FF6FCFC5E7C]\n",
      "\t(No symbol) [0x00007FF6FD00EC27]\n",
      "\t(No symbol) [0x00007FF6FCFEBC1F]\n",
      "\t(No symbol) [0x00007FF6FD00BA4C]\n",
      "\t(No symbol) [0x00007FF6FCFEB983]\n",
      "\t(No symbol) [0x00007FF6FCFB7628]\n",
      "\t(No symbol) [0x00007FF6FCFB8791]\n",
      "\tGetHandleVerifier [0x00007FF6FD45A00D+3161901]\n",
      "\tGetHandleVerifier [0x00007FF6FD4AE060+3506048]\n",
      "\tGetHandleVerifier [0x00007FF6FD4A400D+3465005]\n",
      "\tGetHandleVerifier [0x00007FF6FD220EEB+830987]\n",
      "\t(No symbol) [0x00007FF6FD0D467F]\n",
      "\t(No symbol) [0x00007FF6FD0D09D4]\n",
      "\t(No symbol) [0x00007FF6FD0D0B6D]\n",
      "\t(No symbol) [0x00007FF6FD0C0149]\n",
      "\tBaseThreadInitThunk [0x00007FFB7AAA7374+20]\n",
      "\tRtlUserThreadStart [0x00007FFB7C37CC91+33]\n",
      "\n"
     ]
    },
    {
     "name": "stderr",
     "output_type": "stream",
     "text": [
      "Processing URLs:   2%|    | 605/29446 [1:06:43<51:35:14,  6.44s/it]"
     ]
    },
    {
     "name": "stdout",
     "output_type": "stream",
     "text": [
      "Error fetching URL: https://www.agoda.com/partners/partnersearch.aspx?hid=284531 - Message: no such element: Unable to locate element: {\"method\":\"css selector\",\"selector\":\"a[data-element-name='property-card-content']\"}\n",
      "  (Session info: chrome=130.0.6723.117); For documentation on this error, please visit: https://www.selenium.dev/documentation/webdriver/troubleshooting/errors#no-such-element-exception\n",
      "Stacktrace:\n",
      "\tGetHandleVerifier [0x00007FF6FD4338A5+3004357]\n",
      "\t(No symbol) [0x00007FF6FD0C9970]\n",
      "\t(No symbol) [0x00007FF6FCF7582A]\n",
      "\t(No symbol) [0x00007FF6FCFC5B8E]\n",
      "\t(No symbol) [0x00007FF6FCFC5E7C]\n",
      "\t(No symbol) [0x00007FF6FD00EC27]\n",
      "\t(No symbol) [0x00007FF6FCFEBC1F]\n",
      "\t(No symbol) [0x00007FF6FD00BA4C]\n",
      "\t(No symbol) [0x00007FF6FCFEB983]\n",
      "\t(No symbol) [0x00007FF6FCFB7628]\n",
      "\t(No symbol) [0x00007FF6FCFB8791]\n",
      "\tGetHandleVerifier [0x00007FF6FD45A00D+3161901]\n",
      "\tGetHandleVerifier [0x00007FF6FD4AE060+3506048]\n",
      "\tGetHandleVerifier [0x00007FF6FD4A400D+3465005]\n",
      "\tGetHandleVerifier [0x00007FF6FD220EEB+830987]\n",
      "\t(No symbol) [0x00007FF6FD0D467F]\n",
      "\t(No symbol) [0x00007FF6FD0D09D4]\n",
      "\t(No symbol) [0x00007FF6FD0D0B6D]\n",
      "\t(No symbol) [0x00007FF6FD0C0149]\n",
      "\tBaseThreadInitThunk [0x00007FFB7AAA7374+20]\n",
      "\tRtlUserThreadStart [0x00007FFB7C37CC91+33]\n",
      "\n"
     ]
    },
    {
     "name": "stderr",
     "output_type": "stream",
     "text": [
      "Processing URLs:   2%|    | 606/29446 [1:06:49<51:23:51,  6.42s/it]"
     ]
    },
    {
     "name": "stdout",
     "output_type": "stream",
     "text": [
      "Error fetching URL: https://www.agoda.com/partners/partnersearch.aspx?hid=284605 - Message: no such element: Unable to locate element: {\"method\":\"css selector\",\"selector\":\"a[data-element-name='property-card-content']\"}\n",
      "  (Session info: chrome=130.0.6723.117); For documentation on this error, please visit: https://www.selenium.dev/documentation/webdriver/troubleshooting/errors#no-such-element-exception\n",
      "Stacktrace:\n",
      "\tGetHandleVerifier [0x00007FF6FD4338A5+3004357]\n",
      "\t(No symbol) [0x00007FF6FD0C9970]\n",
      "\t(No symbol) [0x00007FF6FCF7582A]\n",
      "\t(No symbol) [0x00007FF6FCFC5B8E]\n",
      "\t(No symbol) [0x00007FF6FCFC5E7C]\n",
      "\t(No symbol) [0x00007FF6FD00EC27]\n",
      "\t(No symbol) [0x00007FF6FCFEBC1F]\n",
      "\t(No symbol) [0x00007FF6FD00BA4C]\n",
      "\t(No symbol) [0x00007FF6FCFEB983]\n",
      "\t(No symbol) [0x00007FF6FCFB7628]\n",
      "\t(No symbol) [0x00007FF6FCFB8791]\n",
      "\tGetHandleVerifier [0x00007FF6FD45A00D+3161901]\n",
      "\tGetHandleVerifier [0x00007FF6FD4AE060+3506048]\n",
      "\tGetHandleVerifier [0x00007FF6FD4A400D+3465005]\n",
      "\tGetHandleVerifier [0x00007FF6FD220EEB+830987]\n",
      "\t(No symbol) [0x00007FF6FD0D467F]\n",
      "\t(No symbol) [0x00007FF6FD0D09D4]\n",
      "\t(No symbol) [0x00007FF6FD0D0B6D]\n",
      "\t(No symbol) [0x00007FF6FD0C0149]\n",
      "\tBaseThreadInitThunk [0x00007FFB7AAA7374+20]\n",
      "\tRtlUserThreadStart [0x00007FFB7C37CC91+33]\n",
      "\n"
     ]
    },
    {
     "name": "stderr",
     "output_type": "stream",
     "text": [
      "Processing URLs:   2%|    | 608/29446 [1:07:03<53:29:18,  6.68s/it]"
     ]
    },
    {
     "name": "stdout",
     "output_type": "stream",
     "text": [
      "Error fetching URL: https://www.agoda.com/partners/partnersearch.aspx?hid=284713 - Message: no such element: Unable to locate element: {\"method\":\"css selector\",\"selector\":\"a[data-element-name='property-card-content']\"}\n",
      "  (Session info: chrome=130.0.6723.117); For documentation on this error, please visit: https://www.selenium.dev/documentation/webdriver/troubleshooting/errors#no-such-element-exception\n",
      "Stacktrace:\n",
      "\tGetHandleVerifier [0x00007FF6FD4338A5+3004357]\n",
      "\t(No symbol) [0x00007FF6FD0C9970]\n",
      "\t(No symbol) [0x00007FF6FCF7582A]\n",
      "\t(No symbol) [0x00007FF6FCFC5B8E]\n",
      "\t(No symbol) [0x00007FF6FCFC5E7C]\n",
      "\t(No symbol) [0x00007FF6FD00EC27]\n",
      "\t(No symbol) [0x00007FF6FCFEBC1F]\n",
      "\t(No symbol) [0x00007FF6FD00BA4C]\n",
      "\t(No symbol) [0x00007FF6FCFEB983]\n",
      "\t(No symbol) [0x00007FF6FCFB7628]\n",
      "\t(No symbol) [0x00007FF6FCFB8791]\n",
      "\tGetHandleVerifier [0x00007FF6FD45A00D+3161901]\n",
      "\tGetHandleVerifier [0x00007FF6FD4AE060+3506048]\n",
      "\tGetHandleVerifier [0x00007FF6FD4A400D+3465005]\n",
      "\tGetHandleVerifier [0x00007FF6FD220EEB+830987]\n",
      "\t(No symbol) [0x00007FF6FD0D467F]\n",
      "\t(No symbol) [0x00007FF6FD0D09D4]\n",
      "\t(No symbol) [0x00007FF6FD0D0B6D]\n",
      "\t(No symbol) [0x00007FF6FD0C0149]\n",
      "\tBaseThreadInitThunk [0x00007FFB7AAA7374+20]\n",
      "\tRtlUserThreadStart [0x00007FFB7C37CC91+33]\n",
      "\n"
     ]
    },
    {
     "name": "stderr",
     "output_type": "stream",
     "text": [
      "Processing URLs:   2%|    | 609/29446 [1:07:10<53:13:51,  6.65s/it]"
     ]
    },
    {
     "name": "stdout",
     "output_type": "stream",
     "text": [
      "Error fetching URL: https://www.agoda.com/partners/partnersearch.aspx?hid=284792 - Message: no such element: Unable to locate element: {\"method\":\"css selector\",\"selector\":\"a[data-element-name='property-card-content']\"}\n",
      "  (Session info: chrome=130.0.6723.117); For documentation on this error, please visit: https://www.selenium.dev/documentation/webdriver/troubleshooting/errors#no-such-element-exception\n",
      "Stacktrace:\n",
      "\tGetHandleVerifier [0x00007FF6FD4338A5+3004357]\n",
      "\t(No symbol) [0x00007FF6FD0C9970]\n",
      "\t(No symbol) [0x00007FF6FCF7582A]\n",
      "\t(No symbol) [0x00007FF6FCFC5B8E]\n",
      "\t(No symbol) [0x00007FF6FCFC5E7C]\n",
      "\t(No symbol) [0x00007FF6FD00EC27]\n",
      "\t(No symbol) [0x00007FF6FCFEBC1F]\n",
      "\t(No symbol) [0x00007FF6FD00BA4C]\n",
      "\t(No symbol) [0x00007FF6FCFEB983]\n",
      "\t(No symbol) [0x00007FF6FCFB7628]\n",
      "\t(No symbol) [0x00007FF6FCFB8791]\n",
      "\tGetHandleVerifier [0x00007FF6FD45A00D+3161901]\n",
      "\tGetHandleVerifier [0x00007FF6FD4AE060+3506048]\n",
      "\tGetHandleVerifier [0x00007FF6FD4A400D+3465005]\n",
      "\tGetHandleVerifier [0x00007FF6FD220EEB+830987]\n",
      "\t(No symbol) [0x00007FF6FD0D467F]\n",
      "\t(No symbol) [0x00007FF6FD0D09D4]\n",
      "\t(No symbol) [0x00007FF6FD0D0B6D]\n",
      "\t(No symbol) [0x00007FF6FD0C0149]\n",
      "\tBaseThreadInitThunk [0x00007FFB7AAA7374+20]\n",
      "\tRtlUserThreadStart [0x00007FFB7C37CC91+33]\n",
      "\n"
     ]
    },
    {
     "name": "stderr",
     "output_type": "stream",
     "text": [
      "Processing URLs:   2%|    | 610/29446 [1:07:16<52:36:35,  6.57s/it]"
     ]
    },
    {
     "name": "stdout",
     "output_type": "stream",
     "text": [
      "Error fetching URL: https://www.agoda.com/partners/partnersearch.aspx?hid=284903 - Message: no such element: Unable to locate element: {\"method\":\"css selector\",\"selector\":\"a[data-element-name='property-card-content']\"}\n",
      "  (Session info: chrome=130.0.6723.117); For documentation on this error, please visit: https://www.selenium.dev/documentation/webdriver/troubleshooting/errors#no-such-element-exception\n",
      "Stacktrace:\n",
      "\tGetHandleVerifier [0x00007FF6FD4338A5+3004357]\n",
      "\t(No symbol) [0x00007FF6FD0C9970]\n",
      "\t(No symbol) [0x00007FF6FCF7582A]\n",
      "\t(No symbol) [0x00007FF6FCFC5B8E]\n",
      "\t(No symbol) [0x00007FF6FCFC5E7C]\n",
      "\t(No symbol) [0x00007FF6FD00EC27]\n",
      "\t(No symbol) [0x00007FF6FCFEBC1F]\n",
      "\t(No symbol) [0x00007FF6FD00BA4C]\n",
      "\t(No symbol) [0x00007FF6FCFEB983]\n",
      "\t(No symbol) [0x00007FF6FCFB7628]\n",
      "\t(No symbol) [0x00007FF6FCFB8791]\n",
      "\tGetHandleVerifier [0x00007FF6FD45A00D+3161901]\n",
      "\tGetHandleVerifier [0x00007FF6FD4AE060+3506048]\n",
      "\tGetHandleVerifier [0x00007FF6FD4A400D+3465005]\n",
      "\tGetHandleVerifier [0x00007FF6FD220EEB+830987]\n",
      "\t(No symbol) [0x00007FF6FD0D467F]\n",
      "\t(No symbol) [0x00007FF6FD0D09D4]\n",
      "\t(No symbol) [0x00007FF6FD0D0B6D]\n",
      "\t(No symbol) [0x00007FF6FD0C0149]\n",
      "\tBaseThreadInitThunk [0x00007FFB7AAA7374+20]\n",
      "\tRtlUserThreadStart [0x00007FFB7C37CC91+33]\n",
      "\n"
     ]
    },
    {
     "name": "stderr",
     "output_type": "stream",
     "text": [
      "Processing URLs:   2%|    | 611/29446 [1:07:22<51:54:30,  6.48s/it]"
     ]
    },
    {
     "name": "stdout",
     "output_type": "stream",
     "text": [
      "Error fetching URL: https://www.agoda.com/partners/partnersearch.aspx?hid=284906 - Message: no such element: Unable to locate element: {\"method\":\"css selector\",\"selector\":\"a[data-element-name='property-card-content']\"}\n",
      "  (Session info: chrome=130.0.6723.117); For documentation on this error, please visit: https://www.selenium.dev/documentation/webdriver/troubleshooting/errors#no-such-element-exception\n",
      "Stacktrace:\n",
      "\tGetHandleVerifier [0x00007FF6FD4338A5+3004357]\n",
      "\t(No symbol) [0x00007FF6FD0C9970]\n",
      "\t(No symbol) [0x00007FF6FCF7582A]\n",
      "\t(No symbol) [0x00007FF6FCFC5B8E]\n",
      "\t(No symbol) [0x00007FF6FCFC5E7C]\n",
      "\t(No symbol) [0x00007FF6FD00EC27]\n",
      "\t(No symbol) [0x00007FF6FCFEBC1F]\n",
      "\t(No symbol) [0x00007FF6FD00BA4C]\n",
      "\t(No symbol) [0x00007FF6FCFEB983]\n",
      "\t(No symbol) [0x00007FF6FCFB7628]\n",
      "\t(No symbol) [0x00007FF6FCFB8791]\n",
      "\tGetHandleVerifier [0x00007FF6FD45A00D+3161901]\n",
      "\tGetHandleVerifier [0x00007FF6FD4AE060+3506048]\n",
      "\tGetHandleVerifier [0x00007FF6FD4A400D+3465005]\n",
      "\tGetHandleVerifier [0x00007FF6FD220EEB+830987]\n",
      "\t(No symbol) [0x00007FF6FD0D467F]\n",
      "\t(No symbol) [0x00007FF6FD0D09D4]\n",
      "\t(No symbol) [0x00007FF6FD0D0B6D]\n",
      "\t(No symbol) [0x00007FF6FD0C0149]\n",
      "\tBaseThreadInitThunk [0x00007FFB7AAA7374+20]\n",
      "\tRtlUserThreadStart [0x00007FFB7C37CC91+33]\n",
      "\n"
     ]
    },
    {
     "name": "stderr",
     "output_type": "stream",
     "text": [
      "Processing URLs:   2%|    | 615/29446 [1:07:49<52:47:26,  6.59s/it]"
     ]
    },
    {
     "name": "stdout",
     "output_type": "stream",
     "text": [
      "Error fetching URL: https://www.agoda.com/partners/partnersearch.aspx?hid=285738 - Message: no such element: Unable to locate element: {\"method\":\"css selector\",\"selector\":\"a[data-element-name='property-card-content']\"}\n",
      "  (Session info: chrome=130.0.6723.117); For documentation on this error, please visit: https://www.selenium.dev/documentation/webdriver/troubleshooting/errors#no-such-element-exception\n",
      "Stacktrace:\n",
      "\tGetHandleVerifier [0x00007FF6FD4338A5+3004357]\n",
      "\t(No symbol) [0x00007FF6FD0C9970]\n",
      "\t(No symbol) [0x00007FF6FCF7582A]\n",
      "\t(No symbol) [0x00007FF6FCFC5B8E]\n",
      "\t(No symbol) [0x00007FF6FCFC5E7C]\n",
      "\t(No symbol) [0x00007FF6FD00EC27]\n",
      "\t(No symbol) [0x00007FF6FCFEBC1F]\n",
      "\t(No symbol) [0x00007FF6FD00BA4C]\n",
      "\t(No symbol) [0x00007FF6FCFEB983]\n",
      "\t(No symbol) [0x00007FF6FCFB7628]\n",
      "\t(No symbol) [0x00007FF6FCFB8791]\n",
      "\tGetHandleVerifier [0x00007FF6FD45A00D+3161901]\n",
      "\tGetHandleVerifier [0x00007FF6FD4AE060+3506048]\n",
      "\tGetHandleVerifier [0x00007FF6FD4A400D+3465005]\n",
      "\tGetHandleVerifier [0x00007FF6FD220EEB+830987]\n",
      "\t(No symbol) [0x00007FF6FD0D467F]\n",
      "\t(No symbol) [0x00007FF6FD0D09D4]\n",
      "\t(No symbol) [0x00007FF6FD0D0B6D]\n",
      "\t(No symbol) [0x00007FF6FD0C0149]\n",
      "\tBaseThreadInitThunk [0x00007FFB7AAA7374+20]\n",
      "\tRtlUserThreadStart [0x00007FFB7C37CC91+33]\n",
      "\n"
     ]
    },
    {
     "name": "stderr",
     "output_type": "stream",
     "text": [
      "Processing URLs:   2%|    | 616/29446 [1:07:55<52:00:30,  6.49s/it]"
     ]
    },
    {
     "name": "stdout",
     "output_type": "stream",
     "text": [
      "Error fetching URL: https://www.agoda.com/partners/partnersearch.aspx?hid=285757 - Message: no such element: Unable to locate element: {\"method\":\"css selector\",\"selector\":\"a[data-element-name='property-card-content']\"}\n",
      "  (Session info: chrome=130.0.6723.117); For documentation on this error, please visit: https://www.selenium.dev/documentation/webdriver/troubleshooting/errors#no-such-element-exception\n",
      "Stacktrace:\n",
      "\tGetHandleVerifier [0x00007FF6FD4338A5+3004357]\n",
      "\t(No symbol) [0x00007FF6FD0C9970]\n",
      "\t(No symbol) [0x00007FF6FCF7582A]\n",
      "\t(No symbol) [0x00007FF6FCFC5B8E]\n",
      "\t(No symbol) [0x00007FF6FCFC5E7C]\n",
      "\t(No symbol) [0x00007FF6FD00EC27]\n",
      "\t(No symbol) [0x00007FF6FCFEBC1F]\n",
      "\t(No symbol) [0x00007FF6FD00BA4C]\n",
      "\t(No symbol) [0x00007FF6FCFEB983]\n",
      "\t(No symbol) [0x00007FF6FCFB7628]\n",
      "\t(No symbol) [0x00007FF6FCFB8791]\n",
      "\tGetHandleVerifier [0x00007FF6FD45A00D+3161901]\n",
      "\tGetHandleVerifier [0x00007FF6FD4AE060+3506048]\n",
      "\tGetHandleVerifier [0x00007FF6FD4A400D+3465005]\n",
      "\tGetHandleVerifier [0x00007FF6FD220EEB+830987]\n",
      "\t(No symbol) [0x00007FF6FD0D467F]\n",
      "\t(No symbol) [0x00007FF6FD0D09D4]\n",
      "\t(No symbol) [0x00007FF6FD0D0B6D]\n",
      "\t(No symbol) [0x00007FF6FD0C0149]\n",
      "\tBaseThreadInitThunk [0x00007FFB7AAA7374+20]\n",
      "\tRtlUserThreadStart [0x00007FFB7C37CC91+33]\n",
      "\n"
     ]
    },
    {
     "name": "stderr",
     "output_type": "stream",
     "text": [
      "Processing URLs:   2%|    | 617/29446 [1:08:02<51:41:22,  6.45s/it]"
     ]
    },
    {
     "name": "stdout",
     "output_type": "stream",
     "text": [
      "Error fetching URL: https://www.agoda.com/partners/partnersearch.aspx?hid=286251 - Message: no such element: Unable to locate element: {\"method\":\"css selector\",\"selector\":\"a[data-element-name='property-card-content']\"}\n",
      "  (Session info: chrome=130.0.6723.117); For documentation on this error, please visit: https://www.selenium.dev/documentation/webdriver/troubleshooting/errors#no-such-element-exception\n",
      "Stacktrace:\n",
      "\tGetHandleVerifier [0x00007FF6FD4338A5+3004357]\n",
      "\t(No symbol) [0x00007FF6FD0C9970]\n",
      "\t(No symbol) [0x00007FF6FCF7582A]\n",
      "\t(No symbol) [0x00007FF6FCFC5B8E]\n",
      "\t(No symbol) [0x00007FF6FCFC5E7C]\n",
      "\t(No symbol) [0x00007FF6FD00EC27]\n",
      "\t(No symbol) [0x00007FF6FCFEBC1F]\n",
      "\t(No symbol) [0x00007FF6FD00BA4C]\n",
      "\t(No symbol) [0x00007FF6FCFEB983]\n",
      "\t(No symbol) [0x00007FF6FCFB7628]\n",
      "\t(No symbol) [0x00007FF6FCFB8791]\n",
      "\tGetHandleVerifier [0x00007FF6FD45A00D+3161901]\n",
      "\tGetHandleVerifier [0x00007FF6FD4AE060+3506048]\n",
      "\tGetHandleVerifier [0x00007FF6FD4A400D+3465005]\n",
      "\tGetHandleVerifier [0x00007FF6FD220EEB+830987]\n",
      "\t(No symbol) [0x00007FF6FD0D467F]\n",
      "\t(No symbol) [0x00007FF6FD0D09D4]\n",
      "\t(No symbol) [0x00007FF6FD0D0B6D]\n",
      "\t(No symbol) [0x00007FF6FD0C0149]\n",
      "\tBaseThreadInitThunk [0x00007FFB7AAA7374+20]\n",
      "\tRtlUserThreadStart [0x00007FFB7C37CC91+33]\n",
      "\n"
     ]
    },
    {
     "name": "stderr",
     "output_type": "stream",
     "text": [
      "Processing URLs:   2%|    | 618/29446 [1:08:08<51:37:05,  6.45s/it]"
     ]
    },
    {
     "name": "stdout",
     "output_type": "stream",
     "text": [
      "Error fetching URL: https://www.agoda.com/partners/partnersearch.aspx?hid=286368 - Message: no such element: Unable to locate element: {\"method\":\"css selector\",\"selector\":\"a[data-element-name='property-card-content']\"}\n",
      "  (Session info: chrome=130.0.6723.117); For documentation on this error, please visit: https://www.selenium.dev/documentation/webdriver/troubleshooting/errors#no-such-element-exception\n",
      "Stacktrace:\n",
      "\tGetHandleVerifier [0x00007FF6FD4338A5+3004357]\n",
      "\t(No symbol) [0x00007FF6FD0C9970]\n",
      "\t(No symbol) [0x00007FF6FCF7582A]\n",
      "\t(No symbol) [0x00007FF6FCFC5B8E]\n",
      "\t(No symbol) [0x00007FF6FCFC5E7C]\n",
      "\t(No symbol) [0x00007FF6FD00EC27]\n",
      "\t(No symbol) [0x00007FF6FCFEBC1F]\n",
      "\t(No symbol) [0x00007FF6FD00BA4C]\n",
      "\t(No symbol) [0x00007FF6FCFEB983]\n",
      "\t(No symbol) [0x00007FF6FCFB7628]\n",
      "\t(No symbol) [0x00007FF6FCFB8791]\n",
      "\tGetHandleVerifier [0x00007FF6FD45A00D+3161901]\n",
      "\tGetHandleVerifier [0x00007FF6FD4AE060+3506048]\n",
      "\tGetHandleVerifier [0x00007FF6FD4A400D+3465005]\n",
      "\tGetHandleVerifier [0x00007FF6FD220EEB+830987]\n",
      "\t(No symbol) [0x00007FF6FD0D467F]\n",
      "\t(No symbol) [0x00007FF6FD0D09D4]\n",
      "\t(No symbol) [0x00007FF6FD0D0B6D]\n",
      "\t(No symbol) [0x00007FF6FD0C0149]\n",
      "\tBaseThreadInitThunk [0x00007FFB7AAA7374+20]\n",
      "\tRtlUserThreadStart [0x00007FFB7C37CC91+33]\n",
      "\n"
     ]
    },
    {
     "name": "stderr",
     "output_type": "stream",
     "text": [
      "Processing URLs:   2%|    | 619/29446 [1:08:14<51:25:18,  6.42s/it]"
     ]
    },
    {
     "name": "stdout",
     "output_type": "stream",
     "text": [
      "Error fetching URL: https://www.agoda.com/partners/partnersearch.aspx?hid=286525 - Message: no such element: Unable to locate element: {\"method\":\"css selector\",\"selector\":\"a[data-element-name='property-card-content']\"}\n",
      "  (Session info: chrome=130.0.6723.117); For documentation on this error, please visit: https://www.selenium.dev/documentation/webdriver/troubleshooting/errors#no-such-element-exception\n",
      "Stacktrace:\n",
      "\tGetHandleVerifier [0x00007FF6FD4338A5+3004357]\n",
      "\t(No symbol) [0x00007FF6FD0C9970]\n",
      "\t(No symbol) [0x00007FF6FCF7582A]\n",
      "\t(No symbol) [0x00007FF6FCFC5B8E]\n",
      "\t(No symbol) [0x00007FF6FCFC5E7C]\n",
      "\t(No symbol) [0x00007FF6FD00EC27]\n",
      "\t(No symbol) [0x00007FF6FCFEBC1F]\n",
      "\t(No symbol) [0x00007FF6FD00BA4C]\n",
      "\t(No symbol) [0x00007FF6FCFEB983]\n",
      "\t(No symbol) [0x00007FF6FCFB7628]\n",
      "\t(No symbol) [0x00007FF6FCFB8791]\n",
      "\tGetHandleVerifier [0x00007FF6FD45A00D+3161901]\n",
      "\tGetHandleVerifier [0x00007FF6FD4AE060+3506048]\n",
      "\tGetHandleVerifier [0x00007FF6FD4A400D+3465005]\n",
      "\tGetHandleVerifier [0x00007FF6FD220EEB+830987]\n",
      "\t(No symbol) [0x00007FF6FD0D467F]\n",
      "\t(No symbol) [0x00007FF6FD0D09D4]\n",
      "\t(No symbol) [0x00007FF6FD0D0B6D]\n",
      "\t(No symbol) [0x00007FF6FD0C0149]\n",
      "\tBaseThreadInitThunk [0x00007FFB7AAA7374+20]\n",
      "\tRtlUserThreadStart [0x00007FFB7C37CC91+33]\n",
      "\n"
     ]
    },
    {
     "name": "stderr",
     "output_type": "stream",
     "text": [
      "Processing URLs:   2%|    | 621/29446 [1:08:27<51:26:03,  6.42s/it]"
     ]
    },
    {
     "name": "stdout",
     "output_type": "stream",
     "text": [
      "Error fetching URL: https://www.agoda.com/partners/partnersearch.aspx?hid=286615 - Message: no such element: Unable to locate element: {\"method\":\"css selector\",\"selector\":\"a[data-element-name='property-card-content']\"}\n",
      "  (Session info: chrome=130.0.6723.117); For documentation on this error, please visit: https://www.selenium.dev/documentation/webdriver/troubleshooting/errors#no-such-element-exception\n",
      "Stacktrace:\n",
      "\tGetHandleVerifier [0x00007FF6FD4338A5+3004357]\n",
      "\t(No symbol) [0x00007FF6FD0C9970]\n",
      "\t(No symbol) [0x00007FF6FCF7582A]\n",
      "\t(No symbol) [0x00007FF6FCFC5B8E]\n",
      "\t(No symbol) [0x00007FF6FCFC5E7C]\n",
      "\t(No symbol) [0x00007FF6FD00EC27]\n",
      "\t(No symbol) [0x00007FF6FCFEBC1F]\n",
      "\t(No symbol) [0x00007FF6FD00BA4C]\n",
      "\t(No symbol) [0x00007FF6FCFEB983]\n",
      "\t(No symbol) [0x00007FF6FCFB7628]\n",
      "\t(No symbol) [0x00007FF6FCFB8791]\n",
      "\tGetHandleVerifier [0x00007FF6FD45A00D+3161901]\n",
      "\tGetHandleVerifier [0x00007FF6FD4AE060+3506048]\n",
      "\tGetHandleVerifier [0x00007FF6FD4A400D+3465005]\n",
      "\tGetHandleVerifier [0x00007FF6FD220EEB+830987]\n",
      "\t(No symbol) [0x00007FF6FD0D467F]\n",
      "\t(No symbol) [0x00007FF6FD0D09D4]\n",
      "\t(No symbol) [0x00007FF6FD0D0B6D]\n",
      "\t(No symbol) [0x00007FF6FD0C0149]\n",
      "\tBaseThreadInitThunk [0x00007FFB7AAA7374+20]\n",
      "\tRtlUserThreadStart [0x00007FFB7C37CC91+33]\n",
      "\n"
     ]
    },
    {
     "name": "stderr",
     "output_type": "stream",
     "text": [
      "Processing URLs:   2%|    | 622/29446 [1:08:34<51:52:47,  6.48s/it]"
     ]
    },
    {
     "name": "stdout",
     "output_type": "stream",
     "text": [
      "Error fetching URL: https://www.agoda.com/partners/partnersearch.aspx?hid=286627 - Message: no such element: Unable to locate element: {\"method\":\"css selector\",\"selector\":\"a[data-element-name='property-card-content']\"}\n",
      "  (Session info: chrome=130.0.6723.117); For documentation on this error, please visit: https://www.selenium.dev/documentation/webdriver/troubleshooting/errors#no-such-element-exception\n",
      "Stacktrace:\n",
      "\tGetHandleVerifier [0x00007FF6FD4338A5+3004357]\n",
      "\t(No symbol) [0x00007FF6FD0C9970]\n",
      "\t(No symbol) [0x00007FF6FCF7582A]\n",
      "\t(No symbol) [0x00007FF6FCFC5B8E]\n",
      "\t(No symbol) [0x00007FF6FCFC5E7C]\n",
      "\t(No symbol) [0x00007FF6FD00EC27]\n",
      "\t(No symbol) [0x00007FF6FCFEBC1F]\n",
      "\t(No symbol) [0x00007FF6FD00BA4C]\n",
      "\t(No symbol) [0x00007FF6FCFEB983]\n",
      "\t(No symbol) [0x00007FF6FCFB7628]\n",
      "\t(No symbol) [0x00007FF6FCFB8791]\n",
      "\tGetHandleVerifier [0x00007FF6FD45A00D+3161901]\n",
      "\tGetHandleVerifier [0x00007FF6FD4AE060+3506048]\n",
      "\tGetHandleVerifier [0x00007FF6FD4A400D+3465005]\n",
      "\tGetHandleVerifier [0x00007FF6FD220EEB+830987]\n",
      "\t(No symbol) [0x00007FF6FD0D467F]\n",
      "\t(No symbol) [0x00007FF6FD0D09D4]\n",
      "\t(No symbol) [0x00007FF6FD0D0B6D]\n",
      "\t(No symbol) [0x00007FF6FD0C0149]\n",
      "\tBaseThreadInitThunk [0x00007FFB7AAA7374+20]\n",
      "\tRtlUserThreadStart [0x00007FFB7C37CC91+33]\n",
      "\n"
     ]
    },
    {
     "name": "stderr",
     "output_type": "stream",
     "text": [
      "Processing URLs:   2%|    | 623/29446 [1:08:40<52:14:01,  6.52s/it]"
     ]
    },
    {
     "name": "stdout",
     "output_type": "stream",
     "text": [
      "Error fetching URL: https://www.agoda.com/partners/partnersearch.aspx?hid=286768 - Message: no such element: Unable to locate element: {\"method\":\"css selector\",\"selector\":\"a[data-element-name='property-card-content']\"}\n",
      "  (Session info: chrome=130.0.6723.117); For documentation on this error, please visit: https://www.selenium.dev/documentation/webdriver/troubleshooting/errors#no-such-element-exception\n",
      "Stacktrace:\n",
      "\tGetHandleVerifier [0x00007FF6FD4338A5+3004357]\n",
      "\t(No symbol) [0x00007FF6FD0C9970]\n",
      "\t(No symbol) [0x00007FF6FCF7582A]\n",
      "\t(No symbol) [0x00007FF6FCFC5B8E]\n",
      "\t(No symbol) [0x00007FF6FCFC5E7C]\n",
      "\t(No symbol) [0x00007FF6FD00EC27]\n",
      "\t(No symbol) [0x00007FF6FCFEBC1F]\n",
      "\t(No symbol) [0x00007FF6FD00BA4C]\n",
      "\t(No symbol) [0x00007FF6FCFEB983]\n",
      "\t(No symbol) [0x00007FF6FCFB7628]\n",
      "\t(No symbol) [0x00007FF6FCFB8791]\n",
      "\tGetHandleVerifier [0x00007FF6FD45A00D+3161901]\n",
      "\tGetHandleVerifier [0x00007FF6FD4AE060+3506048]\n",
      "\tGetHandleVerifier [0x00007FF6FD4A400D+3465005]\n",
      "\tGetHandleVerifier [0x00007FF6FD220EEB+830987]\n",
      "\t(No symbol) [0x00007FF6FD0D467F]\n",
      "\t(No symbol) [0x00007FF6FD0D09D4]\n",
      "\t(No symbol) [0x00007FF6FD0D0B6D]\n",
      "\t(No symbol) [0x00007FF6FD0C0149]\n",
      "\tBaseThreadInitThunk [0x00007FFB7AAA7374+20]\n",
      "\tRtlUserThreadStart [0x00007FFB7C37CC91+33]\n",
      "\n"
     ]
    },
    {
     "name": "stderr",
     "output_type": "stream",
     "text": [
      "Processing URLs:   2%|    | 624/29446 [1:08:47<51:42:36,  6.46s/it]"
     ]
    },
    {
     "name": "stdout",
     "output_type": "stream",
     "text": [
      "Error fetching URL: https://www.agoda.com/partners/partnersearch.aspx?hid=286785 - Message: no such element: Unable to locate element: {\"method\":\"css selector\",\"selector\":\"a[data-element-name='property-card-content']\"}\n",
      "  (Session info: chrome=130.0.6723.117); For documentation on this error, please visit: https://www.selenium.dev/documentation/webdriver/troubleshooting/errors#no-such-element-exception\n",
      "Stacktrace:\n",
      "\tGetHandleVerifier [0x00007FF6FD4338A5+3004357]\n",
      "\t(No symbol) [0x00007FF6FD0C9970]\n",
      "\t(No symbol) [0x00007FF6FCF7582A]\n",
      "\t(No symbol) [0x00007FF6FCFC5B8E]\n",
      "\t(No symbol) [0x00007FF6FCFC5E7C]\n",
      "\t(No symbol) [0x00007FF6FD00EC27]\n",
      "\t(No symbol) [0x00007FF6FCFEBC1F]\n",
      "\t(No symbol) [0x00007FF6FD00BA4C]\n",
      "\t(No symbol) [0x00007FF6FCFEB983]\n",
      "\t(No symbol) [0x00007FF6FCFB7628]\n",
      "\t(No symbol) [0x00007FF6FCFB8791]\n",
      "\tGetHandleVerifier [0x00007FF6FD45A00D+3161901]\n",
      "\tGetHandleVerifier [0x00007FF6FD4AE060+3506048]\n",
      "\tGetHandleVerifier [0x00007FF6FD4A400D+3465005]\n",
      "\tGetHandleVerifier [0x00007FF6FD220EEB+830987]\n",
      "\t(No symbol) [0x00007FF6FD0D467F]\n",
      "\t(No symbol) [0x00007FF6FD0D09D4]\n",
      "\t(No symbol) [0x00007FF6FD0D0B6D]\n",
      "\t(No symbol) [0x00007FF6FD0C0149]\n",
      "\tBaseThreadInitThunk [0x00007FFB7AAA7374+20]\n",
      "\tRtlUserThreadStart [0x00007FFB7C37CC91+33]\n",
      "\n"
     ]
    },
    {
     "name": "stderr",
     "output_type": "stream",
     "text": [
      "Processing URLs:   2%|    | 625/29446 [1:08:53<51:53:52,  6.48s/it]"
     ]
    },
    {
     "name": "stdout",
     "output_type": "stream",
     "text": [
      "Error fetching URL: https://www.agoda.com/partners/partnersearch.aspx?hid=286890 - Message: no such element: Unable to locate element: {\"method\":\"css selector\",\"selector\":\"a[data-element-name='property-card-content']\"}\n",
      "  (Session info: chrome=130.0.6723.117); For documentation on this error, please visit: https://www.selenium.dev/documentation/webdriver/troubleshooting/errors#no-such-element-exception\n",
      "Stacktrace:\n",
      "\tGetHandleVerifier [0x00007FF6FD4338A5+3004357]\n",
      "\t(No symbol) [0x00007FF6FD0C9970]\n",
      "\t(No symbol) [0x00007FF6FCF7582A]\n",
      "\t(No symbol) [0x00007FF6FCFC5B8E]\n",
      "\t(No symbol) [0x00007FF6FCFC5E7C]\n",
      "\t(No symbol) [0x00007FF6FD00EC27]\n",
      "\t(No symbol) [0x00007FF6FCFEBC1F]\n",
      "\t(No symbol) [0x00007FF6FD00BA4C]\n",
      "\t(No symbol) [0x00007FF6FCFEB983]\n",
      "\t(No symbol) [0x00007FF6FCFB7628]\n",
      "\t(No symbol) [0x00007FF6FCFB8791]\n",
      "\tGetHandleVerifier [0x00007FF6FD45A00D+3161901]\n",
      "\tGetHandleVerifier [0x00007FF6FD4AE060+3506048]\n",
      "\tGetHandleVerifier [0x00007FF6FD4A400D+3465005]\n",
      "\tGetHandleVerifier [0x00007FF6FD220EEB+830987]\n",
      "\t(No symbol) [0x00007FF6FD0D467F]\n",
      "\t(No symbol) [0x00007FF6FD0D09D4]\n",
      "\t(No symbol) [0x00007FF6FD0D0B6D]\n",
      "\t(No symbol) [0x00007FF6FD0C0149]\n",
      "\tBaseThreadInitThunk [0x00007FFB7AAA7374+20]\n",
      "\tRtlUserThreadStart [0x00007FFB7C37CC91+33]\n",
      "\n"
     ]
    },
    {
     "name": "stderr",
     "output_type": "stream",
     "text": [
      "Processing URLs:   2%|    | 626/29446 [1:09:00<51:34:46,  6.44s/it]"
     ]
    },
    {
     "name": "stdout",
     "output_type": "stream",
     "text": [
      "Error fetching URL: https://www.agoda.com/partners/partnersearch.aspx?hid=287007 - Message: no such element: Unable to locate element: {\"method\":\"css selector\",\"selector\":\"a[data-element-name='property-card-content']\"}\n",
      "  (Session info: chrome=130.0.6723.117); For documentation on this error, please visit: https://www.selenium.dev/documentation/webdriver/troubleshooting/errors#no-such-element-exception\n",
      "Stacktrace:\n",
      "\tGetHandleVerifier [0x00007FF6FD4338A5+3004357]\n",
      "\t(No symbol) [0x00007FF6FD0C9970]\n",
      "\t(No symbol) [0x00007FF6FCF7582A]\n",
      "\t(No symbol) [0x00007FF6FCFC5B8E]\n",
      "\t(No symbol) [0x00007FF6FCFC5E7C]\n",
      "\t(No symbol) [0x00007FF6FD00EC27]\n",
      "\t(No symbol) [0x00007FF6FCFEBC1F]\n",
      "\t(No symbol) [0x00007FF6FD00BA4C]\n",
      "\t(No symbol) [0x00007FF6FCFEB983]\n",
      "\t(No symbol) [0x00007FF6FCFB7628]\n",
      "\t(No symbol) [0x00007FF6FCFB8791]\n",
      "\tGetHandleVerifier [0x00007FF6FD45A00D+3161901]\n",
      "\tGetHandleVerifier [0x00007FF6FD4AE060+3506048]\n",
      "\tGetHandleVerifier [0x00007FF6FD4A400D+3465005]\n",
      "\tGetHandleVerifier [0x00007FF6FD220EEB+830987]\n",
      "\t(No symbol) [0x00007FF6FD0D467F]\n",
      "\t(No symbol) [0x00007FF6FD0D09D4]\n",
      "\t(No symbol) [0x00007FF6FD0D0B6D]\n",
      "\t(No symbol) [0x00007FF6FD0C0149]\n",
      "\tBaseThreadInitThunk [0x00007FFB7AAA7374+20]\n",
      "\tRtlUserThreadStart [0x00007FFB7C37CC91+33]\n",
      "\n"
     ]
    },
    {
     "name": "stderr",
     "output_type": "stream",
     "text": [
      "Processing URLs:   2%|    | 627/29446 [1:09:06<52:03:09,  6.50s/it]"
     ]
    },
    {
     "name": "stdout",
     "output_type": "stream",
     "text": [
      "Error fetching URL: https://www.agoda.com/partners/partnersearch.aspx?hid=287090 - Message: no such element: Unable to locate element: {\"method\":\"css selector\",\"selector\":\"a[data-element-name='property-card-content']\"}\n",
      "  (Session info: chrome=130.0.6723.117); For documentation on this error, please visit: https://www.selenium.dev/documentation/webdriver/troubleshooting/errors#no-such-element-exception\n",
      "Stacktrace:\n",
      "\tGetHandleVerifier [0x00007FF6FD4338A5+3004357]\n",
      "\t(No symbol) [0x00007FF6FD0C9970]\n",
      "\t(No symbol) [0x00007FF6FCF7582A]\n",
      "\t(No symbol) [0x00007FF6FCFC5B8E]\n",
      "\t(No symbol) [0x00007FF6FCFC5E7C]\n",
      "\t(No symbol) [0x00007FF6FD00EC27]\n",
      "\t(No symbol) [0x00007FF6FCFEBC1F]\n",
      "\t(No symbol) [0x00007FF6FD00BA4C]\n",
      "\t(No symbol) [0x00007FF6FCFEB983]\n",
      "\t(No symbol) [0x00007FF6FCFB7628]\n",
      "\t(No symbol) [0x00007FF6FCFB8791]\n",
      "\tGetHandleVerifier [0x00007FF6FD45A00D+3161901]\n",
      "\tGetHandleVerifier [0x00007FF6FD4AE060+3506048]\n",
      "\tGetHandleVerifier [0x00007FF6FD4A400D+3465005]\n",
      "\tGetHandleVerifier [0x00007FF6FD220EEB+830987]\n",
      "\t(No symbol) [0x00007FF6FD0D467F]\n",
      "\t(No symbol) [0x00007FF6FD0D09D4]\n",
      "\t(No symbol) [0x00007FF6FD0D0B6D]\n",
      "\t(No symbol) [0x00007FF6FD0C0149]\n",
      "\tBaseThreadInitThunk [0x00007FFB7AAA7374+20]\n",
      "\tRtlUserThreadStart [0x00007FFB7C37CC91+33]\n",
      "\n"
     ]
    },
    {
     "name": "stderr",
     "output_type": "stream",
     "text": [
      "Processing URLs:   2%|    | 628/29446 [1:09:13<52:17:49,  6.53s/it]"
     ]
    },
    {
     "name": "stdout",
     "output_type": "stream",
     "text": [
      "Error fetching URL: https://www.agoda.com/partners/partnersearch.aspx?hid=287126 - Message: no such element: Unable to locate element: {\"method\":\"css selector\",\"selector\":\"a[data-element-name='property-card-content']\"}\n",
      "  (Session info: chrome=130.0.6723.117); For documentation on this error, please visit: https://www.selenium.dev/documentation/webdriver/troubleshooting/errors#no-such-element-exception\n",
      "Stacktrace:\n",
      "\tGetHandleVerifier [0x00007FF6FD4338A5+3004357]\n",
      "\t(No symbol) [0x00007FF6FD0C9970]\n",
      "\t(No symbol) [0x00007FF6FCF7582A]\n",
      "\t(No symbol) [0x00007FF6FCFC5B8E]\n",
      "\t(No symbol) [0x00007FF6FCFC5E7C]\n",
      "\t(No symbol) [0x00007FF6FD00EC27]\n",
      "\t(No symbol) [0x00007FF6FCFEBC1F]\n",
      "\t(No symbol) [0x00007FF6FD00BA4C]\n",
      "\t(No symbol) [0x00007FF6FCFEB983]\n",
      "\t(No symbol) [0x00007FF6FCFB7628]\n",
      "\t(No symbol) [0x00007FF6FCFB8791]\n",
      "\tGetHandleVerifier [0x00007FF6FD45A00D+3161901]\n",
      "\tGetHandleVerifier [0x00007FF6FD4AE060+3506048]\n",
      "\tGetHandleVerifier [0x00007FF6FD4A400D+3465005]\n",
      "\tGetHandleVerifier [0x00007FF6FD220EEB+830987]\n",
      "\t(No symbol) [0x00007FF6FD0D467F]\n",
      "\t(No symbol) [0x00007FF6FD0D09D4]\n",
      "\t(No symbol) [0x00007FF6FD0D0B6D]\n",
      "\t(No symbol) [0x00007FF6FD0C0149]\n",
      "\tBaseThreadInitThunk [0x00007FFB7AAA7374+20]\n",
      "\tRtlUserThreadStart [0x00007FFB7C37CC91+33]\n",
      "\n"
     ]
    },
    {
     "name": "stderr",
     "output_type": "stream",
     "text": [
      "Processing URLs:   2%|    | 629/29446 [1:09:19<51:54:09,  6.48s/it]"
     ]
    },
    {
     "name": "stdout",
     "output_type": "stream",
     "text": [
      "Error fetching URL: https://www.agoda.com/partners/partnersearch.aspx?hid=287127 - Message: no such element: Unable to locate element: {\"method\":\"css selector\",\"selector\":\"a[data-element-name='property-card-content']\"}\n",
      "  (Session info: chrome=130.0.6723.117); For documentation on this error, please visit: https://www.selenium.dev/documentation/webdriver/troubleshooting/errors#no-such-element-exception\n",
      "Stacktrace:\n",
      "\tGetHandleVerifier [0x00007FF6FD4338A5+3004357]\n",
      "\t(No symbol) [0x00007FF6FD0C9970]\n",
      "\t(No symbol) [0x00007FF6FCF7582A]\n",
      "\t(No symbol) [0x00007FF6FCFC5B8E]\n",
      "\t(No symbol) [0x00007FF6FCFC5E7C]\n",
      "\t(No symbol) [0x00007FF6FD00EC27]\n",
      "\t(No symbol) [0x00007FF6FCFEBC1F]\n",
      "\t(No symbol) [0x00007FF6FD00BA4C]\n",
      "\t(No symbol) [0x00007FF6FCFEB983]\n",
      "\t(No symbol) [0x00007FF6FCFB7628]\n",
      "\t(No symbol) [0x00007FF6FCFB8791]\n",
      "\tGetHandleVerifier [0x00007FF6FD45A00D+3161901]\n",
      "\tGetHandleVerifier [0x00007FF6FD4AE060+3506048]\n",
      "\tGetHandleVerifier [0x00007FF6FD4A400D+3465005]\n",
      "\tGetHandleVerifier [0x00007FF6FD220EEB+830987]\n",
      "\t(No symbol) [0x00007FF6FD0D467F]\n",
      "\t(No symbol) [0x00007FF6FD0D09D4]\n",
      "\t(No symbol) [0x00007FF6FD0D0B6D]\n",
      "\t(No symbol) [0x00007FF6FD0C0149]\n",
      "\tBaseThreadInitThunk [0x00007FFB7AAA7374+20]\n",
      "\tRtlUserThreadStart [0x00007FFB7C37CC91+33]\n",
      "\n"
     ]
    },
    {
     "name": "stderr",
     "output_type": "stream",
     "text": [
      "Processing URLs:   2%|    | 630/29446 [1:09:25<51:22:18,  6.42s/it]"
     ]
    },
    {
     "name": "stdout",
     "output_type": "stream",
     "text": [
      "Error fetching URL: https://www.agoda.com/partners/partnersearch.aspx?hid=287338 - Message: no such element: Unable to locate element: {\"method\":\"css selector\",\"selector\":\"a[data-element-name='property-card-content']\"}\n",
      "  (Session info: chrome=130.0.6723.117); For documentation on this error, please visit: https://www.selenium.dev/documentation/webdriver/troubleshooting/errors#no-such-element-exception\n",
      "Stacktrace:\n",
      "\tGetHandleVerifier [0x00007FF6FD4338A5+3004357]\n",
      "\t(No symbol) [0x00007FF6FD0C9970]\n",
      "\t(No symbol) [0x00007FF6FCF7582A]\n",
      "\t(No symbol) [0x00007FF6FCFC5B8E]\n",
      "\t(No symbol) [0x00007FF6FCFC5E7C]\n",
      "\t(No symbol) [0x00007FF6FD00EC27]\n",
      "\t(No symbol) [0x00007FF6FCFEBC1F]\n",
      "\t(No symbol) [0x00007FF6FD00BA4C]\n",
      "\t(No symbol) [0x00007FF6FCFEB983]\n",
      "\t(No symbol) [0x00007FF6FCFB7628]\n",
      "\t(No symbol) [0x00007FF6FCFB8791]\n",
      "\tGetHandleVerifier [0x00007FF6FD45A00D+3161901]\n",
      "\tGetHandleVerifier [0x00007FF6FD4AE060+3506048]\n",
      "\tGetHandleVerifier [0x00007FF6FD4A400D+3465005]\n",
      "\tGetHandleVerifier [0x00007FF6FD220EEB+830987]\n",
      "\t(No symbol) [0x00007FF6FD0D467F]\n",
      "\t(No symbol) [0x00007FF6FD0D09D4]\n",
      "\t(No symbol) [0x00007FF6FD0D0B6D]\n",
      "\t(No symbol) [0x00007FF6FD0C0149]\n",
      "\tBaseThreadInitThunk [0x00007FFB7AAA7374+20]\n",
      "\tRtlUserThreadStart [0x00007FFB7C37CC91+33]\n",
      "\n"
     ]
    },
    {
     "name": "stderr",
     "output_type": "stream",
     "text": [
      "Processing URLs:   2%|    | 632/29446 [1:09:39<52:00:46,  6.50s/it]"
     ]
    },
    {
     "name": "stdout",
     "output_type": "stream",
     "text": [
      "Error fetching URL: https://www.agoda.com/partners/partnersearch.aspx?hid=287954 - Message: no such element: Unable to locate element: {\"method\":\"css selector\",\"selector\":\"a[data-element-name='property-card-content']\"}\n",
      "  (Session info: chrome=130.0.6723.117); For documentation on this error, please visit: https://www.selenium.dev/documentation/webdriver/troubleshooting/errors#no-such-element-exception\n",
      "Stacktrace:\n",
      "\tGetHandleVerifier [0x00007FF6FD4338A5+3004357]\n",
      "\t(No symbol) [0x00007FF6FD0C9970]\n",
      "\t(No symbol) [0x00007FF6FCF7582A]\n",
      "\t(No symbol) [0x00007FF6FCFC5B8E]\n",
      "\t(No symbol) [0x00007FF6FCFC5E7C]\n",
      "\t(No symbol) [0x00007FF6FD00EC27]\n",
      "\t(No symbol) [0x00007FF6FCFEBC1F]\n",
      "\t(No symbol) [0x00007FF6FD00BA4C]\n",
      "\t(No symbol) [0x00007FF6FCFEB983]\n",
      "\t(No symbol) [0x00007FF6FCFB7628]\n",
      "\t(No symbol) [0x00007FF6FCFB8791]\n",
      "\tGetHandleVerifier [0x00007FF6FD45A00D+3161901]\n",
      "\tGetHandleVerifier [0x00007FF6FD4AE060+3506048]\n",
      "\tGetHandleVerifier [0x00007FF6FD4A400D+3465005]\n",
      "\tGetHandleVerifier [0x00007FF6FD220EEB+830987]\n",
      "\t(No symbol) [0x00007FF6FD0D467F]\n",
      "\t(No symbol) [0x00007FF6FD0D09D4]\n",
      "\t(No symbol) [0x00007FF6FD0D0B6D]\n",
      "\t(No symbol) [0x00007FF6FD0C0149]\n",
      "\tBaseThreadInitThunk [0x00007FFB7AAA7374+20]\n",
      "\tRtlUserThreadStart [0x00007FFB7C37CC91+33]\n",
      "\n"
     ]
    },
    {
     "name": "stderr",
     "output_type": "stream",
     "text": [
      "Processing URLs:   2%|    | 633/29446 [1:09:45<51:30:34,  6.44s/it]"
     ]
    },
    {
     "name": "stdout",
     "output_type": "stream",
     "text": [
      "Error fetching URL: https://www.agoda.com/partners/partnersearch.aspx?hid=287957 - Message: no such element: Unable to locate element: {\"method\":\"css selector\",\"selector\":\"a[data-element-name='property-card-content']\"}\n",
      "  (Session info: chrome=130.0.6723.117); For documentation on this error, please visit: https://www.selenium.dev/documentation/webdriver/troubleshooting/errors#no-such-element-exception\n",
      "Stacktrace:\n",
      "\tGetHandleVerifier [0x00007FF6FD4338A5+3004357]\n",
      "\t(No symbol) [0x00007FF6FD0C9970]\n",
      "\t(No symbol) [0x00007FF6FCF7582A]\n",
      "\t(No symbol) [0x00007FF6FCFC5B8E]\n",
      "\t(No symbol) [0x00007FF6FCFC5E7C]\n",
      "\t(No symbol) [0x00007FF6FD00EC27]\n",
      "\t(No symbol) [0x00007FF6FCFEBC1F]\n",
      "\t(No symbol) [0x00007FF6FD00BA4C]\n",
      "\t(No symbol) [0x00007FF6FCFEB983]\n",
      "\t(No symbol) [0x00007FF6FCFB7628]\n",
      "\t(No symbol) [0x00007FF6FCFB8791]\n",
      "\tGetHandleVerifier [0x00007FF6FD45A00D+3161901]\n",
      "\tGetHandleVerifier [0x00007FF6FD4AE060+3506048]\n",
      "\tGetHandleVerifier [0x00007FF6FD4A400D+3465005]\n",
      "\tGetHandleVerifier [0x00007FF6FD220EEB+830987]\n",
      "\t(No symbol) [0x00007FF6FD0D467F]\n",
      "\t(No symbol) [0x00007FF6FD0D09D4]\n",
      "\t(No symbol) [0x00007FF6FD0D0B6D]\n",
      "\t(No symbol) [0x00007FF6FD0C0149]\n",
      "\tBaseThreadInitThunk [0x00007FFB7AAA7374+20]\n",
      "\tRtlUserThreadStart [0x00007FFB7C37CC91+33]\n",
      "\n"
     ]
    },
    {
     "name": "stderr",
     "output_type": "stream",
     "text": [
      "Processing URLs:   2%|    | 635/29446 [1:09:58<52:18:08,  6.54s/it]"
     ]
    },
    {
     "name": "stdout",
     "output_type": "stream",
     "text": [
      "Error fetching URL: https://www.agoda.com/partners/partnersearch.aspx?hid=287960 - Message: no such element: Unable to locate element: {\"method\":\"css selector\",\"selector\":\"a[data-element-name='property-card-content']\"}\n",
      "  (Session info: chrome=130.0.6723.117); For documentation on this error, please visit: https://www.selenium.dev/documentation/webdriver/troubleshooting/errors#no-such-element-exception\n",
      "Stacktrace:\n",
      "\tGetHandleVerifier [0x00007FF6FD4338A5+3004357]\n",
      "\t(No symbol) [0x00007FF6FD0C9970]\n",
      "\t(No symbol) [0x00007FF6FCF7582A]\n",
      "\t(No symbol) [0x00007FF6FCFC5B8E]\n",
      "\t(No symbol) [0x00007FF6FCFC5E7C]\n",
      "\t(No symbol) [0x00007FF6FD00EC27]\n",
      "\t(No symbol) [0x00007FF6FCFEBC1F]\n",
      "\t(No symbol) [0x00007FF6FD00BA4C]\n",
      "\t(No symbol) [0x00007FF6FCFEB983]\n",
      "\t(No symbol) [0x00007FF6FCFB7628]\n",
      "\t(No symbol) [0x00007FF6FCFB8791]\n",
      "\tGetHandleVerifier [0x00007FF6FD45A00D+3161901]\n",
      "\tGetHandleVerifier [0x00007FF6FD4AE060+3506048]\n",
      "\tGetHandleVerifier [0x00007FF6FD4A400D+3465005]\n",
      "\tGetHandleVerifier [0x00007FF6FD220EEB+830987]\n",
      "\t(No symbol) [0x00007FF6FD0D467F]\n",
      "\t(No symbol) [0x00007FF6FD0D09D4]\n",
      "\t(No symbol) [0x00007FF6FD0D0B6D]\n",
      "\t(No symbol) [0x00007FF6FD0C0149]\n",
      "\tBaseThreadInitThunk [0x00007FFB7AAA7374+20]\n",
      "\tRtlUserThreadStart [0x00007FFB7C37CC91+33]\n",
      "\n"
     ]
    },
    {
     "name": "stderr",
     "output_type": "stream",
     "text": [
      "Processing URLs:   2%|    | 636/29446 [1:10:04<51:48:57,  6.47s/it]"
     ]
    },
    {
     "name": "stdout",
     "output_type": "stream",
     "text": [
      "Error fetching URL: https://www.agoda.com/partners/partnersearch.aspx?hid=287965 - Message: no such element: Unable to locate element: {\"method\":\"css selector\",\"selector\":\"a[data-element-name='property-card-content']\"}\n",
      "  (Session info: chrome=130.0.6723.117); For documentation on this error, please visit: https://www.selenium.dev/documentation/webdriver/troubleshooting/errors#no-such-element-exception\n",
      "Stacktrace:\n",
      "\tGetHandleVerifier [0x00007FF6FD4338A5+3004357]\n",
      "\t(No symbol) [0x00007FF6FD0C9970]\n",
      "\t(No symbol) [0x00007FF6FCF7582A]\n",
      "\t(No symbol) [0x00007FF6FCFC5B8E]\n",
      "\t(No symbol) [0x00007FF6FCFC5E7C]\n",
      "\t(No symbol) [0x00007FF6FD00EC27]\n",
      "\t(No symbol) [0x00007FF6FCFEBC1F]\n",
      "\t(No symbol) [0x00007FF6FD00BA4C]\n",
      "\t(No symbol) [0x00007FF6FCFEB983]\n",
      "\t(No symbol) [0x00007FF6FCFB7628]\n",
      "\t(No symbol) [0x00007FF6FCFB8791]\n",
      "\tGetHandleVerifier [0x00007FF6FD45A00D+3161901]\n",
      "\tGetHandleVerifier [0x00007FF6FD4AE060+3506048]\n",
      "\tGetHandleVerifier [0x00007FF6FD4A400D+3465005]\n",
      "\tGetHandleVerifier [0x00007FF6FD220EEB+830987]\n",
      "\t(No symbol) [0x00007FF6FD0D467F]\n",
      "\t(No symbol) [0x00007FF6FD0D09D4]\n",
      "\t(No symbol) [0x00007FF6FD0D0B6D]\n",
      "\t(No symbol) [0x00007FF6FD0C0149]\n",
      "\tBaseThreadInitThunk [0x00007FFB7AAA7374+20]\n",
      "\tRtlUserThreadStart [0x00007FFB7C37CC91+33]\n",
      "\n"
     ]
    },
    {
     "name": "stderr",
     "output_type": "stream",
     "text": [
      "Processing URLs:   2%|    | 637/29446 [1:10:11<52:01:51,  6.50s/it]"
     ]
    },
    {
     "name": "stdout",
     "output_type": "stream",
     "text": [
      "Error fetching URL: https://www.agoda.com/partners/partnersearch.aspx?hid=287984 - Message: no such element: Unable to locate element: {\"method\":\"css selector\",\"selector\":\"a[data-element-name='property-card-content']\"}\n",
      "  (Session info: chrome=130.0.6723.117); For documentation on this error, please visit: https://www.selenium.dev/documentation/webdriver/troubleshooting/errors#no-such-element-exception\n",
      "Stacktrace:\n",
      "\tGetHandleVerifier [0x00007FF6FD4338A5+3004357]\n",
      "\t(No symbol) [0x00007FF6FD0C9970]\n",
      "\t(No symbol) [0x00007FF6FCF7582A]\n",
      "\t(No symbol) [0x00007FF6FCFC5B8E]\n",
      "\t(No symbol) [0x00007FF6FCFC5E7C]\n",
      "\t(No symbol) [0x00007FF6FD00EC27]\n",
      "\t(No symbol) [0x00007FF6FCFEBC1F]\n",
      "\t(No symbol) [0x00007FF6FD00BA4C]\n",
      "\t(No symbol) [0x00007FF6FCFEB983]\n",
      "\t(No symbol) [0x00007FF6FCFB7628]\n",
      "\t(No symbol) [0x00007FF6FCFB8791]\n",
      "\tGetHandleVerifier [0x00007FF6FD45A00D+3161901]\n",
      "\tGetHandleVerifier [0x00007FF6FD4AE060+3506048]\n",
      "\tGetHandleVerifier [0x00007FF6FD4A400D+3465005]\n",
      "\tGetHandleVerifier [0x00007FF6FD220EEB+830987]\n",
      "\t(No symbol) [0x00007FF6FD0D467F]\n",
      "\t(No symbol) [0x00007FF6FD0D09D4]\n",
      "\t(No symbol) [0x00007FF6FD0D0B6D]\n",
      "\t(No symbol) [0x00007FF6FD0C0149]\n",
      "\tBaseThreadInitThunk [0x00007FFB7AAA7374+20]\n",
      "\tRtlUserThreadStart [0x00007FFB7C37CC91+33]\n",
      "\n"
     ]
    },
    {
     "name": "stderr",
     "output_type": "stream",
     "text": [
      "Processing URLs:   2%|    | 638/29446 [1:10:18<52:16:16,  6.53s/it]"
     ]
    },
    {
     "name": "stdout",
     "output_type": "stream",
     "text": [
      "Error fetching URL: https://www.agoda.com/partners/partnersearch.aspx?hid=288030 - Message: no such element: Unable to locate element: {\"method\":\"css selector\",\"selector\":\"a[data-element-name='property-card-content']\"}\n",
      "  (Session info: chrome=130.0.6723.117); For documentation on this error, please visit: https://www.selenium.dev/documentation/webdriver/troubleshooting/errors#no-such-element-exception\n",
      "Stacktrace:\n",
      "\tGetHandleVerifier [0x00007FF6FD4338A5+3004357]\n",
      "\t(No symbol) [0x00007FF6FD0C9970]\n",
      "\t(No symbol) [0x00007FF6FCF7582A]\n",
      "\t(No symbol) [0x00007FF6FCFC5B8E]\n",
      "\t(No symbol) [0x00007FF6FCFC5E7C]\n",
      "\t(No symbol) [0x00007FF6FD00EC27]\n",
      "\t(No symbol) [0x00007FF6FCFEBC1F]\n",
      "\t(No symbol) [0x00007FF6FD00BA4C]\n",
      "\t(No symbol) [0x00007FF6FCFEB983]\n",
      "\t(No symbol) [0x00007FF6FCFB7628]\n",
      "\t(No symbol) [0x00007FF6FCFB8791]\n",
      "\tGetHandleVerifier [0x00007FF6FD45A00D+3161901]\n",
      "\tGetHandleVerifier [0x00007FF6FD4AE060+3506048]\n",
      "\tGetHandleVerifier [0x00007FF6FD4A400D+3465005]\n",
      "\tGetHandleVerifier [0x00007FF6FD220EEB+830987]\n",
      "\t(No symbol) [0x00007FF6FD0D467F]\n",
      "\t(No symbol) [0x00007FF6FD0D09D4]\n",
      "\t(No symbol) [0x00007FF6FD0D0B6D]\n",
      "\t(No symbol) [0x00007FF6FD0C0149]\n",
      "\tBaseThreadInitThunk [0x00007FFB7AAA7374+20]\n",
      "\tRtlUserThreadStart [0x00007FFB7C37CC91+33]\n",
      "\n"
     ]
    },
    {
     "name": "stderr",
     "output_type": "stream",
     "text": [
      "Processing URLs:   2%|    | 639/29446 [1:10:24<51:53:46,  6.49s/it]"
     ]
    },
    {
     "name": "stdout",
     "output_type": "stream",
     "text": [
      "Error fetching URL: https://www.agoda.com/partners/partnersearch.aspx?hid=288031 - Message: no such element: Unable to locate element: {\"method\":\"css selector\",\"selector\":\"a[data-element-name='property-card-content']\"}\n",
      "  (Session info: chrome=130.0.6723.117); For documentation on this error, please visit: https://www.selenium.dev/documentation/webdriver/troubleshooting/errors#no-such-element-exception\n",
      "Stacktrace:\n",
      "\tGetHandleVerifier [0x00007FF6FD4338A5+3004357]\n",
      "\t(No symbol) [0x00007FF6FD0C9970]\n",
      "\t(No symbol) [0x00007FF6FCF7582A]\n",
      "\t(No symbol) [0x00007FF6FCFC5B8E]\n",
      "\t(No symbol) [0x00007FF6FCFC5E7C]\n",
      "\t(No symbol) [0x00007FF6FD00EC27]\n",
      "\t(No symbol) [0x00007FF6FCFEBC1F]\n",
      "\t(No symbol) [0x00007FF6FD00BA4C]\n",
      "\t(No symbol) [0x00007FF6FCFEB983]\n",
      "\t(No symbol) [0x00007FF6FCFB7628]\n",
      "\t(No symbol) [0x00007FF6FCFB8791]\n",
      "\tGetHandleVerifier [0x00007FF6FD45A00D+3161901]\n",
      "\tGetHandleVerifier [0x00007FF6FD4AE060+3506048]\n",
      "\tGetHandleVerifier [0x00007FF6FD4A400D+3465005]\n",
      "\tGetHandleVerifier [0x00007FF6FD220EEB+830987]\n",
      "\t(No symbol) [0x00007FF6FD0D467F]\n",
      "\t(No symbol) [0x00007FF6FD0D09D4]\n",
      "\t(No symbol) [0x00007FF6FD0D0B6D]\n",
      "\t(No symbol) [0x00007FF6FD0C0149]\n",
      "\tBaseThreadInitThunk [0x00007FFB7AAA7374+20]\n",
      "\tRtlUserThreadStart [0x00007FFB7C37CC91+33]\n",
      "\n"
     ]
    },
    {
     "name": "stderr",
     "output_type": "stream",
     "text": [
      "Processing URLs:   2%|    | 640/29446 [1:10:30<51:58:03,  6.49s/it]"
     ]
    },
    {
     "name": "stdout",
     "output_type": "stream",
     "text": [
      "Error fetching URL: https://www.agoda.com/partners/partnersearch.aspx?hid=288054 - Message: no such element: Unable to locate element: {\"method\":\"css selector\",\"selector\":\"a[data-element-name='property-card-content']\"}\n",
      "  (Session info: chrome=130.0.6723.117); For documentation on this error, please visit: https://www.selenium.dev/documentation/webdriver/troubleshooting/errors#no-such-element-exception\n",
      "Stacktrace:\n",
      "\tGetHandleVerifier [0x00007FF6FD4338A5+3004357]\n",
      "\t(No symbol) [0x00007FF6FD0C9970]\n",
      "\t(No symbol) [0x00007FF6FCF7582A]\n",
      "\t(No symbol) [0x00007FF6FCFC5B8E]\n",
      "\t(No symbol) [0x00007FF6FCFC5E7C]\n",
      "\t(No symbol) [0x00007FF6FD00EC27]\n",
      "\t(No symbol) [0x00007FF6FCFEBC1F]\n",
      "\t(No symbol) [0x00007FF6FD00BA4C]\n",
      "\t(No symbol) [0x00007FF6FCFEB983]\n",
      "\t(No symbol) [0x00007FF6FCFB7628]\n",
      "\t(No symbol) [0x00007FF6FCFB8791]\n",
      "\tGetHandleVerifier [0x00007FF6FD45A00D+3161901]\n",
      "\tGetHandleVerifier [0x00007FF6FD4AE060+3506048]\n",
      "\tGetHandleVerifier [0x00007FF6FD4A400D+3465005]\n",
      "\tGetHandleVerifier [0x00007FF6FD220EEB+830987]\n",
      "\t(No symbol) [0x00007FF6FD0D467F]\n",
      "\t(No symbol) [0x00007FF6FD0D09D4]\n",
      "\t(No symbol) [0x00007FF6FD0D0B6D]\n",
      "\t(No symbol) [0x00007FF6FD0C0149]\n",
      "\tBaseThreadInitThunk [0x00007FFB7AAA7374+20]\n",
      "\tRtlUserThreadStart [0x00007FFB7C37CC91+33]\n",
      "\n"
     ]
    },
    {
     "name": "stderr",
     "output_type": "stream",
     "text": [
      "Processing URLs:   2%|    | 641/29446 [1:10:37<52:15:43,  6.53s/it]"
     ]
    },
    {
     "name": "stdout",
     "output_type": "stream",
     "text": [
      "Error fetching URL: https://www.agoda.com/partners/partnersearch.aspx?hid=288075 - Message: no such element: Unable to locate element: {\"method\":\"css selector\",\"selector\":\"a[data-element-name='property-card-content']\"}\n",
      "  (Session info: chrome=130.0.6723.117); For documentation on this error, please visit: https://www.selenium.dev/documentation/webdriver/troubleshooting/errors#no-such-element-exception\n",
      "Stacktrace:\n",
      "\tGetHandleVerifier [0x00007FF6FD4338A5+3004357]\n",
      "\t(No symbol) [0x00007FF6FD0C9970]\n",
      "\t(No symbol) [0x00007FF6FCF7582A]\n",
      "\t(No symbol) [0x00007FF6FCFC5B8E]\n",
      "\t(No symbol) [0x00007FF6FCFC5E7C]\n",
      "\t(No symbol) [0x00007FF6FD00EC27]\n",
      "\t(No symbol) [0x00007FF6FCFEBC1F]\n",
      "\t(No symbol) [0x00007FF6FD00BA4C]\n",
      "\t(No symbol) [0x00007FF6FCFEB983]\n",
      "\t(No symbol) [0x00007FF6FCFB7628]\n",
      "\t(No symbol) [0x00007FF6FCFB8791]\n",
      "\tGetHandleVerifier [0x00007FF6FD45A00D+3161901]\n",
      "\tGetHandleVerifier [0x00007FF6FD4AE060+3506048]\n",
      "\tGetHandleVerifier [0x00007FF6FD4A400D+3465005]\n",
      "\tGetHandleVerifier [0x00007FF6FD220EEB+830987]\n",
      "\t(No symbol) [0x00007FF6FD0D467F]\n",
      "\t(No symbol) [0x00007FF6FD0D09D4]\n",
      "\t(No symbol) [0x00007FF6FD0D0B6D]\n",
      "\t(No symbol) [0x00007FF6FD0C0149]\n",
      "\tBaseThreadInitThunk [0x00007FFB7AAA7374+20]\n",
      "\tRtlUserThreadStart [0x00007FFB7C37CC91+33]\n",
      "\n"
     ]
    },
    {
     "name": "stderr",
     "output_type": "stream",
     "text": [
      "Processing URLs:   2%|    | 642/29446 [1:10:43<51:45:23,  6.47s/it]"
     ]
    },
    {
     "name": "stdout",
     "output_type": "stream",
     "text": [
      "Error fetching URL: https://www.agoda.com/partners/partnersearch.aspx?hid=288116 - Message: no such element: Unable to locate element: {\"method\":\"css selector\",\"selector\":\"a[data-element-name='property-card-content']\"}\n",
      "  (Session info: chrome=130.0.6723.117); For documentation on this error, please visit: https://www.selenium.dev/documentation/webdriver/troubleshooting/errors#no-such-element-exception\n",
      "Stacktrace:\n",
      "\tGetHandleVerifier [0x00007FF6FD4338A5+3004357]\n",
      "\t(No symbol) [0x00007FF6FD0C9970]\n",
      "\t(No symbol) [0x00007FF6FCF7582A]\n",
      "\t(No symbol) [0x00007FF6FCFC5B8E]\n",
      "\t(No symbol) [0x00007FF6FCFC5E7C]\n",
      "\t(No symbol) [0x00007FF6FD00EC27]\n",
      "\t(No symbol) [0x00007FF6FCFEBC1F]\n",
      "\t(No symbol) [0x00007FF6FD00BA4C]\n",
      "\t(No symbol) [0x00007FF6FCFEB983]\n",
      "\t(No symbol) [0x00007FF6FCFB7628]\n",
      "\t(No symbol) [0x00007FF6FCFB8791]\n",
      "\tGetHandleVerifier [0x00007FF6FD45A00D+3161901]\n",
      "\tGetHandleVerifier [0x00007FF6FD4AE060+3506048]\n",
      "\tGetHandleVerifier [0x00007FF6FD4A400D+3465005]\n",
      "\tGetHandleVerifier [0x00007FF6FD220EEB+830987]\n",
      "\t(No symbol) [0x00007FF6FD0D467F]\n",
      "\t(No symbol) [0x00007FF6FD0D09D4]\n",
      "\t(No symbol) [0x00007FF6FD0D0B6D]\n",
      "\t(No symbol) [0x00007FF6FD0C0149]\n",
      "\tBaseThreadInitThunk [0x00007FFB7AAA7374+20]\n",
      "\tRtlUserThreadStart [0x00007FFB7C37CC91+33]\n",
      "\n"
     ]
    },
    {
     "name": "stderr",
     "output_type": "stream",
     "text": [
      "Processing URLs:   2%|    | 643/29446 [1:10:50<51:55:53,  6.49s/it]"
     ]
    },
    {
     "name": "stdout",
     "output_type": "stream",
     "text": [
      "Error fetching URL: https://www.agoda.com/partners/partnersearch.aspx?hid=288126 - Message: no such element: Unable to locate element: {\"method\":\"css selector\",\"selector\":\"a[data-element-name='property-card-content']\"}\n",
      "  (Session info: chrome=130.0.6723.117); For documentation on this error, please visit: https://www.selenium.dev/documentation/webdriver/troubleshooting/errors#no-such-element-exception\n",
      "Stacktrace:\n",
      "\tGetHandleVerifier [0x00007FF6FD4338A5+3004357]\n",
      "\t(No symbol) [0x00007FF6FD0C9970]\n",
      "\t(No symbol) [0x00007FF6FCF7582A]\n",
      "\t(No symbol) [0x00007FF6FCFC5B8E]\n",
      "\t(No symbol) [0x00007FF6FCFC5E7C]\n",
      "\t(No symbol) [0x00007FF6FD00EC27]\n",
      "\t(No symbol) [0x00007FF6FCFEBC1F]\n",
      "\t(No symbol) [0x00007FF6FD00BA4C]\n",
      "\t(No symbol) [0x00007FF6FCFEB983]\n",
      "\t(No symbol) [0x00007FF6FCFB7628]\n",
      "\t(No symbol) [0x00007FF6FCFB8791]\n",
      "\tGetHandleVerifier [0x00007FF6FD45A00D+3161901]\n",
      "\tGetHandleVerifier [0x00007FF6FD4AE060+3506048]\n",
      "\tGetHandleVerifier [0x00007FF6FD4A400D+3465005]\n",
      "\tGetHandleVerifier [0x00007FF6FD220EEB+830987]\n",
      "\t(No symbol) [0x00007FF6FD0D467F]\n",
      "\t(No symbol) [0x00007FF6FD0D09D4]\n",
      "\t(No symbol) [0x00007FF6FD0D0B6D]\n",
      "\t(No symbol) [0x00007FF6FD0C0149]\n",
      "\tBaseThreadInitThunk [0x00007FFB7AAA7374+20]\n",
      "\tRtlUserThreadStart [0x00007FFB7C37CC91+33]\n",
      "\n"
     ]
    },
    {
     "name": "stderr",
     "output_type": "stream",
     "text": [
      "Processing URLs:   2%|    | 644/29446 [1:10:56<51:35:34,  6.45s/it]"
     ]
    },
    {
     "name": "stdout",
     "output_type": "stream",
     "text": [
      "Error fetching URL: https://www.agoda.com/partners/partnersearch.aspx?hid=288142 - Message: no such element: Unable to locate element: {\"method\":\"css selector\",\"selector\":\"a[data-element-name='property-card-content']\"}\n",
      "  (Session info: chrome=130.0.6723.117); For documentation on this error, please visit: https://www.selenium.dev/documentation/webdriver/troubleshooting/errors#no-such-element-exception\n",
      "Stacktrace:\n",
      "\tGetHandleVerifier [0x00007FF6FD4338A5+3004357]\n",
      "\t(No symbol) [0x00007FF6FD0C9970]\n",
      "\t(No symbol) [0x00007FF6FCF7582A]\n",
      "\t(No symbol) [0x00007FF6FCFC5B8E]\n",
      "\t(No symbol) [0x00007FF6FCFC5E7C]\n",
      "\t(No symbol) [0x00007FF6FD00EC27]\n",
      "\t(No symbol) [0x00007FF6FCFEBC1F]\n",
      "\t(No symbol) [0x00007FF6FD00BA4C]\n",
      "\t(No symbol) [0x00007FF6FCFEB983]\n",
      "\t(No symbol) [0x00007FF6FCFB7628]\n",
      "\t(No symbol) [0x00007FF6FCFB8791]\n",
      "\tGetHandleVerifier [0x00007FF6FD45A00D+3161901]\n",
      "\tGetHandleVerifier [0x00007FF6FD4AE060+3506048]\n",
      "\tGetHandleVerifier [0x00007FF6FD4A400D+3465005]\n",
      "\tGetHandleVerifier [0x00007FF6FD220EEB+830987]\n",
      "\t(No symbol) [0x00007FF6FD0D467F]\n",
      "\t(No symbol) [0x00007FF6FD0D09D4]\n",
      "\t(No symbol) [0x00007FF6FD0D0B6D]\n",
      "\t(No symbol) [0x00007FF6FD0C0149]\n",
      "\tBaseThreadInitThunk [0x00007FFB7AAA7374+20]\n",
      "\tRtlUserThreadStart [0x00007FFB7C37CC91+33]\n",
      "\n"
     ]
    },
    {
     "name": "stderr",
     "output_type": "stream",
     "text": [
      "Processing URLs:   2%|    | 645/29446 [1:11:03<51:26:44,  6.43s/it]"
     ]
    },
    {
     "name": "stdout",
     "output_type": "stream",
     "text": [
      "Error fetching URL: https://www.agoda.com/partners/partnersearch.aspx?hid=288164 - Message: no such element: Unable to locate element: {\"method\":\"css selector\",\"selector\":\"a[data-element-name='property-card-content']\"}\n",
      "  (Session info: chrome=130.0.6723.117); For documentation on this error, please visit: https://www.selenium.dev/documentation/webdriver/troubleshooting/errors#no-such-element-exception\n",
      "Stacktrace:\n",
      "\tGetHandleVerifier [0x00007FF6FD4338A5+3004357]\n",
      "\t(No symbol) [0x00007FF6FD0C9970]\n",
      "\t(No symbol) [0x00007FF6FCF7582A]\n",
      "\t(No symbol) [0x00007FF6FCFC5B8E]\n",
      "\t(No symbol) [0x00007FF6FCFC5E7C]\n",
      "\t(No symbol) [0x00007FF6FD00EC27]\n",
      "\t(No symbol) [0x00007FF6FCFEBC1F]\n",
      "\t(No symbol) [0x00007FF6FD00BA4C]\n",
      "\t(No symbol) [0x00007FF6FCFEB983]\n",
      "\t(No symbol) [0x00007FF6FCFB7628]\n",
      "\t(No symbol) [0x00007FF6FCFB8791]\n",
      "\tGetHandleVerifier [0x00007FF6FD45A00D+3161901]\n",
      "\tGetHandleVerifier [0x00007FF6FD4AE060+3506048]\n",
      "\tGetHandleVerifier [0x00007FF6FD4A400D+3465005]\n",
      "\tGetHandleVerifier [0x00007FF6FD220EEB+830987]\n",
      "\t(No symbol) [0x00007FF6FD0D467F]\n",
      "\t(No symbol) [0x00007FF6FD0D09D4]\n",
      "\t(No symbol) [0x00007FF6FD0D0B6D]\n",
      "\t(No symbol) [0x00007FF6FD0C0149]\n",
      "\tBaseThreadInitThunk [0x00007FFB7AAA7374+20]\n",
      "\tRtlUserThreadStart [0x00007FFB7C37CC91+33]\n",
      "\n"
     ]
    },
    {
     "name": "stderr",
     "output_type": "stream",
     "text": [
      "Processing URLs:   2%|    | 648/29446 [1:11:23<53:32:21,  6.69s/it]"
     ]
    },
    {
     "name": "stdout",
     "output_type": "stream",
     "text": [
      "Error fetching URL: https://www.agoda.com/partners/partnersearch.aspx?hid=288271 - Message: no such element: Unable to locate element: {\"method\":\"css selector\",\"selector\":\"a[data-element-name='property-card-content']\"}\n",
      "  (Session info: chrome=130.0.6723.117); For documentation on this error, please visit: https://www.selenium.dev/documentation/webdriver/troubleshooting/errors#no-such-element-exception\n",
      "Stacktrace:\n",
      "\tGetHandleVerifier [0x00007FF6FD4338A5+3004357]\n",
      "\t(No symbol) [0x00007FF6FD0C9970]\n",
      "\t(No symbol) [0x00007FF6FCF7582A]\n",
      "\t(No symbol) [0x00007FF6FCFC5B8E]\n",
      "\t(No symbol) [0x00007FF6FCFC5E7C]\n",
      "\t(No symbol) [0x00007FF6FD00EC27]\n",
      "\t(No symbol) [0x00007FF6FCFEBC1F]\n",
      "\t(No symbol) [0x00007FF6FD00BA4C]\n",
      "\t(No symbol) [0x00007FF6FCFEB983]\n",
      "\t(No symbol) [0x00007FF6FCFB7628]\n",
      "\t(No symbol) [0x00007FF6FCFB8791]\n",
      "\tGetHandleVerifier [0x00007FF6FD45A00D+3161901]\n",
      "\tGetHandleVerifier [0x00007FF6FD4AE060+3506048]\n",
      "\tGetHandleVerifier [0x00007FF6FD4A400D+3465005]\n",
      "\tGetHandleVerifier [0x00007FF6FD220EEB+830987]\n",
      "\t(No symbol) [0x00007FF6FD0D467F]\n",
      "\t(No symbol) [0x00007FF6FD0D09D4]\n",
      "\t(No symbol) [0x00007FF6FD0D0B6D]\n",
      "\t(No symbol) [0x00007FF6FD0C0149]\n",
      "\tBaseThreadInitThunk [0x00007FFB7AAA7374+20]\n",
      "\tRtlUserThreadStart [0x00007FFB7C37CC91+33]\n",
      "\n"
     ]
    },
    {
     "name": "stderr",
     "output_type": "stream",
     "text": [
      "Processing URLs:   2%|    | 649/29446 [1:11:29<53:06:24,  6.64s/it]"
     ]
    },
    {
     "name": "stdout",
     "output_type": "stream",
     "text": [
      "Error fetching URL: https://www.agoda.com/partners/partnersearch.aspx?hid=288282 - Message: no such element: Unable to locate element: {\"method\":\"css selector\",\"selector\":\"a[data-element-name='property-card-content']\"}\n",
      "  (Session info: chrome=130.0.6723.117); For documentation on this error, please visit: https://www.selenium.dev/documentation/webdriver/troubleshooting/errors#no-such-element-exception\n",
      "Stacktrace:\n",
      "\tGetHandleVerifier [0x00007FF6FD4338A5+3004357]\n",
      "\t(No symbol) [0x00007FF6FD0C9970]\n",
      "\t(No symbol) [0x00007FF6FCF7582A]\n",
      "\t(No symbol) [0x00007FF6FCFC5B8E]\n",
      "\t(No symbol) [0x00007FF6FCFC5E7C]\n",
      "\t(No symbol) [0x00007FF6FD00EC27]\n",
      "\t(No symbol) [0x00007FF6FCFEBC1F]\n",
      "\t(No symbol) [0x00007FF6FD00BA4C]\n",
      "\t(No symbol) [0x00007FF6FCFEB983]\n",
      "\t(No symbol) [0x00007FF6FCFB7628]\n",
      "\t(No symbol) [0x00007FF6FCFB8791]\n",
      "\tGetHandleVerifier [0x00007FF6FD45A00D+3161901]\n",
      "\tGetHandleVerifier [0x00007FF6FD4AE060+3506048]\n",
      "\tGetHandleVerifier [0x00007FF6FD4A400D+3465005]\n",
      "\tGetHandleVerifier [0x00007FF6FD220EEB+830987]\n",
      "\t(No symbol) [0x00007FF6FD0D467F]\n",
      "\t(No symbol) [0x00007FF6FD0D09D4]\n",
      "\t(No symbol) [0x00007FF6FD0D0B6D]\n",
      "\t(No symbol) [0x00007FF6FD0C0149]\n",
      "\tBaseThreadInitThunk [0x00007FFB7AAA7374+20]\n",
      "\tRtlUserThreadStart [0x00007FFB7C37CC91+33]\n",
      "\n"
     ]
    },
    {
     "name": "stderr",
     "output_type": "stream",
     "text": [
      "Processing URLs:   2%|    | 650/29446 [1:11:36<52:34:02,  6.57s/it]"
     ]
    },
    {
     "name": "stdout",
     "output_type": "stream",
     "text": [
      "Error fetching URL: https://www.agoda.com/partners/partnersearch.aspx?hid=288312 - Message: no such element: Unable to locate element: {\"method\":\"css selector\",\"selector\":\"a[data-element-name='property-card-content']\"}\n",
      "  (Session info: chrome=130.0.6723.117); For documentation on this error, please visit: https://www.selenium.dev/documentation/webdriver/troubleshooting/errors#no-such-element-exception\n",
      "Stacktrace:\n",
      "\tGetHandleVerifier [0x00007FF6FD4338A5+3004357]\n",
      "\t(No symbol) [0x00007FF6FD0C9970]\n",
      "\t(No symbol) [0x00007FF6FCF7582A]\n",
      "\t(No symbol) [0x00007FF6FCFC5B8E]\n",
      "\t(No symbol) [0x00007FF6FCFC5E7C]\n",
      "\t(No symbol) [0x00007FF6FD00EC27]\n",
      "\t(No symbol) [0x00007FF6FCFEBC1F]\n",
      "\t(No symbol) [0x00007FF6FD00BA4C]\n",
      "\t(No symbol) [0x00007FF6FCFEB983]\n",
      "\t(No symbol) [0x00007FF6FCFB7628]\n",
      "\t(No symbol) [0x00007FF6FCFB8791]\n",
      "\tGetHandleVerifier [0x00007FF6FD45A00D+3161901]\n",
      "\tGetHandleVerifier [0x00007FF6FD4AE060+3506048]\n",
      "\tGetHandleVerifier [0x00007FF6FD4A400D+3465005]\n",
      "\tGetHandleVerifier [0x00007FF6FD220EEB+830987]\n",
      "\t(No symbol) [0x00007FF6FD0D467F]\n",
      "\t(No symbol) [0x00007FF6FD0D09D4]\n",
      "\t(No symbol) [0x00007FF6FD0D0B6D]\n",
      "\t(No symbol) [0x00007FF6FD0C0149]\n",
      "\tBaseThreadInitThunk [0x00007FFB7AAA7374+20]\n",
      "\tRtlUserThreadStart [0x00007FFB7C37CC91+33]\n",
      "\n"
     ]
    },
    {
     "name": "stderr",
     "output_type": "stream",
     "text": [
      "Processing URLs:   2%|    | 651/29446 [1:11:42<52:46:39,  6.60s/it]"
     ]
    },
    {
     "name": "stdout",
     "output_type": "stream",
     "text": [
      "Error fetching URL: https://www.agoda.com/partners/partnersearch.aspx?hid=288393 - Message: no such element: Unable to locate element: {\"method\":\"css selector\",\"selector\":\"a[data-element-name='property-card-content']\"}\n",
      "  (Session info: chrome=130.0.6723.117); For documentation on this error, please visit: https://www.selenium.dev/documentation/webdriver/troubleshooting/errors#no-such-element-exception\n",
      "Stacktrace:\n",
      "\tGetHandleVerifier [0x00007FF6FD4338A5+3004357]\n",
      "\t(No symbol) [0x00007FF6FD0C9970]\n",
      "\t(No symbol) [0x00007FF6FCF7582A]\n",
      "\t(No symbol) [0x00007FF6FCFC5B8E]\n",
      "\t(No symbol) [0x00007FF6FCFC5E7C]\n",
      "\t(No symbol) [0x00007FF6FD00EC27]\n",
      "\t(No symbol) [0x00007FF6FCFEBC1F]\n",
      "\t(No symbol) [0x00007FF6FD00BA4C]\n",
      "\t(No symbol) [0x00007FF6FCFEB983]\n",
      "\t(No symbol) [0x00007FF6FCFB7628]\n",
      "\t(No symbol) [0x00007FF6FCFB8791]\n",
      "\tGetHandleVerifier [0x00007FF6FD45A00D+3161901]\n",
      "\tGetHandleVerifier [0x00007FF6FD4AE060+3506048]\n",
      "\tGetHandleVerifier [0x00007FF6FD4A400D+3465005]\n",
      "\tGetHandleVerifier [0x00007FF6FD220EEB+830987]\n",
      "\t(No symbol) [0x00007FF6FD0D467F]\n",
      "\t(No symbol) [0x00007FF6FD0D09D4]\n",
      "\t(No symbol) [0x00007FF6FD0D0B6D]\n",
      "\t(No symbol) [0x00007FF6FD0C0149]\n",
      "\tBaseThreadInitThunk [0x00007FFB7AAA7374+20]\n",
      "\tRtlUserThreadStart [0x00007FFB7C37CC91+33]\n",
      "\n"
     ]
    },
    {
     "name": "stderr",
     "output_type": "stream",
     "text": [
      "Processing URLs:   2%|    | 652/29446 [1:11:49<53:02:30,  6.63s/it]"
     ]
    },
    {
     "name": "stdout",
     "output_type": "stream",
     "text": [
      "Error fetching URL: https://www.agoda.com/partners/partnersearch.aspx?hid=288399 - Message: no such element: Unable to locate element: {\"method\":\"css selector\",\"selector\":\"a[data-element-name='property-card-content']\"}\n",
      "  (Session info: chrome=130.0.6723.117); For documentation on this error, please visit: https://www.selenium.dev/documentation/webdriver/troubleshooting/errors#no-such-element-exception\n",
      "Stacktrace:\n",
      "\tGetHandleVerifier [0x00007FF6FD4338A5+3004357]\n",
      "\t(No symbol) [0x00007FF6FD0C9970]\n",
      "\t(No symbol) [0x00007FF6FCF7582A]\n",
      "\t(No symbol) [0x00007FF6FCFC5B8E]\n",
      "\t(No symbol) [0x00007FF6FCFC5E7C]\n",
      "\t(No symbol) [0x00007FF6FD00EC27]\n",
      "\t(No symbol) [0x00007FF6FCFEBC1F]\n",
      "\t(No symbol) [0x00007FF6FD00BA4C]\n",
      "\t(No symbol) [0x00007FF6FCFEB983]\n",
      "\t(No symbol) [0x00007FF6FCFB7628]\n",
      "\t(No symbol) [0x00007FF6FCFB8791]\n",
      "\tGetHandleVerifier [0x00007FF6FD45A00D+3161901]\n",
      "\tGetHandleVerifier [0x00007FF6FD4AE060+3506048]\n",
      "\tGetHandleVerifier [0x00007FF6FD4A400D+3465005]\n",
      "\tGetHandleVerifier [0x00007FF6FD220EEB+830987]\n",
      "\t(No symbol) [0x00007FF6FD0D467F]\n",
      "\t(No symbol) [0x00007FF6FD0D09D4]\n",
      "\t(No symbol) [0x00007FF6FD0D0B6D]\n",
      "\t(No symbol) [0x00007FF6FD0C0149]\n",
      "\tBaseThreadInitThunk [0x00007FFB7AAA7374+20]\n",
      "\tRtlUserThreadStart [0x00007FFB7C37CC91+33]\n",
      "\n"
     ]
    },
    {
     "name": "stderr",
     "output_type": "stream",
     "text": [
      "Processing URLs:   2%|    | 653/29446 [1:11:56<52:50:38,  6.61s/it]"
     ]
    },
    {
     "name": "stdout",
     "output_type": "stream",
     "text": [
      "Error fetching URL: https://www.agoda.com/partners/partnersearch.aspx?hid=288404 - Message: no such element: Unable to locate element: {\"method\":\"css selector\",\"selector\":\"a[data-element-name='property-card-content']\"}\n",
      "  (Session info: chrome=130.0.6723.117); For documentation on this error, please visit: https://www.selenium.dev/documentation/webdriver/troubleshooting/errors#no-such-element-exception\n",
      "Stacktrace:\n",
      "\tGetHandleVerifier [0x00007FF6FD4338A5+3004357]\n",
      "\t(No symbol) [0x00007FF6FD0C9970]\n",
      "\t(No symbol) [0x00007FF6FCF7582A]\n",
      "\t(No symbol) [0x00007FF6FCFC5B8E]\n",
      "\t(No symbol) [0x00007FF6FCFC5E7C]\n",
      "\t(No symbol) [0x00007FF6FD00EC27]\n",
      "\t(No symbol) [0x00007FF6FCFEBC1F]\n",
      "\t(No symbol) [0x00007FF6FD00BA4C]\n",
      "\t(No symbol) [0x00007FF6FCFEB983]\n",
      "\t(No symbol) [0x00007FF6FCFB7628]\n",
      "\t(No symbol) [0x00007FF6FCFB8791]\n",
      "\tGetHandleVerifier [0x00007FF6FD45A00D+3161901]\n",
      "\tGetHandleVerifier [0x00007FF6FD4AE060+3506048]\n",
      "\tGetHandleVerifier [0x00007FF6FD4A400D+3465005]\n",
      "\tGetHandleVerifier [0x00007FF6FD220EEB+830987]\n",
      "\t(No symbol) [0x00007FF6FD0D467F]\n",
      "\t(No symbol) [0x00007FF6FD0D09D4]\n",
      "\t(No symbol) [0x00007FF6FD0D0B6D]\n",
      "\t(No symbol) [0x00007FF6FD0C0149]\n",
      "\tBaseThreadInitThunk [0x00007FFB7AAA7374+20]\n",
      "\tRtlUserThreadStart [0x00007FFB7C37CC91+33]\n",
      "\n"
     ]
    },
    {
     "name": "stderr",
     "output_type": "stream",
     "text": [
      "Processing URLs:   2%|    | 654/29446 [1:12:02<52:53:54,  6.61s/it]"
     ]
    },
    {
     "name": "stdout",
     "output_type": "stream",
     "text": [
      "Error fetching URL: https://www.agoda.com/partners/partnersearch.aspx?hid=288406 - Message: no such element: Unable to locate element: {\"method\":\"css selector\",\"selector\":\"a[data-element-name='property-card-content']\"}\n",
      "  (Session info: chrome=130.0.6723.117); For documentation on this error, please visit: https://www.selenium.dev/documentation/webdriver/troubleshooting/errors#no-such-element-exception\n",
      "Stacktrace:\n",
      "\tGetHandleVerifier [0x00007FF6FD4338A5+3004357]\n",
      "\t(No symbol) [0x00007FF6FD0C9970]\n",
      "\t(No symbol) [0x00007FF6FCF7582A]\n",
      "\t(No symbol) [0x00007FF6FCFC5B8E]\n",
      "\t(No symbol) [0x00007FF6FCFC5E7C]\n",
      "\t(No symbol) [0x00007FF6FD00EC27]\n",
      "\t(No symbol) [0x00007FF6FCFEBC1F]\n",
      "\t(No symbol) [0x00007FF6FD00BA4C]\n",
      "\t(No symbol) [0x00007FF6FCFEB983]\n",
      "\t(No symbol) [0x00007FF6FCFB7628]\n",
      "\t(No symbol) [0x00007FF6FCFB8791]\n",
      "\tGetHandleVerifier [0x00007FF6FD45A00D+3161901]\n",
      "\tGetHandleVerifier [0x00007FF6FD4AE060+3506048]\n",
      "\tGetHandleVerifier [0x00007FF6FD4A400D+3465005]\n",
      "\tGetHandleVerifier [0x00007FF6FD220EEB+830987]\n",
      "\t(No symbol) [0x00007FF6FD0D467F]\n",
      "\t(No symbol) [0x00007FF6FD0D09D4]\n",
      "\t(No symbol) [0x00007FF6FD0D0B6D]\n",
      "\t(No symbol) [0x00007FF6FD0C0149]\n",
      "\tBaseThreadInitThunk [0x00007FFB7AAA7374+20]\n",
      "\tRtlUserThreadStart [0x00007FFB7C37CC91+33]\n",
      "\n"
     ]
    },
    {
     "name": "stderr",
     "output_type": "stream",
     "text": [
      "Processing URLs:   2%|    | 658/29446 [1:12:29<53:38:18,  6.71s/it]"
     ]
    },
    {
     "name": "stdout",
     "output_type": "stream",
     "text": [
      "Error fetching URL: https://www.agoda.com/partners/partnersearch.aspx?hid=288544 - Message: no such element: Unable to locate element: {\"method\":\"css selector\",\"selector\":\"a[data-element-name='property-card-content']\"}\n",
      "  (Session info: chrome=130.0.6723.117); For documentation on this error, please visit: https://www.selenium.dev/documentation/webdriver/troubleshooting/errors#no-such-element-exception\n",
      "Stacktrace:\n",
      "\tGetHandleVerifier [0x00007FF6FD4338A5+3004357]\n",
      "\t(No symbol) [0x00007FF6FD0C9970]\n",
      "\t(No symbol) [0x00007FF6FCF7582A]\n",
      "\t(No symbol) [0x00007FF6FCFC5B8E]\n",
      "\t(No symbol) [0x00007FF6FCFC5E7C]\n",
      "\t(No symbol) [0x00007FF6FD00EC27]\n",
      "\t(No symbol) [0x00007FF6FCFEBC1F]\n",
      "\t(No symbol) [0x00007FF6FD00BA4C]\n",
      "\t(No symbol) [0x00007FF6FCFEB983]\n",
      "\t(No symbol) [0x00007FF6FCFB7628]\n",
      "\t(No symbol) [0x00007FF6FCFB8791]\n",
      "\tGetHandleVerifier [0x00007FF6FD45A00D+3161901]\n",
      "\tGetHandleVerifier [0x00007FF6FD4AE060+3506048]\n",
      "\tGetHandleVerifier [0x00007FF6FD4A400D+3465005]\n",
      "\tGetHandleVerifier [0x00007FF6FD220EEB+830987]\n",
      "\t(No symbol) [0x00007FF6FD0D467F]\n",
      "\t(No symbol) [0x00007FF6FD0D09D4]\n",
      "\t(No symbol) [0x00007FF6FD0D0B6D]\n",
      "\t(No symbol) [0x00007FF6FD0C0149]\n",
      "\tBaseThreadInitThunk [0x00007FFB7AAA7374+20]\n",
      "\tRtlUserThreadStart [0x00007FFB7C37CC91+33]\n",
      "\n"
     ]
    },
    {
     "name": "stderr",
     "output_type": "stream",
     "text": [
      "Processing URLs:   2%|    | 659/29446 [1:12:36<53:21:59,  6.67s/it]"
     ]
    },
    {
     "name": "stdout",
     "output_type": "stream",
     "text": [
      "Error fetching URL: https://www.agoda.com/partners/partnersearch.aspx?hid=288575 - Message: no such element: Unable to locate element: {\"method\":\"css selector\",\"selector\":\"a[data-element-name='property-card-content']\"}\n",
      "  (Session info: chrome=130.0.6723.117); For documentation on this error, please visit: https://www.selenium.dev/documentation/webdriver/troubleshooting/errors#no-such-element-exception\n",
      "Stacktrace:\n",
      "\tGetHandleVerifier [0x00007FF6FD4338A5+3004357]\n",
      "\t(No symbol) [0x00007FF6FD0C9970]\n",
      "\t(No symbol) [0x00007FF6FCF7582A]\n",
      "\t(No symbol) [0x00007FF6FCFC5B8E]\n",
      "\t(No symbol) [0x00007FF6FCFC5E7C]\n",
      "\t(No symbol) [0x00007FF6FD00EC27]\n",
      "\t(No symbol) [0x00007FF6FCFEBC1F]\n",
      "\t(No symbol) [0x00007FF6FD00BA4C]\n",
      "\t(No symbol) [0x00007FF6FCFEB983]\n",
      "\t(No symbol) [0x00007FF6FCFB7628]\n",
      "\t(No symbol) [0x00007FF6FCFB8791]\n",
      "\tGetHandleVerifier [0x00007FF6FD45A00D+3161901]\n",
      "\tGetHandleVerifier [0x00007FF6FD4AE060+3506048]\n",
      "\tGetHandleVerifier [0x00007FF6FD4A400D+3465005]\n",
      "\tGetHandleVerifier [0x00007FF6FD220EEB+830987]\n",
      "\t(No symbol) [0x00007FF6FD0D467F]\n",
      "\t(No symbol) [0x00007FF6FD0D09D4]\n",
      "\t(No symbol) [0x00007FF6FD0D0B6D]\n",
      "\t(No symbol) [0x00007FF6FD0C0149]\n",
      "\tBaseThreadInitThunk [0x00007FFB7AAA7374+20]\n",
      "\tRtlUserThreadStart [0x00007FFB7C37CC91+33]\n",
      "\n"
     ]
    },
    {
     "name": "stderr",
     "output_type": "stream",
     "text": [
      "Processing URLs:   2%|    | 660/29446 [1:12:42<53:21:52,  6.67s/it]"
     ]
    },
    {
     "name": "stdout",
     "output_type": "stream",
     "text": [
      "Error fetching URL: https://www.agoda.com/partners/partnersearch.aspx?hid=288586 - Message: no such element: Unable to locate element: {\"method\":\"css selector\",\"selector\":\"a[data-element-name='property-card-content']\"}\n",
      "  (Session info: chrome=130.0.6723.117); For documentation on this error, please visit: https://www.selenium.dev/documentation/webdriver/troubleshooting/errors#no-such-element-exception\n",
      "Stacktrace:\n",
      "\tGetHandleVerifier [0x00007FF6FD4338A5+3004357]\n",
      "\t(No symbol) [0x00007FF6FD0C9970]\n",
      "\t(No symbol) [0x00007FF6FCF7582A]\n",
      "\t(No symbol) [0x00007FF6FCFC5B8E]\n",
      "\t(No symbol) [0x00007FF6FCFC5E7C]\n",
      "\t(No symbol) [0x00007FF6FD00EC27]\n",
      "\t(No symbol) [0x00007FF6FCFEBC1F]\n",
      "\t(No symbol) [0x00007FF6FD00BA4C]\n",
      "\t(No symbol) [0x00007FF6FCFEB983]\n",
      "\t(No symbol) [0x00007FF6FCFB7628]\n",
      "\t(No symbol) [0x00007FF6FCFB8791]\n",
      "\tGetHandleVerifier [0x00007FF6FD45A00D+3161901]\n",
      "\tGetHandleVerifier [0x00007FF6FD4AE060+3506048]\n",
      "\tGetHandleVerifier [0x00007FF6FD4A400D+3465005]\n",
      "\tGetHandleVerifier [0x00007FF6FD220EEB+830987]\n",
      "\t(No symbol) [0x00007FF6FD0D467F]\n",
      "\t(No symbol) [0x00007FF6FD0D09D4]\n",
      "\t(No symbol) [0x00007FF6FD0D0B6D]\n",
      "\t(No symbol) [0x00007FF6FD0C0149]\n",
      "\tBaseThreadInitThunk [0x00007FFB7AAA7374+20]\n",
      "\tRtlUserThreadStart [0x00007FFB7C37CC91+33]\n",
      "\n"
     ]
    },
    {
     "name": "stderr",
     "output_type": "stream",
     "text": [
      "Processing URLs:   2%|    | 661/29446 [1:12:49<52:33:24,  6.57s/it]"
     ]
    },
    {
     "name": "stdout",
     "output_type": "stream",
     "text": [
      "Error fetching URL: https://www.agoda.com/partners/partnersearch.aspx?hid=288606 - Message: no such element: Unable to locate element: {\"method\":\"css selector\",\"selector\":\"a[data-element-name='property-card-content']\"}\n",
      "  (Session info: chrome=130.0.6723.117); For documentation on this error, please visit: https://www.selenium.dev/documentation/webdriver/troubleshooting/errors#no-such-element-exception\n",
      "Stacktrace:\n",
      "\tGetHandleVerifier [0x00007FF6FD4338A5+3004357]\n",
      "\t(No symbol) [0x00007FF6FD0C9970]\n",
      "\t(No symbol) [0x00007FF6FCF7582A]\n",
      "\t(No symbol) [0x00007FF6FCFC5B8E]\n",
      "\t(No symbol) [0x00007FF6FCFC5E7C]\n",
      "\t(No symbol) [0x00007FF6FD00EC27]\n",
      "\t(No symbol) [0x00007FF6FCFEBC1F]\n",
      "\t(No symbol) [0x00007FF6FD00BA4C]\n",
      "\t(No symbol) [0x00007FF6FCFEB983]\n",
      "\t(No symbol) [0x00007FF6FCFB7628]\n",
      "\t(No symbol) [0x00007FF6FCFB8791]\n",
      "\tGetHandleVerifier [0x00007FF6FD45A00D+3161901]\n",
      "\tGetHandleVerifier [0x00007FF6FD4AE060+3506048]\n",
      "\tGetHandleVerifier [0x00007FF6FD4A400D+3465005]\n",
      "\tGetHandleVerifier [0x00007FF6FD220EEB+830987]\n",
      "\t(No symbol) [0x00007FF6FD0D467F]\n",
      "\t(No symbol) [0x00007FF6FD0D09D4]\n",
      "\t(No symbol) [0x00007FF6FD0D0B6D]\n",
      "\t(No symbol) [0x00007FF6FD0C0149]\n",
      "\tBaseThreadInitThunk [0x00007FFB7AAA7374+20]\n",
      "\tRtlUserThreadStart [0x00007FFB7C37CC91+33]\n",
      "\n"
     ]
    },
    {
     "name": "stderr",
     "output_type": "stream",
     "text": [
      "Processing URLs:   2%|    | 662/29446 [1:12:55<52:42:24,  6.59s/it]"
     ]
    },
    {
     "name": "stdout",
     "output_type": "stream",
     "text": [
      "Error fetching URL: https://www.agoda.com/partners/partnersearch.aspx?hid=288740 - Message: no such element: Unable to locate element: {\"method\":\"css selector\",\"selector\":\"a[data-element-name='property-card-content']\"}\n",
      "  (Session info: chrome=130.0.6723.117); For documentation on this error, please visit: https://www.selenium.dev/documentation/webdriver/troubleshooting/errors#no-such-element-exception\n",
      "Stacktrace:\n",
      "\tGetHandleVerifier [0x00007FF6FD4338A5+3004357]\n",
      "\t(No symbol) [0x00007FF6FD0C9970]\n",
      "\t(No symbol) [0x00007FF6FCF7582A]\n",
      "\t(No symbol) [0x00007FF6FCFC5B8E]\n",
      "\t(No symbol) [0x00007FF6FCFC5E7C]\n",
      "\t(No symbol) [0x00007FF6FD00EC27]\n",
      "\t(No symbol) [0x00007FF6FCFEBC1F]\n",
      "\t(No symbol) [0x00007FF6FD00BA4C]\n",
      "\t(No symbol) [0x00007FF6FCFEB983]\n",
      "\t(No symbol) [0x00007FF6FCFB7628]\n",
      "\t(No symbol) [0x00007FF6FCFB8791]\n",
      "\tGetHandleVerifier [0x00007FF6FD45A00D+3161901]\n",
      "\tGetHandleVerifier [0x00007FF6FD4AE060+3506048]\n",
      "\tGetHandleVerifier [0x00007FF6FD4A400D+3465005]\n",
      "\tGetHandleVerifier [0x00007FF6FD220EEB+830987]\n",
      "\t(No symbol) [0x00007FF6FD0D467F]\n",
      "\t(No symbol) [0x00007FF6FD0D09D4]\n",
      "\t(No symbol) [0x00007FF6FD0D0B6D]\n",
      "\t(No symbol) [0x00007FF6FD0C0149]\n",
      "\tBaseThreadInitThunk [0x00007FFB7AAA7374+20]\n",
      "\tRtlUserThreadStart [0x00007FFB7C37CC91+33]\n",
      "\n"
     ]
    },
    {
     "name": "stderr",
     "output_type": "stream",
     "text": [
      "Processing URLs:   2%|    | 663/29446 [1:13:02<52:12:00,  6.53s/it]"
     ]
    },
    {
     "name": "stdout",
     "output_type": "stream",
     "text": [
      "Error fetching URL: https://www.agoda.com/partners/partnersearch.aspx?hid=288754 - Message: no such element: Unable to locate element: {\"method\":\"css selector\",\"selector\":\"a[data-element-name='property-card-content']\"}\n",
      "  (Session info: chrome=130.0.6723.117); For documentation on this error, please visit: https://www.selenium.dev/documentation/webdriver/troubleshooting/errors#no-such-element-exception\n",
      "Stacktrace:\n",
      "\tGetHandleVerifier [0x00007FF6FD4338A5+3004357]\n",
      "\t(No symbol) [0x00007FF6FD0C9970]\n",
      "\t(No symbol) [0x00007FF6FCF7582A]\n",
      "\t(No symbol) [0x00007FF6FCFC5B8E]\n",
      "\t(No symbol) [0x00007FF6FCFC5E7C]\n",
      "\t(No symbol) [0x00007FF6FD00EC27]\n",
      "\t(No symbol) [0x00007FF6FCFEBC1F]\n",
      "\t(No symbol) [0x00007FF6FD00BA4C]\n",
      "\t(No symbol) [0x00007FF6FCFEB983]\n",
      "\t(No symbol) [0x00007FF6FCFB7628]\n",
      "\t(No symbol) [0x00007FF6FCFB8791]\n",
      "\tGetHandleVerifier [0x00007FF6FD45A00D+3161901]\n",
      "\tGetHandleVerifier [0x00007FF6FD4AE060+3506048]\n",
      "\tGetHandleVerifier [0x00007FF6FD4A400D+3465005]\n",
      "\tGetHandleVerifier [0x00007FF6FD220EEB+830987]\n",
      "\t(No symbol) [0x00007FF6FD0D467F]\n",
      "\t(No symbol) [0x00007FF6FD0D09D4]\n",
      "\t(No symbol) [0x00007FF6FD0D0B6D]\n",
      "\t(No symbol) [0x00007FF6FD0C0149]\n",
      "\tBaseThreadInitThunk [0x00007FFB7AAA7374+20]\n",
      "\tRtlUserThreadStart [0x00007FFB7C37CC91+33]\n",
      "\n"
     ]
    },
    {
     "name": "stderr",
     "output_type": "stream",
     "text": [
      "Processing URLs:   2%|    | 665/29446 [1:13:15<52:06:11,  6.52s/it]"
     ]
    },
    {
     "name": "stdout",
     "output_type": "stream",
     "text": [
      "Error fetching URL: https://www.agoda.com/partners/partnersearch.aspx?hid=288959 - Message: no such element: Unable to locate element: {\"method\":\"css selector\",\"selector\":\"a[data-element-name='property-card-content']\"}\n",
      "  (Session info: chrome=130.0.6723.117); For documentation on this error, please visit: https://www.selenium.dev/documentation/webdriver/troubleshooting/errors#no-such-element-exception\n",
      "Stacktrace:\n",
      "\tGetHandleVerifier [0x00007FF6FD4338A5+3004357]\n",
      "\t(No symbol) [0x00007FF6FD0C9970]\n",
      "\t(No symbol) [0x00007FF6FCF7582A]\n",
      "\t(No symbol) [0x00007FF6FCFC5B8E]\n",
      "\t(No symbol) [0x00007FF6FCFC5E7C]\n",
      "\t(No symbol) [0x00007FF6FD00EC27]\n",
      "\t(No symbol) [0x00007FF6FCFEBC1F]\n",
      "\t(No symbol) [0x00007FF6FD00BA4C]\n",
      "\t(No symbol) [0x00007FF6FCFEB983]\n",
      "\t(No symbol) [0x00007FF6FCFB7628]\n",
      "\t(No symbol) [0x00007FF6FCFB8791]\n",
      "\tGetHandleVerifier [0x00007FF6FD45A00D+3161901]\n",
      "\tGetHandleVerifier [0x00007FF6FD4AE060+3506048]\n",
      "\tGetHandleVerifier [0x00007FF6FD4A400D+3465005]\n",
      "\tGetHandleVerifier [0x00007FF6FD220EEB+830987]\n",
      "\t(No symbol) [0x00007FF6FD0D467F]\n",
      "\t(No symbol) [0x00007FF6FD0D09D4]\n",
      "\t(No symbol) [0x00007FF6FD0D0B6D]\n",
      "\t(No symbol) [0x00007FF6FD0C0149]\n",
      "\tBaseThreadInitThunk [0x00007FFB7AAA7374+20]\n",
      "\tRtlUserThreadStart [0x00007FFB7C37CC91+33]\n",
      "\n"
     ]
    },
    {
     "name": "stderr",
     "output_type": "stream",
     "text": [
      "Processing URLs:   2%|    | 666/29446 [1:13:21<52:31:31,  6.57s/it]"
     ]
    },
    {
     "name": "stdout",
     "output_type": "stream",
     "text": [
      "Error fetching URL: https://www.agoda.com/partners/partnersearch.aspx?hid=289130 - Message: no such element: Unable to locate element: {\"method\":\"css selector\",\"selector\":\"a[data-element-name='property-card-content']\"}\n",
      "  (Session info: chrome=130.0.6723.117); For documentation on this error, please visit: https://www.selenium.dev/documentation/webdriver/troubleshooting/errors#no-such-element-exception\n",
      "Stacktrace:\n",
      "\tGetHandleVerifier [0x00007FF6FD4338A5+3004357]\n",
      "\t(No symbol) [0x00007FF6FD0C9970]\n",
      "\t(No symbol) [0x00007FF6FCF7582A]\n",
      "\t(No symbol) [0x00007FF6FCFC5B8E]\n",
      "\t(No symbol) [0x00007FF6FCFC5E7C]\n",
      "\t(No symbol) [0x00007FF6FD00EC27]\n",
      "\t(No symbol) [0x00007FF6FCFEBC1F]\n",
      "\t(No symbol) [0x00007FF6FD00BA4C]\n",
      "\t(No symbol) [0x00007FF6FCFEB983]\n",
      "\t(No symbol) [0x00007FF6FCFB7628]\n",
      "\t(No symbol) [0x00007FF6FCFB8791]\n",
      "\tGetHandleVerifier [0x00007FF6FD45A00D+3161901]\n",
      "\tGetHandleVerifier [0x00007FF6FD4AE060+3506048]\n",
      "\tGetHandleVerifier [0x00007FF6FD4A400D+3465005]\n",
      "\tGetHandleVerifier [0x00007FF6FD220EEB+830987]\n",
      "\t(No symbol) [0x00007FF6FD0D467F]\n",
      "\t(No symbol) [0x00007FF6FD0D09D4]\n",
      "\t(No symbol) [0x00007FF6FD0D0B6D]\n",
      "\t(No symbol) [0x00007FF6FD0C0149]\n",
      "\tBaseThreadInitThunk [0x00007FFB7AAA7374+20]\n",
      "\tRtlUserThreadStart [0x00007FFB7C37CC91+33]\n",
      "\n"
     ]
    },
    {
     "name": "stderr",
     "output_type": "stream",
     "text": [
      "Processing URLs:   2%|    | 667/29446 [1:13:28<51:58:18,  6.50s/it]"
     ]
    },
    {
     "name": "stdout",
     "output_type": "stream",
     "text": [
      "Error fetching URL: https://www.agoda.com/partners/partnersearch.aspx?hid=289189 - Message: no such element: Unable to locate element: {\"method\":\"css selector\",\"selector\":\"a[data-element-name='property-card-content']\"}\n",
      "  (Session info: chrome=130.0.6723.117); For documentation on this error, please visit: https://www.selenium.dev/documentation/webdriver/troubleshooting/errors#no-such-element-exception\n",
      "Stacktrace:\n",
      "\tGetHandleVerifier [0x00007FF6FD4338A5+3004357]\n",
      "\t(No symbol) [0x00007FF6FD0C9970]\n",
      "\t(No symbol) [0x00007FF6FCF7582A]\n",
      "\t(No symbol) [0x00007FF6FCFC5B8E]\n",
      "\t(No symbol) [0x00007FF6FCFC5E7C]\n",
      "\t(No symbol) [0x00007FF6FD00EC27]\n",
      "\t(No symbol) [0x00007FF6FCFEBC1F]\n",
      "\t(No symbol) [0x00007FF6FD00BA4C]\n",
      "\t(No symbol) [0x00007FF6FCFEB983]\n",
      "\t(No symbol) [0x00007FF6FCFB7628]\n",
      "\t(No symbol) [0x00007FF6FCFB8791]\n",
      "\tGetHandleVerifier [0x00007FF6FD45A00D+3161901]\n",
      "\tGetHandleVerifier [0x00007FF6FD4AE060+3506048]\n",
      "\tGetHandleVerifier [0x00007FF6FD4A400D+3465005]\n",
      "\tGetHandleVerifier [0x00007FF6FD220EEB+830987]\n",
      "\t(No symbol) [0x00007FF6FD0D467F]\n",
      "\t(No symbol) [0x00007FF6FD0D09D4]\n",
      "\t(No symbol) [0x00007FF6FD0D0B6D]\n",
      "\t(No symbol) [0x00007FF6FD0C0149]\n",
      "\tBaseThreadInitThunk [0x00007FFB7AAA7374+20]\n",
      "\tRtlUserThreadStart [0x00007FFB7C37CC91+33]\n",
      "\n"
     ]
    },
    {
     "name": "stderr",
     "output_type": "stream",
     "text": [
      "Processing URLs:   2%|    | 668/29446 [1:13:34<51:45:31,  6.47s/it]"
     ]
    },
    {
     "name": "stdout",
     "output_type": "stream",
     "text": [
      "Error fetching URL: https://www.agoda.com/partners/partnersearch.aspx?hid=289191 - Message: no such element: Unable to locate element: {\"method\":\"css selector\",\"selector\":\"a[data-element-name='property-card-content']\"}\n",
      "  (Session info: chrome=130.0.6723.117); For documentation on this error, please visit: https://www.selenium.dev/documentation/webdriver/troubleshooting/errors#no-such-element-exception\n",
      "Stacktrace:\n",
      "\tGetHandleVerifier [0x00007FF6FD4338A5+3004357]\n",
      "\t(No symbol) [0x00007FF6FD0C9970]\n",
      "\t(No symbol) [0x00007FF6FCF7582A]\n",
      "\t(No symbol) [0x00007FF6FCFC5B8E]\n",
      "\t(No symbol) [0x00007FF6FCFC5E7C]\n",
      "\t(No symbol) [0x00007FF6FD00EC27]\n",
      "\t(No symbol) [0x00007FF6FCFEBC1F]\n",
      "\t(No symbol) [0x00007FF6FD00BA4C]\n",
      "\t(No symbol) [0x00007FF6FCFEB983]\n",
      "\t(No symbol) [0x00007FF6FCFB7628]\n",
      "\t(No symbol) [0x00007FF6FCFB8791]\n",
      "\tGetHandleVerifier [0x00007FF6FD45A00D+3161901]\n",
      "\tGetHandleVerifier [0x00007FF6FD4AE060+3506048]\n",
      "\tGetHandleVerifier [0x00007FF6FD4A400D+3465005]\n",
      "\tGetHandleVerifier [0x00007FF6FD220EEB+830987]\n",
      "\t(No symbol) [0x00007FF6FD0D467F]\n",
      "\t(No symbol) [0x00007FF6FD0D09D4]\n",
      "\t(No symbol) [0x00007FF6FD0D0B6D]\n",
      "\t(No symbol) [0x00007FF6FD0C0149]\n",
      "\tBaseThreadInitThunk [0x00007FFB7AAA7374+20]\n",
      "\tRtlUserThreadStart [0x00007FFB7C37CC91+33]\n",
      "\n"
     ]
    },
    {
     "name": "stderr",
     "output_type": "stream",
     "text": [
      "Processing URLs:   2%|    | 669/29446 [1:13:40<51:27:14,  6.44s/it]"
     ]
    },
    {
     "name": "stdout",
     "output_type": "stream",
     "text": [
      "Error fetching URL: https://www.agoda.com/partners/partnersearch.aspx?hid=289195 - Message: no such element: Unable to locate element: {\"method\":\"css selector\",\"selector\":\"a[data-element-name='property-card-content']\"}\n",
      "  (Session info: chrome=130.0.6723.117); For documentation on this error, please visit: https://www.selenium.dev/documentation/webdriver/troubleshooting/errors#no-such-element-exception\n",
      "Stacktrace:\n",
      "\tGetHandleVerifier [0x00007FF6FD4338A5+3004357]\n",
      "\t(No symbol) [0x00007FF6FD0C9970]\n",
      "\t(No symbol) [0x00007FF6FCF7582A]\n",
      "\t(No symbol) [0x00007FF6FCFC5B8E]\n",
      "\t(No symbol) [0x00007FF6FCFC5E7C]\n",
      "\t(No symbol) [0x00007FF6FD00EC27]\n",
      "\t(No symbol) [0x00007FF6FCFEBC1F]\n",
      "\t(No symbol) [0x00007FF6FD00BA4C]\n",
      "\t(No symbol) [0x00007FF6FCFEB983]\n",
      "\t(No symbol) [0x00007FF6FCFB7628]\n",
      "\t(No symbol) [0x00007FF6FCFB8791]\n",
      "\tGetHandleVerifier [0x00007FF6FD45A00D+3161901]\n",
      "\tGetHandleVerifier [0x00007FF6FD4AE060+3506048]\n",
      "\tGetHandleVerifier [0x00007FF6FD4A400D+3465005]\n",
      "\tGetHandleVerifier [0x00007FF6FD220EEB+830987]\n",
      "\t(No symbol) [0x00007FF6FD0D467F]\n",
      "\t(No symbol) [0x00007FF6FD0D09D4]\n",
      "\t(No symbol) [0x00007FF6FD0D0B6D]\n",
      "\t(No symbol) [0x00007FF6FD0C0149]\n",
      "\tBaseThreadInitThunk [0x00007FFB7AAA7374+20]\n",
      "\tRtlUserThreadStart [0x00007FFB7C37CC91+33]\n",
      "\n"
     ]
    },
    {
     "name": "stderr",
     "output_type": "stream",
     "text": [
      "Processing URLs:   2%|    | 670/29446 [1:13:47<51:18:23,  6.42s/it]"
     ]
    },
    {
     "name": "stdout",
     "output_type": "stream",
     "text": [
      "Error fetching URL: https://www.agoda.com/partners/partnersearch.aspx?hid=289389 - Message: no such element: Unable to locate element: {\"method\":\"css selector\",\"selector\":\"a[data-element-name='property-card-content']\"}\n",
      "  (Session info: chrome=130.0.6723.117); For documentation on this error, please visit: https://www.selenium.dev/documentation/webdriver/troubleshooting/errors#no-such-element-exception\n",
      "Stacktrace:\n",
      "\tGetHandleVerifier [0x00007FF6FD4338A5+3004357]\n",
      "\t(No symbol) [0x00007FF6FD0C9970]\n",
      "\t(No symbol) [0x00007FF6FCF7582A]\n",
      "\t(No symbol) [0x00007FF6FCFC5B8E]\n",
      "\t(No symbol) [0x00007FF6FCFC5E7C]\n",
      "\t(No symbol) [0x00007FF6FD00EC27]\n",
      "\t(No symbol) [0x00007FF6FCFEBC1F]\n",
      "\t(No symbol) [0x00007FF6FD00BA4C]\n",
      "\t(No symbol) [0x00007FF6FCFEB983]\n",
      "\t(No symbol) [0x00007FF6FCFB7628]\n",
      "\t(No symbol) [0x00007FF6FCFB8791]\n",
      "\tGetHandleVerifier [0x00007FF6FD45A00D+3161901]\n",
      "\tGetHandleVerifier [0x00007FF6FD4AE060+3506048]\n",
      "\tGetHandleVerifier [0x00007FF6FD4A400D+3465005]\n",
      "\tGetHandleVerifier [0x00007FF6FD220EEB+830987]\n",
      "\t(No symbol) [0x00007FF6FD0D467F]\n",
      "\t(No symbol) [0x00007FF6FD0D09D4]\n",
      "\t(No symbol) [0x00007FF6FD0D0B6D]\n",
      "\t(No symbol) [0x00007FF6FD0C0149]\n",
      "\tBaseThreadInitThunk [0x00007FFB7AAA7374+20]\n",
      "\tRtlUserThreadStart [0x00007FFB7C37CC91+33]\n",
      "\n"
     ]
    },
    {
     "name": "stderr",
     "output_type": "stream",
     "text": [
      "Processing URLs:   2%|    | 671/29446 [1:13:53<51:12:51,  6.41s/it]"
     ]
    },
    {
     "name": "stdout",
     "output_type": "stream",
     "text": [
      "Error fetching URL: https://www.agoda.com/partners/partnersearch.aspx?hid=289430 - Message: no such element: Unable to locate element: {\"method\":\"css selector\",\"selector\":\"a[data-element-name='property-card-content']\"}\n",
      "  (Session info: chrome=130.0.6723.117); For documentation on this error, please visit: https://www.selenium.dev/documentation/webdriver/troubleshooting/errors#no-such-element-exception\n",
      "Stacktrace:\n",
      "\tGetHandleVerifier [0x00007FF6FD4338A5+3004357]\n",
      "\t(No symbol) [0x00007FF6FD0C9970]\n",
      "\t(No symbol) [0x00007FF6FCF7582A]\n",
      "\t(No symbol) [0x00007FF6FCFC5B8E]\n",
      "\t(No symbol) [0x00007FF6FCFC5E7C]\n",
      "\t(No symbol) [0x00007FF6FD00EC27]\n",
      "\t(No symbol) [0x00007FF6FCFEBC1F]\n",
      "\t(No symbol) [0x00007FF6FD00BA4C]\n",
      "\t(No symbol) [0x00007FF6FCFEB983]\n",
      "\t(No symbol) [0x00007FF6FCFB7628]\n",
      "\t(No symbol) [0x00007FF6FCFB8791]\n",
      "\tGetHandleVerifier [0x00007FF6FD45A00D+3161901]\n",
      "\tGetHandleVerifier [0x00007FF6FD4AE060+3506048]\n",
      "\tGetHandleVerifier [0x00007FF6FD4A400D+3465005]\n",
      "\tGetHandleVerifier [0x00007FF6FD220EEB+830987]\n",
      "\t(No symbol) [0x00007FF6FD0D467F]\n",
      "\t(No symbol) [0x00007FF6FD0D09D4]\n",
      "\t(No symbol) [0x00007FF6FD0D0B6D]\n",
      "\t(No symbol) [0x00007FF6FD0C0149]\n",
      "\tBaseThreadInitThunk [0x00007FFB7AAA7374+20]\n",
      "\tRtlUserThreadStart [0x00007FFB7C37CC91+33]\n",
      "\n"
     ]
    },
    {
     "name": "stderr",
     "output_type": "stream",
     "text": [
      "Processing URLs:   2%|    | 672/29446 [1:14:00<51:42:40,  6.47s/it]"
     ]
    },
    {
     "name": "stdout",
     "output_type": "stream",
     "text": [
      "Error fetching URL: https://www.agoda.com/partners/partnersearch.aspx?hid=289447 - Message: no such element: Unable to locate element: {\"method\":\"css selector\",\"selector\":\"a[data-element-name='property-card-content']\"}\n",
      "  (Session info: chrome=130.0.6723.117); For documentation on this error, please visit: https://www.selenium.dev/documentation/webdriver/troubleshooting/errors#no-such-element-exception\n",
      "Stacktrace:\n",
      "\tGetHandleVerifier [0x00007FF6FD4338A5+3004357]\n",
      "\t(No symbol) [0x00007FF6FD0C9970]\n",
      "\t(No symbol) [0x00007FF6FCF7582A]\n",
      "\t(No symbol) [0x00007FF6FCFC5B8E]\n",
      "\t(No symbol) [0x00007FF6FCFC5E7C]\n",
      "\t(No symbol) [0x00007FF6FD00EC27]\n",
      "\t(No symbol) [0x00007FF6FCFEBC1F]\n",
      "\t(No symbol) [0x00007FF6FD00BA4C]\n",
      "\t(No symbol) [0x00007FF6FCFEB983]\n",
      "\t(No symbol) [0x00007FF6FCFB7628]\n",
      "\t(No symbol) [0x00007FF6FCFB8791]\n",
      "\tGetHandleVerifier [0x00007FF6FD45A00D+3161901]\n",
      "\tGetHandleVerifier [0x00007FF6FD4AE060+3506048]\n",
      "\tGetHandleVerifier [0x00007FF6FD4A400D+3465005]\n",
      "\tGetHandleVerifier [0x00007FF6FD220EEB+830987]\n",
      "\t(No symbol) [0x00007FF6FD0D467F]\n",
      "\t(No symbol) [0x00007FF6FD0D09D4]\n",
      "\t(No symbol) [0x00007FF6FD0D0B6D]\n",
      "\t(No symbol) [0x00007FF6FD0C0149]\n",
      "\tBaseThreadInitThunk [0x00007FFB7AAA7374+20]\n",
      "\tRtlUserThreadStart [0x00007FFB7C37CC91+33]\n",
      "\n"
     ]
    },
    {
     "name": "stderr",
     "output_type": "stream",
     "text": [
      "Processing URLs:   2%|    | 673/29446 [1:14:06<51:24:24,  6.43s/it]"
     ]
    },
    {
     "name": "stdout",
     "output_type": "stream",
     "text": [
      "Error fetching URL: https://www.agoda.com/partners/partnersearch.aspx?hid=289448 - Message: no such element: Unable to locate element: {\"method\":\"css selector\",\"selector\":\"a[data-element-name='property-card-content']\"}\n",
      "  (Session info: chrome=130.0.6723.117); For documentation on this error, please visit: https://www.selenium.dev/documentation/webdriver/troubleshooting/errors#no-such-element-exception\n",
      "Stacktrace:\n",
      "\tGetHandleVerifier [0x00007FF6FD4338A5+3004357]\n",
      "\t(No symbol) [0x00007FF6FD0C9970]\n",
      "\t(No symbol) [0x00007FF6FCF7582A]\n",
      "\t(No symbol) [0x00007FF6FCFC5B8E]\n",
      "\t(No symbol) [0x00007FF6FCFC5E7C]\n",
      "\t(No symbol) [0x00007FF6FD00EC27]\n",
      "\t(No symbol) [0x00007FF6FCFEBC1F]\n",
      "\t(No symbol) [0x00007FF6FD00BA4C]\n",
      "\t(No symbol) [0x00007FF6FCFEB983]\n",
      "\t(No symbol) [0x00007FF6FCFB7628]\n",
      "\t(No symbol) [0x00007FF6FCFB8791]\n",
      "\tGetHandleVerifier [0x00007FF6FD45A00D+3161901]\n",
      "\tGetHandleVerifier [0x00007FF6FD4AE060+3506048]\n",
      "\tGetHandleVerifier [0x00007FF6FD4A400D+3465005]\n",
      "\tGetHandleVerifier [0x00007FF6FD220EEB+830987]\n",
      "\t(No symbol) [0x00007FF6FD0D467F]\n",
      "\t(No symbol) [0x00007FF6FD0D09D4]\n",
      "\t(No symbol) [0x00007FF6FD0D0B6D]\n",
      "\t(No symbol) [0x00007FF6FD0C0149]\n",
      "\tBaseThreadInitThunk [0x00007FFB7AAA7374+20]\n",
      "\tRtlUserThreadStart [0x00007FFB7C37CC91+33]\n",
      "\n"
     ]
    },
    {
     "name": "stderr",
     "output_type": "stream",
     "text": [
      "Processing URLs:   2%|    | 674/29446 [1:14:13<51:56:35,  6.50s/it]"
     ]
    },
    {
     "name": "stdout",
     "output_type": "stream",
     "text": [
      "Error fetching URL: https://www.agoda.com/partners/partnersearch.aspx?hid=289451 - Message: no such element: Unable to locate element: {\"method\":\"css selector\",\"selector\":\"a[data-element-name='property-card-content']\"}\n",
      "  (Session info: chrome=130.0.6723.117); For documentation on this error, please visit: https://www.selenium.dev/documentation/webdriver/troubleshooting/errors#no-such-element-exception\n",
      "Stacktrace:\n",
      "\tGetHandleVerifier [0x00007FF6FD4338A5+3004357]\n",
      "\t(No symbol) [0x00007FF6FD0C9970]\n",
      "\t(No symbol) [0x00007FF6FCF7582A]\n",
      "\t(No symbol) [0x00007FF6FCFC5B8E]\n",
      "\t(No symbol) [0x00007FF6FCFC5E7C]\n",
      "\t(No symbol) [0x00007FF6FD00EC27]\n",
      "\t(No symbol) [0x00007FF6FCFEBC1F]\n",
      "\t(No symbol) [0x00007FF6FD00BA4C]\n",
      "\t(No symbol) [0x00007FF6FCFEB983]\n",
      "\t(No symbol) [0x00007FF6FCFB7628]\n",
      "\t(No symbol) [0x00007FF6FCFB8791]\n",
      "\tGetHandleVerifier [0x00007FF6FD45A00D+3161901]\n",
      "\tGetHandleVerifier [0x00007FF6FD4AE060+3506048]\n",
      "\tGetHandleVerifier [0x00007FF6FD4A400D+3465005]\n",
      "\tGetHandleVerifier [0x00007FF6FD220EEB+830987]\n",
      "\t(No symbol) [0x00007FF6FD0D467F]\n",
      "\t(No symbol) [0x00007FF6FD0D09D4]\n",
      "\t(No symbol) [0x00007FF6FD0D0B6D]\n",
      "\t(No symbol) [0x00007FF6FD0C0149]\n",
      "\tBaseThreadInitThunk [0x00007FFB7AAA7374+20]\n",
      "\tRtlUserThreadStart [0x00007FFB7C37CC91+33]\n",
      "\n"
     ]
    },
    {
     "name": "stderr",
     "output_type": "stream",
     "text": [
      "Processing URLs:   2%|    | 676/29446 [1:14:26<51:49:10,  6.48s/it]"
     ]
    },
    {
     "name": "stdout",
     "output_type": "stream",
     "text": [
      "Error fetching URL: https://www.agoda.com/partners/partnersearch.aspx?hid=289530 - Message: no such element: Unable to locate element: {\"method\":\"css selector\",\"selector\":\"a[data-element-name='property-card-content']\"}\n",
      "  (Session info: chrome=130.0.6723.117); For documentation on this error, please visit: https://www.selenium.dev/documentation/webdriver/troubleshooting/errors#no-such-element-exception\n",
      "Stacktrace:\n",
      "\tGetHandleVerifier [0x00007FF6FD4338A5+3004357]\n",
      "\t(No symbol) [0x00007FF6FD0C9970]\n",
      "\t(No symbol) [0x00007FF6FCF7582A]\n",
      "\t(No symbol) [0x00007FF6FCFC5B8E]\n",
      "\t(No symbol) [0x00007FF6FCFC5E7C]\n",
      "\t(No symbol) [0x00007FF6FD00EC27]\n",
      "\t(No symbol) [0x00007FF6FCFEBC1F]\n",
      "\t(No symbol) [0x00007FF6FD00BA4C]\n",
      "\t(No symbol) [0x00007FF6FCFEB983]\n",
      "\t(No symbol) [0x00007FF6FCFB7628]\n",
      "\t(No symbol) [0x00007FF6FCFB8791]\n",
      "\tGetHandleVerifier [0x00007FF6FD45A00D+3161901]\n",
      "\tGetHandleVerifier [0x00007FF6FD4AE060+3506048]\n",
      "\tGetHandleVerifier [0x00007FF6FD4A400D+3465005]\n",
      "\tGetHandleVerifier [0x00007FF6FD220EEB+830987]\n",
      "\t(No symbol) [0x00007FF6FD0D467F]\n",
      "\t(No symbol) [0x00007FF6FD0D09D4]\n",
      "\t(No symbol) [0x00007FF6FD0D0B6D]\n",
      "\t(No symbol) [0x00007FF6FD0C0149]\n",
      "\tBaseThreadInitThunk [0x00007FFB7AAA7374+20]\n",
      "\tRtlUserThreadStart [0x00007FFB7C37CC91+33]\n",
      "\n"
     ]
    },
    {
     "name": "stderr",
     "output_type": "stream",
     "text": [
      "Processing URLs:   2%|    | 677/29446 [1:14:32<52:06:11,  6.52s/it]"
     ]
    },
    {
     "name": "stdout",
     "output_type": "stream",
     "text": [
      "Error fetching URL: https://www.agoda.com/partners/partnersearch.aspx?hid=289633 - Message: no such element: Unable to locate element: {\"method\":\"css selector\",\"selector\":\"a[data-element-name='property-card-content']\"}\n",
      "  (Session info: chrome=130.0.6723.117); For documentation on this error, please visit: https://www.selenium.dev/documentation/webdriver/troubleshooting/errors#no-such-element-exception\n",
      "Stacktrace:\n",
      "\tGetHandleVerifier [0x00007FF6FD4338A5+3004357]\n",
      "\t(No symbol) [0x00007FF6FD0C9970]\n",
      "\t(No symbol) [0x00007FF6FCF7582A]\n",
      "\t(No symbol) [0x00007FF6FCFC5B8E]\n",
      "\t(No symbol) [0x00007FF6FCFC5E7C]\n",
      "\t(No symbol) [0x00007FF6FD00EC27]\n",
      "\t(No symbol) [0x00007FF6FCFEBC1F]\n",
      "\t(No symbol) [0x00007FF6FD00BA4C]\n",
      "\t(No symbol) [0x00007FF6FCFEB983]\n",
      "\t(No symbol) [0x00007FF6FCFB7628]\n",
      "\t(No symbol) [0x00007FF6FCFB8791]\n",
      "\tGetHandleVerifier [0x00007FF6FD45A00D+3161901]\n",
      "\tGetHandleVerifier [0x00007FF6FD4AE060+3506048]\n",
      "\tGetHandleVerifier [0x00007FF6FD4A400D+3465005]\n",
      "\tGetHandleVerifier [0x00007FF6FD220EEB+830987]\n",
      "\t(No symbol) [0x00007FF6FD0D467F]\n",
      "\t(No symbol) [0x00007FF6FD0D09D4]\n",
      "\t(No symbol) [0x00007FF6FD0D0B6D]\n",
      "\t(No symbol) [0x00007FF6FD0C0149]\n",
      "\tBaseThreadInitThunk [0x00007FFB7AAA7374+20]\n",
      "\tRtlUserThreadStart [0x00007FFB7C37CC91+33]\n",
      "\n"
     ]
    },
    {
     "name": "stderr",
     "output_type": "stream",
     "text": [
      "Processing URLs:   2%|    | 678/29446 [1:14:39<52:18:11,  6.55s/it]"
     ]
    },
    {
     "name": "stdout",
     "output_type": "stream",
     "text": [
      "Error fetching URL: https://www.agoda.com/partners/partnersearch.aspx?hid=289713 - Message: no such element: Unable to locate element: {\"method\":\"css selector\",\"selector\":\"a[data-element-name='property-card-content']\"}\n",
      "  (Session info: chrome=130.0.6723.117); For documentation on this error, please visit: https://www.selenium.dev/documentation/webdriver/troubleshooting/errors#no-such-element-exception\n",
      "Stacktrace:\n",
      "\tGetHandleVerifier [0x00007FF6FD4338A5+3004357]\n",
      "\t(No symbol) [0x00007FF6FD0C9970]\n",
      "\t(No symbol) [0x00007FF6FCF7582A]\n",
      "\t(No symbol) [0x00007FF6FCFC5B8E]\n",
      "\t(No symbol) [0x00007FF6FCFC5E7C]\n",
      "\t(No symbol) [0x00007FF6FD00EC27]\n",
      "\t(No symbol) [0x00007FF6FCFEBC1F]\n",
      "\t(No symbol) [0x00007FF6FD00BA4C]\n",
      "\t(No symbol) [0x00007FF6FCFEB983]\n",
      "\t(No symbol) [0x00007FF6FCFB7628]\n",
      "\t(No symbol) [0x00007FF6FCFB8791]\n",
      "\tGetHandleVerifier [0x00007FF6FD45A00D+3161901]\n",
      "\tGetHandleVerifier [0x00007FF6FD4AE060+3506048]\n",
      "\tGetHandleVerifier [0x00007FF6FD4A400D+3465005]\n",
      "\tGetHandleVerifier [0x00007FF6FD220EEB+830987]\n",
      "\t(No symbol) [0x00007FF6FD0D467F]\n",
      "\t(No symbol) [0x00007FF6FD0D09D4]\n",
      "\t(No symbol) [0x00007FF6FD0D0B6D]\n",
      "\t(No symbol) [0x00007FF6FD0C0149]\n",
      "\tBaseThreadInitThunk [0x00007FFB7AAA7374+20]\n",
      "\tRtlUserThreadStart [0x00007FFB7C37CC91+33]\n",
      "\n"
     ]
    },
    {
     "name": "stderr",
     "output_type": "stream",
     "text": [
      "Processing URLs:   2%|    | 679/29446 [1:14:46<52:31:09,  6.57s/it]"
     ]
    },
    {
     "name": "stdout",
     "output_type": "stream",
     "text": [
      "Error fetching URL: https://www.agoda.com/partners/partnersearch.aspx?hid=289715 - Message: no such element: Unable to locate element: {\"method\":\"css selector\",\"selector\":\"a[data-element-name='property-card-content']\"}\n",
      "  (Session info: chrome=130.0.6723.117); For documentation on this error, please visit: https://www.selenium.dev/documentation/webdriver/troubleshooting/errors#no-such-element-exception\n",
      "Stacktrace:\n",
      "\tGetHandleVerifier [0x00007FF6FD4338A5+3004357]\n",
      "\t(No symbol) [0x00007FF6FD0C9970]\n",
      "\t(No symbol) [0x00007FF6FCF7582A]\n",
      "\t(No symbol) [0x00007FF6FCFC5B8E]\n",
      "\t(No symbol) [0x00007FF6FCFC5E7C]\n",
      "\t(No symbol) [0x00007FF6FD00EC27]\n",
      "\t(No symbol) [0x00007FF6FCFEBC1F]\n",
      "\t(No symbol) [0x00007FF6FD00BA4C]\n",
      "\t(No symbol) [0x00007FF6FCFEB983]\n",
      "\t(No symbol) [0x00007FF6FCFB7628]\n",
      "\t(No symbol) [0x00007FF6FCFB8791]\n",
      "\tGetHandleVerifier [0x00007FF6FD45A00D+3161901]\n",
      "\tGetHandleVerifier [0x00007FF6FD4AE060+3506048]\n",
      "\tGetHandleVerifier [0x00007FF6FD4A400D+3465005]\n",
      "\tGetHandleVerifier [0x00007FF6FD220EEB+830987]\n",
      "\t(No symbol) [0x00007FF6FD0D467F]\n",
      "\t(No symbol) [0x00007FF6FD0D09D4]\n",
      "\t(No symbol) [0x00007FF6FD0D0B6D]\n",
      "\t(No symbol) [0x00007FF6FD0C0149]\n",
      "\tBaseThreadInitThunk [0x00007FFB7AAA7374+20]\n",
      "\tRtlUserThreadStart [0x00007FFB7C37CC91+33]\n",
      "\n"
     ]
    },
    {
     "name": "stderr",
     "output_type": "stream",
     "text": [
      "Processing URLs:   2%|    | 680/29446 [1:14:53<53:45:25,  6.73s/it]"
     ]
    },
    {
     "name": "stdout",
     "output_type": "stream",
     "text": [
      "Error fetching URL: https://www.agoda.com/partners/partnersearch.aspx?hid=289726 - Message: no such element: Unable to locate element: {\"method\":\"css selector\",\"selector\":\"a[data-element-name='property-card-content']\"}\n",
      "  (Session info: chrome=130.0.6723.117); For documentation on this error, please visit: https://www.selenium.dev/documentation/webdriver/troubleshooting/errors#no-such-element-exception\n",
      "Stacktrace:\n",
      "\tGetHandleVerifier [0x00007FF6FD4338A5+3004357]\n",
      "\t(No symbol) [0x00007FF6FD0C9970]\n",
      "\t(No symbol) [0x00007FF6FCF7582A]\n",
      "\t(No symbol) [0x00007FF6FCFC5B8E]\n",
      "\t(No symbol) [0x00007FF6FCFC5E7C]\n",
      "\t(No symbol) [0x00007FF6FD00EC27]\n",
      "\t(No symbol) [0x00007FF6FCFEBC1F]\n",
      "\t(No symbol) [0x00007FF6FD00BA4C]\n",
      "\t(No symbol) [0x00007FF6FCFEB983]\n",
      "\t(No symbol) [0x00007FF6FCFB7628]\n",
      "\t(No symbol) [0x00007FF6FCFB8791]\n",
      "\tGetHandleVerifier [0x00007FF6FD45A00D+3161901]\n",
      "\tGetHandleVerifier [0x00007FF6FD4AE060+3506048]\n",
      "\tGetHandleVerifier [0x00007FF6FD4A400D+3465005]\n",
      "\tGetHandleVerifier [0x00007FF6FD220EEB+830987]\n",
      "\t(No symbol) [0x00007FF6FD0D467F]\n",
      "\t(No symbol) [0x00007FF6FD0D09D4]\n",
      "\t(No symbol) [0x00007FF6FD0D0B6D]\n",
      "\t(No symbol) [0x00007FF6FD0C0149]\n",
      "\tBaseThreadInitThunk [0x00007FFB7AAA7374+20]\n",
      "\tRtlUserThreadStart [0x00007FFB7C37CC91+33]\n",
      "\n"
     ]
    },
    {
     "name": "stderr",
     "output_type": "stream",
     "text": [
      "Processing URLs:   2%|    | 681/29446 [1:14:59<53:13:05,  6.66s/it]"
     ]
    },
    {
     "name": "stdout",
     "output_type": "stream",
     "text": [
      "Error fetching URL: https://www.agoda.com/partners/partnersearch.aspx?hid=289822 - Message: no such element: Unable to locate element: {\"method\":\"css selector\",\"selector\":\"a[data-element-name='property-card-content']\"}\n",
      "  (Session info: chrome=130.0.6723.117); For documentation on this error, please visit: https://www.selenium.dev/documentation/webdriver/troubleshooting/errors#no-such-element-exception\n",
      "Stacktrace:\n",
      "\tGetHandleVerifier [0x00007FF6FD4338A5+3004357]\n",
      "\t(No symbol) [0x00007FF6FD0C9970]\n",
      "\t(No symbol) [0x00007FF6FCF7582A]\n",
      "\t(No symbol) [0x00007FF6FCFC5B8E]\n",
      "\t(No symbol) [0x00007FF6FCFC5E7C]\n",
      "\t(No symbol) [0x00007FF6FD00EC27]\n",
      "\t(No symbol) [0x00007FF6FCFEBC1F]\n",
      "\t(No symbol) [0x00007FF6FD00BA4C]\n",
      "\t(No symbol) [0x00007FF6FCFEB983]\n",
      "\t(No symbol) [0x00007FF6FCFB7628]\n",
      "\t(No symbol) [0x00007FF6FCFB8791]\n",
      "\tGetHandleVerifier [0x00007FF6FD45A00D+3161901]\n",
      "\tGetHandleVerifier [0x00007FF6FD4AE060+3506048]\n",
      "\tGetHandleVerifier [0x00007FF6FD4A400D+3465005]\n",
      "\tGetHandleVerifier [0x00007FF6FD220EEB+830987]\n",
      "\t(No symbol) [0x00007FF6FD0D467F]\n",
      "\t(No symbol) [0x00007FF6FD0D09D4]\n",
      "\t(No symbol) [0x00007FF6FD0D0B6D]\n",
      "\t(No symbol) [0x00007FF6FD0C0149]\n",
      "\tBaseThreadInitThunk [0x00007FFB7AAA7374+20]\n",
      "\tRtlUserThreadStart [0x00007FFB7C37CC91+33]\n",
      "\n"
     ]
    },
    {
     "name": "stderr",
     "output_type": "stream",
     "text": [
      "Processing URLs:   2%|    | 682/29446 [1:15:06<52:54:48,  6.62s/it]"
     ]
    },
    {
     "name": "stdout",
     "output_type": "stream",
     "text": [
      "Error fetching URL: https://www.agoda.com/partners/partnersearch.aspx?hid=289832 - Message: no such element: Unable to locate element: {\"method\":\"css selector\",\"selector\":\"a[data-element-name='property-card-content']\"}\n",
      "  (Session info: chrome=130.0.6723.117); For documentation on this error, please visit: https://www.selenium.dev/documentation/webdriver/troubleshooting/errors#no-such-element-exception\n",
      "Stacktrace:\n",
      "\tGetHandleVerifier [0x00007FF6FD4338A5+3004357]\n",
      "\t(No symbol) [0x00007FF6FD0C9970]\n",
      "\t(No symbol) [0x00007FF6FCF7582A]\n",
      "\t(No symbol) [0x00007FF6FCFC5B8E]\n",
      "\t(No symbol) [0x00007FF6FCFC5E7C]\n",
      "\t(No symbol) [0x00007FF6FD00EC27]\n",
      "\t(No symbol) [0x00007FF6FCFEBC1F]\n",
      "\t(No symbol) [0x00007FF6FD00BA4C]\n",
      "\t(No symbol) [0x00007FF6FCFEB983]\n",
      "\t(No symbol) [0x00007FF6FCFB7628]\n",
      "\t(No symbol) [0x00007FF6FCFB8791]\n",
      "\tGetHandleVerifier [0x00007FF6FD45A00D+3161901]\n",
      "\tGetHandleVerifier [0x00007FF6FD4AE060+3506048]\n",
      "\tGetHandleVerifier [0x00007FF6FD4A400D+3465005]\n",
      "\tGetHandleVerifier [0x00007FF6FD220EEB+830987]\n",
      "\t(No symbol) [0x00007FF6FD0D467F]\n",
      "\t(No symbol) [0x00007FF6FD0D09D4]\n",
      "\t(No symbol) [0x00007FF6FD0D0B6D]\n",
      "\t(No symbol) [0x00007FF6FD0C0149]\n",
      "\tBaseThreadInitThunk [0x00007FFB7AAA7374+20]\n",
      "\tRtlUserThreadStart [0x00007FFB7C37CC91+33]\n",
      "\n"
     ]
    },
    {
     "name": "stderr",
     "output_type": "stream",
     "text": [
      "Processing URLs:   2%|    | 685/29446 [1:15:26<53:05:16,  6.64s/it]"
     ]
    },
    {
     "name": "stdout",
     "output_type": "stream",
     "text": [
      "Error fetching URL: https://www.agoda.com/partners/partnersearch.aspx?hid=290150 - Message: no such element: Unable to locate element: {\"method\":\"css selector\",\"selector\":\"a[data-element-name='property-card-content']\"}\n",
      "  (Session info: chrome=130.0.6723.117); For documentation on this error, please visit: https://www.selenium.dev/documentation/webdriver/troubleshooting/errors#no-such-element-exception\n",
      "Stacktrace:\n",
      "\tGetHandleVerifier [0x00007FF6FD4338A5+3004357]\n",
      "\t(No symbol) [0x00007FF6FD0C9970]\n",
      "\t(No symbol) [0x00007FF6FCF7582A]\n",
      "\t(No symbol) [0x00007FF6FCFC5B8E]\n",
      "\t(No symbol) [0x00007FF6FCFC5E7C]\n",
      "\t(No symbol) [0x00007FF6FD00EC27]\n",
      "\t(No symbol) [0x00007FF6FCFEBC1F]\n",
      "\t(No symbol) [0x00007FF6FD00BA4C]\n",
      "\t(No symbol) [0x00007FF6FCFEB983]\n",
      "\t(No symbol) [0x00007FF6FCFB7628]\n",
      "\t(No symbol) [0x00007FF6FCFB8791]\n",
      "\tGetHandleVerifier [0x00007FF6FD45A00D+3161901]\n",
      "\tGetHandleVerifier [0x00007FF6FD4AE060+3506048]\n",
      "\tGetHandleVerifier [0x00007FF6FD4A400D+3465005]\n",
      "\tGetHandleVerifier [0x00007FF6FD220EEB+830987]\n",
      "\t(No symbol) [0x00007FF6FD0D467F]\n",
      "\t(No symbol) [0x00007FF6FD0D09D4]\n",
      "\t(No symbol) [0x00007FF6FD0D0B6D]\n",
      "\t(No symbol) [0x00007FF6FD0C0149]\n",
      "\tBaseThreadInitThunk [0x00007FFB7AAA7374+20]\n",
      "\tRtlUserThreadStart [0x00007FFB7C37CC91+33]\n",
      "\n"
     ]
    },
    {
     "name": "stderr",
     "output_type": "stream",
     "text": [
      "Processing URLs:   2%|    | 686/29446 [1:15:32<52:24:51,  6.56s/it]"
     ]
    },
    {
     "name": "stdout",
     "output_type": "stream",
     "text": [
      "Error fetching URL: https://www.agoda.com/partners/partnersearch.aspx?hid=290179 - Message: no such element: Unable to locate element: {\"method\":\"css selector\",\"selector\":\"a[data-element-name='property-card-content']\"}\n",
      "  (Session info: chrome=130.0.6723.117); For documentation on this error, please visit: https://www.selenium.dev/documentation/webdriver/troubleshooting/errors#no-such-element-exception\n",
      "Stacktrace:\n",
      "\tGetHandleVerifier [0x00007FF6FD4338A5+3004357]\n",
      "\t(No symbol) [0x00007FF6FD0C9970]\n",
      "\t(No symbol) [0x00007FF6FCF7582A]\n",
      "\t(No symbol) [0x00007FF6FCFC5B8E]\n",
      "\t(No symbol) [0x00007FF6FCFC5E7C]\n",
      "\t(No symbol) [0x00007FF6FD00EC27]\n",
      "\t(No symbol) [0x00007FF6FCFEBC1F]\n",
      "\t(No symbol) [0x00007FF6FD00BA4C]\n",
      "\t(No symbol) [0x00007FF6FCFEB983]\n",
      "\t(No symbol) [0x00007FF6FCFB7628]\n",
      "\t(No symbol) [0x00007FF6FCFB8791]\n",
      "\tGetHandleVerifier [0x00007FF6FD45A00D+3161901]\n",
      "\tGetHandleVerifier [0x00007FF6FD4AE060+3506048]\n",
      "\tGetHandleVerifier [0x00007FF6FD4A400D+3465005]\n",
      "\tGetHandleVerifier [0x00007FF6FD220EEB+830987]\n",
      "\t(No symbol) [0x00007FF6FD0D467F]\n",
      "\t(No symbol) [0x00007FF6FD0D09D4]\n",
      "\t(No symbol) [0x00007FF6FD0D0B6D]\n",
      "\t(No symbol) [0x00007FF6FD0C0149]\n",
      "\tBaseThreadInitThunk [0x00007FFB7AAA7374+20]\n",
      "\tRtlUserThreadStart [0x00007FFB7C37CC91+33]\n",
      "\n"
     ]
    },
    {
     "name": "stderr",
     "output_type": "stream",
     "text": [
      "Processing URLs:   2%|    | 688/29446 [1:15:45<52:19:25,  6.55s/it]"
     ]
    },
    {
     "name": "stdout",
     "output_type": "stream",
     "text": [
      "Error fetching URL: https://www.agoda.com/partners/partnersearch.aspx?hid=290206 - Message: no such element: Unable to locate element: {\"method\":\"css selector\",\"selector\":\"a[data-element-name='property-card-content']\"}\n",
      "  (Session info: chrome=130.0.6723.117); For documentation on this error, please visit: https://www.selenium.dev/documentation/webdriver/troubleshooting/errors#no-such-element-exception\n",
      "Stacktrace:\n",
      "\tGetHandleVerifier [0x00007FF6FD4338A5+3004357]\n",
      "\t(No symbol) [0x00007FF6FD0C9970]\n",
      "\t(No symbol) [0x00007FF6FCF7582A]\n",
      "\t(No symbol) [0x00007FF6FCFC5B8E]\n",
      "\t(No symbol) [0x00007FF6FCFC5E7C]\n",
      "\t(No symbol) [0x00007FF6FD00EC27]\n",
      "\t(No symbol) [0x00007FF6FCFEBC1F]\n",
      "\t(No symbol) [0x00007FF6FD00BA4C]\n",
      "\t(No symbol) [0x00007FF6FCFEB983]\n",
      "\t(No symbol) [0x00007FF6FCFB7628]\n",
      "\t(No symbol) [0x00007FF6FCFB8791]\n",
      "\tGetHandleVerifier [0x00007FF6FD45A00D+3161901]\n",
      "\tGetHandleVerifier [0x00007FF6FD4AE060+3506048]\n",
      "\tGetHandleVerifier [0x00007FF6FD4A400D+3465005]\n",
      "\tGetHandleVerifier [0x00007FF6FD220EEB+830987]\n",
      "\t(No symbol) [0x00007FF6FD0D467F]\n",
      "\t(No symbol) [0x00007FF6FD0D09D4]\n",
      "\t(No symbol) [0x00007FF6FD0D0B6D]\n",
      "\t(No symbol) [0x00007FF6FD0C0149]\n",
      "\tBaseThreadInitThunk [0x00007FFB7AAA7374+20]\n",
      "\tRtlUserThreadStart [0x00007FFB7C37CC91+33]\n",
      "\n"
     ]
    },
    {
     "name": "stderr",
     "output_type": "stream",
     "text": [
      "Processing URLs:   2%|    | 689/29446 [1:15:52<52:38:33,  6.59s/it]"
     ]
    },
    {
     "name": "stdout",
     "output_type": "stream",
     "text": [
      "Error fetching URL: https://www.agoda.com/partners/partnersearch.aspx?hid=290230 - Message: no such element: Unable to locate element: {\"method\":\"css selector\",\"selector\":\"a[data-element-name='property-card-content']\"}\n",
      "  (Session info: chrome=130.0.6723.117); For documentation on this error, please visit: https://www.selenium.dev/documentation/webdriver/troubleshooting/errors#no-such-element-exception\n",
      "Stacktrace:\n",
      "\tGetHandleVerifier [0x00007FF6FD4338A5+3004357]\n",
      "\t(No symbol) [0x00007FF6FD0C9970]\n",
      "\t(No symbol) [0x00007FF6FCF7582A]\n",
      "\t(No symbol) [0x00007FF6FCFC5B8E]\n",
      "\t(No symbol) [0x00007FF6FCFC5E7C]\n",
      "\t(No symbol) [0x00007FF6FD00EC27]\n",
      "\t(No symbol) [0x00007FF6FCFEBC1F]\n",
      "\t(No symbol) [0x00007FF6FD00BA4C]\n",
      "\t(No symbol) [0x00007FF6FCFEB983]\n",
      "\t(No symbol) [0x00007FF6FCFB7628]\n",
      "\t(No symbol) [0x00007FF6FCFB8791]\n",
      "\tGetHandleVerifier [0x00007FF6FD45A00D+3161901]\n",
      "\tGetHandleVerifier [0x00007FF6FD4AE060+3506048]\n",
      "\tGetHandleVerifier [0x00007FF6FD4A400D+3465005]\n",
      "\tGetHandleVerifier [0x00007FF6FD220EEB+830987]\n",
      "\t(No symbol) [0x00007FF6FD0D467F]\n",
      "\t(No symbol) [0x00007FF6FD0D09D4]\n",
      "\t(No symbol) [0x00007FF6FD0D0B6D]\n",
      "\t(No symbol) [0x00007FF6FD0C0149]\n",
      "\tBaseThreadInitThunk [0x00007FFB7AAA7374+20]\n",
      "\tRtlUserThreadStart [0x00007FFB7C37CC91+33]\n",
      "\n"
     ]
    },
    {
     "name": "stderr",
     "output_type": "stream",
     "text": [
      "Processing URLs:   2%|    | 690/29446 [1:15:58<52:09:39,  6.53s/it]"
     ]
    },
    {
     "name": "stdout",
     "output_type": "stream",
     "text": [
      "Error fetching URL: https://www.agoda.com/partners/partnersearch.aspx?hid=290234 - Message: no such element: Unable to locate element: {\"method\":\"css selector\",\"selector\":\"a[data-element-name='property-card-content']\"}\n",
      "  (Session info: chrome=130.0.6723.117); For documentation on this error, please visit: https://www.selenium.dev/documentation/webdriver/troubleshooting/errors#no-such-element-exception\n",
      "Stacktrace:\n",
      "\tGetHandleVerifier [0x00007FF6FD4338A5+3004357]\n",
      "\t(No symbol) [0x00007FF6FD0C9970]\n",
      "\t(No symbol) [0x00007FF6FCF7582A]\n",
      "\t(No symbol) [0x00007FF6FCFC5B8E]\n",
      "\t(No symbol) [0x00007FF6FCFC5E7C]\n",
      "\t(No symbol) [0x00007FF6FD00EC27]\n",
      "\t(No symbol) [0x00007FF6FCFEBC1F]\n",
      "\t(No symbol) [0x00007FF6FD00BA4C]\n",
      "\t(No symbol) [0x00007FF6FCFEB983]\n",
      "\t(No symbol) [0x00007FF6FCFB7628]\n",
      "\t(No symbol) [0x00007FF6FCFB8791]\n",
      "\tGetHandleVerifier [0x00007FF6FD45A00D+3161901]\n",
      "\tGetHandleVerifier [0x00007FF6FD4AE060+3506048]\n",
      "\tGetHandleVerifier [0x00007FF6FD4A400D+3465005]\n",
      "\tGetHandleVerifier [0x00007FF6FD220EEB+830987]\n",
      "\t(No symbol) [0x00007FF6FD0D467F]\n",
      "\t(No symbol) [0x00007FF6FD0D09D4]\n",
      "\t(No symbol) [0x00007FF6FD0D0B6D]\n",
      "\t(No symbol) [0x00007FF6FD0C0149]\n",
      "\tBaseThreadInitThunk [0x00007FFB7AAA7374+20]\n",
      "\tRtlUserThreadStart [0x00007FFB7C37CC91+33]\n",
      "\n"
     ]
    },
    {
     "name": "stderr",
     "output_type": "stream",
     "text": [
      "Processing URLs:   2%|    | 691/29446 [1:16:05<51:45:21,  6.48s/it]"
     ]
    },
    {
     "name": "stdout",
     "output_type": "stream",
     "text": [
      "Error fetching URL: https://www.agoda.com/partners/partnersearch.aspx?hid=290238 - Message: no such element: Unable to locate element: {\"method\":\"css selector\",\"selector\":\"a[data-element-name='property-card-content']\"}\n",
      "  (Session info: chrome=130.0.6723.117); For documentation on this error, please visit: https://www.selenium.dev/documentation/webdriver/troubleshooting/errors#no-such-element-exception\n",
      "Stacktrace:\n",
      "\tGetHandleVerifier [0x00007FF6FD4338A5+3004357]\n",
      "\t(No symbol) [0x00007FF6FD0C9970]\n",
      "\t(No symbol) [0x00007FF6FCF7582A]\n",
      "\t(No symbol) [0x00007FF6FCFC5B8E]\n",
      "\t(No symbol) [0x00007FF6FCFC5E7C]\n",
      "\t(No symbol) [0x00007FF6FD00EC27]\n",
      "\t(No symbol) [0x00007FF6FCFEBC1F]\n",
      "\t(No symbol) [0x00007FF6FD00BA4C]\n",
      "\t(No symbol) [0x00007FF6FCFEB983]\n",
      "\t(No symbol) [0x00007FF6FCFB7628]\n",
      "\t(No symbol) [0x00007FF6FCFB8791]\n",
      "\tGetHandleVerifier [0x00007FF6FD45A00D+3161901]\n",
      "\tGetHandleVerifier [0x00007FF6FD4AE060+3506048]\n",
      "\tGetHandleVerifier [0x00007FF6FD4A400D+3465005]\n",
      "\tGetHandleVerifier [0x00007FF6FD220EEB+830987]\n",
      "\t(No symbol) [0x00007FF6FD0D467F]\n",
      "\t(No symbol) [0x00007FF6FD0D09D4]\n",
      "\t(No symbol) [0x00007FF6FD0D0B6D]\n",
      "\t(No symbol) [0x00007FF6FD0C0149]\n",
      "\tBaseThreadInitThunk [0x00007FFB7AAA7374+20]\n",
      "\tRtlUserThreadStart [0x00007FFB7C37CC91+33]\n",
      "\n"
     ]
    },
    {
     "name": "stderr",
     "output_type": "stream",
     "text": [
      "Processing URLs:   2%|    | 692/29446 [1:16:11<51:30:26,  6.45s/it]"
     ]
    },
    {
     "name": "stdout",
     "output_type": "stream",
     "text": [
      "Error fetching URL: https://www.agoda.com/partners/partnersearch.aspx?hid=290246 - Message: no such element: Unable to locate element: {\"method\":\"css selector\",\"selector\":\"a[data-element-name='property-card-content']\"}\n",
      "  (Session info: chrome=130.0.6723.117); For documentation on this error, please visit: https://www.selenium.dev/documentation/webdriver/troubleshooting/errors#no-such-element-exception\n",
      "Stacktrace:\n",
      "\tGetHandleVerifier [0x00007FF6FD4338A5+3004357]\n",
      "\t(No symbol) [0x00007FF6FD0C9970]\n",
      "\t(No symbol) [0x00007FF6FCF7582A]\n",
      "\t(No symbol) [0x00007FF6FCFC5B8E]\n",
      "\t(No symbol) [0x00007FF6FCFC5E7C]\n",
      "\t(No symbol) [0x00007FF6FD00EC27]\n",
      "\t(No symbol) [0x00007FF6FCFEBC1F]\n",
      "\t(No symbol) [0x00007FF6FD00BA4C]\n",
      "\t(No symbol) [0x00007FF6FCFEB983]\n",
      "\t(No symbol) [0x00007FF6FCFB7628]\n",
      "\t(No symbol) [0x00007FF6FCFB8791]\n",
      "\tGetHandleVerifier [0x00007FF6FD45A00D+3161901]\n",
      "\tGetHandleVerifier [0x00007FF6FD4AE060+3506048]\n",
      "\tGetHandleVerifier [0x00007FF6FD4A400D+3465005]\n",
      "\tGetHandleVerifier [0x00007FF6FD220EEB+830987]\n",
      "\t(No symbol) [0x00007FF6FD0D467F]\n",
      "\t(No symbol) [0x00007FF6FD0D09D4]\n",
      "\t(No symbol) [0x00007FF6FD0D0B6D]\n",
      "\t(No symbol) [0x00007FF6FD0C0149]\n",
      "\tBaseThreadInitThunk [0x00007FFB7AAA7374+20]\n",
      "\tRtlUserThreadStart [0x00007FFB7C37CC91+33]\n",
      "\n"
     ]
    },
    {
     "name": "stderr",
     "output_type": "stream",
     "text": [
      "Processing URLs:   2%|    | 693/29446 [1:16:17<51:19:20,  6.43s/it]"
     ]
    },
    {
     "name": "stdout",
     "output_type": "stream",
     "text": [
      "Error fetching URL: https://www.agoda.com/partners/partnersearch.aspx?hid=290273 - Message: no such element: Unable to locate element: {\"method\":\"css selector\",\"selector\":\"a[data-element-name='property-card-content']\"}\n",
      "  (Session info: chrome=130.0.6723.117); For documentation on this error, please visit: https://www.selenium.dev/documentation/webdriver/troubleshooting/errors#no-such-element-exception\n",
      "Stacktrace:\n",
      "\tGetHandleVerifier [0x00007FF6FD4338A5+3004357]\n",
      "\t(No symbol) [0x00007FF6FD0C9970]\n",
      "\t(No symbol) [0x00007FF6FCF7582A]\n",
      "\t(No symbol) [0x00007FF6FCFC5B8E]\n",
      "\t(No symbol) [0x00007FF6FCFC5E7C]\n",
      "\t(No symbol) [0x00007FF6FD00EC27]\n",
      "\t(No symbol) [0x00007FF6FCFEBC1F]\n",
      "\t(No symbol) [0x00007FF6FD00BA4C]\n",
      "\t(No symbol) [0x00007FF6FCFEB983]\n",
      "\t(No symbol) [0x00007FF6FCFB7628]\n",
      "\t(No symbol) [0x00007FF6FCFB8791]\n",
      "\tGetHandleVerifier [0x00007FF6FD45A00D+3161901]\n",
      "\tGetHandleVerifier [0x00007FF6FD4AE060+3506048]\n",
      "\tGetHandleVerifier [0x00007FF6FD4A400D+3465005]\n",
      "\tGetHandleVerifier [0x00007FF6FD220EEB+830987]\n",
      "\t(No symbol) [0x00007FF6FD0D467F]\n",
      "\t(No symbol) [0x00007FF6FD0D09D4]\n",
      "\t(No symbol) [0x00007FF6FD0D0B6D]\n",
      "\t(No symbol) [0x00007FF6FD0C0149]\n",
      "\tBaseThreadInitThunk [0x00007FFB7AAA7374+20]\n",
      "\tRtlUserThreadStart [0x00007FFB7C37CC91+33]\n",
      "\n"
     ]
    },
    {
     "name": "stderr",
     "output_type": "stream",
     "text": [
      "Processing URLs:   2%|    | 694/29446 [1:16:24<51:03:03,  6.39s/it]"
     ]
    },
    {
     "name": "stdout",
     "output_type": "stream",
     "text": [
      "Error fetching URL: https://www.agoda.com/partners/partnersearch.aspx?hid=290342 - Message: no such element: Unable to locate element: {\"method\":\"css selector\",\"selector\":\"a[data-element-name='property-card-content']\"}\n",
      "  (Session info: chrome=130.0.6723.117); For documentation on this error, please visit: https://www.selenium.dev/documentation/webdriver/troubleshooting/errors#no-such-element-exception\n",
      "Stacktrace:\n",
      "\tGetHandleVerifier [0x00007FF6FD4338A5+3004357]\n",
      "\t(No symbol) [0x00007FF6FD0C9970]\n",
      "\t(No symbol) [0x00007FF6FCF7582A]\n",
      "\t(No symbol) [0x00007FF6FCFC5B8E]\n",
      "\t(No symbol) [0x00007FF6FCFC5E7C]\n",
      "\t(No symbol) [0x00007FF6FD00EC27]\n",
      "\t(No symbol) [0x00007FF6FCFEBC1F]\n",
      "\t(No symbol) [0x00007FF6FD00BA4C]\n",
      "\t(No symbol) [0x00007FF6FCFEB983]\n",
      "\t(No symbol) [0x00007FF6FCFB7628]\n",
      "\t(No symbol) [0x00007FF6FCFB8791]\n",
      "\tGetHandleVerifier [0x00007FF6FD45A00D+3161901]\n",
      "\tGetHandleVerifier [0x00007FF6FD4AE060+3506048]\n",
      "\tGetHandleVerifier [0x00007FF6FD4A400D+3465005]\n",
      "\tGetHandleVerifier [0x00007FF6FD220EEB+830987]\n",
      "\t(No symbol) [0x00007FF6FD0D467F]\n",
      "\t(No symbol) [0x00007FF6FD0D09D4]\n",
      "\t(No symbol) [0x00007FF6FD0D0B6D]\n",
      "\t(No symbol) [0x00007FF6FD0C0149]\n",
      "\tBaseThreadInitThunk [0x00007FFB7AAA7374+20]\n",
      "\tRtlUserThreadStart [0x00007FFB7C37CC91+33]\n",
      "\n"
     ]
    },
    {
     "name": "stderr",
     "output_type": "stream",
     "text": [
      "Processing URLs:   2%|    | 695/29446 [1:16:30<50:51:08,  6.37s/it]"
     ]
    },
    {
     "name": "stdout",
     "output_type": "stream",
     "text": [
      "Error fetching URL: https://www.agoda.com/partners/partnersearch.aspx?hid=290364 - Message: no such element: Unable to locate element: {\"method\":\"css selector\",\"selector\":\"a[data-element-name='property-card-content']\"}\n",
      "  (Session info: chrome=130.0.6723.117); For documentation on this error, please visit: https://www.selenium.dev/documentation/webdriver/troubleshooting/errors#no-such-element-exception\n",
      "Stacktrace:\n",
      "\tGetHandleVerifier [0x00007FF6FD4338A5+3004357]\n",
      "\t(No symbol) [0x00007FF6FD0C9970]\n",
      "\t(No symbol) [0x00007FF6FCF7582A]\n",
      "\t(No symbol) [0x00007FF6FCFC5B8E]\n",
      "\t(No symbol) [0x00007FF6FCFC5E7C]\n",
      "\t(No symbol) [0x00007FF6FD00EC27]\n",
      "\t(No symbol) [0x00007FF6FCFEBC1F]\n",
      "\t(No symbol) [0x00007FF6FD00BA4C]\n",
      "\t(No symbol) [0x00007FF6FCFEB983]\n",
      "\t(No symbol) [0x00007FF6FCFB7628]\n",
      "\t(No symbol) [0x00007FF6FCFB8791]\n",
      "\tGetHandleVerifier [0x00007FF6FD45A00D+3161901]\n",
      "\tGetHandleVerifier [0x00007FF6FD4AE060+3506048]\n",
      "\tGetHandleVerifier [0x00007FF6FD4A400D+3465005]\n",
      "\tGetHandleVerifier [0x00007FF6FD220EEB+830987]\n",
      "\t(No symbol) [0x00007FF6FD0D467F]\n",
      "\t(No symbol) [0x00007FF6FD0D09D4]\n",
      "\t(No symbol) [0x00007FF6FD0D0B6D]\n",
      "\t(No symbol) [0x00007FF6FD0C0149]\n",
      "\tBaseThreadInitThunk [0x00007FFB7AAA7374+20]\n",
      "\tRtlUserThreadStart [0x00007FFB7C37CC91+33]\n",
      "\n"
     ]
    },
    {
     "name": "stderr",
     "output_type": "stream",
     "text": [
      "Processing URLs:   2%|    | 696/29446 [1:16:36<50:55:06,  6.38s/it]"
     ]
    },
    {
     "name": "stdout",
     "output_type": "stream",
     "text": [
      "Error fetching URL: https://www.agoda.com/partners/partnersearch.aspx?hid=290453 - Message: no such element: Unable to locate element: {\"method\":\"css selector\",\"selector\":\"a[data-element-name='property-card-content']\"}\n",
      "  (Session info: chrome=130.0.6723.117); For documentation on this error, please visit: https://www.selenium.dev/documentation/webdriver/troubleshooting/errors#no-such-element-exception\n",
      "Stacktrace:\n",
      "\tGetHandleVerifier [0x00007FF6FD4338A5+3004357]\n",
      "\t(No symbol) [0x00007FF6FD0C9970]\n",
      "\t(No symbol) [0x00007FF6FCF7582A]\n",
      "\t(No symbol) [0x00007FF6FCFC5B8E]\n",
      "\t(No symbol) [0x00007FF6FCFC5E7C]\n",
      "\t(No symbol) [0x00007FF6FD00EC27]\n",
      "\t(No symbol) [0x00007FF6FCFEBC1F]\n",
      "\t(No symbol) [0x00007FF6FD00BA4C]\n",
      "\t(No symbol) [0x00007FF6FCFEB983]\n",
      "\t(No symbol) [0x00007FF6FCFB7628]\n",
      "\t(No symbol) [0x00007FF6FCFB8791]\n",
      "\tGetHandleVerifier [0x00007FF6FD45A00D+3161901]\n",
      "\tGetHandleVerifier [0x00007FF6FD4AE060+3506048]\n",
      "\tGetHandleVerifier [0x00007FF6FD4A400D+3465005]\n",
      "\tGetHandleVerifier [0x00007FF6FD220EEB+830987]\n",
      "\t(No symbol) [0x00007FF6FD0D467F]\n",
      "\t(No symbol) [0x00007FF6FD0D09D4]\n",
      "\t(No symbol) [0x00007FF6FD0D0B6D]\n",
      "\t(No symbol) [0x00007FF6FD0C0149]\n",
      "\tBaseThreadInitThunk [0x00007FFB7AAA7374+20]\n",
      "\tRtlUserThreadStart [0x00007FFB7C37CC91+33]\n",
      "\n"
     ]
    },
    {
     "name": "stderr",
     "output_type": "stream",
     "text": [
      "Processing URLs:   2%|    | 697/29446 [1:16:43<51:04:17,  6.40s/it]"
     ]
    },
    {
     "name": "stdout",
     "output_type": "stream",
     "text": [
      "Error fetching URL: https://www.agoda.com/partners/partnersearch.aspx?hid=290554 - Message: no such element: Unable to locate element: {\"method\":\"css selector\",\"selector\":\"a[data-element-name='property-card-content']\"}\n",
      "  (Session info: chrome=130.0.6723.117); For documentation on this error, please visit: https://www.selenium.dev/documentation/webdriver/troubleshooting/errors#no-such-element-exception\n",
      "Stacktrace:\n",
      "\tGetHandleVerifier [0x00007FF6FD4338A5+3004357]\n",
      "\t(No symbol) [0x00007FF6FD0C9970]\n",
      "\t(No symbol) [0x00007FF6FCF7582A]\n",
      "\t(No symbol) [0x00007FF6FCFC5B8E]\n",
      "\t(No symbol) [0x00007FF6FCFC5E7C]\n",
      "\t(No symbol) [0x00007FF6FD00EC27]\n",
      "\t(No symbol) [0x00007FF6FCFEBC1F]\n",
      "\t(No symbol) [0x00007FF6FD00BA4C]\n",
      "\t(No symbol) [0x00007FF6FCFEB983]\n",
      "\t(No symbol) [0x00007FF6FCFB7628]\n",
      "\t(No symbol) [0x00007FF6FCFB8791]\n",
      "\tGetHandleVerifier [0x00007FF6FD45A00D+3161901]\n",
      "\tGetHandleVerifier [0x00007FF6FD4AE060+3506048]\n",
      "\tGetHandleVerifier [0x00007FF6FD4A400D+3465005]\n",
      "\tGetHandleVerifier [0x00007FF6FD220EEB+830987]\n",
      "\t(No symbol) [0x00007FF6FD0D467F]\n",
      "\t(No symbol) [0x00007FF6FD0D09D4]\n",
      "\t(No symbol) [0x00007FF6FD0D0B6D]\n",
      "\t(No symbol) [0x00007FF6FD0C0149]\n",
      "\tBaseThreadInitThunk [0x00007FFB7AAA7374+20]\n",
      "\tRtlUserThreadStart [0x00007FFB7C37CC91+33]\n",
      "\n"
     ]
    },
    {
     "name": "stderr",
     "output_type": "stream",
     "text": [
      "Processing URLs:   2%|    | 698/29446 [1:16:49<51:28:25,  6.45s/it]"
     ]
    },
    {
     "name": "stdout",
     "output_type": "stream",
     "text": [
      "Error fetching URL: https://www.agoda.com/partners/partnersearch.aspx?hid=290567 - Message: no such element: Unable to locate element: {\"method\":\"css selector\",\"selector\":\"a[data-element-name='property-card-content']\"}\n",
      "  (Session info: chrome=130.0.6723.117); For documentation on this error, please visit: https://www.selenium.dev/documentation/webdriver/troubleshooting/errors#no-such-element-exception\n",
      "Stacktrace:\n",
      "\tGetHandleVerifier [0x00007FF6FD4338A5+3004357]\n",
      "\t(No symbol) [0x00007FF6FD0C9970]\n",
      "\t(No symbol) [0x00007FF6FCF7582A]\n",
      "\t(No symbol) [0x00007FF6FCFC5B8E]\n",
      "\t(No symbol) [0x00007FF6FCFC5E7C]\n",
      "\t(No symbol) [0x00007FF6FD00EC27]\n",
      "\t(No symbol) [0x00007FF6FCFEBC1F]\n",
      "\t(No symbol) [0x00007FF6FD00BA4C]\n",
      "\t(No symbol) [0x00007FF6FCFEB983]\n",
      "\t(No symbol) [0x00007FF6FCFB7628]\n",
      "\t(No symbol) [0x00007FF6FCFB8791]\n",
      "\tGetHandleVerifier [0x00007FF6FD45A00D+3161901]\n",
      "\tGetHandleVerifier [0x00007FF6FD4AE060+3506048]\n",
      "\tGetHandleVerifier [0x00007FF6FD4A400D+3465005]\n",
      "\tGetHandleVerifier [0x00007FF6FD220EEB+830987]\n",
      "\t(No symbol) [0x00007FF6FD0D467F]\n",
      "\t(No symbol) [0x00007FF6FD0D09D4]\n",
      "\t(No symbol) [0x00007FF6FD0D0B6D]\n",
      "\t(No symbol) [0x00007FF6FD0C0149]\n",
      "\tBaseThreadInitThunk [0x00007FFB7AAA7374+20]\n",
      "\tRtlUserThreadStart [0x00007FFB7C37CC91+33]\n",
      "\n"
     ]
    },
    {
     "name": "stderr",
     "output_type": "stream",
     "text": [
      "Processing URLs:   2%|    | 700/29446 [1:17:02<52:00:33,  6.51s/it]"
     ]
    },
    {
     "name": "stdout",
     "output_type": "stream",
     "text": [
      "Error fetching URL: https://www.agoda.com/partners/partnersearch.aspx?hid=290728 - Message: no such element: Unable to locate element: {\"method\":\"css selector\",\"selector\":\"a[data-element-name='property-card-content']\"}\n",
      "  (Session info: chrome=130.0.6723.117); For documentation on this error, please visit: https://www.selenium.dev/documentation/webdriver/troubleshooting/errors#no-such-element-exception\n",
      "Stacktrace:\n",
      "\tGetHandleVerifier [0x00007FF6FD4338A5+3004357]\n",
      "\t(No symbol) [0x00007FF6FD0C9970]\n",
      "\t(No symbol) [0x00007FF6FCF7582A]\n",
      "\t(No symbol) [0x00007FF6FCFC5B8E]\n",
      "\t(No symbol) [0x00007FF6FCFC5E7C]\n",
      "\t(No symbol) [0x00007FF6FD00EC27]\n",
      "\t(No symbol) [0x00007FF6FCFEBC1F]\n",
      "\t(No symbol) [0x00007FF6FD00BA4C]\n",
      "\t(No symbol) [0x00007FF6FCFEB983]\n",
      "\t(No symbol) [0x00007FF6FCFB7628]\n",
      "\t(No symbol) [0x00007FF6FCFB8791]\n",
      "\tGetHandleVerifier [0x00007FF6FD45A00D+3161901]\n",
      "\tGetHandleVerifier [0x00007FF6FD4AE060+3506048]\n",
      "\tGetHandleVerifier [0x00007FF6FD4A400D+3465005]\n",
      "\tGetHandleVerifier [0x00007FF6FD220EEB+830987]\n",
      "\t(No symbol) [0x00007FF6FD0D467F]\n",
      "\t(No symbol) [0x00007FF6FD0D09D4]\n",
      "\t(No symbol) [0x00007FF6FD0D0B6D]\n",
      "\t(No symbol) [0x00007FF6FD0C0149]\n",
      "\tBaseThreadInitThunk [0x00007FFB7AAA7374+20]\n",
      "\tRtlUserThreadStart [0x00007FFB7C37CC91+33]\n",
      "\n"
     ]
    },
    {
     "name": "stderr",
     "output_type": "stream",
     "text": [
      "Processing URLs:   2%|    | 701/29446 [1:17:09<51:34:35,  6.46s/it]"
     ]
    },
    {
     "name": "stdout",
     "output_type": "stream",
     "text": [
      "Error fetching URL: https://www.agoda.com/partners/partnersearch.aspx?hid=290876 - Message: no such element: Unable to locate element: {\"method\":\"css selector\",\"selector\":\"a[data-element-name='property-card-content']\"}\n",
      "  (Session info: chrome=130.0.6723.117); For documentation on this error, please visit: https://www.selenium.dev/documentation/webdriver/troubleshooting/errors#no-such-element-exception\n",
      "Stacktrace:\n",
      "\tGetHandleVerifier [0x00007FF6FD4338A5+3004357]\n",
      "\t(No symbol) [0x00007FF6FD0C9970]\n",
      "\t(No symbol) [0x00007FF6FCF7582A]\n",
      "\t(No symbol) [0x00007FF6FCFC5B8E]\n",
      "\t(No symbol) [0x00007FF6FCFC5E7C]\n",
      "\t(No symbol) [0x00007FF6FD00EC27]\n",
      "\t(No symbol) [0x00007FF6FCFEBC1F]\n",
      "\t(No symbol) [0x00007FF6FD00BA4C]\n",
      "\t(No symbol) [0x00007FF6FCFEB983]\n",
      "\t(No symbol) [0x00007FF6FCFB7628]\n",
      "\t(No symbol) [0x00007FF6FCFB8791]\n",
      "\tGetHandleVerifier [0x00007FF6FD45A00D+3161901]\n",
      "\tGetHandleVerifier [0x00007FF6FD4AE060+3506048]\n",
      "\tGetHandleVerifier [0x00007FF6FD4A400D+3465005]\n",
      "\tGetHandleVerifier [0x00007FF6FD220EEB+830987]\n",
      "\t(No symbol) [0x00007FF6FD0D467F]\n",
      "\t(No symbol) [0x00007FF6FD0D09D4]\n",
      "\t(No symbol) [0x00007FF6FD0D0B6D]\n",
      "\t(No symbol) [0x00007FF6FD0C0149]\n",
      "\tBaseThreadInitThunk [0x00007FFB7AAA7374+20]\n",
      "\tRtlUserThreadStart [0x00007FFB7C37CC91+33]\n",
      "\n"
     ]
    },
    {
     "name": "stderr",
     "output_type": "stream",
     "text": [
      "Processing URLs:   2%|    | 702/29446 [1:17:15<51:17:33,  6.42s/it]"
     ]
    },
    {
     "name": "stdout",
     "output_type": "stream",
     "text": [
      "Error fetching URL: https://www.agoda.com/partners/partnersearch.aspx?hid=291109 - Message: no such element: Unable to locate element: {\"method\":\"css selector\",\"selector\":\"a[data-element-name='property-card-content']\"}\n",
      "  (Session info: chrome=130.0.6723.117); For documentation on this error, please visit: https://www.selenium.dev/documentation/webdriver/troubleshooting/errors#no-such-element-exception\n",
      "Stacktrace:\n",
      "\tGetHandleVerifier [0x00007FF6FD4338A5+3004357]\n",
      "\t(No symbol) [0x00007FF6FD0C9970]\n",
      "\t(No symbol) [0x00007FF6FCF7582A]\n",
      "\t(No symbol) [0x00007FF6FCFC5B8E]\n",
      "\t(No symbol) [0x00007FF6FCFC5E7C]\n",
      "\t(No symbol) [0x00007FF6FD00EC27]\n",
      "\t(No symbol) [0x00007FF6FCFEBC1F]\n",
      "\t(No symbol) [0x00007FF6FD00BA4C]\n",
      "\t(No symbol) [0x00007FF6FCFEB983]\n",
      "\t(No symbol) [0x00007FF6FCFB7628]\n",
      "\t(No symbol) [0x00007FF6FCFB8791]\n",
      "\tGetHandleVerifier [0x00007FF6FD45A00D+3161901]\n",
      "\tGetHandleVerifier [0x00007FF6FD4AE060+3506048]\n",
      "\tGetHandleVerifier [0x00007FF6FD4A400D+3465005]\n",
      "\tGetHandleVerifier [0x00007FF6FD220EEB+830987]\n",
      "\t(No symbol) [0x00007FF6FD0D467F]\n",
      "\t(No symbol) [0x00007FF6FD0D09D4]\n",
      "\t(No symbol) [0x00007FF6FD0D0B6D]\n",
      "\t(No symbol) [0x00007FF6FD0C0149]\n",
      "\tBaseThreadInitThunk [0x00007FFB7AAA7374+20]\n",
      "\tRtlUserThreadStart [0x00007FFB7C37CC91+33]\n",
      "\n"
     ]
    },
    {
     "name": "stderr",
     "output_type": "stream",
     "text": [
      "Processing URLs:   2%|    | 703/29446 [1:17:22<51:08:49,  6.41s/it]"
     ]
    },
    {
     "name": "stdout",
     "output_type": "stream",
     "text": [
      "Error fetching URL: https://www.agoda.com/partners/partnersearch.aspx?hid=291706 - Message: no such element: Unable to locate element: {\"method\":\"css selector\",\"selector\":\"a[data-element-name='property-card-content']\"}\n",
      "  (Session info: chrome=130.0.6723.117); For documentation on this error, please visit: https://www.selenium.dev/documentation/webdriver/troubleshooting/errors#no-such-element-exception\n",
      "Stacktrace:\n",
      "\tGetHandleVerifier [0x00007FF6FD4338A5+3004357]\n",
      "\t(No symbol) [0x00007FF6FD0C9970]\n",
      "\t(No symbol) [0x00007FF6FCF7582A]\n",
      "\t(No symbol) [0x00007FF6FCFC5B8E]\n",
      "\t(No symbol) [0x00007FF6FCFC5E7C]\n",
      "\t(No symbol) [0x00007FF6FD00EC27]\n",
      "\t(No symbol) [0x00007FF6FCFEBC1F]\n",
      "\t(No symbol) [0x00007FF6FD00BA4C]\n",
      "\t(No symbol) [0x00007FF6FCFEB983]\n",
      "\t(No symbol) [0x00007FF6FCFB7628]\n",
      "\t(No symbol) [0x00007FF6FCFB8791]\n",
      "\tGetHandleVerifier [0x00007FF6FD45A00D+3161901]\n",
      "\tGetHandleVerifier [0x00007FF6FD4AE060+3506048]\n",
      "\tGetHandleVerifier [0x00007FF6FD4A400D+3465005]\n",
      "\tGetHandleVerifier [0x00007FF6FD220EEB+830987]\n",
      "\t(No symbol) [0x00007FF6FD0D467F]\n",
      "\t(No symbol) [0x00007FF6FD0D09D4]\n",
      "\t(No symbol) [0x00007FF6FD0D0B6D]\n",
      "\t(No symbol) [0x00007FF6FD0C0149]\n",
      "\tBaseThreadInitThunk [0x00007FFB7AAA7374+20]\n",
      "\tRtlUserThreadStart [0x00007FFB7C37CC91+33]\n",
      "\n"
     ]
    },
    {
     "name": "stderr",
     "output_type": "stream",
     "text": [
      "Processing URLs:   2%|    | 704/29446 [1:17:28<51:35:53,  6.46s/it]"
     ]
    },
    {
     "name": "stdout",
     "output_type": "stream",
     "text": [
      "Error fetching URL: https://www.agoda.com/partners/partnersearch.aspx?hid=291841 - Message: no such element: Unable to locate element: {\"method\":\"css selector\",\"selector\":\"a[data-element-name='property-card-content']\"}\n",
      "  (Session info: chrome=130.0.6723.117); For documentation on this error, please visit: https://www.selenium.dev/documentation/webdriver/troubleshooting/errors#no-such-element-exception\n",
      "Stacktrace:\n",
      "\tGetHandleVerifier [0x00007FF6FD4338A5+3004357]\n",
      "\t(No symbol) [0x00007FF6FD0C9970]\n",
      "\t(No symbol) [0x00007FF6FCF7582A]\n",
      "\t(No symbol) [0x00007FF6FCFC5B8E]\n",
      "\t(No symbol) [0x00007FF6FCFC5E7C]\n",
      "\t(No symbol) [0x00007FF6FD00EC27]\n",
      "\t(No symbol) [0x00007FF6FCFEBC1F]\n",
      "\t(No symbol) [0x00007FF6FD00BA4C]\n",
      "\t(No symbol) [0x00007FF6FCFEB983]\n",
      "\t(No symbol) [0x00007FF6FCFB7628]\n",
      "\t(No symbol) [0x00007FF6FCFB8791]\n",
      "\tGetHandleVerifier [0x00007FF6FD45A00D+3161901]\n",
      "\tGetHandleVerifier [0x00007FF6FD4AE060+3506048]\n",
      "\tGetHandleVerifier [0x00007FF6FD4A400D+3465005]\n",
      "\tGetHandleVerifier [0x00007FF6FD220EEB+830987]\n",
      "\t(No symbol) [0x00007FF6FD0D467F]\n",
      "\t(No symbol) [0x00007FF6FD0D09D4]\n",
      "\t(No symbol) [0x00007FF6FD0D0B6D]\n",
      "\t(No symbol) [0x00007FF6FD0C0149]\n",
      "\tBaseThreadInitThunk [0x00007FFB7AAA7374+20]\n",
      "\tRtlUserThreadStart [0x00007FFB7C37CC91+33]\n",
      "\n"
     ]
    },
    {
     "name": "stderr",
     "output_type": "stream",
     "text": [
      "Processing URLs:   2%|    | 705/29446 [1:17:34<51:25:53,  6.44s/it]"
     ]
    },
    {
     "name": "stdout",
     "output_type": "stream",
     "text": [
      "Error fetching URL: https://www.agoda.com/partners/partnersearch.aspx?hid=292197 - Message: no such element: Unable to locate element: {\"method\":\"css selector\",\"selector\":\"a[data-element-name='property-card-content']\"}\n",
      "  (Session info: chrome=130.0.6723.117); For documentation on this error, please visit: https://www.selenium.dev/documentation/webdriver/troubleshooting/errors#no-such-element-exception\n",
      "Stacktrace:\n",
      "\tGetHandleVerifier [0x00007FF6FD4338A5+3004357]\n",
      "\t(No symbol) [0x00007FF6FD0C9970]\n",
      "\t(No symbol) [0x00007FF6FCF7582A]\n",
      "\t(No symbol) [0x00007FF6FCFC5B8E]\n",
      "\t(No symbol) [0x00007FF6FCFC5E7C]\n",
      "\t(No symbol) [0x00007FF6FD00EC27]\n",
      "\t(No symbol) [0x00007FF6FCFEBC1F]\n",
      "\t(No symbol) [0x00007FF6FD00BA4C]\n",
      "\t(No symbol) [0x00007FF6FCFEB983]\n",
      "\t(No symbol) [0x00007FF6FCFB7628]\n",
      "\t(No symbol) [0x00007FF6FCFB8791]\n",
      "\tGetHandleVerifier [0x00007FF6FD45A00D+3161901]\n",
      "\tGetHandleVerifier [0x00007FF6FD4AE060+3506048]\n",
      "\tGetHandleVerifier [0x00007FF6FD4A400D+3465005]\n",
      "\tGetHandleVerifier [0x00007FF6FD220EEB+830987]\n",
      "\t(No symbol) [0x00007FF6FD0D467F]\n",
      "\t(No symbol) [0x00007FF6FD0D09D4]\n",
      "\t(No symbol) [0x00007FF6FD0D0B6D]\n",
      "\t(No symbol) [0x00007FF6FD0C0149]\n",
      "\tBaseThreadInitThunk [0x00007FFB7AAA7374+20]\n",
      "\tRtlUserThreadStart [0x00007FFB7C37CC91+33]\n",
      "\n"
     ]
    },
    {
     "name": "stderr",
     "output_type": "stream",
     "text": [
      "Processing URLs:   2%|    | 706/29446 [1:17:41<51:56:33,  6.51s/it]"
     ]
    },
    {
     "name": "stdout",
     "output_type": "stream",
     "text": [
      "Error fetching URL: https://www.agoda.com/partners/partnersearch.aspx?hid=292557 - Message: no such element: Unable to locate element: {\"method\":\"css selector\",\"selector\":\"a[data-element-name='property-card-content']\"}\n",
      "  (Session info: chrome=130.0.6723.117); For documentation on this error, please visit: https://www.selenium.dev/documentation/webdriver/troubleshooting/errors#no-such-element-exception\n",
      "Stacktrace:\n",
      "\tGetHandleVerifier [0x00007FF6FD4338A5+3004357]\n",
      "\t(No symbol) [0x00007FF6FD0C9970]\n",
      "\t(No symbol) [0x00007FF6FCF7582A]\n",
      "\t(No symbol) [0x00007FF6FCFC5B8E]\n",
      "\t(No symbol) [0x00007FF6FCFC5E7C]\n",
      "\t(No symbol) [0x00007FF6FD00EC27]\n",
      "\t(No symbol) [0x00007FF6FCFEBC1F]\n",
      "\t(No symbol) [0x00007FF6FD00BA4C]\n",
      "\t(No symbol) [0x00007FF6FCFEB983]\n",
      "\t(No symbol) [0x00007FF6FCFB7628]\n",
      "\t(No symbol) [0x00007FF6FCFB8791]\n",
      "\tGetHandleVerifier [0x00007FF6FD45A00D+3161901]\n",
      "\tGetHandleVerifier [0x00007FF6FD4AE060+3506048]\n",
      "\tGetHandleVerifier [0x00007FF6FD4A400D+3465005]\n",
      "\tGetHandleVerifier [0x00007FF6FD220EEB+830987]\n",
      "\t(No symbol) [0x00007FF6FD0D467F]\n",
      "\t(No symbol) [0x00007FF6FD0D09D4]\n",
      "\t(No symbol) [0x00007FF6FD0D0B6D]\n",
      "\t(No symbol) [0x00007FF6FD0C0149]\n",
      "\tBaseThreadInitThunk [0x00007FFB7AAA7374+20]\n",
      "\tRtlUserThreadStart [0x00007FFB7C37CC91+33]\n",
      "\n"
     ]
    },
    {
     "name": "stderr",
     "output_type": "stream",
     "text": [
      "Processing URLs:   2%|    | 708/29446 [1:17:54<51:57:59,  6.51s/it]"
     ]
    },
    {
     "name": "stdout",
     "output_type": "stream",
     "text": [
      "Error fetching URL: https://www.agoda.com/partners/partnersearch.aspx?hid=292583 - Message: no such element: Unable to locate element: {\"method\":\"css selector\",\"selector\":\"a[data-element-name='property-card-content']\"}\n",
      "  (Session info: chrome=130.0.6723.117); For documentation on this error, please visit: https://www.selenium.dev/documentation/webdriver/troubleshooting/errors#no-such-element-exception\n",
      "Stacktrace:\n",
      "\tGetHandleVerifier [0x00007FF6FD4338A5+3004357]\n",
      "\t(No symbol) [0x00007FF6FD0C9970]\n",
      "\t(No symbol) [0x00007FF6FCF7582A]\n",
      "\t(No symbol) [0x00007FF6FCFC5B8E]\n",
      "\t(No symbol) [0x00007FF6FCFC5E7C]\n",
      "\t(No symbol) [0x00007FF6FD00EC27]\n",
      "\t(No symbol) [0x00007FF6FCFEBC1F]\n",
      "\t(No symbol) [0x00007FF6FD00BA4C]\n",
      "\t(No symbol) [0x00007FF6FCFEB983]\n",
      "\t(No symbol) [0x00007FF6FCFB7628]\n",
      "\t(No symbol) [0x00007FF6FCFB8791]\n",
      "\tGetHandleVerifier [0x00007FF6FD45A00D+3161901]\n",
      "\tGetHandleVerifier [0x00007FF6FD4AE060+3506048]\n",
      "\tGetHandleVerifier [0x00007FF6FD4A400D+3465005]\n",
      "\tGetHandleVerifier [0x00007FF6FD220EEB+830987]\n",
      "\t(No symbol) [0x00007FF6FD0D467F]\n",
      "\t(No symbol) [0x00007FF6FD0D09D4]\n",
      "\t(No symbol) [0x00007FF6FD0D0B6D]\n",
      "\t(No symbol) [0x00007FF6FD0C0149]\n",
      "\tBaseThreadInitThunk [0x00007FFB7AAA7374+20]\n",
      "\tRtlUserThreadStart [0x00007FFB7C37CC91+33]\n",
      "\n"
     ]
    },
    {
     "name": "stderr",
     "output_type": "stream",
     "text": [
      "Processing URLs:   2%|    | 711/29446 [1:18:16<56:39:58,  7.10s/it]"
     ]
    },
    {
     "name": "stdout",
     "output_type": "stream",
     "text": [
      "Error fetching URL: https://www.agoda.com/partners/partnersearch.aspx?hid=292975 - Message: no such element: Unable to locate element: {\"method\":\"css selector\",\"selector\":\"a[data-element-name='property-card-content']\"}\n",
      "  (Session info: chrome=130.0.6723.117); For documentation on this error, please visit: https://www.selenium.dev/documentation/webdriver/troubleshooting/errors#no-such-element-exception\n",
      "Stacktrace:\n",
      "\tGetHandleVerifier [0x00007FF6FD4338A5+3004357]\n",
      "\t(No symbol) [0x00007FF6FD0C9970]\n",
      "\t(No symbol) [0x00007FF6FCF7582A]\n",
      "\t(No symbol) [0x00007FF6FCFC5B8E]\n",
      "\t(No symbol) [0x00007FF6FCFC5E7C]\n",
      "\t(No symbol) [0x00007FF6FD00EC27]\n",
      "\t(No symbol) [0x00007FF6FCFEBC1F]\n",
      "\t(No symbol) [0x00007FF6FD00BA4C]\n",
      "\t(No symbol) [0x00007FF6FCFEB983]\n",
      "\t(No symbol) [0x00007FF6FCFB7628]\n",
      "\t(No symbol) [0x00007FF6FCFB8791]\n",
      "\tGetHandleVerifier [0x00007FF6FD45A00D+3161901]\n",
      "\tGetHandleVerifier [0x00007FF6FD4AE060+3506048]\n",
      "\tGetHandleVerifier [0x00007FF6FD4A400D+3465005]\n",
      "\tGetHandleVerifier [0x00007FF6FD220EEB+830987]\n",
      "\t(No symbol) [0x00007FF6FD0D467F]\n",
      "\t(No symbol) [0x00007FF6FD0D09D4]\n",
      "\t(No symbol) [0x00007FF6FD0D0B6D]\n",
      "\t(No symbol) [0x00007FF6FD0C0149]\n",
      "\tBaseThreadInitThunk [0x00007FFB7AAA7374+20]\n",
      "\tRtlUserThreadStart [0x00007FFB7C37CC91+33]\n",
      "\n"
     ]
    },
    {
     "name": "stderr",
     "output_type": "stream",
     "text": [
      "Processing URLs:   2%|    | 712/29446 [1:18:23<55:40:14,  6.97s/it]"
     ]
    },
    {
     "name": "stdout",
     "output_type": "stream",
     "text": [
      "Error fetching URL: https://www.agoda.com/partners/partnersearch.aspx?hid=293009 - Message: no such element: Unable to locate element: {\"method\":\"css selector\",\"selector\":\"a[data-element-name='property-card-content']\"}\n",
      "  (Session info: chrome=130.0.6723.117); For documentation on this error, please visit: https://www.selenium.dev/documentation/webdriver/troubleshooting/errors#no-such-element-exception\n",
      "Stacktrace:\n",
      "\tGetHandleVerifier [0x00007FF6FD4338A5+3004357]\n",
      "\t(No symbol) [0x00007FF6FD0C9970]\n",
      "\t(No symbol) [0x00007FF6FCF7582A]\n",
      "\t(No symbol) [0x00007FF6FCFC5B8E]\n",
      "\t(No symbol) [0x00007FF6FCFC5E7C]\n",
      "\t(No symbol) [0x00007FF6FD00EC27]\n",
      "\t(No symbol) [0x00007FF6FCFEBC1F]\n",
      "\t(No symbol) [0x00007FF6FD00BA4C]\n",
      "\t(No symbol) [0x00007FF6FCFEB983]\n",
      "\t(No symbol) [0x00007FF6FCFB7628]\n",
      "\t(No symbol) [0x00007FF6FCFB8791]\n",
      "\tGetHandleVerifier [0x00007FF6FD45A00D+3161901]\n",
      "\tGetHandleVerifier [0x00007FF6FD4AE060+3506048]\n",
      "\tGetHandleVerifier [0x00007FF6FD4A400D+3465005]\n",
      "\tGetHandleVerifier [0x00007FF6FD220EEB+830987]\n",
      "\t(No symbol) [0x00007FF6FD0D467F]\n",
      "\t(No symbol) [0x00007FF6FD0D09D4]\n",
      "\t(No symbol) [0x00007FF6FD0D0B6D]\n",
      "\t(No symbol) [0x00007FF6FD0C0149]\n",
      "\tBaseThreadInitThunk [0x00007FFB7AAA7374+20]\n",
      "\tRtlUserThreadStart [0x00007FFB7C37CC91+33]\n",
      "\n"
     ]
    },
    {
     "name": "stderr",
     "output_type": "stream",
     "text": [
      "Processing URLs:   2%|    | 713/29446 [1:18:29<54:14:00,  6.80s/it]"
     ]
    },
    {
     "name": "stdout",
     "output_type": "stream",
     "text": [
      "Error fetching URL: https://www.agoda.com/partners/partnersearch.aspx?hid=293087 - Message: no such element: Unable to locate element: {\"method\":\"css selector\",\"selector\":\"a[data-element-name='property-card-content']\"}\n",
      "  (Session info: chrome=130.0.6723.117); For documentation on this error, please visit: https://www.selenium.dev/documentation/webdriver/troubleshooting/errors#no-such-element-exception\n",
      "Stacktrace:\n",
      "\tGetHandleVerifier [0x00007FF6FD4338A5+3004357]\n",
      "\t(No symbol) [0x00007FF6FD0C9970]\n",
      "\t(No symbol) [0x00007FF6FCF7582A]\n",
      "\t(No symbol) [0x00007FF6FCFC5B8E]\n",
      "\t(No symbol) [0x00007FF6FCFC5E7C]\n",
      "\t(No symbol) [0x00007FF6FD00EC27]\n",
      "\t(No symbol) [0x00007FF6FCFEBC1F]\n",
      "\t(No symbol) [0x00007FF6FD00BA4C]\n",
      "\t(No symbol) [0x00007FF6FCFEB983]\n",
      "\t(No symbol) [0x00007FF6FCFB7628]\n",
      "\t(No symbol) [0x00007FF6FCFB8791]\n",
      "\tGetHandleVerifier [0x00007FF6FD45A00D+3161901]\n",
      "\tGetHandleVerifier [0x00007FF6FD4AE060+3506048]\n",
      "\tGetHandleVerifier [0x00007FF6FD4A400D+3465005]\n",
      "\tGetHandleVerifier [0x00007FF6FD220EEB+830987]\n",
      "\t(No symbol) [0x00007FF6FD0D467F]\n",
      "\t(No symbol) [0x00007FF6FD0D09D4]\n",
      "\t(No symbol) [0x00007FF6FD0D0B6D]\n",
      "\t(No symbol) [0x00007FF6FD0C0149]\n",
      "\tBaseThreadInitThunk [0x00007FFB7AAA7374+20]\n",
      "\tRtlUserThreadStart [0x00007FFB7C37CC91+33]\n",
      "\n"
     ]
    },
    {
     "name": "stderr",
     "output_type": "stream",
     "text": [
      "Processing URLs:   2%|    | 714/29446 [1:18:36<53:07:55,  6.66s/it]"
     ]
    },
    {
     "name": "stdout",
     "output_type": "stream",
     "text": [
      "Error fetching URL: https://www.agoda.com/partners/partnersearch.aspx?hid=293088 - Message: no such element: Unable to locate element: {\"method\":\"css selector\",\"selector\":\"a[data-element-name='property-card-content']\"}\n",
      "  (Session info: chrome=130.0.6723.117); For documentation on this error, please visit: https://www.selenium.dev/documentation/webdriver/troubleshooting/errors#no-such-element-exception\n",
      "Stacktrace:\n",
      "\tGetHandleVerifier [0x00007FF6FD4338A5+3004357]\n",
      "\t(No symbol) [0x00007FF6FD0C9970]\n",
      "\t(No symbol) [0x00007FF6FCF7582A]\n",
      "\t(No symbol) [0x00007FF6FCFC5B8E]\n",
      "\t(No symbol) [0x00007FF6FCFC5E7C]\n",
      "\t(No symbol) [0x00007FF6FD00EC27]\n",
      "\t(No symbol) [0x00007FF6FCFEBC1F]\n",
      "\t(No symbol) [0x00007FF6FD00BA4C]\n",
      "\t(No symbol) [0x00007FF6FCFEB983]\n",
      "\t(No symbol) [0x00007FF6FCFB7628]\n",
      "\t(No symbol) [0x00007FF6FCFB8791]\n",
      "\tGetHandleVerifier [0x00007FF6FD45A00D+3161901]\n",
      "\tGetHandleVerifier [0x00007FF6FD4AE060+3506048]\n",
      "\tGetHandleVerifier [0x00007FF6FD4A400D+3465005]\n",
      "\tGetHandleVerifier [0x00007FF6FD220EEB+830987]\n",
      "\t(No symbol) [0x00007FF6FD0D467F]\n",
      "\t(No symbol) [0x00007FF6FD0D09D4]\n",
      "\t(No symbol) [0x00007FF6FD0D0B6D]\n",
      "\t(No symbol) [0x00007FF6FD0C0149]\n",
      "\tBaseThreadInitThunk [0x00007FFB7AAA7374+20]\n",
      "\tRtlUserThreadStart [0x00007FFB7C37CC91+33]\n",
      "\n"
     ]
    },
    {
     "name": "stderr",
     "output_type": "stream",
     "text": [
      "Processing URLs:   2%|    | 716/29446 [1:18:49<53:07:51,  6.66s/it]"
     ]
    },
    {
     "name": "stdout",
     "output_type": "stream",
     "text": [
      "Error fetching URL: https://www.agoda.com/partners/partnersearch.aspx?hid=293519 - Message: no such element: Unable to locate element: {\"method\":\"css selector\",\"selector\":\"a[data-element-name='property-card-content']\"}\n",
      "  (Session info: chrome=130.0.6723.117); For documentation on this error, please visit: https://www.selenium.dev/documentation/webdriver/troubleshooting/errors#no-such-element-exception\n",
      "Stacktrace:\n",
      "\tGetHandleVerifier [0x00007FF6FD4338A5+3004357]\n",
      "\t(No symbol) [0x00007FF6FD0C9970]\n",
      "\t(No symbol) [0x00007FF6FCF7582A]\n",
      "\t(No symbol) [0x00007FF6FCFC5B8E]\n",
      "\t(No symbol) [0x00007FF6FCFC5E7C]\n",
      "\t(No symbol) [0x00007FF6FD00EC27]\n",
      "\t(No symbol) [0x00007FF6FCFEBC1F]\n",
      "\t(No symbol) [0x00007FF6FD00BA4C]\n",
      "\t(No symbol) [0x00007FF6FCFEB983]\n",
      "\t(No symbol) [0x00007FF6FCFB7628]\n",
      "\t(No symbol) [0x00007FF6FCFB8791]\n",
      "\tGetHandleVerifier [0x00007FF6FD45A00D+3161901]\n",
      "\tGetHandleVerifier [0x00007FF6FD4AE060+3506048]\n",
      "\tGetHandleVerifier [0x00007FF6FD4A400D+3465005]\n",
      "\tGetHandleVerifier [0x00007FF6FD220EEB+830987]\n",
      "\t(No symbol) [0x00007FF6FD0D467F]\n",
      "\t(No symbol) [0x00007FF6FD0D09D4]\n",
      "\t(No symbol) [0x00007FF6FD0D0B6D]\n",
      "\t(No symbol) [0x00007FF6FD0C0149]\n",
      "\tBaseThreadInitThunk [0x00007FFB7AAA7374+20]\n",
      "\tRtlUserThreadStart [0x00007FFB7C37CC91+33]\n",
      "\n"
     ]
    },
    {
     "name": "stderr",
     "output_type": "stream",
     "text": [
      "Processing URLs:   2%|    | 717/29446 [1:18:55<52:19:41,  6.56s/it]"
     ]
    },
    {
     "name": "stdout",
     "output_type": "stream",
     "text": [
      "Error fetching URL: https://www.agoda.com/partners/partnersearch.aspx?hid=293951 - Message: no such element: Unable to locate element: {\"method\":\"css selector\",\"selector\":\"a[data-element-name='property-card-content']\"}\n",
      "  (Session info: chrome=130.0.6723.117); For documentation on this error, please visit: https://www.selenium.dev/documentation/webdriver/troubleshooting/errors#no-such-element-exception\n",
      "Stacktrace:\n",
      "\tGetHandleVerifier [0x00007FF6FD4338A5+3004357]\n",
      "\t(No symbol) [0x00007FF6FD0C9970]\n",
      "\t(No symbol) [0x00007FF6FCF7582A]\n",
      "\t(No symbol) [0x00007FF6FCFC5B8E]\n",
      "\t(No symbol) [0x00007FF6FCFC5E7C]\n",
      "\t(No symbol) [0x00007FF6FD00EC27]\n",
      "\t(No symbol) [0x00007FF6FCFEBC1F]\n",
      "\t(No symbol) [0x00007FF6FD00BA4C]\n",
      "\t(No symbol) [0x00007FF6FCFEB983]\n",
      "\t(No symbol) [0x00007FF6FCFB7628]\n",
      "\t(No symbol) [0x00007FF6FCFB8791]\n",
      "\tGetHandleVerifier [0x00007FF6FD45A00D+3161901]\n",
      "\tGetHandleVerifier [0x00007FF6FD4AE060+3506048]\n",
      "\tGetHandleVerifier [0x00007FF6FD4A400D+3465005]\n",
      "\tGetHandleVerifier [0x00007FF6FD220EEB+830987]\n",
      "\t(No symbol) [0x00007FF6FD0D467F]\n",
      "\t(No symbol) [0x00007FF6FD0D09D4]\n",
      "\t(No symbol) [0x00007FF6FD0D0B6D]\n",
      "\t(No symbol) [0x00007FF6FD0C0149]\n",
      "\tBaseThreadInitThunk [0x00007FFB7AAA7374+20]\n",
      "\tRtlUserThreadStart [0x00007FFB7C37CC91+33]\n",
      "\n"
     ]
    },
    {
     "name": "stderr",
     "output_type": "stream",
     "text": [
      "Processing URLs:   2%|    | 719/29446 [1:19:09<53:09:01,  6.66s/it]"
     ]
    },
    {
     "name": "stdout",
     "output_type": "stream",
     "text": [
      "Error fetching URL: https://www.agoda.com/partners/partnersearch.aspx?hid=294449 - Message: no such element: Unable to locate element: {\"method\":\"css selector\",\"selector\":\"a[data-element-name='property-card-content']\"}\n",
      "  (Session info: chrome=130.0.6723.117); For documentation on this error, please visit: https://www.selenium.dev/documentation/webdriver/troubleshooting/errors#no-such-element-exception\n",
      "Stacktrace:\n",
      "\tGetHandleVerifier [0x00007FF6FD4338A5+3004357]\n",
      "\t(No symbol) [0x00007FF6FD0C9970]\n",
      "\t(No symbol) [0x00007FF6FCF7582A]\n",
      "\t(No symbol) [0x00007FF6FCFC5B8E]\n",
      "\t(No symbol) [0x00007FF6FCFC5E7C]\n",
      "\t(No symbol) [0x00007FF6FD00EC27]\n",
      "\t(No symbol) [0x00007FF6FCFEBC1F]\n",
      "\t(No symbol) [0x00007FF6FD00BA4C]\n",
      "\t(No symbol) [0x00007FF6FCFEB983]\n",
      "\t(No symbol) [0x00007FF6FCFB7628]\n",
      "\t(No symbol) [0x00007FF6FCFB8791]\n",
      "\tGetHandleVerifier [0x00007FF6FD45A00D+3161901]\n",
      "\tGetHandleVerifier [0x00007FF6FD4AE060+3506048]\n",
      "\tGetHandleVerifier [0x00007FF6FD4A400D+3465005]\n",
      "\tGetHandleVerifier [0x00007FF6FD220EEB+830987]\n",
      "\t(No symbol) [0x00007FF6FD0D467F]\n",
      "\t(No symbol) [0x00007FF6FD0D09D4]\n",
      "\t(No symbol) [0x00007FF6FD0D0B6D]\n",
      "\t(No symbol) [0x00007FF6FD0C0149]\n",
      "\tBaseThreadInitThunk [0x00007FFB7AAA7374+20]\n",
      "\tRtlUserThreadStart [0x00007FFB7C37CC91+33]\n",
      "\n"
     ]
    },
    {
     "name": "stderr",
     "output_type": "stream",
     "text": [
      "Processing URLs:   2%|    | 721/29446 [1:19:22<52:32:08,  6.58s/it]"
     ]
    },
    {
     "name": "stdout",
     "output_type": "stream",
     "text": [
      "Error fetching URL: https://www.agoda.com/partners/partnersearch.aspx?hid=294583 - Message: no such element: Unable to locate element: {\"method\":\"css selector\",\"selector\":\"a[data-element-name='property-card-content']\"}\n",
      "  (Session info: chrome=130.0.6723.117); For documentation on this error, please visit: https://www.selenium.dev/documentation/webdriver/troubleshooting/errors#no-such-element-exception\n",
      "Stacktrace:\n",
      "\tGetHandleVerifier [0x00007FF6FD4338A5+3004357]\n",
      "\t(No symbol) [0x00007FF6FD0C9970]\n",
      "\t(No symbol) [0x00007FF6FCF7582A]\n",
      "\t(No symbol) [0x00007FF6FCFC5B8E]\n",
      "\t(No symbol) [0x00007FF6FCFC5E7C]\n",
      "\t(No symbol) [0x00007FF6FD00EC27]\n",
      "\t(No symbol) [0x00007FF6FCFEBC1F]\n",
      "\t(No symbol) [0x00007FF6FD00BA4C]\n",
      "\t(No symbol) [0x00007FF6FCFEB983]\n",
      "\t(No symbol) [0x00007FF6FCFB7628]\n",
      "\t(No symbol) [0x00007FF6FCFB8791]\n",
      "\tGetHandleVerifier [0x00007FF6FD45A00D+3161901]\n",
      "\tGetHandleVerifier [0x00007FF6FD4AE060+3506048]\n",
      "\tGetHandleVerifier [0x00007FF6FD4A400D+3465005]\n",
      "\tGetHandleVerifier [0x00007FF6FD220EEB+830987]\n",
      "\t(No symbol) [0x00007FF6FD0D467F]\n",
      "\t(No symbol) [0x00007FF6FD0D09D4]\n",
      "\t(No symbol) [0x00007FF6FD0D0B6D]\n",
      "\t(No symbol) [0x00007FF6FD0C0149]\n",
      "\tBaseThreadInitThunk [0x00007FFB7AAA7374+20]\n",
      "\tRtlUserThreadStart [0x00007FFB7C37CC91+33]\n",
      "\n"
     ]
    },
    {
     "name": "stderr",
     "output_type": "stream",
     "text": [
      "Processing URLs:   2%|    | 724/29446 [1:19:42<52:26:41,  6.57s/it]"
     ]
    },
    {
     "name": "stdout",
     "output_type": "stream",
     "text": [
      "Error fetching URL: https://www.agoda.com/partners/partnersearch.aspx?hid=294719 - Message: no such element: Unable to locate element: {\"method\":\"css selector\",\"selector\":\"a[data-element-name='property-card-content']\"}\n",
      "  (Session info: chrome=130.0.6723.117); For documentation on this error, please visit: https://www.selenium.dev/documentation/webdriver/troubleshooting/errors#no-such-element-exception\n",
      "Stacktrace:\n",
      "\tGetHandleVerifier [0x00007FF6FD4338A5+3004357]\n",
      "\t(No symbol) [0x00007FF6FD0C9970]\n",
      "\t(No symbol) [0x00007FF6FCF7582A]\n",
      "\t(No symbol) [0x00007FF6FCFC5B8E]\n",
      "\t(No symbol) [0x00007FF6FCFC5E7C]\n",
      "\t(No symbol) [0x00007FF6FD00EC27]\n",
      "\t(No symbol) [0x00007FF6FCFEBC1F]\n",
      "\t(No symbol) [0x00007FF6FD00BA4C]\n",
      "\t(No symbol) [0x00007FF6FCFEB983]\n",
      "\t(No symbol) [0x00007FF6FCFB7628]\n",
      "\t(No symbol) [0x00007FF6FCFB8791]\n",
      "\tGetHandleVerifier [0x00007FF6FD45A00D+3161901]\n",
      "\tGetHandleVerifier [0x00007FF6FD4AE060+3506048]\n",
      "\tGetHandleVerifier [0x00007FF6FD4A400D+3465005]\n",
      "\tGetHandleVerifier [0x00007FF6FD220EEB+830987]\n",
      "\t(No symbol) [0x00007FF6FD0D467F]\n",
      "\t(No symbol) [0x00007FF6FD0D09D4]\n",
      "\t(No symbol) [0x00007FF6FD0D0B6D]\n",
      "\t(No symbol) [0x00007FF6FD0C0149]\n",
      "\tBaseThreadInitThunk [0x00007FFB7AAA7374+20]\n",
      "\tRtlUserThreadStart [0x00007FFB7C37CC91+33]\n",
      "\n"
     ]
    },
    {
     "name": "stderr",
     "output_type": "stream",
     "text": [
      "Processing URLs:   2%|    | 725/29446 [1:19:48<52:40:03,  6.60s/it]"
     ]
    },
    {
     "name": "stdout",
     "output_type": "stream",
     "text": [
      "Error fetching URL: https://www.agoda.com/partners/partnersearch.aspx?hid=294836 - Message: no such element: Unable to locate element: {\"method\":\"css selector\",\"selector\":\"a[data-element-name='property-card-content']\"}\n",
      "  (Session info: chrome=130.0.6723.117); For documentation on this error, please visit: https://www.selenium.dev/documentation/webdriver/troubleshooting/errors#no-such-element-exception\n",
      "Stacktrace:\n",
      "\tGetHandleVerifier [0x00007FF6FD4338A5+3004357]\n",
      "\t(No symbol) [0x00007FF6FD0C9970]\n",
      "\t(No symbol) [0x00007FF6FCF7582A]\n",
      "\t(No symbol) [0x00007FF6FCFC5B8E]\n",
      "\t(No symbol) [0x00007FF6FCFC5E7C]\n",
      "\t(No symbol) [0x00007FF6FD00EC27]\n",
      "\t(No symbol) [0x00007FF6FCFEBC1F]\n",
      "\t(No symbol) [0x00007FF6FD00BA4C]\n",
      "\t(No symbol) [0x00007FF6FCFEB983]\n",
      "\t(No symbol) [0x00007FF6FCFB7628]\n",
      "\t(No symbol) [0x00007FF6FCFB8791]\n",
      "\tGetHandleVerifier [0x00007FF6FD45A00D+3161901]\n",
      "\tGetHandleVerifier [0x00007FF6FD4AE060+3506048]\n",
      "\tGetHandleVerifier [0x00007FF6FD4A400D+3465005]\n",
      "\tGetHandleVerifier [0x00007FF6FD220EEB+830987]\n",
      "\t(No symbol) [0x00007FF6FD0D467F]\n",
      "\t(No symbol) [0x00007FF6FD0D09D4]\n",
      "\t(No symbol) [0x00007FF6FD0D0B6D]\n",
      "\t(No symbol) [0x00007FF6FD0C0149]\n",
      "\tBaseThreadInitThunk [0x00007FFB7AAA7374+20]\n",
      "\tRtlUserThreadStart [0x00007FFB7C37CC91+33]\n",
      "\n"
     ]
    },
    {
     "name": "stderr",
     "output_type": "stream",
     "text": [
      "Processing URLs:   2%|    | 726/29446 [1:19:55<52:46:17,  6.61s/it]"
     ]
    },
    {
     "name": "stdout",
     "output_type": "stream",
     "text": [
      "Error fetching URL: https://www.agoda.com/partners/partnersearch.aspx?hid=294859 - Message: no such element: Unable to locate element: {\"method\":\"css selector\",\"selector\":\"a[data-element-name='property-card-content']\"}\n",
      "  (Session info: chrome=130.0.6723.117); For documentation on this error, please visit: https://www.selenium.dev/documentation/webdriver/troubleshooting/errors#no-such-element-exception\n",
      "Stacktrace:\n",
      "\tGetHandleVerifier [0x00007FF6FD4338A5+3004357]\n",
      "\t(No symbol) [0x00007FF6FD0C9970]\n",
      "\t(No symbol) [0x00007FF6FCF7582A]\n",
      "\t(No symbol) [0x00007FF6FCFC5B8E]\n",
      "\t(No symbol) [0x00007FF6FCFC5E7C]\n",
      "\t(No symbol) [0x00007FF6FD00EC27]\n",
      "\t(No symbol) [0x00007FF6FCFEBC1F]\n",
      "\t(No symbol) [0x00007FF6FD00BA4C]\n",
      "\t(No symbol) [0x00007FF6FCFEB983]\n",
      "\t(No symbol) [0x00007FF6FCFB7628]\n",
      "\t(No symbol) [0x00007FF6FCFB8791]\n",
      "\tGetHandleVerifier [0x00007FF6FD45A00D+3161901]\n",
      "\tGetHandleVerifier [0x00007FF6FD4AE060+3506048]\n",
      "\tGetHandleVerifier [0x00007FF6FD4A400D+3465005]\n",
      "\tGetHandleVerifier [0x00007FF6FD220EEB+830987]\n",
      "\t(No symbol) [0x00007FF6FD0D467F]\n",
      "\t(No symbol) [0x00007FF6FD0D09D4]\n",
      "\t(No symbol) [0x00007FF6FD0D0B6D]\n",
      "\t(No symbol) [0x00007FF6FD0C0149]\n",
      "\tBaseThreadInitThunk [0x00007FFB7AAA7374+20]\n",
      "\tRtlUserThreadStart [0x00007FFB7C37CC91+33]\n",
      "\n"
     ]
    },
    {
     "name": "stderr",
     "output_type": "stream",
     "text": [
      "Processing URLs:   2%|    | 727/29446 [1:20:01<52:13:55,  6.55s/it]"
     ]
    },
    {
     "name": "stdout",
     "output_type": "stream",
     "text": [
      "Error fetching URL: https://www.agoda.com/partners/partnersearch.aspx?hid=294914 - Message: no such element: Unable to locate element: {\"method\":\"css selector\",\"selector\":\"a[data-element-name='property-card-content']\"}\n",
      "  (Session info: chrome=130.0.6723.117); For documentation on this error, please visit: https://www.selenium.dev/documentation/webdriver/troubleshooting/errors#no-such-element-exception\n",
      "Stacktrace:\n",
      "\tGetHandleVerifier [0x00007FF6FD4338A5+3004357]\n",
      "\t(No symbol) [0x00007FF6FD0C9970]\n",
      "\t(No symbol) [0x00007FF6FCF7582A]\n",
      "\t(No symbol) [0x00007FF6FCFC5B8E]\n",
      "\t(No symbol) [0x00007FF6FCFC5E7C]\n",
      "\t(No symbol) [0x00007FF6FD00EC27]\n",
      "\t(No symbol) [0x00007FF6FCFEBC1F]\n",
      "\t(No symbol) [0x00007FF6FD00BA4C]\n",
      "\t(No symbol) [0x00007FF6FCFEB983]\n",
      "\t(No symbol) [0x00007FF6FCFB7628]\n",
      "\t(No symbol) [0x00007FF6FCFB8791]\n",
      "\tGetHandleVerifier [0x00007FF6FD45A00D+3161901]\n",
      "\tGetHandleVerifier [0x00007FF6FD4AE060+3506048]\n",
      "\tGetHandleVerifier [0x00007FF6FD4A400D+3465005]\n",
      "\tGetHandleVerifier [0x00007FF6FD220EEB+830987]\n",
      "\t(No symbol) [0x00007FF6FD0D467F]\n",
      "\t(No symbol) [0x00007FF6FD0D09D4]\n",
      "\t(No symbol) [0x00007FF6FD0D0B6D]\n",
      "\t(No symbol) [0x00007FF6FD0C0149]\n",
      "\tBaseThreadInitThunk [0x00007FFB7AAA7374+20]\n",
      "\tRtlUserThreadStart [0x00007FFB7C37CC91+33]\n",
      "\n"
     ]
    },
    {
     "name": "stderr",
     "output_type": "stream",
     "text": [
      "Processing URLs:   2%|    | 728/29446 [1:20:08<51:52:55,  6.50s/it]"
     ]
    },
    {
     "name": "stdout",
     "output_type": "stream",
     "text": [
      "Error fetching URL: https://www.agoda.com/partners/partnersearch.aspx?hid=294917 - Message: no such element: Unable to locate element: {\"method\":\"css selector\",\"selector\":\"a[data-element-name='property-card-content']\"}\n",
      "  (Session info: chrome=130.0.6723.117); For documentation on this error, please visit: https://www.selenium.dev/documentation/webdriver/troubleshooting/errors#no-such-element-exception\n",
      "Stacktrace:\n",
      "\tGetHandleVerifier [0x00007FF6FD4338A5+3004357]\n",
      "\t(No symbol) [0x00007FF6FD0C9970]\n",
      "\t(No symbol) [0x00007FF6FCF7582A]\n",
      "\t(No symbol) [0x00007FF6FCFC5B8E]\n",
      "\t(No symbol) [0x00007FF6FCFC5E7C]\n",
      "\t(No symbol) [0x00007FF6FD00EC27]\n",
      "\t(No symbol) [0x00007FF6FCFEBC1F]\n",
      "\t(No symbol) [0x00007FF6FD00BA4C]\n",
      "\t(No symbol) [0x00007FF6FCFEB983]\n",
      "\t(No symbol) [0x00007FF6FCFB7628]\n",
      "\t(No symbol) [0x00007FF6FCFB8791]\n",
      "\tGetHandleVerifier [0x00007FF6FD45A00D+3161901]\n",
      "\tGetHandleVerifier [0x00007FF6FD4AE060+3506048]\n",
      "\tGetHandleVerifier [0x00007FF6FD4A400D+3465005]\n",
      "\tGetHandleVerifier [0x00007FF6FD220EEB+830987]\n",
      "\t(No symbol) [0x00007FF6FD0D467F]\n",
      "\t(No symbol) [0x00007FF6FD0D09D4]\n",
      "\t(No symbol) [0x00007FF6FD0D0B6D]\n",
      "\t(No symbol) [0x00007FF6FD0C0149]\n",
      "\tBaseThreadInitThunk [0x00007FFB7AAA7374+20]\n",
      "\tRtlUserThreadStart [0x00007FFB7C37CC91+33]\n",
      "\n"
     ]
    },
    {
     "name": "stderr",
     "output_type": "stream",
     "text": [
      "Processing URLs:   2%|    | 729/29446 [1:20:14<51:30:09,  6.46s/it]"
     ]
    },
    {
     "name": "stdout",
     "output_type": "stream",
     "text": [
      "Error fetching URL: https://www.agoda.com/partners/partnersearch.aspx?hid=295219 - Message: no such element: Unable to locate element: {\"method\":\"css selector\",\"selector\":\"a[data-element-name='property-card-content']\"}\n",
      "  (Session info: chrome=130.0.6723.117); For documentation on this error, please visit: https://www.selenium.dev/documentation/webdriver/troubleshooting/errors#no-such-element-exception\n",
      "Stacktrace:\n",
      "\tGetHandleVerifier [0x00007FF6FD4338A5+3004357]\n",
      "\t(No symbol) [0x00007FF6FD0C9970]\n",
      "\t(No symbol) [0x00007FF6FCF7582A]\n",
      "\t(No symbol) [0x00007FF6FCFC5B8E]\n",
      "\t(No symbol) [0x00007FF6FCFC5E7C]\n",
      "\t(No symbol) [0x00007FF6FD00EC27]\n",
      "\t(No symbol) [0x00007FF6FCFEBC1F]\n",
      "\t(No symbol) [0x00007FF6FD00BA4C]\n",
      "\t(No symbol) [0x00007FF6FCFEB983]\n",
      "\t(No symbol) [0x00007FF6FCFB7628]\n",
      "\t(No symbol) [0x00007FF6FCFB8791]\n",
      "\tGetHandleVerifier [0x00007FF6FD45A00D+3161901]\n",
      "\tGetHandleVerifier [0x00007FF6FD4AE060+3506048]\n",
      "\tGetHandleVerifier [0x00007FF6FD4A400D+3465005]\n",
      "\tGetHandleVerifier [0x00007FF6FD220EEB+830987]\n",
      "\t(No symbol) [0x00007FF6FD0D467F]\n",
      "\t(No symbol) [0x00007FF6FD0D09D4]\n",
      "\t(No symbol) [0x00007FF6FD0D0B6D]\n",
      "\t(No symbol) [0x00007FF6FD0C0149]\n",
      "\tBaseThreadInitThunk [0x00007FFB7AAA7374+20]\n",
      "\tRtlUserThreadStart [0x00007FFB7C37CC91+33]\n",
      "\n"
     ]
    },
    {
     "name": "stderr",
     "output_type": "stream",
     "text": [
      "Processing URLs:   2%|    | 732/29446 [1:20:34<52:30:41,  6.58s/it]"
     ]
    },
    {
     "name": "stdout",
     "output_type": "stream",
     "text": [
      "Error fetching URL: https://www.agoda.com/partners/partnersearch.aspx?hid=295366 - Message: no such element: Unable to locate element: {\"method\":\"css selector\",\"selector\":\"a[data-element-name='property-card-content']\"}\n",
      "  (Session info: chrome=130.0.6723.117); For documentation on this error, please visit: https://www.selenium.dev/documentation/webdriver/troubleshooting/errors#no-such-element-exception\n",
      "Stacktrace:\n",
      "\tGetHandleVerifier [0x00007FF6FD4338A5+3004357]\n",
      "\t(No symbol) [0x00007FF6FD0C9970]\n",
      "\t(No symbol) [0x00007FF6FCF7582A]\n",
      "\t(No symbol) [0x00007FF6FCFC5B8E]\n",
      "\t(No symbol) [0x00007FF6FCFC5E7C]\n",
      "\t(No symbol) [0x00007FF6FD00EC27]\n",
      "\t(No symbol) [0x00007FF6FCFEBC1F]\n",
      "\t(No symbol) [0x00007FF6FD00BA4C]\n",
      "\t(No symbol) [0x00007FF6FCFEB983]\n",
      "\t(No symbol) [0x00007FF6FCFB7628]\n",
      "\t(No symbol) [0x00007FF6FCFB8791]\n",
      "\tGetHandleVerifier [0x00007FF6FD45A00D+3161901]\n",
      "\tGetHandleVerifier [0x00007FF6FD4AE060+3506048]\n",
      "\tGetHandleVerifier [0x00007FF6FD4A400D+3465005]\n",
      "\tGetHandleVerifier [0x00007FF6FD220EEB+830987]\n",
      "\t(No symbol) [0x00007FF6FD0D467F]\n",
      "\t(No symbol) [0x00007FF6FD0D09D4]\n",
      "\t(No symbol) [0x00007FF6FD0D0B6D]\n",
      "\t(No symbol) [0x00007FF6FD0C0149]\n",
      "\tBaseThreadInitThunk [0x00007FFB7AAA7374+20]\n",
      "\tRtlUserThreadStart [0x00007FFB7C37CC91+33]\n",
      "\n"
     ]
    },
    {
     "name": "stderr",
     "output_type": "stream",
     "text": [
      "Processing URLs:   2%|    | 736/29446 [1:21:01<53:44:02,  6.74s/it]"
     ]
    },
    {
     "name": "stdout",
     "output_type": "stream",
     "text": [
      "Error fetching URL: https://www.agoda.com/partners/partnersearch.aspx?hid=296329 - Message: no such element: Unable to locate element: {\"method\":\"css selector\",\"selector\":\"a[data-element-name='property-card-content']\"}\n",
      "  (Session info: chrome=130.0.6723.117); For documentation on this error, please visit: https://www.selenium.dev/documentation/webdriver/troubleshooting/errors#no-such-element-exception\n",
      "Stacktrace:\n",
      "\tGetHandleVerifier [0x00007FF6FD4338A5+3004357]\n",
      "\t(No symbol) [0x00007FF6FD0C9970]\n",
      "\t(No symbol) [0x00007FF6FCF7582A]\n",
      "\t(No symbol) [0x00007FF6FCFC5B8E]\n",
      "\t(No symbol) [0x00007FF6FCFC5E7C]\n",
      "\t(No symbol) [0x00007FF6FD00EC27]\n",
      "\t(No symbol) [0x00007FF6FCFEBC1F]\n",
      "\t(No symbol) [0x00007FF6FD00BA4C]\n",
      "\t(No symbol) [0x00007FF6FCFEB983]\n",
      "\t(No symbol) [0x00007FF6FCFB7628]\n",
      "\t(No symbol) [0x00007FF6FCFB8791]\n",
      "\tGetHandleVerifier [0x00007FF6FD45A00D+3161901]\n",
      "\tGetHandleVerifier [0x00007FF6FD4AE060+3506048]\n",
      "\tGetHandleVerifier [0x00007FF6FD4A400D+3465005]\n",
      "\tGetHandleVerifier [0x00007FF6FD220EEB+830987]\n",
      "\t(No symbol) [0x00007FF6FD0D467F]\n",
      "\t(No symbol) [0x00007FF6FD0D09D4]\n",
      "\t(No symbol) [0x00007FF6FD0D0B6D]\n",
      "\t(No symbol) [0x00007FF6FD0C0149]\n",
      "\tBaseThreadInitThunk [0x00007FFB7AAA7374+20]\n",
      "\tRtlUserThreadStart [0x00007FFB7C37CC91+33]\n",
      "\n"
     ]
    },
    {
     "name": "stderr",
     "output_type": "stream",
     "text": [
      "Processing URLs:   3%|    | 738/29446 [1:21:14<53:03:04,  6.65s/it]"
     ]
    },
    {
     "name": "stdout",
     "output_type": "stream",
     "text": [
      "Error fetching URL: https://www.agoda.com/partners/partnersearch.aspx?hid=296575 - Message: no such element: Unable to locate element: {\"method\":\"css selector\",\"selector\":\"a[data-element-name='property-card-content']\"}\n",
      "  (Session info: chrome=130.0.6723.117); For documentation on this error, please visit: https://www.selenium.dev/documentation/webdriver/troubleshooting/errors#no-such-element-exception\n",
      "Stacktrace:\n",
      "\tGetHandleVerifier [0x00007FF6FD4338A5+3004357]\n",
      "\t(No symbol) [0x00007FF6FD0C9970]\n",
      "\t(No symbol) [0x00007FF6FCF7582A]\n",
      "\t(No symbol) [0x00007FF6FCFC5B8E]\n",
      "\t(No symbol) [0x00007FF6FCFC5E7C]\n",
      "\t(No symbol) [0x00007FF6FD00EC27]\n",
      "\t(No symbol) [0x00007FF6FCFEBC1F]\n",
      "\t(No symbol) [0x00007FF6FD00BA4C]\n",
      "\t(No symbol) [0x00007FF6FCFEB983]\n",
      "\t(No symbol) [0x00007FF6FCFB7628]\n",
      "\t(No symbol) [0x00007FF6FCFB8791]\n",
      "\tGetHandleVerifier [0x00007FF6FD45A00D+3161901]\n",
      "\tGetHandleVerifier [0x00007FF6FD4AE060+3506048]\n",
      "\tGetHandleVerifier [0x00007FF6FD4A400D+3465005]\n",
      "\tGetHandleVerifier [0x00007FF6FD220EEB+830987]\n",
      "\t(No symbol) [0x00007FF6FD0D467F]\n",
      "\t(No symbol) [0x00007FF6FD0D09D4]\n",
      "\t(No symbol) [0x00007FF6FD0D0B6D]\n",
      "\t(No symbol) [0x00007FF6FD0C0149]\n",
      "\tBaseThreadInitThunk [0x00007FFB7AAA7374+20]\n",
      "\tRtlUserThreadStart [0x00007FFB7C37CC91+33]\n",
      "\n"
     ]
    },
    {
     "name": "stderr",
     "output_type": "stream",
     "text": [
      "Processing URLs:   3%|    | 739/29446 [1:21:21<52:58:28,  6.64s/it]"
     ]
    },
    {
     "name": "stdout",
     "output_type": "stream",
     "text": [
      "Error fetching URL: https://www.agoda.com/partners/partnersearch.aspx?hid=296578 - Message: no such element: Unable to locate element: {\"method\":\"css selector\",\"selector\":\"a[data-element-name='property-card-content']\"}\n",
      "  (Session info: chrome=130.0.6723.117); For documentation on this error, please visit: https://www.selenium.dev/documentation/webdriver/troubleshooting/errors#no-such-element-exception\n",
      "Stacktrace:\n",
      "\tGetHandleVerifier [0x00007FF6FD4338A5+3004357]\n",
      "\t(No symbol) [0x00007FF6FD0C9970]\n",
      "\t(No symbol) [0x00007FF6FCF7582A]\n",
      "\t(No symbol) [0x00007FF6FCFC5B8E]\n",
      "\t(No symbol) [0x00007FF6FCFC5E7C]\n",
      "\t(No symbol) [0x00007FF6FD00EC27]\n",
      "\t(No symbol) [0x00007FF6FCFEBC1F]\n",
      "\t(No symbol) [0x00007FF6FD00BA4C]\n",
      "\t(No symbol) [0x00007FF6FCFEB983]\n",
      "\t(No symbol) [0x00007FF6FCFB7628]\n",
      "\t(No symbol) [0x00007FF6FCFB8791]\n",
      "\tGetHandleVerifier [0x00007FF6FD45A00D+3161901]\n",
      "\tGetHandleVerifier [0x00007FF6FD4AE060+3506048]\n",
      "\tGetHandleVerifier [0x00007FF6FD4A400D+3465005]\n",
      "\tGetHandleVerifier [0x00007FF6FD220EEB+830987]\n",
      "\t(No symbol) [0x00007FF6FD0D467F]\n",
      "\t(No symbol) [0x00007FF6FD0D09D4]\n",
      "\t(No symbol) [0x00007FF6FD0D0B6D]\n",
      "\t(No symbol) [0x00007FF6FD0C0149]\n",
      "\tBaseThreadInitThunk [0x00007FFB7AAA7374+20]\n",
      "\tRtlUserThreadStart [0x00007FFB7C37CC91+33]\n",
      "\n"
     ]
    },
    {
     "name": "stderr",
     "output_type": "stream",
     "text": [
      "Processing URLs:   3%|    | 741/29446 [1:21:34<53:11:48,  6.67s/it]"
     ]
    },
    {
     "name": "stdout",
     "output_type": "stream",
     "text": [
      "Error fetching URL: https://www.agoda.com/partners/partnersearch.aspx?hid=296617 - Message: no such element: Unable to locate element: {\"method\":\"css selector\",\"selector\":\"a[data-element-name='property-card-content']\"}\n",
      "  (Session info: chrome=130.0.6723.117); For documentation on this error, please visit: https://www.selenium.dev/documentation/webdriver/troubleshooting/errors#no-such-element-exception\n",
      "Stacktrace:\n",
      "\tGetHandleVerifier [0x00007FF6FD4338A5+3004357]\n",
      "\t(No symbol) [0x00007FF6FD0C9970]\n",
      "\t(No symbol) [0x00007FF6FCF7582A]\n",
      "\t(No symbol) [0x00007FF6FCFC5B8E]\n",
      "\t(No symbol) [0x00007FF6FCFC5E7C]\n",
      "\t(No symbol) [0x00007FF6FD00EC27]\n",
      "\t(No symbol) [0x00007FF6FCFEBC1F]\n",
      "\t(No symbol) [0x00007FF6FD00BA4C]\n",
      "\t(No symbol) [0x00007FF6FCFEB983]\n",
      "\t(No symbol) [0x00007FF6FCFB7628]\n",
      "\t(No symbol) [0x00007FF6FCFB8791]\n",
      "\tGetHandleVerifier [0x00007FF6FD45A00D+3161901]\n",
      "\tGetHandleVerifier [0x00007FF6FD4AE060+3506048]\n",
      "\tGetHandleVerifier [0x00007FF6FD4A400D+3465005]\n",
      "\tGetHandleVerifier [0x00007FF6FD220EEB+830987]\n",
      "\t(No symbol) [0x00007FF6FD0D467F]\n",
      "\t(No symbol) [0x00007FF6FD0D09D4]\n",
      "\t(No symbol) [0x00007FF6FD0D0B6D]\n",
      "\t(No symbol) [0x00007FF6FD0C0149]\n",
      "\tBaseThreadInitThunk [0x00007FFB7AAA7374+20]\n",
      "\tRtlUserThreadStart [0x00007FFB7C37CC91+33]\n",
      "\n"
     ]
    },
    {
     "name": "stderr",
     "output_type": "stream",
     "text": [
      "Processing URLs:   3%|    | 742/29446 [1:21:41<52:28:07,  6.58s/it]"
     ]
    },
    {
     "name": "stdout",
     "output_type": "stream",
     "text": [
      "Error fetching URL: https://www.agoda.com/partners/partnersearch.aspx?hid=296623 - Message: no such element: Unable to locate element: {\"method\":\"css selector\",\"selector\":\"a[data-element-name='property-card-content']\"}\n",
      "  (Session info: chrome=130.0.6723.117); For documentation on this error, please visit: https://www.selenium.dev/documentation/webdriver/troubleshooting/errors#no-such-element-exception\n",
      "Stacktrace:\n",
      "\tGetHandleVerifier [0x00007FF6FD4338A5+3004357]\n",
      "\t(No symbol) [0x00007FF6FD0C9970]\n",
      "\t(No symbol) [0x00007FF6FCF7582A]\n",
      "\t(No symbol) [0x00007FF6FCFC5B8E]\n",
      "\t(No symbol) [0x00007FF6FCFC5E7C]\n",
      "\t(No symbol) [0x00007FF6FD00EC27]\n",
      "\t(No symbol) [0x00007FF6FCFEBC1F]\n",
      "\t(No symbol) [0x00007FF6FD00BA4C]\n",
      "\t(No symbol) [0x00007FF6FCFEB983]\n",
      "\t(No symbol) [0x00007FF6FCFB7628]\n",
      "\t(No symbol) [0x00007FF6FCFB8791]\n",
      "\tGetHandleVerifier [0x00007FF6FD45A00D+3161901]\n",
      "\tGetHandleVerifier [0x00007FF6FD4AE060+3506048]\n",
      "\tGetHandleVerifier [0x00007FF6FD4A400D+3465005]\n",
      "\tGetHandleVerifier [0x00007FF6FD220EEB+830987]\n",
      "\t(No symbol) [0x00007FF6FD0D467F]\n",
      "\t(No symbol) [0x00007FF6FD0D09D4]\n",
      "\t(No symbol) [0x00007FF6FD0D0B6D]\n",
      "\t(No symbol) [0x00007FF6FD0C0149]\n",
      "\tBaseThreadInitThunk [0x00007FFB7AAA7374+20]\n",
      "\tRtlUserThreadStart [0x00007FFB7C37CC91+33]\n",
      "\n"
     ]
    },
    {
     "name": "stderr",
     "output_type": "stream",
     "text": [
      "Processing URLs:   3%|    | 744/29446 [1:21:54<52:35:47,  6.60s/it]"
     ]
    },
    {
     "name": "stdout",
     "output_type": "stream",
     "text": [
      "Error fetching URL: https://www.agoda.com/partners/partnersearch.aspx?hid=296663 - Message: no such element: Unable to locate element: {\"method\":\"css selector\",\"selector\":\"a[data-element-name='property-card-content']\"}\n",
      "  (Session info: chrome=130.0.6723.117); For documentation on this error, please visit: https://www.selenium.dev/documentation/webdriver/troubleshooting/errors#no-such-element-exception\n",
      "Stacktrace:\n",
      "\tGetHandleVerifier [0x00007FF6FD4338A5+3004357]\n",
      "\t(No symbol) [0x00007FF6FD0C9970]\n",
      "\t(No symbol) [0x00007FF6FCF7582A]\n",
      "\t(No symbol) [0x00007FF6FCFC5B8E]\n",
      "\t(No symbol) [0x00007FF6FCFC5E7C]\n",
      "\t(No symbol) [0x00007FF6FD00EC27]\n",
      "\t(No symbol) [0x00007FF6FCFEBC1F]\n",
      "\t(No symbol) [0x00007FF6FD00BA4C]\n",
      "\t(No symbol) [0x00007FF6FCFEB983]\n",
      "\t(No symbol) [0x00007FF6FCFB7628]\n",
      "\t(No symbol) [0x00007FF6FCFB8791]\n",
      "\tGetHandleVerifier [0x00007FF6FD45A00D+3161901]\n",
      "\tGetHandleVerifier [0x00007FF6FD4AE060+3506048]\n",
      "\tGetHandleVerifier [0x00007FF6FD4A400D+3465005]\n",
      "\tGetHandleVerifier [0x00007FF6FD220EEB+830987]\n",
      "\t(No symbol) [0x00007FF6FD0D467F]\n",
      "\t(No symbol) [0x00007FF6FD0D09D4]\n",
      "\t(No symbol) [0x00007FF6FD0D0B6D]\n",
      "\t(No symbol) [0x00007FF6FD0C0149]\n",
      "\tBaseThreadInitThunk [0x00007FFB7AAA7374+20]\n",
      "\tRtlUserThreadStart [0x00007FFB7C37CC91+33]\n",
      "\n"
     ]
    },
    {
     "name": "stderr",
     "output_type": "stream",
     "text": [
      "Processing URLs:   3%|    | 745/29446 [1:22:01<53:00:41,  6.65s/it]"
     ]
    },
    {
     "name": "stdout",
     "output_type": "stream",
     "text": [
      "Error fetching URL: https://www.agoda.com/partners/partnersearch.aspx?hid=296675 - Message: no such element: Unable to locate element: {\"method\":\"css selector\",\"selector\":\"a[data-element-name='property-card-content']\"}\n",
      "  (Session info: chrome=130.0.6723.117); For documentation on this error, please visit: https://www.selenium.dev/documentation/webdriver/troubleshooting/errors#no-such-element-exception\n",
      "Stacktrace:\n",
      "\tGetHandleVerifier [0x00007FF6FD4338A5+3004357]\n",
      "\t(No symbol) [0x00007FF6FD0C9970]\n",
      "\t(No symbol) [0x00007FF6FCF7582A]\n",
      "\t(No symbol) [0x00007FF6FCFC5B8E]\n",
      "\t(No symbol) [0x00007FF6FCFC5E7C]\n",
      "\t(No symbol) [0x00007FF6FD00EC27]\n",
      "\t(No symbol) [0x00007FF6FCFEBC1F]\n",
      "\t(No symbol) [0x00007FF6FD00BA4C]\n",
      "\t(No symbol) [0x00007FF6FCFEB983]\n",
      "\t(No symbol) [0x00007FF6FCFB7628]\n",
      "\t(No symbol) [0x00007FF6FCFB8791]\n",
      "\tGetHandleVerifier [0x00007FF6FD45A00D+3161901]\n",
      "\tGetHandleVerifier [0x00007FF6FD4AE060+3506048]\n",
      "\tGetHandleVerifier [0x00007FF6FD4A400D+3465005]\n",
      "\tGetHandleVerifier [0x00007FF6FD220EEB+830987]\n",
      "\t(No symbol) [0x00007FF6FD0D467F]\n",
      "\t(No symbol) [0x00007FF6FD0D09D4]\n",
      "\t(No symbol) [0x00007FF6FD0D0B6D]\n",
      "\t(No symbol) [0x00007FF6FD0C0149]\n",
      "\tBaseThreadInitThunk [0x00007FFB7AAA7374+20]\n",
      "\tRtlUserThreadStart [0x00007FFB7C37CC91+33]\n",
      "\n"
     ]
    },
    {
     "name": "stderr",
     "output_type": "stream",
     "text": [
      "Processing URLs:   3%|    | 747/29446 [1:22:14<52:59:24,  6.65s/it]"
     ]
    },
    {
     "name": "stdout",
     "output_type": "stream",
     "text": [
      "Error fetching URL: https://www.agoda.com/partners/partnersearch.aspx?hid=296863 - Message: no such element: Unable to locate element: {\"method\":\"css selector\",\"selector\":\"a[data-element-name='property-card-content']\"}\n",
      "  (Session info: chrome=130.0.6723.117); For documentation on this error, please visit: https://www.selenium.dev/documentation/webdriver/troubleshooting/errors#no-such-element-exception\n",
      "Stacktrace:\n",
      "\tGetHandleVerifier [0x00007FF6FD4338A5+3004357]\n",
      "\t(No symbol) [0x00007FF6FD0C9970]\n",
      "\t(No symbol) [0x00007FF6FCF7582A]\n",
      "\t(No symbol) [0x00007FF6FCFC5B8E]\n",
      "\t(No symbol) [0x00007FF6FCFC5E7C]\n",
      "\t(No symbol) [0x00007FF6FD00EC27]\n",
      "\t(No symbol) [0x00007FF6FCFEBC1F]\n",
      "\t(No symbol) [0x00007FF6FD00BA4C]\n",
      "\t(No symbol) [0x00007FF6FCFEB983]\n",
      "\t(No symbol) [0x00007FF6FCFB7628]\n",
      "\t(No symbol) [0x00007FF6FCFB8791]\n",
      "\tGetHandleVerifier [0x00007FF6FD45A00D+3161901]\n",
      "\tGetHandleVerifier [0x00007FF6FD4AE060+3506048]\n",
      "\tGetHandleVerifier [0x00007FF6FD4A400D+3465005]\n",
      "\tGetHandleVerifier [0x00007FF6FD220EEB+830987]\n",
      "\t(No symbol) [0x00007FF6FD0D467F]\n",
      "\t(No symbol) [0x00007FF6FD0D09D4]\n",
      "\t(No symbol) [0x00007FF6FD0D0B6D]\n",
      "\t(No symbol) [0x00007FF6FD0C0149]\n",
      "\tBaseThreadInitThunk [0x00007FFB7AAA7374+20]\n",
      "\tRtlUserThreadStart [0x00007FFB7C37CC91+33]\n",
      "\n"
     ]
    },
    {
     "name": "stderr",
     "output_type": "stream",
     "text": [
      "Processing URLs:   3%|    | 748/29446 [1:22:21<52:54:47,  6.64s/it]"
     ]
    },
    {
     "name": "stdout",
     "output_type": "stream",
     "text": [
      "Error fetching URL: https://www.agoda.com/partners/partnersearch.aspx?hid=296884 - Message: no such element: Unable to locate element: {\"method\":\"css selector\",\"selector\":\"a[data-element-name='property-card-content']\"}\n",
      "  (Session info: chrome=130.0.6723.117); For documentation on this error, please visit: https://www.selenium.dev/documentation/webdriver/troubleshooting/errors#no-such-element-exception\n",
      "Stacktrace:\n",
      "\tGetHandleVerifier [0x00007FF6FD4338A5+3004357]\n",
      "\t(No symbol) [0x00007FF6FD0C9970]\n",
      "\t(No symbol) [0x00007FF6FCF7582A]\n",
      "\t(No symbol) [0x00007FF6FCFC5B8E]\n",
      "\t(No symbol) [0x00007FF6FCFC5E7C]\n",
      "\t(No symbol) [0x00007FF6FD00EC27]\n",
      "\t(No symbol) [0x00007FF6FCFEBC1F]\n",
      "\t(No symbol) [0x00007FF6FD00BA4C]\n",
      "\t(No symbol) [0x00007FF6FCFEB983]\n",
      "\t(No symbol) [0x00007FF6FCFB7628]\n",
      "\t(No symbol) [0x00007FF6FCFB8791]\n",
      "\tGetHandleVerifier [0x00007FF6FD45A00D+3161901]\n",
      "\tGetHandleVerifier [0x00007FF6FD4AE060+3506048]\n",
      "\tGetHandleVerifier [0x00007FF6FD4A400D+3465005]\n",
      "\tGetHandleVerifier [0x00007FF6FD220EEB+830987]\n",
      "\t(No symbol) [0x00007FF6FD0D467F]\n",
      "\t(No symbol) [0x00007FF6FD0D09D4]\n",
      "\t(No symbol) [0x00007FF6FD0D0B6D]\n",
      "\t(No symbol) [0x00007FF6FD0C0149]\n",
      "\tBaseThreadInitThunk [0x00007FFB7AAA7374+20]\n",
      "\tRtlUserThreadStart [0x00007FFB7C37CC91+33]\n",
      "\n"
     ]
    },
    {
     "name": "stderr",
     "output_type": "stream",
     "text": [
      "Processing URLs:   3%|    | 750/29446 [1:22:34<52:51:55,  6.63s/it]"
     ]
    },
    {
     "name": "stdout",
     "output_type": "stream",
     "text": [
      "Error fetching URL: https://www.agoda.com/partners/partnersearch.aspx?hid=296962 - Message: no such element: Unable to locate element: {\"method\":\"css selector\",\"selector\":\"a[data-element-name='property-card-content']\"}\n",
      "  (Session info: chrome=130.0.6723.117); For documentation on this error, please visit: https://www.selenium.dev/documentation/webdriver/troubleshooting/errors#no-such-element-exception\n",
      "Stacktrace:\n",
      "\tGetHandleVerifier [0x00007FF6FD4338A5+3004357]\n",
      "\t(No symbol) [0x00007FF6FD0C9970]\n",
      "\t(No symbol) [0x00007FF6FCF7582A]\n",
      "\t(No symbol) [0x00007FF6FCFC5B8E]\n",
      "\t(No symbol) [0x00007FF6FCFC5E7C]\n",
      "\t(No symbol) [0x00007FF6FD00EC27]\n",
      "\t(No symbol) [0x00007FF6FCFEBC1F]\n",
      "\t(No symbol) [0x00007FF6FD00BA4C]\n",
      "\t(No symbol) [0x00007FF6FCFEB983]\n",
      "\t(No symbol) [0x00007FF6FCFB7628]\n",
      "\t(No symbol) [0x00007FF6FCFB8791]\n",
      "\tGetHandleVerifier [0x00007FF6FD45A00D+3161901]\n",
      "\tGetHandleVerifier [0x00007FF6FD4AE060+3506048]\n",
      "\tGetHandleVerifier [0x00007FF6FD4A400D+3465005]\n",
      "\tGetHandleVerifier [0x00007FF6FD220EEB+830987]\n",
      "\t(No symbol) [0x00007FF6FD0D467F]\n",
      "\t(No symbol) [0x00007FF6FD0D09D4]\n",
      "\t(No symbol) [0x00007FF6FD0D0B6D]\n",
      "\t(No symbol) [0x00007FF6FD0C0149]\n",
      "\tBaseThreadInitThunk [0x00007FFB7AAA7374+20]\n",
      "\tRtlUserThreadStart [0x00007FFB7C37CC91+33]\n",
      "\n"
     ]
    },
    {
     "name": "stderr",
     "output_type": "stream",
     "text": [
      "Processing URLs:   3%|    | 751/29446 [1:22:41<52:47:40,  6.62s/it]"
     ]
    },
    {
     "name": "stdout",
     "output_type": "stream",
     "text": [
      "Error fetching URL: https://www.agoda.com/partners/partnersearch.aspx?hid=296982 - Message: no such element: Unable to locate element: {\"method\":\"css selector\",\"selector\":\"a[data-element-name='property-card-content']\"}\n",
      "  (Session info: chrome=130.0.6723.117); For documentation on this error, please visit: https://www.selenium.dev/documentation/webdriver/troubleshooting/errors#no-such-element-exception\n",
      "Stacktrace:\n",
      "\tGetHandleVerifier [0x00007FF6FD4338A5+3004357]\n",
      "\t(No symbol) [0x00007FF6FD0C9970]\n",
      "\t(No symbol) [0x00007FF6FCF7582A]\n",
      "\t(No symbol) [0x00007FF6FCFC5B8E]\n",
      "\t(No symbol) [0x00007FF6FCFC5E7C]\n",
      "\t(No symbol) [0x00007FF6FD00EC27]\n",
      "\t(No symbol) [0x00007FF6FCFEBC1F]\n",
      "\t(No symbol) [0x00007FF6FD00BA4C]\n",
      "\t(No symbol) [0x00007FF6FCFEB983]\n",
      "\t(No symbol) [0x00007FF6FCFB7628]\n",
      "\t(No symbol) [0x00007FF6FCFB8791]\n",
      "\tGetHandleVerifier [0x00007FF6FD45A00D+3161901]\n",
      "\tGetHandleVerifier [0x00007FF6FD4AE060+3506048]\n",
      "\tGetHandleVerifier [0x00007FF6FD4A400D+3465005]\n",
      "\tGetHandleVerifier [0x00007FF6FD220EEB+830987]\n",
      "\t(No symbol) [0x00007FF6FD0D467F]\n",
      "\t(No symbol) [0x00007FF6FD0D09D4]\n",
      "\t(No symbol) [0x00007FF6FD0D0B6D]\n",
      "\t(No symbol) [0x00007FF6FD0C0149]\n",
      "\tBaseThreadInitThunk [0x00007FFB7AAA7374+20]\n",
      "\tRtlUserThreadStart [0x00007FFB7C37CC91+33]\n",
      "\n"
     ]
    },
    {
     "name": "stderr",
     "output_type": "stream",
     "text": [
      "Processing URLs:   3%|    | 752/29446 [1:22:47<52:42:33,  6.61s/it]"
     ]
    },
    {
     "name": "stdout",
     "output_type": "stream",
     "text": [
      "Error fetching URL: https://www.agoda.com/partners/partnersearch.aspx?hid=297001 - Message: no such element: Unable to locate element: {\"method\":\"css selector\",\"selector\":\"a[data-element-name='property-card-content']\"}\n",
      "  (Session info: chrome=130.0.6723.117); For documentation on this error, please visit: https://www.selenium.dev/documentation/webdriver/troubleshooting/errors#no-such-element-exception\n",
      "Stacktrace:\n",
      "\tGetHandleVerifier [0x00007FF6FD4338A5+3004357]\n",
      "\t(No symbol) [0x00007FF6FD0C9970]\n",
      "\t(No symbol) [0x00007FF6FCF7582A]\n",
      "\t(No symbol) [0x00007FF6FCFC5B8E]\n",
      "\t(No symbol) [0x00007FF6FCFC5E7C]\n",
      "\t(No symbol) [0x00007FF6FD00EC27]\n",
      "\t(No symbol) [0x00007FF6FCFEBC1F]\n",
      "\t(No symbol) [0x00007FF6FD00BA4C]\n",
      "\t(No symbol) [0x00007FF6FCFEB983]\n",
      "\t(No symbol) [0x00007FF6FCFB7628]\n",
      "\t(No symbol) [0x00007FF6FCFB8791]\n",
      "\tGetHandleVerifier [0x00007FF6FD45A00D+3161901]\n",
      "\tGetHandleVerifier [0x00007FF6FD4AE060+3506048]\n",
      "\tGetHandleVerifier [0x00007FF6FD4A400D+3465005]\n",
      "\tGetHandleVerifier [0x00007FF6FD220EEB+830987]\n",
      "\t(No symbol) [0x00007FF6FD0D467F]\n",
      "\t(No symbol) [0x00007FF6FD0D09D4]\n",
      "\t(No symbol) [0x00007FF6FD0D0B6D]\n",
      "\t(No symbol) [0x00007FF6FD0C0149]\n",
      "\tBaseThreadInitThunk [0x00007FFB7AAA7374+20]\n",
      "\tRtlUserThreadStart [0x00007FFB7C37CC91+33]\n",
      "\n"
     ]
    },
    {
     "name": "stderr",
     "output_type": "stream",
     "text": [
      "Processing URLs:   3%|    | 754/29446 [1:23:00<52:24:56,  6.58s/it]"
     ]
    },
    {
     "name": "stdout",
     "output_type": "stream",
     "text": [
      "Error fetching URL: https://www.agoda.com/partners/partnersearch.aspx?hid=297064 - Message: no such element: Unable to locate element: {\"method\":\"css selector\",\"selector\":\"a[data-element-name='property-card-content']\"}\n",
      "  (Session info: chrome=130.0.6723.117); For documentation on this error, please visit: https://www.selenium.dev/documentation/webdriver/troubleshooting/errors#no-such-element-exception\n",
      "Stacktrace:\n",
      "\tGetHandleVerifier [0x00007FF6FD4338A5+3004357]\n",
      "\t(No symbol) [0x00007FF6FD0C9970]\n",
      "\t(No symbol) [0x00007FF6FCF7582A]\n",
      "\t(No symbol) [0x00007FF6FCFC5B8E]\n",
      "\t(No symbol) [0x00007FF6FCFC5E7C]\n",
      "\t(No symbol) [0x00007FF6FD00EC27]\n",
      "\t(No symbol) [0x00007FF6FCFEBC1F]\n",
      "\t(No symbol) [0x00007FF6FD00BA4C]\n",
      "\t(No symbol) [0x00007FF6FCFEB983]\n",
      "\t(No symbol) [0x00007FF6FCFB7628]\n",
      "\t(No symbol) [0x00007FF6FCFB8791]\n",
      "\tGetHandleVerifier [0x00007FF6FD45A00D+3161901]\n",
      "\tGetHandleVerifier [0x00007FF6FD4AE060+3506048]\n",
      "\tGetHandleVerifier [0x00007FF6FD4A400D+3465005]\n",
      "\tGetHandleVerifier [0x00007FF6FD220EEB+830987]\n",
      "\t(No symbol) [0x00007FF6FD0D467F]\n",
      "\t(No symbol) [0x00007FF6FD0D09D4]\n",
      "\t(No symbol) [0x00007FF6FD0D0B6D]\n",
      "\t(No symbol) [0x00007FF6FD0C0149]\n",
      "\tBaseThreadInitThunk [0x00007FFB7AAA7374+20]\n",
      "\tRtlUserThreadStart [0x00007FFB7C37CC91+33]\n",
      "\n"
     ]
    },
    {
     "name": "stderr",
     "output_type": "stream",
     "text": [
      "Processing URLs:   3%|    | 755/29446 [1:23:06<51:46:33,  6.50s/it]"
     ]
    },
    {
     "name": "stdout",
     "output_type": "stream",
     "text": [
      "Error fetching URL: https://www.agoda.com/partners/partnersearch.aspx?hid=297135 - Message: no such element: Unable to locate element: {\"method\":\"css selector\",\"selector\":\"a[data-element-name='property-card-content']\"}\n",
      "  (Session info: chrome=130.0.6723.117); For documentation on this error, please visit: https://www.selenium.dev/documentation/webdriver/troubleshooting/errors#no-such-element-exception\n",
      "Stacktrace:\n",
      "\tGetHandleVerifier [0x00007FF6FD4338A5+3004357]\n",
      "\t(No symbol) [0x00007FF6FD0C9970]\n",
      "\t(No symbol) [0x00007FF6FCF7582A]\n",
      "\t(No symbol) [0x00007FF6FCFC5B8E]\n",
      "\t(No symbol) [0x00007FF6FCFC5E7C]\n",
      "\t(No symbol) [0x00007FF6FD00EC27]\n",
      "\t(No symbol) [0x00007FF6FCFEBC1F]\n",
      "\t(No symbol) [0x00007FF6FD00BA4C]\n",
      "\t(No symbol) [0x00007FF6FCFEB983]\n",
      "\t(No symbol) [0x00007FF6FCFB7628]\n",
      "\t(No symbol) [0x00007FF6FCFB8791]\n",
      "\tGetHandleVerifier [0x00007FF6FD45A00D+3161901]\n",
      "\tGetHandleVerifier [0x00007FF6FD4AE060+3506048]\n",
      "\tGetHandleVerifier [0x00007FF6FD4A400D+3465005]\n",
      "\tGetHandleVerifier [0x00007FF6FD220EEB+830987]\n",
      "\t(No symbol) [0x00007FF6FD0D467F]\n",
      "\t(No symbol) [0x00007FF6FD0D09D4]\n",
      "\t(No symbol) [0x00007FF6FD0D0B6D]\n",
      "\t(No symbol) [0x00007FF6FD0C0149]\n",
      "\tBaseThreadInitThunk [0x00007FFB7AAA7374+20]\n",
      "\tRtlUserThreadStart [0x00007FFB7C37CC91+33]\n",
      "\n"
     ]
    },
    {
     "name": "stderr",
     "output_type": "stream",
     "text": [
      "Processing URLs:   3%|    | 758/29446 [1:23:27<53:06:47,  6.67s/it]"
     ]
    },
    {
     "name": "stdout",
     "output_type": "stream",
     "text": [
      "Error fetching URL: https://www.agoda.com/partners/partnersearch.aspx?hid=297152 - Message: no such element: Unable to locate element: {\"method\":\"css selector\",\"selector\":\"a[data-element-name='property-card-content']\"}\n",
      "  (Session info: chrome=130.0.6723.117); For documentation on this error, please visit: https://www.selenium.dev/documentation/webdriver/troubleshooting/errors#no-such-element-exception\n",
      "Stacktrace:\n",
      "\tGetHandleVerifier [0x00007FF6FD4338A5+3004357]\n",
      "\t(No symbol) [0x00007FF6FD0C9970]\n",
      "\t(No symbol) [0x00007FF6FCF7582A]\n",
      "\t(No symbol) [0x00007FF6FCFC5B8E]\n",
      "\t(No symbol) [0x00007FF6FCFC5E7C]\n",
      "\t(No symbol) [0x00007FF6FD00EC27]\n",
      "\t(No symbol) [0x00007FF6FCFEBC1F]\n",
      "\t(No symbol) [0x00007FF6FD00BA4C]\n",
      "\t(No symbol) [0x00007FF6FCFEB983]\n",
      "\t(No symbol) [0x00007FF6FCFB7628]\n",
      "\t(No symbol) [0x00007FF6FCFB8791]\n",
      "\tGetHandleVerifier [0x00007FF6FD45A00D+3161901]\n",
      "\tGetHandleVerifier [0x00007FF6FD4AE060+3506048]\n",
      "\tGetHandleVerifier [0x00007FF6FD4A400D+3465005]\n",
      "\tGetHandleVerifier [0x00007FF6FD220EEB+830987]\n",
      "\t(No symbol) [0x00007FF6FD0D467F]\n",
      "\t(No symbol) [0x00007FF6FD0D09D4]\n",
      "\t(No symbol) [0x00007FF6FD0D0B6D]\n",
      "\t(No symbol) [0x00007FF6FD0C0149]\n",
      "\tBaseThreadInitThunk [0x00007FFB7AAA7374+20]\n",
      "\tRtlUserThreadStart [0x00007FFB7C37CC91+33]\n",
      "\n"
     ]
    },
    {
     "name": "stderr",
     "output_type": "stream",
     "text": [
      "Processing URLs:   3%|    | 761/29446 [1:23:46<52:22:11,  6.57s/it]"
     ]
    },
    {
     "name": "stdout",
     "output_type": "stream",
     "text": [
      "Error fetching URL: https://www.agoda.com/partners/partnersearch.aspx?hid=297207 - Message: no such element: Unable to locate element: {\"method\":\"css selector\",\"selector\":\"a[data-element-name='property-card-content']\"}\n",
      "  (Session info: chrome=130.0.6723.117); For documentation on this error, please visit: https://www.selenium.dev/documentation/webdriver/troubleshooting/errors#no-such-element-exception\n",
      "Stacktrace:\n",
      "\tGetHandleVerifier [0x00007FF6FD4338A5+3004357]\n",
      "\t(No symbol) [0x00007FF6FD0C9970]\n",
      "\t(No symbol) [0x00007FF6FCF7582A]\n",
      "\t(No symbol) [0x00007FF6FCFC5B8E]\n",
      "\t(No symbol) [0x00007FF6FCFC5E7C]\n",
      "\t(No symbol) [0x00007FF6FD00EC27]\n",
      "\t(No symbol) [0x00007FF6FCFEBC1F]\n",
      "\t(No symbol) [0x00007FF6FD00BA4C]\n",
      "\t(No symbol) [0x00007FF6FCFEB983]\n",
      "\t(No symbol) [0x00007FF6FCFB7628]\n",
      "\t(No symbol) [0x00007FF6FCFB8791]\n",
      "\tGetHandleVerifier [0x00007FF6FD45A00D+3161901]\n",
      "\tGetHandleVerifier [0x00007FF6FD4AE060+3506048]\n",
      "\tGetHandleVerifier [0x00007FF6FD4A400D+3465005]\n",
      "\tGetHandleVerifier [0x00007FF6FD220EEB+830987]\n",
      "\t(No symbol) [0x00007FF6FD0D467F]\n",
      "\t(No symbol) [0x00007FF6FD0D09D4]\n",
      "\t(No symbol) [0x00007FF6FD0D0B6D]\n",
      "\t(No symbol) [0x00007FF6FD0C0149]\n",
      "\tBaseThreadInitThunk [0x00007FFB7AAA7374+20]\n",
      "\tRtlUserThreadStart [0x00007FFB7C37CC91+33]\n",
      "\n"
     ]
    },
    {
     "name": "stderr",
     "output_type": "stream",
     "text": [
      "Processing URLs:   3%|    | 762/29446 [1:23:53<52:33:46,  6.60s/it]"
     ]
    },
    {
     "name": "stdout",
     "output_type": "stream",
     "text": [
      "Error fetching URL: https://www.agoda.com/partners/partnersearch.aspx?hid=297330 - Message: no such element: Unable to locate element: {\"method\":\"css selector\",\"selector\":\"a[data-element-name='property-card-content']\"}\n",
      "  (Session info: chrome=130.0.6723.117); For documentation on this error, please visit: https://www.selenium.dev/documentation/webdriver/troubleshooting/errors#no-such-element-exception\n",
      "Stacktrace:\n",
      "\tGetHandleVerifier [0x00007FF6FD4338A5+3004357]\n",
      "\t(No symbol) [0x00007FF6FD0C9970]\n",
      "\t(No symbol) [0x00007FF6FCF7582A]\n",
      "\t(No symbol) [0x00007FF6FCFC5B8E]\n",
      "\t(No symbol) [0x00007FF6FCFC5E7C]\n",
      "\t(No symbol) [0x00007FF6FD00EC27]\n",
      "\t(No symbol) [0x00007FF6FCFEBC1F]\n",
      "\t(No symbol) [0x00007FF6FD00BA4C]\n",
      "\t(No symbol) [0x00007FF6FCFEB983]\n",
      "\t(No symbol) [0x00007FF6FCFB7628]\n",
      "\t(No symbol) [0x00007FF6FCFB8791]\n",
      "\tGetHandleVerifier [0x00007FF6FD45A00D+3161901]\n",
      "\tGetHandleVerifier [0x00007FF6FD4AE060+3506048]\n",
      "\tGetHandleVerifier [0x00007FF6FD4A400D+3465005]\n",
      "\tGetHandleVerifier [0x00007FF6FD220EEB+830987]\n",
      "\t(No symbol) [0x00007FF6FD0D467F]\n",
      "\t(No symbol) [0x00007FF6FD0D09D4]\n",
      "\t(No symbol) [0x00007FF6FD0D0B6D]\n",
      "\t(No symbol) [0x00007FF6FD0C0149]\n",
      "\tBaseThreadInitThunk [0x00007FFB7AAA7374+20]\n",
      "\tRtlUserThreadStart [0x00007FFB7C37CC91+33]\n",
      "\n"
     ]
    },
    {
     "name": "stderr",
     "output_type": "stream",
     "text": [
      "Processing URLs:   3%|    | 765/29446 [1:24:12<51:40:34,  6.49s/it]"
     ]
    },
    {
     "name": "stdout",
     "output_type": "stream",
     "text": [
      "Error fetching URL: https://www.agoda.com/partners/partnersearch.aspx?hid=297465 - Message: no such element: Unable to locate element: {\"method\":\"css selector\",\"selector\":\"a[data-element-name='property-card-content']\"}\n",
      "  (Session info: chrome=130.0.6723.117); For documentation on this error, please visit: https://www.selenium.dev/documentation/webdriver/troubleshooting/errors#no-such-element-exception\n",
      "Stacktrace:\n",
      "\tGetHandleVerifier [0x00007FF6FD4338A5+3004357]\n",
      "\t(No symbol) [0x00007FF6FD0C9970]\n",
      "\t(No symbol) [0x00007FF6FCF7582A]\n",
      "\t(No symbol) [0x00007FF6FCFC5B8E]\n",
      "\t(No symbol) [0x00007FF6FCFC5E7C]\n",
      "\t(No symbol) [0x00007FF6FD00EC27]\n",
      "\t(No symbol) [0x00007FF6FCFEBC1F]\n",
      "\t(No symbol) [0x00007FF6FD00BA4C]\n",
      "\t(No symbol) [0x00007FF6FCFEB983]\n",
      "\t(No symbol) [0x00007FF6FCFB7628]\n",
      "\t(No symbol) [0x00007FF6FCFB8791]\n",
      "\tGetHandleVerifier [0x00007FF6FD45A00D+3161901]\n",
      "\tGetHandleVerifier [0x00007FF6FD4AE060+3506048]\n",
      "\tGetHandleVerifier [0x00007FF6FD4A400D+3465005]\n",
      "\tGetHandleVerifier [0x00007FF6FD220EEB+830987]\n",
      "\t(No symbol) [0x00007FF6FD0D467F]\n",
      "\t(No symbol) [0x00007FF6FD0D09D4]\n",
      "\t(No symbol) [0x00007FF6FD0D0B6D]\n",
      "\t(No symbol) [0x00007FF6FD0C0149]\n",
      "\tBaseThreadInitThunk [0x00007FFB7AAA7374+20]\n",
      "\tRtlUserThreadStart [0x00007FFB7C37CC91+33]\n",
      "\n"
     ]
    },
    {
     "name": "stderr",
     "output_type": "stream",
     "text": [
      "Processing URLs:   3%|    | 766/29446 [1:24:19<52:06:37,  6.54s/it]"
     ]
    },
    {
     "name": "stdout",
     "output_type": "stream",
     "text": [
      "Error fetching URL: https://www.agoda.com/partners/partnersearch.aspx?hid=297498 - Message: no such element: Unable to locate element: {\"method\":\"css selector\",\"selector\":\"a[data-element-name='property-card-content']\"}\n",
      "  (Session info: chrome=130.0.6723.117); For documentation on this error, please visit: https://www.selenium.dev/documentation/webdriver/troubleshooting/errors#no-such-element-exception\n",
      "Stacktrace:\n",
      "\tGetHandleVerifier [0x00007FF6FD4338A5+3004357]\n",
      "\t(No symbol) [0x00007FF6FD0C9970]\n",
      "\t(No symbol) [0x00007FF6FCF7582A]\n",
      "\t(No symbol) [0x00007FF6FCFC5B8E]\n",
      "\t(No symbol) [0x00007FF6FCFC5E7C]\n",
      "\t(No symbol) [0x00007FF6FD00EC27]\n",
      "\t(No symbol) [0x00007FF6FCFEBC1F]\n",
      "\t(No symbol) [0x00007FF6FD00BA4C]\n",
      "\t(No symbol) [0x00007FF6FCFEB983]\n",
      "\t(No symbol) [0x00007FF6FCFB7628]\n",
      "\t(No symbol) [0x00007FF6FCFB8791]\n",
      "\tGetHandleVerifier [0x00007FF6FD45A00D+3161901]\n",
      "\tGetHandleVerifier [0x00007FF6FD4AE060+3506048]\n",
      "\tGetHandleVerifier [0x00007FF6FD4A400D+3465005]\n",
      "\tGetHandleVerifier [0x00007FF6FD220EEB+830987]\n",
      "\t(No symbol) [0x00007FF6FD0D467F]\n",
      "\t(No symbol) [0x00007FF6FD0D09D4]\n",
      "\t(No symbol) [0x00007FF6FD0D0B6D]\n",
      "\t(No symbol) [0x00007FF6FD0C0149]\n",
      "\tBaseThreadInitThunk [0x00007FFB7AAA7374+20]\n",
      "\tRtlUserThreadStart [0x00007FFB7C37CC91+33]\n",
      "\n"
     ]
    },
    {
     "name": "stderr",
     "output_type": "stream",
     "text": [
      "Processing URLs:   3%|    | 768/29446 [1:24:33<55:50:02,  7.01s/it]"
     ]
    },
    {
     "name": "stdout",
     "output_type": "stream",
     "text": [
      "Error fetching URL: https://www.agoda.com/partners/partnersearch.aspx?hid=297521 - Message: no such element: Unable to locate element: {\"method\":\"css selector\",\"selector\":\"a[data-element-name='property-card-content']\"}\n",
      "  (Session info: chrome=130.0.6723.117); For documentation on this error, please visit: https://www.selenium.dev/documentation/webdriver/troubleshooting/errors#no-such-element-exception\n",
      "Stacktrace:\n",
      "\tGetHandleVerifier [0x00007FF6FD4338A5+3004357]\n",
      "\t(No symbol) [0x00007FF6FD0C9970]\n",
      "\t(No symbol) [0x00007FF6FCF7582A]\n",
      "\t(No symbol) [0x00007FF6FCFC5B8E]\n",
      "\t(No symbol) [0x00007FF6FCFC5E7C]\n",
      "\t(No symbol) [0x00007FF6FD00EC27]\n",
      "\t(No symbol) [0x00007FF6FCFEBC1F]\n",
      "\t(No symbol) [0x00007FF6FD00BA4C]\n",
      "\t(No symbol) [0x00007FF6FCFEB983]\n",
      "\t(No symbol) [0x00007FF6FCFB7628]\n",
      "\t(No symbol) [0x00007FF6FCFB8791]\n",
      "\tGetHandleVerifier [0x00007FF6FD45A00D+3161901]\n",
      "\tGetHandleVerifier [0x00007FF6FD4AE060+3506048]\n",
      "\tGetHandleVerifier [0x00007FF6FD4A400D+3465005]\n",
      "\tGetHandleVerifier [0x00007FF6FD220EEB+830987]\n",
      "\t(No symbol) [0x00007FF6FD0D467F]\n",
      "\t(No symbol) [0x00007FF6FD0D09D4]\n",
      "\t(No symbol) [0x00007FF6FD0D0B6D]\n",
      "\t(No symbol) [0x00007FF6FD0C0149]\n",
      "\tBaseThreadInitThunk [0x00007FFB7AAA7374+20]\n",
      "\tRtlUserThreadStart [0x00007FFB7C37CC91+33]\n",
      "\n"
     ]
    },
    {
     "name": "stderr",
     "output_type": "stream",
     "text": [
      "Processing URLs:   3%|    | 775/29446 [1:25:21<55:51:12,  7.01s/it]"
     ]
    },
    {
     "name": "stdout",
     "output_type": "stream",
     "text": [
      "Error fetching URL: https://www.agoda.com/partners/partnersearch.aspx?hid=297974 - Message: no such element: Unable to locate element: {\"method\":\"css selector\",\"selector\":\"a[data-element-name='property-card-content']\"}\n",
      "  (Session info: chrome=130.0.6723.117); For documentation on this error, please visit: https://www.selenium.dev/documentation/webdriver/troubleshooting/errors#no-such-element-exception\n",
      "Stacktrace:\n",
      "\tGetHandleVerifier [0x00007FF6FD4338A5+3004357]\n",
      "\t(No symbol) [0x00007FF6FD0C9970]\n",
      "\t(No symbol) [0x00007FF6FCF7582A]\n",
      "\t(No symbol) [0x00007FF6FCFC5B8E]\n",
      "\t(No symbol) [0x00007FF6FCFC5E7C]\n",
      "\t(No symbol) [0x00007FF6FD00EC27]\n",
      "\t(No symbol) [0x00007FF6FCFEBC1F]\n",
      "\t(No symbol) [0x00007FF6FD00BA4C]\n",
      "\t(No symbol) [0x00007FF6FCFEB983]\n",
      "\t(No symbol) [0x00007FF6FCFB7628]\n",
      "\t(No symbol) [0x00007FF6FCFB8791]\n",
      "\tGetHandleVerifier [0x00007FF6FD45A00D+3161901]\n",
      "\tGetHandleVerifier [0x00007FF6FD4AE060+3506048]\n",
      "\tGetHandleVerifier [0x00007FF6FD4A400D+3465005]\n",
      "\tGetHandleVerifier [0x00007FF6FD220EEB+830987]\n",
      "\t(No symbol) [0x00007FF6FD0D467F]\n",
      "\t(No symbol) [0x00007FF6FD0D09D4]\n",
      "\t(No symbol) [0x00007FF6FD0D0B6D]\n",
      "\t(No symbol) [0x00007FF6FD0C0149]\n",
      "\tBaseThreadInitThunk [0x00007FFB7AAA7374+20]\n",
      "\tRtlUserThreadStart [0x00007FFB7C37CC91+33]\n",
      "\n"
     ]
    },
    {
     "name": "stderr",
     "output_type": "stream",
     "text": [
      "Processing URLs:   3%|    | 776/29446 [1:25:28<54:56:44,  6.90s/it]"
     ]
    },
    {
     "name": "stdout",
     "output_type": "stream",
     "text": [
      "Error fetching URL: https://www.agoda.com/partners/partnersearch.aspx?hid=298012 - Message: no such element: Unable to locate element: {\"method\":\"css selector\",\"selector\":\"a[data-element-name='property-card-content']\"}\n",
      "  (Session info: chrome=130.0.6723.117); For documentation on this error, please visit: https://www.selenium.dev/documentation/webdriver/troubleshooting/errors#no-such-element-exception\n",
      "Stacktrace:\n",
      "\tGetHandleVerifier [0x00007FF6FD4338A5+3004357]\n",
      "\t(No symbol) [0x00007FF6FD0C9970]\n",
      "\t(No symbol) [0x00007FF6FCF7582A]\n",
      "\t(No symbol) [0x00007FF6FCFC5B8E]\n",
      "\t(No symbol) [0x00007FF6FCFC5E7C]\n",
      "\t(No symbol) [0x00007FF6FD00EC27]\n",
      "\t(No symbol) [0x00007FF6FCFEBC1F]\n",
      "\t(No symbol) [0x00007FF6FD00BA4C]\n",
      "\t(No symbol) [0x00007FF6FCFEB983]\n",
      "\t(No symbol) [0x00007FF6FCFB7628]\n",
      "\t(No symbol) [0x00007FF6FCFB8791]\n",
      "\tGetHandleVerifier [0x00007FF6FD45A00D+3161901]\n",
      "\tGetHandleVerifier [0x00007FF6FD4AE060+3506048]\n",
      "\tGetHandleVerifier [0x00007FF6FD4A400D+3465005]\n",
      "\tGetHandleVerifier [0x00007FF6FD220EEB+830987]\n",
      "\t(No symbol) [0x00007FF6FD0D467F]\n",
      "\t(No symbol) [0x00007FF6FD0D09D4]\n",
      "\t(No symbol) [0x00007FF6FD0D0B6D]\n",
      "\t(No symbol) [0x00007FF6FD0C0149]\n",
      "\tBaseThreadInitThunk [0x00007FFB7AAA7374+20]\n",
      "\tRtlUserThreadStart [0x00007FFB7C37CC91+33]\n",
      "\n"
     ]
    },
    {
     "name": "stderr",
     "output_type": "stream",
     "text": [
      "Processing URLs:   3%|    | 778/29446 [1:25:41<53:12:08,  6.68s/it]"
     ]
    },
    {
     "name": "stdout",
     "output_type": "stream",
     "text": [
      "Error fetching URL: https://www.agoda.com/partners/partnersearch.aspx?hid=298371 - Message: no such element: Unable to locate element: {\"method\":\"css selector\",\"selector\":\"a[data-element-name='property-card-content']\"}\n",
      "  (Session info: chrome=130.0.6723.117); For documentation on this error, please visit: https://www.selenium.dev/documentation/webdriver/troubleshooting/errors#no-such-element-exception\n",
      "Stacktrace:\n",
      "\tGetHandleVerifier [0x00007FF6FD4338A5+3004357]\n",
      "\t(No symbol) [0x00007FF6FD0C9970]\n",
      "\t(No symbol) [0x00007FF6FCF7582A]\n",
      "\t(No symbol) [0x00007FF6FCFC5B8E]\n",
      "\t(No symbol) [0x00007FF6FCFC5E7C]\n",
      "\t(No symbol) [0x00007FF6FD00EC27]\n",
      "\t(No symbol) [0x00007FF6FCFEBC1F]\n",
      "\t(No symbol) [0x00007FF6FD00BA4C]\n",
      "\t(No symbol) [0x00007FF6FCFEB983]\n",
      "\t(No symbol) [0x00007FF6FCFB7628]\n",
      "\t(No symbol) [0x00007FF6FCFB8791]\n",
      "\tGetHandleVerifier [0x00007FF6FD45A00D+3161901]\n",
      "\tGetHandleVerifier [0x00007FF6FD4AE060+3506048]\n",
      "\tGetHandleVerifier [0x00007FF6FD4A400D+3465005]\n",
      "\tGetHandleVerifier [0x00007FF6FD220EEB+830987]\n",
      "\t(No symbol) [0x00007FF6FD0D467F]\n",
      "\t(No symbol) [0x00007FF6FD0D09D4]\n",
      "\t(No symbol) [0x00007FF6FD0D0B6D]\n",
      "\t(No symbol) [0x00007FF6FD0C0149]\n",
      "\tBaseThreadInitThunk [0x00007FFB7AAA7374+20]\n",
      "\tRtlUserThreadStart [0x00007FFB7C37CC91+33]\n",
      "\n"
     ]
    },
    {
     "name": "stderr",
     "output_type": "stream",
     "text": [
      "Processing URLs:   3%|    | 779/29446 [1:25:47<52:35:36,  6.60s/it]"
     ]
    },
    {
     "name": "stdout",
     "output_type": "stream",
     "text": [
      "Error fetching URL: https://www.agoda.com/partners/partnersearch.aspx?hid=298433 - Message: no such element: Unable to locate element: {\"method\":\"css selector\",\"selector\":\"a[data-element-name='property-card-content']\"}\n",
      "  (Session info: chrome=130.0.6723.117); For documentation on this error, please visit: https://www.selenium.dev/documentation/webdriver/troubleshooting/errors#no-such-element-exception\n",
      "Stacktrace:\n",
      "\tGetHandleVerifier [0x00007FF6FD4338A5+3004357]\n",
      "\t(No symbol) [0x00007FF6FD0C9970]\n",
      "\t(No symbol) [0x00007FF6FCF7582A]\n",
      "\t(No symbol) [0x00007FF6FCFC5B8E]\n",
      "\t(No symbol) [0x00007FF6FCFC5E7C]\n",
      "\t(No symbol) [0x00007FF6FD00EC27]\n",
      "\t(No symbol) [0x00007FF6FCFEBC1F]\n",
      "\t(No symbol) [0x00007FF6FD00BA4C]\n",
      "\t(No symbol) [0x00007FF6FCFEB983]\n",
      "\t(No symbol) [0x00007FF6FCFB7628]\n",
      "\t(No symbol) [0x00007FF6FCFB8791]\n",
      "\tGetHandleVerifier [0x00007FF6FD45A00D+3161901]\n",
      "\tGetHandleVerifier [0x00007FF6FD4AE060+3506048]\n",
      "\tGetHandleVerifier [0x00007FF6FD4A400D+3465005]\n",
      "\tGetHandleVerifier [0x00007FF6FD220EEB+830987]\n",
      "\t(No symbol) [0x00007FF6FD0D467F]\n",
      "\t(No symbol) [0x00007FF6FD0D09D4]\n",
      "\t(No symbol) [0x00007FF6FD0D0B6D]\n",
      "\t(No symbol) [0x00007FF6FD0C0149]\n",
      "\tBaseThreadInitThunk [0x00007FFB7AAA7374+20]\n",
      "\tRtlUserThreadStart [0x00007FFB7C37CC91+33]\n",
      "\n"
     ]
    },
    {
     "name": "stderr",
     "output_type": "stream",
     "text": [
      "Processing URLs:   3%|    | 780/29446 [1:25:54<52:03:04,  6.54s/it]"
     ]
    },
    {
     "name": "stdout",
     "output_type": "stream",
     "text": [
      "Error fetching URL: https://www.agoda.com/partners/partnersearch.aspx?hid=298548 - Message: no such element: Unable to locate element: {\"method\":\"css selector\",\"selector\":\"a[data-element-name='property-card-content']\"}\n",
      "  (Session info: chrome=130.0.6723.117); For documentation on this error, please visit: https://www.selenium.dev/documentation/webdriver/troubleshooting/errors#no-such-element-exception\n",
      "Stacktrace:\n",
      "\tGetHandleVerifier [0x00007FF6FD4338A5+3004357]\n",
      "\t(No symbol) [0x00007FF6FD0C9970]\n",
      "\t(No symbol) [0x00007FF6FCF7582A]\n",
      "\t(No symbol) [0x00007FF6FCFC5B8E]\n",
      "\t(No symbol) [0x00007FF6FCFC5E7C]\n",
      "\t(No symbol) [0x00007FF6FD00EC27]\n",
      "\t(No symbol) [0x00007FF6FCFEBC1F]\n",
      "\t(No symbol) [0x00007FF6FD00BA4C]\n",
      "\t(No symbol) [0x00007FF6FCFEB983]\n",
      "\t(No symbol) [0x00007FF6FCFB7628]\n",
      "\t(No symbol) [0x00007FF6FCFB8791]\n",
      "\tGetHandleVerifier [0x00007FF6FD45A00D+3161901]\n",
      "\tGetHandleVerifier [0x00007FF6FD4AE060+3506048]\n",
      "\tGetHandleVerifier [0x00007FF6FD4A400D+3465005]\n",
      "\tGetHandleVerifier [0x00007FF6FD220EEB+830987]\n",
      "\t(No symbol) [0x00007FF6FD0D467F]\n",
      "\t(No symbol) [0x00007FF6FD0D09D4]\n",
      "\t(No symbol) [0x00007FF6FD0D0B6D]\n",
      "\t(No symbol) [0x00007FF6FD0C0149]\n",
      "\tBaseThreadInitThunk [0x00007FFB7AAA7374+20]\n",
      "\tRtlUserThreadStart [0x00007FFB7C37CC91+33]\n",
      "\n"
     ]
    },
    {
     "name": "stderr",
     "output_type": "stream",
     "text": [
      "Processing URLs:   3%|    | 783/29446 [1:26:13<52:34:34,  6.60s/it]"
     ]
    },
    {
     "name": "stdout",
     "output_type": "stream",
     "text": [
      "Error fetching URL: https://www.agoda.com/partners/partnersearch.aspx?hid=298638 - Message: no such element: Unable to locate element: {\"method\":\"css selector\",\"selector\":\"a[data-element-name='property-card-content']\"}\n",
      "  (Session info: chrome=130.0.6723.117); For documentation on this error, please visit: https://www.selenium.dev/documentation/webdriver/troubleshooting/errors#no-such-element-exception\n",
      "Stacktrace:\n",
      "\tGetHandleVerifier [0x00007FF6FD4338A5+3004357]\n",
      "\t(No symbol) [0x00007FF6FD0C9970]\n",
      "\t(No symbol) [0x00007FF6FCF7582A]\n",
      "\t(No symbol) [0x00007FF6FCFC5B8E]\n",
      "\t(No symbol) [0x00007FF6FCFC5E7C]\n",
      "\t(No symbol) [0x00007FF6FD00EC27]\n",
      "\t(No symbol) [0x00007FF6FCFEBC1F]\n",
      "\t(No symbol) [0x00007FF6FD00BA4C]\n",
      "\t(No symbol) [0x00007FF6FCFEB983]\n",
      "\t(No symbol) [0x00007FF6FCFB7628]\n",
      "\t(No symbol) [0x00007FF6FCFB8791]\n",
      "\tGetHandleVerifier [0x00007FF6FD45A00D+3161901]\n",
      "\tGetHandleVerifier [0x00007FF6FD4AE060+3506048]\n",
      "\tGetHandleVerifier [0x00007FF6FD4A400D+3465005]\n",
      "\tGetHandleVerifier [0x00007FF6FD220EEB+830987]\n",
      "\t(No symbol) [0x00007FF6FD0D467F]\n",
      "\t(No symbol) [0x00007FF6FD0D09D4]\n",
      "\t(No symbol) [0x00007FF6FD0D0B6D]\n",
      "\t(No symbol) [0x00007FF6FD0C0149]\n",
      "\tBaseThreadInitThunk [0x00007FFB7AAA7374+20]\n",
      "\tRtlUserThreadStart [0x00007FFB7C37CC91+33]\n",
      "\n"
     ]
    },
    {
     "name": "stderr",
     "output_type": "stream",
     "text": [
      "Processing URLs:   3%|    | 785/29446 [1:26:26<52:05:50,  6.54s/it]"
     ]
    },
    {
     "name": "stdout",
     "output_type": "stream",
     "text": [
      "Error fetching URL: https://www.agoda.com/partners/partnersearch.aspx?hid=298833 - Message: no such element: Unable to locate element: {\"method\":\"css selector\",\"selector\":\"a[data-element-name='property-card-content']\"}\n",
      "  (Session info: chrome=130.0.6723.117); For documentation on this error, please visit: https://www.selenium.dev/documentation/webdriver/troubleshooting/errors#no-such-element-exception\n",
      "Stacktrace:\n",
      "\tGetHandleVerifier [0x00007FF6FD4338A5+3004357]\n",
      "\t(No symbol) [0x00007FF6FD0C9970]\n",
      "\t(No symbol) [0x00007FF6FCF7582A]\n",
      "\t(No symbol) [0x00007FF6FCFC5B8E]\n",
      "\t(No symbol) [0x00007FF6FCFC5E7C]\n",
      "\t(No symbol) [0x00007FF6FD00EC27]\n",
      "\t(No symbol) [0x00007FF6FCFEBC1F]\n",
      "\t(No symbol) [0x00007FF6FD00BA4C]\n",
      "\t(No symbol) [0x00007FF6FCFEB983]\n",
      "\t(No symbol) [0x00007FF6FCFB7628]\n",
      "\t(No symbol) [0x00007FF6FCFB8791]\n",
      "\tGetHandleVerifier [0x00007FF6FD45A00D+3161901]\n",
      "\tGetHandleVerifier [0x00007FF6FD4AE060+3506048]\n",
      "\tGetHandleVerifier [0x00007FF6FD4A400D+3465005]\n",
      "\tGetHandleVerifier [0x00007FF6FD220EEB+830987]\n",
      "\t(No symbol) [0x00007FF6FD0D467F]\n",
      "\t(No symbol) [0x00007FF6FD0D09D4]\n",
      "\t(No symbol) [0x00007FF6FD0D0B6D]\n",
      "\t(No symbol) [0x00007FF6FD0C0149]\n",
      "\tBaseThreadInitThunk [0x00007FFB7AAA7374+20]\n",
      "\tRtlUserThreadStart [0x00007FFB7C37CC91+33]\n",
      "\n"
     ]
    },
    {
     "name": "stderr",
     "output_type": "stream",
     "text": [
      "Processing URLs:   3%|    | 789/29446 [1:26:54<54:40:16,  6.87s/it]"
     ]
    },
    {
     "name": "stdout",
     "output_type": "stream",
     "text": [
      "Error fetching URL: https://www.agoda.com/partners/partnersearch.aspx?hid=298973 - Message: no such element: Unable to locate element: {\"method\":\"css selector\",\"selector\":\"a[data-element-name='property-card-content']\"}\n",
      "  (Session info: chrome=130.0.6723.117); For documentation on this error, please visit: https://www.selenium.dev/documentation/webdriver/troubleshooting/errors#no-such-element-exception\n",
      "Stacktrace:\n",
      "\tGetHandleVerifier [0x00007FF6FD4338A5+3004357]\n",
      "\t(No symbol) [0x00007FF6FD0C9970]\n",
      "\t(No symbol) [0x00007FF6FCF7582A]\n",
      "\t(No symbol) [0x00007FF6FCFC5B8E]\n",
      "\t(No symbol) [0x00007FF6FCFC5E7C]\n",
      "\t(No symbol) [0x00007FF6FD00EC27]\n",
      "\t(No symbol) [0x00007FF6FCFEBC1F]\n",
      "\t(No symbol) [0x00007FF6FD00BA4C]\n",
      "\t(No symbol) [0x00007FF6FCFEB983]\n",
      "\t(No symbol) [0x00007FF6FCFB7628]\n",
      "\t(No symbol) [0x00007FF6FCFB8791]\n",
      "\tGetHandleVerifier [0x00007FF6FD45A00D+3161901]\n",
      "\tGetHandleVerifier [0x00007FF6FD4AE060+3506048]\n",
      "\tGetHandleVerifier [0x00007FF6FD4A400D+3465005]\n",
      "\tGetHandleVerifier [0x00007FF6FD220EEB+830987]\n",
      "\t(No symbol) [0x00007FF6FD0D467F]\n",
      "\t(No symbol) [0x00007FF6FD0D09D4]\n",
      "\t(No symbol) [0x00007FF6FD0D0B6D]\n",
      "\t(No symbol) [0x00007FF6FD0C0149]\n",
      "\tBaseThreadInitThunk [0x00007FFB7AAA7374+20]\n",
      "\tRtlUserThreadStart [0x00007FFB7C37CC91+33]\n",
      "\n"
     ]
    },
    {
     "name": "stderr",
     "output_type": "stream",
     "text": [
      "Processing URLs:   3%|    | 791/29446 [1:27:07<53:15:47,  6.69s/it]"
     ]
    },
    {
     "name": "stdout",
     "output_type": "stream",
     "text": [
      "Error fetching URL: https://www.agoda.com/partners/partnersearch.aspx?hid=299329 - Message: no such element: Unable to locate element: {\"method\":\"css selector\",\"selector\":\"a[data-element-name='property-card-content']\"}\n",
      "  (Session info: chrome=130.0.6723.117); For documentation on this error, please visit: https://www.selenium.dev/documentation/webdriver/troubleshooting/errors#no-such-element-exception\n",
      "Stacktrace:\n",
      "\tGetHandleVerifier [0x00007FF6FD4338A5+3004357]\n",
      "\t(No symbol) [0x00007FF6FD0C9970]\n",
      "\t(No symbol) [0x00007FF6FCF7582A]\n",
      "\t(No symbol) [0x00007FF6FCFC5B8E]\n",
      "\t(No symbol) [0x00007FF6FCFC5E7C]\n",
      "\t(No symbol) [0x00007FF6FD00EC27]\n",
      "\t(No symbol) [0x00007FF6FCFEBC1F]\n",
      "\t(No symbol) [0x00007FF6FD00BA4C]\n",
      "\t(No symbol) [0x00007FF6FCFEB983]\n",
      "\t(No symbol) [0x00007FF6FCFB7628]\n",
      "\t(No symbol) [0x00007FF6FCFB8791]\n",
      "\tGetHandleVerifier [0x00007FF6FD45A00D+3161901]\n",
      "\tGetHandleVerifier [0x00007FF6FD4AE060+3506048]\n",
      "\tGetHandleVerifier [0x00007FF6FD4A400D+3465005]\n",
      "\tGetHandleVerifier [0x00007FF6FD220EEB+830987]\n",
      "\t(No symbol) [0x00007FF6FD0D467F]\n",
      "\t(No symbol) [0x00007FF6FD0D09D4]\n",
      "\t(No symbol) [0x00007FF6FD0D0B6D]\n",
      "\t(No symbol) [0x00007FF6FD0C0149]\n",
      "\tBaseThreadInitThunk [0x00007FFB7AAA7374+20]\n",
      "\tRtlUserThreadStart [0x00007FFB7C37CC91+33]\n",
      "\n"
     ]
    },
    {
     "name": "stderr",
     "output_type": "stream",
     "text": [
      "Processing URLs:   3%|    | 792/29446 [1:27:13<52:16:09,  6.57s/it]"
     ]
    },
    {
     "name": "stdout",
     "output_type": "stream",
     "text": [
      "Error fetching URL: https://www.agoda.com/partners/partnersearch.aspx?hid=299449 - Message: no such element: Unable to locate element: {\"method\":\"css selector\",\"selector\":\"a[data-element-name='property-card-content']\"}\n",
      "  (Session info: chrome=130.0.6723.117); For documentation on this error, please visit: https://www.selenium.dev/documentation/webdriver/troubleshooting/errors#no-such-element-exception\n",
      "Stacktrace:\n",
      "\tGetHandleVerifier [0x00007FF6FD4338A5+3004357]\n",
      "\t(No symbol) [0x00007FF6FD0C9970]\n",
      "\t(No symbol) [0x00007FF6FCF7582A]\n",
      "\t(No symbol) [0x00007FF6FCFC5B8E]\n",
      "\t(No symbol) [0x00007FF6FCFC5E7C]\n",
      "\t(No symbol) [0x00007FF6FD00EC27]\n",
      "\t(No symbol) [0x00007FF6FCFEBC1F]\n",
      "\t(No symbol) [0x00007FF6FD00BA4C]\n",
      "\t(No symbol) [0x00007FF6FCFEB983]\n",
      "\t(No symbol) [0x00007FF6FCFB7628]\n",
      "\t(No symbol) [0x00007FF6FCFB8791]\n",
      "\tGetHandleVerifier [0x00007FF6FD45A00D+3161901]\n",
      "\tGetHandleVerifier [0x00007FF6FD4AE060+3506048]\n",
      "\tGetHandleVerifier [0x00007FF6FD4A400D+3465005]\n",
      "\tGetHandleVerifier [0x00007FF6FD220EEB+830987]\n",
      "\t(No symbol) [0x00007FF6FD0D467F]\n",
      "\t(No symbol) [0x00007FF6FD0D09D4]\n",
      "\t(No symbol) [0x00007FF6FD0D0B6D]\n",
      "\t(No symbol) [0x00007FF6FD0C0149]\n",
      "\tBaseThreadInitThunk [0x00007FFB7AAA7374+20]\n",
      "\tRtlUserThreadStart [0x00007FFB7C37CC91+33]\n",
      "\n"
     ]
    },
    {
     "name": "stderr",
     "output_type": "stream",
     "text": [
      "Processing URLs:   3%|    | 793/29446 [1:27:19<51:44:37,  6.50s/it]"
     ]
    },
    {
     "name": "stdout",
     "output_type": "stream",
     "text": [
      "Error fetching URL: https://www.agoda.com/partners/partnersearch.aspx?hid=299473 - Message: no such element: Unable to locate element: {\"method\":\"css selector\",\"selector\":\"a[data-element-name='property-card-content']\"}\n",
      "  (Session info: chrome=130.0.6723.117); For documentation on this error, please visit: https://www.selenium.dev/documentation/webdriver/troubleshooting/errors#no-such-element-exception\n",
      "Stacktrace:\n",
      "\tGetHandleVerifier [0x00007FF6FD4338A5+3004357]\n",
      "\t(No symbol) [0x00007FF6FD0C9970]\n",
      "\t(No symbol) [0x00007FF6FCF7582A]\n",
      "\t(No symbol) [0x00007FF6FCFC5B8E]\n",
      "\t(No symbol) [0x00007FF6FCFC5E7C]\n",
      "\t(No symbol) [0x00007FF6FD00EC27]\n",
      "\t(No symbol) [0x00007FF6FCFEBC1F]\n",
      "\t(No symbol) [0x00007FF6FD00BA4C]\n",
      "\t(No symbol) [0x00007FF6FCFEB983]\n",
      "\t(No symbol) [0x00007FF6FCFB7628]\n",
      "\t(No symbol) [0x00007FF6FCFB8791]\n",
      "\tGetHandleVerifier [0x00007FF6FD45A00D+3161901]\n",
      "\tGetHandleVerifier [0x00007FF6FD4AE060+3506048]\n",
      "\tGetHandleVerifier [0x00007FF6FD4A400D+3465005]\n",
      "\tGetHandleVerifier [0x00007FF6FD220EEB+830987]\n",
      "\t(No symbol) [0x00007FF6FD0D467F]\n",
      "\t(No symbol) [0x00007FF6FD0D09D4]\n",
      "\t(No symbol) [0x00007FF6FD0D0B6D]\n",
      "\t(No symbol) [0x00007FF6FD0C0149]\n",
      "\tBaseThreadInitThunk [0x00007FFB7AAA7374+20]\n",
      "\tRtlUserThreadStart [0x00007FFB7C37CC91+33]\n",
      "\n"
     ]
    },
    {
     "name": "stderr",
     "output_type": "stream",
     "text": [
      "Processing URLs:   3%|    | 794/29446 [1:27:26<52:26:08,  6.59s/it]"
     ]
    },
    {
     "name": "stdout",
     "output_type": "stream",
     "text": [
      "Error fetching URL: https://www.agoda.com/partners/partnersearch.aspx?hid=299988 - Message: no such element: Unable to locate element: {\"method\":\"css selector\",\"selector\":\"a[data-element-name='property-card-content']\"}\n",
      "  (Session info: chrome=130.0.6723.117); For documentation on this error, please visit: https://www.selenium.dev/documentation/webdriver/troubleshooting/errors#no-such-element-exception\n",
      "Stacktrace:\n",
      "\tGetHandleVerifier [0x00007FF6FD4338A5+3004357]\n",
      "\t(No symbol) [0x00007FF6FD0C9970]\n",
      "\t(No symbol) [0x00007FF6FCF7582A]\n",
      "\t(No symbol) [0x00007FF6FCFC5B8E]\n",
      "\t(No symbol) [0x00007FF6FCFC5E7C]\n",
      "\t(No symbol) [0x00007FF6FD00EC27]\n",
      "\t(No symbol) [0x00007FF6FCFEBC1F]\n",
      "\t(No symbol) [0x00007FF6FD00BA4C]\n",
      "\t(No symbol) [0x00007FF6FCFEB983]\n",
      "\t(No symbol) [0x00007FF6FCFB7628]\n",
      "\t(No symbol) [0x00007FF6FCFB8791]\n",
      "\tGetHandleVerifier [0x00007FF6FD45A00D+3161901]\n",
      "\tGetHandleVerifier [0x00007FF6FD4AE060+3506048]\n",
      "\tGetHandleVerifier [0x00007FF6FD4A400D+3465005]\n",
      "\tGetHandleVerifier [0x00007FF6FD220EEB+830987]\n",
      "\t(No symbol) [0x00007FF6FD0D467F]\n",
      "\t(No symbol) [0x00007FF6FD0D09D4]\n",
      "\t(No symbol) [0x00007FF6FD0D0B6D]\n",
      "\t(No symbol) [0x00007FF6FD0C0149]\n",
      "\tBaseThreadInitThunk [0x00007FFB7AAA7374+20]\n",
      "\tRtlUserThreadStart [0x00007FFB7C37CC91+33]\n",
      "\n"
     ]
    },
    {
     "name": "stderr",
     "output_type": "stream",
     "text": [
      "Processing URLs:   3%|    | 795/29446 [1:27:33<52:55:14,  6.65s/it]"
     ]
    },
    {
     "name": "stdout",
     "output_type": "stream",
     "text": [
      "Error fetching URL: https://www.agoda.com/partners/partnersearch.aspx?hid=300021 - Message: no such element: Unable to locate element: {\"method\":\"css selector\",\"selector\":\"a[data-element-name='property-card-content']\"}\n",
      "  (Session info: chrome=130.0.6723.117); For documentation on this error, please visit: https://www.selenium.dev/documentation/webdriver/troubleshooting/errors#no-such-element-exception\n",
      "Stacktrace:\n",
      "\tGetHandleVerifier [0x00007FF6FD4338A5+3004357]\n",
      "\t(No symbol) [0x00007FF6FD0C9970]\n",
      "\t(No symbol) [0x00007FF6FCF7582A]\n",
      "\t(No symbol) [0x00007FF6FCFC5B8E]\n",
      "\t(No symbol) [0x00007FF6FCFC5E7C]\n",
      "\t(No symbol) [0x00007FF6FD00EC27]\n",
      "\t(No symbol) [0x00007FF6FCFEBC1F]\n",
      "\t(No symbol) [0x00007FF6FD00BA4C]\n",
      "\t(No symbol) [0x00007FF6FCFEB983]\n",
      "\t(No symbol) [0x00007FF6FCFB7628]\n",
      "\t(No symbol) [0x00007FF6FCFB8791]\n",
      "\tGetHandleVerifier [0x00007FF6FD45A00D+3161901]\n",
      "\tGetHandleVerifier [0x00007FF6FD4AE060+3506048]\n",
      "\tGetHandleVerifier [0x00007FF6FD4A400D+3465005]\n",
      "\tGetHandleVerifier [0x00007FF6FD220EEB+830987]\n",
      "\t(No symbol) [0x00007FF6FD0D467F]\n",
      "\t(No symbol) [0x00007FF6FD0D09D4]\n",
      "\t(No symbol) [0x00007FF6FD0D0B6D]\n",
      "\t(No symbol) [0x00007FF6FD0C0149]\n",
      "\tBaseThreadInitThunk [0x00007FFB7AAA7374+20]\n",
      "\tRtlUserThreadStart [0x00007FFB7C37CC91+33]\n",
      "\n"
     ]
    },
    {
     "name": "stderr",
     "output_type": "stream",
     "text": [
      "Processing URLs:   3%|    | 797/29446 [1:27:46<52:20:35,  6.58s/it]"
     ]
    },
    {
     "name": "stdout",
     "output_type": "stream",
     "text": [
      "Error fetching URL: https://www.agoda.com/partners/partnersearch.aspx?hid=300140 - Message: no such element: Unable to locate element: {\"method\":\"css selector\",\"selector\":\"a[data-element-name='property-card-content']\"}\n",
      "  (Session info: chrome=130.0.6723.117); For documentation on this error, please visit: https://www.selenium.dev/documentation/webdriver/troubleshooting/errors#no-such-element-exception\n",
      "Stacktrace:\n",
      "\tGetHandleVerifier [0x00007FF6FD4338A5+3004357]\n",
      "\t(No symbol) [0x00007FF6FD0C9970]\n",
      "\t(No symbol) [0x00007FF6FCF7582A]\n",
      "\t(No symbol) [0x00007FF6FCFC5B8E]\n",
      "\t(No symbol) [0x00007FF6FCFC5E7C]\n",
      "\t(No symbol) [0x00007FF6FD00EC27]\n",
      "\t(No symbol) [0x00007FF6FCFEBC1F]\n",
      "\t(No symbol) [0x00007FF6FD00BA4C]\n",
      "\t(No symbol) [0x00007FF6FCFEB983]\n",
      "\t(No symbol) [0x00007FF6FCFB7628]\n",
      "\t(No symbol) [0x00007FF6FCFB8791]\n",
      "\tGetHandleVerifier [0x00007FF6FD45A00D+3161901]\n",
      "\tGetHandleVerifier [0x00007FF6FD4AE060+3506048]\n",
      "\tGetHandleVerifier [0x00007FF6FD4A400D+3465005]\n",
      "\tGetHandleVerifier [0x00007FF6FD220EEB+830987]\n",
      "\t(No symbol) [0x00007FF6FD0D467F]\n",
      "\t(No symbol) [0x00007FF6FD0D09D4]\n",
      "\t(No symbol) [0x00007FF6FD0D0B6D]\n",
      "\t(No symbol) [0x00007FF6FD0C0149]\n",
      "\tBaseThreadInitThunk [0x00007FFB7AAA7374+20]\n",
      "\tRtlUserThreadStart [0x00007FFB7C37CC91+33]\n",
      "\n"
     ]
    },
    {
     "name": "stderr",
     "output_type": "stream",
     "text": [
      "Processing URLs:   3%|    | 798/29446 [1:27:52<52:15:50,  6.57s/it]"
     ]
    },
    {
     "name": "stdout",
     "output_type": "stream",
     "text": [
      "Error fetching URL: https://www.agoda.com/partners/partnersearch.aspx?hid=300212 - Message: no such element: Unable to locate element: {\"method\":\"css selector\",\"selector\":\"a[data-element-name='property-card-content']\"}\n",
      "  (Session info: chrome=130.0.6723.117); For documentation on this error, please visit: https://www.selenium.dev/documentation/webdriver/troubleshooting/errors#no-such-element-exception\n",
      "Stacktrace:\n",
      "\tGetHandleVerifier [0x00007FF6FD4338A5+3004357]\n",
      "\t(No symbol) [0x00007FF6FD0C9970]\n",
      "\t(No symbol) [0x00007FF6FCF7582A]\n",
      "\t(No symbol) [0x00007FF6FCFC5B8E]\n",
      "\t(No symbol) [0x00007FF6FCFC5E7C]\n",
      "\t(No symbol) [0x00007FF6FD00EC27]\n",
      "\t(No symbol) [0x00007FF6FCFEBC1F]\n",
      "\t(No symbol) [0x00007FF6FD00BA4C]\n",
      "\t(No symbol) [0x00007FF6FCFEB983]\n",
      "\t(No symbol) [0x00007FF6FCFB7628]\n",
      "\t(No symbol) [0x00007FF6FCFB8791]\n",
      "\tGetHandleVerifier [0x00007FF6FD45A00D+3161901]\n",
      "\tGetHandleVerifier [0x00007FF6FD4AE060+3506048]\n",
      "\tGetHandleVerifier [0x00007FF6FD4A400D+3465005]\n",
      "\tGetHandleVerifier [0x00007FF6FD220EEB+830987]\n",
      "\t(No symbol) [0x00007FF6FD0D467F]\n",
      "\t(No symbol) [0x00007FF6FD0D09D4]\n",
      "\t(No symbol) [0x00007FF6FD0D0B6D]\n",
      "\t(No symbol) [0x00007FF6FD0C0149]\n",
      "\tBaseThreadInitThunk [0x00007FFB7AAA7374+20]\n",
      "\tRtlUserThreadStart [0x00007FFB7C37CC91+33]\n",
      "\n"
     ]
    },
    {
     "name": "stderr",
     "output_type": "stream",
     "text": [
      "Processing URLs:   3%|    | 799/29446 [1:27:59<51:55:27,  6.53s/it]"
     ]
    },
    {
     "name": "stdout",
     "output_type": "stream",
     "text": [
      "Error fetching URL: https://www.agoda.com/partners/partnersearch.aspx?hid=300216 - Message: no such element: Unable to locate element: {\"method\":\"css selector\",\"selector\":\"a[data-element-name='property-card-content']\"}\n",
      "  (Session info: chrome=130.0.6723.117); For documentation on this error, please visit: https://www.selenium.dev/documentation/webdriver/troubleshooting/errors#no-such-element-exception\n",
      "Stacktrace:\n",
      "\tGetHandleVerifier [0x00007FF6FD4338A5+3004357]\n",
      "\t(No symbol) [0x00007FF6FD0C9970]\n",
      "\t(No symbol) [0x00007FF6FCF7582A]\n",
      "\t(No symbol) [0x00007FF6FCFC5B8E]\n",
      "\t(No symbol) [0x00007FF6FCFC5E7C]\n",
      "\t(No symbol) [0x00007FF6FD00EC27]\n",
      "\t(No symbol) [0x00007FF6FCFEBC1F]\n",
      "\t(No symbol) [0x00007FF6FD00BA4C]\n",
      "\t(No symbol) [0x00007FF6FCFEB983]\n",
      "\t(No symbol) [0x00007FF6FCFB7628]\n",
      "\t(No symbol) [0x00007FF6FCFB8791]\n",
      "\tGetHandleVerifier [0x00007FF6FD45A00D+3161901]\n",
      "\tGetHandleVerifier [0x00007FF6FD4AE060+3506048]\n",
      "\tGetHandleVerifier [0x00007FF6FD4A400D+3465005]\n",
      "\tGetHandleVerifier [0x00007FF6FD220EEB+830987]\n",
      "\t(No symbol) [0x00007FF6FD0D467F]\n",
      "\t(No symbol) [0x00007FF6FD0D09D4]\n",
      "\t(No symbol) [0x00007FF6FD0D0B6D]\n",
      "\t(No symbol) [0x00007FF6FD0C0149]\n",
      "\tBaseThreadInitThunk [0x00007FFB7AAA7374+20]\n",
      "\tRtlUserThreadStart [0x00007FFB7C37CC91+33]\n",
      "\n"
     ]
    },
    {
     "name": "stderr",
     "output_type": "stream",
     "text": [
      "Processing URLs:   3%|    | 800/29446 [1:28:05<51:20:00,  6.45s/it]"
     ]
    },
    {
     "name": "stdout",
     "output_type": "stream",
     "text": [
      "Error fetching URL: https://www.agoda.com/partners/partnersearch.aspx?hid=300274 - Message: no such element: Unable to locate element: {\"method\":\"css selector\",\"selector\":\"a[data-element-name='property-card-content']\"}\n",
      "  (Session info: chrome=130.0.6723.117); For documentation on this error, please visit: https://www.selenium.dev/documentation/webdriver/troubleshooting/errors#no-such-element-exception\n",
      "Stacktrace:\n",
      "\tGetHandleVerifier [0x00007FF6FD4338A5+3004357]\n",
      "\t(No symbol) [0x00007FF6FD0C9970]\n",
      "\t(No symbol) [0x00007FF6FCF7582A]\n",
      "\t(No symbol) [0x00007FF6FCFC5B8E]\n",
      "\t(No symbol) [0x00007FF6FCFC5E7C]\n",
      "\t(No symbol) [0x00007FF6FD00EC27]\n",
      "\t(No symbol) [0x00007FF6FCFEBC1F]\n",
      "\t(No symbol) [0x00007FF6FD00BA4C]\n",
      "\t(No symbol) [0x00007FF6FCFEB983]\n",
      "\t(No symbol) [0x00007FF6FCFB7628]\n",
      "\t(No symbol) [0x00007FF6FCFB8791]\n",
      "\tGetHandleVerifier [0x00007FF6FD45A00D+3161901]\n",
      "\tGetHandleVerifier [0x00007FF6FD4AE060+3506048]\n",
      "\tGetHandleVerifier [0x00007FF6FD4A400D+3465005]\n",
      "\tGetHandleVerifier [0x00007FF6FD220EEB+830987]\n",
      "\t(No symbol) [0x00007FF6FD0D467F]\n",
      "\t(No symbol) [0x00007FF6FD0D09D4]\n",
      "\t(No symbol) [0x00007FF6FD0D0B6D]\n",
      "\t(No symbol) [0x00007FF6FD0C0149]\n",
      "\tBaseThreadInitThunk [0x00007FFB7AAA7374+20]\n",
      "\tRtlUserThreadStart [0x00007FFB7C37CC91+33]\n",
      "\n"
     ]
    },
    {
     "name": "stderr",
     "output_type": "stream",
     "text": [
      "Processing URLs:   3%|    | 801/29446 [1:28:12<50:59:36,  6.41s/it]"
     ]
    },
    {
     "name": "stdout",
     "output_type": "stream",
     "text": [
      "Error fetching URL: https://www.agoda.com/partners/partnersearch.aspx?hid=300411 - Message: no such element: Unable to locate element: {\"method\":\"css selector\",\"selector\":\"a[data-element-name='property-card-content']\"}\n",
      "  (Session info: chrome=130.0.6723.117); For documentation on this error, please visit: https://www.selenium.dev/documentation/webdriver/troubleshooting/errors#no-such-element-exception\n",
      "Stacktrace:\n",
      "\tGetHandleVerifier [0x00007FF6FD4338A5+3004357]\n",
      "\t(No symbol) [0x00007FF6FD0C9970]\n",
      "\t(No symbol) [0x00007FF6FCF7582A]\n",
      "\t(No symbol) [0x00007FF6FCFC5B8E]\n",
      "\t(No symbol) [0x00007FF6FCFC5E7C]\n",
      "\t(No symbol) [0x00007FF6FD00EC27]\n",
      "\t(No symbol) [0x00007FF6FCFEBC1F]\n",
      "\t(No symbol) [0x00007FF6FD00BA4C]\n",
      "\t(No symbol) [0x00007FF6FCFEB983]\n",
      "\t(No symbol) [0x00007FF6FCFB7628]\n",
      "\t(No symbol) [0x00007FF6FCFB8791]\n",
      "\tGetHandleVerifier [0x00007FF6FD45A00D+3161901]\n",
      "\tGetHandleVerifier [0x00007FF6FD4AE060+3506048]\n",
      "\tGetHandleVerifier [0x00007FF6FD4A400D+3465005]\n",
      "\tGetHandleVerifier [0x00007FF6FD220EEB+830987]\n",
      "\t(No symbol) [0x00007FF6FD0D467F]\n",
      "\t(No symbol) [0x00007FF6FD0D09D4]\n",
      "\t(No symbol) [0x00007FF6FD0D0B6D]\n",
      "\t(No symbol) [0x00007FF6FD0C0149]\n",
      "\tBaseThreadInitThunk [0x00007FFB7AAA7374+20]\n",
      "\tRtlUserThreadStart [0x00007FFB7C37CC91+33]\n",
      "\n"
     ]
    },
    {
     "name": "stderr",
     "output_type": "stream",
     "text": [
      "Processing URLs:   3%|    | 802/29446 [1:28:18<51:27:51,  6.47s/it]"
     ]
    },
    {
     "name": "stdout",
     "output_type": "stream",
     "text": [
      "Error fetching URL: https://www.agoda.com/partners/partnersearch.aspx?hid=300542 - Message: no such element: Unable to locate element: {\"method\":\"css selector\",\"selector\":\"a[data-element-name='property-card-content']\"}\n",
      "  (Session info: chrome=130.0.6723.117); For documentation on this error, please visit: https://www.selenium.dev/documentation/webdriver/troubleshooting/errors#no-such-element-exception\n",
      "Stacktrace:\n",
      "\tGetHandleVerifier [0x00007FF6FD4338A5+3004357]\n",
      "\t(No symbol) [0x00007FF6FD0C9970]\n",
      "\t(No symbol) [0x00007FF6FCF7582A]\n",
      "\t(No symbol) [0x00007FF6FCFC5B8E]\n",
      "\t(No symbol) [0x00007FF6FCFC5E7C]\n",
      "\t(No symbol) [0x00007FF6FD00EC27]\n",
      "\t(No symbol) [0x00007FF6FCFEBC1F]\n",
      "\t(No symbol) [0x00007FF6FD00BA4C]\n",
      "\t(No symbol) [0x00007FF6FCFEB983]\n",
      "\t(No symbol) [0x00007FF6FCFB7628]\n",
      "\t(No symbol) [0x00007FF6FCFB8791]\n",
      "\tGetHandleVerifier [0x00007FF6FD45A00D+3161901]\n",
      "\tGetHandleVerifier [0x00007FF6FD4AE060+3506048]\n",
      "\tGetHandleVerifier [0x00007FF6FD4A400D+3465005]\n",
      "\tGetHandleVerifier [0x00007FF6FD220EEB+830987]\n",
      "\t(No symbol) [0x00007FF6FD0D467F]\n",
      "\t(No symbol) [0x00007FF6FD0D09D4]\n",
      "\t(No symbol) [0x00007FF6FD0D0B6D]\n",
      "\t(No symbol) [0x00007FF6FD0C0149]\n",
      "\tBaseThreadInitThunk [0x00007FFB7AAA7374+20]\n",
      "\tRtlUserThreadStart [0x00007FFB7C37CC91+33]\n",
      "\n"
     ]
    },
    {
     "name": "stderr",
     "output_type": "stream",
     "text": [
      "Processing URLs:   3%|    | 803/29446 [1:28:25<51:44:51,  6.50s/it]"
     ]
    },
    {
     "name": "stdout",
     "output_type": "stream",
     "text": [
      "Error fetching URL: https://www.agoda.com/partners/partnersearch.aspx?hid=300783 - Message: no such element: Unable to locate element: {\"method\":\"css selector\",\"selector\":\"a[data-element-name='property-card-content']\"}\n",
      "  (Session info: chrome=130.0.6723.117); For documentation on this error, please visit: https://www.selenium.dev/documentation/webdriver/troubleshooting/errors#no-such-element-exception\n",
      "Stacktrace:\n",
      "\tGetHandleVerifier [0x00007FF6FD4338A5+3004357]\n",
      "\t(No symbol) [0x00007FF6FD0C9970]\n",
      "\t(No symbol) [0x00007FF6FCF7582A]\n",
      "\t(No symbol) [0x00007FF6FCFC5B8E]\n",
      "\t(No symbol) [0x00007FF6FCFC5E7C]\n",
      "\t(No symbol) [0x00007FF6FD00EC27]\n",
      "\t(No symbol) [0x00007FF6FCFEBC1F]\n",
      "\t(No symbol) [0x00007FF6FD00BA4C]\n",
      "\t(No symbol) [0x00007FF6FCFEB983]\n",
      "\t(No symbol) [0x00007FF6FCFB7628]\n",
      "\t(No symbol) [0x00007FF6FCFB8791]\n",
      "\tGetHandleVerifier [0x00007FF6FD45A00D+3161901]\n",
      "\tGetHandleVerifier [0x00007FF6FD4AE060+3506048]\n",
      "\tGetHandleVerifier [0x00007FF6FD4A400D+3465005]\n",
      "\tGetHandleVerifier [0x00007FF6FD220EEB+830987]\n",
      "\t(No symbol) [0x00007FF6FD0D467F]\n",
      "\t(No symbol) [0x00007FF6FD0D09D4]\n",
      "\t(No symbol) [0x00007FF6FD0D0B6D]\n",
      "\t(No symbol) [0x00007FF6FD0C0149]\n",
      "\tBaseThreadInitThunk [0x00007FFB7AAA7374+20]\n",
      "\tRtlUserThreadStart [0x00007FFB7C37CC91+33]\n",
      "\n"
     ]
    },
    {
     "name": "stderr",
     "output_type": "stream",
     "text": [
      "Processing URLs:   3%|    | 804/29446 [1:28:31<52:01:58,  6.54s/it]"
     ]
    },
    {
     "name": "stdout",
     "output_type": "stream",
     "text": [
      "Error fetching URL: https://www.agoda.com/partners/partnersearch.aspx?hid=300921 - Message: no such element: Unable to locate element: {\"method\":\"css selector\",\"selector\":\"a[data-element-name='property-card-content']\"}\n",
      "  (Session info: chrome=130.0.6723.117); For documentation on this error, please visit: https://www.selenium.dev/documentation/webdriver/troubleshooting/errors#no-such-element-exception\n",
      "Stacktrace:\n",
      "\tGetHandleVerifier [0x00007FF6FD4338A5+3004357]\n",
      "\t(No symbol) [0x00007FF6FD0C9970]\n",
      "\t(No symbol) [0x00007FF6FCF7582A]\n",
      "\t(No symbol) [0x00007FF6FCFC5B8E]\n",
      "\t(No symbol) [0x00007FF6FCFC5E7C]\n",
      "\t(No symbol) [0x00007FF6FD00EC27]\n",
      "\t(No symbol) [0x00007FF6FCFEBC1F]\n",
      "\t(No symbol) [0x00007FF6FD00BA4C]\n",
      "\t(No symbol) [0x00007FF6FCFEB983]\n",
      "\t(No symbol) [0x00007FF6FCFB7628]\n",
      "\t(No symbol) [0x00007FF6FCFB8791]\n",
      "\tGetHandleVerifier [0x00007FF6FD45A00D+3161901]\n",
      "\tGetHandleVerifier [0x00007FF6FD4AE060+3506048]\n",
      "\tGetHandleVerifier [0x00007FF6FD4A400D+3465005]\n",
      "\tGetHandleVerifier [0x00007FF6FD220EEB+830987]\n",
      "\t(No symbol) [0x00007FF6FD0D467F]\n",
      "\t(No symbol) [0x00007FF6FD0D09D4]\n",
      "\t(No symbol) [0x00007FF6FD0D0B6D]\n",
      "\t(No symbol) [0x00007FF6FD0C0149]\n",
      "\tBaseThreadInitThunk [0x00007FFB7AAA7374+20]\n",
      "\tRtlUserThreadStart [0x00007FFB7C37CC91+33]\n",
      "\n"
     ]
    },
    {
     "name": "stderr",
     "output_type": "stream",
     "text": [
      "Processing URLs:   3%|    | 805/29446 [1:28:38<51:33:19,  6.48s/it]"
     ]
    },
    {
     "name": "stdout",
     "output_type": "stream",
     "text": [
      "Error fetching URL: https://www.agoda.com/partners/partnersearch.aspx?hid=300929 - Message: no such element: Unable to locate element: {\"method\":\"css selector\",\"selector\":\"a[data-element-name='property-card-content']\"}\n",
      "  (Session info: chrome=130.0.6723.117); For documentation on this error, please visit: https://www.selenium.dev/documentation/webdriver/troubleshooting/errors#no-such-element-exception\n",
      "Stacktrace:\n",
      "\tGetHandleVerifier [0x00007FF6FD4338A5+3004357]\n",
      "\t(No symbol) [0x00007FF6FD0C9970]\n",
      "\t(No symbol) [0x00007FF6FCF7582A]\n",
      "\t(No symbol) [0x00007FF6FCFC5B8E]\n",
      "\t(No symbol) [0x00007FF6FCFC5E7C]\n",
      "\t(No symbol) [0x00007FF6FD00EC27]\n",
      "\t(No symbol) [0x00007FF6FCFEBC1F]\n",
      "\t(No symbol) [0x00007FF6FD00BA4C]\n",
      "\t(No symbol) [0x00007FF6FCFEB983]\n",
      "\t(No symbol) [0x00007FF6FCFB7628]\n",
      "\t(No symbol) [0x00007FF6FCFB8791]\n",
      "\tGetHandleVerifier [0x00007FF6FD45A00D+3161901]\n",
      "\tGetHandleVerifier [0x00007FF6FD4AE060+3506048]\n",
      "\tGetHandleVerifier [0x00007FF6FD4A400D+3465005]\n",
      "\tGetHandleVerifier [0x00007FF6FD220EEB+830987]\n",
      "\t(No symbol) [0x00007FF6FD0D467F]\n",
      "\t(No symbol) [0x00007FF6FD0D09D4]\n",
      "\t(No symbol) [0x00007FF6FD0D0B6D]\n",
      "\t(No symbol) [0x00007FF6FD0C0149]\n",
      "\tBaseThreadInitThunk [0x00007FFB7AAA7374+20]\n",
      "\tRtlUserThreadStart [0x00007FFB7C37CC91+33]\n",
      "\n"
     ]
    },
    {
     "name": "stderr",
     "output_type": "stream",
     "text": [
      "Processing URLs:   3%|    | 811/29446 [1:29:17<52:15:57,  6.57s/it]"
     ]
    },
    {
     "name": "stdout",
     "output_type": "stream",
     "text": [
      "Error fetching URL: https://www.agoda.com/partners/partnersearch.aspx?hid=301701 - Message: no such element: Unable to locate element: {\"method\":\"css selector\",\"selector\":\"a[data-element-name='property-card-content']\"}\n",
      "  (Session info: chrome=130.0.6723.117); For documentation on this error, please visit: https://www.selenium.dev/documentation/webdriver/troubleshooting/errors#no-such-element-exception\n",
      "Stacktrace:\n",
      "\tGetHandleVerifier [0x00007FF6FD4338A5+3004357]\n",
      "\t(No symbol) [0x00007FF6FD0C9970]\n",
      "\t(No symbol) [0x00007FF6FCF7582A]\n",
      "\t(No symbol) [0x00007FF6FCFC5B8E]\n",
      "\t(No symbol) [0x00007FF6FCFC5E7C]\n",
      "\t(No symbol) [0x00007FF6FD00EC27]\n",
      "\t(No symbol) [0x00007FF6FCFEBC1F]\n",
      "\t(No symbol) [0x00007FF6FD00BA4C]\n",
      "\t(No symbol) [0x00007FF6FCFEB983]\n",
      "\t(No symbol) [0x00007FF6FCFB7628]\n",
      "\t(No symbol) [0x00007FF6FCFB8791]\n",
      "\tGetHandleVerifier [0x00007FF6FD45A00D+3161901]\n",
      "\tGetHandleVerifier [0x00007FF6FD4AE060+3506048]\n",
      "\tGetHandleVerifier [0x00007FF6FD4A400D+3465005]\n",
      "\tGetHandleVerifier [0x00007FF6FD220EEB+830987]\n",
      "\t(No symbol) [0x00007FF6FD0D467F]\n",
      "\t(No symbol) [0x00007FF6FD0D09D4]\n",
      "\t(No symbol) [0x00007FF6FD0D0B6D]\n",
      "\t(No symbol) [0x00007FF6FD0C0149]\n",
      "\tBaseThreadInitThunk [0x00007FFB7AAA7374+20]\n",
      "\tRtlUserThreadStart [0x00007FFB7C37CC91+33]\n",
      "\n"
     ]
    },
    {
     "name": "stderr",
     "output_type": "stream",
     "text": [
      "Processing URLs:   3%|    | 812/29446 [1:29:23<51:39:06,  6.49s/it]"
     ]
    },
    {
     "name": "stdout",
     "output_type": "stream",
     "text": [
      "Error fetching URL: https://www.agoda.com/partners/partnersearch.aspx?hid=301716 - Message: no such element: Unable to locate element: {\"method\":\"css selector\",\"selector\":\"a[data-element-name='property-card-content']\"}\n",
      "  (Session info: chrome=130.0.6723.117); For documentation on this error, please visit: https://www.selenium.dev/documentation/webdriver/troubleshooting/errors#no-such-element-exception\n",
      "Stacktrace:\n",
      "\tGetHandleVerifier [0x00007FF6FD4338A5+3004357]\n",
      "\t(No symbol) [0x00007FF6FD0C9970]\n",
      "\t(No symbol) [0x00007FF6FCF7582A]\n",
      "\t(No symbol) [0x00007FF6FCFC5B8E]\n",
      "\t(No symbol) [0x00007FF6FCFC5E7C]\n",
      "\t(No symbol) [0x00007FF6FD00EC27]\n",
      "\t(No symbol) [0x00007FF6FCFEBC1F]\n",
      "\t(No symbol) [0x00007FF6FD00BA4C]\n",
      "\t(No symbol) [0x00007FF6FCFEB983]\n",
      "\t(No symbol) [0x00007FF6FCFB7628]\n",
      "\t(No symbol) [0x00007FF6FCFB8791]\n",
      "\tGetHandleVerifier [0x00007FF6FD45A00D+3161901]\n",
      "\tGetHandleVerifier [0x00007FF6FD4AE060+3506048]\n",
      "\tGetHandleVerifier [0x00007FF6FD4A400D+3465005]\n",
      "\tGetHandleVerifier [0x00007FF6FD220EEB+830987]\n",
      "\t(No symbol) [0x00007FF6FD0D467F]\n",
      "\t(No symbol) [0x00007FF6FD0D09D4]\n",
      "\t(No symbol) [0x00007FF6FD0D0B6D]\n",
      "\t(No symbol) [0x00007FF6FD0C0149]\n",
      "\tBaseThreadInitThunk [0x00007FFB7AAA7374+20]\n",
      "\tRtlUserThreadStart [0x00007FFB7C37CC91+33]\n",
      "\n"
     ]
    },
    {
     "name": "stderr",
     "output_type": "stream",
     "text": [
      "Processing URLs:   3%|    | 813/29446 [1:29:30<52:01:03,  6.54s/it]"
     ]
    },
    {
     "name": "stdout",
     "output_type": "stream",
     "text": [
      "Error fetching URL: https://www.agoda.com/partners/partnersearch.aspx?hid=301833 - Message: no such element: Unable to locate element: {\"method\":\"css selector\",\"selector\":\"a[data-element-name='property-card-content']\"}\n",
      "  (Session info: chrome=130.0.6723.117); For documentation on this error, please visit: https://www.selenium.dev/documentation/webdriver/troubleshooting/errors#no-such-element-exception\n",
      "Stacktrace:\n",
      "\tGetHandleVerifier [0x00007FF6FD4338A5+3004357]\n",
      "\t(No symbol) [0x00007FF6FD0C9970]\n",
      "\t(No symbol) [0x00007FF6FCF7582A]\n",
      "\t(No symbol) [0x00007FF6FCFC5B8E]\n",
      "\t(No symbol) [0x00007FF6FCFC5E7C]\n",
      "\t(No symbol) [0x00007FF6FD00EC27]\n",
      "\t(No symbol) [0x00007FF6FCFEBC1F]\n",
      "\t(No symbol) [0x00007FF6FD00BA4C]\n",
      "\t(No symbol) [0x00007FF6FCFEB983]\n",
      "\t(No symbol) [0x00007FF6FCFB7628]\n",
      "\t(No symbol) [0x00007FF6FCFB8791]\n",
      "\tGetHandleVerifier [0x00007FF6FD45A00D+3161901]\n",
      "\tGetHandleVerifier [0x00007FF6FD4AE060+3506048]\n",
      "\tGetHandleVerifier [0x00007FF6FD4A400D+3465005]\n",
      "\tGetHandleVerifier [0x00007FF6FD220EEB+830987]\n",
      "\t(No symbol) [0x00007FF6FD0D467F]\n",
      "\t(No symbol) [0x00007FF6FD0D09D4]\n",
      "\t(No symbol) [0x00007FF6FD0D0B6D]\n",
      "\t(No symbol) [0x00007FF6FD0C0149]\n",
      "\tBaseThreadInitThunk [0x00007FFB7AAA7374+20]\n",
      "\tRtlUserThreadStart [0x00007FFB7C37CC91+33]\n",
      "\n"
     ]
    },
    {
     "name": "stderr",
     "output_type": "stream",
     "text": [
      "Processing URLs:   3%|    | 814/29446 [1:29:36<51:31:27,  6.48s/it]"
     ]
    },
    {
     "name": "stdout",
     "output_type": "stream",
     "text": [
      "Error fetching URL: https://www.agoda.com/partners/partnersearch.aspx?hid=301975 - Message: no such element: Unable to locate element: {\"method\":\"css selector\",\"selector\":\"a[data-element-name='property-card-content']\"}\n",
      "  (Session info: chrome=130.0.6723.117); For documentation on this error, please visit: https://www.selenium.dev/documentation/webdriver/troubleshooting/errors#no-such-element-exception\n",
      "Stacktrace:\n",
      "\tGetHandleVerifier [0x00007FF6FD4338A5+3004357]\n",
      "\t(No symbol) [0x00007FF6FD0C9970]\n",
      "\t(No symbol) [0x00007FF6FCF7582A]\n",
      "\t(No symbol) [0x00007FF6FCFC5B8E]\n",
      "\t(No symbol) [0x00007FF6FCFC5E7C]\n",
      "\t(No symbol) [0x00007FF6FD00EC27]\n",
      "\t(No symbol) [0x00007FF6FCFEBC1F]\n",
      "\t(No symbol) [0x00007FF6FD00BA4C]\n",
      "\t(No symbol) [0x00007FF6FCFEB983]\n",
      "\t(No symbol) [0x00007FF6FCFB7628]\n",
      "\t(No symbol) [0x00007FF6FCFB8791]\n",
      "\tGetHandleVerifier [0x00007FF6FD45A00D+3161901]\n",
      "\tGetHandleVerifier [0x00007FF6FD4AE060+3506048]\n",
      "\tGetHandleVerifier [0x00007FF6FD4A400D+3465005]\n",
      "\tGetHandleVerifier [0x00007FF6FD220EEB+830987]\n",
      "\t(No symbol) [0x00007FF6FD0D467F]\n",
      "\t(No symbol) [0x00007FF6FD0D09D4]\n",
      "\t(No symbol) [0x00007FF6FD0D0B6D]\n",
      "\t(No symbol) [0x00007FF6FD0C0149]\n",
      "\tBaseThreadInitThunk [0x00007FFB7AAA7374+20]\n",
      "\tRtlUserThreadStart [0x00007FFB7C37CC91+33]\n",
      "\n"
     ]
    },
    {
     "name": "stderr",
     "output_type": "stream",
     "text": [
      "Processing URLs:   3%|    | 819/29446 [1:30:10<53:29:08,  6.73s/it]"
     ]
    },
    {
     "name": "stdout",
     "output_type": "stream",
     "text": [
      "Error fetching URL: https://www.agoda.com/partners/partnersearch.aspx?hid=302649 - Message: no such element: Unable to locate element: {\"method\":\"css selector\",\"selector\":\"a[data-element-name='property-card-content']\"}\n",
      "  (Session info: chrome=130.0.6723.117); For documentation on this error, please visit: https://www.selenium.dev/documentation/webdriver/troubleshooting/errors#no-such-element-exception\n",
      "Stacktrace:\n",
      "\tGetHandleVerifier [0x00007FF6FD4338A5+3004357]\n",
      "\t(No symbol) [0x00007FF6FD0C9970]\n",
      "\t(No symbol) [0x00007FF6FCF7582A]\n",
      "\t(No symbol) [0x00007FF6FCFC5B8E]\n",
      "\t(No symbol) [0x00007FF6FCFC5E7C]\n",
      "\t(No symbol) [0x00007FF6FD00EC27]\n",
      "\t(No symbol) [0x00007FF6FCFEBC1F]\n",
      "\t(No symbol) [0x00007FF6FD00BA4C]\n",
      "\t(No symbol) [0x00007FF6FCFEB983]\n",
      "\t(No symbol) [0x00007FF6FCFB7628]\n",
      "\t(No symbol) [0x00007FF6FCFB8791]\n",
      "\tGetHandleVerifier [0x00007FF6FD45A00D+3161901]\n",
      "\tGetHandleVerifier [0x00007FF6FD4AE060+3506048]\n",
      "\tGetHandleVerifier [0x00007FF6FD4A400D+3465005]\n",
      "\tGetHandleVerifier [0x00007FF6FD220EEB+830987]\n",
      "\t(No symbol) [0x00007FF6FD0D467F]\n",
      "\t(No symbol) [0x00007FF6FD0D09D4]\n",
      "\t(No symbol) [0x00007FF6FD0D0B6D]\n",
      "\t(No symbol) [0x00007FF6FD0C0149]\n",
      "\tBaseThreadInitThunk [0x00007FFB7AAA7374+20]\n",
      "\tRtlUserThreadStart [0x00007FFB7C37CC91+33]\n",
      "\n"
     ]
    },
    {
     "name": "stderr",
     "output_type": "stream",
     "text": [
      "Processing URLs:   3%|    | 820/29446 [1:30:17<53:10:26,  6.69s/it]"
     ]
    },
    {
     "name": "stdout",
     "output_type": "stream",
     "text": [
      "Error fetching URL: https://www.agoda.com/partners/partnersearch.aspx?hid=302650 - Message: no such element: Unable to locate element: {\"method\":\"css selector\",\"selector\":\"a[data-element-name='property-card-content']\"}\n",
      "  (Session info: chrome=130.0.6723.117); For documentation on this error, please visit: https://www.selenium.dev/documentation/webdriver/troubleshooting/errors#no-such-element-exception\n",
      "Stacktrace:\n",
      "\tGetHandleVerifier [0x00007FF6FD4338A5+3004357]\n",
      "\t(No symbol) [0x00007FF6FD0C9970]\n",
      "\t(No symbol) [0x00007FF6FCF7582A]\n",
      "\t(No symbol) [0x00007FF6FCFC5B8E]\n",
      "\t(No symbol) [0x00007FF6FCFC5E7C]\n",
      "\t(No symbol) [0x00007FF6FD00EC27]\n",
      "\t(No symbol) [0x00007FF6FCFEBC1F]\n",
      "\t(No symbol) [0x00007FF6FD00BA4C]\n",
      "\t(No symbol) [0x00007FF6FCFEB983]\n",
      "\t(No symbol) [0x00007FF6FCFB7628]\n",
      "\t(No symbol) [0x00007FF6FCFB8791]\n",
      "\tGetHandleVerifier [0x00007FF6FD45A00D+3161901]\n",
      "\tGetHandleVerifier [0x00007FF6FD4AE060+3506048]\n",
      "\tGetHandleVerifier [0x00007FF6FD4A400D+3465005]\n",
      "\tGetHandleVerifier [0x00007FF6FD220EEB+830987]\n",
      "\t(No symbol) [0x00007FF6FD0D467F]\n",
      "\t(No symbol) [0x00007FF6FD0D09D4]\n",
      "\t(No symbol) [0x00007FF6FD0D0B6D]\n",
      "\t(No symbol) [0x00007FF6FD0C0149]\n",
      "\tBaseThreadInitThunk [0x00007FFB7AAA7374+20]\n",
      "\tRtlUserThreadStart [0x00007FFB7C37CC91+33]\n",
      "\n"
     ]
    },
    {
     "name": "stderr",
     "output_type": "stream",
     "text": [
      "Processing URLs:   3%|    | 821/29446 [1:30:23<52:23:26,  6.59s/it]"
     ]
    },
    {
     "name": "stdout",
     "output_type": "stream",
     "text": [
      "Error fetching URL: https://www.agoda.com/partners/partnersearch.aspx?hid=302678 - Message: no such element: Unable to locate element: {\"method\":\"css selector\",\"selector\":\"a[data-element-name='property-card-content']\"}\n",
      "  (Session info: chrome=130.0.6723.117); For documentation on this error, please visit: https://www.selenium.dev/documentation/webdriver/troubleshooting/errors#no-such-element-exception\n",
      "Stacktrace:\n",
      "\tGetHandleVerifier [0x00007FF6FD4338A5+3004357]\n",
      "\t(No symbol) [0x00007FF6FD0C9970]\n",
      "\t(No symbol) [0x00007FF6FCF7582A]\n",
      "\t(No symbol) [0x00007FF6FCFC5B8E]\n",
      "\t(No symbol) [0x00007FF6FCFC5E7C]\n",
      "\t(No symbol) [0x00007FF6FD00EC27]\n",
      "\t(No symbol) [0x00007FF6FCFEBC1F]\n",
      "\t(No symbol) [0x00007FF6FD00BA4C]\n",
      "\t(No symbol) [0x00007FF6FCFEB983]\n",
      "\t(No symbol) [0x00007FF6FCFB7628]\n",
      "\t(No symbol) [0x00007FF6FCFB8791]\n",
      "\tGetHandleVerifier [0x00007FF6FD45A00D+3161901]\n",
      "\tGetHandleVerifier [0x00007FF6FD4AE060+3506048]\n",
      "\tGetHandleVerifier [0x00007FF6FD4A400D+3465005]\n",
      "\tGetHandleVerifier [0x00007FF6FD220EEB+830987]\n",
      "\t(No symbol) [0x00007FF6FD0D467F]\n",
      "\t(No symbol) [0x00007FF6FD0D09D4]\n",
      "\t(No symbol) [0x00007FF6FD0D0B6D]\n",
      "\t(No symbol) [0x00007FF6FD0C0149]\n",
      "\tBaseThreadInitThunk [0x00007FFB7AAA7374+20]\n",
      "\tRtlUserThreadStart [0x00007FFB7C37CC91+33]\n",
      "\n"
     ]
    },
    {
     "name": "stderr",
     "output_type": "stream",
     "text": [
      "Processing URLs:   3%|    | 822/29446 [1:30:29<51:38:51,  6.50s/it]"
     ]
    },
    {
     "name": "stdout",
     "output_type": "stream",
     "text": [
      "Error fetching URL: https://www.agoda.com/partners/partnersearch.aspx?hid=302683 - Message: no such element: Unable to locate element: {\"method\":\"css selector\",\"selector\":\"a[data-element-name='property-card-content']\"}\n",
      "  (Session info: chrome=130.0.6723.117); For documentation on this error, please visit: https://www.selenium.dev/documentation/webdriver/troubleshooting/errors#no-such-element-exception\n",
      "Stacktrace:\n",
      "\tGetHandleVerifier [0x00007FF6FD4338A5+3004357]\n",
      "\t(No symbol) [0x00007FF6FD0C9970]\n",
      "\t(No symbol) [0x00007FF6FCF7582A]\n",
      "\t(No symbol) [0x00007FF6FCFC5B8E]\n",
      "\t(No symbol) [0x00007FF6FCFC5E7C]\n",
      "\t(No symbol) [0x00007FF6FD00EC27]\n",
      "\t(No symbol) [0x00007FF6FCFEBC1F]\n",
      "\t(No symbol) [0x00007FF6FD00BA4C]\n",
      "\t(No symbol) [0x00007FF6FCFEB983]\n",
      "\t(No symbol) [0x00007FF6FCFB7628]\n",
      "\t(No symbol) [0x00007FF6FCFB8791]\n",
      "\tGetHandleVerifier [0x00007FF6FD45A00D+3161901]\n",
      "\tGetHandleVerifier [0x00007FF6FD4AE060+3506048]\n",
      "\tGetHandleVerifier [0x00007FF6FD4A400D+3465005]\n",
      "\tGetHandleVerifier [0x00007FF6FD220EEB+830987]\n",
      "\t(No symbol) [0x00007FF6FD0D467F]\n",
      "\t(No symbol) [0x00007FF6FD0D09D4]\n",
      "\t(No symbol) [0x00007FF6FD0D0B6D]\n",
      "\t(No symbol) [0x00007FF6FD0C0149]\n",
      "\tBaseThreadInitThunk [0x00007FFB7AAA7374+20]\n",
      "\tRtlUserThreadStart [0x00007FFB7C37CC91+33]\n",
      "\n"
     ]
    },
    {
     "name": "stderr",
     "output_type": "stream",
     "text": [
      "Processing URLs:   3%|    | 823/29446 [1:30:36<51:23:35,  6.46s/it]"
     ]
    },
    {
     "name": "stdout",
     "output_type": "stream",
     "text": [
      "Error fetching URL: https://www.agoda.com/partners/partnersearch.aspx?hid=302690 - Message: no such element: Unable to locate element: {\"method\":\"css selector\",\"selector\":\"a[data-element-name='property-card-content']\"}\n",
      "  (Session info: chrome=130.0.6723.117); For documentation on this error, please visit: https://www.selenium.dev/documentation/webdriver/troubleshooting/errors#no-such-element-exception\n",
      "Stacktrace:\n",
      "\tGetHandleVerifier [0x00007FF6FD4338A5+3004357]\n",
      "\t(No symbol) [0x00007FF6FD0C9970]\n",
      "\t(No symbol) [0x00007FF6FCF7582A]\n",
      "\t(No symbol) [0x00007FF6FCFC5B8E]\n",
      "\t(No symbol) [0x00007FF6FCFC5E7C]\n",
      "\t(No symbol) [0x00007FF6FD00EC27]\n",
      "\t(No symbol) [0x00007FF6FCFEBC1F]\n",
      "\t(No symbol) [0x00007FF6FD00BA4C]\n",
      "\t(No symbol) [0x00007FF6FCFEB983]\n",
      "\t(No symbol) [0x00007FF6FCFB7628]\n",
      "\t(No symbol) [0x00007FF6FCFB8791]\n",
      "\tGetHandleVerifier [0x00007FF6FD45A00D+3161901]\n",
      "\tGetHandleVerifier [0x00007FF6FD4AE060+3506048]\n",
      "\tGetHandleVerifier [0x00007FF6FD4A400D+3465005]\n",
      "\tGetHandleVerifier [0x00007FF6FD220EEB+830987]\n",
      "\t(No symbol) [0x00007FF6FD0D467F]\n",
      "\t(No symbol) [0x00007FF6FD0D09D4]\n",
      "\t(No symbol) [0x00007FF6FD0D0B6D]\n",
      "\t(No symbol) [0x00007FF6FD0C0149]\n",
      "\tBaseThreadInitThunk [0x00007FFB7AAA7374+20]\n",
      "\tRtlUserThreadStart [0x00007FFB7C37CC91+33]\n",
      "\n"
     ]
    },
    {
     "name": "stderr",
     "output_type": "stream",
     "text": [
      "Processing URLs:   3%|    | 827/29446 [1:31:02<51:41:26,  6.50s/it]"
     ]
    },
    {
     "name": "stdout",
     "output_type": "stream",
     "text": [
      "Error fetching URL: https://www.agoda.com/partners/partnersearch.aspx?hid=302780 - Message: no such element: Unable to locate element: {\"method\":\"css selector\",\"selector\":\"a[data-element-name='property-card-content']\"}\n",
      "  (Session info: chrome=130.0.6723.117); For documentation on this error, please visit: https://www.selenium.dev/documentation/webdriver/troubleshooting/errors#no-such-element-exception\n",
      "Stacktrace:\n",
      "\tGetHandleVerifier [0x00007FF6FD4338A5+3004357]\n",
      "\t(No symbol) [0x00007FF6FD0C9970]\n",
      "\t(No symbol) [0x00007FF6FCF7582A]\n",
      "\t(No symbol) [0x00007FF6FCFC5B8E]\n",
      "\t(No symbol) [0x00007FF6FCFC5E7C]\n",
      "\t(No symbol) [0x00007FF6FD00EC27]\n",
      "\t(No symbol) [0x00007FF6FCFEBC1F]\n",
      "\t(No symbol) [0x00007FF6FD00BA4C]\n",
      "\t(No symbol) [0x00007FF6FCFEB983]\n",
      "\t(No symbol) [0x00007FF6FCFB7628]\n",
      "\t(No symbol) [0x00007FF6FCFB8791]\n",
      "\tGetHandleVerifier [0x00007FF6FD45A00D+3161901]\n",
      "\tGetHandleVerifier [0x00007FF6FD4AE060+3506048]\n",
      "\tGetHandleVerifier [0x00007FF6FD4A400D+3465005]\n",
      "\tGetHandleVerifier [0x00007FF6FD220EEB+830987]\n",
      "\t(No symbol) [0x00007FF6FD0D467F]\n",
      "\t(No symbol) [0x00007FF6FD0D09D4]\n",
      "\t(No symbol) [0x00007FF6FD0D0B6D]\n",
      "\t(No symbol) [0x00007FF6FD0C0149]\n",
      "\tBaseThreadInitThunk [0x00007FFB7AAA7374+20]\n",
      "\tRtlUserThreadStart [0x00007FFB7C37CC91+33]\n",
      "\n"
     ]
    },
    {
     "name": "stderr",
     "output_type": "stream",
     "text": [
      "Processing URLs:   3%|    | 838/29446 [1:32:17<52:31:38,  6.61s/it]"
     ]
    },
    {
     "name": "stdout",
     "output_type": "stream",
     "text": [
      "Error fetching URL: https://www.agoda.com/partners/partnersearch.aspx?hid=303674 - Message: no such element: Unable to locate element: {\"method\":\"css selector\",\"selector\":\"a[data-element-name='property-card-content']\"}\n",
      "  (Session info: chrome=130.0.6723.117); For documentation on this error, please visit: https://www.selenium.dev/documentation/webdriver/troubleshooting/errors#no-such-element-exception\n",
      "Stacktrace:\n",
      "\tGetHandleVerifier [0x00007FF6FD4338A5+3004357]\n",
      "\t(No symbol) [0x00007FF6FD0C9970]\n",
      "\t(No symbol) [0x00007FF6FCF7582A]\n",
      "\t(No symbol) [0x00007FF6FCFC5B8E]\n",
      "\t(No symbol) [0x00007FF6FCFC5E7C]\n",
      "\t(No symbol) [0x00007FF6FD00EC27]\n",
      "\t(No symbol) [0x00007FF6FCFEBC1F]\n",
      "\t(No symbol) [0x00007FF6FD00BA4C]\n",
      "\t(No symbol) [0x00007FF6FCFEB983]\n",
      "\t(No symbol) [0x00007FF6FCFB7628]\n",
      "\t(No symbol) [0x00007FF6FCFB8791]\n",
      "\tGetHandleVerifier [0x00007FF6FD45A00D+3161901]\n",
      "\tGetHandleVerifier [0x00007FF6FD4AE060+3506048]\n",
      "\tGetHandleVerifier [0x00007FF6FD4A400D+3465005]\n",
      "\tGetHandleVerifier [0x00007FF6FD220EEB+830987]\n",
      "\t(No symbol) [0x00007FF6FD0D467F]\n",
      "\t(No symbol) [0x00007FF6FD0D09D4]\n",
      "\t(No symbol) [0x00007FF6FD0D0B6D]\n",
      "\t(No symbol) [0x00007FF6FD0C0149]\n",
      "\tBaseThreadInitThunk [0x00007FFB7AAA7374+20]\n",
      "\tRtlUserThreadStart [0x00007FFB7C37CC91+33]\n",
      "\n"
     ]
    },
    {
     "name": "stderr",
     "output_type": "stream",
     "text": [
      "Processing URLs:   3%|    | 839/29446 [1:32:23<51:59:57,  6.54s/it]"
     ]
    },
    {
     "name": "stdout",
     "output_type": "stream",
     "text": [
      "Error fetching URL: https://www.agoda.com/partners/partnersearch.aspx?hid=303680 - Message: no such element: Unable to locate element: {\"method\":\"css selector\",\"selector\":\"a[data-element-name='property-card-content']\"}\n",
      "  (Session info: chrome=130.0.6723.117); For documentation on this error, please visit: https://www.selenium.dev/documentation/webdriver/troubleshooting/errors#no-such-element-exception\n",
      "Stacktrace:\n",
      "\tGetHandleVerifier [0x00007FF6FD4338A5+3004357]\n",
      "\t(No symbol) [0x00007FF6FD0C9970]\n",
      "\t(No symbol) [0x00007FF6FCF7582A]\n",
      "\t(No symbol) [0x00007FF6FCFC5B8E]\n",
      "\t(No symbol) [0x00007FF6FCFC5E7C]\n",
      "\t(No symbol) [0x00007FF6FD00EC27]\n",
      "\t(No symbol) [0x00007FF6FCFEBC1F]\n",
      "\t(No symbol) [0x00007FF6FD00BA4C]\n",
      "\t(No symbol) [0x00007FF6FCFEB983]\n",
      "\t(No symbol) [0x00007FF6FCFB7628]\n",
      "\t(No symbol) [0x00007FF6FCFB8791]\n",
      "\tGetHandleVerifier [0x00007FF6FD45A00D+3161901]\n",
      "\tGetHandleVerifier [0x00007FF6FD4AE060+3506048]\n",
      "\tGetHandleVerifier [0x00007FF6FD4A400D+3465005]\n",
      "\tGetHandleVerifier [0x00007FF6FD220EEB+830987]\n",
      "\t(No symbol) [0x00007FF6FD0D467F]\n",
      "\t(No symbol) [0x00007FF6FD0D09D4]\n",
      "\t(No symbol) [0x00007FF6FD0D0B6D]\n",
      "\t(No symbol) [0x00007FF6FD0C0149]\n",
      "\tBaseThreadInitThunk [0x00007FFB7AAA7374+20]\n",
      "\tRtlUserThreadStart [0x00007FFB7C37CC91+33]\n",
      "\n"
     ]
    },
    {
     "name": "stderr",
     "output_type": "stream",
     "text": [
      "Processing URLs:   3%|    | 840/29446 [1:32:30<52:14:21,  6.57s/it]"
     ]
    },
    {
     "name": "stdout",
     "output_type": "stream",
     "text": [
      "Error fetching URL: https://www.agoda.com/partners/partnersearch.aspx?hid=303851 - Message: no such element: Unable to locate element: {\"method\":\"css selector\",\"selector\":\"a[data-element-name='property-card-content']\"}\n",
      "  (Session info: chrome=130.0.6723.117); For documentation on this error, please visit: https://www.selenium.dev/documentation/webdriver/troubleshooting/errors#no-such-element-exception\n",
      "Stacktrace:\n",
      "\tGetHandleVerifier [0x00007FF6FD4338A5+3004357]\n",
      "\t(No symbol) [0x00007FF6FD0C9970]\n",
      "\t(No symbol) [0x00007FF6FCF7582A]\n",
      "\t(No symbol) [0x00007FF6FCFC5B8E]\n",
      "\t(No symbol) [0x00007FF6FCFC5E7C]\n",
      "\t(No symbol) [0x00007FF6FD00EC27]\n",
      "\t(No symbol) [0x00007FF6FCFEBC1F]\n",
      "\t(No symbol) [0x00007FF6FD00BA4C]\n",
      "\t(No symbol) [0x00007FF6FCFEB983]\n",
      "\t(No symbol) [0x00007FF6FCFB7628]\n",
      "\t(No symbol) [0x00007FF6FCFB8791]\n",
      "\tGetHandleVerifier [0x00007FF6FD45A00D+3161901]\n",
      "\tGetHandleVerifier [0x00007FF6FD4AE060+3506048]\n",
      "\tGetHandleVerifier [0x00007FF6FD4A400D+3465005]\n",
      "\tGetHandleVerifier [0x00007FF6FD220EEB+830987]\n",
      "\t(No symbol) [0x00007FF6FD0D467F]\n",
      "\t(No symbol) [0x00007FF6FD0D09D4]\n",
      "\t(No symbol) [0x00007FF6FD0D0B6D]\n",
      "\t(No symbol) [0x00007FF6FD0C0149]\n",
      "\tBaseThreadInitThunk [0x00007FFB7AAA7374+20]\n",
      "\tRtlUserThreadStart [0x00007FFB7C37CC91+33]\n",
      "\n"
     ]
    },
    {
     "name": "stderr",
     "output_type": "stream",
     "text": [
      "Processing URLs:   3%|    | 841/29446 [1:32:36<51:48:11,  6.52s/it]"
     ]
    },
    {
     "name": "stdout",
     "output_type": "stream",
     "text": [
      "Error fetching URL: https://www.agoda.com/partners/partnersearch.aspx?hid=304270 - Message: no such element: Unable to locate element: {\"method\":\"css selector\",\"selector\":\"a[data-element-name='property-card-content']\"}\n",
      "  (Session info: chrome=130.0.6723.117); For documentation on this error, please visit: https://www.selenium.dev/documentation/webdriver/troubleshooting/errors#no-such-element-exception\n",
      "Stacktrace:\n",
      "\tGetHandleVerifier [0x00007FF6FD4338A5+3004357]\n",
      "\t(No symbol) [0x00007FF6FD0C9970]\n",
      "\t(No symbol) [0x00007FF6FCF7582A]\n",
      "\t(No symbol) [0x00007FF6FCFC5B8E]\n",
      "\t(No symbol) [0x00007FF6FCFC5E7C]\n",
      "\t(No symbol) [0x00007FF6FD00EC27]\n",
      "\t(No symbol) [0x00007FF6FCFEBC1F]\n",
      "\t(No symbol) [0x00007FF6FD00BA4C]\n",
      "\t(No symbol) [0x00007FF6FCFEB983]\n",
      "\t(No symbol) [0x00007FF6FCFB7628]\n",
      "\t(No symbol) [0x00007FF6FCFB8791]\n",
      "\tGetHandleVerifier [0x00007FF6FD45A00D+3161901]\n",
      "\tGetHandleVerifier [0x00007FF6FD4AE060+3506048]\n",
      "\tGetHandleVerifier [0x00007FF6FD4A400D+3465005]\n",
      "\tGetHandleVerifier [0x00007FF6FD220EEB+830987]\n",
      "\t(No symbol) [0x00007FF6FD0D467F]\n",
      "\t(No symbol) [0x00007FF6FD0D09D4]\n",
      "\t(No symbol) [0x00007FF6FD0D0B6D]\n",
      "\t(No symbol) [0x00007FF6FD0C0149]\n",
      "\tBaseThreadInitThunk [0x00007FFB7AAA7374+20]\n",
      "\tRtlUserThreadStart [0x00007FFB7C37CC91+33]\n",
      "\n"
     ]
    },
    {
     "name": "stderr",
     "output_type": "stream",
     "text": [
      "Processing URLs:   3%|    | 852/29446 [1:33:51<53:39:56,  6.76s/it]"
     ]
    },
    {
     "name": "stdout",
     "output_type": "stream",
     "text": [
      "Error fetching URL: https://www.agoda.com/partners/partnersearch.aspx?hid=305987 - Message: no such element: Unable to locate element: {\"method\":\"css selector\",\"selector\":\"a[data-element-name='property-card-content']\"}\n",
      "  (Session info: chrome=130.0.6723.117); For documentation on this error, please visit: https://www.selenium.dev/documentation/webdriver/troubleshooting/errors#no-such-element-exception\n",
      "Stacktrace:\n",
      "\tGetHandleVerifier [0x00007FF6FD4338A5+3004357]\n",
      "\t(No symbol) [0x00007FF6FD0C9970]\n",
      "\t(No symbol) [0x00007FF6FCF7582A]\n",
      "\t(No symbol) [0x00007FF6FCFC5B8E]\n",
      "\t(No symbol) [0x00007FF6FCFC5E7C]\n",
      "\t(No symbol) [0x00007FF6FD00EC27]\n",
      "\t(No symbol) [0x00007FF6FCFEBC1F]\n",
      "\t(No symbol) [0x00007FF6FD00BA4C]\n",
      "\t(No symbol) [0x00007FF6FCFEB983]\n",
      "\t(No symbol) [0x00007FF6FCFB7628]\n",
      "\t(No symbol) [0x00007FF6FCFB8791]\n",
      "\tGetHandleVerifier [0x00007FF6FD45A00D+3161901]\n",
      "\tGetHandleVerifier [0x00007FF6FD4AE060+3506048]\n",
      "\tGetHandleVerifier [0x00007FF6FD4A400D+3465005]\n",
      "\tGetHandleVerifier [0x00007FF6FD220EEB+830987]\n",
      "\t(No symbol) [0x00007FF6FD0D467F]\n",
      "\t(No symbol) [0x00007FF6FD0D09D4]\n",
      "\t(No symbol) [0x00007FF6FD0D0B6D]\n",
      "\t(No symbol) [0x00007FF6FD0C0149]\n",
      "\tBaseThreadInitThunk [0x00007FFB7AAA7374+20]\n",
      "\tRtlUserThreadStart [0x00007FFB7C37CC91+33]\n",
      "\n"
     ]
    },
    {
     "name": "stderr",
     "output_type": "stream",
     "text": [
      "Processing URLs:   3%|    | 856/29446 [1:34:19<54:44:56,  6.89s/it]"
     ]
    },
    {
     "name": "stdout",
     "output_type": "stream",
     "text": [
      "Error fetching URL: https://www.agoda.com/partners/partnersearch.aspx?hid=308197 - Message: no such element: Unable to locate element: {\"method\":\"css selector\",\"selector\":\"a[data-element-name='property-card-content']\"}\n",
      "  (Session info: chrome=130.0.6723.117); For documentation on this error, please visit: https://www.selenium.dev/documentation/webdriver/troubleshooting/errors#no-such-element-exception\n",
      "Stacktrace:\n",
      "\tGetHandleVerifier [0x00007FF6FD4338A5+3004357]\n",
      "\t(No symbol) [0x00007FF6FD0C9970]\n",
      "\t(No symbol) [0x00007FF6FCF7582A]\n",
      "\t(No symbol) [0x00007FF6FCFC5B8E]\n",
      "\t(No symbol) [0x00007FF6FCFC5E7C]\n",
      "\t(No symbol) [0x00007FF6FD00EC27]\n",
      "\t(No symbol) [0x00007FF6FCFEBC1F]\n",
      "\t(No symbol) [0x00007FF6FD00BA4C]\n",
      "\t(No symbol) [0x00007FF6FCFEB983]\n",
      "\t(No symbol) [0x00007FF6FCFB7628]\n",
      "\t(No symbol) [0x00007FF6FCFB8791]\n",
      "\tGetHandleVerifier [0x00007FF6FD45A00D+3161901]\n",
      "\tGetHandleVerifier [0x00007FF6FD4AE060+3506048]\n",
      "\tGetHandleVerifier [0x00007FF6FD4A400D+3465005]\n",
      "\tGetHandleVerifier [0x00007FF6FD220EEB+830987]\n",
      "\t(No symbol) [0x00007FF6FD0D467F]\n",
      "\t(No symbol) [0x00007FF6FD0D09D4]\n",
      "\t(No symbol) [0x00007FF6FD0D0B6D]\n",
      "\t(No symbol) [0x00007FF6FD0C0149]\n",
      "\tBaseThreadInitThunk [0x00007FFB7AAA7374+20]\n",
      "\tRtlUserThreadStart [0x00007FFB7C37CC91+33]\n",
      "\n"
     ]
    },
    {
     "name": "stderr",
     "output_type": "stream",
     "text": [
      "Processing URLs:   3%|    | 857/29446 [1:34:25<53:22:36,  6.72s/it]"
     ]
    },
    {
     "name": "stdout",
     "output_type": "stream",
     "text": [
      "Error fetching URL: https://www.agoda.com/partners/partnersearch.aspx?hid=308204 - Message: no such element: Unable to locate element: {\"method\":\"css selector\",\"selector\":\"a[data-element-name='property-card-content']\"}\n",
      "  (Session info: chrome=130.0.6723.117); For documentation on this error, please visit: https://www.selenium.dev/documentation/webdriver/troubleshooting/errors#no-such-element-exception\n",
      "Stacktrace:\n",
      "\tGetHandleVerifier [0x00007FF6FD4338A5+3004357]\n",
      "\t(No symbol) [0x00007FF6FD0C9970]\n",
      "\t(No symbol) [0x00007FF6FCF7582A]\n",
      "\t(No symbol) [0x00007FF6FCFC5B8E]\n",
      "\t(No symbol) [0x00007FF6FCFC5E7C]\n",
      "\t(No symbol) [0x00007FF6FD00EC27]\n",
      "\t(No symbol) [0x00007FF6FCFEBC1F]\n",
      "\t(No symbol) [0x00007FF6FD00BA4C]\n",
      "\t(No symbol) [0x00007FF6FCFEB983]\n",
      "\t(No symbol) [0x00007FF6FCFB7628]\n",
      "\t(No symbol) [0x00007FF6FCFB8791]\n",
      "\tGetHandleVerifier [0x00007FF6FD45A00D+3161901]\n",
      "\tGetHandleVerifier [0x00007FF6FD4AE060+3506048]\n",
      "\tGetHandleVerifier [0x00007FF6FD4A400D+3465005]\n",
      "\tGetHandleVerifier [0x00007FF6FD220EEB+830987]\n",
      "\t(No symbol) [0x00007FF6FD0D467F]\n",
      "\t(No symbol) [0x00007FF6FD0D09D4]\n",
      "\t(No symbol) [0x00007FF6FD0D0B6D]\n",
      "\t(No symbol) [0x00007FF6FD0C0149]\n",
      "\tBaseThreadInitThunk [0x00007FFB7AAA7374+20]\n",
      "\tRtlUserThreadStart [0x00007FFB7C37CC91+33]\n",
      "\n"
     ]
    },
    {
     "name": "stderr",
     "output_type": "stream",
     "text": [
      "Processing URLs:   3%|    | 858/29446 [1:34:32<53:09:17,  6.69s/it]"
     ]
    },
    {
     "name": "stdout",
     "output_type": "stream",
     "text": [
      "Error fetching URL: https://www.agoda.com/partners/partnersearch.aspx?hid=308209 - Message: no such element: Unable to locate element: {\"method\":\"css selector\",\"selector\":\"a[data-element-name='property-card-content']\"}\n",
      "  (Session info: chrome=130.0.6723.117); For documentation on this error, please visit: https://www.selenium.dev/documentation/webdriver/troubleshooting/errors#no-such-element-exception\n",
      "Stacktrace:\n",
      "\tGetHandleVerifier [0x00007FF6FD4338A5+3004357]\n",
      "\t(No symbol) [0x00007FF6FD0C9970]\n",
      "\t(No symbol) [0x00007FF6FCF7582A]\n",
      "\t(No symbol) [0x00007FF6FCFC5B8E]\n",
      "\t(No symbol) [0x00007FF6FCFC5E7C]\n",
      "\t(No symbol) [0x00007FF6FD00EC27]\n",
      "\t(No symbol) [0x00007FF6FCFEBC1F]\n",
      "\t(No symbol) [0x00007FF6FD00BA4C]\n",
      "\t(No symbol) [0x00007FF6FCFEB983]\n",
      "\t(No symbol) [0x00007FF6FCFB7628]\n",
      "\t(No symbol) [0x00007FF6FCFB8791]\n",
      "\tGetHandleVerifier [0x00007FF6FD45A00D+3161901]\n",
      "\tGetHandleVerifier [0x00007FF6FD4AE060+3506048]\n",
      "\tGetHandleVerifier [0x00007FF6FD4A400D+3465005]\n",
      "\tGetHandleVerifier [0x00007FF6FD220EEB+830987]\n",
      "\t(No symbol) [0x00007FF6FD0D467F]\n",
      "\t(No symbol) [0x00007FF6FD0D09D4]\n",
      "\t(No symbol) [0x00007FF6FD0D0B6D]\n",
      "\t(No symbol) [0x00007FF6FD0C0149]\n",
      "\tBaseThreadInitThunk [0x00007FFB7AAA7374+20]\n",
      "\tRtlUserThreadStart [0x00007FFB7C37CC91+33]\n",
      "\n"
     ]
    },
    {
     "name": "stderr",
     "output_type": "stream",
     "text": [
      "Processing URLs:   4%|   | 1046/29446 [1:56:10<54:22:12,  6.89s/it]"
     ]
    },
    {
     "name": "stdout",
     "output_type": "stream",
     "text": [
      "Error fetching URL: https://www.agoda.com/partners/partnersearch.aspx?hid=412648 - Message: no such element: Unable to locate element: {\"method\":\"css selector\",\"selector\":\"a[data-element-name='property-card-content']\"}\n",
      "  (Session info: chrome=130.0.6723.117); For documentation on this error, please visit: https://www.selenium.dev/documentation/webdriver/troubleshooting/errors#no-such-element-exception\n",
      "Stacktrace:\n",
      "\tGetHandleVerifier [0x00007FF6FD4338A5+3004357]\n",
      "\t(No symbol) [0x00007FF6FD0C9970]\n",
      "\t(No symbol) [0x00007FF6FCF7582A]\n",
      "\t(No symbol) [0x00007FF6FCFC5B8E]\n",
      "\t(No symbol) [0x00007FF6FCFC5E7C]\n",
      "\t(No symbol) [0x00007FF6FD00EC27]\n",
      "\t(No symbol) [0x00007FF6FCFEBC1F]\n",
      "\t(No symbol) [0x00007FF6FD00BA4C]\n",
      "\t(No symbol) [0x00007FF6FCFEB983]\n",
      "\t(No symbol) [0x00007FF6FCFB7628]\n",
      "\t(No symbol) [0x00007FF6FCFB8791]\n",
      "\tGetHandleVerifier [0x00007FF6FD45A00D+3161901]\n",
      "\tGetHandleVerifier [0x00007FF6FD4AE060+3506048]\n",
      "\tGetHandleVerifier [0x00007FF6FD4A400D+3465005]\n",
      "\tGetHandleVerifier [0x00007FF6FD220EEB+830987]\n",
      "\t(No symbol) [0x00007FF6FD0D467F]\n",
      "\t(No symbol) [0x00007FF6FD0D09D4]\n",
      "\t(No symbol) [0x00007FF6FD0D0B6D]\n",
      "\t(No symbol) [0x00007FF6FD0C0149]\n",
      "\tBaseThreadInitThunk [0x00007FFB7AAA7374+20]\n",
      "\tRtlUserThreadStart [0x00007FFB7C37CC91+33]\n",
      "\n"
     ]
    },
    {
     "name": "stderr",
     "output_type": "stream",
     "text": [
      "Processing URLs:   4%|   | 1047/29446 [1:56:16<53:27:54,  6.78s/it]"
     ]
    },
    {
     "name": "stdout",
     "output_type": "stream",
     "text": [
      "Error fetching URL: https://www.agoda.com/partners/partnersearch.aspx?hid=412671 - Message: no such element: Unable to locate element: {\"method\":\"css selector\",\"selector\":\"a[data-element-name='property-card-content']\"}\n",
      "  (Session info: chrome=130.0.6723.117); For documentation on this error, please visit: https://www.selenium.dev/documentation/webdriver/troubleshooting/errors#no-such-element-exception\n",
      "Stacktrace:\n",
      "\tGetHandleVerifier [0x00007FF6FD4338A5+3004357]\n",
      "\t(No symbol) [0x00007FF6FD0C9970]\n",
      "\t(No symbol) [0x00007FF6FCF7582A]\n",
      "\t(No symbol) [0x00007FF6FCFC5B8E]\n",
      "\t(No symbol) [0x00007FF6FCFC5E7C]\n",
      "\t(No symbol) [0x00007FF6FD00EC27]\n",
      "\t(No symbol) [0x00007FF6FCFEBC1F]\n",
      "\t(No symbol) [0x00007FF6FD00BA4C]\n",
      "\t(No symbol) [0x00007FF6FCFEB983]\n",
      "\t(No symbol) [0x00007FF6FCFB7628]\n",
      "\t(No symbol) [0x00007FF6FCFB8791]\n",
      "\tGetHandleVerifier [0x00007FF6FD45A00D+3161901]\n",
      "\tGetHandleVerifier [0x00007FF6FD4AE060+3506048]\n",
      "\tGetHandleVerifier [0x00007FF6FD4A400D+3465005]\n",
      "\tGetHandleVerifier [0x00007FF6FD220EEB+830987]\n",
      "\t(No symbol) [0x00007FF6FD0D467F]\n",
      "\t(No symbol) [0x00007FF6FD0D09D4]\n",
      "\t(No symbol) [0x00007FF6FD0D0B6D]\n",
      "\t(No symbol) [0x00007FF6FD0C0149]\n",
      "\tBaseThreadInitThunk [0x00007FFB7AAA7374+20]\n",
      "\tRtlUserThreadStart [0x00007FFB7C37CC91+33]\n",
      "\n"
     ]
    },
    {
     "name": "stderr",
     "output_type": "stream",
     "text": [
      "Processing URLs:   4%|   | 1049/29446 [1:56:29<51:57:01,  6.59s/it]"
     ]
    },
    {
     "name": "stdout",
     "output_type": "stream",
     "text": [
      "Error fetching URL: https://www.agoda.com/partners/partnersearch.aspx?hid=412707 - Message: no such element: Unable to locate element: {\"method\":\"css selector\",\"selector\":\"a[data-element-name='property-card-content']\"}\n",
      "  (Session info: chrome=130.0.6723.117); For documentation on this error, please visit: https://www.selenium.dev/documentation/webdriver/troubleshooting/errors#no-such-element-exception\n",
      "Stacktrace:\n",
      "\tGetHandleVerifier [0x00007FF6FD4338A5+3004357]\n",
      "\t(No symbol) [0x00007FF6FD0C9970]\n",
      "\t(No symbol) [0x00007FF6FCF7582A]\n",
      "\t(No symbol) [0x00007FF6FCFC5B8E]\n",
      "\t(No symbol) [0x00007FF6FCFC5E7C]\n",
      "\t(No symbol) [0x00007FF6FD00EC27]\n",
      "\t(No symbol) [0x00007FF6FCFEBC1F]\n",
      "\t(No symbol) [0x00007FF6FD00BA4C]\n",
      "\t(No symbol) [0x00007FF6FCFEB983]\n",
      "\t(No symbol) [0x00007FF6FCFB7628]\n",
      "\t(No symbol) [0x00007FF6FCFB8791]\n",
      "\tGetHandleVerifier [0x00007FF6FD45A00D+3161901]\n",
      "\tGetHandleVerifier [0x00007FF6FD4AE060+3506048]\n",
      "\tGetHandleVerifier [0x00007FF6FD4A400D+3465005]\n",
      "\tGetHandleVerifier [0x00007FF6FD220EEB+830987]\n",
      "\t(No symbol) [0x00007FF6FD0D467F]\n",
      "\t(No symbol) [0x00007FF6FD0D09D4]\n",
      "\t(No symbol) [0x00007FF6FD0D0B6D]\n",
      "\t(No symbol) [0x00007FF6FD0C0149]\n",
      "\tBaseThreadInitThunk [0x00007FFB7AAA7374+20]\n",
      "\tRtlUserThreadStart [0x00007FFB7C37CC91+33]\n",
      "\n"
     ]
    },
    {
     "name": "stderr",
     "output_type": "stream",
     "text": [
      "Processing URLs:   4%|   | 1050/29446 [1:56:35<51:44:01,  6.56s/it]"
     ]
    },
    {
     "name": "stdout",
     "output_type": "stream",
     "text": [
      "Error fetching URL: https://www.agoda.com/partners/partnersearch.aspx?hid=428330 - Message: no such element: Unable to locate element: {\"method\":\"css selector\",\"selector\":\"a[data-element-name='property-card-content']\"}\n",
      "  (Session info: chrome=130.0.6723.117); For documentation on this error, please visit: https://www.selenium.dev/documentation/webdriver/troubleshooting/errors#no-such-element-exception\n",
      "Stacktrace:\n",
      "\tGetHandleVerifier [0x00007FF6FD4338A5+3004357]\n",
      "\t(No symbol) [0x00007FF6FD0C9970]\n",
      "\t(No symbol) [0x00007FF6FCF7582A]\n",
      "\t(No symbol) [0x00007FF6FCFC5B8E]\n",
      "\t(No symbol) [0x00007FF6FCFC5E7C]\n",
      "\t(No symbol) [0x00007FF6FD00EC27]\n",
      "\t(No symbol) [0x00007FF6FCFEBC1F]\n",
      "\t(No symbol) [0x00007FF6FD00BA4C]\n",
      "\t(No symbol) [0x00007FF6FCFEB983]\n",
      "\t(No symbol) [0x00007FF6FCFB7628]\n",
      "\t(No symbol) [0x00007FF6FCFB8791]\n",
      "\tGetHandleVerifier [0x00007FF6FD45A00D+3161901]\n",
      "\tGetHandleVerifier [0x00007FF6FD4AE060+3506048]\n",
      "\tGetHandleVerifier [0x00007FF6FD4A400D+3465005]\n",
      "\tGetHandleVerifier [0x00007FF6FD220EEB+830987]\n",
      "\t(No symbol) [0x00007FF6FD0D467F]\n",
      "\t(No symbol) [0x00007FF6FD0D09D4]\n",
      "\t(No symbol) [0x00007FF6FD0D0B6D]\n",
      "\t(No symbol) [0x00007FF6FD0C0149]\n",
      "\tBaseThreadInitThunk [0x00007FFB7AAA7374+20]\n",
      "\tRtlUserThreadStart [0x00007FFB7C37CC91+33]\n",
      "\n"
     ]
    },
    {
     "name": "stderr",
     "output_type": "stream",
     "text": [
      "Processing URLs:   4%|   | 1051/29446 [1:56:42<51:18:37,  6.51s/it]"
     ]
    },
    {
     "name": "stdout",
     "output_type": "stream",
     "text": [
      "Error fetching URL: https://www.agoda.com/partners/partnersearch.aspx?hid=429783 - Message: no such element: Unable to locate element: {\"method\":\"css selector\",\"selector\":\"a[data-element-name='property-card-content']\"}\n",
      "  (Session info: chrome=130.0.6723.117); For documentation on this error, please visit: https://www.selenium.dev/documentation/webdriver/troubleshooting/errors#no-such-element-exception\n",
      "Stacktrace:\n",
      "\tGetHandleVerifier [0x00007FF6FD4338A5+3004357]\n",
      "\t(No symbol) [0x00007FF6FD0C9970]\n",
      "\t(No symbol) [0x00007FF6FCF7582A]\n",
      "\t(No symbol) [0x00007FF6FCFC5B8E]\n",
      "\t(No symbol) [0x00007FF6FCFC5E7C]\n",
      "\t(No symbol) [0x00007FF6FD00EC27]\n",
      "\t(No symbol) [0x00007FF6FCFEBC1F]\n",
      "\t(No symbol) [0x00007FF6FD00BA4C]\n",
      "\t(No symbol) [0x00007FF6FCFEB983]\n",
      "\t(No symbol) [0x00007FF6FCFB7628]\n",
      "\t(No symbol) [0x00007FF6FCFB8791]\n",
      "\tGetHandleVerifier [0x00007FF6FD45A00D+3161901]\n",
      "\tGetHandleVerifier [0x00007FF6FD4AE060+3506048]\n",
      "\tGetHandleVerifier [0x00007FF6FD4A400D+3465005]\n",
      "\tGetHandleVerifier [0x00007FF6FD220EEB+830987]\n",
      "\t(No symbol) [0x00007FF6FD0D467F]\n",
      "\t(No symbol) [0x00007FF6FD0D09D4]\n",
      "\t(No symbol) [0x00007FF6FD0D0B6D]\n",
      "\t(No symbol) [0x00007FF6FD0C0149]\n",
      "\tBaseThreadInitThunk [0x00007FFB7AAA7374+20]\n",
      "\tRtlUserThreadStart [0x00007FFB7C37CC91+33]\n",
      "\n"
     ]
    },
    {
     "name": "stderr",
     "output_type": "stream",
     "text": [
      "Processing URLs:   4%|   | 1052/29446 [1:56:48<51:21:53,  6.51s/it]"
     ]
    },
    {
     "name": "stdout",
     "output_type": "stream",
     "text": [
      "Error fetching URL: https://www.agoda.com/partners/partnersearch.aspx?hid=430922 - Message: no such element: Unable to locate element: {\"method\":\"css selector\",\"selector\":\"a[data-element-name='property-card-content']\"}\n",
      "  (Session info: chrome=130.0.6723.117); For documentation on this error, please visit: https://www.selenium.dev/documentation/webdriver/troubleshooting/errors#no-such-element-exception\n",
      "Stacktrace:\n",
      "\tGetHandleVerifier [0x00007FF6FD4338A5+3004357]\n",
      "\t(No symbol) [0x00007FF6FD0C9970]\n",
      "\t(No symbol) [0x00007FF6FCF7582A]\n",
      "\t(No symbol) [0x00007FF6FCFC5B8E]\n",
      "\t(No symbol) [0x00007FF6FCFC5E7C]\n",
      "\t(No symbol) [0x00007FF6FD00EC27]\n",
      "\t(No symbol) [0x00007FF6FCFEBC1F]\n",
      "\t(No symbol) [0x00007FF6FD00BA4C]\n",
      "\t(No symbol) [0x00007FF6FCFEB983]\n",
      "\t(No symbol) [0x00007FF6FCFB7628]\n",
      "\t(No symbol) [0x00007FF6FCFB8791]\n",
      "\tGetHandleVerifier [0x00007FF6FD45A00D+3161901]\n",
      "\tGetHandleVerifier [0x00007FF6FD4AE060+3506048]\n",
      "\tGetHandleVerifier [0x00007FF6FD4A400D+3465005]\n",
      "\tGetHandleVerifier [0x00007FF6FD220EEB+830987]\n",
      "\t(No symbol) [0x00007FF6FD0D467F]\n",
      "\t(No symbol) [0x00007FF6FD0D09D4]\n",
      "\t(No symbol) [0x00007FF6FD0D0B6D]\n",
      "\t(No symbol) [0x00007FF6FD0C0149]\n",
      "\tBaseThreadInitThunk [0x00007FFB7AAA7374+20]\n",
      "\tRtlUserThreadStart [0x00007FFB7C37CC91+33]\n",
      "\n"
     ]
    },
    {
     "name": "stderr",
     "output_type": "stream",
     "text": [
      "Processing URLs:   4%|   | 1053/29446 [1:56:55<51:04:05,  6.48s/it]"
     ]
    },
    {
     "name": "stdout",
     "output_type": "stream",
     "text": [
      "Error fetching URL: https://www.agoda.com/partners/partnersearch.aspx?hid=430923 - Message: no such element: Unable to locate element: {\"method\":\"css selector\",\"selector\":\"a[data-element-name='property-card-content']\"}\n",
      "  (Session info: chrome=130.0.6723.117); For documentation on this error, please visit: https://www.selenium.dev/documentation/webdriver/troubleshooting/errors#no-such-element-exception\n",
      "Stacktrace:\n",
      "\tGetHandleVerifier [0x00007FF6FD4338A5+3004357]\n",
      "\t(No symbol) [0x00007FF6FD0C9970]\n",
      "\t(No symbol) [0x00007FF6FCF7582A]\n",
      "\t(No symbol) [0x00007FF6FCFC5B8E]\n",
      "\t(No symbol) [0x00007FF6FCFC5E7C]\n",
      "\t(No symbol) [0x00007FF6FD00EC27]\n",
      "\t(No symbol) [0x00007FF6FCFEBC1F]\n",
      "\t(No symbol) [0x00007FF6FD00BA4C]\n",
      "\t(No symbol) [0x00007FF6FCFEB983]\n",
      "\t(No symbol) [0x00007FF6FCFB7628]\n",
      "\t(No symbol) [0x00007FF6FCFB8791]\n",
      "\tGetHandleVerifier [0x00007FF6FD45A00D+3161901]\n",
      "\tGetHandleVerifier [0x00007FF6FD4AE060+3506048]\n",
      "\tGetHandleVerifier [0x00007FF6FD4A400D+3465005]\n",
      "\tGetHandleVerifier [0x00007FF6FD220EEB+830987]\n",
      "\t(No symbol) [0x00007FF6FD0D467F]\n",
      "\t(No symbol) [0x00007FF6FD0D09D4]\n",
      "\t(No symbol) [0x00007FF6FD0D0B6D]\n",
      "\t(No symbol) [0x00007FF6FD0C0149]\n",
      "\tBaseThreadInitThunk [0x00007FFB7AAA7374+20]\n",
      "\tRtlUserThreadStart [0x00007FFB7C37CC91+33]\n",
      "\n"
     ]
    },
    {
     "name": "stderr",
     "output_type": "stream",
     "text": [
      "Processing URLs:   4%|   | 1055/29446 [1:57:07<50:53:57,  6.45s/it]"
     ]
    },
    {
     "name": "stdout",
     "output_type": "stream",
     "text": [
      "Error fetching URL: https://www.agoda.com/partners/partnersearch.aspx?hid=432924 - Message: no such element: Unable to locate element: {\"method\":\"css selector\",\"selector\":\"a[data-element-name='property-card-content']\"}\n",
      "  (Session info: chrome=130.0.6723.117); For documentation on this error, please visit: https://www.selenium.dev/documentation/webdriver/troubleshooting/errors#no-such-element-exception\n",
      "Stacktrace:\n",
      "\tGetHandleVerifier [0x00007FF6FD4338A5+3004357]\n",
      "\t(No symbol) [0x00007FF6FD0C9970]\n",
      "\t(No symbol) [0x00007FF6FCF7582A]\n",
      "\t(No symbol) [0x00007FF6FCFC5B8E]\n",
      "\t(No symbol) [0x00007FF6FCFC5E7C]\n",
      "\t(No symbol) [0x00007FF6FD00EC27]\n",
      "\t(No symbol) [0x00007FF6FCFEBC1F]\n",
      "\t(No symbol) [0x00007FF6FD00BA4C]\n",
      "\t(No symbol) [0x00007FF6FCFEB983]\n",
      "\t(No symbol) [0x00007FF6FCFB7628]\n",
      "\t(No symbol) [0x00007FF6FCFB8791]\n",
      "\tGetHandleVerifier [0x00007FF6FD45A00D+3161901]\n",
      "\tGetHandleVerifier [0x00007FF6FD4AE060+3506048]\n",
      "\tGetHandleVerifier [0x00007FF6FD4A400D+3465005]\n",
      "\tGetHandleVerifier [0x00007FF6FD220EEB+830987]\n",
      "\t(No symbol) [0x00007FF6FD0D467F]\n",
      "\t(No symbol) [0x00007FF6FD0D09D4]\n",
      "\t(No symbol) [0x00007FF6FD0D0B6D]\n",
      "\t(No symbol) [0x00007FF6FD0C0149]\n",
      "\tBaseThreadInitThunk [0x00007FFB7AAA7374+20]\n",
      "\tRtlUserThreadStart [0x00007FFB7C37CC91+33]\n",
      "\n"
     ]
    },
    {
     "name": "stderr",
     "output_type": "stream",
     "text": [
      "Processing URLs:   4%|   | 1057/29446 [1:57:21<51:30:08,  6.53s/it]"
     ]
    },
    {
     "name": "stdout",
     "output_type": "stream",
     "text": [
      "Error fetching URL: https://www.agoda.com/partners/partnersearch.aspx?hid=433003 - Message: no such element: Unable to locate element: {\"method\":\"css selector\",\"selector\":\"a[data-element-name='property-card-content']\"}\n",
      "  (Session info: chrome=130.0.6723.117); For documentation on this error, please visit: https://www.selenium.dev/documentation/webdriver/troubleshooting/errors#no-such-element-exception\n",
      "Stacktrace:\n",
      "\tGetHandleVerifier [0x00007FF6FD4338A5+3004357]\n",
      "\t(No symbol) [0x00007FF6FD0C9970]\n",
      "\t(No symbol) [0x00007FF6FCF7582A]\n",
      "\t(No symbol) [0x00007FF6FCFC5B8E]\n",
      "\t(No symbol) [0x00007FF6FCFC5E7C]\n",
      "\t(No symbol) [0x00007FF6FD00EC27]\n",
      "\t(No symbol) [0x00007FF6FCFEBC1F]\n",
      "\t(No symbol) [0x00007FF6FD00BA4C]\n",
      "\t(No symbol) [0x00007FF6FCFEB983]\n",
      "\t(No symbol) [0x00007FF6FCFB7628]\n",
      "\t(No symbol) [0x00007FF6FCFB8791]\n",
      "\tGetHandleVerifier [0x00007FF6FD45A00D+3161901]\n",
      "\tGetHandleVerifier [0x00007FF6FD4AE060+3506048]\n",
      "\tGetHandleVerifier [0x00007FF6FD4A400D+3465005]\n",
      "\tGetHandleVerifier [0x00007FF6FD220EEB+830987]\n",
      "\t(No symbol) [0x00007FF6FD0D467F]\n",
      "\t(No symbol) [0x00007FF6FD0D09D4]\n",
      "\t(No symbol) [0x00007FF6FD0D0B6D]\n",
      "\t(No symbol) [0x00007FF6FD0C0149]\n",
      "\tBaseThreadInitThunk [0x00007FFB7AAA7374+20]\n",
      "\tRtlUserThreadStart [0x00007FFB7C37CC91+33]\n",
      "\n"
     ]
    },
    {
     "name": "stderr",
     "output_type": "stream",
     "text": [
      "Processing URLs:   4%|   | 1059/29446 [1:57:33<51:03:16,  6.47s/it]"
     ]
    },
    {
     "name": "stdout",
     "output_type": "stream",
     "text": [
      "Error fetching URL: https://www.agoda.com/partners/partnersearch.aspx?hid=433169 - Message: no such element: Unable to locate element: {\"method\":\"css selector\",\"selector\":\"a[data-element-name='property-card-content']\"}\n",
      "  (Session info: chrome=130.0.6723.117); For documentation on this error, please visit: https://www.selenium.dev/documentation/webdriver/troubleshooting/errors#no-such-element-exception\n",
      "Stacktrace:\n",
      "\tGetHandleVerifier [0x00007FF6FD4338A5+3004357]\n",
      "\t(No symbol) [0x00007FF6FD0C9970]\n",
      "\t(No symbol) [0x00007FF6FCF7582A]\n",
      "\t(No symbol) [0x00007FF6FCFC5B8E]\n",
      "\t(No symbol) [0x00007FF6FCFC5E7C]\n",
      "\t(No symbol) [0x00007FF6FD00EC27]\n",
      "\t(No symbol) [0x00007FF6FCFEBC1F]\n",
      "\t(No symbol) [0x00007FF6FD00BA4C]\n",
      "\t(No symbol) [0x00007FF6FCFEB983]\n",
      "\t(No symbol) [0x00007FF6FCFB7628]\n",
      "\t(No symbol) [0x00007FF6FCFB8791]\n",
      "\tGetHandleVerifier [0x00007FF6FD45A00D+3161901]\n",
      "\tGetHandleVerifier [0x00007FF6FD4AE060+3506048]\n",
      "\tGetHandleVerifier [0x00007FF6FD4A400D+3465005]\n",
      "\tGetHandleVerifier [0x00007FF6FD220EEB+830987]\n",
      "\t(No symbol) [0x00007FF6FD0D467F]\n",
      "\t(No symbol) [0x00007FF6FD0D09D4]\n",
      "\t(No symbol) [0x00007FF6FD0D0B6D]\n",
      "\t(No symbol) [0x00007FF6FD0C0149]\n",
      "\tBaseThreadInitThunk [0x00007FFB7AAA7374+20]\n",
      "\tRtlUserThreadStart [0x00007FFB7C37CC91+33]\n",
      "\n"
     ]
    },
    {
     "name": "stderr",
     "output_type": "stream",
     "text": [
      "Processing URLs:   4%|   | 1065/29446 [1:58:16<56:36:17,  7.18s/it]"
     ]
    },
    {
     "name": "stdout",
     "output_type": "stream",
     "text": [
      "Error fetching URL: https://www.agoda.com/partners/partnersearch.aspx?hid=443031 - Message: no such element: Unable to locate element: {\"method\":\"css selector\",\"selector\":\"a[data-element-name='property-card-content']\"}\n",
      "  (Session info: chrome=130.0.6723.117); For documentation on this error, please visit: https://www.selenium.dev/documentation/webdriver/troubleshooting/errors#no-such-element-exception\n",
      "Stacktrace:\n",
      "\tGetHandleVerifier [0x00007FF6FD4338A5+3004357]\n",
      "\t(No symbol) [0x00007FF6FD0C9970]\n",
      "\t(No symbol) [0x00007FF6FCF7582A]\n",
      "\t(No symbol) [0x00007FF6FCFC5B8E]\n",
      "\t(No symbol) [0x00007FF6FCFC5E7C]\n",
      "\t(No symbol) [0x00007FF6FD00EC27]\n",
      "\t(No symbol) [0x00007FF6FCFEBC1F]\n",
      "\t(No symbol) [0x00007FF6FD00BA4C]\n",
      "\t(No symbol) [0x00007FF6FCFEB983]\n",
      "\t(No symbol) [0x00007FF6FCFB7628]\n",
      "\t(No symbol) [0x00007FF6FCFB8791]\n",
      "\tGetHandleVerifier [0x00007FF6FD45A00D+3161901]\n",
      "\tGetHandleVerifier [0x00007FF6FD4AE060+3506048]\n",
      "\tGetHandleVerifier [0x00007FF6FD4A400D+3465005]\n",
      "\tGetHandleVerifier [0x00007FF6FD220EEB+830987]\n",
      "\t(No symbol) [0x00007FF6FD0D467F]\n",
      "\t(No symbol) [0x00007FF6FD0D09D4]\n",
      "\t(No symbol) [0x00007FF6FD0D0B6D]\n",
      "\t(No symbol) [0x00007FF6FD0C0149]\n",
      "\tBaseThreadInitThunk [0x00007FFB7AAA7374+20]\n",
      "\tRtlUserThreadStart [0x00007FFB7C37CC91+33]\n",
      "\n"
     ]
    },
    {
     "name": "stderr",
     "output_type": "stream",
     "text": [
      "Processing URLs:   4%|   | 1066/29446 [1:58:23<54:56:17,  6.97s/it]"
     ]
    },
    {
     "name": "stdout",
     "output_type": "stream",
     "text": [
      "Error fetching URL: https://www.agoda.com/partners/partnersearch.aspx?hid=443051 - Message: no such element: Unable to locate element: {\"method\":\"css selector\",\"selector\":\"a[data-element-name='property-card-content']\"}\n",
      "  (Session info: chrome=130.0.6723.117); For documentation on this error, please visit: https://www.selenium.dev/documentation/webdriver/troubleshooting/errors#no-such-element-exception\n",
      "Stacktrace:\n",
      "\tGetHandleVerifier [0x00007FF6FD4338A5+3004357]\n",
      "\t(No symbol) [0x00007FF6FD0C9970]\n",
      "\t(No symbol) [0x00007FF6FCF7582A]\n",
      "\t(No symbol) [0x00007FF6FCFC5B8E]\n",
      "\t(No symbol) [0x00007FF6FCFC5E7C]\n",
      "\t(No symbol) [0x00007FF6FD00EC27]\n",
      "\t(No symbol) [0x00007FF6FCFEBC1F]\n",
      "\t(No symbol) [0x00007FF6FD00BA4C]\n",
      "\t(No symbol) [0x00007FF6FCFEB983]\n",
      "\t(No symbol) [0x00007FF6FCFB7628]\n",
      "\t(No symbol) [0x00007FF6FCFB8791]\n",
      "\tGetHandleVerifier [0x00007FF6FD45A00D+3161901]\n",
      "\tGetHandleVerifier [0x00007FF6FD4AE060+3506048]\n",
      "\tGetHandleVerifier [0x00007FF6FD4A400D+3465005]\n",
      "\tGetHandleVerifier [0x00007FF6FD220EEB+830987]\n",
      "\t(No symbol) [0x00007FF6FD0D467F]\n",
      "\t(No symbol) [0x00007FF6FD0D09D4]\n",
      "\t(No symbol) [0x00007FF6FD0D0B6D]\n",
      "\t(No symbol) [0x00007FF6FD0C0149]\n",
      "\tBaseThreadInitThunk [0x00007FFB7AAA7374+20]\n",
      "\tRtlUserThreadStart [0x00007FFB7C37CC91+33]\n",
      "\n"
     ]
    },
    {
     "name": "stderr",
     "output_type": "stream",
     "text": [
      "Processing URLs:   4%|   | 1067/29446 [1:58:29<53:34:53,  6.80s/it]"
     ]
    },
    {
     "name": "stdout",
     "output_type": "stream",
     "text": [
      "Error fetching URL: https://www.agoda.com/partners/partnersearch.aspx?hid=443153 - Message: no such element: Unable to locate element: {\"method\":\"css selector\",\"selector\":\"a[data-element-name='property-card-content']\"}\n",
      "  (Session info: chrome=130.0.6723.117); For documentation on this error, please visit: https://www.selenium.dev/documentation/webdriver/troubleshooting/errors#no-such-element-exception\n",
      "Stacktrace:\n",
      "\tGetHandleVerifier [0x00007FF6FD4338A5+3004357]\n",
      "\t(No symbol) [0x00007FF6FD0C9970]\n",
      "\t(No symbol) [0x00007FF6FCF7582A]\n",
      "\t(No symbol) [0x00007FF6FCFC5B8E]\n",
      "\t(No symbol) [0x00007FF6FCFC5E7C]\n",
      "\t(No symbol) [0x00007FF6FD00EC27]\n",
      "\t(No symbol) [0x00007FF6FCFEBC1F]\n",
      "\t(No symbol) [0x00007FF6FD00BA4C]\n",
      "\t(No symbol) [0x00007FF6FCFEB983]\n",
      "\t(No symbol) [0x00007FF6FCFB7628]\n",
      "\t(No symbol) [0x00007FF6FCFB8791]\n",
      "\tGetHandleVerifier [0x00007FF6FD45A00D+3161901]\n",
      "\tGetHandleVerifier [0x00007FF6FD4AE060+3506048]\n",
      "\tGetHandleVerifier [0x00007FF6FD4A400D+3465005]\n",
      "\tGetHandleVerifier [0x00007FF6FD220EEB+830987]\n",
      "\t(No symbol) [0x00007FF6FD0D467F]\n",
      "\t(No symbol) [0x00007FF6FD0D09D4]\n",
      "\t(No symbol) [0x00007FF6FD0D0B6D]\n",
      "\t(No symbol) [0x00007FF6FD0C0149]\n",
      "\tBaseThreadInitThunk [0x00007FFB7AAA7374+20]\n",
      "\tRtlUserThreadStart [0x00007FFB7C37CC91+33]\n",
      "\n"
     ]
    },
    {
     "name": "stderr",
     "output_type": "stream",
     "text": [
      "Processing URLs:   4%|   | 1084/29446 [2:00:26<55:11:15,  7.00s/it]"
     ]
    },
    {
     "name": "stdout",
     "output_type": "stream",
     "text": [
      "Error fetching URL: https://www.agoda.com/partners/partnersearch.aspx?hid=444813 - Message: no such element: Unable to locate element: {\"method\":\"css selector\",\"selector\":\"a[data-element-name='property-card-content']\"}\n",
      "  (Session info: chrome=130.0.6723.117); For documentation on this error, please visit: https://www.selenium.dev/documentation/webdriver/troubleshooting/errors#no-such-element-exception\n",
      "Stacktrace:\n",
      "\tGetHandleVerifier [0x00007FF6FD4338A5+3004357]\n",
      "\t(No symbol) [0x00007FF6FD0C9970]\n",
      "\t(No symbol) [0x00007FF6FCF7582A]\n",
      "\t(No symbol) [0x00007FF6FCFC5B8E]\n",
      "\t(No symbol) [0x00007FF6FCFC5E7C]\n",
      "\t(No symbol) [0x00007FF6FD00EC27]\n",
      "\t(No symbol) [0x00007FF6FCFEBC1F]\n",
      "\t(No symbol) [0x00007FF6FD00BA4C]\n",
      "\t(No symbol) [0x00007FF6FCFEB983]\n",
      "\t(No symbol) [0x00007FF6FCFB7628]\n",
      "\t(No symbol) [0x00007FF6FCFB8791]\n",
      "\tGetHandleVerifier [0x00007FF6FD45A00D+3161901]\n",
      "\tGetHandleVerifier [0x00007FF6FD4AE060+3506048]\n",
      "\tGetHandleVerifier [0x00007FF6FD4A400D+3465005]\n",
      "\tGetHandleVerifier [0x00007FF6FD220EEB+830987]\n",
      "\t(No symbol) [0x00007FF6FD0D467F]\n",
      "\t(No symbol) [0x00007FF6FD0D09D4]\n",
      "\t(No symbol) [0x00007FF6FD0D0B6D]\n",
      "\t(No symbol) [0x00007FF6FD0C0149]\n",
      "\tBaseThreadInitThunk [0x00007FFB7AAA7374+20]\n",
      "\tRtlUserThreadStart [0x00007FFB7C37CC91+33]\n",
      "\n"
     ]
    },
    {
     "name": "stderr",
     "output_type": "stream",
     "text": [
      "Processing URLs:   4%|   | 1085/29446 [2:00:33<53:44:07,  6.82s/it]"
     ]
    },
    {
     "name": "stdout",
     "output_type": "stream",
     "text": [
      "Error fetching URL: https://www.agoda.com/partners/partnersearch.aspx?hid=444864 - Message: no such element: Unable to locate element: {\"method\":\"css selector\",\"selector\":\"a[data-element-name='property-card-content']\"}\n",
      "  (Session info: chrome=130.0.6723.117); For documentation on this error, please visit: https://www.selenium.dev/documentation/webdriver/troubleshooting/errors#no-such-element-exception\n",
      "Stacktrace:\n",
      "\tGetHandleVerifier [0x00007FF6FD4338A5+3004357]\n",
      "\t(No symbol) [0x00007FF6FD0C9970]\n",
      "\t(No symbol) [0x00007FF6FCF7582A]\n",
      "\t(No symbol) [0x00007FF6FCFC5B8E]\n",
      "\t(No symbol) [0x00007FF6FCFC5E7C]\n",
      "\t(No symbol) [0x00007FF6FD00EC27]\n",
      "\t(No symbol) [0x00007FF6FCFEBC1F]\n",
      "\t(No symbol) [0x00007FF6FD00BA4C]\n",
      "\t(No symbol) [0x00007FF6FCFEB983]\n",
      "\t(No symbol) [0x00007FF6FCFB7628]\n",
      "\t(No symbol) [0x00007FF6FCFB8791]\n",
      "\tGetHandleVerifier [0x00007FF6FD45A00D+3161901]\n",
      "\tGetHandleVerifier [0x00007FF6FD4AE060+3506048]\n",
      "\tGetHandleVerifier [0x00007FF6FD4A400D+3465005]\n",
      "\tGetHandleVerifier [0x00007FF6FD220EEB+830987]\n",
      "\t(No symbol) [0x00007FF6FD0D467F]\n",
      "\t(No symbol) [0x00007FF6FD0D09D4]\n",
      "\t(No symbol) [0x00007FF6FD0D0B6D]\n",
      "\t(No symbol) [0x00007FF6FD0C0149]\n",
      "\tBaseThreadInitThunk [0x00007FFB7AAA7374+20]\n",
      "\tRtlUserThreadStart [0x00007FFB7C37CC91+33]\n",
      "\n"
     ]
    },
    {
     "name": "stderr",
     "output_type": "stream",
     "text": [
      "Processing URLs:   4%|   | 1089/29446 [2:01:01<56:02:13,  7.11s/it]"
     ]
    },
    {
     "name": "stdout",
     "output_type": "stream",
     "text": [
      "Error fetching URL: https://www.agoda.com/partners/partnersearch.aspx?hid=445181 - Message: no such element: Unable to locate element: {\"method\":\"css selector\",\"selector\":\"a[data-element-name='property-card-content']\"}\n",
      "  (Session info: chrome=130.0.6723.117); For documentation on this error, please visit: https://www.selenium.dev/documentation/webdriver/troubleshooting/errors#no-such-element-exception\n",
      "Stacktrace:\n",
      "\tGetHandleVerifier [0x00007FF6FD4338A5+3004357]\n",
      "\t(No symbol) [0x00007FF6FD0C9970]\n",
      "\t(No symbol) [0x00007FF6FCF7582A]\n",
      "\t(No symbol) [0x00007FF6FCFC5B8E]\n",
      "\t(No symbol) [0x00007FF6FCFC5E7C]\n",
      "\t(No symbol) [0x00007FF6FD00EC27]\n",
      "\t(No symbol) [0x00007FF6FCFEBC1F]\n",
      "\t(No symbol) [0x00007FF6FD00BA4C]\n",
      "\t(No symbol) [0x00007FF6FCFEB983]\n",
      "\t(No symbol) [0x00007FF6FCFB7628]\n",
      "\t(No symbol) [0x00007FF6FCFB8791]\n",
      "\tGetHandleVerifier [0x00007FF6FD45A00D+3161901]\n",
      "\tGetHandleVerifier [0x00007FF6FD4AE060+3506048]\n",
      "\tGetHandleVerifier [0x00007FF6FD4A400D+3465005]\n",
      "\tGetHandleVerifier [0x00007FF6FD220EEB+830987]\n",
      "\t(No symbol) [0x00007FF6FD0D467F]\n",
      "\t(No symbol) [0x00007FF6FD0D09D4]\n",
      "\t(No symbol) [0x00007FF6FD0D0B6D]\n",
      "\t(No symbol) [0x00007FF6FD0C0149]\n",
      "\tBaseThreadInitThunk [0x00007FFB7AAA7374+20]\n",
      "\tRtlUserThreadStart [0x00007FFB7C37CC91+33]\n",
      "\n"
     ]
    },
    {
     "name": "stderr",
     "output_type": "stream",
     "text": [
      "Processing URLs:   4%|   | 1090/29446 [2:01:07<54:40:12,  6.94s/it]"
     ]
    },
    {
     "name": "stdout",
     "output_type": "stream",
     "text": [
      "Error fetching URL: https://www.agoda.com/partners/partnersearch.aspx?hid=445299 - Message: no such element: Unable to locate element: {\"method\":\"css selector\",\"selector\":\"a[data-element-name='property-card-content']\"}\n",
      "  (Session info: chrome=130.0.6723.117); For documentation on this error, please visit: https://www.selenium.dev/documentation/webdriver/troubleshooting/errors#no-such-element-exception\n",
      "Stacktrace:\n",
      "\tGetHandleVerifier [0x00007FF6FD4338A5+3004357]\n",
      "\t(No symbol) [0x00007FF6FD0C9970]\n",
      "\t(No symbol) [0x00007FF6FCF7582A]\n",
      "\t(No symbol) [0x00007FF6FCFC5B8E]\n",
      "\t(No symbol) [0x00007FF6FCFC5E7C]\n",
      "\t(No symbol) [0x00007FF6FD00EC27]\n",
      "\t(No symbol) [0x00007FF6FCFEBC1F]\n",
      "\t(No symbol) [0x00007FF6FD00BA4C]\n",
      "\t(No symbol) [0x00007FF6FCFEB983]\n",
      "\t(No symbol) [0x00007FF6FCFB7628]\n",
      "\t(No symbol) [0x00007FF6FCFB8791]\n",
      "\tGetHandleVerifier [0x00007FF6FD45A00D+3161901]\n",
      "\tGetHandleVerifier [0x00007FF6FD4AE060+3506048]\n",
      "\tGetHandleVerifier [0x00007FF6FD4A400D+3465005]\n",
      "\tGetHandleVerifier [0x00007FF6FD220EEB+830987]\n",
      "\t(No symbol) [0x00007FF6FD0D467F]\n",
      "\t(No symbol) [0x00007FF6FD0D09D4]\n",
      "\t(No symbol) [0x00007FF6FD0D0B6D]\n",
      "\t(No symbol) [0x00007FF6FD0C0149]\n",
      "\tBaseThreadInitThunk [0x00007FFB7AAA7374+20]\n",
      "\tRtlUserThreadStart [0x00007FFB7C37CC91+33]\n",
      "\n"
     ]
    },
    {
     "name": "stderr",
     "output_type": "stream",
     "text": [
      "Processing URLs:   4%|   | 1091/29446 [2:01:14<53:22:44,  6.78s/it]"
     ]
    },
    {
     "name": "stdout",
     "output_type": "stream",
     "text": [
      "Error fetching URL: https://www.agoda.com/partners/partnersearch.aspx?hid=445300 - Message: no such element: Unable to locate element: {\"method\":\"css selector\",\"selector\":\"a[data-element-name='property-card-content']\"}\n",
      "  (Session info: chrome=130.0.6723.117); For documentation on this error, please visit: https://www.selenium.dev/documentation/webdriver/troubleshooting/errors#no-such-element-exception\n",
      "Stacktrace:\n",
      "\tGetHandleVerifier [0x00007FF6FD4338A5+3004357]\n",
      "\t(No symbol) [0x00007FF6FD0C9970]\n",
      "\t(No symbol) [0x00007FF6FCF7582A]\n",
      "\t(No symbol) [0x00007FF6FCFC5B8E]\n",
      "\t(No symbol) [0x00007FF6FCFC5E7C]\n",
      "\t(No symbol) [0x00007FF6FD00EC27]\n",
      "\t(No symbol) [0x00007FF6FCFEBC1F]\n",
      "\t(No symbol) [0x00007FF6FD00BA4C]\n",
      "\t(No symbol) [0x00007FF6FCFEB983]\n",
      "\t(No symbol) [0x00007FF6FCFB7628]\n",
      "\t(No symbol) [0x00007FF6FCFB8791]\n",
      "\tGetHandleVerifier [0x00007FF6FD45A00D+3161901]\n",
      "\tGetHandleVerifier [0x00007FF6FD4AE060+3506048]\n",
      "\tGetHandleVerifier [0x00007FF6FD4A400D+3465005]\n",
      "\tGetHandleVerifier [0x00007FF6FD220EEB+830987]\n",
      "\t(No symbol) [0x00007FF6FD0D467F]\n",
      "\t(No symbol) [0x00007FF6FD0D09D4]\n",
      "\t(No symbol) [0x00007FF6FD0D0B6D]\n",
      "\t(No symbol) [0x00007FF6FD0C0149]\n",
      "\tBaseThreadInitThunk [0x00007FFB7AAA7374+20]\n",
      "\tRtlUserThreadStart [0x00007FFB7C37CC91+33]\n",
      "\n"
     ]
    },
    {
     "name": "stderr",
     "output_type": "stream",
     "text": [
      "Processing URLs:   4%|   | 1094/29446 [2:01:36<57:07:40,  7.25s/it]"
     ]
    },
    {
     "name": "stdout",
     "output_type": "stream",
     "text": [
      "Error fetching URL: https://www.agoda.com/partners/partnersearch.aspx?hid=445610 - Message: no such element: Unable to locate element: {\"method\":\"css selector\",\"selector\":\"a[data-element-name='property-card-content']\"}\n",
      "  (Session info: chrome=130.0.6723.117); For documentation on this error, please visit: https://www.selenium.dev/documentation/webdriver/troubleshooting/errors#no-such-element-exception\n",
      "Stacktrace:\n",
      "\tGetHandleVerifier [0x00007FF6FD4338A5+3004357]\n",
      "\t(No symbol) [0x00007FF6FD0C9970]\n",
      "\t(No symbol) [0x00007FF6FCF7582A]\n",
      "\t(No symbol) [0x00007FF6FCFC5B8E]\n",
      "\t(No symbol) [0x00007FF6FCFC5E7C]\n",
      "\t(No symbol) [0x00007FF6FD00EC27]\n",
      "\t(No symbol) [0x00007FF6FCFEBC1F]\n",
      "\t(No symbol) [0x00007FF6FD00BA4C]\n",
      "\t(No symbol) [0x00007FF6FCFEB983]\n",
      "\t(No symbol) [0x00007FF6FCFB7628]\n",
      "\t(No symbol) [0x00007FF6FCFB8791]\n",
      "\tGetHandleVerifier [0x00007FF6FD45A00D+3161901]\n",
      "\tGetHandleVerifier [0x00007FF6FD4AE060+3506048]\n",
      "\tGetHandleVerifier [0x00007FF6FD4A400D+3465005]\n",
      "\tGetHandleVerifier [0x00007FF6FD220EEB+830987]\n",
      "\t(No symbol) [0x00007FF6FD0D467F]\n",
      "\t(No symbol) [0x00007FF6FD0D09D4]\n",
      "\t(No symbol) [0x00007FF6FD0D0B6D]\n",
      "\t(No symbol) [0x00007FF6FD0C0149]\n",
      "\tBaseThreadInitThunk [0x00007FFB7AAA7374+20]\n",
      "\tRtlUserThreadStart [0x00007FFB7C37CC91+33]\n",
      "\n"
     ]
    },
    {
     "name": "stderr",
     "output_type": "stream",
     "text": [
      "Processing URLs:   4%|   | 1097/29446 [2:02:01<52:33:13,  6.67s/it]\n",
      "\n",
      "KeyboardInterrupt\n",
      "\n"
     ]
    }
   ],
   "source": [
    "import pandas as pd\n",
    "from tqdm import tqdm\n",
    "from selenium import webdriver\n",
    "from selenium.webdriver.common.by import By\n",
    "from urllib.parse import urlparse, urlunparse\n",
    "import time\n",
    "import csv\n",
    "\n",
    "# Define url_edited function\n",
    "def url_edited(url):\n",
    "    try:\n",
    "        parsed_url = urlparse(url)\n",
    "        new_path = \"/vi-vn\" + parsed_url.path\n",
    "        return urlunparse(parsed_url._replace(path=new_path, query=\"\"))\n",
    "    except Exception as e:\n",
    "        print(f\"Error editing URL: {url} - {e}\")\n",
    "        return \"\"\n",
    "\n",
    "# Define get_url function\n",
    "def get_url(url):\n",
    "    try:\n",
    "        options = webdriver.ChromeOptions()\n",
    "        driver = webdriver.Chrome(options=options)\n",
    "        driver.get(url)\n",
    "        time.sleep(2)  # Ensure the page loads\n",
    "        elem = driver.find_element(By.CSS_SELECTOR, \"a[data-element-name='property-card-content']\")\n",
    "        href = elem.get_attribute('href')\n",
    "        driver.close()\n",
    "        return url_edited(href)\n",
    "    except Exception as e:\n",
    "        print(f\"Error fetching URL: {url}\")\n",
    "        return \"\"\n",
    "\n",
    "# Initialize output files\n",
    "with open(\"url_edited.csv\", mode=\"w\", newline='', encoding=\"utf-8\") as edited_file, \\\n",
    "     open(\"crawl_again.csv\", mode=\"w\", newline='', encoding=\"utf-8\") as error_file:\n",
    "\n",
    "    # Define CSV writers\n",
    "    edited_writer = csv.DictWriter(edited_file, fieldnames=[\"url\", \"url_edited\"])\n",
    "    error_writer = csv.DictWriter(error_file, fieldnames=[\"url\"])\n",
    "    \n",
    "    # Write headers\n",
    "    edited_writer.writeheader()\n",
    "    error_writer.writeheader()\n",
    "\n",
    "# Load your DataFrame (replace with actual data source)\n",
    "# Example: df = pd.read_csv(\"input_file.csv\")\n",
    "# df = df.sample(n=100)\n",
    "\n",
    "# Process each URL\n",
    "for url in tqdm(df.url.values, desc=\"Processing URLs\"):\n",
    "    try:\n",
    "        # Fetch the edited URL\n",
    "        url_result = get_url(url)\n",
    "        if url_result:  # Check if the result is not empty\n",
    "            with open(\"url_edited.csv\", mode=\"a\", newline='', encoding=\"utf-8\") as edited_file:\n",
    "                edited_writer = csv.DictWriter(edited_file, fieldnames=[\"url\", \"url_edited\"])\n",
    "                edited_writer.writerow({\"url\": url, \"url_edited\": url_result})\n",
    "        else:\n",
    "            with open(\"crawl_again.csv\", mode=\"a\", newline='', encoding=\"utf-8\") as error_file:\n",
    "                error_writer = csv.DictWriter(error_file, fieldnames=[\"url\"])\n",
    "                error_writer.writerow({\"url\": url})\n",
    "    except Exception as e:\n",
    "        # Log the URL for retry if an exception occurs\n",
    "        with open(\"crawl_again.csv\", mode=\"a\", newline='', encoding=\"utf-8\") as error_file:\n",
    "            error_writer = csv.DictWriter(error_file, fieldnames=[\"url\"])\n",
    "            error_writer.writerow({\"url\": url})\n",
    "        print(f\"Error processing URL: {url}\")\n",
    "\n",
    "print(\"Processing completed. Check 'url_edited.csv' for results and 'crawl_again.csv' for errors.\")\n"
   ]
  }
 ],
 "metadata": {
  "kernelspec": {
   "display_name": "Python 3 (ipykernel)",
   "language": "python",
   "name": "python3"
  },
  "language_info": {
   "codemirror_mode": {
    "name": "ipython",
    "version": 3
   },
   "file_extension": ".py",
   "mimetype": "text/x-python",
   "name": "python",
   "nbconvert_exporter": "python",
   "pygments_lexer": "ipython3",
   "version": "3.12.6"
  }
 },
 "nbformat": 4,
 "nbformat_minor": 5
}
